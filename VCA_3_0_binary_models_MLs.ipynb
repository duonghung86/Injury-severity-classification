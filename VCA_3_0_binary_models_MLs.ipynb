{
  "nbformat": 4,
  "nbformat_minor": 0,
  "metadata": {
    "colab": {
      "name": "VCA_3_0_binary_models_MLs.ipynb",
      "provenance": [],
      "collapsed_sections": [],
      "toc_visible": true,
      "include_colab_link": true
    },
    "kernelspec": {
      "display_name": "Python 3",
      "language": "python",
      "name": "python3"
    },
    "language_info": {
      "codemirror_mode": {
        "name": "ipython",
        "version": 3
      },
      "file_extension": ".py",
      "mimetype": "text/x-python",
      "name": "python",
      "nbconvert_exporter": "python",
      "pygments_lexer": "ipython3",
      "version": "3.7.7"
    },
    "toc": {
      "base_numbering": 1,
      "nav_menu": {},
      "number_sections": true,
      "sideBar": true,
      "skip_h1_title": false,
      "title_cell": "Table of Contents",
      "title_sidebar": "Contents",
      "toc_cell": false,
      "toc_position": {},
      "toc_section_display": true,
      "toc_window_display": true
    }
  },
  "cells": [
    {
      "cell_type": "markdown",
      "metadata": {
        "id": "view-in-github",
        "colab_type": "text"
      },
      "source": [
        "<a href=\"https://colab.research.google.com/github/duonghung86/Injury-severity-classification/blob/main/VCA_3_0_binary_models_MLs.ipynb\" target=\"_parent\"><img src=\"https://colab.research.google.com/assets/colab-badge.svg\" alt=\"Open In Colab\"/></a>"
      ]
    },
    {
      "cell_type": "code",
      "metadata": {
        "ExecuteTime": {
          "end_time": "2020-05-22T16:58:50.479838Z",
          "start_time": "2020-05-22T16:58:42.773756Z"
        },
        "id": "1QxOQkOlJ1S_"
      },
      "source": [
        "# Basic packages\n",
        "import matplotlib.pyplot as plt\n",
        "import numpy as np\n",
        "import pandas as pd\n",
        "import tensorflow as tf\n",
        "from tensorflow import keras\n",
        "import time\n",
        "from collections import Counter"
      ],
      "execution_count": 1,
      "outputs": []
    },
    {
      "cell_type": "markdown",
      "metadata": {
        "id": "Cq34ehtsJ1Th"
      },
      "source": [
        "# Import dataset"
      ]
    },
    {
      "cell_type": "code",
      "metadata": {
        "ExecuteTime": {
          "end_time": "2020-05-22T16:58:50.489267Z",
          "start_time": "2020-05-22T16:58:50.483277Z"
        },
        "id": "zIfnkmMfKLN-",
        "outputId": "47fad32c-bbe0-4bc2-bcb7-e2cd95cfc155",
        "colab": {
          "base_uri": "https://localhost:8080/",
          "height": 241
        }
      },
      "source": [
        "df=pd.read_csv('https://raw.githubusercontent.com/duonghung86/Injury-severity-classification/main/final%20data%20nomap.csv')\n",
        "print(df.shape)\n",
        "df.head()"
      ],
      "execution_count": 2,
      "outputs": [
        {
          "output_type": "stream",
          "text": [
            "(468844, 41)\n"
          ],
          "name": "stdout"
        },
        {
          "output_type": "execute_result",
          "data": {
            "text/html": [
              "<div>\n",
              "<style scoped>\n",
              "    .dataframe tbody tr th:only-of-type {\n",
              "        vertical-align: middle;\n",
              "    }\n",
              "\n",
              "    .dataframe tbody tr th {\n",
              "        vertical-align: top;\n",
              "    }\n",
              "\n",
              "    .dataframe thead th {\n",
              "        text-align: right;\n",
              "    }\n",
              "</style>\n",
              "<table border=\"1\" class=\"dataframe\">\n",
              "  <thead>\n",
              "    <tr style=\"text-align: right;\">\n",
              "      <th></th>\n",
              "      <th>Unit_Nbr</th>\n",
              "      <th>Prsn_Type_ID</th>\n",
              "      <th>Prsn_Occpnt_Pos_ID</th>\n",
              "      <th>Prsn_Injry_Sev_ID</th>\n",
              "      <th>Prsn_Age</th>\n",
              "      <th>Prsn_Ethnicity_ID</th>\n",
              "      <th>Prsn_Gndr_ID</th>\n",
              "      <th>Prsn_Ejct_ID</th>\n",
              "      <th>Prsn_Rest_ID</th>\n",
              "      <th>Prsn_Airbag_ID</th>\n",
              "      <th>Prsn_Helmet_ID</th>\n",
              "      <th>Prsn_Drg_Rslt_ID</th>\n",
              "      <th>Day_of_Week</th>\n",
              "      <th>Rpt_Rdwy_Sys_ID</th>\n",
              "      <th>Rpt_Road_Part_ID</th>\n",
              "      <th>Toll_Road_Fl</th>\n",
              "      <th>Crash_Speed_Limit</th>\n",
              "      <th>Road_Constr_Zone_Fl</th>\n",
              "      <th>Road_Constr_Zone_Wrkr_Fl</th>\n",
              "      <th>At_Intrsct_Fl</th>\n",
              "      <th>Wthr_Cond_ID</th>\n",
              "      <th>Light_Cond_ID</th>\n",
              "      <th>Road_Algn_ID</th>\n",
              "      <th>Surf_Cond_ID</th>\n",
              "      <th>Traffic_Cntl_ID</th>\n",
              "      <th>Latitude</th>\n",
              "      <th>Longitude</th>\n",
              "      <th>Pop_Group_ID</th>\n",
              "      <th>Unit_Desc_ID</th>\n",
              "      <th>Veh_Parked_Fl</th>\n",
              "      <th>Veh_HNR_Fl</th>\n",
              "      <th>Veh_Mod_Year</th>\n",
              "      <th>Veh_Color_ID</th>\n",
              "      <th>Veh_Make_ID</th>\n",
              "      <th>Veh_Mod_ID</th>\n",
              "      <th>Veh_Body_Styl_ID</th>\n",
              "      <th>Crash_month</th>\n",
              "      <th>Crash_day</th>\n",
              "      <th>Crash_hour</th>\n",
              "      <th>Crash_min</th>\n",
              "      <th>Weekend</th>\n",
              "    </tr>\n",
              "  </thead>\n",
              "  <tbody>\n",
              "    <tr>\n",
              "      <th>0</th>\n",
              "      <td>1</td>\n",
              "      <td>1</td>\n",
              "      <td>1</td>\n",
              "      <td>0</td>\n",
              "      <td>48</td>\n",
              "      <td>1</td>\n",
              "      <td>1</td>\n",
              "      <td>1</td>\n",
              "      <td>1</td>\n",
              "      <td>2</td>\n",
              "      <td>97</td>\n",
              "      <td>97</td>\n",
              "      <td>7</td>\n",
              "      <td>2</td>\n",
              "      <td>1</td>\n",
              "      <td>0</td>\n",
              "      <td>35</td>\n",
              "      <td>0</td>\n",
              "      <td>0</td>\n",
              "      <td>1</td>\n",
              "      <td>11</td>\n",
              "      <td>1</td>\n",
              "      <td>3</td>\n",
              "      <td>1</td>\n",
              "      <td>5</td>\n",
              "      <td>30.660685</td>\n",
              "      <td>-93.893906</td>\n",
              "      <td>1</td>\n",
              "      <td>1</td>\n",
              "      <td>0</td>\n",
              "      <td>0</td>\n",
              "      <td>2002</td>\n",
              "      <td>21</td>\n",
              "      <td>107</td>\n",
              "      <td>547</td>\n",
              "      <td>69</td>\n",
              "      <td>6</td>\n",
              "      <td>15</td>\n",
              "      <td>11</td>\n",
              "      <td>0</td>\n",
              "      <td>1</td>\n",
              "    </tr>\n",
              "    <tr>\n",
              "      <th>1</th>\n",
              "      <td>2</td>\n",
              "      <td>1</td>\n",
              "      <td>1</td>\n",
              "      <td>2</td>\n",
              "      <td>58</td>\n",
              "      <td>1</td>\n",
              "      <td>2</td>\n",
              "      <td>1</td>\n",
              "      <td>1</td>\n",
              "      <td>3</td>\n",
              "      <td>97</td>\n",
              "      <td>1</td>\n",
              "      <td>7</td>\n",
              "      <td>2</td>\n",
              "      <td>1</td>\n",
              "      <td>0</td>\n",
              "      <td>35</td>\n",
              "      <td>0</td>\n",
              "      <td>0</td>\n",
              "      <td>1</td>\n",
              "      <td>11</td>\n",
              "      <td>1</td>\n",
              "      <td>3</td>\n",
              "      <td>1</td>\n",
              "      <td>5</td>\n",
              "      <td>30.660685</td>\n",
              "      <td>-93.893906</td>\n",
              "      <td>1</td>\n",
              "      <td>1</td>\n",
              "      <td>0</td>\n",
              "      <td>0</td>\n",
              "      <td>2012</td>\n",
              "      <td>17</td>\n",
              "      <td>91</td>\n",
              "      <td>629</td>\n",
              "      <td>30</td>\n",
              "      <td>6</td>\n",
              "      <td>15</td>\n",
              "      <td>11</td>\n",
              "      <td>0</td>\n",
              "      <td>1</td>\n",
              "    </tr>\n",
              "    <tr>\n",
              "      <th>2</th>\n",
              "      <td>1</td>\n",
              "      <td>1</td>\n",
              "      <td>1</td>\n",
              "      <td>0</td>\n",
              "      <td>68</td>\n",
              "      <td>1</td>\n",
              "      <td>1</td>\n",
              "      <td>1</td>\n",
              "      <td>1</td>\n",
              "      <td>2</td>\n",
              "      <td>97</td>\n",
              "      <td>97</td>\n",
              "      <td>4</td>\n",
              "      <td>2</td>\n",
              "      <td>1</td>\n",
              "      <td>0</td>\n",
              "      <td>45</td>\n",
              "      <td>0</td>\n",
              "      <td>0</td>\n",
              "      <td>0</td>\n",
              "      <td>11</td>\n",
              "      <td>1</td>\n",
              "      <td>1</td>\n",
              "      <td>1</td>\n",
              "      <td>20</td>\n",
              "      <td>33.203920</td>\n",
              "      <td>-96.596654</td>\n",
              "      <td>8</td>\n",
              "      <td>1</td>\n",
              "      <td>0</td>\n",
              "      <td>0</td>\n",
              "      <td>1996</td>\n",
              "      <td>21</td>\n",
              "      <td>672</td>\n",
              "      <td>2103</td>\n",
              "      <td>87</td>\n",
              "      <td>6</td>\n",
              "      <td>12</td>\n",
              "      <td>9</td>\n",
              "      <td>53</td>\n",
              "      <td>0</td>\n",
              "    </tr>\n",
              "    <tr>\n",
              "      <th>3</th>\n",
              "      <td>3</td>\n",
              "      <td>1</td>\n",
              "      <td>1</td>\n",
              "      <td>0</td>\n",
              "      <td>67</td>\n",
              "      <td>1</td>\n",
              "      <td>2</td>\n",
              "      <td>1</td>\n",
              "      <td>1</td>\n",
              "      <td>4</td>\n",
              "      <td>97</td>\n",
              "      <td>97</td>\n",
              "      <td>4</td>\n",
              "      <td>2</td>\n",
              "      <td>1</td>\n",
              "      <td>0</td>\n",
              "      <td>45</td>\n",
              "      <td>0</td>\n",
              "      <td>0</td>\n",
              "      <td>0</td>\n",
              "      <td>11</td>\n",
              "      <td>1</td>\n",
              "      <td>1</td>\n",
              "      <td>1</td>\n",
              "      <td>20</td>\n",
              "      <td>33.203920</td>\n",
              "      <td>-96.596654</td>\n",
              "      <td>8</td>\n",
              "      <td>1</td>\n",
              "      <td>0</td>\n",
              "      <td>0</td>\n",
              "      <td>2016</td>\n",
              "      <td>21</td>\n",
              "      <td>44</td>\n",
              "      <td>605</td>\n",
              "      <td>69</td>\n",
              "      <td>6</td>\n",
              "      <td>12</td>\n",
              "      <td>9</td>\n",
              "      <td>53</td>\n",
              "      <td>0</td>\n",
              "    </tr>\n",
              "    <tr>\n",
              "      <th>4</th>\n",
              "      <td>1</td>\n",
              "      <td>1</td>\n",
              "      <td>1</td>\n",
              "      <td>0</td>\n",
              "      <td>36</td>\n",
              "      <td>2</td>\n",
              "      <td>2</td>\n",
              "      <td>1</td>\n",
              "      <td>1</td>\n",
              "      <td>2</td>\n",
              "      <td>97</td>\n",
              "      <td>97</td>\n",
              "      <td>3</td>\n",
              "      <td>19</td>\n",
              "      <td>1</td>\n",
              "      <td>0</td>\n",
              "      <td>35</td>\n",
              "      <td>0</td>\n",
              "      <td>0</td>\n",
              "      <td>0</td>\n",
              "      <td>12</td>\n",
              "      <td>1</td>\n",
              "      <td>2</td>\n",
              "      <td>1</td>\n",
              "      <td>10</td>\n",
              "      <td>29.792394</td>\n",
              "      <td>-95.746539</td>\n",
              "      <td>0</td>\n",
              "      <td>1</td>\n",
              "      <td>0</td>\n",
              "      <td>0</td>\n",
              "      <td>2014</td>\n",
              "      <td>2</td>\n",
              "      <td>91</td>\n",
              "      <td>380</td>\n",
              "      <td>104</td>\n",
              "      <td>6</td>\n",
              "      <td>4</td>\n",
              "      <td>15</td>\n",
              "      <td>7</td>\n",
              "      <td>0</td>\n",
              "    </tr>\n",
              "  </tbody>\n",
              "</table>\n",
              "</div>"
            ],
            "text/plain": [
              "   Unit_Nbr  Prsn_Type_ID  Prsn_Occpnt_Pos_ID  ...  Crash_hour  Crash_min  Weekend\n",
              "0         1             1                   1  ...          11          0        1\n",
              "1         2             1                   1  ...          11          0        1\n",
              "2         1             1                   1  ...           9         53        0\n",
              "3         3             1                   1  ...           9         53        0\n",
              "4         1             1                   1  ...          15          7        0\n",
              "\n",
              "[5 rows x 41 columns]"
            ]
          },
          "metadata": {
            "tags": []
          },
          "execution_count": 2
        }
      ]
    },
    {
      "cell_type": "code",
      "metadata": {
        "ExecuteTime": {
          "end_time": "2020-05-22T16:59:01.505031Z",
          "start_time": "2020-05-22T16:59:01.492554Z"
        },
        "id": "0yIHRk4sJ1Tx",
        "outputId": "2c26b27c-deab-4c7c-a5ae-d1286a62ba19",
        "colab": {
          "base_uri": "https://localhost:8080/",
          "height": 119
        }
      },
      "source": [
        "y=df['Prsn_Injry_Sev_ID']\n",
        "y.value_counts()"
      ],
      "execution_count": 3,
      "outputs": [
        {
          "output_type": "execute_result",
          "data": {
            "text/plain": [
              "0    384890\n",
              "1     53032\n",
              "2     24859\n",
              "3      4959\n",
              "4      1104\n",
              "Name: Prsn_Injry_Sev_ID, dtype: int64"
            ]
          },
          "metadata": {
            "tags": []
          },
          "execution_count": 3
        }
      ]
    },
    {
      "cell_type": "code",
      "metadata": {
        "id": "e--sth53sUJ2",
        "outputId": "5497d455-a022-4798-d44c-52342882db66",
        "colab": {
          "base_uri": "https://localhost:8080/",
          "height": 34
        }
      },
      "source": [
        "X = df.drop(columns=['Prsn_Injry_Sev_ID'])\n",
        "X.shape"
      ],
      "execution_count": 4,
      "outputs": [
        {
          "output_type": "execute_result",
          "data": {
            "text/plain": [
              "(468844, 40)"
            ]
          },
          "metadata": {
            "tags": []
          },
          "execution_count": 4
        }
      ]
    },
    {
      "cell_type": "markdown",
      "metadata": {
        "id": "zwJyLsYwbHPN"
      },
      "source": [
        "# Prepare 5 different data set and labels:\n",
        "\n",
        "1. No injury (0) vs injury (1/2/3/4)\n",
        "2. Possible injury (1) vs real injury (2/3/4)\n",
        "3. Non-incapaciting (2) vs severe injury (3/4)\n",
        "4. Incapacitating (3) vs Fatal (4) "
      ]
    },
    {
      "cell_type": "code",
      "metadata": {
        "id": "NDp8cFdFcMk6",
        "outputId": "d0c00f54-9a48-4b6a-c115-153542df8781",
        "colab": {
          "base_uri": "https://localhost:8080/",
          "height": 153
        }
      },
      "source": [
        "sets = {}\n",
        "for i in range(4):\n",
        "  sub_df = df[df.Prsn_Injry_Sev_ID.isin(np.arange(i,5))].copy()\n",
        "  y_i = np.where(sub_df.Prsn_Injry_Sev_ID==i,0,1)\n",
        "  print(Counter(y_i))\n",
        "  X_i = sub_df.drop(columns=['Prsn_Injry_Sev_ID']).copy()\n",
        "  print(X_i.shape)\n",
        "  sets[i] = (X_i,y_i)"
      ],
      "execution_count": 5,
      "outputs": [
        {
          "output_type": "stream",
          "text": [
            "Counter({0: 384890, 1: 83954})\n",
            "(468844, 40)\n",
            "Counter({0: 53032, 1: 30922})\n",
            "(83954, 40)\n",
            "Counter({0: 24859, 1: 6063})\n",
            "(30922, 40)\n",
            "Counter({0: 4959, 1: 1104})\n",
            "(6063, 40)\n"
          ],
          "name": "stdout"
        }
      ]
    },
    {
      "cell_type": "code",
      "metadata": {
        "id": "Y3ZgNXjFcNND",
        "outputId": "8d618c14-93f5-49fc-9acd-dfed6f639113",
        "colab": {
          "base_uri": "https://localhost:8080/",
          "height": 439
        }
      },
      "source": [
        "sets[1][0]"
      ],
      "execution_count": 6,
      "outputs": [
        {
          "output_type": "execute_result",
          "data": {
            "text/html": [
              "<div>\n",
              "<style scoped>\n",
              "    .dataframe tbody tr th:only-of-type {\n",
              "        vertical-align: middle;\n",
              "    }\n",
              "\n",
              "    .dataframe tbody tr th {\n",
              "        vertical-align: top;\n",
              "    }\n",
              "\n",
              "    .dataframe thead th {\n",
              "        text-align: right;\n",
              "    }\n",
              "</style>\n",
              "<table border=\"1\" class=\"dataframe\">\n",
              "  <thead>\n",
              "    <tr style=\"text-align: right;\">\n",
              "      <th></th>\n",
              "      <th>Unit_Nbr</th>\n",
              "      <th>Prsn_Type_ID</th>\n",
              "      <th>Prsn_Occpnt_Pos_ID</th>\n",
              "      <th>Prsn_Age</th>\n",
              "      <th>Prsn_Ethnicity_ID</th>\n",
              "      <th>Prsn_Gndr_ID</th>\n",
              "      <th>Prsn_Ejct_ID</th>\n",
              "      <th>Prsn_Rest_ID</th>\n",
              "      <th>Prsn_Airbag_ID</th>\n",
              "      <th>Prsn_Helmet_ID</th>\n",
              "      <th>Prsn_Drg_Rslt_ID</th>\n",
              "      <th>Day_of_Week</th>\n",
              "      <th>Rpt_Rdwy_Sys_ID</th>\n",
              "      <th>Rpt_Road_Part_ID</th>\n",
              "      <th>Toll_Road_Fl</th>\n",
              "      <th>Crash_Speed_Limit</th>\n",
              "      <th>Road_Constr_Zone_Fl</th>\n",
              "      <th>Road_Constr_Zone_Wrkr_Fl</th>\n",
              "      <th>At_Intrsct_Fl</th>\n",
              "      <th>Wthr_Cond_ID</th>\n",
              "      <th>Light_Cond_ID</th>\n",
              "      <th>Road_Algn_ID</th>\n",
              "      <th>Surf_Cond_ID</th>\n",
              "      <th>Traffic_Cntl_ID</th>\n",
              "      <th>Latitude</th>\n",
              "      <th>Longitude</th>\n",
              "      <th>Pop_Group_ID</th>\n",
              "      <th>Unit_Desc_ID</th>\n",
              "      <th>Veh_Parked_Fl</th>\n",
              "      <th>Veh_HNR_Fl</th>\n",
              "      <th>Veh_Mod_Year</th>\n",
              "      <th>Veh_Color_ID</th>\n",
              "      <th>Veh_Make_ID</th>\n",
              "      <th>Veh_Mod_ID</th>\n",
              "      <th>Veh_Body_Styl_ID</th>\n",
              "      <th>Crash_month</th>\n",
              "      <th>Crash_day</th>\n",
              "      <th>Crash_hour</th>\n",
              "      <th>Crash_min</th>\n",
              "      <th>Weekend</th>\n",
              "    </tr>\n",
              "  </thead>\n",
              "  <tbody>\n",
              "    <tr>\n",
              "      <th>1</th>\n",
              "      <td>2</td>\n",
              "      <td>1</td>\n",
              "      <td>1</td>\n",
              "      <td>58</td>\n",
              "      <td>1</td>\n",
              "      <td>2</td>\n",
              "      <td>1</td>\n",
              "      <td>1</td>\n",
              "      <td>3</td>\n",
              "      <td>97</td>\n",
              "      <td>1</td>\n",
              "      <td>7</td>\n",
              "      <td>2</td>\n",
              "      <td>1</td>\n",
              "      <td>0</td>\n",
              "      <td>35</td>\n",
              "      <td>0</td>\n",
              "      <td>0</td>\n",
              "      <td>1</td>\n",
              "      <td>11</td>\n",
              "      <td>1</td>\n",
              "      <td>3</td>\n",
              "      <td>1</td>\n",
              "      <td>5</td>\n",
              "      <td>30.660685</td>\n",
              "      <td>-93.893906</td>\n",
              "      <td>1</td>\n",
              "      <td>1</td>\n",
              "      <td>0</td>\n",
              "      <td>0</td>\n",
              "      <td>2012</td>\n",
              "      <td>17</td>\n",
              "      <td>91</td>\n",
              "      <td>629</td>\n",
              "      <td>30</td>\n",
              "      <td>6</td>\n",
              "      <td>15</td>\n",
              "      <td>11</td>\n",
              "      <td>0</td>\n",
              "      <td>1</td>\n",
              "    </tr>\n",
              "    <tr>\n",
              "      <th>7</th>\n",
              "      <td>1</td>\n",
              "      <td>5</td>\n",
              "      <td>1</td>\n",
              "      <td>61</td>\n",
              "      <td>1</td>\n",
              "      <td>1</td>\n",
              "      <td>4</td>\n",
              "      <td>11</td>\n",
              "      <td>1</td>\n",
              "      <td>4</td>\n",
              "      <td>97</td>\n",
              "      <td>7</td>\n",
              "      <td>2</td>\n",
              "      <td>1</td>\n",
              "      <td>0</td>\n",
              "      <td>60</td>\n",
              "      <td>0</td>\n",
              "      <td>0</td>\n",
              "      <td>0</td>\n",
              "      <td>12</td>\n",
              "      <td>3</td>\n",
              "      <td>2</td>\n",
              "      <td>1</td>\n",
              "      <td>20</td>\n",
              "      <td>30.233210</td>\n",
              "      <td>-97.919122</td>\n",
              "      <td>0</td>\n",
              "      <td>1</td>\n",
              "      <td>0</td>\n",
              "      <td>0</td>\n",
              "      <td>2013</td>\n",
              "      <td>2</td>\n",
              "      <td>42</td>\n",
              "      <td>3118</td>\n",
              "      <td>71</td>\n",
              "      <td>6</td>\n",
              "      <td>1</td>\n",
              "      <td>0</td>\n",
              "      <td>35</td>\n",
              "      <td>1</td>\n",
              "    </tr>\n",
              "    <tr>\n",
              "      <th>8</th>\n",
              "      <td>1</td>\n",
              "      <td>5</td>\n",
              "      <td>1</td>\n",
              "      <td>49</td>\n",
              "      <td>3</td>\n",
              "      <td>1</td>\n",
              "      <td>4</td>\n",
              "      <td>11</td>\n",
              "      <td>1</td>\n",
              "      <td>4</td>\n",
              "      <td>97</td>\n",
              "      <td>7</td>\n",
              "      <td>3</td>\n",
              "      <td>1</td>\n",
              "      <td>0</td>\n",
              "      <td>60</td>\n",
              "      <td>0</td>\n",
              "      <td>0</td>\n",
              "      <td>0</td>\n",
              "      <td>11</td>\n",
              "      <td>3</td>\n",
              "      <td>1</td>\n",
              "      <td>1</td>\n",
              "      <td>20</td>\n",
              "      <td>32.683451</td>\n",
              "      <td>-97.062545</td>\n",
              "      <td>9</td>\n",
              "      <td>1</td>\n",
              "      <td>0</td>\n",
              "      <td>0</td>\n",
              "      <td>2019</td>\n",
              "      <td>3</td>\n",
              "      <td>42</td>\n",
              "      <td>3174</td>\n",
              "      <td>71</td>\n",
              "      <td>6</td>\n",
              "      <td>1</td>\n",
              "      <td>2</td>\n",
              "      <td>8</td>\n",
              "      <td>1</td>\n",
              "    </tr>\n",
              "    <tr>\n",
              "      <th>10</th>\n",
              "      <td>1</td>\n",
              "      <td>5</td>\n",
              "      <td>1</td>\n",
              "      <td>25</td>\n",
              "      <td>4</td>\n",
              "      <td>1</td>\n",
              "      <td>4</td>\n",
              "      <td>11</td>\n",
              "      <td>1</td>\n",
              "      <td>1</td>\n",
              "      <td>97</td>\n",
              "      <td>7</td>\n",
              "      <td>1</td>\n",
              "      <td>1</td>\n",
              "      <td>0</td>\n",
              "      <td>70</td>\n",
              "      <td>0</td>\n",
              "      <td>0</td>\n",
              "      <td>0</td>\n",
              "      <td>11</td>\n",
              "      <td>4</td>\n",
              "      <td>1</td>\n",
              "      <td>1</td>\n",
              "      <td>20</td>\n",
              "      <td>33.038358</td>\n",
              "      <td>-97.001723</td>\n",
              "      <td>7</td>\n",
              "      <td>1</td>\n",
              "      <td>0</td>\n",
              "      <td>0</td>\n",
              "      <td>2018</td>\n",
              "      <td>2</td>\n",
              "      <td>44</td>\n",
              "      <td>4803</td>\n",
              "      <td>71</td>\n",
              "      <td>6</td>\n",
              "      <td>1</td>\n",
              "      <td>2</td>\n",
              "      <td>26</td>\n",
              "      <td>1</td>\n",
              "    </tr>\n",
              "    <tr>\n",
              "      <th>11</th>\n",
              "      <td>1</td>\n",
              "      <td>1</td>\n",
              "      <td>1</td>\n",
              "      <td>53</td>\n",
              "      <td>1</td>\n",
              "      <td>1</td>\n",
              "      <td>1</td>\n",
              "      <td>1</td>\n",
              "      <td>8</td>\n",
              "      <td>97</td>\n",
              "      <td>0</td>\n",
              "      <td>7</td>\n",
              "      <td>12</td>\n",
              "      <td>2</td>\n",
              "      <td>0</td>\n",
              "      <td>50</td>\n",
              "      <td>0</td>\n",
              "      <td>0</td>\n",
              "      <td>0</td>\n",
              "      <td>11</td>\n",
              "      <td>4</td>\n",
              "      <td>4</td>\n",
              "      <td>1</td>\n",
              "      <td>20</td>\n",
              "      <td>32.986784</td>\n",
              "      <td>-96.992823</td>\n",
              "      <td>7</td>\n",
              "      <td>1</td>\n",
              "      <td>0</td>\n",
              "      <td>0</td>\n",
              "      <td>2007</td>\n",
              "      <td>16</td>\n",
              "      <td>14</td>\n",
              "      <td>2180</td>\n",
              "      <td>100</td>\n",
              "      <td>6</td>\n",
              "      <td>1</td>\n",
              "      <td>2</td>\n",
              "      <td>0</td>\n",
              "      <td>1</td>\n",
              "    </tr>\n",
              "    <tr>\n",
              "      <th>...</th>\n",
              "      <td>...</td>\n",
              "      <td>...</td>\n",
              "      <td>...</td>\n",
              "      <td>...</td>\n",
              "      <td>...</td>\n",
              "      <td>...</td>\n",
              "      <td>...</td>\n",
              "      <td>...</td>\n",
              "      <td>...</td>\n",
              "      <td>...</td>\n",
              "      <td>...</td>\n",
              "      <td>...</td>\n",
              "      <td>...</td>\n",
              "      <td>...</td>\n",
              "      <td>...</td>\n",
              "      <td>...</td>\n",
              "      <td>...</td>\n",
              "      <td>...</td>\n",
              "      <td>...</td>\n",
              "      <td>...</td>\n",
              "      <td>...</td>\n",
              "      <td>...</td>\n",
              "      <td>...</td>\n",
              "      <td>...</td>\n",
              "      <td>...</td>\n",
              "      <td>...</td>\n",
              "      <td>...</td>\n",
              "      <td>...</td>\n",
              "      <td>...</td>\n",
              "      <td>...</td>\n",
              "      <td>...</td>\n",
              "      <td>...</td>\n",
              "      <td>...</td>\n",
              "      <td>...</td>\n",
              "      <td>...</td>\n",
              "      <td>...</td>\n",
              "      <td>...</td>\n",
              "      <td>...</td>\n",
              "      <td>...</td>\n",
              "      <td>...</td>\n",
              "    </tr>\n",
              "    <tr>\n",
              "      <th>468800</th>\n",
              "      <td>2</td>\n",
              "      <td>1</td>\n",
              "      <td>1</td>\n",
              "      <td>50</td>\n",
              "      <td>0</td>\n",
              "      <td>1</td>\n",
              "      <td>1</td>\n",
              "      <td>1</td>\n",
              "      <td>8</td>\n",
              "      <td>97</td>\n",
              "      <td>97</td>\n",
              "      <td>7</td>\n",
              "      <td>2</td>\n",
              "      <td>1</td>\n",
              "      <td>0</td>\n",
              "      <td>-1</td>\n",
              "      <td>0</td>\n",
              "      <td>0</td>\n",
              "      <td>1</td>\n",
              "      <td>0</td>\n",
              "      <td>1</td>\n",
              "      <td>1</td>\n",
              "      <td>0</td>\n",
              "      <td>5</td>\n",
              "      <td>30.469010</td>\n",
              "      <td>-97.797201</td>\n",
              "      <td>9</td>\n",
              "      <td>1</td>\n",
              "      <td>0</td>\n",
              "      <td>0</td>\n",
              "      <td>2015</td>\n",
              "      <td>5</td>\n",
              "      <td>106</td>\n",
              "      <td>1373</td>\n",
              "      <td>69</td>\n",
              "      <td>11</td>\n",
              "      <td>30</td>\n",
              "      <td>8</td>\n",
              "      <td>28</td>\n",
              "      <td>1</td>\n",
              "    </tr>\n",
              "    <tr>\n",
              "      <th>468802</th>\n",
              "      <td>1</td>\n",
              "      <td>1</td>\n",
              "      <td>1</td>\n",
              "      <td>68</td>\n",
              "      <td>1</td>\n",
              "      <td>1</td>\n",
              "      <td>1</td>\n",
              "      <td>1</td>\n",
              "      <td>2</td>\n",
              "      <td>97</td>\n",
              "      <td>97</td>\n",
              "      <td>7</td>\n",
              "      <td>2</td>\n",
              "      <td>1</td>\n",
              "      <td>0</td>\n",
              "      <td>55</td>\n",
              "      <td>0</td>\n",
              "      <td>0</td>\n",
              "      <td>1</td>\n",
              "      <td>12</td>\n",
              "      <td>1</td>\n",
              "      <td>1</td>\n",
              "      <td>1</td>\n",
              "      <td>5</td>\n",
              "      <td>27.298972</td>\n",
              "      <td>-97.815207</td>\n",
              "      <td>0</td>\n",
              "      <td>1</td>\n",
              "      <td>0</td>\n",
              "      <td>0</td>\n",
              "      <td>2018</td>\n",
              "      <td>9</td>\n",
              "      <td>91</td>\n",
              "      <td>581</td>\n",
              "      <td>104</td>\n",
              "      <td>11</td>\n",
              "      <td>30</td>\n",
              "      <td>9</td>\n",
              "      <td>50</td>\n",
              "      <td>1</td>\n",
              "    </tr>\n",
              "    <tr>\n",
              "      <th>468820</th>\n",
              "      <td>1</td>\n",
              "      <td>1</td>\n",
              "      <td>1</td>\n",
              "      <td>25</td>\n",
              "      <td>3</td>\n",
              "      <td>2</td>\n",
              "      <td>1</td>\n",
              "      <td>1</td>\n",
              "      <td>2</td>\n",
              "      <td>97</td>\n",
              "      <td>97</td>\n",
              "      <td>5</td>\n",
              "      <td>19</td>\n",
              "      <td>1</td>\n",
              "      <td>0</td>\n",
              "      <td>30</td>\n",
              "      <td>0</td>\n",
              "      <td>0</td>\n",
              "      <td>0</td>\n",
              "      <td>11</td>\n",
              "      <td>1</td>\n",
              "      <td>1</td>\n",
              "      <td>1</td>\n",
              "      <td>8</td>\n",
              "      <td>32.164157</td>\n",
              "      <td>-94.328827</td>\n",
              "      <td>4</td>\n",
              "      <td>1</td>\n",
              "      <td>0</td>\n",
              "      <td>0</td>\n",
              "      <td>2008</td>\n",
              "      <td>16</td>\n",
              "      <td>37</td>\n",
              "      <td>1097</td>\n",
              "      <td>104</td>\n",
              "      <td>11</td>\n",
              "      <td>21</td>\n",
              "      <td>9</td>\n",
              "      <td>0</td>\n",
              "      <td>0</td>\n",
              "    </tr>\n",
              "    <tr>\n",
              "      <th>468833</th>\n",
              "      <td>1</td>\n",
              "      <td>1</td>\n",
              "      <td>1</td>\n",
              "      <td>71</td>\n",
              "      <td>2</td>\n",
              "      <td>2</td>\n",
              "      <td>1</td>\n",
              "      <td>1</td>\n",
              "      <td>2</td>\n",
              "      <td>97</td>\n",
              "      <td>97</td>\n",
              "      <td>7</td>\n",
              "      <td>19</td>\n",
              "      <td>1</td>\n",
              "      <td>0</td>\n",
              "      <td>35</td>\n",
              "      <td>0</td>\n",
              "      <td>0</td>\n",
              "      <td>1</td>\n",
              "      <td>11</td>\n",
              "      <td>1</td>\n",
              "      <td>5</td>\n",
              "      <td>1</td>\n",
              "      <td>8</td>\n",
              "      <td>32.674059</td>\n",
              "      <td>-96.998106</td>\n",
              "      <td>8</td>\n",
              "      <td>1</td>\n",
              "      <td>0</td>\n",
              "      <td>0</td>\n",
              "      <td>1998</td>\n",
              "      <td>10</td>\n",
              "      <td>107</td>\n",
              "      <td>57</td>\n",
              "      <td>100</td>\n",
              "      <td>11</td>\n",
              "      <td>30</td>\n",
              "      <td>11</td>\n",
              "      <td>6</td>\n",
              "      <td>1</td>\n",
              "    </tr>\n",
              "    <tr>\n",
              "      <th>468841</th>\n",
              "      <td>2</td>\n",
              "      <td>1</td>\n",
              "      <td>1</td>\n",
              "      <td>57</td>\n",
              "      <td>3</td>\n",
              "      <td>2</td>\n",
              "      <td>1</td>\n",
              "      <td>1</td>\n",
              "      <td>2</td>\n",
              "      <td>97</td>\n",
              "      <td>97</td>\n",
              "      <td>2</td>\n",
              "      <td>2</td>\n",
              "      <td>1</td>\n",
              "      <td>0</td>\n",
              "      <td>55</td>\n",
              "      <td>0</td>\n",
              "      <td>0</td>\n",
              "      <td>0</td>\n",
              "      <td>11</td>\n",
              "      <td>1</td>\n",
              "      <td>1</td>\n",
              "      <td>1</td>\n",
              "      <td>8</td>\n",
              "      <td>32.756880</td>\n",
              "      <td>-94.354907</td>\n",
              "      <td>1</td>\n",
              "      <td>1</td>\n",
              "      <td>0</td>\n",
              "      <td>0</td>\n",
              "      <td>2013</td>\n",
              "      <td>2</td>\n",
              "      <td>91</td>\n",
              "      <td>173</td>\n",
              "      <td>104</td>\n",
              "      <td>11</td>\n",
              "      <td>25</td>\n",
              "      <td>11</td>\n",
              "      <td>6</td>\n",
              "      <td>0</td>\n",
              "    </tr>\n",
              "  </tbody>\n",
              "</table>\n",
              "<p>83954 rows × 40 columns</p>\n",
              "</div>"
            ],
            "text/plain": [
              "        Unit_Nbr  Prsn_Type_ID  ...  Crash_min  Weekend\n",
              "1              2             1  ...          0        1\n",
              "7              1             5  ...         35        1\n",
              "8              1             5  ...          8        1\n",
              "10             1             5  ...         26        1\n",
              "11             1             1  ...          0        1\n",
              "...          ...           ...  ...        ...      ...\n",
              "468800         2             1  ...         28        1\n",
              "468802         1             1  ...         50        1\n",
              "468820         1             1  ...          0        0\n",
              "468833         1             1  ...          6        1\n",
              "468841         2             1  ...          6        0\n",
              "\n",
              "[83954 rows x 40 columns]"
            ]
          },
          "metadata": {
            "tags": []
          },
          "execution_count": 6
        }
      ]
    },
    {
      "cell_type": "markdown",
      "metadata": {
        "id": "T3fWsSaRsUKY"
      },
      "source": [
        "## Function to compute performance\n"
      ]
    },
    {
      "cell_type": "code",
      "metadata": {
        "id": "IFQr2WAdsUKZ",
        "outputId": "0a736ccf-4b22-4be5-9304-fc1f51c0cc2b",
        "colab": {
          "base_uri": "https://localhost:8080/",
          "height": 139
        }
      },
      "source": [
        "from sklearn.metrics import confusion_matrix\n",
        "import seaborn as sns\n",
        "from imblearn.metrics import geometric_mean_score\n",
        "from sklearn.metrics import auc"
      ],
      "execution_count": 7,
      "outputs": [
        {
          "output_type": "stream",
          "text": [
            "/usr/local/lib/python3.6/dist-packages/sklearn/externals/six.py:31: FutureWarning: The module is deprecated in version 0.21 and will be removed in version 0.23 since we've dropped support for Python 2.7. Please rely on the official version of six (https://pypi.org/project/six/).\n",
            "  \"(https://pypi.org/project/six/).\", FutureWarning)\n",
            "/usr/local/lib/python3.6/dist-packages/sklearn/utils/deprecation.py:144: FutureWarning: The sklearn.neighbors.base module is  deprecated in version 0.22 and will be removed in version 0.24. The corresponding classes / functions should instead be imported from sklearn.neighbors. Anything that cannot be imported from sklearn.neighbors is now part of the private API.\n",
            "  warnings.warn(message, FutureWarning)\n",
            "/usr/local/lib/python3.6/dist-packages/sklearn/utils/deprecation.py:144: FutureWarning: The sklearn.metrics.classification module is  deprecated in version 0.22 and will be removed in version 0.24. The corresponding classes / functions should instead be imported from sklearn.metrics. Anything that cannot be imported from sklearn.metrics is now part of the private API.\n",
            "  warnings.warn(message, FutureWarning)\n"
          ],
          "name": "stderr"
        }
      ]
    },
    {
      "cell_type": "code",
      "metadata": {
        "id": "HJQtO1insUKd",
        "outputId": "76717ec0-1693-4903-b2a6-cd807c8cab91",
        "colab": {
          "base_uri": "https://localhost:8080/",
          "height": 523
        }
      },
      "source": [
        "def get_accs(label,prediction, show=True):\n",
        "    cm = confusion_matrix(label,prediction)\n",
        "    length = cm.shape[0]\n",
        "    num_cases = len(label)\n",
        "    # global accuracy\n",
        "    glb_acc = np.trace(cm)/len(label)\n",
        "    ind_accs = cm/np.sum(cm,axis=1)[:, np.newaxis]\n",
        "    accs = [ind_accs[i,i] for i in range(length)]\n",
        "    accs.insert(0,glb_acc)\n",
        "    # G-mean\n",
        "    accs.append(geometric_mean_score(label, prediction,correction=0.001))\n",
        "\n",
        "    if show:\n",
        "        plt.figure(figsize=(14, 6))\n",
        "        plt.subplot(1,2,1)\n",
        "        sns.heatmap(cm, xticklabels=np.arange(length), yticklabels=np.arange(length), \n",
        "                    annot=True, fmt='g',cmap=\"YlGnBu\")\n",
        "        plt.xlabel('Prediction')\n",
        "        plt.ylabel('Label')\n",
        "        plt.title('Confusion matrix')\n",
        "        plt.subplot(1,2,2)\n",
        "        sns.heatmap(ind_accs*100, xticklabels=np.arange(length), yticklabels=np.arange(length), \n",
        "                    annot=True, fmt='.2f',cmap=\"YlGnBu\")\n",
        "        plt.xlabel('Prediction')\n",
        "        plt.ylabel('Label')\n",
        "        plt.title('Normalized confusion matrix (%)')\n",
        "        plt.show()\n",
        "    return accs\n",
        "get_accs(np.random.randint(5, size=100),np.random.randint(5, size=100))"
      ],
      "execution_count": 8,
      "outputs": [
        {
          "output_type": "display_data",
          "data": {
            "image/png": "[encoded data removed]",
            "text/plain": [
              "<Figure size 1008x432 with 4 Axes>"
            ]
          },
          "metadata": {
            "tags": [],
            "needs_background": "light"
          }
        },
        {
          "output_type": "execute_result",
          "data": {
            "text/plain": [
              "[0.14,\n",
              " 0.17647058823529413,\n",
              " 0.13636363636363635,\n",
              " 0.1,\n",
              " 0.10526315789473684,\n",
              " 0.18181818181818182,\n",
              " 0.13572408500039698]"
            ]
          },
          "metadata": {
            "tags": []
          },
          "execution_count": 8
        }
      ]
    },
    {
      "cell_type": "markdown",
      "metadata": {
        "id": "-pN3nxIjkJgb"
      },
      "source": [
        "# Run 4 binary model without any techniques"
      ]
    },
    {
      "cell_type": "markdown",
      "metadata": {
        "id": "8Wv1fq_D7Gi4"
      },
      "source": [
        "## Function to train a model"
      ]
    },
    {
      "cell_type": "code",
      "metadata": {
        "id": "mMpQqGrz_6nf"
      },
      "source": [
        "from sklearn.linear_model import LogisticRegression\n",
        "from sklearn.tree import DecisionTreeClassifier\n",
        "from sklearn.ensemble import RandomForestClassifier\n",
        "from sklearn.naive_bayes import GaussianNB\n",
        "from sklearn.linear_model import SGDClassifier\n",
        "from sklearn.naive_bayes import ComplementNB\n",
        "from sklearn.preprocessing import StandardScaler\n",
        "from sklearn.model_selection import train_test_split"
      ],
      "execution_count": 9,
      "outputs": []
    },
    {
      "cell_type": "code",
      "metadata": {
        "id": "LnqtJVyqQiF3"
      },
      "source": [
        "def prepare_data(X_dat,label):\n",
        "  # Split data set \n",
        "  X_train, X_test, y_train, y_test = train_test_split(X_dat,label,test_size=0.2,stratify=label, random_state=48)\n",
        "  #print('Training features shape:', X_train.shape)\n",
        "  #print('Test features shape:', X_test.shape)\n",
        "  \n",
        "  # Standardize the data \n",
        "  scaler = StandardScaler()\n",
        "  X_train = scaler.fit_transform(X_train)\n",
        "  X_test = scaler.transform(X_test)\n",
        "  return X_train, X_test, y_train, y_test"
      ],
      "execution_count": 10,
      "outputs": []
    },
    {
      "cell_type": "code",
      "metadata": {
        "id": "VGXI5BFckI3G",
        "outputId": "ca1885c9-c310-4aa1-f548-dbee7cb616a2",
        "colab": {
          "base_uri": "https://localhost:8080/",
          "height": 156
        }
      },
      "source": [
        "def train_model(X_tr, X_te, y_tr, y_te, model):\n",
        "\n",
        "  # and then train it with Logistic Regression\n",
        "  start = time.time()\n",
        "  model.fit(X_tr, y_tr)\n",
        "  # use the model to make predictions with the test data\n",
        "  y_pred = model.predict(X_te)\n",
        "  end= time.time()\n",
        "\n",
        "  # get the evaluation metrics\n",
        "  result = get_accs(y_te,y_pred,False)\n",
        "  result.append(end-start)\n",
        "  return result\n",
        "X_train, X_test, y_train, y_test = prepare_data(sets[3][0],sets[3][1])\n",
        "train_model(X_train, X_test, y_train, y_test, SGDClassifier(loss=\"hinge\", penalty=\"l2\", max_iter=5))"
      ],
      "execution_count": 11,
      "outputs": [
        {
          "output_type": "stream",
          "text": [
            "/usr/local/lib/python3.6/dist-packages/sklearn/linear_model/_stochastic_gradient.py:557: ConvergenceWarning: Maximum number of iteration reached before convergence. Consider increasing max_iter to improve the fit.\n",
            "  ConvergenceWarning)\n"
          ],
          "name": "stderr"
        },
        {
          "output_type": "execute_result",
          "data": {
            "text/plain": [
              "[0.7947238252267106,\n",
              " 0.8830645161290323,\n",
              " 0.39819004524886875,\n",
              " 0.5929818712533207,\n",
              " 0.006388187408447266]"
            ]
          },
          "metadata": {
            "tags": []
          },
          "execution_count": 11
        }
      ]
    },
    {
      "cell_type": "markdown",
      "metadata": {
        "id": "Lxjnrxtw7KnI"
      },
      "source": [
        "## Train all 4 models with logistic regression"
      ]
    },
    {
      "cell_type": "code",
      "metadata": {
        "id": "pdJdWt1H-Cj2"
      },
      "source": [
        "index = ['Global accuracy', 'Class 1','Class 2','G-mean','Training time']"
      ],
      "execution_count": 12,
      "outputs": []
    },
    {
      "cell_type": "code",
      "metadata": {
        "id": "MMoFVN8YkIsf",
        "outputId": "feccc6c9-2ef2-4e5b-ab9a-4ece69190c93",
        "colab": {
          "base_uri": "https://localhost:8080/",
          "height": 204
        }
      },
      "source": [
        "rsts = pd.DataFrame()\n",
        "for i in range(4):\n",
        "  name = 'Model #{}'.format(i+1)\n",
        "  #print(name)\n",
        "  X_train, X_test, y_train, y_test = prepare_data(sets[i][0],sets[i][1])\n",
        "  rsts[name] = train_model(X_train, X_test, y_train, y_test, LogisticRegression(solver = 'lbfgs'))\n",
        "  \n",
        "rsts.index = index\n",
        "rsts"
      ],
      "execution_count": 13,
      "outputs": [
        {
          "output_type": "execute_result",
          "data": {
            "text/html": [
              "<div>\n",
              "<style scoped>\n",
              "    .dataframe tbody tr th:only-of-type {\n",
              "        vertical-align: middle;\n",
              "    }\n",
              "\n",
              "    .dataframe tbody tr th {\n",
              "        vertical-align: top;\n",
              "    }\n",
              "\n",
              "    .dataframe thead th {\n",
              "        text-align: right;\n",
              "    }\n",
              "</style>\n",
              "<table border=\"1\" class=\"dataframe\">\n",
              "  <thead>\n",
              "    <tr style=\"text-align: right;\">\n",
              "      <th></th>\n",
              "      <th>Model #1</th>\n",
              "      <th>Model #2</th>\n",
              "      <th>Model #3</th>\n",
              "      <th>Model #4</th>\n",
              "    </tr>\n",
              "  </thead>\n",
              "  <tbody>\n",
              "    <tr>\n",
              "      <th>Global accuracy</th>\n",
              "      <td>0.830264</td>\n",
              "      <td>0.677268</td>\n",
              "      <td>0.817138</td>\n",
              "      <td>0.845012</td>\n",
              "    </tr>\n",
              "    <tr>\n",
              "      <th>Class 1</th>\n",
              "      <td>0.976630</td>\n",
              "      <td>0.903460</td>\n",
              "      <td>0.969027</td>\n",
              "      <td>0.963710</td>\n",
              "    </tr>\n",
              "    <tr>\n",
              "      <th>Class 2</th>\n",
              "      <td>0.159252</td>\n",
              "      <td>0.289295</td>\n",
              "      <td>0.194559</td>\n",
              "      <td>0.312217</td>\n",
              "    </tr>\n",
              "    <tr>\n",
              "      <th>G-mean</th>\n",
              "      <td>0.394373</td>\n",
              "      <td>0.511240</td>\n",
              "      <td>0.434204</td>\n",
              "      <td>0.548531</td>\n",
              "    </tr>\n",
              "    <tr>\n",
              "      <th>Training time</th>\n",
              "      <td>2.034175</td>\n",
              "      <td>0.249654</td>\n",
              "      <td>0.145575</td>\n",
              "      <td>0.053555</td>\n",
              "    </tr>\n",
              "  </tbody>\n",
              "</table>\n",
              "</div>"
            ],
            "text/plain": [
              "                 Model #1  Model #2  Model #3  Model #4\n",
              "Global accuracy  0.830264  0.677268  0.817138  0.845012\n",
              "Class 1          0.976630  0.903460  0.969027  0.963710\n",
              "Class 2          0.159252  0.289295  0.194559  0.312217\n",
              "G-mean           0.394373  0.511240  0.434204  0.548531\n",
              "Training time    2.034175  0.249654  0.145575  0.053555"
            ]
          },
          "metadata": {
            "tags": []
          },
          "execution_count": 13
        }
      ]
    },
    {
      "cell_type": "markdown",
      "metadata": {
        "id": "yusyx0DrCYQ6"
      },
      "source": [
        "## Train 4 models with 5 different ML algorithms"
      ]
    },
    {
      "cell_type": "code",
      "metadata": {
        "id": "DbjtnltEEbqS",
        "outputId": "2d6a363e-e8c5-4825-8fed-2c61faf064fb",
        "colab": {
          "base_uri": "https://localhost:8080/",
          "height": 459
        }
      },
      "source": [
        "def create_ML(cw = None):\n",
        "  LR = LogisticRegression(solver = 'lbfgs',class_weight=cw)\n",
        "  DT = DecisionTreeClassifier(random_state=0,class_weight=cw)\n",
        "  RF = RandomForestClassifier(max_depth=2, random_state=0,class_weight=cw)\n",
        "  GNB = GaussianNB()\n",
        "  SGD = SGDClassifier(loss=\"hinge\", penalty=\"l2\", max_iter=5,class_weight=cw)\n",
        "  clfs = [LR,DT,RF,GNB,SGD]\n",
        "  names = ['LR','DT','RF','GNB','SGD']\n",
        "  return dict(zip(names, clfs)) \n",
        "create_ML()"
      ],
      "execution_count": 14,
      "outputs": [
        {
          "output_type": "execute_result",
          "data": {
            "text/plain": [
              "{'DT': DecisionTreeClassifier(ccp_alpha=0.0, class_weight=None, criterion='gini',\n",
              "                        max_depth=None, max_features=None, max_leaf_nodes=None,\n",
              "                        min_impurity_decrease=0.0, min_impurity_split=None,\n",
              "                        min_samples_leaf=1, min_samples_split=2,\n",
              "                        min_weight_fraction_leaf=0.0, presort='deprecated',\n",
              "                        random_state=0, splitter='best'),\n",
              " 'GNB': GaussianNB(priors=None, var_smoothing=1e-09),\n",
              " 'LR': LogisticRegression(C=1.0, class_weight=None, dual=False, fit_intercept=True,\n",
              "                    intercept_scaling=1, l1_ratio=None, max_iter=100,\n",
              "                    multi_class='auto', n_jobs=None, penalty='l2',\n",
              "                    random_state=None, solver='lbfgs', tol=0.0001, verbose=0,\n",
              "                    warm_start=False),\n",
              " 'RF': RandomForestClassifier(bootstrap=True, ccp_alpha=0.0, class_weight=None,\n",
              "                        criterion='gini', max_depth=2, max_features='auto',\n",
              "                        max_leaf_nodes=None, max_samples=None,\n",
              "                        min_impurity_decrease=0.0, min_impurity_split=None,\n",
              "                        min_samples_leaf=1, min_samples_split=2,\n",
              "                        min_weight_fraction_leaf=0.0, n_estimators=100,\n",
              "                        n_jobs=None, oob_score=False, random_state=0, verbose=0,\n",
              "                        warm_start=False),\n",
              " 'SGD': SGDClassifier(alpha=0.0001, average=False, class_weight=None,\n",
              "               early_stopping=False, epsilon=0.1, eta0=0.0, fit_intercept=True,\n",
              "               l1_ratio=0.15, learning_rate='optimal', loss='hinge', max_iter=5,\n",
              "               n_iter_no_change=5, n_jobs=None, penalty='l2', power_t=0.5,\n",
              "               random_state=None, shuffle=True, tol=0.001,\n",
              "               validation_fraction=0.1, verbose=0, warm_start=False)}"
            ]
          },
          "metadata": {
            "tags": []
          },
          "execution_count": 14
        }
      ]
    },
    {
      "cell_type": "code",
      "metadata": {
        "id": "Ak_WWk01ELek",
        "outputId": "db2cced8-fe07-420d-dd02-18ae56c595fb",
        "colab": {
          "base_uri": "https://localhost:8080/",
          "height": 683
        }
      },
      "source": [
        "rsts = pd.DataFrame()\n",
        "for i in range(4):\n",
        "  MLs = create_ML()\n",
        "  for clf_name, clf in MLs.items():\n",
        "    name = '{0} #{1}'.format(clf_name,i+1)\n",
        "    print(name)\n",
        "    try:\n",
        "      X_train, X_test, y_train, y_test = prepare_data(sets[i][0],sets[i][1])\n",
        "      rsts[name] = train_model(X_train, X_test, y_train, y_test, clf)\n",
        "    except Exception as e: print(e)\n",
        "    \n",
        "rsts.index = index\n",
        "rsts"
      ],
      "execution_count": 15,
      "outputs": [
        {
          "output_type": "stream",
          "text": [
            "LR #1\n",
            "DT #1\n",
            "RF #1\n",
            "GNB #1\n",
            "SGD #1\n"
          ],
          "name": "stdout"
        },
        {
          "output_type": "stream",
          "text": [
            "/usr/local/lib/python3.6/dist-packages/sklearn/linear_model/_stochastic_gradient.py:557: ConvergenceWarning: Maximum number of iteration reached before convergence. Consider increasing max_iter to improve the fit.\n",
            "  ConvergenceWarning)\n"
          ],
          "name": "stderr"
        },
        {
          "output_type": "stream",
          "text": [
            "LR #2\n",
            "DT #2\n",
            "RF #2\n",
            "GNB #2\n",
            "SGD #2\n"
          ],
          "name": "stdout"
        },
        {
          "output_type": "stream",
          "text": [
            "/usr/local/lib/python3.6/dist-packages/sklearn/linear_model/_stochastic_gradient.py:557: ConvergenceWarning: Maximum number of iteration reached before convergence. Consider increasing max_iter to improve the fit.\n",
            "  ConvergenceWarning)\n"
          ],
          "name": "stderr"
        },
        {
          "output_type": "stream",
          "text": [
            "LR #3\n",
            "DT #3\n",
            "RF #3\n"
          ],
          "name": "stdout"
        },
        {
          "output_type": "stream",
          "text": [
            "/usr/local/lib/python3.6/dist-packages/sklearn/linear_model/_stochastic_gradient.py:557: ConvergenceWarning: Maximum number of iteration reached before convergence. Consider increasing max_iter to improve the fit.\n",
            "  ConvergenceWarning)\n"
          ],
          "name": "stderr"
        },
        {
          "output_type": "stream",
          "text": [
            "DT #4\n",
            "RF #4\n",
            "GNB #4\n",
            "SGD #4\n"
          ],
          "name": "stdout"
        },
        {
          "output_type": "stream",
          "text": [
            "/usr/local/lib/python3.6/dist-packages/sklearn/linear_model/_stochastic_gradient.py:557: ConvergenceWarning: Maximum number of iteration reached before convergence. Consider increasing max_iter to improve the fit.\n",
            "  ConvergenceWarning)\n"
          ],
          "name": "stderr"
        },
        {
          "output_type": "execute_result",
          "data": {
            "text/html": [
              "<div>\n",
              "<style scoped>\n",
              "    .dataframe tbody tr th:only-of-type {\n",
              "        vertical-align: middle;\n",
              "    }\n",
              "\n",
              "    .dataframe tbody tr th {\n",
              "        vertical-align: top;\n",
              "    }\n",
              "\n",
              "    .dataframe thead th {\n",
              "        text-align: right;\n",
              "    }\n",
              "</style>\n",
              "<table border=\"1\" class=\"dataframe\">\n",
              "  <thead>\n",
              "    <tr style=\"text-align: right;\">\n",
              "      <th></th>\n",
              "      <th>LR #1</th>\n",
              "      <th>DT #1</th>\n",
              "      <th>RF #1</th>\n",
              "      <th>GNB #1</th>\n",
              "      <th>SGD #1</th>\n",
              "      <th>LR #2</th>\n",
              "      <th>DT #2</th>\n",
              "      <th>RF #2</th>\n",
              "      <th>GNB #2</th>\n",
              "      <th>SGD #2</th>\n",
              "      <th>LR #3</th>\n",
              "      <th>DT #3</th>\n",
              "      <th>RF #3</th>\n",
              "      <th>GNB #3</th>\n",
              "      <th>SGD #3</th>\n",
              "      <th>LR #4</th>\n",
              "      <th>DT #4</th>\n",
              "      <th>RF #4</th>\n",
              "      <th>GNB #4</th>\n",
              "      <th>SGD #4</th>\n",
              "    </tr>\n",
              "  </thead>\n",
              "  <tbody>\n",
              "    <tr>\n",
              "      <th>Global accuracy</th>\n",
              "      <td>0.830264</td>\n",
              "      <td>0.744297</td>\n",
              "      <td>0.826457</td>\n",
              "      <td>0.797833</td>\n",
              "      <td>0.826510</td>\n",
              "      <td>0.677268</td>\n",
              "      <td>0.598237</td>\n",
              "      <td>0.654994</td>\n",
              "      <td>0.658150</td>\n",
              "      <td>0.626467</td>\n",
              "      <td>0.817138</td>\n",
              "      <td>0.732902</td>\n",
              "      <td>0.805174</td>\n",
              "      <td>0.793371</td>\n",
              "      <td>0.750040</td>\n",
              "      <td>0.845012</td>\n",
              "      <td>0.763397</td>\n",
              "      <td>0.817807</td>\n",
              "      <td>0.204452</td>\n",
              "      <td>0.801319</td>\n",
              "    </tr>\n",
              "    <tr>\n",
              "      <th>Class 1</th>\n",
              "      <td>0.976630</td>\n",
              "      <td>0.833485</td>\n",
              "      <td>0.998597</td>\n",
              "      <td>0.912559</td>\n",
              "      <td>0.997896</td>\n",
              "      <td>0.903460</td>\n",
              "      <td>0.679457</td>\n",
              "      <td>0.984727</td>\n",
              "      <td>0.940228</td>\n",
              "      <td>0.731404</td>\n",
              "      <td>0.969027</td>\n",
              "      <td>0.822204</td>\n",
              "      <td>0.999799</td>\n",
              "      <td>0.909694</td>\n",
              "      <td>0.870475</td>\n",
              "      <td>0.963710</td>\n",
              "      <td>0.840726</td>\n",
              "      <td>1.000000</td>\n",
              "      <td>0.032258</td>\n",
              "      <td>0.916331</td>\n",
              "    </tr>\n",
              "    <tr>\n",
              "      <th>Class 2</th>\n",
              "      <td>0.159252</td>\n",
              "      <td>0.335418</td>\n",
              "      <td>0.037282</td>\n",
              "      <td>0.271872</td>\n",
              "      <td>0.040796</td>\n",
              "      <td>0.289295</td>\n",
              "      <td>0.458926</td>\n",
              "      <td>0.089424</td>\n",
              "      <td>0.174321</td>\n",
              "      <td>0.446475</td>\n",
              "      <td>0.194559</td>\n",
              "      <td>0.366859</td>\n",
              "      <td>0.007420</td>\n",
              "      <td>0.316570</td>\n",
              "      <td>0.256389</td>\n",
              "      <td>0.312217</td>\n",
              "      <td>0.416290</td>\n",
              "      <td>0.000000</td>\n",
              "      <td>0.977376</td>\n",
              "      <td>0.285068</td>\n",
              "    </tr>\n",
              "    <tr>\n",
              "      <th>G-mean</th>\n",
              "      <td>0.394373</td>\n",
              "      <td>0.528740</td>\n",
              "      <td>0.192950</td>\n",
              "      <td>0.498096</td>\n",
              "      <td>0.201767</td>\n",
              "      <td>0.511240</td>\n",
              "      <td>0.558409</td>\n",
              "      <td>0.296747</td>\n",
              "      <td>0.404847</td>\n",
              "      <td>0.571448</td>\n",
              "      <td>0.434204</td>\n",
              "      <td>0.549211</td>\n",
              "      <td>0.086129</td>\n",
              "      <td>0.536640</td>\n",
              "      <td>0.472420</td>\n",
              "      <td>0.548531</td>\n",
              "      <td>0.591596</td>\n",
              "      <td>0.031623</td>\n",
              "      <td>0.177562</td>\n",
              "      <td>0.511093</td>\n",
              "    </tr>\n",
              "    <tr>\n",
              "      <th>Training time</th>\n",
              "      <td>1.985361</td>\n",
              "      <td>11.318231</td>\n",
              "      <td>14.947297</td>\n",
              "      <td>0.295975</td>\n",
              "      <td>0.701544</td>\n",
              "      <td>0.274470</td>\n",
              "      <td>1.508646</td>\n",
              "      <td>2.515692</td>\n",
              "      <td>0.060162</td>\n",
              "      <td>0.125932</td>\n",
              "      <td>0.157029</td>\n",
              "      <td>0.475669</td>\n",
              "      <td>0.919110</td>\n",
              "      <td>0.020701</td>\n",
              "      <td>0.044154</td>\n",
              "      <td>0.057065</td>\n",
              "      <td>0.097699</td>\n",
              "      <td>0.285181</td>\n",
              "      <td>0.004100</td>\n",
              "      <td>0.006878</td>\n",
              "    </tr>\n",
              "  </tbody>\n",
              "</table>\n",
              "</div>"
            ],
            "text/plain": [
              "                    LR #1      DT #1      RF #1  ...     RF #4    GNB #4    SGD #4\n",
              "Global accuracy  0.830264   0.744297   0.826457  ...  0.817807  0.204452  0.801319\n",
              "Class 1          0.976630   0.833485   0.998597  ...  1.000000  0.032258  0.916331\n",
              "Class 2          0.159252   0.335418   0.037282  ...  0.000000  0.977376  0.285068\n",
              "G-mean           0.394373   0.528740   0.192950  ...  0.031623  0.177562  0.511093\n",
              "Training time    1.985361  11.318231  14.947297  ...  0.285181  0.004100  0.006878\n",
              "\n",
              "[5 rows x 20 columns]"
            ]
          },
          "metadata": {
            "tags": []
          },
          "execution_count": 15
        }
      ]
    },
    {
      "cell_type": "markdown",
      "metadata": {
        "id": "B3bF6lwhKOdO"
      },
      "source": [
        "Print the best performance"
      ]
    },
    {
      "cell_type": "code",
      "metadata": {
        "id": "3gw3bcNa3LqM",
        "outputId": "abccd814-6587-4437-b903-1949e13ab04e",
        "colab": {
          "base_uri": "https://localhost:8080/",
          "height": 204
        }
      },
      "source": [
        "best_rst = []\n",
        "for i in range(4):\n",
        "  algo = rsts.loc['G-mean'][i*5:i*5+5].idxmax()\n",
        "  best_rst.append(algo)\n",
        "best_rst = rsts[best_rst].copy()\n",
        "best_rst"
      ],
      "execution_count": 16,
      "outputs": [
        {
          "output_type": "execute_result",
          "data": {
            "text/html": [
              "<div>\n",
              "<style scoped>\n",
              "    .dataframe tbody tr th:only-of-type {\n",
              "        vertical-align: middle;\n",
              "    }\n",
              "\n",
              "    .dataframe tbody tr th {\n",
              "        vertical-align: top;\n",
              "    }\n",
              "\n",
              "    .dataframe thead th {\n",
              "        text-align: right;\n",
              "    }\n",
              "</style>\n",
              "<table border=\"1\" class=\"dataframe\">\n",
              "  <thead>\n",
              "    <tr style=\"text-align: right;\">\n",
              "      <th></th>\n",
              "      <th>DT #1</th>\n",
              "      <th>SGD #2</th>\n",
              "      <th>DT #3</th>\n",
              "      <th>DT #4</th>\n",
              "    </tr>\n",
              "  </thead>\n",
              "  <tbody>\n",
              "    <tr>\n",
              "      <th>Global accuracy</th>\n",
              "      <td>0.744297</td>\n",
              "      <td>0.626467</td>\n",
              "      <td>0.732902</td>\n",
              "      <td>0.763397</td>\n",
              "    </tr>\n",
              "    <tr>\n",
              "      <th>Class 1</th>\n",
              "      <td>0.833485</td>\n",
              "      <td>0.731404</td>\n",
              "      <td>0.822204</td>\n",
              "      <td>0.840726</td>\n",
              "    </tr>\n",
              "    <tr>\n",
              "      <th>Class 2</th>\n",
              "      <td>0.335418</td>\n",
              "      <td>0.446475</td>\n",
              "      <td>0.366859</td>\n",
              "      <td>0.416290</td>\n",
              "    </tr>\n",
              "    <tr>\n",
              "      <th>G-mean</th>\n",
              "      <td>0.528740</td>\n",
              "      <td>0.571448</td>\n",
              "      <td>0.549211</td>\n",
              "      <td>0.591596</td>\n",
              "    </tr>\n",
              "    <tr>\n",
              "      <th>Training time</th>\n",
              "      <td>11.318231</td>\n",
              "      <td>0.125932</td>\n",
              "      <td>0.475669</td>\n",
              "      <td>0.097699</td>\n",
              "    </tr>\n",
              "  </tbody>\n",
              "</table>\n",
              "</div>"
            ],
            "text/plain": [
              "                     DT #1    SGD #2     DT #3     DT #4\n",
              "Global accuracy   0.744297  0.626467  0.732902  0.763397\n",
              "Class 1           0.833485  0.731404  0.822204  0.840726\n",
              "Class 2           0.335418  0.446475  0.366859  0.416290\n",
              "G-mean            0.528740  0.571448  0.549211  0.591596\n",
              "Training time    11.318231  0.125932  0.475669  0.097699"
            ]
          },
          "metadata": {
            "tags": []
          },
          "execution_count": 16
        }
      ]
    },
    {
      "cell_type": "markdown",
      "metadata": {
        "id": "qgWDH3ATGk6j"
      },
      "source": [
        "# Run 4 binary models with class weights"
      ]
    },
    {
      "cell_type": "code",
      "metadata": {
        "id": "bgpnqfMiRwzn",
        "outputId": "8f796110-0726-49ac-e7fd-aa9e028b5ed0",
        "colab": {
          "base_uri": "https://localhost:8080/",
          "height": 802
        }
      },
      "source": [
        "rsts = pd.DataFrame()\n",
        "for i in range(4):\n",
        "  MLs = create_ML('balanced')\n",
        "  print(Counter(sets[i][1]))\n",
        "  for clf_name, clf in MLs.items():\n",
        "    name = '{0} #{1}'.format(clf_name,i+1)\n",
        "    print(name)\n",
        "    try:\n",
        "      X_train, X_test, y_train, y_test = prepare_data(sets[i][0],sets[i][1])\n",
        "      rsts[name] = train_model(X_train, X_test, y_train, y_test, clf)\n",
        "    except Exception as e: print(e)\n",
        "    \n",
        "rsts.index = index\n",
        "rsts"
      ],
      "execution_count": 17,
      "outputs": [
        {
          "output_type": "stream",
          "text": [
            "Counter({0: 384890, 1: 83954})\n",
            "LR #1\n",
            "DT #1\n",
            "RF #1\n",
            "GNB #1\n",
            "SGD #1\n"
          ],
          "name": "stdout"
        },
        {
          "output_type": "stream",
          "text": [
            "/usr/local/lib/python3.6/dist-packages/sklearn/linear_model/_stochastic_gradient.py:557: ConvergenceWarning: Maximum number of iteration reached before convergence. Consider increasing max_iter to improve the fit.\n",
            "  ConvergenceWarning)\n"
          ],
          "name": "stderr"
        },
        {
          "output_type": "stream",
          "text": [
            "Counter({0: 53032, 1: 30922})\n",
            "LR #2\n",
            "DT #2\n",
            "RF #2\n",
            "GNB #2\n",
            "SGD #2\n"
          ],
          "name": "stdout"
        },
        {
          "output_type": "stream",
          "text": [
            "/usr/local/lib/python3.6/dist-packages/sklearn/linear_model/_stochastic_gradient.py:557: ConvergenceWarning: Maximum number of iteration reached before convergence. Consider increasing max_iter to improve the fit.\n",
            "  ConvergenceWarning)\n"
          ],
          "name": "stderr"
        },
        {
          "output_type": "stream",
          "text": [
            "Counter({0: 24859, 1: 6063})\n",
            "LR #3\n",
            "DT #3\n",
            "RF #3\n",
            "GNB #3\n",
            "SGD #3\n"
          ],
          "name": "stdout"
        },
        {
          "output_type": "stream",
          "text": [
            "/usr/local/lib/python3.6/dist-packages/sklearn/linear_model/_stochastic_gradient.py:557: ConvergenceWarning: Maximum number of iteration reached before convergence. Consider increasing max_iter to improve the fit.\n",
            "  ConvergenceWarning)\n"
          ],
          "name": "stderr"
        },
        {
          "output_type": "stream",
          "text": [
            "Counter({0: 4959, 1: 1104})\n",
            "LR #4\n",
            "DT #4\n",
            "RF #4\n",
            "GNB #4\n",
            "SGD #4\n"
          ],
          "name": "stdout"
        },
        {
          "output_type": "stream",
          "text": [
            "/usr/local/lib/python3.6/dist-packages/sklearn/linear_model/_stochastic_gradient.py:557: ConvergenceWarning: Maximum number of iteration reached before convergence. Consider increasing max_iter to improve the fit.\n",
            "  ConvergenceWarning)\n"
          ],
          "name": "stderr"
        },
        {
          "output_type": "execute_result",
          "data": {
            "text/html": [
              "<div>\n",
              "<style scoped>\n",
              "    .dataframe tbody tr th:only-of-type {\n",
              "        vertical-align: middle;\n",
              "    }\n",
              "\n",
              "    .dataframe tbody tr th {\n",
              "        vertical-align: top;\n",
              "    }\n",
              "\n",
              "    .dataframe thead th {\n",
              "        text-align: right;\n",
              "    }\n",
              "</style>\n",
              "<table border=\"1\" class=\"dataframe\">\n",
              "  <thead>\n",
              "    <tr style=\"text-align: right;\">\n",
              "      <th></th>\n",
              "      <th>LR #1</th>\n",
              "      <th>DT #1</th>\n",
              "      <th>RF #1</th>\n",
              "      <th>GNB #1</th>\n",
              "      <th>SGD #1</th>\n",
              "      <th>LR #2</th>\n",
              "      <th>DT #2</th>\n",
              "      <th>RF #2</th>\n",
              "      <th>GNB #2</th>\n",
              "      <th>SGD #2</th>\n",
              "      <th>LR #3</th>\n",
              "      <th>DT #3</th>\n",
              "      <th>RF #3</th>\n",
              "      <th>GNB #3</th>\n",
              "      <th>SGD #3</th>\n",
              "      <th>LR #4</th>\n",
              "      <th>DT #4</th>\n",
              "      <th>RF #4</th>\n",
              "      <th>GNB #4</th>\n",
              "      <th>SGD #4</th>\n",
              "    </tr>\n",
              "  </thead>\n",
              "  <tbody>\n",
              "    <tr>\n",
              "      <th>Global accuracy</th>\n",
              "      <td>0.716345</td>\n",
              "      <td>0.752935</td>\n",
              "      <td>0.798185</td>\n",
              "      <td>0.797833</td>\n",
              "      <td>0.716377</td>\n",
              "      <td>0.640462</td>\n",
              "      <td>0.599130</td>\n",
              "      <td>0.656006</td>\n",
              "      <td>0.658150</td>\n",
              "      <td>0.589066</td>\n",
              "      <td>0.724656</td>\n",
              "      <td>0.740501</td>\n",
              "      <td>0.776880</td>\n",
              "      <td>0.793371</td>\n",
              "      <td>0.585610</td>\n",
              "      <td>0.767519</td>\n",
              "      <td>0.779885</td>\n",
              "      <td>0.734542</td>\n",
              "      <td>0.204452</td>\n",
              "      <td>0.680956</td>\n",
              "    </tr>\n",
              "    <tr>\n",
              "      <th>Class 1</th>\n",
              "      <td>0.751474</td>\n",
              "      <td>0.849671</td>\n",
              "      <td>0.869573</td>\n",
              "      <td>0.912559</td>\n",
              "      <td>0.763270</td>\n",
              "      <td>0.695767</td>\n",
              "      <td>0.687942</td>\n",
              "      <td>0.782596</td>\n",
              "      <td>0.940228</td>\n",
              "      <td>0.663241</td>\n",
              "      <td>0.745575</td>\n",
              "      <td>0.840306</td>\n",
              "      <td>0.848954</td>\n",
              "      <td>0.909694</td>\n",
              "      <td>0.575020</td>\n",
              "      <td>0.798387</td>\n",
              "      <td>0.856855</td>\n",
              "      <td>0.754032</td>\n",
              "      <td>0.032258</td>\n",
              "      <td>0.702621</td>\n",
              "    </tr>\n",
              "    <tr>\n",
              "      <th>Class 2</th>\n",
              "      <td>0.555297</td>\n",
              "      <td>0.309451</td>\n",
              "      <td>0.470907</td>\n",
              "      <td>0.271872</td>\n",
              "      <td>0.501400</td>\n",
              "      <td>0.545602</td>\n",
              "      <td>0.446798</td>\n",
              "      <td>0.438875</td>\n",
              "      <td>0.174321</td>\n",
              "      <td>0.461837</td>\n",
              "      <td>0.638912</td>\n",
              "      <td>0.331410</td>\n",
              "      <td>0.481451</td>\n",
              "      <td>0.316570</td>\n",
              "      <td>0.629019</td>\n",
              "      <td>0.628959</td>\n",
              "      <td>0.434389</td>\n",
              "      <td>0.647059</td>\n",
              "      <td>0.977376</td>\n",
              "      <td>0.583710</td>\n",
              "    </tr>\n",
              "    <tr>\n",
              "      <th>G-mean</th>\n",
              "      <td>0.645981</td>\n",
              "      <td>0.512769</td>\n",
              "      <td>0.639913</td>\n",
              "      <td>0.498096</td>\n",
              "      <td>0.618630</td>\n",
              "      <td>0.616126</td>\n",
              "      <td>0.554411</td>\n",
              "      <td>0.586056</td>\n",
              "      <td>0.404847</td>\n",
              "      <td>0.553452</td>\n",
              "      <td>0.690186</td>\n",
              "      <td>0.527717</td>\n",
              "      <td>0.639320</td>\n",
              "      <td>0.536640</td>\n",
              "      <td>0.601414</td>\n",
              "      <td>0.708628</td>\n",
              "      <td>0.610089</td>\n",
              "      <td>0.698501</td>\n",
              "      <td>0.177562</td>\n",
              "      <td>0.640412</td>\n",
              "    </tr>\n",
              "    <tr>\n",
              "      <th>Training time</th>\n",
              "      <td>2.260109</td>\n",
              "      <td>10.771393</td>\n",
              "      <td>14.983899</td>\n",
              "      <td>0.293868</td>\n",
              "      <td>0.767946</td>\n",
              "      <td>0.264172</td>\n",
              "      <td>1.971781</td>\n",
              "      <td>3.588082</td>\n",
              "      <td>0.099903</td>\n",
              "      <td>0.185833</td>\n",
              "      <td>0.354214</td>\n",
              "      <td>0.627154</td>\n",
              "      <td>1.337652</td>\n",
              "      <td>0.027655</td>\n",
              "      <td>0.067557</td>\n",
              "      <td>0.064851</td>\n",
              "      <td>0.087206</td>\n",
              "      <td>0.279459</td>\n",
              "      <td>0.004158</td>\n",
              "      <td>0.006553</td>\n",
              "    </tr>\n",
              "  </tbody>\n",
              "</table>\n",
              "</div>"
            ],
            "text/plain": [
              "                    LR #1      DT #1      RF #1  ...     RF #4    GNB #4    SGD #4\n",
              "Global accuracy  0.716345   0.752935   0.798185  ...  0.734542  0.204452  0.680956\n",
              "Class 1          0.751474   0.849671   0.869573  ...  0.754032  0.032258  0.702621\n",
              "Class 2          0.555297   0.309451   0.470907  ...  0.647059  0.977376  0.583710\n",
              "G-mean           0.645981   0.512769   0.639913  ...  0.698501  0.177562  0.640412\n",
              "Training time    2.260109  10.771393  14.983899  ...  0.279459  0.004158  0.006553\n",
              "\n",
              "[5 rows x 20 columns]"
            ]
          },
          "metadata": {
            "tags": []
          },
          "execution_count": 17
        }
      ]
    },
    {
      "cell_type": "markdown",
      "metadata": {
        "id": "gqCyIU6C6ruG"
      },
      "source": [
        "Print the best algorithm for each classfications"
      ]
    },
    {
      "cell_type": "code",
      "metadata": {
        "id": "PLgyPV-K6r-C",
        "outputId": "a04fba71-a2ee-408d-f80f-aead54c5760e",
        "colab": {
          "base_uri": "https://localhost:8080/",
          "height": 204
        }
      },
      "source": [
        "best_rst = []\n",
        "for i in range(4):\n",
        "  algo = rsts.loc['G-mean'][i*5:i*5+5].idxmax()\n",
        "  best_rst.append(algo)\n",
        "best_rst_cw = rsts[best_rst].copy()\n",
        "best_rst_cw"
      ],
      "execution_count": 18,
      "outputs": [
        {
          "output_type": "execute_result",
          "data": {
            "text/html": [
              "<div>\n",
              "<style scoped>\n",
              "    .dataframe tbody tr th:only-of-type {\n",
              "        vertical-align: middle;\n",
              "    }\n",
              "\n",
              "    .dataframe tbody tr th {\n",
              "        vertical-align: top;\n",
              "    }\n",
              "\n",
              "    .dataframe thead th {\n",
              "        text-align: right;\n",
              "    }\n",
              "</style>\n",
              "<table border=\"1\" class=\"dataframe\">\n",
              "  <thead>\n",
              "    <tr style=\"text-align: right;\">\n",
              "      <th></th>\n",
              "      <th>LR #1</th>\n",
              "      <th>LR #2</th>\n",
              "      <th>LR #3</th>\n",
              "      <th>LR #4</th>\n",
              "    </tr>\n",
              "  </thead>\n",
              "  <tbody>\n",
              "    <tr>\n",
              "      <th>Global accuracy</th>\n",
              "      <td>0.716345</td>\n",
              "      <td>0.640462</td>\n",
              "      <td>0.724656</td>\n",
              "      <td>0.767519</td>\n",
              "    </tr>\n",
              "    <tr>\n",
              "      <th>Class 1</th>\n",
              "      <td>0.751474</td>\n",
              "      <td>0.695767</td>\n",
              "      <td>0.745575</td>\n",
              "      <td>0.798387</td>\n",
              "    </tr>\n",
              "    <tr>\n",
              "      <th>Class 2</th>\n",
              "      <td>0.555297</td>\n",
              "      <td>0.545602</td>\n",
              "      <td>0.638912</td>\n",
              "      <td>0.628959</td>\n",
              "    </tr>\n",
              "    <tr>\n",
              "      <th>G-mean</th>\n",
              "      <td>0.645981</td>\n",
              "      <td>0.616126</td>\n",
              "      <td>0.690186</td>\n",
              "      <td>0.708628</td>\n",
              "    </tr>\n",
              "    <tr>\n",
              "      <th>Training time</th>\n",
              "      <td>2.260109</td>\n",
              "      <td>0.264172</td>\n",
              "      <td>0.354214</td>\n",
              "      <td>0.064851</td>\n",
              "    </tr>\n",
              "  </tbody>\n",
              "</table>\n",
              "</div>"
            ],
            "text/plain": [
              "                    LR #1     LR #2     LR #3     LR #4\n",
              "Global accuracy  0.716345  0.640462  0.724656  0.767519\n",
              "Class 1          0.751474  0.695767  0.745575  0.798387\n",
              "Class 2          0.555297  0.545602  0.638912  0.628959\n",
              "G-mean           0.645981  0.616126  0.690186  0.708628\n",
              "Training time    2.260109  0.264172  0.354214  0.064851"
            ]
          },
          "metadata": {
            "tags": []
          },
          "execution_count": 18
        }
      ]
    },
    {
      "cell_type": "markdown",
      "metadata": {
        "id": "MttWSJBG8PFF"
      },
      "source": [
        "# Run 4 binary models with under-sampling\n"
      ]
    },
    {
      "cell_type": "code",
      "metadata": {
        "id": "DB-z1fKMAlBy"
      },
      "source": [
        "from imblearn.under_sampling import RandomUnderSampler,CondensedNearestNeighbour,EditedNearestNeighbours\n",
        "from imblearn.under_sampling import AllKNN, InstanceHardnessThreshold, NearMiss, NeighbourhoodCleaningRule\n",
        "from imblearn.under_sampling import     TomekLinks\n",
        "from imblearn.under_sampling import     OneSidedSelection"
      ],
      "execution_count": 19,
      "outputs": []
    },
    {
      "cell_type": "code",
      "metadata": {
        "id": "j1a97LYLvbJa"
      },
      "source": [
        "import warnings; warnings.simplefilter('ignore')"
      ],
      "execution_count": 20,
      "outputs": []
    },
    {
      "cell_type": "code",
      "metadata": {
        "id": "eovVRZG1DiIE",
        "outputId": "90cb552c-8387-426f-e483-4774cf301687",
        "colab": {
          "base_uri": "https://localhost:8080/",
          "height": 357
        }
      },
      "source": [
        "rus = RandomUnderSampler(random_state=42)\n",
        "#cnn = CondensedNearestNeighbour(random_state=42)\n",
        "enn = EditedNearestNeighbours(random_state=42)\n",
        "aknn = AllKNN(random_state=42)\n",
        "iht = InstanceHardnessThreshold(random_state=42)\n",
        "nrms =NearMiss(random_state=42)\n",
        "ncr = NeighbourhoodCleaningRule(random_state=42)\n",
        "oss = OneSidedSelection(random_state=42)\n",
        "tml = TomekLinks(random_state=42)\n",
        "\n",
        "unders = [rus, enn, aknn, iht, nrms, ncr, oss, tml]\n",
        "under_names = ['RandomUnderSampler',\n",
        "            'EditedNearestNeighbours', 'AllKNN', 'InstanceHardnessThreshold', \n",
        "            'NearMiss', 'NeighbourhoodCleaningRule',\n",
        "            'OneSidedSelection','TomekLinks']\n",
        "URs=dict(zip(under_names,unders))\n",
        "URs"
      ],
      "execution_count": 21,
      "outputs": [
        {
          "output_type": "execute_result",
          "data": {
            "text/plain": [
              "{'AllKNN': AllKNN(allow_minority=False, kind_sel='all', n_jobs=1, n_neighbors=3,\n",
              "        random_state=42, ratio=None, return_indices=False,\n",
              "        sampling_strategy='auto'),\n",
              " 'EditedNearestNeighbours': EditedNearestNeighbours(kind_sel='all', n_jobs=1, n_neighbors=3,\n",
              "                         random_state=42, ratio=None, return_indices=False,\n",
              "                         sampling_strategy='auto'),\n",
              " 'InstanceHardnessThreshold': InstanceHardnessThreshold(cv=5, estimator=None, n_jobs=1, random_state=42,\n",
              "                           ratio=None, return_indices=False,\n",
              "                           sampling_strategy='auto'),\n",
              " 'NearMiss': NearMiss(n_jobs=1, n_neighbors=3, n_neighbors_ver3=3, random_state=42,\n",
              "          ratio=None, return_indices=False, sampling_strategy='auto', version=1),\n",
              " 'NeighbourhoodCleaningRule': NeighbourhoodCleaningRule(kind_sel='all', n_jobs=1, n_neighbors=3,\n",
              "                           random_state=42, ratio=None, return_indices=False,\n",
              "                           sampling_strategy='auto', threshold_cleaning=0.5),\n",
              " 'OneSidedSelection': OneSidedSelection(n_jobs=1, n_neighbors=None, n_seeds_S=1, random_state=42,\n",
              "                   ratio=None, return_indices=False, sampling_strategy='auto'),\n",
              " 'RandomUnderSampler': RandomUnderSampler(random_state=42, ratio=None, replacement=False,\n",
              "                    return_indices=False, sampling_strategy='auto'),\n",
              " 'TomekLinks': TomekLinks(n_jobs=1, random_state=42, ratio=None, return_indices=False,\n",
              "            sampling_strategy='auto')}"
            ]
          },
          "metadata": {
            "tags": []
          },
          "execution_count": 21
        }
      ]
    },
    {
      "cell_type": "code",
      "metadata": {
        "id": "nW2krBG_-kWs",
        "outputId": "5561a77c-0b39-4388-8b16-b6485bfb175c",
        "colab": {
          "base_uri": "https://localhost:8080/",
          "height": 136
        }
      },
      "source": [
        "def under_resampling(data,method):\n",
        "  urs = URs[method]\n",
        "  X_urs, y_urs = urs.fit_resample(data[0], data[1])\n",
        "  return X_urs, y_urs\n",
        "under_resampling(sets[3],under_names[0])"
      ],
      "execution_count": 22,
      "outputs": [
        {
          "output_type": "execute_result",
          "data": {
            "text/plain": [
              "(array([[ 2.,  1.,  1., ..., 19., 31.,  0.],\n",
              "        [ 1.,  1.,  1., ..., 18., 28.,  1.],\n",
              "        [ 1.,  1.,  1., ..., 16., 43.,  0.],\n",
              "        ...,\n",
              "        [ 1.,  1.,  1., ..., 22., 35.,  0.],\n",
              "        [ 1.,  1.,  1., ...,  2.,  6.,  1.],\n",
              "        [ 2.,  1.,  1., ...,  6., 10.,  0.]]), array([0, 0, 0, ..., 1, 1, 1]))"
            ]
          },
          "metadata": {
            "tags": []
          },
          "execution_count": 22
        }
      ]
    },
    {
      "cell_type": "code",
      "metadata": {
        "id": "mwRBbw-TBSys"
      },
      "source": [
        "import warnings; warnings.simplefilter('ignore')"
      ],
      "execution_count": 23,
      "outputs": []
    },
    {
      "cell_type": "markdown",
      "metadata": {
        "id": "wVBv2EUoLtQY"
      },
      "source": [
        "#### Find the fastest under sampling techniques"
      ]
    },
    {
      "cell_type": "code",
      "metadata": {
        "id": "u0G4LYbw-AVl",
        "outputId": "eb13112c-6ae4-44fb-f5f5-629c79d889a2",
        "colab": {
          "base_uri": "https://localhost:8080/",
          "height": 119
        }
      },
      "source": [
        "print(Counter(sets[2][1]))\n",
        "perform ={}\n",
        "for key in ['RandomUnderSampler','NearMiss','EditedNearestNeighbours','TomekLinks','OneSidedSelection']:\n",
        "  start = time.time()\n",
        "  under_resampling(sets[1],key)\n",
        "  end = time.time()\n",
        "  perform[key]=end-start\n",
        "\n",
        "sorted(perform.items(), key=lambda x: x[1])"
      ],
      "execution_count": 24,
      "outputs": [
        {
          "output_type": "stream",
          "text": [
            "Counter({0: 24859, 1: 6063})\n"
          ],
          "name": "stdout"
        },
        {
          "output_type": "execute_result",
          "data": {
            "text/plain": [
              "[('RandomUnderSampler', 0.05968046188354492),\n",
              " ('NearMiss', 9.076427936553955),\n",
              " ('EditedNearestNeighbours', 24.212323665618896),\n",
              " ('TomekLinks', 29.54500961303711),\n",
              " ('OneSidedSelection', 38.232277154922485)]"
            ]
          },
          "metadata": {
            "tags": []
          },
          "execution_count": 24
        }
      ]
    },
    {
      "cell_type": "markdown",
      "metadata": {
        "id": "3mNPna6oK9iS"
      },
      "source": [
        "Best are ROS, NM, ENN"
      ]
    },
    {
      "cell_type": "code",
      "metadata": {
        "id": "M6KWt51jrZSr"
      },
      "source": [
        ""
      ],
      "execution_count": null,
      "outputs": []
    },
    {
      "cell_type": "code",
      "metadata": {
        "id": "e3eUAFqQPhC6"
      },
      "source": [
        "def prepare_data2(X_dat,label,resampler):\n",
        "  # Split data set \n",
        "  X_train, X_test, y_train, y_test = train_test_split(X_dat,label,test_size=0.2,stratify=label, random_state=48)\n",
        "  #print('Training features shape:', X_train.shape)\n",
        "  #print('Test features shape:', X_test.shape)\n",
        "  \n",
        "  # Standardize the data \n",
        "  scaler = StandardScaler()\n",
        "  X_train = scaler.fit_transform(X_train)\n",
        "  X_test = scaler.transform(X_test)\n",
        "  # Resampling the training set\n",
        "  X_train, y_train = resampler.fit_resample(X_train, y_train)\n",
        "  return X_train, X_test, y_train, y_test"
      ],
      "execution_count": 26,
      "outputs": []
    },
    {
      "cell_type": "markdown",
      "metadata": {
        "id": "3yBQUGd9I4PO"
      },
      "source": [
        "### Random under resampling\n"
      ]
    },
    {
      "cell_type": "code",
      "metadata": {
        "id": "RsIADmEDFJz2",
        "outputId": "8e580dc2-4483-4337-d6c1-c2e5de064322",
        "colab": {
          "base_uri": "https://localhost:8080/",
          "height": 544
        }
      },
      "source": [
        "rsts = pd.DataFrame()\n",
        "for i in range(4):\n",
        "  MLs = create_ML('balanced')\n",
        "  rus = RandomUnderSampler(random_state=42)\n",
        "  X_train, X_test, y_train, y_test = prepare_data2(sets[i][0],sets[i][1],rus)\n",
        "  rus = RandomUnderSampler(random_state=42)\n",
        "  for clf_name, clf in MLs.items():\n",
        "    name = '{0} #{1}'.format(clf_name,i+1)\n",
        "    print(name)\n",
        "    try:\n",
        "      rsts[name] = train_model(X_train, X_test, y_train, y_test, clf)\n",
        "    except Exception as e: print(e)\n",
        "    \n",
        "rsts.index = index\n",
        "best_rst = []\n",
        "for i in range(4):\n",
        "  algo = rsts.loc['G-mean'][i*5:i*5+5].idxmax()\n",
        "  best_rst.append(algo)\n",
        "best_rst_ur = rsts[best_rst].copy()\n",
        "best_rst_ur"
      ],
      "execution_count": 27,
      "outputs": [
        {
          "output_type": "stream",
          "text": [
            "LR #1\n",
            "DT #1\n",
            "RF #1\n",
            "GNB #1\n",
            "SGD #1\n",
            "LR #2\n",
            "DT #2\n",
            "RF #2\n",
            "GNB #2\n",
            "SGD #2\n",
            "LR #3\n",
            "DT #3\n",
            "RF #3\n",
            "GNB #3\n",
            "SGD #3\n",
            "LR #4\n",
            "DT #4\n",
            "RF #4\n",
            "GNB #4\n",
            "SGD #4\n"
          ],
          "name": "stdout"
        },
        {
          "output_type": "execute_result",
          "data": {
            "text/html": [
              "<div>\n",
              "<style scoped>\n",
              "    .dataframe tbody tr th:only-of-type {\n",
              "        vertical-align: middle;\n",
              "    }\n",
              "\n",
              "    .dataframe tbody tr th {\n",
              "        vertical-align: top;\n",
              "    }\n",
              "\n",
              "    .dataframe thead th {\n",
              "        text-align: right;\n",
              "    }\n",
              "</style>\n",
              "<table border=\"1\" class=\"dataframe\">\n",
              "  <thead>\n",
              "    <tr style=\"text-align: right;\">\n",
              "      <th></th>\n",
              "      <th>LR #1</th>\n",
              "      <th>LR #2</th>\n",
              "      <th>LR #3</th>\n",
              "      <th>LR #4</th>\n",
              "    </tr>\n",
              "  </thead>\n",
              "  <tbody>\n",
              "    <tr>\n",
              "      <th>Global accuracy</th>\n",
              "      <td>0.717092</td>\n",
              "      <td>0.640522</td>\n",
              "      <td>0.724818</td>\n",
              "      <td>0.751031</td>\n",
              "    </tr>\n",
              "    <tr>\n",
              "      <th>Class 1</th>\n",
              "      <td>0.752423</td>\n",
              "      <td>0.696804</td>\n",
              "      <td>0.745173</td>\n",
              "      <td>0.774194</td>\n",
              "    </tr>\n",
              "    <tr>\n",
              "      <th>Class 2</th>\n",
              "      <td>0.555119</td>\n",
              "      <td>0.543984</td>\n",
              "      <td>0.641385</td>\n",
              "      <td>0.647059</td>\n",
              "    </tr>\n",
              "    <tr>\n",
              "      <th>G-mean</th>\n",
              "      <td>0.646285</td>\n",
              "      <td>0.615671</td>\n",
              "      <td>0.691334</td>\n",
              "      <td>0.707777</td>\n",
              "    </tr>\n",
              "    <tr>\n",
              "      <th>Training time</th>\n",
              "      <td>0.749564</td>\n",
              "      <td>0.172621</td>\n",
              "      <td>0.068237</td>\n",
              "      <td>0.029864</td>\n",
              "    </tr>\n",
              "  </tbody>\n",
              "</table>\n",
              "</div>"
            ],
            "text/plain": [
              "                    LR #1     LR #2     LR #3     LR #4\n",
              "Global accuracy  0.717092  0.640522  0.724818  0.751031\n",
              "Class 1          0.752423  0.696804  0.745173  0.774194\n",
              "Class 2          0.555119  0.543984  0.641385  0.647059\n",
              "G-mean           0.646285  0.615671  0.691334  0.707777\n",
              "Training time    0.749564  0.172621  0.068237  0.029864"
            ]
          },
          "metadata": {
            "tags": []
          },
          "execution_count": 27
        }
      ]
    },
    {
      "cell_type": "markdown",
      "metadata": {
        "id": "Rgwm9hLzIhUY"
      },
      "source": [
        "## Near Miss"
      ]
    },
    {
      "cell_type": "code",
      "metadata": {
        "id": "Mb8nw5aQIKWF"
      },
      "source": [
        "rsts = pd.DataFrame()\n",
        "for i in range(4):\n",
        "  MLs = create_ML('balanced')\n",
        "  nrms =NearMiss(random_state=42)\n",
        "  X_train, X_test, y_train, y_test = prepare_data2(sets[i][0],sets[i][1],nrms)\n",
        "  for clf_name, clf in MLs.items():\n",
        "    name = '{0} #{1}'.format(clf_name,i+1)\n",
        "    print(name)\n",
        "    try:\n",
        "      rsts[name] = train_model(X_train, X_test, y_train, y_test, clf)\n",
        "    except Exception as e: print(e)\n",
        "    \n",
        "rsts.index = index\n",
        "best_rst = []\n",
        "for i in range(4):\n",
        "  algo = rsts.loc['G-mean'][i*5:i*5+5].idxmax()\n",
        "  best_rst.append(algo)\n",
        "best_rst_ur = rsts[best_rst].copy()\n",
        "best_rst_ur"
      ],
      "execution_count": null,
      "outputs": []
    },
    {
      "cell_type": "markdown",
      "metadata": {
        "id": "w297VFGDIluk"
      },
      "source": [
        "## Edited Nearest Neighbours"
      ]
    },
    {
      "cell_type": "code",
      "metadata": {
        "id": "lpyDl6BKIlG7",
        "outputId": "805aaa9c-f817-45d9-f0ab-867515049720",
        "colab": {
          "base_uri": "https://localhost:8080/",
          "height": 612
        }
      },
      "source": [
        "rsts = pd.DataFrame()\n",
        "for i in range(4):\n",
        "  MLs = create_ML('balanced')\n",
        "  enn = EditedNearestNeighbours(random_state=42)\n",
        "  X_train, X_test, y_train, y_test = prepare_data2(sets[i][0],sets[i][1],enn)\n",
        "  for clf_name, clf in MLs.items():\n",
        "    name = '{0} #{1}'.format(clf_name,i+1)\n",
        "    print(name)\n",
        "    try:\n",
        "      rsts[name] = train_model(X_train, X_test, y_train, y_test, clf)\n",
        "    except Exception as e: print(e)\n",
        "    \n",
        "rsts.index = index\n",
        "best_rst = []\n",
        "for i in range(4):\n",
        "  algo = rsts.loc['G-mean'][i*5:i*5+5].idxmax()\n",
        "  best_rst.append(algo)\n",
        "best_rst_ur = rsts[best_rst].copy()\n",
        "best_rst_ur"
      ],
      "execution_count": null,
      "outputs": [
        {
          "output_type": "stream",
          "text": [
            "Counter({0: 229742, 1: 83954})\n",
            "LR #1\n",
            "DT #1\n",
            "RF #1\n",
            "GNB #1\n",
            "SGD #1\n",
            "Counter({1: 30922, 0: 16763})\n",
            "LR #2\n",
            "DT #2\n",
            "RF #2\n",
            "GNB #2\n",
            "SGD #2\n",
            "Counter({0: 15087, 1: 6063})\n",
            "LR #3\n",
            "DT #3\n",
            "RF #3\n",
            "GNB #3\n",
            "SGD #3\n",
            "Counter({0: 3307, 1: 1104})\n",
            "LR #4\n",
            "DT #4\n",
            "RF #4\n",
            "GNB #4\n",
            "SGD #4\n"
          ],
          "name": "stdout"
        },
        {
          "output_type": "execute_result",
          "data": {
            "text/html": [
              "<div>\n",
              "<style scoped>\n",
              "    .dataframe tbody tr th:only-of-type {\n",
              "        vertical-align: middle;\n",
              "    }\n",
              "\n",
              "    .dataframe tbody tr th {\n",
              "        vertical-align: top;\n",
              "    }\n",
              "\n",
              "    .dataframe thead th {\n",
              "        text-align: right;\n",
              "    }\n",
              "</style>\n",
              "<table border=\"1\" class=\"dataframe\">\n",
              "  <thead>\n",
              "    <tr style=\"text-align: right;\">\n",
              "      <th></th>\n",
              "      <th>LR #1</th>\n",
              "      <th>LR #2</th>\n",
              "      <th>LR #3</th>\n",
              "      <th>LR #4</th>\n",
              "    </tr>\n",
              "  </thead>\n",
              "  <tbody>\n",
              "    <tr>\n",
              "      <th>Global accuracy</th>\n",
              "      <td>0.707364</td>\n",
              "      <td>0.627975</td>\n",
              "      <td>0.748227</td>\n",
              "      <td>0.784824</td>\n",
              "    </tr>\n",
              "    <tr>\n",
              "      <th>Class 1</th>\n",
              "      <td>0.750223</td>\n",
              "      <td>0.737847</td>\n",
              "      <td>0.780908</td>\n",
              "      <td>0.827795</td>\n",
              "    </tr>\n",
              "    <tr>\n",
              "      <th>Class 2</th>\n",
              "      <td>0.590078</td>\n",
              "      <td>0.568402</td>\n",
              "      <td>0.666941</td>\n",
              "      <td>0.656109</td>\n",
              "    </tr>\n",
              "    <tr>\n",
              "      <th>G-mean</th>\n",
              "      <td>0.665350</td>\n",
              "      <td>0.647606</td>\n",
              "      <td>0.721679</td>\n",
              "      <td>0.736969</td>\n",
              "    </tr>\n",
              "    <tr>\n",
              "      <th>Training time</th>\n",
              "      <td>1.793872</td>\n",
              "      <td>0.538568</td>\n",
              "      <td>0.109077</td>\n",
              "      <td>0.039802</td>\n",
              "    </tr>\n",
              "  </tbody>\n",
              "</table>\n",
              "</div>"
            ],
            "text/plain": [
              "                    LR #1     LR #2     LR #3     LR #4\n",
              "Global accuracy  0.707364  0.627975  0.748227  0.784824\n",
              "Class 1          0.750223  0.737847  0.780908  0.827795\n",
              "Class 2          0.590078  0.568402  0.666941  0.656109\n",
              "G-mean           0.665350  0.647606  0.721679  0.736969\n",
              "Training time    1.793872  0.538568  0.109077  0.039802"
            ]
          },
          "metadata": {
            "tags": []
          },
          "execution_count": 92
        }
      ]
    },
    {
      "cell_type": "markdown",
      "metadata": {
        "id": "cedBq2E2GXkH"
      },
      "source": [
        "# Run 4 binary models with over-sampling\n"
      ]
    },
    {
      "cell_type": "code",
      "metadata": {
        "id": "LlPf_4sDGXkM"
      },
      "source": [
        "from imblearn.over_sampling import RandomOverSampler,SMOTE\n",
        "from imblearn.over_sampling import ADASYN, BorderlineSMOTE"
      ],
      "execution_count": 28,
      "outputs": []
    },
    {
      "cell_type": "code",
      "metadata": {
        "id": "EleiYR9mJf-U",
        "outputId": "a02d00cb-0396-4172-8d8d-2fcb7539ace9",
        "colab": {
          "base_uri": "https://localhost:8080/",
          "height": 170
        }
      },
      "source": [
        "ada = ADASYN(random_state=42)\n",
        "bsm = BorderlineSMOTE(random_state=42)\n",
        "#ksm = KMeansSMOTE(random_state=42)\n",
        "ros = RandomOverSampler(random_state=42)\n",
        "sm = SMOTE(random_state=42)\n",
        "\n",
        "overs = [ros, sm, bsm, ada]\n",
        "over_names = ['RandomOverSampler','SMOTE',\n",
        "            'BorderlineSMOTE', 'ADASYN']\n",
        "ORs=dict(zip(over_names,overs))\n",
        "ORs"
      ],
      "execution_count": null,
      "outputs": [
        {
          "output_type": "execute_result",
          "data": {
            "text/plain": [
              "{'ADASYN': ADASYN(n_jobs=1, n_neighbors=5, random_state=42, ratio=None,\n",
              "        sampling_strategy='auto'),\n",
              " 'BorderlineSMOTE': BorderlineSMOTE(k_neighbors=5, kind='borderline-1', m_neighbors=10, n_jobs=1,\n",
              "                 random_state=42, sampling_strategy='auto'),\n",
              " 'RandomOverSampler': RandomOverSampler(random_state=42, ratio=None, return_indices=False,\n",
              "                   sampling_strategy='auto'),\n",
              " 'SMOTE': SMOTE(k_neighbors=5, kind='deprecated', m_neighbors='deprecated', n_jobs=1,\n",
              "       out_step='deprecated', random_state=42, ratio=None,\n",
              "       sampling_strategy='auto', svm_estimator='deprecated')}"
            ]
          },
          "metadata": {
            "tags": []
          },
          "execution_count": 96
        }
      ]
    },
    {
      "cell_type": "code",
      "metadata": {
        "id": "fPZjd89hGXks",
        "outputId": "a52b7782-e612-44a1-b097-7ee6683b5dbb",
        "colab": {
          "base_uri": "https://localhost:8080/",
          "height": 34
        }
      },
      "source": [
        "def over_resampling(data,method):\n",
        "  urs = ORs[method]\n",
        "  X_urs, y_urs = urs.fit_resample(data[0], data[1])\n",
        "  return X_urs, y_urs\n",
        "_,y_or = over_resampling(sets[3],over_names[0])\n",
        "Counter(sets[3][1]), Counter(y_or)"
      ],
      "execution_count": null,
      "outputs": [
        {
          "output_type": "execute_result",
          "data": {
            "text/plain": [
              "(Counter({0: 4959, 1: 1104}), Counter({0: 4959, 1: 4959}))"
            ]
          },
          "metadata": {
            "tags": []
          },
          "execution_count": 97
        }
      ]
    },
    {
      "cell_type": "code",
      "metadata": {
        "id": "VasnWl55L13F",
        "outputId": "a57d3b90-1330-438a-e919-9330510521e0",
        "colab": {
          "base_uri": "https://localhost:8080/",
          "height": 102
        }
      },
      "source": [
        "i = 2\n",
        "print(Counter(sets[i][1]))\n",
        "perform ={}\n",
        "for key in over_names:\n",
        "  start = time.time()\n",
        "  over_resampling(sets[i],key)\n",
        "  end = time.time()\n",
        "  perform[key]=end-start\n",
        "\n",
        "sorted(perform.items(), key=lambda x: x[1])"
      ],
      "execution_count": null,
      "outputs": [
        {
          "output_type": "stream",
          "text": [
            "Counter({0: 24859, 1: 6063})\n"
          ],
          "name": "stdout"
        },
        {
          "output_type": "execute_result",
          "data": {
            "text/plain": [
              "[('RandomOverSampler', 0.04093647003173828),\n",
              " ('SMOTE', 0.36640286445617676),\n",
              " ('BorderlineSMOTE', 1.6354360580444336),\n",
              " ('ADASYN', 1.8417112827301025)]"
            ]
          },
          "metadata": {
            "tags": []
          },
          "execution_count": 101
        }
      ]
    },
    {
      "cell_type": "markdown",
      "metadata": {
        "id": "hM56x9_kIziY"
      },
      "source": [
        "### Random over resampling"
      ]
    },
    {
      "cell_type": "code",
      "metadata": {
        "id": "RRdrsV1xGXky",
        "outputId": "ad0bf5ca-8140-4801-e9d1-af8bfcb0ee24",
        "colab": {
          "base_uri": "https://localhost:8080/",
          "height": 544
        }
      },
      "source": [
        "rsts = pd.DataFrame()\n",
        "for i in range(4):\n",
        "  MLs = create_ML('balanced')\n",
        "  ros = RandomOverSampler(random_state=42)\n",
        "  X_train, X_test, y_train, y_test = prepare_data2(sets[i][0],sets[i][1],ros)\n",
        "  for clf_name, clf in MLs.items():\n",
        "    name = '{0} #{1}'.format(clf_name,i+1)\n",
        "    print(name)\n",
        "    try:\n",
        "      rsts[name] = train_model(X_train, X_test, y_train, y_test, clf)\n",
        "    except Exception as e: print(e)\n",
        "    \n",
        "rsts.index = index\n",
        "best_rst = []\n",
        "for i in range(4):\n",
        "  algo = rsts.loc['G-mean'][i*5:i*5+5].idxmax()\n",
        "  best_rst.append(algo)\n",
        "best_rst_ur = rsts[best_rst].copy()\n",
        "best_rst_ur"
      ],
      "execution_count": 29,
      "outputs": [
        {
          "output_type": "stream",
          "text": [
            "LR #1\n",
            "DT #1\n",
            "RF #1\n",
            "GNB #1\n",
            "SGD #1\n",
            "LR #2\n",
            "DT #2\n",
            "RF #2\n",
            "GNB #2\n",
            "SGD #2\n",
            "LR #3\n",
            "DT #3\n",
            "RF #3\n",
            "GNB #3\n",
            "SGD #3\n",
            "LR #4\n",
            "DT #4\n",
            "RF #4\n",
            "GNB #4\n",
            "SGD #4\n"
          ],
          "name": "stdout"
        },
        {
          "output_type": "execute_result",
          "data": {
            "text/html": [
              "<div>\n",
              "<style scoped>\n",
              "    .dataframe tbody tr th:only-of-type {\n",
              "        vertical-align: middle;\n",
              "    }\n",
              "\n",
              "    .dataframe tbody tr th {\n",
              "        vertical-align: top;\n",
              "    }\n",
              "\n",
              "    .dataframe thead th {\n",
              "        text-align: right;\n",
              "    }\n",
              "</style>\n",
              "<table border=\"1\" class=\"dataframe\">\n",
              "  <thead>\n",
              "    <tr style=\"text-align: right;\">\n",
              "      <th></th>\n",
              "      <th>LR #1</th>\n",
              "      <th>LR #2</th>\n",
              "      <th>LR #3</th>\n",
              "      <th>RF #4</th>\n",
              "    </tr>\n",
              "  </thead>\n",
              "  <tbody>\n",
              "    <tr>\n",
              "      <th>Global accuracy</th>\n",
              "      <td>0.717007</td>\n",
              "      <td>0.639509</td>\n",
              "      <td>0.728052</td>\n",
              "      <td>0.742786</td>\n",
              "    </tr>\n",
              "    <tr>\n",
              "      <th>Class 1</th>\n",
              "      <td>0.752254</td>\n",
              "      <td>0.694636</td>\n",
              "      <td>0.750201</td>\n",
              "      <td>0.760081</td>\n",
              "    </tr>\n",
              "    <tr>\n",
              "      <th>Class 2</th>\n",
              "      <td>0.555417</td>\n",
              "      <td>0.544955</td>\n",
              "      <td>0.637263</td>\n",
              "      <td>0.665158</td>\n",
              "    </tr>\n",
              "    <tr>\n",
              "      <th>G-mean</th>\n",
              "      <td>0.646386</td>\n",
              "      <td>0.615260</td>\n",
              "      <td>0.691430</td>\n",
              "      <td>0.711037</td>\n",
              "    </tr>\n",
              "    <tr>\n",
              "      <th>Training time</th>\n",
              "      <td>3.563457</td>\n",
              "      <td>0.314216</td>\n",
              "      <td>0.173733</td>\n",
              "      <td>0.366799</td>\n",
              "    </tr>\n",
              "  </tbody>\n",
              "</table>\n",
              "</div>"
            ],
            "text/plain": [
              "                    LR #1     LR #2     LR #3     RF #4\n",
              "Global accuracy  0.717007  0.639509  0.728052  0.742786\n",
              "Class 1          0.752254  0.694636  0.750201  0.760081\n",
              "Class 2          0.555417  0.544955  0.637263  0.665158\n",
              "G-mean           0.646386  0.615260  0.691430  0.711037\n",
              "Training time    3.563457  0.314216  0.173733  0.366799"
            ]
          },
          "metadata": {
            "tags": []
          },
          "execution_count": 29
        }
      ]
    },
    {
      "cell_type": "markdown",
      "metadata": {
        "id": "yA2m3ULWuhHX"
      },
      "source": [
        "### SMOTE\n"
      ]
    },
    {
      "cell_type": "code",
      "metadata": {
        "id": "vYI3XOTVIdxi"
      },
      "source": [
        "rsts = pd.DataFrame()\n",
        "for i in range(4):\n",
        "  MLs = create_ML('balanced')\n",
        "  sm = SMOTE(random_state=42)\n",
        "  X_train, X_test, y_train, y_test = prepare_data2(sets[i][0],sets[i][1],sm)\n",
        "  for clf_name, clf in MLs.items():\n",
        "    name = '{0} #{1}'.format(clf_name,i+1)\n",
        "    print(name)\n",
        "    try:\n",
        "      rsts[name] = train_model(X_train, X_test, y_train, y_test, clf)\n",
        "    except Exception as e: print(e)\n",
        "    \n",
        "rsts.index = index\n",
        "best_rst = []\n",
        "for i in range(4):\n",
        "  algo = rsts.loc['G-mean'][i*5:i*5+5].idxmax()\n",
        "  best_rst.append(algo)\n",
        "best_rst_ur = rsts[best_rst].copy()\n",
        "best_rst_ur"
      ],
      "execution_count": null,
      "outputs": []
    },
    {
      "cell_type": "markdown",
      "metadata": {
        "id": "AHTKs48tNpop"
      },
      "source": [
        "### BorderlineSMOTE\n"
      ]
    },
    {
      "cell_type": "code",
      "metadata": {
        "id": "oDFz_fTvNpos",
        "outputId": "e9900554-ccc8-4dec-f579-8a8270e9edb7",
        "colab": {
          "base_uri": "https://localhost:8080/",
          "height": 612
        }
      },
      "source": [
        "rsts = pd.DataFrame()\n",
        "for i in range(4):\n",
        "  MLs = create_ML('balanced')\n",
        "  bsm = BorderlineSMOTE(random_state=42)\n",
        "  X_train, X_test, y_train, y_test = prepare_data2(sets[i][0],sets[i][1],bsm)\n",
        "  for clf_name, clf in MLs.items():\n",
        "    name = '{0} #{1}'.format(clf_name,i+1)\n",
        "    print(name)\n",
        "    try:\n",
        "      rsts[name] = train_model(X_train, X_test, y_train, y_test, clf)\n",
        "    except Exception as e: print(e)\n",
        "    \n",
        "rsts.index = index\n",
        "best_rst = []\n",
        "for i in range(4):\n",
        "  algo = rsts.loc['G-mean'][i*5:i*5+5].idxmax()\n",
        "  best_rst.append(algo)\n",
        "best_rst_ur = rsts[best_rst].copy()\n",
        "best_rst_ur"
      ],
      "execution_count": null,
      "outputs": [
        {
          "output_type": "stream",
          "text": [
            "Counter({0: 384890, 1: 384890}) BorderlineSMOTE\n",
            "LR #1\n",
            "DT #1\n",
            "RF #1\n",
            "GNB #1\n",
            "SGD #1\n",
            "Counter({1: 53032, 0: 53032}) BorderlineSMOTE\n",
            "LR #2\n",
            "DT #2\n",
            "RF #2\n",
            "GNB #2\n",
            "SGD #2\n",
            "Counter({0: 24859, 1: 24859}) BorderlineSMOTE\n",
            "LR #3\n",
            "DT #3\n",
            "RF #3\n",
            "GNB #3\n",
            "SGD #3\n",
            "Counter({0: 4959, 1: 4959}) BorderlineSMOTE\n",
            "LR #4\n",
            "DT #4\n",
            "RF #4\n",
            "GNB #4\n",
            "SGD #4\n"
          ],
          "name": "stdout"
        },
        {
          "output_type": "execute_result",
          "data": {
            "text/html": [
              "<div>\n",
              "<style scoped>\n",
              "    .dataframe tbody tr th:only-of-type {\n",
              "        vertical-align: middle;\n",
              "    }\n",
              "\n",
              "    .dataframe tbody tr th {\n",
              "        vertical-align: top;\n",
              "    }\n",
              "\n",
              "    .dataframe thead th {\n",
              "        text-align: right;\n",
              "    }\n",
              "</style>\n",
              "<table border=\"1\" class=\"dataframe\">\n",
              "  <thead>\n",
              "    <tr style=\"text-align: right;\">\n",
              "      <th></th>\n",
              "      <th>DT #1</th>\n",
              "      <th>RF #2</th>\n",
              "      <th>DT #3</th>\n",
              "      <th>DT #4</th>\n",
              "    </tr>\n",
              "  </thead>\n",
              "  <tbody>\n",
              "    <tr>\n",
              "      <th>Global accuracy</th>\n",
              "      <td>0.840253</td>\n",
              "      <td>0.684722</td>\n",
              "      <td>0.814662</td>\n",
              "      <td>0.845262</td>\n",
              "    </tr>\n",
              "    <tr>\n",
              "      <th>Class 1</th>\n",
              "      <td>0.829796</td>\n",
              "      <td>0.688225</td>\n",
              "      <td>0.804907</td>\n",
              "      <td>0.835685</td>\n",
              "    </tr>\n",
              "    <tr>\n",
              "      <th>Class 2</th>\n",
              "      <td>0.850711</td>\n",
              "      <td>0.681218</td>\n",
              "      <td>0.824417</td>\n",
              "      <td>0.854839</td>\n",
              "    </tr>\n",
              "    <tr>\n",
              "      <th>G-mean</th>\n",
              "      <td>0.840188</td>\n",
              "      <td>0.684713</td>\n",
              "      <td>0.814604</td>\n",
              "      <td>0.845208</td>\n",
              "    </tr>\n",
              "    <tr>\n",
              "      <th>Training time</th>\n",
              "      <td>23.657061</td>\n",
              "      <td>4.647530</td>\n",
              "      <td>0.944167</td>\n",
              "      <td>0.195716</td>\n",
              "    </tr>\n",
              "  </tbody>\n",
              "</table>\n",
              "</div>"
            ],
            "text/plain": [
              "                     DT #1     RF #2     DT #3     DT #4\n",
              "Global accuracy   0.840253  0.684722  0.814662  0.845262\n",
              "Class 1           0.829796  0.688225  0.804907  0.835685\n",
              "Class 2           0.850711  0.681218  0.824417  0.854839\n",
              "G-mean            0.840188  0.684713  0.814604  0.845208\n",
              "Training time    23.657061  4.647530  0.944167  0.195716"
            ]
          },
          "metadata": {
            "tags": []
          },
          "execution_count": 106
        }
      ]
    },
    {
      "cell_type": "markdown",
      "metadata": {
        "id": "KUjvQL9qNqhP"
      },
      "source": [
        "### Adasyn\n"
      ]
    },
    {
      "cell_type": "code",
      "metadata": {
        "id": "5SumBeEhNqhQ",
        "outputId": "2c1b2d52-87f9-45d8-bc00-68c83ee2c916",
        "colab": {
          "base_uri": "https://localhost:8080/",
          "height": 612
        }
      },
      "source": [
        "rsts = pd.DataFrame()\n",
        "for i in range(4):\n",
        "  MLs = create_ML('balanced')\n",
        "  ada = ADASYN(random_state=42)\n",
        "  X_train, X_test, y_train, y_test = prepare_data2(sets[i][0],sets[i][1],ada)\n",
        "  for clf_name, clf in MLs.items():\n",
        "    name = '{0} #{1}'.format(clf_name,i+1)\n",
        "    print(name)\n",
        "    try:\n",
        "      rsts[name] = train_model(X_train, X_test, y_train, y_test, clf)\n",
        "    except Exception as e: print(e)\n",
        "    \n",
        "rsts.index = index\n",
        "best_rst = []\n",
        "for i in range(4):\n",
        "  algo = rsts.loc['G-mean'][i*5:i*5+5].idxmax()\n",
        "  best_rst.append(algo)\n",
        "best_rst_ur = rsts[best_rst].copy()\n",
        "best_rst_ur"
      ],
      "execution_count": null,
      "outputs": [
        {
          "output_type": "stream",
          "text": [
            "Counter({1: 412121, 0: 384890}) ADASYN\n",
            "LR #1\n",
            "DT #1\n",
            "RF #1\n",
            "GNB #1\n",
            "SGD #1\n",
            "Counter({0: 53032, 1: 52287}) ADASYN\n",
            "LR #2\n",
            "DT #2\n",
            "RF #2\n",
            "GNB #2\n",
            "SGD #2\n",
            "Counter({0: 24859, 1: 24565}) ADASYN\n",
            "LR #3\n",
            "DT #3\n",
            "RF #3\n",
            "GNB #3\n",
            "SGD #3\n",
            "Counter({0: 4959, 1: 4854}) ADASYN\n",
            "LR #4\n",
            "DT #4\n",
            "RF #4\n",
            "GNB #4\n",
            "SGD #4\n"
          ],
          "name": "stdout"
        },
        {
          "output_type": "execute_result",
          "data": {
            "text/html": [
              "<div>\n",
              "<style scoped>\n",
              "    .dataframe tbody tr th:only-of-type {\n",
              "        vertical-align: middle;\n",
              "    }\n",
              "\n",
              "    .dataframe tbody tr th {\n",
              "        vertical-align: top;\n",
              "    }\n",
              "\n",
              "    .dataframe thead th {\n",
              "        text-align: right;\n",
              "    }\n",
              "</style>\n",
              "<table border=\"1\" class=\"dataframe\">\n",
              "  <thead>\n",
              "    <tr style=\"text-align: right;\">\n",
              "      <th></th>\n",
              "      <th>DT #1</th>\n",
              "      <th>RF #2</th>\n",
              "      <th>DT #3</th>\n",
              "      <th>DT #4</th>\n",
              "    </tr>\n",
              "  </thead>\n",
              "  <tbody>\n",
              "    <tr>\n",
              "      <th>Global accuracy</th>\n",
              "      <td>0.842801</td>\n",
              "      <td>0.683393</td>\n",
              "      <td>0.813556</td>\n",
              "      <td>0.851758</td>\n",
              "    </tr>\n",
              "    <tr>\n",
              "      <th>Class 1</th>\n",
              "      <td>0.824807</td>\n",
              "      <td>0.685114</td>\n",
              "      <td>0.805712</td>\n",
              "      <td>0.848790</td>\n",
              "    </tr>\n",
              "    <tr>\n",
              "      <th>Class 2</th>\n",
              "      <td>0.859606</td>\n",
              "      <td>0.681649</td>\n",
              "      <td>0.821494</td>\n",
              "      <td>0.854789</td>\n",
              "    </tr>\n",
              "    <tr>\n",
              "      <th>G-mean</th>\n",
              "      <td>0.842027</td>\n",
              "      <td>0.683379</td>\n",
              "      <td>0.813565</td>\n",
              "      <td>0.851784</td>\n",
              "    </tr>\n",
              "    <tr>\n",
              "      <th>Training time</th>\n",
              "      <td>26.866232</td>\n",
              "      <td>5.106712</td>\n",
              "      <td>0.913328</td>\n",
              "      <td>0.184428</td>\n",
              "    </tr>\n",
              "  </tbody>\n",
              "</table>\n",
              "</div>"
            ],
            "text/plain": [
              "                     DT #1     RF #2     DT #3     DT #4\n",
              "Global accuracy   0.842801  0.683393  0.813556  0.851758\n",
              "Class 1           0.824807  0.685114  0.805712  0.848790\n",
              "Class 2           0.859606  0.681649  0.821494  0.854789\n",
              "G-mean            0.842027  0.683379  0.813565  0.851784\n",
              "Training time    26.866232  5.106712  0.913328  0.184428"
            ]
          },
          "metadata": {
            "tags": []
          },
          "execution_count": 107
        }
      ]
    },
    {
      "cell_type": "code",
      "metadata": {
        "id": "d-H7mGzZZke9"
      },
      "source": [
        ""
      ],
      "execution_count": null,
      "outputs": []
    },
    {
      "cell_type": "markdown",
      "metadata": {
        "id": "Gtu9Frk5Wg2W"
      },
      "source": [
        "# Variables\n"
      ]
    },
    {
      "cell_type": "code",
      "metadata": {
        "id": "PKl1e9RwVCCk"
      },
      "source": [
        "%whos"
      ],
      "execution_count": null,
      "outputs": []
    }
  ]
}