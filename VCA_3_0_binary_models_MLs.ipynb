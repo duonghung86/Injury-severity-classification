{
  "nbformat": 4,
  "nbformat_minor": 0,
  "metadata": {
    "colab": {
      "name": "VCA_3_0_binary_models_MLs.ipynb",
      "provenance": [],
      "collapsed_sections": [],
      "toc_visible": true,
      "include_colab_link": true
    },
    "kernelspec": {
      "display_name": "Python 3",
      "language": "python",
      "name": "python3"
    },
    "language_info": {
      "codemirror_mode": {
        "name": "ipython",
        "version": 3
      },
      "file_extension": ".py",
      "mimetype": "text/x-python",
      "name": "python",
      "nbconvert_exporter": "python",
      "pygments_lexer": "ipython3",
      "version": "3.7.7"
    },
    "toc": {
      "base_numbering": 1,
      "nav_menu": {},
      "number_sections": true,
      "sideBar": true,
      "skip_h1_title": false,
      "title_cell": "Table of Contents",
      "title_sidebar": "Contents",
      "toc_cell": false,
      "toc_position": {},
      "toc_section_display": true,
      "toc_window_display": true
    }
  },
  "cells": [
    {
      "cell_type": "markdown",
      "metadata": {
        "id": "view-in-github",
        "colab_type": "text"
      },
      "source": [
        "<a href=\"https://colab.research.google.com/github/duonghung86/Injury-severity-classification/blob/main/VCA_3_0_binary_models_MLs.ipynb\" target=\"_parent\"><img src=\"https://colab.research.google.com/assets/colab-badge.svg\" alt=\"Open In Colab\"/></a>"
      ]
    },
    {
      "cell_type": "code",
      "metadata": {
        "ExecuteTime": {
          "end_time": "2020-05-22T16:58:50.479838Z",
          "start_time": "2020-05-22T16:58:42.773756Z"
        },
        "id": "1QxOQkOlJ1S_"
      },
      "source": [
        "# Basic packages\n",
        "import matplotlib.pyplot as plt\n",
        "import numpy as np\n",
        "import pandas as pd\n",
        "import tensorflow as tf\n",
        "from tensorflow import keras\n",
        "import time\n",
        "from collections import Counter"
      ],
      "execution_count": null,
      "outputs": []
    },
    {
      "cell_type": "markdown",
      "metadata": {
        "id": "Cq34ehtsJ1Th"
      },
      "source": [
        "# Import dataset"
      ]
    },
    {
      "cell_type": "code",
      "metadata": {
        "ExecuteTime": {
          "end_time": "2020-05-22T16:58:50.489267Z",
          "start_time": "2020-05-22T16:58:50.483277Z"
        },
        "id": "zIfnkmMfKLN-",
        "outputId": "fa42e623-ba02-4e5b-cdcf-299d58e38655",
        "colab": {
          "base_uri": "https://localhost:8080/",
          "height": 241
        }
      },
      "source": [
        "df=pd.read_csv('https://raw.githubusercontent.com/duonghung86/Injury-severity-classification/main/final%20data%20nomap.csv')\n",
        "print(df.shape)\n",
        "df.head()"
      ],
      "execution_count": null,
      "outputs": [
        {
          "output_type": "stream",
          "text": [
            "(468844, 41)\n"
          ],
          "name": "stdout"
        },
        {
          "output_type": "execute_result",
          "data": {
            "text/html": [
              "<div>\n",
              "<style scoped>\n",
              "    .dataframe tbody tr th:only-of-type {\n",
              "        vertical-align: middle;\n",
              "    }\n",
              "\n",
              "    .dataframe tbody tr th {\n",
              "        vertical-align: top;\n",
              "    }\n",
              "\n",
              "    .dataframe thead th {\n",
              "        text-align: right;\n",
              "    }\n",
              "</style>\n",
              "<table border=\"1\" class=\"dataframe\">\n",
              "  <thead>\n",
              "    <tr style=\"text-align: right;\">\n",
              "      <th></th>\n",
              "      <th>Unit_Nbr</th>\n",
              "      <th>Prsn_Type_ID</th>\n",
              "      <th>Prsn_Occpnt_Pos_ID</th>\n",
              "      <th>Prsn_Injry_Sev_ID</th>\n",
              "      <th>Prsn_Age</th>\n",
              "      <th>Prsn_Ethnicity_ID</th>\n",
              "      <th>Prsn_Gndr_ID</th>\n",
              "      <th>Prsn_Ejct_ID</th>\n",
              "      <th>Prsn_Rest_ID</th>\n",
              "      <th>Prsn_Airbag_ID</th>\n",
              "      <th>Prsn_Helmet_ID</th>\n",
              "      <th>Prsn_Drg_Rslt_ID</th>\n",
              "      <th>Day_of_Week</th>\n",
              "      <th>Rpt_Rdwy_Sys_ID</th>\n",
              "      <th>Rpt_Road_Part_ID</th>\n",
              "      <th>Toll_Road_Fl</th>\n",
              "      <th>Crash_Speed_Limit</th>\n",
              "      <th>Road_Constr_Zone_Fl</th>\n",
              "      <th>Road_Constr_Zone_Wrkr_Fl</th>\n",
              "      <th>At_Intrsct_Fl</th>\n",
              "      <th>Wthr_Cond_ID</th>\n",
              "      <th>Light_Cond_ID</th>\n",
              "      <th>Road_Algn_ID</th>\n",
              "      <th>Surf_Cond_ID</th>\n",
              "      <th>Traffic_Cntl_ID</th>\n",
              "      <th>Latitude</th>\n",
              "      <th>Longitude</th>\n",
              "      <th>Pop_Group_ID</th>\n",
              "      <th>Unit_Desc_ID</th>\n",
              "      <th>Veh_Parked_Fl</th>\n",
              "      <th>Veh_HNR_Fl</th>\n",
              "      <th>Veh_Mod_Year</th>\n",
              "      <th>Veh_Color_ID</th>\n",
              "      <th>Veh_Make_ID</th>\n",
              "      <th>Veh_Mod_ID</th>\n",
              "      <th>Veh_Body_Styl_ID</th>\n",
              "      <th>Crash_month</th>\n",
              "      <th>Crash_day</th>\n",
              "      <th>Crash_hour</th>\n",
              "      <th>Crash_min</th>\n",
              "      <th>Weekend</th>\n",
              "    </tr>\n",
              "  </thead>\n",
              "  <tbody>\n",
              "    <tr>\n",
              "      <th>0</th>\n",
              "      <td>1</td>\n",
              "      <td>1</td>\n",
              "      <td>1</td>\n",
              "      <td>0</td>\n",
              "      <td>48</td>\n",
              "      <td>1</td>\n",
              "      <td>1</td>\n",
              "      <td>1</td>\n",
              "      <td>1</td>\n",
              "      <td>2</td>\n",
              "      <td>97</td>\n",
              "      <td>97</td>\n",
              "      <td>7</td>\n",
              "      <td>2</td>\n",
              "      <td>1</td>\n",
              "      <td>0</td>\n",
              "      <td>35</td>\n",
              "      <td>0</td>\n",
              "      <td>0</td>\n",
              "      <td>1</td>\n",
              "      <td>11</td>\n",
              "      <td>1</td>\n",
              "      <td>3</td>\n",
              "      <td>1</td>\n",
              "      <td>5</td>\n",
              "      <td>30.660685</td>\n",
              "      <td>-93.893906</td>\n",
              "      <td>1</td>\n",
              "      <td>1</td>\n",
              "      <td>0</td>\n",
              "      <td>0</td>\n",
              "      <td>2002</td>\n",
              "      <td>21</td>\n",
              "      <td>107</td>\n",
              "      <td>547</td>\n",
              "      <td>69</td>\n",
              "      <td>6</td>\n",
              "      <td>15</td>\n",
              "      <td>11</td>\n",
              "      <td>0</td>\n",
              "      <td>1</td>\n",
              "    </tr>\n",
              "    <tr>\n",
              "      <th>1</th>\n",
              "      <td>2</td>\n",
              "      <td>1</td>\n",
              "      <td>1</td>\n",
              "      <td>2</td>\n",
              "      <td>58</td>\n",
              "      <td>1</td>\n",
              "      <td>2</td>\n",
              "      <td>1</td>\n",
              "      <td>1</td>\n",
              "      <td>3</td>\n",
              "      <td>97</td>\n",
              "      <td>1</td>\n",
              "      <td>7</td>\n",
              "      <td>2</td>\n",
              "      <td>1</td>\n",
              "      <td>0</td>\n",
              "      <td>35</td>\n",
              "      <td>0</td>\n",
              "      <td>0</td>\n",
              "      <td>1</td>\n",
              "      <td>11</td>\n",
              "      <td>1</td>\n",
              "      <td>3</td>\n",
              "      <td>1</td>\n",
              "      <td>5</td>\n",
              "      <td>30.660685</td>\n",
              "      <td>-93.893906</td>\n",
              "      <td>1</td>\n",
              "      <td>1</td>\n",
              "      <td>0</td>\n",
              "      <td>0</td>\n",
              "      <td>2012</td>\n",
              "      <td>17</td>\n",
              "      <td>91</td>\n",
              "      <td>629</td>\n",
              "      <td>30</td>\n",
              "      <td>6</td>\n",
              "      <td>15</td>\n",
              "      <td>11</td>\n",
              "      <td>0</td>\n",
              "      <td>1</td>\n",
              "    </tr>\n",
              "    <tr>\n",
              "      <th>2</th>\n",
              "      <td>1</td>\n",
              "      <td>1</td>\n",
              "      <td>1</td>\n",
              "      <td>0</td>\n",
              "      <td>68</td>\n",
              "      <td>1</td>\n",
              "      <td>1</td>\n",
              "      <td>1</td>\n",
              "      <td>1</td>\n",
              "      <td>2</td>\n",
              "      <td>97</td>\n",
              "      <td>97</td>\n",
              "      <td>4</td>\n",
              "      <td>2</td>\n",
              "      <td>1</td>\n",
              "      <td>0</td>\n",
              "      <td>45</td>\n",
              "      <td>0</td>\n",
              "      <td>0</td>\n",
              "      <td>0</td>\n",
              "      <td>11</td>\n",
              "      <td>1</td>\n",
              "      <td>1</td>\n",
              "      <td>1</td>\n",
              "      <td>20</td>\n",
              "      <td>33.203920</td>\n",
              "      <td>-96.596654</td>\n",
              "      <td>8</td>\n",
              "      <td>1</td>\n",
              "      <td>0</td>\n",
              "      <td>0</td>\n",
              "      <td>1996</td>\n",
              "      <td>21</td>\n",
              "      <td>672</td>\n",
              "      <td>2103</td>\n",
              "      <td>87</td>\n",
              "      <td>6</td>\n",
              "      <td>12</td>\n",
              "      <td>9</td>\n",
              "      <td>53</td>\n",
              "      <td>0</td>\n",
              "    </tr>\n",
              "    <tr>\n",
              "      <th>3</th>\n",
              "      <td>3</td>\n",
              "      <td>1</td>\n",
              "      <td>1</td>\n",
              "      <td>0</td>\n",
              "      <td>67</td>\n",
              "      <td>1</td>\n",
              "      <td>2</td>\n",
              "      <td>1</td>\n",
              "      <td>1</td>\n",
              "      <td>4</td>\n",
              "      <td>97</td>\n",
              "      <td>97</td>\n",
              "      <td>4</td>\n",
              "      <td>2</td>\n",
              "      <td>1</td>\n",
              "      <td>0</td>\n",
              "      <td>45</td>\n",
              "      <td>0</td>\n",
              "      <td>0</td>\n",
              "      <td>0</td>\n",
              "      <td>11</td>\n",
              "      <td>1</td>\n",
              "      <td>1</td>\n",
              "      <td>1</td>\n",
              "      <td>20</td>\n",
              "      <td>33.203920</td>\n",
              "      <td>-96.596654</td>\n",
              "      <td>8</td>\n",
              "      <td>1</td>\n",
              "      <td>0</td>\n",
              "      <td>0</td>\n",
              "      <td>2016</td>\n",
              "      <td>21</td>\n",
              "      <td>44</td>\n",
              "      <td>605</td>\n",
              "      <td>69</td>\n",
              "      <td>6</td>\n",
              "      <td>12</td>\n",
              "      <td>9</td>\n",
              "      <td>53</td>\n",
              "      <td>0</td>\n",
              "    </tr>\n",
              "    <tr>\n",
              "      <th>4</th>\n",
              "      <td>1</td>\n",
              "      <td>1</td>\n",
              "      <td>1</td>\n",
              "      <td>0</td>\n",
              "      <td>36</td>\n",
              "      <td>2</td>\n",
              "      <td>2</td>\n",
              "      <td>1</td>\n",
              "      <td>1</td>\n",
              "      <td>2</td>\n",
              "      <td>97</td>\n",
              "      <td>97</td>\n",
              "      <td>3</td>\n",
              "      <td>19</td>\n",
              "      <td>1</td>\n",
              "      <td>0</td>\n",
              "      <td>35</td>\n",
              "      <td>0</td>\n",
              "      <td>0</td>\n",
              "      <td>0</td>\n",
              "      <td>12</td>\n",
              "      <td>1</td>\n",
              "      <td>2</td>\n",
              "      <td>1</td>\n",
              "      <td>10</td>\n",
              "      <td>29.792394</td>\n",
              "      <td>-95.746539</td>\n",
              "      <td>0</td>\n",
              "      <td>1</td>\n",
              "      <td>0</td>\n",
              "      <td>0</td>\n",
              "      <td>2014</td>\n",
              "      <td>2</td>\n",
              "      <td>91</td>\n",
              "      <td>380</td>\n",
              "      <td>104</td>\n",
              "      <td>6</td>\n",
              "      <td>4</td>\n",
              "      <td>15</td>\n",
              "      <td>7</td>\n",
              "      <td>0</td>\n",
              "    </tr>\n",
              "  </tbody>\n",
              "</table>\n",
              "</div>"
            ],
            "text/plain": [
              "   Unit_Nbr  Prsn_Type_ID  Prsn_Occpnt_Pos_ID  ...  Crash_hour  Crash_min  Weekend\n",
              "0         1             1                   1  ...          11          0        1\n",
              "1         2             1                   1  ...          11          0        1\n",
              "2         1             1                   1  ...           9         53        0\n",
              "3         3             1                   1  ...           9         53        0\n",
              "4         1             1                   1  ...          15          7        0\n",
              "\n",
              "[5 rows x 41 columns]"
            ]
          },
          "metadata": {
            "tags": []
          },
          "execution_count": 2
        }
      ]
    },
    {
      "cell_type": "code",
      "metadata": {
        "ExecuteTime": {
          "end_time": "2020-05-22T16:59:01.505031Z",
          "start_time": "2020-05-22T16:59:01.492554Z"
        },
        "id": "0yIHRk4sJ1Tx",
        "outputId": "bff70a84-48ee-4cc8-aa51-fe079580d233",
        "colab": {
          "base_uri": "https://localhost:8080/",
          "height": 119
        }
      },
      "source": [
        "y=df['Prsn_Injry_Sev_ID']\n",
        "y.value_counts()"
      ],
      "execution_count": null,
      "outputs": [
        {
          "output_type": "execute_result",
          "data": {
            "text/plain": [
              "0    384890\n",
              "1     53032\n",
              "2     24859\n",
              "3      4959\n",
              "4      1104\n",
              "Name: Prsn_Injry_Sev_ID, dtype: int64"
            ]
          },
          "metadata": {
            "tags": []
          },
          "execution_count": 3
        }
      ]
    },
    {
      "cell_type": "code",
      "metadata": {
        "id": "e--sth53sUJ2",
        "outputId": "f479f31e-c0aa-41ab-bc12-c4079e9b941d",
        "colab": {
          "base_uri": "https://localhost:8080/",
          "height": 34
        }
      },
      "source": [
        "X = df.drop(columns=['Prsn_Injry_Sev_ID'])\n",
        "X.shape"
      ],
      "execution_count": null,
      "outputs": [
        {
          "output_type": "execute_result",
          "data": {
            "text/plain": [
              "(468844, 40)"
            ]
          },
          "metadata": {
            "tags": []
          },
          "execution_count": 4
        }
      ]
    },
    {
      "cell_type": "markdown",
      "metadata": {
        "id": "zwJyLsYwbHPN"
      },
      "source": [
        "# Prepare 5 different data set and labels:\n",
        "\n",
        "1. No injury (0) vs injury (1/2/3/4)\n",
        "2. Possible injury (1) vs real injury (2/3/4)\n",
        "3. Non-incapaciting (2) vs severe injury (3/4)\n",
        "4. Incapacitating (3) vs Fatal (4) "
      ]
    },
    {
      "cell_type": "code",
      "metadata": {
        "id": "NDp8cFdFcMk6",
        "outputId": "d0c8036b-4379-4544-d0e7-e319dc432037",
        "colab": {
          "base_uri": "https://localhost:8080/",
          "height": 153
        }
      },
      "source": [
        "sets = {}\n",
        "for i in range(4):\n",
        "  sub_df = df[df.Prsn_Injry_Sev_ID.isin(np.arange(i,5))].copy()\n",
        "  y_i = np.where(sub_df.Prsn_Injry_Sev_ID==i,0,1)\n",
        "  print(Counter(y_i))\n",
        "  X_i = sub_df.drop(columns=['Prsn_Injry_Sev_ID']).copy()\n",
        "  print(X_i.shape)\n",
        "  sets[i] = (X_i,y_i)"
      ],
      "execution_count": null,
      "outputs": [
        {
          "output_type": "stream",
          "text": [
            "Counter({0: 384890, 1: 83954})\n",
            "(468844, 40)\n",
            "Counter({0: 53032, 1: 30922})\n",
            "(83954, 40)\n",
            "Counter({0: 24859, 1: 6063})\n",
            "(30922, 40)\n",
            "Counter({0: 4959, 1: 1104})\n",
            "(6063, 40)\n"
          ],
          "name": "stdout"
        }
      ]
    },
    {
      "cell_type": "code",
      "metadata": {
        "id": "Y3ZgNXjFcNND",
        "outputId": "043867d0-1d26-4950-c0b7-6e1fb30fa516",
        "colab": {
          "base_uri": "https://localhost:8080/",
          "height": 439
        }
      },
      "source": [
        "sets[1][0]"
      ],
      "execution_count": null,
      "outputs": [
        {
          "output_type": "execute_result",
          "data": {
            "text/html": [
              "<div>\n",
              "<style scoped>\n",
              "    .dataframe tbody tr th:only-of-type {\n",
              "        vertical-align: middle;\n",
              "    }\n",
              "\n",
              "    .dataframe tbody tr th {\n",
              "        vertical-align: top;\n",
              "    }\n",
              "\n",
              "    .dataframe thead th {\n",
              "        text-align: right;\n",
              "    }\n",
              "</style>\n",
              "<table border=\"1\" class=\"dataframe\">\n",
              "  <thead>\n",
              "    <tr style=\"text-align: right;\">\n",
              "      <th></th>\n",
              "      <th>Unit_Nbr</th>\n",
              "      <th>Prsn_Type_ID</th>\n",
              "      <th>Prsn_Occpnt_Pos_ID</th>\n",
              "      <th>Prsn_Age</th>\n",
              "      <th>Prsn_Ethnicity_ID</th>\n",
              "      <th>Prsn_Gndr_ID</th>\n",
              "      <th>Prsn_Ejct_ID</th>\n",
              "      <th>Prsn_Rest_ID</th>\n",
              "      <th>Prsn_Airbag_ID</th>\n",
              "      <th>Prsn_Helmet_ID</th>\n",
              "      <th>Prsn_Drg_Rslt_ID</th>\n",
              "      <th>Day_of_Week</th>\n",
              "      <th>Rpt_Rdwy_Sys_ID</th>\n",
              "      <th>Rpt_Road_Part_ID</th>\n",
              "      <th>Toll_Road_Fl</th>\n",
              "      <th>Crash_Speed_Limit</th>\n",
              "      <th>Road_Constr_Zone_Fl</th>\n",
              "      <th>Road_Constr_Zone_Wrkr_Fl</th>\n",
              "      <th>At_Intrsct_Fl</th>\n",
              "      <th>Wthr_Cond_ID</th>\n",
              "      <th>Light_Cond_ID</th>\n",
              "      <th>Road_Algn_ID</th>\n",
              "      <th>Surf_Cond_ID</th>\n",
              "      <th>Traffic_Cntl_ID</th>\n",
              "      <th>Latitude</th>\n",
              "      <th>Longitude</th>\n",
              "      <th>Pop_Group_ID</th>\n",
              "      <th>Unit_Desc_ID</th>\n",
              "      <th>Veh_Parked_Fl</th>\n",
              "      <th>Veh_HNR_Fl</th>\n",
              "      <th>Veh_Mod_Year</th>\n",
              "      <th>Veh_Color_ID</th>\n",
              "      <th>Veh_Make_ID</th>\n",
              "      <th>Veh_Mod_ID</th>\n",
              "      <th>Veh_Body_Styl_ID</th>\n",
              "      <th>Crash_month</th>\n",
              "      <th>Crash_day</th>\n",
              "      <th>Crash_hour</th>\n",
              "      <th>Crash_min</th>\n",
              "      <th>Weekend</th>\n",
              "    </tr>\n",
              "  </thead>\n",
              "  <tbody>\n",
              "    <tr>\n",
              "      <th>1</th>\n",
              "      <td>2</td>\n",
              "      <td>1</td>\n",
              "      <td>1</td>\n",
              "      <td>58</td>\n",
              "      <td>1</td>\n",
              "      <td>2</td>\n",
              "      <td>1</td>\n",
              "      <td>1</td>\n",
              "      <td>3</td>\n",
              "      <td>97</td>\n",
              "      <td>1</td>\n",
              "      <td>7</td>\n",
              "      <td>2</td>\n",
              "      <td>1</td>\n",
              "      <td>0</td>\n",
              "      <td>35</td>\n",
              "      <td>0</td>\n",
              "      <td>0</td>\n",
              "      <td>1</td>\n",
              "      <td>11</td>\n",
              "      <td>1</td>\n",
              "      <td>3</td>\n",
              "      <td>1</td>\n",
              "      <td>5</td>\n",
              "      <td>30.660685</td>\n",
              "      <td>-93.893906</td>\n",
              "      <td>1</td>\n",
              "      <td>1</td>\n",
              "      <td>0</td>\n",
              "      <td>0</td>\n",
              "      <td>2012</td>\n",
              "      <td>17</td>\n",
              "      <td>91</td>\n",
              "      <td>629</td>\n",
              "      <td>30</td>\n",
              "      <td>6</td>\n",
              "      <td>15</td>\n",
              "      <td>11</td>\n",
              "      <td>0</td>\n",
              "      <td>1</td>\n",
              "    </tr>\n",
              "    <tr>\n",
              "      <th>7</th>\n",
              "      <td>1</td>\n",
              "      <td>5</td>\n",
              "      <td>1</td>\n",
              "      <td>61</td>\n",
              "      <td>1</td>\n",
              "      <td>1</td>\n",
              "      <td>4</td>\n",
              "      <td>11</td>\n",
              "      <td>1</td>\n",
              "      <td>4</td>\n",
              "      <td>97</td>\n",
              "      <td>7</td>\n",
              "      <td>2</td>\n",
              "      <td>1</td>\n",
              "      <td>0</td>\n",
              "      <td>60</td>\n",
              "      <td>0</td>\n",
              "      <td>0</td>\n",
              "      <td>0</td>\n",
              "      <td>12</td>\n",
              "      <td>3</td>\n",
              "      <td>2</td>\n",
              "      <td>1</td>\n",
              "      <td>20</td>\n",
              "      <td>30.233210</td>\n",
              "      <td>-97.919122</td>\n",
              "      <td>0</td>\n",
              "      <td>1</td>\n",
              "      <td>0</td>\n",
              "      <td>0</td>\n",
              "      <td>2013</td>\n",
              "      <td>2</td>\n",
              "      <td>42</td>\n",
              "      <td>3118</td>\n",
              "      <td>71</td>\n",
              "      <td>6</td>\n",
              "      <td>1</td>\n",
              "      <td>0</td>\n",
              "      <td>35</td>\n",
              "      <td>1</td>\n",
              "    </tr>\n",
              "    <tr>\n",
              "      <th>8</th>\n",
              "      <td>1</td>\n",
              "      <td>5</td>\n",
              "      <td>1</td>\n",
              "      <td>49</td>\n",
              "      <td>3</td>\n",
              "      <td>1</td>\n",
              "      <td>4</td>\n",
              "      <td>11</td>\n",
              "      <td>1</td>\n",
              "      <td>4</td>\n",
              "      <td>97</td>\n",
              "      <td>7</td>\n",
              "      <td>3</td>\n",
              "      <td>1</td>\n",
              "      <td>0</td>\n",
              "      <td>60</td>\n",
              "      <td>0</td>\n",
              "      <td>0</td>\n",
              "      <td>0</td>\n",
              "      <td>11</td>\n",
              "      <td>3</td>\n",
              "      <td>1</td>\n",
              "      <td>1</td>\n",
              "      <td>20</td>\n",
              "      <td>32.683451</td>\n",
              "      <td>-97.062545</td>\n",
              "      <td>9</td>\n",
              "      <td>1</td>\n",
              "      <td>0</td>\n",
              "      <td>0</td>\n",
              "      <td>2019</td>\n",
              "      <td>3</td>\n",
              "      <td>42</td>\n",
              "      <td>3174</td>\n",
              "      <td>71</td>\n",
              "      <td>6</td>\n",
              "      <td>1</td>\n",
              "      <td>2</td>\n",
              "      <td>8</td>\n",
              "      <td>1</td>\n",
              "    </tr>\n",
              "    <tr>\n",
              "      <th>10</th>\n",
              "      <td>1</td>\n",
              "      <td>5</td>\n",
              "      <td>1</td>\n",
              "      <td>25</td>\n",
              "      <td>4</td>\n",
              "      <td>1</td>\n",
              "      <td>4</td>\n",
              "      <td>11</td>\n",
              "      <td>1</td>\n",
              "      <td>1</td>\n",
              "      <td>97</td>\n",
              "      <td>7</td>\n",
              "      <td>1</td>\n",
              "      <td>1</td>\n",
              "      <td>0</td>\n",
              "      <td>70</td>\n",
              "      <td>0</td>\n",
              "      <td>0</td>\n",
              "      <td>0</td>\n",
              "      <td>11</td>\n",
              "      <td>4</td>\n",
              "      <td>1</td>\n",
              "      <td>1</td>\n",
              "      <td>20</td>\n",
              "      <td>33.038358</td>\n",
              "      <td>-97.001723</td>\n",
              "      <td>7</td>\n",
              "      <td>1</td>\n",
              "      <td>0</td>\n",
              "      <td>0</td>\n",
              "      <td>2018</td>\n",
              "      <td>2</td>\n",
              "      <td>44</td>\n",
              "      <td>4803</td>\n",
              "      <td>71</td>\n",
              "      <td>6</td>\n",
              "      <td>1</td>\n",
              "      <td>2</td>\n",
              "      <td>26</td>\n",
              "      <td>1</td>\n",
              "    </tr>\n",
              "    <tr>\n",
              "      <th>11</th>\n",
              "      <td>1</td>\n",
              "      <td>1</td>\n",
              "      <td>1</td>\n",
              "      <td>53</td>\n",
              "      <td>1</td>\n",
              "      <td>1</td>\n",
              "      <td>1</td>\n",
              "      <td>1</td>\n",
              "      <td>8</td>\n",
              "      <td>97</td>\n",
              "      <td>0</td>\n",
              "      <td>7</td>\n",
              "      <td>12</td>\n",
              "      <td>2</td>\n",
              "      <td>0</td>\n",
              "      <td>50</td>\n",
              "      <td>0</td>\n",
              "      <td>0</td>\n",
              "      <td>0</td>\n",
              "      <td>11</td>\n",
              "      <td>4</td>\n",
              "      <td>4</td>\n",
              "      <td>1</td>\n",
              "      <td>20</td>\n",
              "      <td>32.986784</td>\n",
              "      <td>-96.992823</td>\n",
              "      <td>7</td>\n",
              "      <td>1</td>\n",
              "      <td>0</td>\n",
              "      <td>0</td>\n",
              "      <td>2007</td>\n",
              "      <td>16</td>\n",
              "      <td>14</td>\n",
              "      <td>2180</td>\n",
              "      <td>100</td>\n",
              "      <td>6</td>\n",
              "      <td>1</td>\n",
              "      <td>2</td>\n",
              "      <td>0</td>\n",
              "      <td>1</td>\n",
              "    </tr>\n",
              "    <tr>\n",
              "      <th>...</th>\n",
              "      <td>...</td>\n",
              "      <td>...</td>\n",
              "      <td>...</td>\n",
              "      <td>...</td>\n",
              "      <td>...</td>\n",
              "      <td>...</td>\n",
              "      <td>...</td>\n",
              "      <td>...</td>\n",
              "      <td>...</td>\n",
              "      <td>...</td>\n",
              "      <td>...</td>\n",
              "      <td>...</td>\n",
              "      <td>...</td>\n",
              "      <td>...</td>\n",
              "      <td>...</td>\n",
              "      <td>...</td>\n",
              "      <td>...</td>\n",
              "      <td>...</td>\n",
              "      <td>...</td>\n",
              "      <td>...</td>\n",
              "      <td>...</td>\n",
              "      <td>...</td>\n",
              "      <td>...</td>\n",
              "      <td>...</td>\n",
              "      <td>...</td>\n",
              "      <td>...</td>\n",
              "      <td>...</td>\n",
              "      <td>...</td>\n",
              "      <td>...</td>\n",
              "      <td>...</td>\n",
              "      <td>...</td>\n",
              "      <td>...</td>\n",
              "      <td>...</td>\n",
              "      <td>...</td>\n",
              "      <td>...</td>\n",
              "      <td>...</td>\n",
              "      <td>...</td>\n",
              "      <td>...</td>\n",
              "      <td>...</td>\n",
              "      <td>...</td>\n",
              "    </tr>\n",
              "    <tr>\n",
              "      <th>468800</th>\n",
              "      <td>2</td>\n",
              "      <td>1</td>\n",
              "      <td>1</td>\n",
              "      <td>50</td>\n",
              "      <td>0</td>\n",
              "      <td>1</td>\n",
              "      <td>1</td>\n",
              "      <td>1</td>\n",
              "      <td>8</td>\n",
              "      <td>97</td>\n",
              "      <td>97</td>\n",
              "      <td>7</td>\n",
              "      <td>2</td>\n",
              "      <td>1</td>\n",
              "      <td>0</td>\n",
              "      <td>-1</td>\n",
              "      <td>0</td>\n",
              "      <td>0</td>\n",
              "      <td>1</td>\n",
              "      <td>0</td>\n",
              "      <td>1</td>\n",
              "      <td>1</td>\n",
              "      <td>0</td>\n",
              "      <td>5</td>\n",
              "      <td>30.469010</td>\n",
              "      <td>-97.797201</td>\n",
              "      <td>9</td>\n",
              "      <td>1</td>\n",
              "      <td>0</td>\n",
              "      <td>0</td>\n",
              "      <td>2015</td>\n",
              "      <td>5</td>\n",
              "      <td>106</td>\n",
              "      <td>1373</td>\n",
              "      <td>69</td>\n",
              "      <td>11</td>\n",
              "      <td>30</td>\n",
              "      <td>8</td>\n",
              "      <td>28</td>\n",
              "      <td>1</td>\n",
              "    </tr>\n",
              "    <tr>\n",
              "      <th>468802</th>\n",
              "      <td>1</td>\n",
              "      <td>1</td>\n",
              "      <td>1</td>\n",
              "      <td>68</td>\n",
              "      <td>1</td>\n",
              "      <td>1</td>\n",
              "      <td>1</td>\n",
              "      <td>1</td>\n",
              "      <td>2</td>\n",
              "      <td>97</td>\n",
              "      <td>97</td>\n",
              "      <td>7</td>\n",
              "      <td>2</td>\n",
              "      <td>1</td>\n",
              "      <td>0</td>\n",
              "      <td>55</td>\n",
              "      <td>0</td>\n",
              "      <td>0</td>\n",
              "      <td>1</td>\n",
              "      <td>12</td>\n",
              "      <td>1</td>\n",
              "      <td>1</td>\n",
              "      <td>1</td>\n",
              "      <td>5</td>\n",
              "      <td>27.298972</td>\n",
              "      <td>-97.815207</td>\n",
              "      <td>0</td>\n",
              "      <td>1</td>\n",
              "      <td>0</td>\n",
              "      <td>0</td>\n",
              "      <td>2018</td>\n",
              "      <td>9</td>\n",
              "      <td>91</td>\n",
              "      <td>581</td>\n",
              "      <td>104</td>\n",
              "      <td>11</td>\n",
              "      <td>30</td>\n",
              "      <td>9</td>\n",
              "      <td>50</td>\n",
              "      <td>1</td>\n",
              "    </tr>\n",
              "    <tr>\n",
              "      <th>468820</th>\n",
              "      <td>1</td>\n",
              "      <td>1</td>\n",
              "      <td>1</td>\n",
              "      <td>25</td>\n",
              "      <td>3</td>\n",
              "      <td>2</td>\n",
              "      <td>1</td>\n",
              "      <td>1</td>\n",
              "      <td>2</td>\n",
              "      <td>97</td>\n",
              "      <td>97</td>\n",
              "      <td>5</td>\n",
              "      <td>19</td>\n",
              "      <td>1</td>\n",
              "      <td>0</td>\n",
              "      <td>30</td>\n",
              "      <td>0</td>\n",
              "      <td>0</td>\n",
              "      <td>0</td>\n",
              "      <td>11</td>\n",
              "      <td>1</td>\n",
              "      <td>1</td>\n",
              "      <td>1</td>\n",
              "      <td>8</td>\n",
              "      <td>32.164157</td>\n",
              "      <td>-94.328827</td>\n",
              "      <td>4</td>\n",
              "      <td>1</td>\n",
              "      <td>0</td>\n",
              "      <td>0</td>\n",
              "      <td>2008</td>\n",
              "      <td>16</td>\n",
              "      <td>37</td>\n",
              "      <td>1097</td>\n",
              "      <td>104</td>\n",
              "      <td>11</td>\n",
              "      <td>21</td>\n",
              "      <td>9</td>\n",
              "      <td>0</td>\n",
              "      <td>0</td>\n",
              "    </tr>\n",
              "    <tr>\n",
              "      <th>468833</th>\n",
              "      <td>1</td>\n",
              "      <td>1</td>\n",
              "      <td>1</td>\n",
              "      <td>71</td>\n",
              "      <td>2</td>\n",
              "      <td>2</td>\n",
              "      <td>1</td>\n",
              "      <td>1</td>\n",
              "      <td>2</td>\n",
              "      <td>97</td>\n",
              "      <td>97</td>\n",
              "      <td>7</td>\n",
              "      <td>19</td>\n",
              "      <td>1</td>\n",
              "      <td>0</td>\n",
              "      <td>35</td>\n",
              "      <td>0</td>\n",
              "      <td>0</td>\n",
              "      <td>1</td>\n",
              "      <td>11</td>\n",
              "      <td>1</td>\n",
              "      <td>5</td>\n",
              "      <td>1</td>\n",
              "      <td>8</td>\n",
              "      <td>32.674059</td>\n",
              "      <td>-96.998106</td>\n",
              "      <td>8</td>\n",
              "      <td>1</td>\n",
              "      <td>0</td>\n",
              "      <td>0</td>\n",
              "      <td>1998</td>\n",
              "      <td>10</td>\n",
              "      <td>107</td>\n",
              "      <td>57</td>\n",
              "      <td>100</td>\n",
              "      <td>11</td>\n",
              "      <td>30</td>\n",
              "      <td>11</td>\n",
              "      <td>6</td>\n",
              "      <td>1</td>\n",
              "    </tr>\n",
              "    <tr>\n",
              "      <th>468841</th>\n",
              "      <td>2</td>\n",
              "      <td>1</td>\n",
              "      <td>1</td>\n",
              "      <td>57</td>\n",
              "      <td>3</td>\n",
              "      <td>2</td>\n",
              "      <td>1</td>\n",
              "      <td>1</td>\n",
              "      <td>2</td>\n",
              "      <td>97</td>\n",
              "      <td>97</td>\n",
              "      <td>2</td>\n",
              "      <td>2</td>\n",
              "      <td>1</td>\n",
              "      <td>0</td>\n",
              "      <td>55</td>\n",
              "      <td>0</td>\n",
              "      <td>0</td>\n",
              "      <td>0</td>\n",
              "      <td>11</td>\n",
              "      <td>1</td>\n",
              "      <td>1</td>\n",
              "      <td>1</td>\n",
              "      <td>8</td>\n",
              "      <td>32.756880</td>\n",
              "      <td>-94.354907</td>\n",
              "      <td>1</td>\n",
              "      <td>1</td>\n",
              "      <td>0</td>\n",
              "      <td>0</td>\n",
              "      <td>2013</td>\n",
              "      <td>2</td>\n",
              "      <td>91</td>\n",
              "      <td>173</td>\n",
              "      <td>104</td>\n",
              "      <td>11</td>\n",
              "      <td>25</td>\n",
              "      <td>11</td>\n",
              "      <td>6</td>\n",
              "      <td>0</td>\n",
              "    </tr>\n",
              "  </tbody>\n",
              "</table>\n",
              "<p>83954 rows × 40 columns</p>\n",
              "</div>"
            ],
            "text/plain": [
              "        Unit_Nbr  Prsn_Type_ID  ...  Crash_min  Weekend\n",
              "1              2             1  ...          0        1\n",
              "7              1             5  ...         35        1\n",
              "8              1             5  ...          8        1\n",
              "10             1             5  ...         26        1\n",
              "11             1             1  ...          0        1\n",
              "...          ...           ...  ...        ...      ...\n",
              "468800         2             1  ...         28        1\n",
              "468802         1             1  ...         50        1\n",
              "468820         1             1  ...          0        0\n",
              "468833         1             1  ...          6        1\n",
              "468841         2             1  ...          6        0\n",
              "\n",
              "[83954 rows x 40 columns]"
            ]
          },
          "metadata": {
            "tags": []
          },
          "execution_count": 6
        }
      ]
    },
    {
      "cell_type": "markdown",
      "metadata": {
        "id": "T3fWsSaRsUKY"
      },
      "source": [
        "## Function to compute performance\n"
      ]
    },
    {
      "cell_type": "code",
      "metadata": {
        "id": "IFQr2WAdsUKZ",
        "outputId": "f2f209b6-3afe-4060-8cf4-8037e5dddcda",
        "colab": {
          "base_uri": "https://localhost:8080/",
          "height": 139
        }
      },
      "source": [
        "from sklearn.metrics import confusion_matrix\n",
        "import seaborn as sns\n",
        "from imblearn.metrics import geometric_mean_score\n",
        "from sklearn.metrics import auc"
      ],
      "execution_count": null,
      "outputs": [
        {
          "output_type": "stream",
          "text": [
            "/usr/local/lib/python3.6/dist-packages/sklearn/externals/six.py:31: FutureWarning: The module is deprecated in version 0.21 and will be removed in version 0.23 since we've dropped support for Python 2.7. Please rely on the official version of six (https://pypi.org/project/six/).\n",
            "  \"(https://pypi.org/project/six/).\", FutureWarning)\n",
            "/usr/local/lib/python3.6/dist-packages/sklearn/utils/deprecation.py:144: FutureWarning: The sklearn.neighbors.base module is  deprecated in version 0.22 and will be removed in version 0.24. The corresponding classes / functions should instead be imported from sklearn.neighbors. Anything that cannot be imported from sklearn.neighbors is now part of the private API.\n",
            "  warnings.warn(message, FutureWarning)\n",
            "/usr/local/lib/python3.6/dist-packages/sklearn/utils/deprecation.py:144: FutureWarning: The sklearn.metrics.classification module is  deprecated in version 0.22 and will be removed in version 0.24. The corresponding classes / functions should instead be imported from sklearn.metrics. Anything that cannot be imported from sklearn.metrics is now part of the private API.\n",
            "  warnings.warn(message, FutureWarning)\n"
          ],
          "name": "stderr"
        }
      ]
    },
    {
      "cell_type": "code",
      "metadata": {
        "id": "HJQtO1insUKd",
        "outputId": "647414d3-da16-4cea-f94c-a5ba064bc59d",
        "colab": {
          "base_uri": "https://localhost:8080/",
          "height": 523
        }
      },
      "source": [
        "def get_accs(label,prediction, show=True):\n",
        "    cm = confusion_matrix(label,prediction)\n",
        "    length = cm.shape[0]\n",
        "    num_cases = len(label)\n",
        "    # global accuracy\n",
        "    glb_acc = np.trace(cm)/len(label)\n",
        "    ind_accs = cm/np.sum(cm,axis=1)[:, np.newaxis]\n",
        "    accs = [ind_accs[i,i] for i in range(length)]\n",
        "    accs.insert(0,glb_acc)\n",
        "    # G-mean\n",
        "    accs.append(geometric_mean_score(label, prediction,correction=0.001))\n",
        "\n",
        "    if show:\n",
        "        plt.figure(figsize=(14, 6))\n",
        "        plt.subplot(1,2,1)\n",
        "        sns.heatmap(cm, xticklabels=np.arange(length), yticklabels=np.arange(length), \n",
        "                    annot=True, fmt='g',cmap=\"YlGnBu\")\n",
        "        plt.xlabel('Prediction')\n",
        "        plt.ylabel('Label')\n",
        "        plt.title('Confusion matrix')\n",
        "        plt.subplot(1,2,2)\n",
        "        sns.heatmap(ind_accs*100, xticklabels=np.arange(length), yticklabels=np.arange(length), \n",
        "                    annot=True, fmt='.2f',cmap=\"YlGnBu\")\n",
        "        plt.xlabel('Prediction')\n",
        "        plt.ylabel('Label')\n",
        "        plt.title('Normalized confusion matrix (%)')\n",
        "        plt.show()\n",
        "    return accs\n",
        "get_accs(np.random.randint(5, size=100),np.random.randint(5, size=100))"
      ],
      "execution_count": null,
      "outputs": [
        {
          "output_type": "display_data",
          "data": {
            "image/png": "[encoded data removed]",
            "text/plain": [
              "<Figure size 1008x432 with 4 Axes>"
            ]
          },
          "metadata": {
            "tags": [],
            "needs_background": "light"
          }
        },
        {
          "output_type": "execute_result",
          "data": {
            "text/plain": [
              "[0.14,\n",
              " 0.3333333333333333,\n",
              " 0.17391304347826086,\n",
              " 0.1111111111111111,\n",
              " 0.16666666666666666,\n",
              " 0.038461538461538464,\n",
              " 0.13279103581481042]"
            ]
          },
          "metadata": {
            "tags": []
          },
          "execution_count": 8
        }
      ]
    },
    {
      "cell_type": "markdown",
      "metadata": {
        "id": "-pN3nxIjkJgb"
      },
      "source": [
        "# Run 4 binary model without any techniques"
      ]
    },
    {
      "cell_type": "markdown",
      "metadata": {
        "id": "8Wv1fq_D7Gi4"
      },
      "source": [
        "## Function to train a model"
      ]
    },
    {
      "cell_type": "code",
      "metadata": {
        "id": "mMpQqGrz_6nf"
      },
      "source": [
        "from sklearn.linear_model import LogisticRegression\n",
        "from sklearn.tree import DecisionTreeClassifier\n",
        "from sklearn.ensemble import RandomForestClassifier\n",
        "from sklearn.naive_bayes import GaussianNB\n",
        "from sklearn.linear_model import SGDClassifier\n",
        "from sklearn.naive_bayes import ComplementNB\n",
        "from sklearn.preprocessing import StandardScaler\n",
        "from sklearn.model_selection import train_test_split"
      ],
      "execution_count": null,
      "outputs": []
    },
    {
      "cell_type": "code",
      "metadata": {
        "id": "LnqtJVyqQiF3"
      },
      "source": [
        "def prepare_data(X_dat,label,model):\n",
        "  # Split data set \n",
        "  X_train, X_test, y_train, y_test = train_test_split(X_dat,label,test_size=0.2,stratify=label, random_state=48)\n",
        "  #print('Training features shape:', X_train.shape)\n",
        "  #print('Test features shape:', X_test.shape)\n",
        "  \n",
        "  # Standardize the data \n",
        "  scaler = StandardScaler()\n",
        "  X_train = scaler.fit_transform(X_train)\n",
        "  X_test = scaler.transform(X_test)\n",
        "  return X_train, X_test, y_train, y_test"
      ],
      "execution_count": 1,
      "outputs": []
    },
    {
      "cell_type": "code",
      "metadata": {
        "id": "VGXI5BFckI3G",
        "outputId": "0c551fe1-8062-47cc-a834-f82e48eb92ef",
        "colab": {
          "base_uri": "https://localhost:8080/",
          "height": 156
        }
      },
      "source": [
        "def train_model(X_dat,label,model):\n",
        "\n",
        "  # and then train it with Logistic Regression\n",
        "  start = time.time()\n",
        "  model.fit(X_train, y_train)\n",
        "  # use the model to make predictions with the test data\n",
        "  y_pred = model.predict(X_test)\n",
        "  end= time.time()\n",
        "\n",
        "  # get the evaluation metrics\n",
        "  result = get_accs(y_test,y_pred,False)\n",
        "  result.append(end-start)\n",
        "  return result\n",
        "\n",
        "train_model(sets[3][0],sets[3][1],SGDClassifier(loss=\"hinge\", penalty=\"l2\", max_iter=5))"
      ],
      "execution_count": null,
      "outputs": [
        {
          "output_type": "stream",
          "text": [
            "/usr/local/lib/python3.6/dist-packages/sklearn/linear_model/_stochastic_gradient.py:557: ConvergenceWarning: Maximum number of iteration reached before convergence. Consider increasing max_iter to improve the fit.\n",
            "  ConvergenceWarning)\n"
          ],
          "name": "stderr"
        },
        {
          "output_type": "execute_result",
          "data": {
            "text/plain": [
              "[0.7831821929101401,\n",
              " 0.8588709677419355,\n",
              " 0.4434389140271493,\n",
              " 0.6171359730439724,\n",
              " 0.010880231857299805]"
            ]
          },
          "metadata": {
            "tags": []
          },
          "execution_count": 10
        }
      ]
    },
    {
      "cell_type": "markdown",
      "metadata": {
        "id": "Lxjnrxtw7KnI"
      },
      "source": [
        "## Train all 4 models with logistic regression"
      ]
    },
    {
      "cell_type": "code",
      "metadata": {
        "id": "pdJdWt1H-Cj2"
      },
      "source": [
        "index = ['Global accuracy', 'Class 1','Class 2','G-mean','Training time']"
      ],
      "execution_count": null,
      "outputs": []
    },
    {
      "cell_type": "code",
      "metadata": {
        "id": "MMoFVN8YkIsf",
        "outputId": "63151216-b9ba-4253-e35a-b6381fa95ec9",
        "colab": {
          "base_uri": "https://localhost:8080/",
          "height": 204
        }
      },
      "source": [
        "rsts = pd.DataFrame()\n",
        "for i in range(4):\n",
        "  name = 'Model #{}'.format(i+1)\n",
        "  #print(name)\n",
        "  rsts[name] = train_model(sets[i][0],sets[i][1],LogisticRegression(solver = 'lbfgs'))\n",
        "  \n",
        "rsts.index = index\n",
        "rsts"
      ],
      "execution_count": null,
      "outputs": [
        {
          "output_type": "execute_result",
          "data": {
            "text/html": [
              "<div>\n",
              "<style scoped>\n",
              "    .dataframe tbody tr th:only-of-type {\n",
              "        vertical-align: middle;\n",
              "    }\n",
              "\n",
              "    .dataframe tbody tr th {\n",
              "        vertical-align: top;\n",
              "    }\n",
              "\n",
              "    .dataframe thead th {\n",
              "        text-align: right;\n",
              "    }\n",
              "</style>\n",
              "<table border=\"1\" class=\"dataframe\">\n",
              "  <thead>\n",
              "    <tr style=\"text-align: right;\">\n",
              "      <th></th>\n",
              "      <th>Model #1</th>\n",
              "      <th>Model #2</th>\n",
              "      <th>Model #3</th>\n",
              "      <th>Model #4</th>\n",
              "    </tr>\n",
              "  </thead>\n",
              "  <tbody>\n",
              "    <tr>\n",
              "      <th>Global accuracy</th>\n",
              "      <td>0.830264</td>\n",
              "      <td>0.677268</td>\n",
              "      <td>0.817138</td>\n",
              "      <td>0.845012</td>\n",
              "    </tr>\n",
              "    <tr>\n",
              "      <th>Class 1</th>\n",
              "      <td>0.976630</td>\n",
              "      <td>0.903460</td>\n",
              "      <td>0.969027</td>\n",
              "      <td>0.963710</td>\n",
              "    </tr>\n",
              "    <tr>\n",
              "      <th>Class 2</th>\n",
              "      <td>0.159252</td>\n",
              "      <td>0.289295</td>\n",
              "      <td>0.194559</td>\n",
              "      <td>0.312217</td>\n",
              "    </tr>\n",
              "    <tr>\n",
              "      <th>G-mean</th>\n",
              "      <td>0.394373</td>\n",
              "      <td>0.511240</td>\n",
              "      <td>0.434204</td>\n",
              "      <td>0.548531</td>\n",
              "    </tr>\n",
              "    <tr>\n",
              "      <th>Training time</th>\n",
              "      <td>2.122408</td>\n",
              "      <td>0.280080</td>\n",
              "      <td>0.169982</td>\n",
              "      <td>0.055567</td>\n",
              "    </tr>\n",
              "  </tbody>\n",
              "</table>\n",
              "</div>"
            ],
            "text/plain": [
              "                 Model #1  Model #2  Model #3  Model #4\n",
              "Global accuracy  0.830264  0.677268  0.817138  0.845012\n",
              "Class 1          0.976630  0.903460  0.969027  0.963710\n",
              "Class 2          0.159252  0.289295  0.194559  0.312217\n",
              "G-mean           0.394373  0.511240  0.434204  0.548531\n",
              "Training time    2.122408  0.280080  0.169982  0.055567"
            ]
          },
          "metadata": {
            "tags": []
          },
          "execution_count": 12
        }
      ]
    },
    {
      "cell_type": "markdown",
      "metadata": {
        "id": "yusyx0DrCYQ6"
      },
      "source": [
        "## Train 4 models with 5 different ML algorithms"
      ]
    },
    {
      "cell_type": "code",
      "metadata": {
        "id": "DbjtnltEEbqS",
        "outputId": "f0bcbb57-a3b6-4c63-fa3f-cb14b2849652",
        "colab": {
          "base_uri": "https://localhost:8080/",
          "height": 459
        }
      },
      "source": [
        "def create_ML(cw = None):\n",
        "  LR = LogisticRegression(solver = 'lbfgs',class_weight=cw)\n",
        "  DT = DecisionTreeClassifier(random_state=0,class_weight=cw)\n",
        "  RF = RandomForestClassifier(max_depth=2, random_state=0,class_weight=cw)\n",
        "  GNB = GaussianNB()\n",
        "  SGD = SGDClassifier(loss=\"hinge\", penalty=\"l2\", max_iter=5,class_weight=cw)\n",
        "  clfs = [LR,DT,RF,GNB,SGD]\n",
        "  names = ['LR','DT','RF','GNB','SGD']\n",
        "  return dict(zip(names, clfs)) \n",
        "create_ML()"
      ],
      "execution_count": null,
      "outputs": [
        {
          "output_type": "execute_result",
          "data": {
            "text/plain": [
              "{'DT': DecisionTreeClassifier(ccp_alpha=0.0, class_weight=None, criterion='gini',\n",
              "                        max_depth=None, max_features=None, max_leaf_nodes=None,\n",
              "                        min_impurity_decrease=0.0, min_impurity_split=None,\n",
              "                        min_samples_leaf=1, min_samples_split=2,\n",
              "                        min_weight_fraction_leaf=0.0, presort='deprecated',\n",
              "                        random_state=0, splitter='best'),\n",
              " 'GNB': GaussianNB(priors=None, var_smoothing=1e-09),\n",
              " 'LR': LogisticRegression(C=1.0, class_weight=None, dual=False, fit_intercept=True,\n",
              "                    intercept_scaling=1, l1_ratio=None, max_iter=100,\n",
              "                    multi_class='auto', n_jobs=None, penalty='l2',\n",
              "                    random_state=None, solver='lbfgs', tol=0.0001, verbose=0,\n",
              "                    warm_start=False),\n",
              " 'RF': RandomForestClassifier(bootstrap=True, ccp_alpha=0.0, class_weight=None,\n",
              "                        criterion='gini', max_depth=2, max_features='auto',\n",
              "                        max_leaf_nodes=None, max_samples=None,\n",
              "                        min_impurity_decrease=0.0, min_impurity_split=None,\n",
              "                        min_samples_leaf=1, min_samples_split=2,\n",
              "                        min_weight_fraction_leaf=0.0, n_estimators=100,\n",
              "                        n_jobs=None, oob_score=False, random_state=0, verbose=0,\n",
              "                        warm_start=False),\n",
              " 'SGD': SGDClassifier(alpha=0.0001, average=False, class_weight=None,\n",
              "               early_stopping=False, epsilon=0.1, eta0=0.0, fit_intercept=True,\n",
              "               l1_ratio=0.15, learning_rate='optimal', loss='hinge', max_iter=5,\n",
              "               n_iter_no_change=5, n_jobs=None, penalty='l2', power_t=0.5,\n",
              "               random_state=None, shuffle=True, tol=0.001,\n",
              "               validation_fraction=0.1, verbose=0, warm_start=False)}"
            ]
          },
          "metadata": {
            "tags": []
          },
          "execution_count": 13
        }
      ]
    },
    {
      "cell_type": "code",
      "metadata": {
        "id": "Ak_WWk01ELek",
        "outputId": "a682a013-3b10-40e4-abf2-ac291474decf",
        "colab": {
          "base_uri": "https://localhost:8080/",
          "height": 734
        }
      },
      "source": [
        "rsts = pd.DataFrame()\n",
        "for i in range(4):\n",
        "  MLs = create_ML()\n",
        "  for clf_name, clf in MLs.items():\n",
        "    name = '{0} #{1}'.format(clf_name,i+1)\n",
        "    print(name)\n",
        "    try:\n",
        "      rsts[name] = train_model(sets[i][0],sets[i][1],clf)\n",
        "    except Exception as e: print(e)\n",
        "    \n",
        "rsts.index = index\n",
        "rsts"
      ],
      "execution_count": null,
      "outputs": [
        {
          "output_type": "stream",
          "text": [
            "LR #1\n",
            "DT #1\n",
            "RF #1\n",
            "GNB #1\n",
            "SGD #1\n"
          ],
          "name": "stdout"
        },
        {
          "output_type": "stream",
          "text": [
            "/usr/local/lib/python3.6/dist-packages/sklearn/linear_model/_stochastic_gradient.py:557: ConvergenceWarning: Maximum number of iteration reached before convergence. Consider increasing max_iter to improve the fit.\n",
            "  ConvergenceWarning)\n"
          ],
          "name": "stderr"
        },
        {
          "output_type": "stream",
          "text": [
            "LR #2\n",
            "DT #2\n",
            "RF #2\n",
            "GNB #2\n",
            "SGD #2\n"
          ],
          "name": "stdout"
        },
        {
          "output_type": "stream",
          "text": [
            "/usr/local/lib/python3.6/dist-packages/sklearn/linear_model/_stochastic_gradient.py:557: ConvergenceWarning: Maximum number of iteration reached before convergence. Consider increasing max_iter to improve the fit.\n",
            "  ConvergenceWarning)\n"
          ],
          "name": "stderr"
        },
        {
          "output_type": "stream",
          "text": [
            "LR #3\n",
            "DT #3\n",
            "RF #3\n",
            "GNB #3\n",
            "SGD #3\n",
            "LR #4\n"
          ],
          "name": "stdout"
        },
        {
          "output_type": "stream",
          "text": [
            "/usr/local/lib/python3.6/dist-packages/sklearn/linear_model/_stochastic_gradient.py:557: ConvergenceWarning: Maximum number of iteration reached before convergence. Consider increasing max_iter to improve the fit.\n",
            "  ConvergenceWarning)\n"
          ],
          "name": "stderr"
        },
        {
          "output_type": "stream",
          "text": [
            "DT #4\n",
            "RF #4\n",
            "GNB #4\n",
            "SGD #4\n"
          ],
          "name": "stdout"
        },
        {
          "output_type": "stream",
          "text": [
            "/usr/local/lib/python3.6/dist-packages/sklearn/linear_model/_stochastic_gradient.py:557: ConvergenceWarning: Maximum number of iteration reached before convergence. Consider increasing max_iter to improve the fit.\n",
            "  ConvergenceWarning)\n"
          ],
          "name": "stderr"
        },
        {
          "output_type": "execute_result",
          "data": {
            "text/html": [
              "<div>\n",
              "<style scoped>\n",
              "    .dataframe tbody tr th:only-of-type {\n",
              "        vertical-align: middle;\n",
              "    }\n",
              "\n",
              "    .dataframe tbody tr th {\n",
              "        vertical-align: top;\n",
              "    }\n",
              "\n",
              "    .dataframe thead th {\n",
              "        text-align: right;\n",
              "    }\n",
              "</style>\n",
              "<table border=\"1\" class=\"dataframe\">\n",
              "  <thead>\n",
              "    <tr style=\"text-align: right;\">\n",
              "      <th></th>\n",
              "      <th>LR #1</th>\n",
              "      <th>DT #1</th>\n",
              "      <th>RF #1</th>\n",
              "      <th>GNB #1</th>\n",
              "      <th>SGD #1</th>\n",
              "      <th>LR #2</th>\n",
              "      <th>DT #2</th>\n",
              "      <th>RF #2</th>\n",
              "      <th>GNB #2</th>\n",
              "      <th>SGD #2</th>\n",
              "      <th>LR #3</th>\n",
              "      <th>DT #3</th>\n",
              "      <th>RF #3</th>\n",
              "      <th>GNB #3</th>\n",
              "      <th>SGD #3</th>\n",
              "      <th>LR #4</th>\n",
              "      <th>DT #4</th>\n",
              "      <th>RF #4</th>\n",
              "      <th>GNB #4</th>\n",
              "      <th>SGD #4</th>\n",
              "    </tr>\n",
              "  </thead>\n",
              "  <tbody>\n",
              "    <tr>\n",
              "      <th>Global accuracy</th>\n",
              "      <td>0.830264</td>\n",
              "      <td>0.744297</td>\n",
              "      <td>0.826457</td>\n",
              "      <td>0.797833</td>\n",
              "      <td>0.825998</td>\n",
              "      <td>0.677268</td>\n",
              "      <td>0.598237</td>\n",
              "      <td>0.654994</td>\n",
              "      <td>0.658150</td>\n",
              "      <td>0.628372</td>\n",
              "      <td>0.817138</td>\n",
              "      <td>0.732902</td>\n",
              "      <td>0.805174</td>\n",
              "      <td>0.793371</td>\n",
              "      <td>0.745675</td>\n",
              "      <td>0.845012</td>\n",
              "      <td>0.763397</td>\n",
              "      <td>0.817807</td>\n",
              "      <td>0.204452</td>\n",
              "      <td>0.790602</td>\n",
              "    </tr>\n",
              "    <tr>\n",
              "      <th>Class 1</th>\n",
              "      <td>0.976630</td>\n",
              "      <td>0.833485</td>\n",
              "      <td>0.998597</td>\n",
              "      <td>0.912559</td>\n",
              "      <td>0.993661</td>\n",
              "      <td>0.903460</td>\n",
              "      <td>0.679457</td>\n",
              "      <td>0.984727</td>\n",
              "      <td>0.940228</td>\n",
              "      <td>0.907420</td>\n",
              "      <td>0.969027</td>\n",
              "      <td>0.822204</td>\n",
              "      <td>0.999799</td>\n",
              "      <td>0.909694</td>\n",
              "      <td>0.867458</td>\n",
              "      <td>0.963710</td>\n",
              "      <td>0.840726</td>\n",
              "      <td>1.000000</td>\n",
              "      <td>0.032258</td>\n",
              "      <td>0.886089</td>\n",
              "    </tr>\n",
              "    <tr>\n",
              "      <th>Class 2</th>\n",
              "      <td>0.159252</td>\n",
              "      <td>0.335418</td>\n",
              "      <td>0.037282</td>\n",
              "      <td>0.271872</td>\n",
              "      <td>0.057352</td>\n",
              "      <td>0.289295</td>\n",
              "      <td>0.458926</td>\n",
              "      <td>0.089424</td>\n",
              "      <td>0.174321</td>\n",
              "      <td>0.149741</td>\n",
              "      <td>0.194559</td>\n",
              "      <td>0.366859</td>\n",
              "      <td>0.007420</td>\n",
              "      <td>0.316570</td>\n",
              "      <td>0.246496</td>\n",
              "      <td>0.312217</td>\n",
              "      <td>0.416290</td>\n",
              "      <td>0.000000</td>\n",
              "      <td>0.977376</td>\n",
              "      <td>0.361991</td>\n",
              "    </tr>\n",
              "    <tr>\n",
              "      <th>G-mean</th>\n",
              "      <td>0.394373</td>\n",
              "      <td>0.528740</td>\n",
              "      <td>0.192950</td>\n",
              "      <td>0.498096</td>\n",
              "      <td>0.238723</td>\n",
              "      <td>0.511240</td>\n",
              "      <td>0.558409</td>\n",
              "      <td>0.296747</td>\n",
              "      <td>0.404847</td>\n",
              "      <td>0.368617</td>\n",
              "      <td>0.434204</td>\n",
              "      <td>0.549211</td>\n",
              "      <td>0.086129</td>\n",
              "      <td>0.536640</td>\n",
              "      <td>0.462412</td>\n",
              "      <td>0.548531</td>\n",
              "      <td>0.591596</td>\n",
              "      <td>0.031623</td>\n",
              "      <td>0.177562</td>\n",
              "      <td>0.566353</td>\n",
              "    </tr>\n",
              "    <tr>\n",
              "      <th>Training time</th>\n",
              "      <td>2.154464</td>\n",
              "      <td>12.339162</td>\n",
              "      <td>17.430933</td>\n",
              "      <td>0.325759</td>\n",
              "      <td>0.747814</td>\n",
              "      <td>0.270580</td>\n",
              "      <td>1.567235</td>\n",
              "      <td>2.672159</td>\n",
              "      <td>0.069744</td>\n",
              "      <td>0.155313</td>\n",
              "      <td>0.187151</td>\n",
              "      <td>0.496479</td>\n",
              "      <td>0.957001</td>\n",
              "      <td>0.025012</td>\n",
              "      <td>0.046408</td>\n",
              "      <td>0.055824</td>\n",
              "      <td>0.099946</td>\n",
              "      <td>0.303674</td>\n",
              "      <td>0.004447</td>\n",
              "      <td>0.008009</td>\n",
              "    </tr>\n",
              "  </tbody>\n",
              "</table>\n",
              "</div>"
            ],
            "text/plain": [
              "                    LR #1      DT #1      RF #1  ...     RF #4    GNB #4    SGD #4\n",
              "Global accuracy  0.830264   0.744297   0.826457  ...  0.817807  0.204452  0.790602\n",
              "Class 1          0.976630   0.833485   0.998597  ...  1.000000  0.032258  0.886089\n",
              "Class 2          0.159252   0.335418   0.037282  ...  0.000000  0.977376  0.361991\n",
              "G-mean           0.394373   0.528740   0.192950  ...  0.031623  0.177562  0.566353\n",
              "Training time    2.154464  12.339162  17.430933  ...  0.303674  0.004447  0.008009\n",
              "\n",
              "[5 rows x 20 columns]"
            ]
          },
          "metadata": {
            "tags": []
          },
          "execution_count": 14
        }
      ]
    },
    {
      "cell_type": "markdown",
      "metadata": {
        "id": "B3bF6lwhKOdO"
      },
      "source": [
        "Print the best performance"
      ]
    },
    {
      "cell_type": "code",
      "metadata": {
        "id": "3gw3bcNa3LqM",
        "outputId": "82b9fd76-8dac-4997-ae93-0dc314b150e8",
        "colab": {
          "base_uri": "https://localhost:8080/",
          "height": 204
        }
      },
      "source": [
        "best_rst = []\n",
        "for i in range(4):\n",
        "  algo = rsts.loc['G-mean'][i*5:i*5+5].idxmax()\n",
        "  best_rst.append(algo)\n",
        "best_rst = rsts[best_rst].copy()\n",
        "best_rst"
      ],
      "execution_count": null,
      "outputs": [
        {
          "output_type": "execute_result",
          "data": {
            "text/html": [
              "<div>\n",
              "<style scoped>\n",
              "    .dataframe tbody tr th:only-of-type {\n",
              "        vertical-align: middle;\n",
              "    }\n",
              "\n",
              "    .dataframe tbody tr th {\n",
              "        vertical-align: top;\n",
              "    }\n",
              "\n",
              "    .dataframe thead th {\n",
              "        text-align: right;\n",
              "    }\n",
              "</style>\n",
              "<table border=\"1\" class=\"dataframe\">\n",
              "  <thead>\n",
              "    <tr style=\"text-align: right;\">\n",
              "      <th></th>\n",
              "      <th>DT #1</th>\n",
              "      <th>DT #2</th>\n",
              "      <th>DT #3</th>\n",
              "      <th>DT #4</th>\n",
              "    </tr>\n",
              "  </thead>\n",
              "  <tbody>\n",
              "    <tr>\n",
              "      <th>Global accuracy</th>\n",
              "      <td>0.744297</td>\n",
              "      <td>0.598237</td>\n",
              "      <td>0.732902</td>\n",
              "      <td>0.763397</td>\n",
              "    </tr>\n",
              "    <tr>\n",
              "      <th>Class 1</th>\n",
              "      <td>0.833485</td>\n",
              "      <td>0.679457</td>\n",
              "      <td>0.822204</td>\n",
              "      <td>0.840726</td>\n",
              "    </tr>\n",
              "    <tr>\n",
              "      <th>Class 2</th>\n",
              "      <td>0.335418</td>\n",
              "      <td>0.458926</td>\n",
              "      <td>0.366859</td>\n",
              "      <td>0.416290</td>\n",
              "    </tr>\n",
              "    <tr>\n",
              "      <th>G-mean</th>\n",
              "      <td>0.528740</td>\n",
              "      <td>0.558409</td>\n",
              "      <td>0.549211</td>\n",
              "      <td>0.591596</td>\n",
              "    </tr>\n",
              "    <tr>\n",
              "      <th>Training time</th>\n",
              "      <td>12.339162</td>\n",
              "      <td>1.567235</td>\n",
              "      <td>0.496479</td>\n",
              "      <td>0.099946</td>\n",
              "    </tr>\n",
              "  </tbody>\n",
              "</table>\n",
              "</div>"
            ],
            "text/plain": [
              "                     DT #1     DT #2     DT #3     DT #4\n",
              "Global accuracy   0.744297  0.598237  0.732902  0.763397\n",
              "Class 1           0.833485  0.679457  0.822204  0.840726\n",
              "Class 2           0.335418  0.458926  0.366859  0.416290\n",
              "G-mean            0.528740  0.558409  0.549211  0.591596\n",
              "Training time    12.339162  1.567235  0.496479  0.099946"
            ]
          },
          "metadata": {
            "tags": []
          },
          "execution_count": 15
        }
      ]
    },
    {
      "cell_type": "markdown",
      "metadata": {
        "id": "qgWDH3ATGk6j"
      },
      "source": [
        "# Run 4 binary models with class weights"
      ]
    },
    {
      "cell_type": "code",
      "metadata": {
        "id": "bgpnqfMiRwzn",
        "outputId": "c23a6ba0-64d2-410f-c3e9-ecdebad79c58",
        "colab": {
          "base_uri": "https://localhost:8080/",
          "height": 802
        }
      },
      "source": [
        "rsts = pd.DataFrame()\n",
        "for i in range(4):\n",
        "  MLs = create_ML('balanced')\n",
        "  print(Counter(sets[i][1]))\n",
        "  for clf_name, clf in MLs.items():\n",
        "    name = '{0} #{1}'.format(clf_name,i+1)\n",
        "    print(name)\n",
        "    try:\n",
        "      rsts[name] = train_model(sets[i][0],sets[i][1],clf)\n",
        "    except Exception as e: print(e)\n",
        "    \n",
        "rsts.index = index\n",
        "rsts"
      ],
      "execution_count": null,
      "outputs": [
        {
          "output_type": "stream",
          "text": [
            "Counter({0: 384890, 1: 83954})\n",
            "LR #1\n",
            "DT #1\n",
            "RF #1\n",
            "GNB #1\n",
            "SGD #1\n"
          ],
          "name": "stdout"
        },
        {
          "output_type": "stream",
          "text": [
            "/usr/local/lib/python3.6/dist-packages/sklearn/linear_model/_stochastic_gradient.py:557: ConvergenceWarning: Maximum number of iteration reached before convergence. Consider increasing max_iter to improve the fit.\n",
            "  ConvergenceWarning)\n"
          ],
          "name": "stderr"
        },
        {
          "output_type": "stream",
          "text": [
            "Counter({0: 53032, 1: 30922})\n",
            "LR #2\n",
            "DT #2\n",
            "RF #2\n",
            "GNB #2\n",
            "SGD #2\n"
          ],
          "name": "stdout"
        },
        {
          "output_type": "stream",
          "text": [
            "/usr/local/lib/python3.6/dist-packages/sklearn/linear_model/_stochastic_gradient.py:557: ConvergenceWarning: Maximum number of iteration reached before convergence. Consider increasing max_iter to improve the fit.\n",
            "  ConvergenceWarning)\n"
          ],
          "name": "stderr"
        },
        {
          "output_type": "stream",
          "text": [
            "Counter({0: 24859, 1: 6063})\n",
            "LR #3\n",
            "DT #3\n",
            "RF #3\n",
            "GNB #3\n",
            "SGD #3\n",
            "Counter({0: 4959, 1: 1104})\n",
            "LR #4\n"
          ],
          "name": "stdout"
        },
        {
          "output_type": "stream",
          "text": [
            "/usr/local/lib/python3.6/dist-packages/sklearn/linear_model/_stochastic_gradient.py:557: ConvergenceWarning: Maximum number of iteration reached before convergence. Consider increasing max_iter to improve the fit.\n",
            "  ConvergenceWarning)\n"
          ],
          "name": "stderr"
        },
        {
          "output_type": "stream",
          "text": [
            "DT #4\n",
            "RF #4\n",
            "GNB #4\n",
            "SGD #4\n"
          ],
          "name": "stdout"
        },
        {
          "output_type": "stream",
          "text": [
            "/usr/local/lib/python3.6/dist-packages/sklearn/linear_model/_stochastic_gradient.py:557: ConvergenceWarning: Maximum number of iteration reached before convergence. Consider increasing max_iter to improve the fit.\n",
            "  ConvergenceWarning)\n"
          ],
          "name": "stderr"
        },
        {
          "output_type": "execute_result",
          "data": {
            "text/html": [
              "<div>\n",
              "<style scoped>\n",
              "    .dataframe tbody tr th:only-of-type {\n",
              "        vertical-align: middle;\n",
              "    }\n",
              "\n",
              "    .dataframe tbody tr th {\n",
              "        vertical-align: top;\n",
              "    }\n",
              "\n",
              "    .dataframe thead th {\n",
              "        text-align: right;\n",
              "    }\n",
              "</style>\n",
              "<table border=\"1\" class=\"dataframe\">\n",
              "  <thead>\n",
              "    <tr style=\"text-align: right;\">\n",
              "      <th></th>\n",
              "      <th>LR #1</th>\n",
              "      <th>DT #1</th>\n",
              "      <th>RF #1</th>\n",
              "      <th>GNB #1</th>\n",
              "      <th>SGD #1</th>\n",
              "      <th>LR #2</th>\n",
              "      <th>DT #2</th>\n",
              "      <th>RF #2</th>\n",
              "      <th>GNB #2</th>\n",
              "      <th>SGD #2</th>\n",
              "      <th>LR #3</th>\n",
              "      <th>DT #3</th>\n",
              "      <th>RF #3</th>\n",
              "      <th>GNB #3</th>\n",
              "      <th>SGD #3</th>\n",
              "      <th>LR #4</th>\n",
              "      <th>DT #4</th>\n",
              "      <th>RF #4</th>\n",
              "      <th>GNB #4</th>\n",
              "      <th>SGD #4</th>\n",
              "    </tr>\n",
              "  </thead>\n",
              "  <tbody>\n",
              "    <tr>\n",
              "      <th>Global accuracy</th>\n",
              "      <td>0.716345</td>\n",
              "      <td>0.752935</td>\n",
              "      <td>0.798185</td>\n",
              "      <td>0.797833</td>\n",
              "      <td>0.646973</td>\n",
              "      <td>0.640462</td>\n",
              "      <td>0.599130</td>\n",
              "      <td>0.656006</td>\n",
              "      <td>0.658150</td>\n",
              "      <td>0.597463</td>\n",
              "      <td>0.724656</td>\n",
              "      <td>0.740501</td>\n",
              "      <td>0.776880</td>\n",
              "      <td>0.793371</td>\n",
              "      <td>0.700566</td>\n",
              "      <td>0.767519</td>\n",
              "      <td>0.779885</td>\n",
              "      <td>0.734542</td>\n",
              "      <td>0.204452</td>\n",
              "      <td>0.573784</td>\n",
              "    </tr>\n",
              "    <tr>\n",
              "      <th>Class 1</th>\n",
              "      <td>0.751474</td>\n",
              "      <td>0.849671</td>\n",
              "      <td>0.869573</td>\n",
              "      <td>0.912559</td>\n",
              "      <td>0.654265</td>\n",
              "      <td>0.695767</td>\n",
              "      <td>0.687942</td>\n",
              "      <td>0.782596</td>\n",
              "      <td>0.940228</td>\n",
              "      <td>0.637598</td>\n",
              "      <td>0.745575</td>\n",
              "      <td>0.840306</td>\n",
              "      <td>0.848954</td>\n",
              "      <td>0.909694</td>\n",
              "      <td>0.737329</td>\n",
              "      <td>0.798387</td>\n",
              "      <td>0.856855</td>\n",
              "      <td>0.754032</td>\n",
              "      <td>0.032258</td>\n",
              "      <td>0.590726</td>\n",
              "    </tr>\n",
              "    <tr>\n",
              "      <th>Class 2</th>\n",
              "      <td>0.555297</td>\n",
              "      <td>0.309451</td>\n",
              "      <td>0.470907</td>\n",
              "      <td>0.271872</td>\n",
              "      <td>0.613543</td>\n",
              "      <td>0.545602</td>\n",
              "      <td>0.446798</td>\n",
              "      <td>0.438875</td>\n",
              "      <td>0.174321</td>\n",
              "      <td>0.528622</td>\n",
              "      <td>0.638912</td>\n",
              "      <td>0.331410</td>\n",
              "      <td>0.481451</td>\n",
              "      <td>0.316570</td>\n",
              "      <td>0.549876</td>\n",
              "      <td>0.628959</td>\n",
              "      <td>0.434389</td>\n",
              "      <td>0.647059</td>\n",
              "      <td>0.977376</td>\n",
              "      <td>0.497738</td>\n",
              "    </tr>\n",
              "    <tr>\n",
              "      <th>G-mean</th>\n",
              "      <td>0.645981</td>\n",
              "      <td>0.512769</td>\n",
              "      <td>0.639913</td>\n",
              "      <td>0.498096</td>\n",
              "      <td>0.633577</td>\n",
              "      <td>0.616126</td>\n",
              "      <td>0.554411</td>\n",
              "      <td>0.586056</td>\n",
              "      <td>0.404847</td>\n",
              "      <td>0.580559</td>\n",
              "      <td>0.690186</td>\n",
              "      <td>0.527717</td>\n",
              "      <td>0.639320</td>\n",
              "      <td>0.536640</td>\n",
              "      <td>0.636742</td>\n",
              "      <td>0.708628</td>\n",
              "      <td>0.610089</td>\n",
              "      <td>0.698501</td>\n",
              "      <td>0.177562</td>\n",
              "      <td>0.542242</td>\n",
              "    </tr>\n",
              "    <tr>\n",
              "      <th>Training time</th>\n",
              "      <td>2.417888</td>\n",
              "      <td>12.064568</td>\n",
              "      <td>18.013896</td>\n",
              "      <td>0.339224</td>\n",
              "      <td>0.835541</td>\n",
              "      <td>0.290656</td>\n",
              "      <td>1.545057</td>\n",
              "      <td>2.664319</td>\n",
              "      <td>0.069657</td>\n",
              "      <td>0.154221</td>\n",
              "      <td>0.203888</td>\n",
              "      <td>0.470475</td>\n",
              "      <td>0.950562</td>\n",
              "      <td>0.023673</td>\n",
              "      <td>0.046706</td>\n",
              "      <td>0.066664</td>\n",
              "      <td>0.091833</td>\n",
              "      <td>0.311128</td>\n",
              "      <td>0.004409</td>\n",
              "      <td>0.007169</td>\n",
              "    </tr>\n",
              "  </tbody>\n",
              "</table>\n",
              "</div>"
            ],
            "text/plain": [
              "                    LR #1      DT #1      RF #1  ...     RF #4    GNB #4    SGD #4\n",
              "Global accuracy  0.716345   0.752935   0.798185  ...  0.734542  0.204452  0.573784\n",
              "Class 1          0.751474   0.849671   0.869573  ...  0.754032  0.032258  0.590726\n",
              "Class 2          0.555297   0.309451   0.470907  ...  0.647059  0.977376  0.497738\n",
              "G-mean           0.645981   0.512769   0.639913  ...  0.698501  0.177562  0.542242\n",
              "Training time    2.417888  12.064568  18.013896  ...  0.311128  0.004409  0.007169\n",
              "\n",
              "[5 rows x 20 columns]"
            ]
          },
          "metadata": {
            "tags": []
          },
          "execution_count": 16
        }
      ]
    },
    {
      "cell_type": "markdown",
      "metadata": {
        "id": "gqCyIU6C6ruG"
      },
      "source": [
        "Print the best algorithm for each classfications"
      ]
    },
    {
      "cell_type": "code",
      "metadata": {
        "id": "PLgyPV-K6r-C",
        "outputId": "85eabdc8-5afa-4c19-f721-c4d6b218860b",
        "colab": {
          "base_uri": "https://localhost:8080/",
          "height": 204
        }
      },
      "source": [
        "best_rst = []\n",
        "for i in range(4):\n",
        "  algo = rsts.loc['G-mean'][i*5:i*5+5].idxmax()\n",
        "  best_rst.append(algo)\n",
        "best_rst_cw = rsts[best_rst].copy()\n",
        "best_rst_cw"
      ],
      "execution_count": null,
      "outputs": [
        {
          "output_type": "execute_result",
          "data": {
            "text/html": [
              "<div>\n",
              "<style scoped>\n",
              "    .dataframe tbody tr th:only-of-type {\n",
              "        vertical-align: middle;\n",
              "    }\n",
              "\n",
              "    .dataframe tbody tr th {\n",
              "        vertical-align: top;\n",
              "    }\n",
              "\n",
              "    .dataframe thead th {\n",
              "        text-align: right;\n",
              "    }\n",
              "</style>\n",
              "<table border=\"1\" class=\"dataframe\">\n",
              "  <thead>\n",
              "    <tr style=\"text-align: right;\">\n",
              "      <th></th>\n",
              "      <th>LR #1</th>\n",
              "      <th>LR #2</th>\n",
              "      <th>LR #3</th>\n",
              "      <th>LR #4</th>\n",
              "    </tr>\n",
              "  </thead>\n",
              "  <tbody>\n",
              "    <tr>\n",
              "      <th>Global accuracy</th>\n",
              "      <td>0.716345</td>\n",
              "      <td>0.640462</td>\n",
              "      <td>0.724656</td>\n",
              "      <td>0.767519</td>\n",
              "    </tr>\n",
              "    <tr>\n",
              "      <th>Class 1</th>\n",
              "      <td>0.751474</td>\n",
              "      <td>0.695767</td>\n",
              "      <td>0.745575</td>\n",
              "      <td>0.798387</td>\n",
              "    </tr>\n",
              "    <tr>\n",
              "      <th>Class 2</th>\n",
              "      <td>0.555297</td>\n",
              "      <td>0.545602</td>\n",
              "      <td>0.638912</td>\n",
              "      <td>0.628959</td>\n",
              "    </tr>\n",
              "    <tr>\n",
              "      <th>G-mean</th>\n",
              "      <td>0.645981</td>\n",
              "      <td>0.616126</td>\n",
              "      <td>0.690186</td>\n",
              "      <td>0.708628</td>\n",
              "    </tr>\n",
              "    <tr>\n",
              "      <th>Training time</th>\n",
              "      <td>2.417888</td>\n",
              "      <td>0.290656</td>\n",
              "      <td>0.203888</td>\n",
              "      <td>0.066664</td>\n",
              "    </tr>\n",
              "  </tbody>\n",
              "</table>\n",
              "</div>"
            ],
            "text/plain": [
              "                    LR #1     LR #2     LR #3     LR #4\n",
              "Global accuracy  0.716345  0.640462  0.724656  0.767519\n",
              "Class 1          0.751474  0.695767  0.745575  0.798387\n",
              "Class 2          0.555297  0.545602  0.638912  0.628959\n",
              "G-mean           0.645981  0.616126  0.690186  0.708628\n",
              "Training time    2.417888  0.290656  0.203888  0.066664"
            ]
          },
          "metadata": {
            "tags": []
          },
          "execution_count": 17
        }
      ]
    },
    {
      "cell_type": "markdown",
      "metadata": {
        "id": "MttWSJBG8PFF"
      },
      "source": [
        "# Run 4 binary models with under-sampling\n"
      ]
    },
    {
      "cell_type": "code",
      "metadata": {
        "id": "DB-z1fKMAlBy"
      },
      "source": [
        "from imblearn.under_sampling import RandomUnderSampler,CondensedNearestNeighbour,EditedNearestNeighbours\n",
        "from imblearn.under_sampling import AllKNN, InstanceHardnessThreshold, NearMiss, NeighbourhoodCleaningRule\n",
        "from imblearn.under_sampling import     TomekLinks\n",
        "from imblearn.under_sampling import     OneSidedSelection"
      ],
      "execution_count": null,
      "outputs": []
    },
    {
      "cell_type": "code",
      "metadata": {
        "id": "j1a97LYLvbJa"
      },
      "source": [
        "import warnings; warnings.simplefilter('ignore')"
      ],
      "execution_count": null,
      "outputs": []
    },
    {
      "cell_type": "code",
      "metadata": {
        "id": "eovVRZG1DiIE",
        "outputId": "a4b658d8-f1a6-4282-cf09-89100ace621b",
        "colab": {
          "base_uri": "https://localhost:8080/",
          "height": 357
        }
      },
      "source": [
        "rus = RandomUnderSampler(random_state=42)\n",
        "#cnn = CondensedNearestNeighbour(random_state=42)\n",
        "enn = EditedNearestNeighbours(random_state=42)\n",
        "aknn = AllKNN(random_state=42)\n",
        "iht = InstanceHardnessThreshold(random_state=42)\n",
        "nrms =NearMiss(random_state=42)\n",
        "ncr = NeighbourhoodCleaningRule(random_state=42)\n",
        "oss = OneSidedSelection(random_state=42)\n",
        "tml = TomekLinks(random_state=42)\n",
        "\n",
        "unders = [rus, enn, aknn, iht, nrms, ncr, oss, tml]\n",
        "under_names = ['RandomUnderSampler',\n",
        "            'EditedNearestNeighbours', 'AllKNN', 'InstanceHardnessThreshold', \n",
        "            'NearMiss', 'NeighbourhoodCleaningRule',\n",
        "            'OneSidedSelection','TomekLinks']\n",
        "URs=dict(zip(under_names,unders))\n",
        "URs"
      ],
      "execution_count": null,
      "outputs": [
        {
          "output_type": "execute_result",
          "data": {
            "text/plain": [
              "{'AllKNN': AllKNN(allow_minority=False, kind_sel='all', n_jobs=1, n_neighbors=3,\n",
              "        random_state=42, ratio=None, return_indices=False,\n",
              "        sampling_strategy='auto'),\n",
              " 'EditedNearestNeighbours': EditedNearestNeighbours(kind_sel='all', n_jobs=1, n_neighbors=3,\n",
              "                         random_state=42, ratio=None, return_indices=False,\n",
              "                         sampling_strategy='auto'),\n",
              " 'InstanceHardnessThreshold': InstanceHardnessThreshold(cv=5, estimator=None, n_jobs=1, random_state=42,\n",
              "                           ratio=None, return_indices=False,\n",
              "                           sampling_strategy='auto'),\n",
              " 'NearMiss': NearMiss(n_jobs=1, n_neighbors=3, n_neighbors_ver3=3, random_state=42,\n",
              "          ratio=None, return_indices=False, sampling_strategy='auto', version=1),\n",
              " 'NeighbourhoodCleaningRule': NeighbourhoodCleaningRule(kind_sel='all', n_jobs=1, n_neighbors=3,\n",
              "                           random_state=42, ratio=None, return_indices=False,\n",
              "                           sampling_strategy='auto', threshold_cleaning=0.5),\n",
              " 'OneSidedSelection': OneSidedSelection(n_jobs=1, n_neighbors=None, n_seeds_S=1, random_state=42,\n",
              "                   ratio=None, return_indices=False, sampling_strategy='auto'),\n",
              " 'RandomUnderSampler': RandomUnderSampler(random_state=42, ratio=None, replacement=False,\n",
              "                    return_indices=False, sampling_strategy='auto'),\n",
              " 'TomekLinks': TomekLinks(n_jobs=1, random_state=42, ratio=None, return_indices=False,\n",
              "            sampling_strategy='auto')}"
            ]
          },
          "metadata": {
            "tags": []
          },
          "execution_count": 19
        }
      ]
    },
    {
      "cell_type": "code",
      "metadata": {
        "id": "nW2krBG_-kWs",
        "outputId": "9bf63a1b-9146-475b-98c7-db44bb49be14",
        "colab": {
          "base_uri": "https://localhost:8080/",
          "height": 136
        }
      },
      "source": [
        "def under_resampling(data,method):\n",
        "  urs = URs[method]\n",
        "  X_urs, y_urs = urs.fit_resample(data[0], data[1])\n",
        "  return X_urs, y_urs\n",
        "under_resampling(sets[3],under_names[0])"
      ],
      "execution_count": null,
      "outputs": [
        {
          "output_type": "execute_result",
          "data": {
            "text/plain": [
              "(array([[ 2.,  1.,  1., ..., 19., 31.,  0.],\n",
              "        [ 1.,  1.,  1., ..., 18., 28.,  1.],\n",
              "        [ 1.,  1.,  1., ..., 16., 43.,  0.],\n",
              "        ...,\n",
              "        [ 1.,  1.,  1., ..., 22., 35.,  0.],\n",
              "        [ 1.,  1.,  1., ...,  2.,  6.,  1.],\n",
              "        [ 2.,  1.,  1., ...,  6., 10.,  0.]]), array([0, 0, 0, ..., 1, 1, 1]))"
            ]
          },
          "metadata": {
            "tags": []
          },
          "execution_count": 81
        }
      ]
    },
    {
      "cell_type": "code",
      "metadata": {
        "id": "mwRBbw-TBSys"
      },
      "source": [
        "import warnings; warnings.simplefilter('ignore')"
      ],
      "execution_count": null,
      "outputs": []
    },
    {
      "cell_type": "markdown",
      "metadata": {
        "id": "wVBv2EUoLtQY"
      },
      "source": [
        "#### Find the fastest under sampling techniques"
      ]
    },
    {
      "cell_type": "code",
      "metadata": {
        "id": "u0G4LYbw-AVl",
        "outputId": "0c6b625e-560a-40b1-df4d-02444c998080",
        "colab": {
          "base_uri": "https://localhost:8080/",
          "height": 119
        }
      },
      "source": [
        "print(Counter(sets[2][1]))\n",
        "perform ={}\n",
        "for key in ['RandomUnderSampler','NearMiss','EditedNearestNeighbours','TomekLinks','OneSidedSelection']:\n",
        "  start = time.time()\n",
        "  under_resampling(sets[1],key)\n",
        "  end = time.time()\n",
        "  perform[key]=end-start\n",
        "\n",
        "sorted(perform.items(), key=lambda x: x[1])"
      ],
      "execution_count": null,
      "outputs": [
        {
          "output_type": "stream",
          "text": [
            "Counter({0: 24859, 1: 6063})\n"
          ],
          "name": "stdout"
        },
        {
          "output_type": "execute_result",
          "data": {
            "text/plain": [
              "[('RandomUnderSampler', 0.1531369686126709),\n",
              " ('NearMiss', 11.372380256652832),\n",
              " ('EditedNearestNeighbours', 27.50859570503235),\n",
              " ('TomekLinks', 36.5115921497345),\n",
              " ('OneSidedSelection', 47.6129515171051)]"
            ]
          },
          "metadata": {
            "tags": []
          },
          "execution_count": 89
        }
      ]
    },
    {
      "cell_type": "markdown",
      "metadata": {
        "id": "3mNPna6oK9iS"
      },
      "source": [
        "Best are ROS, NM, ENN"
      ]
    },
    {
      "cell_type": "code",
      "metadata": {
        "id": "zCA2mktQr6Kl",
        "outputId": "5ba35010-6559-4393-be58-fb19d0be9066",
        "colab": {
          "base_uri": "https://localhost:8080/",
          "height": 156
        }
      },
      "source": [
        "def train_model_2(X_dat,label,model,resampler):\n",
        "  # Split data set \n",
        "  X_train, X_test, y_train, y_test = train_test_split(X_dat,label,test_size=0.2,stratify=label, random_state=48)\n",
        "  #print('Training features shape:', X_train.shape)\n",
        "  #print('Test features shape:', X_test.shape)\n",
        "\n",
        "  # Standardize the data \n",
        "  scaler = StandardScaler()\n",
        "  X_train = scaler.fit_transform(X_train)\n",
        "  X_test = scaler.transform(X_test)\n",
        "  \n",
        "  # Resampling the training set\n",
        "  X_train, y_train = resampler.fit_resample(X_train, y_train)\n",
        "\n",
        "  print(Counter(y_train))\n",
        "  # and then train it with Logistic Regression\n",
        "  start = time.time()\n",
        "  model.fit(X_train, y_train)\n",
        "  # use the model to make predictions with the test data\n",
        "  y_pred = model.predict(X_test)\n",
        "  end= time.time()\n",
        "\n",
        "  # get the evaluation metrics\n",
        "  result = get_accs(y_test,y_pred,False)\n",
        "  result.append(end-start)\n",
        "  return result\n",
        "\n",
        "train_model(sets[3][0],sets[3][1],SGDClassifier(loss=\"hinge\", penalty=\"l2\", max_iter=5))"
      ],
      "execution_count": null,
      "outputs": [
        {
          "output_type": "stream",
          "text": [
            "/usr/local/lib/python3.6/dist-packages/sklearn/linear_model/_stochastic_gradient.py:557: ConvergenceWarning: Maximum number of iteration reached before convergence. Consider increasing max_iter to improve the fit.\n",
            "  ConvergenceWarning)\n"
          ],
          "name": "stderr"
        },
        {
          "output_type": "execute_result",
          "data": {
            "text/plain": [
              "[0.7922506183017313,\n",
              " 0.8568548387096774,\n",
              " 0.502262443438914,\n",
              " 0.656022869237635,\n",
              " 0.008109092712402344]"
            ]
          },
          "metadata": {
            "tags": []
          },
          "execution_count": 21
        }
      ]
    },
    {
      "cell_type": "code",
      "metadata": {
        "id": "M6KWt51jrZSr"
      },
      "source": [
        ""
      ],
      "execution_count": null,
      "outputs": []
    },
    {
      "cell_type": "markdown",
      "metadata": {
        "id": "3yBQUGd9I4PO"
      },
      "source": [
        "### Random under resampling\n"
      ]
    },
    {
      "cell_type": "code",
      "metadata": {
        "id": "RsIADmEDFJz2",
        "outputId": "17cbf6a0-aaa4-4acc-f8f9-b3f431480d45",
        "colab": {
          "base_uri": "https://localhost:8080/",
          "height": 1000
        }
      },
      "source": [
        "rsts = pd.DataFrame()\n",
        "for i in range(4):\n",
        "  MLs = create_ML('balanced')\n",
        "\n",
        "  for clf_name, clf in MLs.items():\n",
        "    name = '{0} #{1}'.format(clf_name,i+1)\n",
        "    print(name)\n",
        "    try:\n",
        "      rus = RandomUnderSampler(random_state=42)\n",
        "      rsts[name] = train_model_2(sets[i][0],sets[i][1],clf,rus)\n",
        "    except Exception as e: print(e)\n",
        "    \n",
        "rsts.index = index\n",
        "best_rst = []\n",
        "for i in range(4):\n",
        "  algo = rsts.loc['G-mean'][i*5:i*5+5].idxmax()\n",
        "  best_rst.append(algo)\n",
        "best_rst_ur = rsts[best_rst].copy()\n",
        "best_rst_ur"
      ],
      "execution_count": null,
      "outputs": [
        {
          "output_type": "stream",
          "text": [
            "LR #1\n"
          ],
          "name": "stdout"
        },
        {
          "output_type": "stream",
          "text": [
            "/usr/local/lib/python3.6/dist-packages/sklearn/utils/deprecation.py:87: FutureWarning: Function safe_indexing is deprecated; safe_indexing is deprecated in version 0.22 and will be removed in version 0.24.\n",
            "  warnings.warn(msg, category=FutureWarning)\n"
          ],
          "name": "stderr"
        },
        {
          "output_type": "stream",
          "text": [
            "Counter({0: 67163, 1: 67163})\n",
            "DT #1\n"
          ],
          "name": "stdout"
        },
        {
          "output_type": "stream",
          "text": [
            "/usr/local/lib/python3.6/dist-packages/sklearn/utils/deprecation.py:87: FutureWarning: Function safe_indexing is deprecated; safe_indexing is deprecated in version 0.22 and will be removed in version 0.24.\n",
            "  warnings.warn(msg, category=FutureWarning)\n"
          ],
          "name": "stderr"
        },
        {
          "output_type": "stream",
          "text": [
            "Counter({0: 67163, 1: 67163})\n",
            "RF #1\n"
          ],
          "name": "stdout"
        },
        {
          "output_type": "stream",
          "text": [
            "/usr/local/lib/python3.6/dist-packages/sklearn/utils/deprecation.py:87: FutureWarning: Function safe_indexing is deprecated; safe_indexing is deprecated in version 0.22 and will be removed in version 0.24.\n",
            "  warnings.warn(msg, category=FutureWarning)\n"
          ],
          "name": "stderr"
        },
        {
          "output_type": "stream",
          "text": [
            "Counter({0: 67163, 1: 67163})\n",
            "GNB #1\n"
          ],
          "name": "stdout"
        },
        {
          "output_type": "stream",
          "text": [
            "/usr/local/lib/python3.6/dist-packages/sklearn/utils/deprecation.py:87: FutureWarning: Function safe_indexing is deprecated; safe_indexing is deprecated in version 0.22 and will be removed in version 0.24.\n",
            "  warnings.warn(msg, category=FutureWarning)\n"
          ],
          "name": "stderr"
        },
        {
          "output_type": "stream",
          "text": [
            "Counter({0: 67163, 1: 67163})\n",
            "SGD #1\n"
          ],
          "name": "stdout"
        },
        {
          "output_type": "stream",
          "text": [
            "/usr/local/lib/python3.6/dist-packages/sklearn/utils/deprecation.py:87: FutureWarning: Function safe_indexing is deprecated; safe_indexing is deprecated in version 0.22 and will be removed in version 0.24.\n",
            "  warnings.warn(msg, category=FutureWarning)\n"
          ],
          "name": "stderr"
        },
        {
          "output_type": "stream",
          "text": [
            "Counter({0: 67163, 1: 67163})\n"
          ],
          "name": "stdout"
        },
        {
          "output_type": "stream",
          "text": [
            "/usr/local/lib/python3.6/dist-packages/sklearn/linear_model/_stochastic_gradient.py:557: ConvergenceWarning: Maximum number of iteration reached before convergence. Consider increasing max_iter to improve the fit.\n",
            "  ConvergenceWarning)\n"
          ],
          "name": "stderr"
        },
        {
          "output_type": "stream",
          "text": [
            "LR #2\n"
          ],
          "name": "stdout"
        },
        {
          "output_type": "stream",
          "text": [
            "/usr/local/lib/python3.6/dist-packages/sklearn/utils/deprecation.py:87: FutureWarning: Function safe_indexing is deprecated; safe_indexing is deprecated in version 0.22 and will be removed in version 0.24.\n",
            "  warnings.warn(msg, category=FutureWarning)\n"
          ],
          "name": "stderr"
        },
        {
          "output_type": "stream",
          "text": [
            "Counter({0: 24738, 1: 24738})\n",
            "DT #2\n"
          ],
          "name": "stdout"
        },
        {
          "output_type": "stream",
          "text": [
            "/usr/local/lib/python3.6/dist-packages/sklearn/utils/deprecation.py:87: FutureWarning: Function safe_indexing is deprecated; safe_indexing is deprecated in version 0.22 and will be removed in version 0.24.\n",
            "  warnings.warn(msg, category=FutureWarning)\n"
          ],
          "name": "stderr"
        },
        {
          "output_type": "stream",
          "text": [
            "Counter({0: 24738, 1: 24738})\n",
            "RF #2\n"
          ],
          "name": "stdout"
        },
        {
          "output_type": "stream",
          "text": [
            "/usr/local/lib/python3.6/dist-packages/sklearn/utils/deprecation.py:87: FutureWarning: Function safe_indexing is deprecated; safe_indexing is deprecated in version 0.22 and will be removed in version 0.24.\n",
            "  warnings.warn(msg, category=FutureWarning)\n"
          ],
          "name": "stderr"
        },
        {
          "output_type": "stream",
          "text": [
            "Counter({0: 24738, 1: 24738})\n",
            "GNB #2\n",
            "Counter({0: 24738, 1: 24738})\n"
          ],
          "name": "stdout"
        },
        {
          "output_type": "stream",
          "text": [
            "/usr/local/lib/python3.6/dist-packages/sklearn/utils/deprecation.py:87: FutureWarning: Function safe_indexing is deprecated; safe_indexing is deprecated in version 0.22 and will be removed in version 0.24.\n",
            "  warnings.warn(msg, category=FutureWarning)\n"
          ],
          "name": "stderr"
        },
        {
          "output_type": "stream",
          "text": [
            "SGD #2\n"
          ],
          "name": "stdout"
        },
        {
          "output_type": "stream",
          "text": [
            "/usr/local/lib/python3.6/dist-packages/sklearn/utils/deprecation.py:87: FutureWarning: Function safe_indexing is deprecated; safe_indexing is deprecated in version 0.22 and will be removed in version 0.24.\n",
            "  warnings.warn(msg, category=FutureWarning)\n",
            "/usr/local/lib/python3.6/dist-packages/sklearn/linear_model/_stochastic_gradient.py:557: ConvergenceWarning: Maximum number of iteration reached before convergence. Consider increasing max_iter to improve the fit.\n",
            "  ConvergenceWarning)\n"
          ],
          "name": "stderr"
        },
        {
          "output_type": "stream",
          "text": [
            "Counter({0: 24738, 1: 24738})\n",
            "LR #3\n"
          ],
          "name": "stdout"
        },
        {
          "output_type": "stream",
          "text": [
            "/usr/local/lib/python3.6/dist-packages/sklearn/utils/deprecation.py:87: FutureWarning: Function safe_indexing is deprecated; safe_indexing is deprecated in version 0.22 and will be removed in version 0.24.\n",
            "  warnings.warn(msg, category=FutureWarning)\n",
            "/usr/local/lib/python3.6/dist-packages/sklearn/utils/deprecation.py:87: FutureWarning: Function safe_indexing is deprecated; safe_indexing is deprecated in version 0.22 and will be removed in version 0.24.\n",
            "  warnings.warn(msg, category=FutureWarning)\n"
          ],
          "name": "stderr"
        },
        {
          "output_type": "stream",
          "text": [
            "Counter({0: 4850, 1: 4850})\n",
            "DT #3\n",
            "Counter({0: 4850, 1: 4850})\n",
            "RF #3\n",
            "Counter({0: 4850, 1: 4850})\n"
          ],
          "name": "stdout"
        },
        {
          "output_type": "stream",
          "text": [
            "/usr/local/lib/python3.6/dist-packages/sklearn/utils/deprecation.py:87: FutureWarning: Function safe_indexing is deprecated; safe_indexing is deprecated in version 0.22 and will be removed in version 0.24.\n",
            "  warnings.warn(msg, category=FutureWarning)\n"
          ],
          "name": "stderr"
        },
        {
          "output_type": "stream",
          "text": [
            "GNB #3\n",
            "Counter({0: 4850, 1: 4850})\n",
            "SGD #3\n",
            "Counter({0: 4850, 1: 4850})\n",
            "LR #4\n"
          ],
          "name": "stdout"
        },
        {
          "output_type": "stream",
          "text": [
            "/usr/local/lib/python3.6/dist-packages/sklearn/utils/deprecation.py:87: FutureWarning: Function safe_indexing is deprecated; safe_indexing is deprecated in version 0.22 and will be removed in version 0.24.\n",
            "  warnings.warn(msg, category=FutureWarning)\n",
            "/usr/local/lib/python3.6/dist-packages/sklearn/utils/deprecation.py:87: FutureWarning: Function safe_indexing is deprecated; safe_indexing is deprecated in version 0.22 and will be removed in version 0.24.\n",
            "  warnings.warn(msg, category=FutureWarning)\n",
            "/usr/local/lib/python3.6/dist-packages/sklearn/linear_model/_stochastic_gradient.py:557: ConvergenceWarning: Maximum number of iteration reached before convergence. Consider increasing max_iter to improve the fit.\n",
            "  ConvergenceWarning)\n",
            "/usr/local/lib/python3.6/dist-packages/sklearn/utils/deprecation.py:87: FutureWarning: Function safe_indexing is deprecated; safe_indexing is deprecated in version 0.22 and will be removed in version 0.24.\n",
            "  warnings.warn(msg, category=FutureWarning)\n"
          ],
          "name": "stderr"
        },
        {
          "output_type": "stream",
          "text": [
            "Counter({0: 883, 1: 883})\n",
            "DT #4\n",
            "Counter({0: 883, 1: 883})\n",
            "RF #4\n",
            "Counter({0: 883, 1: 883})\n"
          ],
          "name": "stdout"
        },
        {
          "output_type": "stream",
          "text": [
            "/usr/local/lib/python3.6/dist-packages/sklearn/utils/deprecation.py:87: FutureWarning: Function safe_indexing is deprecated; safe_indexing is deprecated in version 0.22 and will be removed in version 0.24.\n",
            "  warnings.warn(msg, category=FutureWarning)\n",
            "/usr/local/lib/python3.6/dist-packages/sklearn/utils/deprecation.py:87: FutureWarning: Function safe_indexing is deprecated; safe_indexing is deprecated in version 0.22 and will be removed in version 0.24.\n",
            "  warnings.warn(msg, category=FutureWarning)\n"
          ],
          "name": "stderr"
        },
        {
          "output_type": "stream",
          "text": [
            "GNB #4\n",
            "Counter({0: 883, 1: 883})\n",
            "SGD #4\n",
            "Counter({0: 883, 1: 883})\n"
          ],
          "name": "stdout"
        },
        {
          "output_type": "stream",
          "text": [
            "/usr/local/lib/python3.6/dist-packages/sklearn/utils/deprecation.py:87: FutureWarning: Function safe_indexing is deprecated; safe_indexing is deprecated in version 0.22 and will be removed in version 0.24.\n",
            "  warnings.warn(msg, category=FutureWarning)\n",
            "/usr/local/lib/python3.6/dist-packages/sklearn/utils/deprecation.py:87: FutureWarning: Function safe_indexing is deprecated; safe_indexing is deprecated in version 0.22 and will be removed in version 0.24.\n",
            "  warnings.warn(msg, category=FutureWarning)\n",
            "/usr/local/lib/python3.6/dist-packages/sklearn/linear_model/_stochastic_gradient.py:557: ConvergenceWarning: Maximum number of iteration reached before convergence. Consider increasing max_iter to improve the fit.\n",
            "  ConvergenceWarning)\n"
          ],
          "name": "stderr"
        },
        {
          "output_type": "execute_result",
          "data": {
            "text/html": [
              "<div>\n",
              "<style scoped>\n",
              "    .dataframe tbody tr th:only-of-type {\n",
              "        vertical-align: middle;\n",
              "    }\n",
              "\n",
              "    .dataframe tbody tr th {\n",
              "        vertical-align: top;\n",
              "    }\n",
              "\n",
              "    .dataframe thead th {\n",
              "        text-align: right;\n",
              "    }\n",
              "</style>\n",
              "<table border=\"1\" class=\"dataframe\">\n",
              "  <thead>\n",
              "    <tr style=\"text-align: right;\">\n",
              "      <th></th>\n",
              "      <th>LR #1</th>\n",
              "      <th>LR #2</th>\n",
              "      <th>LR #3</th>\n",
              "      <th>LR #4</th>\n",
              "    </tr>\n",
              "  </thead>\n",
              "  <tbody>\n",
              "    <tr>\n",
              "      <th>Global accuracy</th>\n",
              "      <td>0.717092</td>\n",
              "      <td>0.640522</td>\n",
              "      <td>0.724818</td>\n",
              "      <td>0.751031</td>\n",
              "    </tr>\n",
              "    <tr>\n",
              "      <th>Class 1</th>\n",
              "      <td>0.752423</td>\n",
              "      <td>0.696804</td>\n",
              "      <td>0.745173</td>\n",
              "      <td>0.774194</td>\n",
              "    </tr>\n",
              "    <tr>\n",
              "      <th>Class 2</th>\n",
              "      <td>0.555119</td>\n",
              "      <td>0.543984</td>\n",
              "      <td>0.641385</td>\n",
              "      <td>0.647059</td>\n",
              "    </tr>\n",
              "    <tr>\n",
              "      <th>G-mean</th>\n",
              "      <td>0.646285</td>\n",
              "      <td>0.615671</td>\n",
              "      <td>0.691334</td>\n",
              "      <td>0.707777</td>\n",
              "    </tr>\n",
              "    <tr>\n",
              "      <th>Training time</th>\n",
              "      <td>0.848973</td>\n",
              "      <td>0.219364</td>\n",
              "      <td>0.075318</td>\n",
              "      <td>0.035538</td>\n",
              "    </tr>\n",
              "  </tbody>\n",
              "</table>\n",
              "</div>"
            ],
            "text/plain": [
              "                    LR #1     LR #2     LR #3     LR #4\n",
              "Global accuracy  0.717092  0.640522  0.724818  0.751031\n",
              "Class 1          0.752423  0.696804  0.745173  0.774194\n",
              "Class 2          0.555119  0.543984  0.641385  0.647059\n",
              "G-mean           0.646285  0.615671  0.691334  0.707777\n",
              "Training time    0.848973  0.219364  0.075318  0.035538"
            ]
          },
          "metadata": {
            "tags": []
          },
          "execution_count": 23
        }
      ]
    },
    {
      "cell_type": "markdown",
      "metadata": {
        "id": "Rgwm9hLzIhUY"
      },
      "source": [
        "## Near Miss"
      ]
    },
    {
      "cell_type": "code",
      "metadata": {
        "id": "Mb8nw5aQIKWF",
        "outputId": "2ae083dd-bc58-41bd-fed6-92f374b71cd8",
        "colab": {
          "base_uri": "https://localhost:8080/",
          "height": 68
        }
      },
      "source": [
        "rsts = pd.DataFrame()\n",
        "for i in range(4):\n",
        "  MLs = create_ML('balanced')\n",
        "\n",
        "  for clf_name, clf in MLs.items():\n",
        "    name = '{0} #{1}'.format(clf_name,i+1)\n",
        "    print(name)\n",
        "    try:\n",
        "      nrms =NearMiss(random_state=42)\n",
        "      rsts[name] = train_model_2(sets[i][0],sets[i][1],clf,nrms)\n",
        "    except Exception as e: print(e)\n",
        "    \n",
        "rsts.index = index\n",
        "best_rst = []\n",
        "for i in range(4):\n",
        "  algo = rsts.loc['G-mean'][i*5:i*5+5].idxmax()\n",
        "  best_rst.append(algo)\n",
        "best_rst_ur = rsts[best_rst].copy()\n",
        "best_rst_ur"
      ],
      "execution_count": null,
      "outputs": [
        {
          "output_type": "stream",
          "text": [
            "LR #1\n",
            "Counter({0: 67163, 1: 67163})\n",
            "DT #1\n"
          ],
          "name": "stdout"
        }
      ]
    },
    {
      "cell_type": "markdown",
      "metadata": {
        "id": "w297VFGDIluk"
      },
      "source": [
        "## Edited Nearest Neighbours"
      ]
    },
    {
      "cell_type": "code",
      "metadata": {
        "id": "lpyDl6BKIlG7",
        "outputId": "805aaa9c-f817-45d9-f0ab-867515049720",
        "colab": {
          "base_uri": "https://localhost:8080/",
          "height": 612
        }
      },
      "source": [
        "rsts = pd.DataFrame()\n",
        "for i in range(4):\n",
        "  MLs = create_ML('balanced')\n",
        "  for clf_name, clf in MLs.items():\n",
        "    name = '{0} #{1}'.format(clf_name,i+1)\n",
        "    print(name)\n",
        "    try:\n",
        "      enn = EditedNearestNeighbours(random_state=42)\n",
        "      rsts[name] = train_model_2(sets[i][0],sets[i][1],clf,enn)\n",
        "    except Exception as e: print(e)\n",
        "    \n",
        "rsts.index = index\n",
        "best_rst = []\n",
        "for i in range(4):\n",
        "  algo = rsts.loc['G-mean'][i*5:i*5+5].idxmax()\n",
        "  best_rst.append(algo)\n",
        "best_rst_ur = rsts[best_rst].copy()\n",
        "best_rst_ur"
      ],
      "execution_count": null,
      "outputs": [
        {
          "output_type": "stream",
          "text": [
            "Counter({0: 229742, 1: 83954})\n",
            "LR #1\n",
            "DT #1\n",
            "RF #1\n",
            "GNB #1\n",
            "SGD #1\n",
            "Counter({1: 30922, 0: 16763})\n",
            "LR #2\n",
            "DT #2\n",
            "RF #2\n",
            "GNB #2\n",
            "SGD #2\n",
            "Counter({0: 15087, 1: 6063})\n",
            "LR #3\n",
            "DT #3\n",
            "RF #3\n",
            "GNB #3\n",
            "SGD #3\n",
            "Counter({0: 3307, 1: 1104})\n",
            "LR #4\n",
            "DT #4\n",
            "RF #4\n",
            "GNB #4\n",
            "SGD #4\n"
          ],
          "name": "stdout"
        },
        {
          "output_type": "execute_result",
          "data": {
            "text/html": [
              "<div>\n",
              "<style scoped>\n",
              "    .dataframe tbody tr th:only-of-type {\n",
              "        vertical-align: middle;\n",
              "    }\n",
              "\n",
              "    .dataframe tbody tr th {\n",
              "        vertical-align: top;\n",
              "    }\n",
              "\n",
              "    .dataframe thead th {\n",
              "        text-align: right;\n",
              "    }\n",
              "</style>\n",
              "<table border=\"1\" class=\"dataframe\">\n",
              "  <thead>\n",
              "    <tr style=\"text-align: right;\">\n",
              "      <th></th>\n",
              "      <th>LR #1</th>\n",
              "      <th>LR #2</th>\n",
              "      <th>LR #3</th>\n",
              "      <th>LR #4</th>\n",
              "    </tr>\n",
              "  </thead>\n",
              "  <tbody>\n",
              "    <tr>\n",
              "      <th>Global accuracy</th>\n",
              "      <td>0.707364</td>\n",
              "      <td>0.627975</td>\n",
              "      <td>0.748227</td>\n",
              "      <td>0.784824</td>\n",
              "    </tr>\n",
              "    <tr>\n",
              "      <th>Class 1</th>\n",
              "      <td>0.750223</td>\n",
              "      <td>0.737847</td>\n",
              "      <td>0.780908</td>\n",
              "      <td>0.827795</td>\n",
              "    </tr>\n",
              "    <tr>\n",
              "      <th>Class 2</th>\n",
              "      <td>0.590078</td>\n",
              "      <td>0.568402</td>\n",
              "      <td>0.666941</td>\n",
              "      <td>0.656109</td>\n",
              "    </tr>\n",
              "    <tr>\n",
              "      <th>G-mean</th>\n",
              "      <td>0.665350</td>\n",
              "      <td>0.647606</td>\n",
              "      <td>0.721679</td>\n",
              "      <td>0.736969</td>\n",
              "    </tr>\n",
              "    <tr>\n",
              "      <th>Training time</th>\n",
              "      <td>1.793872</td>\n",
              "      <td>0.538568</td>\n",
              "      <td>0.109077</td>\n",
              "      <td>0.039802</td>\n",
              "    </tr>\n",
              "  </tbody>\n",
              "</table>\n",
              "</div>"
            ],
            "text/plain": [
              "                    LR #1     LR #2     LR #3     LR #4\n",
              "Global accuracy  0.707364  0.627975  0.748227  0.784824\n",
              "Class 1          0.750223  0.737847  0.780908  0.827795\n",
              "Class 2          0.590078  0.568402  0.666941  0.656109\n",
              "G-mean           0.665350  0.647606  0.721679  0.736969\n",
              "Training time    1.793872  0.538568  0.109077  0.039802"
            ]
          },
          "metadata": {
            "tags": []
          },
          "execution_count": 92
        }
      ]
    },
    {
      "cell_type": "markdown",
      "metadata": {
        "id": "cedBq2E2GXkH"
      },
      "source": [
        "# Run 4 binary models with over-sampling\n"
      ]
    },
    {
      "cell_type": "code",
      "metadata": {
        "id": "LlPf_4sDGXkM"
      },
      "source": [
        "from imblearn.over_sampling import RandomOverSampler,SMOTE\n",
        "from imblearn.over_sampling import ADASYN, BorderlineSMOTE"
      ],
      "execution_count": null,
      "outputs": []
    },
    {
      "cell_type": "code",
      "metadata": {
        "id": "EleiYR9mJf-U",
        "outputId": "a02d00cb-0396-4172-8d8d-2fcb7539ace9",
        "colab": {
          "base_uri": "https://localhost:8080/",
          "height": 170
        }
      },
      "source": [
        "ada = ADASYN(random_state=42)\n",
        "bsm = BorderlineSMOTE(random_state=42)\n",
        "#ksm = KMeansSMOTE(random_state=42)\n",
        "ros = RandomOverSampler(random_state=42)\n",
        "sm = SMOTE(random_state=42)\n",
        "\n",
        "overs = [ros, sm, bsm, ada]\n",
        "over_names = ['RandomOverSampler','SMOTE',\n",
        "            'BorderlineSMOTE', 'ADASYN']\n",
        "ORs=dict(zip(over_names,overs))\n",
        "ORs"
      ],
      "execution_count": null,
      "outputs": [
        {
          "output_type": "execute_result",
          "data": {
            "text/plain": [
              "{'ADASYN': ADASYN(n_jobs=1, n_neighbors=5, random_state=42, ratio=None,\n",
              "        sampling_strategy='auto'),\n",
              " 'BorderlineSMOTE': BorderlineSMOTE(k_neighbors=5, kind='borderline-1', m_neighbors=10, n_jobs=1,\n",
              "                 random_state=42, sampling_strategy='auto'),\n",
              " 'RandomOverSampler': RandomOverSampler(random_state=42, ratio=None, return_indices=False,\n",
              "                   sampling_strategy='auto'),\n",
              " 'SMOTE': SMOTE(k_neighbors=5, kind='deprecated', m_neighbors='deprecated', n_jobs=1,\n",
              "       out_step='deprecated', random_state=42, ratio=None,\n",
              "       sampling_strategy='auto', svm_estimator='deprecated')}"
            ]
          },
          "metadata": {
            "tags": []
          },
          "execution_count": 96
        }
      ]
    },
    {
      "cell_type": "code",
      "metadata": {
        "id": "fPZjd89hGXks",
        "outputId": "a52b7782-e612-44a1-b097-7ee6683b5dbb",
        "colab": {
          "base_uri": "https://localhost:8080/",
          "height": 34
        }
      },
      "source": [
        "def over_resampling(data,method):\n",
        "  urs = ORs[method]\n",
        "  X_urs, y_urs = urs.fit_resample(data[0], data[1])\n",
        "  return X_urs, y_urs\n",
        "_,y_or = over_resampling(sets[3],over_names[0])\n",
        "Counter(sets[3][1]), Counter(y_or)"
      ],
      "execution_count": null,
      "outputs": [
        {
          "output_type": "execute_result",
          "data": {
            "text/plain": [
              "(Counter({0: 4959, 1: 1104}), Counter({0: 4959, 1: 4959}))"
            ]
          },
          "metadata": {
            "tags": []
          },
          "execution_count": 97
        }
      ]
    },
    {
      "cell_type": "code",
      "metadata": {
        "id": "VasnWl55L13F",
        "outputId": "a57d3b90-1330-438a-e919-9330510521e0",
        "colab": {
          "base_uri": "https://localhost:8080/",
          "height": 102
        }
      },
      "source": [
        "i = 2\n",
        "print(Counter(sets[i][1]))\n",
        "perform ={}\n",
        "for key in over_names:\n",
        "  start = time.time()\n",
        "  over_resampling(sets[i],key)\n",
        "  end = time.time()\n",
        "  perform[key]=end-start\n",
        "\n",
        "sorted(perform.items(), key=lambda x: x[1])"
      ],
      "execution_count": null,
      "outputs": [
        {
          "output_type": "stream",
          "text": [
            "Counter({0: 24859, 1: 6063})\n"
          ],
          "name": "stdout"
        },
        {
          "output_type": "execute_result",
          "data": {
            "text/plain": [
              "[('RandomOverSampler', 0.04093647003173828),\n",
              " ('SMOTE', 0.36640286445617676),\n",
              " ('BorderlineSMOTE', 1.6354360580444336),\n",
              " ('ADASYN', 1.8417112827301025)]"
            ]
          },
          "metadata": {
            "tags": []
          },
          "execution_count": 101
        }
      ]
    },
    {
      "cell_type": "markdown",
      "metadata": {
        "id": "hM56x9_kIziY"
      },
      "source": [
        "### Random over resampling"
      ]
    },
    {
      "cell_type": "code",
      "metadata": {
        "id": "RRdrsV1xGXky",
        "outputId": "c3ab077a-54be-45f8-dba9-8f54ff8c0f4b",
        "colab": {
          "base_uri": "https://localhost:8080/",
          "height": 612
        }
      },
      "source": [
        "rsts = pd.DataFrame()\n",
        "for i in range(4):\n",
        "  MLs = create_ML('balanced')\n",
        "  X_sub, y_sub = over_resampling(sets[i],over_names[0])\n",
        "  print(Counter(y_sub))\n",
        "  for clf_name, clf in MLs.items():\n",
        "    name = '{0} #{1}'.format(clf_name,i+1)\n",
        "    print(name)\n",
        "    try:\n",
        "      rsts[name] = train_model(X_sub,y_sub,clf)\n",
        "    except Exception as e: print(e)\n",
        "    \n",
        "rsts.index = index\n",
        "best_rst = []\n",
        "for i in range(4):\n",
        "  algo = rsts.loc['G-mean'][i*5:i*5+5].idxmax()\n",
        "  best_rst.append(algo)\n",
        "best_rst_ur = rsts[best_rst].copy()\n",
        "best_rst_ur"
      ],
      "execution_count": null,
      "outputs": [
        {
          "output_type": "stream",
          "text": [
            "Counter({0: 384890, 1: 384890})\n",
            "LR #1\n",
            "DT #1\n",
            "RF #1\n",
            "GNB #1\n",
            "SGD #1\n",
            "Counter({1: 53032, 0: 53032})\n",
            "LR #2\n",
            "DT #2\n",
            "RF #2\n",
            "GNB #2\n",
            "SGD #2\n",
            "Counter({0: 24859, 1: 24859})\n",
            "LR #3\n",
            "DT #3\n",
            "RF #3\n",
            "GNB #3\n",
            "SGD #3\n",
            "Counter({0: 4959, 1: 4959})\n",
            "LR #4\n",
            "DT #4\n",
            "RF #4\n",
            "GNB #4\n",
            "SGD #4\n"
          ],
          "name": "stdout"
        },
        {
          "output_type": "execute_result",
          "data": {
            "text/html": [
              "<div>\n",
              "<style scoped>\n",
              "    .dataframe tbody tr th:only-of-type {\n",
              "        vertical-align: middle;\n",
              "    }\n",
              "\n",
              "    .dataframe tbody tr th {\n",
              "        vertical-align: top;\n",
              "    }\n",
              "\n",
              "    .dataframe thead th {\n",
              "        text-align: right;\n",
              "    }\n",
              "</style>\n",
              "<table border=\"1\" class=\"dataframe\">\n",
              "  <thead>\n",
              "    <tr style=\"text-align: right;\">\n",
              "      <th></th>\n",
              "      <th>DT #1</th>\n",
              "      <th>DT #2</th>\n",
              "      <th>DT #3</th>\n",
              "      <th>DT #4</th>\n",
              "    </tr>\n",
              "  </thead>\n",
              "  <tbody>\n",
              "    <tr>\n",
              "      <th>Global accuracy</th>\n",
              "      <td>0.903745</td>\n",
              "      <td>0.727856</td>\n",
              "      <td>0.889381</td>\n",
              "      <td>0.907258</td>\n",
              "    </tr>\n",
              "    <tr>\n",
              "      <th>Class 1</th>\n",
              "      <td>0.822105</td>\n",
              "      <td>0.659376</td>\n",
              "      <td>0.803097</td>\n",
              "      <td>0.831653</td>\n",
              "    </tr>\n",
              "    <tr>\n",
              "      <th>Class 2</th>\n",
              "      <td>0.985385</td>\n",
              "      <td>0.796342</td>\n",
              "      <td>0.975664</td>\n",
              "      <td>0.982863</td>\n",
              "    </tr>\n",
              "    <tr>\n",
              "      <th>G-mean</th>\n",
              "      <td>0.900050</td>\n",
              "      <td>0.724630</td>\n",
              "      <td>0.885185</td>\n",
              "      <td>0.904102</td>\n",
              "    </tr>\n",
              "    <tr>\n",
              "      <th>Training time</th>\n",
              "      <td>24.561789</td>\n",
              "      <td>1.957119</td>\n",
              "      <td>0.676397</td>\n",
              "      <td>0.124658</td>\n",
              "    </tr>\n",
              "  </tbody>\n",
              "</table>\n",
              "</div>"
            ],
            "text/plain": [
              "                     DT #1     DT #2     DT #3     DT #4\n",
              "Global accuracy   0.903745  0.727856  0.889381  0.907258\n",
              "Class 1           0.822105  0.659376  0.803097  0.831653\n",
              "Class 2           0.985385  0.796342  0.975664  0.982863\n",
              "G-mean            0.900050  0.724630  0.885185  0.904102\n",
              "Training time    24.561789  1.957119  0.676397  0.124658"
            ]
          },
          "metadata": {
            "tags": []
          },
          "execution_count": 103
        }
      ]
    },
    {
      "cell_type": "markdown",
      "metadata": {
        "id": "yA2m3ULWuhHX"
      },
      "source": [
        "### SMOTE\n"
      ]
    },
    {
      "cell_type": "code",
      "metadata": {
        "id": "vYI3XOTVIdxi",
        "outputId": "ff49279c-c7d1-4e48-8a00-2733d1767800",
        "colab": {
          "base_uri": "https://localhost:8080/",
          "height": 612
        }
      },
      "source": [
        "rsts = pd.DataFrame()\n",
        "for i in range(4):\n",
        "  MLs = create_ML('balanced')\n",
        "  X_sub, y_sub = over_resampling(sets[i],over_names[1])\n",
        "  print(Counter(y_sub))\n",
        "  for clf_name, clf in MLs.items():\n",
        "    name = '{0} #{1}'.format(clf_name,i+1)\n",
        "    print(name)\n",
        "    try:\n",
        "      rsts[name] = train_model(X_sub,y_sub,clf)\n",
        "    except Exception as e: print(e)\n",
        "    \n",
        "rsts.index = index\n",
        "best_rst = []\n",
        "for i in range(4):\n",
        "  algo = rsts.loc['G-mean'][i*5:i*5+5].idxmax()\n",
        "  best_rst.append(algo)\n",
        "best_rst_ur = rsts[best_rst].copy()\n",
        "best_rst_ur"
      ],
      "execution_count": null,
      "outputs": [
        {
          "output_type": "stream",
          "text": [
            "Counter({0: 384890, 1: 384890})\n",
            "LR #1\n",
            "DT #1\n",
            "RF #1\n",
            "GNB #1\n",
            "SGD #1\n",
            "Counter({1: 53032, 0: 53032})\n",
            "LR #2\n",
            "DT #2\n",
            "RF #2\n",
            "GNB #2\n",
            "SGD #2\n",
            "Counter({0: 24859, 1: 24859})\n",
            "LR #3\n",
            "DT #3\n",
            "RF #3\n",
            "GNB #3\n",
            "SGD #3\n",
            "Counter({0: 4959, 1: 4959})\n",
            "LR #4\n",
            "DT #4\n",
            "RF #4\n",
            "GNB #4\n",
            "SGD #4\n"
          ],
          "name": "stdout"
        },
        {
          "output_type": "execute_result",
          "data": {
            "text/html": [
              "<div>\n",
              "<style scoped>\n",
              "    .dataframe tbody tr th:only-of-type {\n",
              "        vertical-align: middle;\n",
              "    }\n",
              "\n",
              "    .dataframe tbody tr th {\n",
              "        vertical-align: top;\n",
              "    }\n",
              "\n",
              "    .dataframe thead th {\n",
              "        text-align: right;\n",
              "    }\n",
              "</style>\n",
              "<table border=\"1\" class=\"dataframe\">\n",
              "  <thead>\n",
              "    <tr style=\"text-align: right;\">\n",
              "      <th></th>\n",
              "      <th>DT #1</th>\n",
              "      <th>RF #2</th>\n",
              "      <th>DT #3</th>\n",
              "      <th>DT #4</th>\n",
              "    </tr>\n",
              "  </thead>\n",
              "  <tbody>\n",
              "    <tr>\n",
              "      <th>Global accuracy</th>\n",
              "      <td>0.840396</td>\n",
              "      <td>0.690331</td>\n",
              "      <td>0.822003</td>\n",
              "      <td>0.850806</td>\n",
              "    </tr>\n",
              "    <tr>\n",
              "      <th>Class 1</th>\n",
              "      <td>0.829523</td>\n",
              "      <td>0.713680</td>\n",
              "      <td>0.808528</td>\n",
              "      <td>0.852823</td>\n",
              "    </tr>\n",
              "    <tr>\n",
              "      <th>Class 2</th>\n",
              "      <td>0.851269</td>\n",
              "      <td>0.666981</td>\n",
              "      <td>0.835479</td>\n",
              "      <td>0.848790</td>\n",
              "    </tr>\n",
              "    <tr>\n",
              "      <th>G-mean</th>\n",
              "      <td>0.840326</td>\n",
              "      <td>0.689935</td>\n",
              "      <td>0.821893</td>\n",
              "      <td>0.850804</td>\n",
              "    </tr>\n",
              "    <tr>\n",
              "      <th>Training time</th>\n",
              "      <td>25.816819</td>\n",
              "      <td>4.755466</td>\n",
              "      <td>0.917041</td>\n",
              "      <td>0.207702</td>\n",
              "    </tr>\n",
              "  </tbody>\n",
              "</table>\n",
              "</div>"
            ],
            "text/plain": [
              "                     DT #1     RF #2     DT #3     DT #4\n",
              "Global accuracy   0.840396  0.690331  0.822003  0.850806\n",
              "Class 1           0.829523  0.713680  0.808528  0.852823\n",
              "Class 2           0.851269  0.666981  0.835479  0.848790\n",
              "G-mean            0.840326  0.689935  0.821893  0.850804\n",
              "Training time    25.816819  4.755466  0.917041  0.207702"
            ]
          },
          "metadata": {
            "tags": []
          },
          "execution_count": 104
        }
      ]
    },
    {
      "cell_type": "markdown",
      "metadata": {
        "id": "AHTKs48tNpop"
      },
      "source": [
        "### BorderlineSMOTE\n"
      ]
    },
    {
      "cell_type": "code",
      "metadata": {
        "id": "oDFz_fTvNpos",
        "outputId": "e9900554-ccc8-4dec-f579-8a8270e9edb7",
        "colab": {
          "base_uri": "https://localhost:8080/",
          "height": 612
        }
      },
      "source": [
        "rsts = pd.DataFrame()\n",
        "j = 2\n",
        "for i in range(4):\n",
        "  MLs = create_ML('balanced')\n",
        "  X_sub, y_sub = over_resampling(sets[i],over_names[j])\n",
        "  print(Counter(y_sub), over_names[j])\n",
        "  for clf_name, clf in MLs.items():\n",
        "    name = '{0} #{1}'.format(clf_name,i+1)\n",
        "    print(name)\n",
        "    try:\n",
        "      rsts[name] = train_model(X_sub,y_sub,clf)\n",
        "    except Exception as e: print(e)\n",
        "    \n",
        "rsts.index = index\n",
        "best_rst = []\n",
        "for i in range(4):\n",
        "  algo = rsts.loc['G-mean'][i*5:i*5+5].idxmax()\n",
        "  best_rst.append(algo)\n",
        "best_rst_ur = rsts[best_rst].copy()\n",
        "best_rst_ur"
      ],
      "execution_count": null,
      "outputs": [
        {
          "output_type": "stream",
          "text": [
            "Counter({0: 384890, 1: 384890}) BorderlineSMOTE\n",
            "LR #1\n",
            "DT #1\n",
            "RF #1\n",
            "GNB #1\n",
            "SGD #1\n",
            "Counter({1: 53032, 0: 53032}) BorderlineSMOTE\n",
            "LR #2\n",
            "DT #2\n",
            "RF #2\n",
            "GNB #2\n",
            "SGD #2\n",
            "Counter({0: 24859, 1: 24859}) BorderlineSMOTE\n",
            "LR #3\n",
            "DT #3\n",
            "RF #3\n",
            "GNB #3\n",
            "SGD #3\n",
            "Counter({0: 4959, 1: 4959}) BorderlineSMOTE\n",
            "LR #4\n",
            "DT #4\n",
            "RF #4\n",
            "GNB #4\n",
            "SGD #4\n"
          ],
          "name": "stdout"
        },
        {
          "output_type": "execute_result",
          "data": {
            "text/html": [
              "<div>\n",
              "<style scoped>\n",
              "    .dataframe tbody tr th:only-of-type {\n",
              "        vertical-align: middle;\n",
              "    }\n",
              "\n",
              "    .dataframe tbody tr th {\n",
              "        vertical-align: top;\n",
              "    }\n",
              "\n",
              "    .dataframe thead th {\n",
              "        text-align: right;\n",
              "    }\n",
              "</style>\n",
              "<table border=\"1\" class=\"dataframe\">\n",
              "  <thead>\n",
              "    <tr style=\"text-align: right;\">\n",
              "      <th></th>\n",
              "      <th>DT #1</th>\n",
              "      <th>RF #2</th>\n",
              "      <th>DT #3</th>\n",
              "      <th>DT #4</th>\n",
              "    </tr>\n",
              "  </thead>\n",
              "  <tbody>\n",
              "    <tr>\n",
              "      <th>Global accuracy</th>\n",
              "      <td>0.840253</td>\n",
              "      <td>0.684722</td>\n",
              "      <td>0.814662</td>\n",
              "      <td>0.845262</td>\n",
              "    </tr>\n",
              "    <tr>\n",
              "      <th>Class 1</th>\n",
              "      <td>0.829796</td>\n",
              "      <td>0.688225</td>\n",
              "      <td>0.804907</td>\n",
              "      <td>0.835685</td>\n",
              "    </tr>\n",
              "    <tr>\n",
              "      <th>Class 2</th>\n",
              "      <td>0.850711</td>\n",
              "      <td>0.681218</td>\n",
              "      <td>0.824417</td>\n",
              "      <td>0.854839</td>\n",
              "    </tr>\n",
              "    <tr>\n",
              "      <th>G-mean</th>\n",
              "      <td>0.840188</td>\n",
              "      <td>0.684713</td>\n",
              "      <td>0.814604</td>\n",
              "      <td>0.845208</td>\n",
              "    </tr>\n",
              "    <tr>\n",
              "      <th>Training time</th>\n",
              "      <td>23.657061</td>\n",
              "      <td>4.647530</td>\n",
              "      <td>0.944167</td>\n",
              "      <td>0.195716</td>\n",
              "    </tr>\n",
              "  </tbody>\n",
              "</table>\n",
              "</div>"
            ],
            "text/plain": [
              "                     DT #1     RF #2     DT #3     DT #4\n",
              "Global accuracy   0.840253  0.684722  0.814662  0.845262\n",
              "Class 1           0.829796  0.688225  0.804907  0.835685\n",
              "Class 2           0.850711  0.681218  0.824417  0.854839\n",
              "G-mean            0.840188  0.684713  0.814604  0.845208\n",
              "Training time    23.657061  4.647530  0.944167  0.195716"
            ]
          },
          "metadata": {
            "tags": []
          },
          "execution_count": 106
        }
      ]
    },
    {
      "cell_type": "markdown",
      "metadata": {
        "id": "KUjvQL9qNqhP"
      },
      "source": [
        "### Adasyn\n"
      ]
    },
    {
      "cell_type": "code",
      "metadata": {
        "id": "5SumBeEhNqhQ",
        "outputId": "2c1b2d52-87f9-45d8-bc00-68c83ee2c916",
        "colab": {
          "base_uri": "https://localhost:8080/",
          "height": 612
        }
      },
      "source": [
        "rsts = pd.DataFrame()\n",
        "j = 3\n",
        "for i in range(4):\n",
        "  MLs = create_ML('balanced')\n",
        "  X_sub, y_sub = over_resampling(sets[i],over_names[j])\n",
        "  print(Counter(y_sub), over_names[j])\n",
        "  for clf_name, clf in MLs.items():\n",
        "    name = '{0} #{1}'.format(clf_name,i+1)\n",
        "    print(name)\n",
        "    try:\n",
        "      rsts[name] = train_model(X_sub,y_sub,clf)\n",
        "    except Exception as e: print(e)\n",
        "    \n",
        "rsts.index = index\n",
        "best_rst = []\n",
        "for i in range(4):\n",
        "  algo = rsts.loc['G-mean'][i*5:i*5+5].idxmax()\n",
        "  best_rst.append(algo)\n",
        "best_rst_ur = rsts[best_rst].copy()\n",
        "best_rst_ur"
      ],
      "execution_count": null,
      "outputs": [
        {
          "output_type": "stream",
          "text": [
            "Counter({1: 412121, 0: 384890}) ADASYN\n",
            "LR #1\n",
            "DT #1\n",
            "RF #1\n",
            "GNB #1\n",
            "SGD #1\n",
            "Counter({0: 53032, 1: 52287}) ADASYN\n",
            "LR #2\n",
            "DT #2\n",
            "RF #2\n",
            "GNB #2\n",
            "SGD #2\n",
            "Counter({0: 24859, 1: 24565}) ADASYN\n",
            "LR #3\n",
            "DT #3\n",
            "RF #3\n",
            "GNB #3\n",
            "SGD #3\n",
            "Counter({0: 4959, 1: 4854}) ADASYN\n",
            "LR #4\n",
            "DT #4\n",
            "RF #4\n",
            "GNB #4\n",
            "SGD #4\n"
          ],
          "name": "stdout"
        },
        {
          "output_type": "execute_result",
          "data": {
            "text/html": [
              "<div>\n",
              "<style scoped>\n",
              "    .dataframe tbody tr th:only-of-type {\n",
              "        vertical-align: middle;\n",
              "    }\n",
              "\n",
              "    .dataframe tbody tr th {\n",
              "        vertical-align: top;\n",
              "    }\n",
              "\n",
              "    .dataframe thead th {\n",
              "        text-align: right;\n",
              "    }\n",
              "</style>\n",
              "<table border=\"1\" class=\"dataframe\">\n",
              "  <thead>\n",
              "    <tr style=\"text-align: right;\">\n",
              "      <th></th>\n",
              "      <th>DT #1</th>\n",
              "      <th>RF #2</th>\n",
              "      <th>DT #3</th>\n",
              "      <th>DT #4</th>\n",
              "    </tr>\n",
              "  </thead>\n",
              "  <tbody>\n",
              "    <tr>\n",
              "      <th>Global accuracy</th>\n",
              "      <td>0.842801</td>\n",
              "      <td>0.683393</td>\n",
              "      <td>0.813556</td>\n",
              "      <td>0.851758</td>\n",
              "    </tr>\n",
              "    <tr>\n",
              "      <th>Class 1</th>\n",
              "      <td>0.824807</td>\n",
              "      <td>0.685114</td>\n",
              "      <td>0.805712</td>\n",
              "      <td>0.848790</td>\n",
              "    </tr>\n",
              "    <tr>\n",
              "      <th>Class 2</th>\n",
              "      <td>0.859606</td>\n",
              "      <td>0.681649</td>\n",
              "      <td>0.821494</td>\n",
              "      <td>0.854789</td>\n",
              "    </tr>\n",
              "    <tr>\n",
              "      <th>G-mean</th>\n",
              "      <td>0.842027</td>\n",
              "      <td>0.683379</td>\n",
              "      <td>0.813565</td>\n",
              "      <td>0.851784</td>\n",
              "    </tr>\n",
              "    <tr>\n",
              "      <th>Training time</th>\n",
              "      <td>26.866232</td>\n",
              "      <td>5.106712</td>\n",
              "      <td>0.913328</td>\n",
              "      <td>0.184428</td>\n",
              "    </tr>\n",
              "  </tbody>\n",
              "</table>\n",
              "</div>"
            ],
            "text/plain": [
              "                     DT #1     RF #2     DT #3     DT #4\n",
              "Global accuracy   0.842801  0.683393  0.813556  0.851758\n",
              "Class 1           0.824807  0.685114  0.805712  0.848790\n",
              "Class 2           0.859606  0.681649  0.821494  0.854789\n",
              "G-mean            0.842027  0.683379  0.813565  0.851784\n",
              "Training time    26.866232  5.106712  0.913328  0.184428"
            ]
          },
          "metadata": {
            "tags": []
          },
          "execution_count": 107
        }
      ]
    },
    {
      "cell_type": "code",
      "metadata": {
        "id": "d-H7mGzZZke9"
      },
      "source": [
        ""
      ],
      "execution_count": null,
      "outputs": []
    },
    {
      "cell_type": "markdown",
      "metadata": {
        "id": "Gtu9Frk5Wg2W"
      },
      "source": [
        "# Variables\n"
      ]
    },
    {
      "cell_type": "code",
      "metadata": {
        "id": "PKl1e9RwVCCk"
      },
      "source": [
        "%whos"
      ],
      "execution_count": null,
      "outputs": []
    }
  ]
}