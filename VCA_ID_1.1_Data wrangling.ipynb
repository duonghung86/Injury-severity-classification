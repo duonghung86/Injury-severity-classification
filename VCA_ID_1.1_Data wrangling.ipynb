{
 "cells": [
  {
   "cell_type": "markdown",
   "metadata": {
    "ExecuteTime": {
     "end_time": "2020-05-14T16:03:16.750691Z",
     "start_time": "2020-05-14T16:03:16.746693Z"
    }
   },
   "source": [
    "# Import the dataset"
   ]
  },
  {
   "cell_type": "code",
   "execution_count": 1,
   "metadata": {
    "ExecuteTime": {
     "end_time": "2020-05-14T19:40:15.098750Z",
     "start_time": "2020-05-14T19:40:11.857817Z"
    }
   },
   "outputs": [],
   "source": [
    "import numpy as np\n",
    "import seaborn as sns\n",
    "import matplotlib.pyplot as plt\n",
    "import pandas as pd"
   ]
  },
  {
   "cell_type": "code",
   "execution_count": 3,
   "metadata": {
    "ExecuteTime": {
     "end_time": "2020-05-14T19:40:11.853819Z",
     "start_time": "2020-05-14T19:40:03.859619Z"
    }
   },
   "outputs": [
    {
     "data": {
      "text/html": [
       "<div>\n",
       "<style scoped>\n",
       "    .dataframe tbody tr th:only-of-type {\n",
       "        vertical-align: middle;\n",
       "    }\n",
       "\n",
       "    .dataframe tbody tr th {\n",
       "        vertical-align: top;\n",
       "    }\n",
       "\n",
       "    .dataframe thead th {\n",
       "        text-align: right;\n",
       "    }\n",
       "</style>\n",
       "<table border=\"1\" class=\"dataframe\">\n",
       "  <thead>\n",
       "    <tr style=\"text-align: right;\">\n",
       "      <th></th>\n",
       "      <th>Unit_Nbr</th>\n",
       "      <th>Prsn_Type_ID</th>\n",
       "      <th>Prsn_Occpnt_Pos_ID</th>\n",
       "      <th>Prsn_Injry_Sev_ID</th>\n",
       "      <th>Prsn_Age</th>\n",
       "      <th>Prsn_Ethnicity_ID</th>\n",
       "      <th>Prsn_Gndr_ID</th>\n",
       "      <th>Prsn_Ejct_ID</th>\n",
       "      <th>Prsn_Rest_ID</th>\n",
       "      <th>Prsn_Airbag_ID</th>\n",
       "      <th>...</th>\n",
       "      <th>Longitude</th>\n",
       "      <th>Pop_Group_ID</th>\n",
       "      <th>Unit_Desc_ID</th>\n",
       "      <th>Veh_Parked_Fl</th>\n",
       "      <th>Veh_HNR_Fl</th>\n",
       "      <th>Veh_Mod_Year</th>\n",
       "      <th>Veh_Color_ID</th>\n",
       "      <th>Veh_Make_ID</th>\n",
       "      <th>Veh_Mod_ID</th>\n",
       "      <th>Veh_Body_Styl_ID</th>\n",
       "    </tr>\n",
       "  </thead>\n",
       "  <tbody>\n",
       "    <tr>\n",
       "      <th>0</th>\n",
       "      <td>1</td>\n",
       "      <td>1</td>\n",
       "      <td>1</td>\n",
       "      <td>5</td>\n",
       "      <td>48.0</td>\n",
       "      <td>1.0</td>\n",
       "      <td>1</td>\n",
       "      <td>1</td>\n",
       "      <td>1</td>\n",
       "      <td>2</td>\n",
       "      <td>...</td>\n",
       "      <td>-93.893906</td>\n",
       "      <td>1.0</td>\n",
       "      <td>1</td>\n",
       "      <td>0</td>\n",
       "      <td>0</td>\n",
       "      <td>2002.0</td>\n",
       "      <td>21.0</td>\n",
       "      <td>107.0</td>\n",
       "      <td>547.0</td>\n",
       "      <td>69.0</td>\n",
       "    </tr>\n",
       "    <tr>\n",
       "      <th>1</th>\n",
       "      <td>2</td>\n",
       "      <td>1</td>\n",
       "      <td>1</td>\n",
       "      <td>2</td>\n",
       "      <td>58.0</td>\n",
       "      <td>1.0</td>\n",
       "      <td>2</td>\n",
       "      <td>1</td>\n",
       "      <td>1</td>\n",
       "      <td>3</td>\n",
       "      <td>...</td>\n",
       "      <td>-93.893906</td>\n",
       "      <td>1.0</td>\n",
       "      <td>1</td>\n",
       "      <td>0</td>\n",
       "      <td>0</td>\n",
       "      <td>2012.0</td>\n",
       "      <td>17.0</td>\n",
       "      <td>91.0</td>\n",
       "      <td>629.0</td>\n",
       "      <td>30.0</td>\n",
       "    </tr>\n",
       "    <tr>\n",
       "      <th>2</th>\n",
       "      <td>1</td>\n",
       "      <td>1</td>\n",
       "      <td>1</td>\n",
       "      <td>5</td>\n",
       "      <td>68.0</td>\n",
       "      <td>1.0</td>\n",
       "      <td>1</td>\n",
       "      <td>1</td>\n",
       "      <td>1</td>\n",
       "      <td>2</td>\n",
       "      <td>...</td>\n",
       "      <td>-96.596654</td>\n",
       "      <td>8.0</td>\n",
       "      <td>1</td>\n",
       "      <td>0</td>\n",
       "      <td>0</td>\n",
       "      <td>1996.0</td>\n",
       "      <td>21.0</td>\n",
       "      <td>672.0</td>\n",
       "      <td>2103.0</td>\n",
       "      <td>87.0</td>\n",
       "    </tr>\n",
       "    <tr>\n",
       "      <th>3</th>\n",
       "      <td>3</td>\n",
       "      <td>1</td>\n",
       "      <td>1</td>\n",
       "      <td>5</td>\n",
       "      <td>67.0</td>\n",
       "      <td>1.0</td>\n",
       "      <td>2</td>\n",
       "      <td>1</td>\n",
       "      <td>1</td>\n",
       "      <td>4</td>\n",
       "      <td>...</td>\n",
       "      <td>-96.596654</td>\n",
       "      <td>8.0</td>\n",
       "      <td>1</td>\n",
       "      <td>0</td>\n",
       "      <td>0</td>\n",
       "      <td>2016.0</td>\n",
       "      <td>21.0</td>\n",
       "      <td>44.0</td>\n",
       "      <td>605.0</td>\n",
       "      <td>69.0</td>\n",
       "    </tr>\n",
       "    <tr>\n",
       "      <th>4</th>\n",
       "      <td>1</td>\n",
       "      <td>1</td>\n",
       "      <td>1</td>\n",
       "      <td>5</td>\n",
       "      <td>36.0</td>\n",
       "      <td>2.0</td>\n",
       "      <td>2</td>\n",
       "      <td>1</td>\n",
       "      <td>1</td>\n",
       "      <td>2</td>\n",
       "      <td>...</td>\n",
       "      <td>-95.746539</td>\n",
       "      <td>0.0</td>\n",
       "      <td>1</td>\n",
       "      <td>0</td>\n",
       "      <td>0</td>\n",
       "      <td>2014.0</td>\n",
       "      <td>2.0</td>\n",
       "      <td>91.0</td>\n",
       "      <td>380.0</td>\n",
       "      <td>104.0</td>\n",
       "    </tr>\n",
       "  </tbody>\n",
       "</table>\n",
       "<p>5 rows × 38 columns</p>\n",
       "</div>"
      ],
      "text/plain": [
       "   Unit_Nbr  Prsn_Type_ID  Prsn_Occpnt_Pos_ID  Prsn_Injry_Sev_ID  Prsn_Age  \\\n",
       "0         1             1                   1                  5      48.0   \n",
       "1         2             1                   1                  2      58.0   \n",
       "2         1             1                   1                  5      68.0   \n",
       "3         3             1                   1                  5      67.0   \n",
       "4         1             1                   1                  5      36.0   \n",
       "\n",
       "   Prsn_Ethnicity_ID  Prsn_Gndr_ID  Prsn_Ejct_ID  Prsn_Rest_ID  \\\n",
       "0                1.0             1             1             1   \n",
       "1                1.0             2             1             1   \n",
       "2                1.0             1             1             1   \n",
       "3                1.0             2             1             1   \n",
       "4                2.0             2             1             1   \n",
       "\n",
       "   Prsn_Airbag_ID  ...  Longitude  Pop_Group_ID Unit_Desc_ID Veh_Parked_Fl  \\\n",
       "0               2  ... -93.893906           1.0            1             0   \n",
       "1               3  ... -93.893906           1.0            1             0   \n",
       "2               2  ... -96.596654           8.0            1             0   \n",
       "3               4  ... -96.596654           8.0            1             0   \n",
       "4               2  ... -95.746539           0.0            1             0   \n",
       "\n",
       "  Veh_HNR_Fl  Veh_Mod_Year  Veh_Color_ID  Veh_Make_ID  Veh_Mod_ID  \\\n",
       "0          0        2002.0          21.0        107.0       547.0   \n",
       "1          0        2012.0          17.0         91.0       629.0   \n",
       "2          0        1996.0          21.0        672.0      2103.0   \n",
       "3          0        2016.0          21.0         44.0       605.0   \n",
       "4          0        2014.0           2.0         91.0       380.0   \n",
       "\n",
       "   Veh_Body_Styl_ID  \n",
       "0              69.0  \n",
       "1              30.0  \n",
       "2              87.0  \n",
       "3              69.0  \n",
       "4             104.0  \n",
       "\n",
       "[5 rows x 38 columns]"
      ]
     },
     "execution_count": 3,
     "metadata": {},
     "output_type": "execute_result"
    }
   ],
   "source": [
    "df=pd.read_csv('VCA data nomap.csv')\n",
    "df.head()"
   ]
  },
  {
   "cell_type": "code",
   "execution_count": 4,
   "metadata": {
    "ExecuteTime": {
     "end_time": "2020-05-14T19:40:15.365601Z",
     "start_time": "2020-05-14T19:40:15.302615Z"
    }
   },
   "outputs": [
    {
     "data": {
      "text/plain": [
       "array([5, 2, 1, 3, 4], dtype=int64)"
      ]
     },
     "execution_count": 4,
     "metadata": {},
     "output_type": "execute_result"
    }
   ],
   "source": [
    "df.Prsn_Injry_Sev_ID.unique()"
   ]
  },
  {
   "cell_type": "markdown",
   "metadata": {},
   "source": [
    "## Check feature types"
   ]
  },
  {
   "cell_type": "code",
   "execution_count": 12,
   "metadata": {
    "ExecuteTime": {
     "end_time": "2020-05-14T19:40:15.836310Z",
     "start_time": "2020-05-14T19:40:15.829315Z"
    }
   },
   "outputs": [],
   "source": [
    "feat_types=df.dtypes"
   ]
  },
  {
   "cell_type": "code",
   "execution_count": 13,
   "metadata": {
    "ExecuteTime": {
     "end_time": "2020-05-14T19:40:15.859298Z",
     "start_time": "2020-05-14T19:40:15.842306Z"
    }
   },
   "outputs": [
    {
     "data": {
      "text/plain": [
       "array([dtype('int64'), dtype('float64'), dtype('O')], dtype=object)"
      ]
     },
     "execution_count": 13,
     "metadata": {},
     "output_type": "execute_result"
    }
   ],
   "source": [
    "feat_types.unique()"
   ]
  },
  {
   "cell_type": "markdown",
   "metadata": {},
   "source": [
    "# Categorical variables"
   ]
  },
  {
   "cell_type": "code",
   "execution_count": 14,
   "metadata": {
    "ExecuteTime": {
     "end_time": "2020-05-14T20:40:30.699379Z",
     "start_time": "2020-05-14T20:40:30.690385Z"
    }
   },
   "outputs": [
    {
     "data": {
      "text/plain": [
       "Index(['Day_of_Week'], dtype='object')"
      ]
     },
     "execution_count": 14,
     "metadata": {},
     "output_type": "execute_result"
    }
   ],
   "source": [
    "cate_vars=df.dtypes[df.dtypes=='object']\n",
    "cate_vars=cate_vars.index\n",
    "cate_vars"
   ]
  },
  {
   "cell_type": "markdown",
   "metadata": {},
   "source": [
    "## Time"
   ]
  },
  {
   "cell_type": "code",
   "execution_count": 8,
   "metadata": {
    "ExecuteTime": {
     "end_time": "2020-05-14T20:20:05.831975Z",
     "start_time": "2020-05-14T20:19:41.189087Z"
    }
   },
   "outputs": [],
   "source": [
    "time=df['Crash_Date']+' '+df['Crash_Time']\n",
    "time=pd.to_datetime(time)"
   ]
  },
  {
   "cell_type": "code",
   "execution_count": 9,
   "metadata": {
    "ExecuteTime": {
     "end_time": "2020-05-14T20:25:41.913930Z",
     "start_time": "2020-05-14T20:25:41.626075Z"
    }
   },
   "outputs": [],
   "source": [
    "df.drop(columns=['Crash_Date','Crash_Time'],inplace=True)"
   ]
  },
  {
   "cell_type": "code",
   "execution_count": 10,
   "metadata": {
    "ExecuteTime": {
     "end_time": "2020-05-14T20:29:12.867287Z",
     "start_time": "2020-05-14T20:29:01.474834Z"
    }
   },
   "outputs": [],
   "source": [
    "df['Crash_month']=time.apply(lambda x: x.month)\n",
    "df['Crash_day']=time.apply(lambda x: x.day)\n",
    "df['Crash_hour']=time.apply(lambda x: x.hour)\n",
    "df['Crash_min']=time.apply(lambda x: x.minute)"
   ]
  },
  {
   "cell_type": "code",
   "execution_count": 11,
   "metadata": {
    "ExecuteTime": {
     "end_time": "2020-05-14T20:29:12.921256Z",
     "start_time": "2020-05-14T20:29:12.870285Z"
    }
   },
   "outputs": [
    {
     "data": {
      "text/html": [
       "<div>\n",
       "<style scoped>\n",
       "    .dataframe tbody tr th:only-of-type {\n",
       "        vertical-align: middle;\n",
       "    }\n",
       "\n",
       "    .dataframe tbody tr th {\n",
       "        vertical-align: top;\n",
       "    }\n",
       "\n",
       "    .dataframe thead th {\n",
       "        text-align: right;\n",
       "    }\n",
       "</style>\n",
       "<table border=\"1\" class=\"dataframe\">\n",
       "  <thead>\n",
       "    <tr style=\"text-align: right;\">\n",
       "      <th></th>\n",
       "      <th>Unit_Nbr</th>\n",
       "      <th>Prsn_Type_ID</th>\n",
       "      <th>Prsn_Occpnt_Pos_ID</th>\n",
       "      <th>Prsn_Injry_Sev_ID</th>\n",
       "      <th>Prsn_Age</th>\n",
       "      <th>Prsn_Ethnicity_ID</th>\n",
       "      <th>Prsn_Gndr_ID</th>\n",
       "      <th>Prsn_Ejct_ID</th>\n",
       "      <th>Prsn_Rest_ID</th>\n",
       "      <th>Prsn_Airbag_ID</th>\n",
       "      <th>...</th>\n",
       "      <th>Veh_HNR_Fl</th>\n",
       "      <th>Veh_Mod_Year</th>\n",
       "      <th>Veh_Color_ID</th>\n",
       "      <th>Veh_Make_ID</th>\n",
       "      <th>Veh_Mod_ID</th>\n",
       "      <th>Veh_Body_Styl_ID</th>\n",
       "      <th>Crash_month</th>\n",
       "      <th>Crash_day</th>\n",
       "      <th>Crash_hour</th>\n",
       "      <th>Crash_min</th>\n",
       "    </tr>\n",
       "  </thead>\n",
       "  <tbody>\n",
       "    <tr>\n",
       "      <th>0</th>\n",
       "      <td>1</td>\n",
       "      <td>1</td>\n",
       "      <td>1</td>\n",
       "      <td>5</td>\n",
       "      <td>48.0</td>\n",
       "      <td>1.0</td>\n",
       "      <td>1</td>\n",
       "      <td>1</td>\n",
       "      <td>1</td>\n",
       "      <td>2</td>\n",
       "      <td>...</td>\n",
       "      <td>0</td>\n",
       "      <td>2002.0</td>\n",
       "      <td>21.0</td>\n",
       "      <td>107.0</td>\n",
       "      <td>547.0</td>\n",
       "      <td>69.0</td>\n",
       "      <td>6</td>\n",
       "      <td>15</td>\n",
       "      <td>11</td>\n",
       "      <td>0</td>\n",
       "    </tr>\n",
       "    <tr>\n",
       "      <th>1</th>\n",
       "      <td>2</td>\n",
       "      <td>1</td>\n",
       "      <td>1</td>\n",
       "      <td>2</td>\n",
       "      <td>58.0</td>\n",
       "      <td>1.0</td>\n",
       "      <td>2</td>\n",
       "      <td>1</td>\n",
       "      <td>1</td>\n",
       "      <td>3</td>\n",
       "      <td>...</td>\n",
       "      <td>0</td>\n",
       "      <td>2012.0</td>\n",
       "      <td>17.0</td>\n",
       "      <td>91.0</td>\n",
       "      <td>629.0</td>\n",
       "      <td>30.0</td>\n",
       "      <td>6</td>\n",
       "      <td>15</td>\n",
       "      <td>11</td>\n",
       "      <td>0</td>\n",
       "    </tr>\n",
       "    <tr>\n",
       "      <th>2</th>\n",
       "      <td>1</td>\n",
       "      <td>1</td>\n",
       "      <td>1</td>\n",
       "      <td>5</td>\n",
       "      <td>68.0</td>\n",
       "      <td>1.0</td>\n",
       "      <td>1</td>\n",
       "      <td>1</td>\n",
       "      <td>1</td>\n",
       "      <td>2</td>\n",
       "      <td>...</td>\n",
       "      <td>0</td>\n",
       "      <td>1996.0</td>\n",
       "      <td>21.0</td>\n",
       "      <td>672.0</td>\n",
       "      <td>2103.0</td>\n",
       "      <td>87.0</td>\n",
       "      <td>6</td>\n",
       "      <td>12</td>\n",
       "      <td>9</td>\n",
       "      <td>53</td>\n",
       "    </tr>\n",
       "    <tr>\n",
       "      <th>3</th>\n",
       "      <td>3</td>\n",
       "      <td>1</td>\n",
       "      <td>1</td>\n",
       "      <td>5</td>\n",
       "      <td>67.0</td>\n",
       "      <td>1.0</td>\n",
       "      <td>2</td>\n",
       "      <td>1</td>\n",
       "      <td>1</td>\n",
       "      <td>4</td>\n",
       "      <td>...</td>\n",
       "      <td>0</td>\n",
       "      <td>2016.0</td>\n",
       "      <td>21.0</td>\n",
       "      <td>44.0</td>\n",
       "      <td>605.0</td>\n",
       "      <td>69.0</td>\n",
       "      <td>6</td>\n",
       "      <td>12</td>\n",
       "      <td>9</td>\n",
       "      <td>53</td>\n",
       "    </tr>\n",
       "    <tr>\n",
       "      <th>4</th>\n",
       "      <td>1</td>\n",
       "      <td>1</td>\n",
       "      <td>1</td>\n",
       "      <td>5</td>\n",
       "      <td>36.0</td>\n",
       "      <td>2.0</td>\n",
       "      <td>2</td>\n",
       "      <td>1</td>\n",
       "      <td>1</td>\n",
       "      <td>2</td>\n",
       "      <td>...</td>\n",
       "      <td>0</td>\n",
       "      <td>2014.0</td>\n",
       "      <td>2.0</td>\n",
       "      <td>91.0</td>\n",
       "      <td>380.0</td>\n",
       "      <td>104.0</td>\n",
       "      <td>6</td>\n",
       "      <td>4</td>\n",
       "      <td>15</td>\n",
       "      <td>7</td>\n",
       "    </tr>\n",
       "  </tbody>\n",
       "</table>\n",
       "<p>5 rows × 40 columns</p>\n",
       "</div>"
      ],
      "text/plain": [
       "   Unit_Nbr  Prsn_Type_ID  Prsn_Occpnt_Pos_ID  Prsn_Injry_Sev_ID  Prsn_Age  \\\n",
       "0         1             1                   1                  5      48.0   \n",
       "1         2             1                   1                  2      58.0   \n",
       "2         1             1                   1                  5      68.0   \n",
       "3         3             1                   1                  5      67.0   \n",
       "4         1             1                   1                  5      36.0   \n",
       "\n",
       "   Prsn_Ethnicity_ID  Prsn_Gndr_ID  Prsn_Ejct_ID  Prsn_Rest_ID  \\\n",
       "0                1.0             1             1             1   \n",
       "1                1.0             2             1             1   \n",
       "2                1.0             1             1             1   \n",
       "3                1.0             2             1             1   \n",
       "4                2.0             2             1             1   \n",
       "\n",
       "   Prsn_Airbag_ID  ...  Veh_HNR_Fl  Veh_Mod_Year Veh_Color_ID  Veh_Make_ID  \\\n",
       "0               2  ...           0        2002.0         21.0        107.0   \n",
       "1               3  ...           0        2012.0         17.0         91.0   \n",
       "2               2  ...           0        1996.0         21.0        672.0   \n",
       "3               4  ...           0        2016.0         21.0         44.0   \n",
       "4               2  ...           0        2014.0          2.0         91.0   \n",
       "\n",
       "   Veh_Mod_ID  Veh_Body_Styl_ID  Crash_month  Crash_day  Crash_hour  Crash_min  \n",
       "0       547.0              69.0            6         15          11          0  \n",
       "1       629.0              30.0            6         15          11          0  \n",
       "2      2103.0              87.0            6         12           9         53  \n",
       "3       605.0              69.0            6         12           9         53  \n",
       "4       380.0             104.0            6          4          15          7  \n",
       "\n",
       "[5 rows x 40 columns]"
      ]
     },
     "execution_count": 11,
     "metadata": {},
     "output_type": "execute_result"
    }
   ],
   "source": [
    "df.head()"
   ]
  },
  {
   "cell_type": "code",
   "execution_count": 65,
   "metadata": {
    "ExecuteTime": {
     "end_time": "2020-05-14T21:36:53.288296Z",
     "start_time": "2020-05-14T21:36:51.592862Z"
    }
   },
   "outputs": [
    {
     "data": {
      "text/plain": [
       "Timestamp('2019-06-01 00:00:00')"
      ]
     },
     "execution_count": 65,
     "metadata": {},
     "output_type": "execute_result"
    }
   ],
   "source": [
    "min(time)"
   ]
  },
  {
   "cell_type": "code",
   "execution_count": 66,
   "metadata": {
    "ExecuteTime": {
     "end_time": "2020-05-14T21:37:23.672134Z",
     "start_time": "2020-05-14T21:37:21.905142Z"
    }
   },
   "outputs": [
    {
     "data": {
      "text/plain": [
       "Timestamp('2019-11-30 23:57:00')"
      ]
     },
     "execution_count": 66,
     "metadata": {},
     "output_type": "execute_result"
    }
   ],
   "source": [
    "max(time)"
   ]
  },
  {
   "cell_type": "code",
   "execution_count": 19,
   "metadata": {
    "ExecuteTime": {
     "end_time": "2020-05-14T20:35:58.985771Z",
     "start_time": "2020-05-14T20:35:58.905816Z"
    }
   },
   "outputs": [
    {
     "data": {
      "text/plain": [
       "6    17.208709\n",
       "3    15.356067\n",
       "4    15.275230\n",
       "5    15.232785\n",
       "2    14.531486\n",
       "7    12.802126\n",
       "1     9.593596\n",
       "Name: Day_of_Week, dtype: float64"
      ]
     },
     "execution_count": 19,
     "metadata": {},
     "output_type": "execute_result"
    }
   ],
   "source": [
    "df['Day_of_Week'].value_counts()/len(df)*100"
   ]
  },
  {
   "cell_type": "code",
   "execution_count": 16,
   "metadata": {},
   "outputs": [],
   "source": [
    "map_dict = {'SAT':7, 'WED':4, 'TUE':3, 'SUN':1, 'MON':2, 'THU':5, 'FRI':6}"
   ]
  },
  {
   "cell_type": "code",
   "execution_count": 18,
   "metadata": {},
   "outputs": [],
   "source": [
    "df['Day_of_Week'] = df['Day_of_Week'].map(map_dict)"
   ]
  },
  {
   "cell_type": "code",
   "execution_count": 23,
   "metadata": {},
   "outputs": [
    {
     "data": {
      "text/plain": [
       "0          True\n",
       "1          True\n",
       "2         False\n",
       "3         False\n",
       "4         False\n",
       "          ...  \n",
       "468839    False\n",
       "468840    False\n",
       "468841    False\n",
       "468842    False\n",
       "468843    False\n",
       "Name: Day_of_Week, Length: 468844, dtype: bool"
      ]
     },
     "execution_count": 23,
     "metadata": {},
     "output_type": "execute_result"
    }
   ],
   "source": [
    "df['Day_of_Week'].isin([1,7])"
   ]
  },
  {
   "cell_type": "code",
   "execution_count": 24,
   "metadata": {},
   "outputs": [],
   "source": [
    "df['Weekend'] = np.where(df['Day_of_Week'].isin([1,7]),1,0)"
   ]
  },
  {
   "cell_type": "code",
   "execution_count": 26,
   "metadata": {},
   "outputs": [
    {
     "data": {
      "text/plain": [
       "0    77.604278\n",
       "1    22.395722\n",
       "Name: Weekend, dtype: float64"
      ]
     },
     "execution_count": 26,
     "metadata": {},
     "output_type": "execute_result"
    }
   ],
   "source": [
    "df['Weekend'].value_counts()/len(df)*100"
   ]
  },
  {
   "cell_type": "markdown",
   "metadata": {},
   "source": [
    "## Other categorical variables"
   ]
  },
  {
   "cell_type": "code",
   "execution_count": 29,
   "metadata": {},
   "outputs": [
    {
     "name": "stdout",
     "output_type": "stream",
     "text": [
      "<class 'pandas.core.frame.DataFrame'>\n",
      "RangeIndex: 468844 entries, 0 to 468843\n",
      "Data columns (total 41 columns):\n",
      " #   Column                    Non-Null Count   Dtype  \n",
      "---  ------                    --------------   -----  \n",
      " 0   Unit_Nbr                  468844 non-null  int64  \n",
      " 1   Prsn_Type_ID              468844 non-null  int64  \n",
      " 2   Prsn_Occpnt_Pos_ID        468844 non-null  int64  \n",
      " 3   Prsn_Injry_Sev_ID         468844 non-null  int64  \n",
      " 4   Prsn_Age                  468844 non-null  float64\n",
      " 5   Prsn_Ethnicity_ID         468844 non-null  float64\n",
      " 6   Prsn_Gndr_ID              468844 non-null  int64  \n",
      " 7   Prsn_Ejct_ID              468844 non-null  int64  \n",
      " 8   Prsn_Rest_ID              468844 non-null  int64  \n",
      " 9   Prsn_Airbag_ID            468844 non-null  int64  \n",
      " 10  Prsn_Helmet_ID            468844 non-null  int64  \n",
      " 11  Prsn_Drg_Rslt_ID          468844 non-null  int64  \n",
      " 12  Day_of_Week               468844 non-null  int64  \n",
      " 13  Rpt_Rdwy_Sys_ID           468844 non-null  int64  \n",
      " 14  Rpt_Road_Part_ID          468844 non-null  int64  \n",
      " 15  Toll_Road_Fl              468844 non-null  int64  \n",
      " 16  Crash_Speed_Limit         468844 non-null  int64  \n",
      " 17  Road_Constr_Zone_Fl       468844 non-null  int64  \n",
      " 18  Road_Constr_Zone_Wrkr_Fl  468844 non-null  int64  \n",
      " 19  At_Intrsct_Fl             468844 non-null  int64  \n",
      " 20  Wthr_Cond_ID              468844 non-null  int64  \n",
      " 21  Light_Cond_ID             468844 non-null  int64  \n",
      " 22  Road_Algn_ID              468844 non-null  int64  \n",
      " 23  Surf_Cond_ID              468844 non-null  int64  \n",
      " 24  Traffic_Cntl_ID           468844 non-null  int64  \n",
      " 25  Latitude                  468844 non-null  float64\n",
      " 26  Longitude                 468844 non-null  float64\n",
      " 27  Pop_Group_ID              468844 non-null  float64\n",
      " 28  Unit_Desc_ID              468844 non-null  int64  \n",
      " 29  Veh_Parked_Fl             468844 non-null  int64  \n",
      " 30  Veh_HNR_Fl                468844 non-null  int64  \n",
      " 31  Veh_Mod_Year              468844 non-null  float64\n",
      " 32  Veh_Color_ID              468844 non-null  float64\n",
      " 33  Veh_Make_ID               468844 non-null  float64\n",
      " 34  Veh_Mod_ID                468844 non-null  float64\n",
      " 35  Veh_Body_Styl_ID          468844 non-null  float64\n",
      " 36  Crash_month               468844 non-null  int64  \n",
      " 37  Crash_day                 468844 non-null  int64  \n",
      " 38  Crash_hour                468844 non-null  int64  \n",
      " 39  Crash_min                 468844 non-null  int64  \n",
      " 40  Weekend                   468844 non-null  int32  \n",
      "dtypes: float64(10), int32(1), int64(30)\n",
      "memory usage: 144.9 MB\n"
     ]
    }
   ],
   "source": [
    "df.info()"
   ]
  },
  {
   "cell_type": "code",
   "execution_count": 45,
   "metadata": {},
   "outputs": [
    {
     "data": {
      "text/plain": [
       "0         48\n",
       "1         58\n",
       "2         68\n",
       "3         67\n",
       "4         36\n",
       "          ..\n",
       "468839    68\n",
       "468840    44\n",
       "468841    57\n",
       "468842    16\n",
       "468843    16\n",
       "Name: Prsn_Age, Length: 468844, dtype: int32"
      ]
     },
     "execution_count": 45,
     "metadata": {},
     "output_type": "execute_result"
    }
   ],
   "source": [
    "df.Prsn_Age.astype('int')"
   ]
  },
  {
   "cell_type": "code",
   "execution_count": 46,
   "metadata": {},
   "outputs": [
    {
     "name": "stdout",
     "output_type": "stream",
     "text": [
      "Prsn_Age\n",
      "Prsn_Ethnicity_ID\n",
      "Pop_Group_ID\n",
      "Veh_Mod_Year\n",
      "Veh_Color_ID\n",
      "Veh_Make_ID\n",
      "Veh_Mod_ID\n",
      "Veh_Body_Styl_ID\n"
     ]
    },
    {
     "data": {
      "text/plain": [
       "Unit_Nbr                      int64\n",
       "Prsn_Type_ID                  int64\n",
       "Prsn_Occpnt_Pos_ID            int64\n",
       "Prsn_Injry_Sev_ID             int64\n",
       "Prsn_Age                      int32\n",
       "Prsn_Ethnicity_ID             int32\n",
       "Prsn_Gndr_ID                  int64\n",
       "Prsn_Ejct_ID                  int64\n",
       "Prsn_Rest_ID                  int64\n",
       "Prsn_Airbag_ID                int64\n",
       "Prsn_Helmet_ID                int64\n",
       "Prsn_Drg_Rslt_ID              int64\n",
       "Day_of_Week                   int64\n",
       "Rpt_Rdwy_Sys_ID               int64\n",
       "Rpt_Road_Part_ID              int64\n",
       "Toll_Road_Fl                  int64\n",
       "Crash_Speed_Limit             int64\n",
       "Road_Constr_Zone_Fl           int64\n",
       "Road_Constr_Zone_Wrkr_Fl      int64\n",
       "At_Intrsct_Fl                 int64\n",
       "Wthr_Cond_ID                  int64\n",
       "Light_Cond_ID                 int64\n",
       "Road_Algn_ID                  int64\n",
       "Surf_Cond_ID                  int64\n",
       "Traffic_Cntl_ID               int64\n",
       "Latitude                    float64\n",
       "Longitude                   float64\n",
       "Pop_Group_ID                  int32\n",
       "Unit_Desc_ID                  int64\n",
       "Veh_Parked_Fl                 int64\n",
       "Veh_HNR_Fl                    int64\n",
       "Veh_Mod_Year                  int32\n",
       "Veh_Color_ID                  int32\n",
       "Veh_Make_ID                   int32\n",
       "Veh_Mod_ID                    int32\n",
       "Veh_Body_Styl_ID              int32\n",
       "Crash_month                   int64\n",
       "Crash_day                     int64\n",
       "Crash_hour                    int64\n",
       "Crash_min                     int64\n",
       "Weekend                       int32\n",
       "dtype: object"
      ]
     },
     "execution_count": 46,
     "metadata": {},
     "output_type": "execute_result"
    }
   ],
   "source": [
    "for var in df.columns:\n",
    "    if df[var].dtypes=='float':\n",
    "        if var not in ['Latitude','Longitude']:\n",
    "            print(var)\n",
    "            df[var] = df[var].astype('int')\n",
    "df.dtypes"
   ]
  },
  {
   "cell_type": "code",
   "execution_count": 47,
   "metadata": {
    "ExecuteTime": {
     "end_time": "2020-05-14T21:50:34.518150Z",
     "start_time": "2020-05-14T21:50:10.447874Z"
    }
   },
   "outputs": [],
   "source": [
    "df.dropna().to_csv('final data nomap.csv',index=False)"
   ]
  }
 ],
 "metadata": {
  "kernelspec": {
   "display_name": "Python 3",
   "language": "python",
   "name": "python3"
  },
  "language_info": {
   "codemirror_mode": {
    "name": "ipython",
    "version": 3
   },
   "file_extension": ".py",
   "mimetype": "text/x-python",
   "name": "python",
   "nbconvert_exporter": "python",
   "pygments_lexer": "ipython3",
   "version": "3.7.7"
  },
  "toc": {
   "base_numbering": 1,
   "nav_menu": {},
   "number_sections": true,
   "sideBar": true,
   "skip_h1_title": false,
   "title_cell": "Table of Contents",
   "title_sidebar": "Contents",
   "toc_cell": false,
   "toc_position": {
    "height": "calc(100% - 180px)",
    "left": "10px",
    "top": "150px",
    "width": "384px"
   },
   "toc_section_display": true,
   "toc_window_display": true
  }
 },
 "nbformat": 4,
 "nbformat_minor": 4
}
