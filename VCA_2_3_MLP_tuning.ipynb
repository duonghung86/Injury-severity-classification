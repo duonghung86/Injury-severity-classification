{
 "cells": [
  {
   "cell_type": "markdown",
   "metadata": {
    "colab_type": "text",
    "id": "view-in-github"
   },
   "source": [
    "<a href=\"https://colab.research.google.com/github/duonghung86/Injury-severity-classification/blob/main/VCA_2_3_MLP_tuning.ipynb\" target=\"_parent\"><img src=\"https://colab.research.google.com/assets/colab-badge.svg\" alt=\"Open In Colab\"/></a>"
   ]
  },
  {
   "cell_type": "code",
   "execution_count": 1,
   "metadata": {
    "colab": {
     "base_uri": "https://localhost:8080/"
    },
    "id": "Bo-3JT-1cl14",
    "outputId": "3e7619d4-25e1-4d51-c592-38088888b305"
   },
   "outputs": [
    {
     "name": "stdout",
     "output_type": "stream",
     "text": [
      "Your runtime has 270.0 gigabytes of available RAM\n",
      "\n",
      "Current system-wide CPU utilization %:  25.0\n"
     ]
    }
   ],
   "source": [
    "from psutil import virtual_memory,cpu_percent\n",
    "ram_gb = virtual_memory().total / 1e9\n",
    "print('Your runtime has {:.1f} gigabytes of available RAM\\n'.format(ram_gb))\n",
    "print('Current system-wide CPU utilization %: ',cpu_percent())\n",
    "#Remove all warning\n",
    "import warnings\n",
    "warnings.filterwarnings(\"ignore\")"
   ]
  },
  {
   "cell_type": "code",
   "execution_count": 2,
   "metadata": {
    "colab": {
     "base_uri": "https://localhost:8080/"
    },
    "id": "Ond2r97pZvoF",
    "outputId": "19459639-7e7a-46db-8c8a-231f42a85bbf"
   },
   "outputs": [
    {
     "name": "stdout",
     "output_type": "stream",
     "text": [
      "2.1.0\n"
     ]
    }
   ],
   "source": [
    "# Basic packages\n",
    "import matplotlib.pyplot as plt\n",
    "import numpy as np\n",
    "import pandas as pd\n",
    "import seaborn as sns\n",
    "import time\n",
    "import os\n",
    "\n",
    "#INFO and WARNING messages are not printed\n",
    "os.environ['TF_CPP_MIN_LOG_LEVEL'] = '2' \n",
    "# Preprocessing\n",
    "from sklearn.preprocessing import StandardScaler # Standardization\n",
    "from sklearn.model_selection import train_test_split\n",
    "from sklearn.metrics import confusion_matrix\n",
    "\n",
    "# Machine learning algos\n",
    "from sklearn.linear_model import LogisticRegression\n",
    "from sklearn.tree import DecisionTreeClassifier\n",
    "from sklearn.ensemble import RandomForestClassifier\n",
    "\n",
    "from collections import Counter\n",
    "from imblearn.over_sampling import SMOTE, RandomOverSampler,BorderlineSMOTE\n",
    "from imblearn.under_sampling import RandomUnderSampler,NearMiss,EditedNearestNeighbours\n",
    "# Metrics\n",
    "from imblearn.metrics import geometric_mean_score\n",
    "# Tensorflow\n",
    "import tensorflow as tf\n",
    "print(tf.__version__)\n",
    "from tensorflow import feature_column  # for data wrangling\n",
    "from tensorflow.keras.layers import Dense,Dropout\n",
    "from tensorflow.keras.models import Sequential\n",
    "from tensorflow.keras.callbacks import EarlyStopping\n",
    "from tensorflow_addons.metrics import CohenKappa,F1Score,FBetaScore\n",
    "from tensorboard.plugins.hparams import api as hp\n",
    "from tensorflow.keras.initializers import Zeros, RandomNormal"
   ]
  },
  {
   "cell_type": "markdown",
   "metadata": {
    "id": "e9hBlSQVL561"
   },
   "source": [
    "# Load data"
   ]
  },
  {
   "cell_type": "code",
   "execution_count": 3,
   "metadata": {
    "colab": {
     "base_uri": "https://localhost:8080/"
    },
    "id": "OMFYXIMkFSak",
    "outputId": "afeff64f-33cb-4b20-bb53-9182634c36ab"
   },
   "outputs": [],
   "source": [
    "url = 'https://github.com/duonghung86/Injury-severity-classification/blob/main/Prepared%20Texas%202019.zip?raw=true' \n",
    "data_path = tf.keras.utils.get_file(origin=url, fname=url.split('/')[-1].split('?')[0], extract=True)\n",
    "data_path = data_path.replace('%20',' ').replace('.zip','.csv')"
   ]
  },
  {
   "cell_type": "code",
   "execution_count": 4,
   "metadata": {
    "colab": {
     "base_uri": "https://localhost:8080/",
     "height": 315
    },
    "id": "UPLNCpWjZvoG",
    "outputId": "c0c746a4-1ff4-49ba-fb99-68553aa53d5f"
   },
   "outputs": [
    {
     "name": "stdout",
     "output_type": "stream",
     "text": [
      "(949856, 19)\n"
     ]
    },
    {
     "data": {
      "text/html": [
       "<div>\n",
       "<style scoped>\n",
       "    .dataframe tbody tr th:only-of-type {\n",
       "        vertical-align: middle;\n",
       "    }\n",
       "\n",
       "    .dataframe tbody tr th {\n",
       "        vertical-align: top;\n",
       "    }\n",
       "\n",
       "    .dataframe thead th {\n",
       "        text-align: right;\n",
       "    }\n",
       "</style>\n",
       "<table border=\"1\" class=\"dataframe\">\n",
       "  <thead>\n",
       "    <tr style=\"text-align: right;\">\n",
       "      <th></th>\n",
       "      <th>Prsn_Injry_Sev</th>\n",
       "      <th>Prsn_Age</th>\n",
       "      <th>Prsn_Gndr</th>\n",
       "      <th>Wthr_Cond</th>\n",
       "      <th>Light_Cond</th>\n",
       "      <th>Surf_Cond</th>\n",
       "      <th>Veh_Body_Styl</th>\n",
       "      <th>Prsn_Rest</th>\n",
       "      <th>Prsn_Drg_Rslt</th>\n",
       "      <th>Harm_Evnt</th>\n",
       "      <th>Rural</th>\n",
       "      <th>Crash_Speed_Limit</th>\n",
       "      <th>Road_Algn</th>\n",
       "      <th>Veh_Mod_Year</th>\n",
       "      <th>Weekend</th>\n",
       "      <th>Crash_season</th>\n",
       "      <th>Part_of_day</th>\n",
       "      <th>Collsn_type</th>\n",
       "      <th>Collsn_name</th>\n",
       "    </tr>\n",
       "  </thead>\n",
       "  <tbody>\n",
       "    <tr>\n",
       "      <th>0</th>\n",
       "      <td>0</td>\n",
       "      <td>26</td>\n",
       "      <td>MALE</td>\n",
       "      <td>CLEAR</td>\n",
       "      <td>DAYLIGHT</td>\n",
       "      <td>DRY</td>\n",
       "      <td>PASSENGER CAR, 2-DOOR</td>\n",
       "      <td>SHOULDER &amp; LAP BELT</td>\n",
       "      <td>Not Applicable</td>\n",
       "      <td>MOTOR VEHICLE IN TRANSPORT</td>\n",
       "      <td>0</td>\n",
       "      <td>-1</td>\n",
       "      <td>STRAIGHT, LEVEL</td>\n",
       "      <td>33</td>\n",
       "      <td>1</td>\n",
       "      <td>3</td>\n",
       "      <td>3</td>\n",
       "      <td>SAME DIRECTION</td>\n",
       "      <td>ONE STRAIGHT-ONE LEFT TURN</td>\n",
       "    </tr>\n",
       "    <tr>\n",
       "      <th>1</th>\n",
       "      <td>0</td>\n",
       "      <td>52</td>\n",
       "      <td>MALE</td>\n",
       "      <td>CLEAR</td>\n",
       "      <td>DAYLIGHT</td>\n",
       "      <td>DRY</td>\n",
       "      <td>PASSENGER CAR, 2-DOOR</td>\n",
       "      <td>SHOULDER &amp; LAP BELT</td>\n",
       "      <td>Not Applicable</td>\n",
       "      <td>MOTOR VEHICLE IN TRANSPORT</td>\n",
       "      <td>0</td>\n",
       "      <td>-1</td>\n",
       "      <td>STRAIGHT, LEVEL</td>\n",
       "      <td>19</td>\n",
       "      <td>1</td>\n",
       "      <td>3</td>\n",
       "      <td>3</td>\n",
       "      <td>SAME DIRECTION</td>\n",
       "      <td>ONE STRAIGHT-ONE LEFT TURN</td>\n",
       "    </tr>\n",
       "    <tr>\n",
       "      <th>2</th>\n",
       "      <td>0</td>\n",
       "      <td>27</td>\n",
       "      <td>FEMALE</td>\n",
       "      <td>CLEAR</td>\n",
       "      <td>DAYLIGHT</td>\n",
       "      <td>DRY</td>\n",
       "      <td>PICKUP</td>\n",
       "      <td>SHOULDER &amp; LAP BELT</td>\n",
       "      <td>Not Applicable</td>\n",
       "      <td>MOTOR VEHICLE IN TRANSPORT</td>\n",
       "      <td>1</td>\n",
       "      <td>-1</td>\n",
       "      <td>CURVE, LEVEL</td>\n",
       "      <td>16</td>\n",
       "      <td>1</td>\n",
       "      <td>3</td>\n",
       "      <td>4</td>\n",
       "      <td>SAME DIRECTION</td>\n",
       "      <td>BOTH LEFT TURN</td>\n",
       "    </tr>\n",
       "  </tbody>\n",
       "</table>\n",
       "</div>"
      ],
      "text/plain": [
       "   Prsn_Injry_Sev  Prsn_Age Prsn_Gndr Wthr_Cond Light_Cond Surf_Cond  \\\n",
       "0               0        26      MALE     CLEAR   DAYLIGHT       DRY   \n",
       "1               0        52      MALE     CLEAR   DAYLIGHT       DRY   \n",
       "2               0        27    FEMALE     CLEAR   DAYLIGHT       DRY   \n",
       "\n",
       "           Veh_Body_Styl            Prsn_Rest   Prsn_Drg_Rslt  \\\n",
       "0  PASSENGER CAR, 2-DOOR  SHOULDER & LAP BELT  Not Applicable   \n",
       "1  PASSENGER CAR, 2-DOOR  SHOULDER & LAP BELT  Not Applicable   \n",
       "2                 PICKUP  SHOULDER & LAP BELT  Not Applicable   \n",
       "\n",
       "                    Harm_Evnt  Rural  Crash_Speed_Limit        Road_Algn  \\\n",
       "0  MOTOR VEHICLE IN TRANSPORT      0                 -1  STRAIGHT, LEVEL   \n",
       "1  MOTOR VEHICLE IN TRANSPORT      0                 -1  STRAIGHT, LEVEL   \n",
       "2  MOTOR VEHICLE IN TRANSPORT      1                 -1     CURVE, LEVEL   \n",
       "\n",
       "   Veh_Mod_Year  Weekend  Crash_season  Part_of_day     Collsn_type  \\\n",
       "0            33        1             3            3  SAME DIRECTION   \n",
       "1            19        1             3            3  SAME DIRECTION   \n",
       "2            16        1             3            4  SAME DIRECTION   \n",
       "\n",
       "                  Collsn_name  \n",
       "0  ONE STRAIGHT-ONE LEFT TURN  \n",
       "1  ONE STRAIGHT-ONE LEFT TURN  \n",
       "2              BOTH LEFT TURN  "
      ]
     },
     "execution_count": 4,
     "metadata": {},
     "output_type": "execute_result"
    }
   ],
   "source": [
    "# Load data\n",
    "df = pd.read_csv(data_path)\n",
    "print(df.shape)\n",
    "df.head(3)"
   ]
  },
  {
   "cell_type": "code",
   "execution_count": 5,
   "metadata": {
    "colab": {
     "base_uri": "https://localhost:8080/"
    },
    "id": "1CDPbDPYZvoH",
    "outputId": "00905616-13db-4dde-9449-2fbfb7f1ec12"
   },
   "outputs": [],
   "source": [
    "# Let's just use 80% of the total dataset\n",
    "df, _ = train_test_split(df, test_size=0.80,stratify = df['Prsn_Injry_Sev'])\n",
    "#df.shape"
   ]
  },
  {
   "cell_type": "code",
   "execution_count": 6,
   "metadata": {
    "colab": {
     "base_uri": "https://localhost:8080/"
    },
    "id": "FEKbv3R9ZvoH",
    "outputId": "eb6424c0-7ca8-4546-e41c-3a374e90b9a0"
   },
   "outputs": [
    {
     "name": "stdout",
     "output_type": "stream",
     "text": [
      "All target values:\n",
      "0    158512\n",
      "1     20482\n",
      "2      9048\n",
      "3      1590\n",
      "4       339\n",
      "Name: Prsn_Injry_Sev, dtype: int64\n"
     ]
    }
   ],
   "source": [
    "y = df['Prsn_Injry_Sev']\n",
    "print('All target values:')\n",
    "print(y.value_counts())\n",
    "X = df.drop(columns=['Prsn_Injry_Sev'])"
   ]
  },
  {
   "cell_type": "code",
   "execution_count": 7,
   "metadata": {
    "colab": {
     "base_uri": "https://localhost:8080/"
    },
    "id": "AUDtEBDsZvoI",
    "outputId": "8129da6b-36a3-4a43-a61d-80f8a3fa2dfb"
   },
   "outputs": [
    {
     "name": "stdout",
     "output_type": "stream",
     "text": [
      "Numerical variables are  ['Prsn_Age', 'Rural', 'Crash_Speed_Limit', 'Veh_Mod_Year', 'Weekend', 'Crash_season', 'Part_of_day']\n",
      "Categorical variables that have at most 5 categories are  ['Prsn_Gndr', 'Prsn_Drg_Rslt', 'Collsn_type']\n",
      "Categorical variables that have more than 5 categories are  ['Wthr_Cond', 'Light_Cond', 'Surf_Cond', 'Veh_Body_Styl', 'Prsn_Rest', 'Harm_Evnt', 'Road_Algn', 'Collsn_name']\n",
      "WARNING:tensorflow:From /project/cacds/apps/easybuild/software/Anaconda3/5.0.1/lib/python3.6/site-packages/tensorflow_core/python/feature_column/feature_column_v2.py:4267: IndicatorColumn._variable_shape (from tensorflow.python.feature_column.feature_column_v2) is deprecated and will be removed in a future version.\n",
      "Instructions for updating:\n",
      "The old _FeatureColumn APIs are being deprecated. Please use the new FeatureColumn APIs instead.\n",
      "WARNING:tensorflow:From /project/cacds/apps/easybuild/software/Anaconda3/5.0.1/lib/python3.6/site-packages/tensorflow_core/python/feature_column/feature_column_v2.py:4322: VocabularyListCategoricalColumn._num_buckets (from tensorflow.python.feature_column.feature_column_v2) is deprecated and will be removed in a future version.\n",
      "Instructions for updating:\n",
      "The old _FeatureColumn APIs are being deprecated. Please use the new FeatureColumn APIs instead.\n",
      "New shape of the input data set: (189971, 59)\n"
     ]
    }
   ],
   "source": [
    "# %% Data wrangling -------------\n",
    "# Classify variable type\n",
    "emb_vars, ind_vars, num_vars = [], [], []\n",
    "for var in X.columns:\n",
    "    if X[var].dtypes == 'O':\n",
    "        if len(X[var].unique()) > 5:\n",
    "            emb_vars.append(var)\n",
    "        else:\n",
    "            ind_vars.append(var)\n",
    "    else:\n",
    "        num_vars.append(var)\n",
    "print('Numerical variables are ', num_vars)\n",
    "print('Categorical variables that have at most 5 categories are ', ind_vars)\n",
    "print('Categorical variables that have more than 5 categories are ', emb_vars)\n",
    "\n",
    "# Create feature columns\n",
    "feature_columns = []\n",
    "# numeric cols\n",
    "for header in num_vars:\n",
    "    feature_columns.append(feature_column.numeric_column(header))\n",
    "# bucketized cols\n",
    "# age = feature_column.numeric_column('Prsn_Age')\n",
    "# age_buckets = feature_column.bucketized_column(age, boundaries=[16, 22, 35, 55, 65])\n",
    "# feature_columns.append(age_buckets)\n",
    "# indicator_columns\n",
    "for col_name in ind_vars:\n",
    "    categorical_column = feature_column.categorical_column_with_vocabulary_list(\n",
    "        col_name, X[col_name].unique())\n",
    "    indicator_column = feature_column.indicator_column(categorical_column)\n",
    "    feature_columns.append(indicator_column)\n",
    "# embedding columns\n",
    "for col_name in emb_vars:\n",
    "    emb_column = feature_column.categorical_column_with_vocabulary_list(\n",
    "        col_name, X[col_name].unique())\n",
    "    col_embedding = feature_column.embedding_column(emb_column, dimension=5)\n",
    "    feature_columns.append(col_embedding)\n",
    "\n",
    "# Convert all setup into new dataset\n",
    "feature_layer = tf.keras.layers.DenseFeatures(feature_columns)\n",
    "X = feature_layer(dict(X)).numpy()\n",
    "print('New shape of the input data set:',X.shape)"
   ]
  },
  {
   "cell_type": "code",
   "execution_count": 8,
   "metadata": {
    "colab": {
     "base_uri": "https://localhost:8080/"
    },
    "id": "1EiMyeEfZvoJ",
    "outputId": "65c5077e-f2aa-4e53-84e1-b543c597e72a"
   },
   "outputs": [
    {
     "name": "stdout",
     "output_type": "stream",
     "text": [
      "Training features shape: (121580, 59)\n",
      "Validation features shape: (30396, 59)\n",
      "Test features shape: (37995, 59)\n"
     ]
    }
   ],
   "source": [
    "# %% Split the dataset\n",
    "X_train, X_test, y_train, y_test = train_test_split(X, y, test_size=0.2, stratify=y, random_state=48)\n",
    "X_train, X_val, y_train, y_val = train_test_split(X_train, y_train, test_size=0.2, stratify=y_train, random_state=48)\n",
    "\n",
    "print('Training features shape:', X_train.shape)\n",
    "print('Validation features shape:', X_val.shape)\n",
    "print('Test features shape:', X_test.shape)\n",
    "\n",
    "# %% standardization\n",
    "scaler = StandardScaler()\n",
    "X_train = scaler.fit_transform(X_train)\n",
    "X_val = scaler.transform(X_val)\n",
    "X_test = scaler.transform(X_test)"
   ]
  },
  {
   "cell_type": "code",
   "execution_count": 9,
   "metadata": {
    "id": "PgrT2IK1SkX7"
   },
   "outputs": [],
   "source": [
    "# %% Function to compare the prediction and true labels\n",
    "def get_accs(label, prediction, tr_time,  show=False):\n",
    "    cm = confusion_matrix(label, prediction)\n",
    "    length = cm.shape[0]\n",
    "    num_cases = len(label)\n",
    "    # global accuracy\n",
    "    glb_acc = np.trace(cm) / len(label)\n",
    "    ind_accs = cm / np.sum(cm, axis=1)[:, np.newaxis]\n",
    "    accs = [ind_accs[i, i] for i in range(length)]\n",
    "    index = ['Class {}'.format(i) for i in range(length)]\n",
    "    # Global accuracy\n",
    "    accs.append(glb_acc)\n",
    "    #index.append\n",
    "    # G-mean\n",
    "    accs.append(geometric_mean_score(label, prediction, correction=0.001))\n",
    "    #index.append('G-mean')\n",
    "    # Average perf\n",
    "    accs.append((glb_acc + accs[-1]) / 2)\n",
    "    #index.append('Avg_Pfm')\n",
    "    # Training time\n",
    "    accs.append(np.round(tr_time,3))\n",
    "    index = index + ['Overall Accuracy','G-mean','Avg_Pfm','Training Time']\n",
    "    # Plot confusion matrix\n",
    "    plot_dict = {'Confusion matrix': (cm,'g'),\n",
    "                 'Normalized confusion matrix': (ind_accs,'.2f')}\n",
    "    if show:\n",
    "        plt.figure(figsize=(14, 6))\n",
    "        i = 1\n",
    "        for key, value in plot_dict.items():\n",
    "            plt.subplot(1, 2, i)\n",
    "            sns.heatmap(value[0], xticklabels=np.arange(length), yticklabels=np.arange(length),\n",
    "                        annot=True, fmt=value[1], cmap=\"YlGnBu\")\n",
    "            plt.xlabel('Prediction')\n",
    "            plt.ylabel('Label')\n",
    "            plt.title(key)\n",
    "            i+= 1\n",
    "        plt.show()\n",
    "    out = np.array(accs).reshape(1, len(accs))\n",
    "    return pd.DataFrame(out, columns=index)"
   ]
  },
  {
   "cell_type": "markdown",
   "metadata": {
    "id": "BSrmS5x56tRh"
   },
   "source": [
    "# Class weights"
   ]
  },
  {
   "cell_type": "code",
   "execution_count": 10,
   "metadata": {
    "colab": {
     "base_uri": "https://localhost:8080/"
    },
    "id": "VLh6CRsV6suY",
    "outputId": "8492d75d-2358-460c-eb06-220f5ce89778"
   },
   "outputs": [
    {
     "name": "stdout",
     "output_type": "stream",
     "text": [
      "LR\n",
      "DT\n",
      "RF\n",
      "           Overall Accuracy    G-mean   Avg_Pfm  Training Time\n",
      "LR-weight          0.834478  0.025002  0.429740          5.861\n",
      "DT-weight          0.701856  0.151801  0.426828          1.501\n",
      "RF-weight          0.834399  0.003981  0.419190          6.371\n"
     ]
    }
   ],
   "source": [
    "wgt=None\n",
    "clfs = [LogisticRegression(solver = 'lbfgs',class_weight=wgt),\n",
    "        DecisionTreeClassifier(class_weight=wgt),\n",
    "        RandomForestClassifier(max_depth=4,class_weight=wgt)]\n",
    "clf_names = ['LR','DT','RF']\n",
    "rsts = pd.DataFrame()\n",
    "for model, name in zip(clfs,clf_names):\n",
    "    start = time.time()\n",
    "    print(name)\n",
    "    model.fit(X_train, y_train)\n",
    "    # use the model to make predictions with the test data\n",
    "    y_pred = model.predict(X_test)\n",
    "    end= time.time()\n",
    "    # get the evaluation metrics\n",
    "    result = get_accs(y_test.values, y_pred, end-start)\n",
    "    result.index = [name + '-weight'] \n",
    "    rsts = rsts.append(result)\n",
    "print(rsts.iloc[:,5:])"
   ]
  },
  {
   "cell_type": "markdown",
   "metadata": {
    "id": "tcO557SjN1DF"
   },
   "source": [
    "## MLP"
   ]
  },
  {
   "cell_type": "code",
   "execution_count": 11,
   "metadata": {
    "id": "iW1wR4r7PFSW"
   },
   "outputs": [],
   "source": [
    "es = EarlyStopping(monitor='val_cohen_kappa',\n",
    "                   verbose=1, patience=10, mode='max',\n",
    "                   restore_best_weights=True)"
   ]
  },
  {
   "cell_type": "code",
   "execution_count": 12,
   "metadata": {
    "id": "CtX9XkqPO6BP"
   },
   "outputs": [],
   "source": [
    "def create_mlp():\n",
    "    MLP = Sequential([Dense(10,activation='relu',\n",
    "                           input_dim=X_train.shape[1]),\n",
    "                      Dropout(0.5),\n",
    "                      Dense(5, activation='softmax')])\n",
    "    MLP.compile(optimizer='adam',\n",
    "                loss=tf.keras.losses.SparseCategoricalCrossentropy(from_logits=True),\n",
    "                metrics=[CohenKappa(num_classes=5,sparse_labels=True)])\n",
    "    return MLP"
   ]
  },
  {
   "cell_type": "code",
   "execution_count": 16,
   "metadata": {},
   "outputs": [
    {
     "data": {
      "text/plain": [
       "{0: 0.23969289391339457,\n",
       " 1: 1.8550043941021384,\n",
       " 2: 4.199182139699381,\n",
       " 3: 23.89572327044025,\n",
       " 4: 112.07728613569321}"
      ]
     },
     "execution_count": 16,
     "metadata": {},
     "output_type": "execute_result"
    }
   ],
   "source": [
    "# Add weights\n",
    "weights = len(y) / (5 * np.bincount(y))\n",
    "cls_wgt = dict(zip(np.arange(5), weights))\n",
    "cls_wgt"
   ]
  },
  {
   "cell_type": "code",
   "execution_count": 18,
   "metadata": {
    "colab": {
     "base_uri": "https://localhost:8080/"
    },
    "id": "s-nBZq_VO6BP",
    "outputId": "73d86ebc-9ed9-4e3b-9fb4-f04a20146a6f"
   },
   "outputs": [
    {
     "name": "stdout",
     "output_type": "stream",
     "text": [
      "WARNING:tensorflow:sample_weight modes were coerced from\n",
      "  ...\n",
      "    to  \n",
      "  ['...']\n",
      "WARNING:tensorflow:sample_weight modes were coerced from\n",
      "  ...\n",
      "    to  \n",
      "  ['...']\n",
      "Restoring model weights from the end of the best epoch.\n",
      "Epoch 00014: early stopping\n",
      "             Overall Accuracy    G-mean   Avg_Pfm  Training Time\n",
      "LR-weight            0.834478  0.025002  0.429740          5.861\n",
      "DT-weight            0.701856  0.151801  0.426828          1.501\n",
      "RF-weight            0.834399  0.003981  0.419190          6.371\n",
      "MLP-Weights          0.834399  0.003981  0.419190         60.542\n",
      "MLP-Weights          0.491512  0.370671  0.431092         84.820\n"
     ]
    }
   ],
   "source": [
    "model = create_mlp()\n",
    "start = time.time()\n",
    "monitor = model.fit(X_train, y_train,\n",
    "                    callbacks=[es],\n",
    "                    class_weight=cls_wgt,\n",
    "                    validation_data=(X_val, y_val.values),\n",
    "                    verbose=0, epochs=50)\n",
    "end = time.time()\n",
    "# use the model to make predictions with the test data\n",
    "y_pred = model.predict(X_test)\n",
    "y_pred = np.argmax(y_pred, axis=1)\n",
    "# get the evaluation metrics\n",
    "result = get_accs(y_test.values, y_pred, end-start)\n",
    "result.index = ['MLP-Weights']\n",
    "rsts = rsts.append(result)\n",
    "print(rsts.iloc[:,5:])"
   ]
  },
  {
   "cell_type": "code",
   "execution_count": 15,
   "metadata": {},
   "outputs": [],
   "source": [
    "from tensorflow.keras.wrappers.scikit_learn import KerasClassifier\n",
    "from sklearn.model_selection import GridSearchCV"
   ]
  },
  {
   "cell_type": "code",
   "execution_count": 25,
   "metadata": {},
   "outputs": [],
   "source": [
    "def create_mlp(optimizer = 'adam', init='zeros', acti = 'relu'):\n",
    "    MLP = Sequential([Dense(10,activation=acti,\n",
    "                           input_dim=X_train.shape[1],\n",
    "                           kernel_initializer=init),\n",
    "                      Dropout(0.5),\n",
    "                      Dense(5, activation='softmax')])\n",
    "    MLP.compile(optimizer=optimizer,\n",
    "                loss=tf.keras.losses.SparseCategoricalCrossentropy(from_logits=True),\n",
    "                metrics=[CohenKappa(num_classes=5,sparse_labels=True)])\n",
    "    return MLP"
   ]
  },
  {
   "cell_type": "code",
   "execution_count": 30,
   "metadata": {
    "colab": {
     "base_uri": "https://localhost:8080/",
     "height": 80
    },
    "id": "kc599RHZtAVA",
    "outputId": "38ae348d-1dfd-40da-a77b-0a71d43a8359"
   },
   "outputs": [
    {
     "ename": "ValueError",
     "evalue": "'cohen_kappa_score' is not a valid scoring value. Use sorted(sklearn.metrics.SCORERS.keys()) to get valid options.",
     "output_type": "error",
     "traceback": [
      "\u001b[0;31m---------------------------------------------------------------------------\u001b[0m",
      "\u001b[0;31mKeyError\u001b[0m                                  Traceback (most recent call last)",
      "\u001b[0;32m~/.local/lib/python3.6/site-packages/sklearn/metrics/_scorer.py\u001b[0m in \u001b[0;36mget_scorer\u001b[0;34m(scoring)\u001b[0m\n\u001b[1;32m    359\u001b[0m             \u001b[0;32melse\u001b[0m\u001b[0;34m:\u001b[0m\u001b[0;34m\u001b[0m\u001b[0;34m\u001b[0m\u001b[0m\n\u001b[0;32m--> 360\u001b[0;31m                 \u001b[0mscorer\u001b[0m \u001b[0;34m=\u001b[0m \u001b[0mSCORERS\u001b[0m\u001b[0;34m[\u001b[0m\u001b[0mscoring\u001b[0m\u001b[0;34m]\u001b[0m\u001b[0;34m\u001b[0m\u001b[0;34m\u001b[0m\u001b[0m\n\u001b[0m\u001b[1;32m    361\u001b[0m         \u001b[0;32mexcept\u001b[0m \u001b[0mKeyError\u001b[0m\u001b[0;34m:\u001b[0m\u001b[0;34m\u001b[0m\u001b[0;34m\u001b[0m\u001b[0m\n",
      "\u001b[0;31mKeyError\u001b[0m: 'cohen_kappa_score'",
      "\nDuring handling of the above exception, another exception occurred:\n",
      "\u001b[0;31mValueError\u001b[0m                                Traceback (most recent call last)",
      "\u001b[0;32m<ipython-input-30-33ee9beded09>\u001b[0m in \u001b[0;36m<module>\u001b[0;34m\u001b[0m\n\u001b[1;32m     19\u001b[0m                         \u001b[0mcallbacks\u001b[0m\u001b[0;34m=\u001b[0m\u001b[0;34m[\u001b[0m\u001b[0mes\u001b[0m\u001b[0;34m]\u001b[0m\u001b[0;34m,\u001b[0m\u001b[0;34m\u001b[0m\u001b[0;34m\u001b[0m\u001b[0m\n\u001b[1;32m     20\u001b[0m                         \u001b[0mclass_weight\u001b[0m\u001b[0;34m=\u001b[0m\u001b[0mcls_wgt\u001b[0m\u001b[0;34m,\u001b[0m\u001b[0;34m\u001b[0m\u001b[0;34m\u001b[0m\u001b[0m\n\u001b[0;32m---> 21\u001b[0;31m                         \u001b[0mvalidation_data\u001b[0m\u001b[0;34m=\u001b[0m\u001b[0;34m(\u001b[0m\u001b[0mX_val\u001b[0m\u001b[0;34m,\u001b[0m \u001b[0my_val\u001b[0m\u001b[0;34m.\u001b[0m\u001b[0mvalues\u001b[0m\u001b[0;34m)\u001b[0m\u001b[0;34m,\u001b[0m\u001b[0;34m\u001b[0m\u001b[0;34m\u001b[0m\u001b[0m\n\u001b[0m\u001b[1;32m     22\u001b[0m                       )\n\u001b[1;32m     23\u001b[0m \u001b[0mgrid_result\u001b[0m\u001b[0;34m.\u001b[0m\u001b[0mcv_results_\u001b[0m\u001b[0;34m\u001b[0m\u001b[0;34m\u001b[0m\u001b[0m\n",
      "\u001b[0;32m~/.local/lib/python3.6/site-packages/sklearn/utils/validation.py\u001b[0m in \u001b[0;36minner_f\u001b[0;34m(*args, **kwargs)\u001b[0m\n\u001b[1;32m     70\u001b[0m                           FutureWarning)\n\u001b[1;32m     71\u001b[0m         \u001b[0mkwargs\u001b[0m\u001b[0;34m.\u001b[0m\u001b[0mupdate\u001b[0m\u001b[0;34m(\u001b[0m\u001b[0;34m{\u001b[0m\u001b[0mk\u001b[0m\u001b[0;34m:\u001b[0m \u001b[0marg\u001b[0m \u001b[0;32mfor\u001b[0m \u001b[0mk\u001b[0m\u001b[0;34m,\u001b[0m \u001b[0marg\u001b[0m \u001b[0;32min\u001b[0m \u001b[0mzip\u001b[0m\u001b[0;34m(\u001b[0m\u001b[0msig\u001b[0m\u001b[0;34m.\u001b[0m\u001b[0mparameters\u001b[0m\u001b[0;34m,\u001b[0m \u001b[0margs\u001b[0m\u001b[0;34m)\u001b[0m\u001b[0;34m}\u001b[0m\u001b[0;34m)\u001b[0m\u001b[0;34m\u001b[0m\u001b[0;34m\u001b[0m\u001b[0m\n\u001b[0;32m---> 72\u001b[0;31m         \u001b[0;32mreturn\u001b[0m \u001b[0mf\u001b[0m\u001b[0;34m(\u001b[0m\u001b[0;34m**\u001b[0m\u001b[0mkwargs\u001b[0m\u001b[0;34m)\u001b[0m\u001b[0;34m\u001b[0m\u001b[0;34m\u001b[0m\u001b[0m\n\u001b[0m\u001b[1;32m     73\u001b[0m     \u001b[0;32mreturn\u001b[0m \u001b[0minner_f\u001b[0m\u001b[0;34m\u001b[0m\u001b[0;34m\u001b[0m\u001b[0m\n\u001b[1;32m     74\u001b[0m \u001b[0;34m\u001b[0m\u001b[0m\n",
      "\u001b[0;32m~/.local/lib/python3.6/site-packages/sklearn/model_selection/_search.py\u001b[0m in \u001b[0;36mfit\u001b[0;34m(self, X, y, groups, **fit_params)\u001b[0m\n\u001b[1;32m    653\u001b[0m \u001b[0;34m\u001b[0m\u001b[0m\n\u001b[1;32m    654\u001b[0m         scorers, self.multimetric_ = _check_multimetric_scoring(\n\u001b[0;32m--> 655\u001b[0;31m             self.estimator, scoring=self.scoring)\n\u001b[0m\u001b[1;32m    656\u001b[0m \u001b[0;34m\u001b[0m\u001b[0m\n\u001b[1;32m    657\u001b[0m         \u001b[0;32mif\u001b[0m \u001b[0mself\u001b[0m\u001b[0;34m.\u001b[0m\u001b[0mmultimetric_\u001b[0m\u001b[0;34m:\u001b[0m\u001b[0;34m\u001b[0m\u001b[0;34m\u001b[0m\u001b[0m\n",
      "\u001b[0;32m~/.local/lib/python3.6/site-packages/sklearn/metrics/_scorer.py\u001b[0m in \u001b[0;36m_check_multimetric_scoring\u001b[0;34m(estimator, scoring)\u001b[0m\n\u001b[1;32m    525\u001b[0m                                  % repr(scoring))\n\u001b[1;32m    526\u001b[0m             scorers = {key: check_scoring(estimator, scoring=scorer)\n\u001b[0;32m--> 527\u001b[0;31m                        for key, scorer in scoring.items()}\n\u001b[0m\u001b[1;32m    528\u001b[0m         \u001b[0;32melse\u001b[0m\u001b[0;34m:\u001b[0m\u001b[0;34m\u001b[0m\u001b[0;34m\u001b[0m\u001b[0m\n\u001b[1;32m    529\u001b[0m             \u001b[0;32mraise\u001b[0m \u001b[0mValueError\u001b[0m\u001b[0;34m(\u001b[0m\u001b[0merr_msg_generic\u001b[0m\u001b[0;34m)\u001b[0m\u001b[0;34m\u001b[0m\u001b[0;34m\u001b[0m\u001b[0m\n",
      "\u001b[0;32m~/.local/lib/python3.6/site-packages/sklearn/metrics/_scorer.py\u001b[0m in \u001b[0;36m<dictcomp>\u001b[0;34m(.0)\u001b[0m\n\u001b[1;32m    525\u001b[0m                                  % repr(scoring))\n\u001b[1;32m    526\u001b[0m             scorers = {key: check_scoring(estimator, scoring=scorer)\n\u001b[0;32m--> 527\u001b[0;31m                        for key, scorer in scoring.items()}\n\u001b[0m\u001b[1;32m    528\u001b[0m         \u001b[0;32melse\u001b[0m\u001b[0;34m:\u001b[0m\u001b[0;34m\u001b[0m\u001b[0;34m\u001b[0m\u001b[0m\n\u001b[1;32m    529\u001b[0m             \u001b[0;32mraise\u001b[0m \u001b[0mValueError\u001b[0m\u001b[0;34m(\u001b[0m\u001b[0merr_msg_generic\u001b[0m\u001b[0;34m)\u001b[0m\u001b[0;34m\u001b[0m\u001b[0;34m\u001b[0m\u001b[0m\n",
      "\u001b[0;32m~/.local/lib/python3.6/site-packages/sklearn/utils/validation.py\u001b[0m in \u001b[0;36minner_f\u001b[0;34m(*args, **kwargs)\u001b[0m\n\u001b[1;32m     70\u001b[0m                           FutureWarning)\n\u001b[1;32m     71\u001b[0m         \u001b[0mkwargs\u001b[0m\u001b[0;34m.\u001b[0m\u001b[0mupdate\u001b[0m\u001b[0;34m(\u001b[0m\u001b[0;34m{\u001b[0m\u001b[0mk\u001b[0m\u001b[0;34m:\u001b[0m \u001b[0marg\u001b[0m \u001b[0;32mfor\u001b[0m \u001b[0mk\u001b[0m\u001b[0;34m,\u001b[0m \u001b[0marg\u001b[0m \u001b[0;32min\u001b[0m \u001b[0mzip\u001b[0m\u001b[0;34m(\u001b[0m\u001b[0msig\u001b[0m\u001b[0;34m.\u001b[0m\u001b[0mparameters\u001b[0m\u001b[0;34m,\u001b[0m \u001b[0margs\u001b[0m\u001b[0;34m)\u001b[0m\u001b[0;34m}\u001b[0m\u001b[0;34m)\u001b[0m\u001b[0;34m\u001b[0m\u001b[0;34m\u001b[0m\u001b[0m\n\u001b[0;32m---> 72\u001b[0;31m         \u001b[0;32mreturn\u001b[0m \u001b[0mf\u001b[0m\u001b[0;34m(\u001b[0m\u001b[0;34m**\u001b[0m\u001b[0mkwargs\u001b[0m\u001b[0;34m)\u001b[0m\u001b[0;34m\u001b[0m\u001b[0;34m\u001b[0m\u001b[0m\n\u001b[0m\u001b[1;32m     73\u001b[0m     \u001b[0;32mreturn\u001b[0m \u001b[0minner_f\u001b[0m\u001b[0;34m\u001b[0m\u001b[0;34m\u001b[0m\u001b[0m\n\u001b[1;32m     74\u001b[0m \u001b[0;34m\u001b[0m\u001b[0m\n",
      "\u001b[0;32m~/.local/lib/python3.6/site-packages/sklearn/metrics/_scorer.py\u001b[0m in \u001b[0;36mcheck_scoring\u001b[0;34m(estimator, scoring, allow_none)\u001b[0m\n\u001b[1;32m    403\u001b[0m                         \"'fit' method, %r was passed\" % estimator)\n\u001b[1;32m    404\u001b[0m     \u001b[0;32mif\u001b[0m \u001b[0misinstance\u001b[0m\u001b[0;34m(\u001b[0m\u001b[0mscoring\u001b[0m\u001b[0;34m,\u001b[0m \u001b[0mstr\u001b[0m\u001b[0;34m)\u001b[0m\u001b[0;34m:\u001b[0m\u001b[0;34m\u001b[0m\u001b[0;34m\u001b[0m\u001b[0m\n\u001b[0;32m--> 405\u001b[0;31m         \u001b[0;32mreturn\u001b[0m \u001b[0mget_scorer\u001b[0m\u001b[0;34m(\u001b[0m\u001b[0mscoring\u001b[0m\u001b[0;34m)\u001b[0m\u001b[0;34m\u001b[0m\u001b[0;34m\u001b[0m\u001b[0m\n\u001b[0m\u001b[1;32m    406\u001b[0m     \u001b[0;32melif\u001b[0m \u001b[0mcallable\u001b[0m\u001b[0;34m(\u001b[0m\u001b[0mscoring\u001b[0m\u001b[0;34m)\u001b[0m\u001b[0;34m:\u001b[0m\u001b[0;34m\u001b[0m\u001b[0;34m\u001b[0m\u001b[0m\n\u001b[1;32m    407\u001b[0m         \u001b[0;31m# Heuristic to ensure user has not passed a metric\u001b[0m\u001b[0;34m\u001b[0m\u001b[0;34m\u001b[0m\u001b[0;34m\u001b[0m\u001b[0m\n",
      "\u001b[0;32m~/.local/lib/python3.6/site-packages/sklearn/metrics/_scorer.py\u001b[0m in \u001b[0;36mget_scorer\u001b[0;34m(scoring)\u001b[0m\n\u001b[1;32m    362\u001b[0m             raise ValueError('%r is not a valid scoring value. '\n\u001b[1;32m    363\u001b[0m                              \u001b[0;34m'Use sorted(sklearn.metrics.SCORERS.keys()) '\u001b[0m\u001b[0;34m\u001b[0m\u001b[0;34m\u001b[0m\u001b[0m\n\u001b[0;32m--> 364\u001b[0;31m                              'to get valid options.' % scoring)\n\u001b[0m\u001b[1;32m    365\u001b[0m     \u001b[0;32melse\u001b[0m\u001b[0;34m:\u001b[0m\u001b[0;34m\u001b[0m\u001b[0;34m\u001b[0m\u001b[0m\n\u001b[1;32m    366\u001b[0m         \u001b[0mscorer\u001b[0m \u001b[0;34m=\u001b[0m \u001b[0mscoring\u001b[0m\u001b[0;34m\u001b[0m\u001b[0;34m\u001b[0m\u001b[0m\n",
      "\u001b[0;31mValueError\u001b[0m: 'cohen_kappa_score' is not a valid scoring value. Use sorted(sklearn.metrics.SCORERS.keys()) to get valid options."
     ]
    }
   ],
   "source": [
    "# create model\n",
    "model = KerasClassifier(build_fn=create_mlp,verbose=1)\n",
    "# grid search epochs, batch size and optimizer\n",
    "optimizers = ['adam']\n",
    "init = ['glorot_uniform', 'normal', 'uniform']\n",
    "epochs = [1, 2]\n",
    "#batches = [5, 10, 20]\n",
    "param_grid = dict(#optimizer=optimizers, \n",
    "                  epochs=epochs, \n",
    "                  #batch_size=batches, \n",
    "                  init=init)\n",
    "scores={'BA':'balanced_accuracy','F1':'f1','AUC':'roc_auc','kappa':'cohen_kappa_score'}\n",
    "grid = GridSearchCV(estimator=model, \n",
    "                    param_grid=param_grid,\n",
    "                    scoring=scores,\n",
    "                    cv=5,\n",
    "                    refit='AUC')\n",
    "grid_result = grid.fit(X_train, y_train,\n",
    "                        callbacks=[es],\n",
    "                        class_weight=cls_wgt,\n",
    "                        validation_data=(X_val, y_val.values), \n",
    "                      )\n",
    "grid_result.cv_results_"
   ]
  },
  {
   "cell_type": "code",
   "execution_count": 32,
   "metadata": {},
   "outputs": [],
   "source": [
    "import sklearn"
   ]
  },
  {
   "cell_type": "code",
   "execution_count": 33,
   "metadata": {},
   "outputs": [
    {
     "data": {
      "text/plain": [
       "['accuracy',\n",
       " 'adjusted_mutual_info_score',\n",
       " 'adjusted_rand_score',\n",
       " 'average_precision',\n",
       " 'balanced_accuracy',\n",
       " 'completeness_score',\n",
       " 'explained_variance',\n",
       " 'f1',\n",
       " 'f1_macro',\n",
       " 'f1_micro',\n",
       " 'f1_samples',\n",
       " 'f1_weighted',\n",
       " 'fowlkes_mallows_score',\n",
       " 'homogeneity_score',\n",
       " 'jaccard',\n",
       " 'jaccard_macro',\n",
       " 'jaccard_micro',\n",
       " 'jaccard_samples',\n",
       " 'jaccard_weighted',\n",
       " 'max_error',\n",
       " 'mutual_info_score',\n",
       " 'neg_brier_score',\n",
       " 'neg_log_loss',\n",
       " 'neg_mean_absolute_error',\n",
       " 'neg_mean_gamma_deviance',\n",
       " 'neg_mean_poisson_deviance',\n",
       " 'neg_mean_squared_error',\n",
       " 'neg_mean_squared_log_error',\n",
       " 'neg_median_absolute_error',\n",
       " 'neg_root_mean_squared_error',\n",
       " 'normalized_mutual_info_score',\n",
       " 'precision',\n",
       " 'precision_macro',\n",
       " 'precision_micro',\n",
       " 'precision_samples',\n",
       " 'precision_weighted',\n",
       " 'r2',\n",
       " 'recall',\n",
       " 'recall_macro',\n",
       " 'recall_micro',\n",
       " 'recall_samples',\n",
       " 'recall_weighted',\n",
       " 'roc_auc',\n",
       " 'roc_auc_ovo',\n",
       " 'roc_auc_ovo_weighted',\n",
       " 'roc_auc_ovr',\n",
       " 'roc_auc_ovr_weighted',\n",
       " 'v_measure_score']"
      ]
     },
     "execution_count": 33,
     "metadata": {},
     "output_type": "execute_result"
    }
   ],
   "source": [
    "sorted(sklearn.metrics.SCORERS.keys())"
   ]
  },
  {
   "cell_type": "code",
   "execution_count": null,
   "metadata": {
    "colab": {
     "base_uri": "https://localhost:8080/",
     "height": 80
    },
    "id": "R4li-E0gunT0",
    "outputId": "db756ed6-05af-4097-ca56-d770f641c9ec"
   },
   "outputs": [
    {
     "data": {
      "text/html": [
       "<div>\n",
       "<style scoped>\n",
       "    .dataframe tbody tr th:only-of-type {\n",
       "        vertical-align: middle;\n",
       "    }\n",
       "\n",
       "    .dataframe tbody tr th {\n",
       "        vertical-align: top;\n",
       "    }\n",
       "\n",
       "    .dataframe thead th {\n",
       "        text-align: right;\n",
       "    }\n",
       "</style>\n",
       "<table border=\"1\" class=\"dataframe\">\n",
       "  <thead>\n",
       "    <tr style=\"text-align: right;\">\n",
       "      <th></th>\n",
       "      <th>Class 0</th>\n",
       "      <th>Class 1</th>\n",
       "      <th>Class 2</th>\n",
       "      <th>Class 3</th>\n",
       "      <th>Class 4</th>\n",
       "      <th>Overall Accuracy</th>\n",
       "      <th>G-mean</th>\n",
       "      <th>Avg_Pfm</th>\n",
       "      <th>Training Time</th>\n",
       "    </tr>\n",
       "  </thead>\n",
       "  <tbody>\n",
       "    <tr>\n",
       "      <th>0</th>\n",
       "      <td>0.495064</td>\n",
       "      <td>0.456055</td>\n",
       "      <td>0.20442</td>\n",
       "      <td>0.323899</td>\n",
       "      <td>0.588235</td>\n",
       "      <td>0.475747</td>\n",
       "      <td>0.388001</td>\n",
       "      <td>0.431874</td>\n",
       "      <td>0.0</td>\n",
       "    </tr>\n",
       "  </tbody>\n",
       "</table>\n",
       "</div>"
      ],
      "text/plain": [
       "    Class 0   Class 1  Class 2  ...    G-mean   Avg_Pfm  Training Time\n",
       "0  0.495064  0.456055  0.20442  ...  0.388001  0.431874            0.0\n",
       "\n",
       "[1 rows x 9 columns]"
      ]
     },
     "execution_count": 27,
     "metadata": {
      "tags": []
     },
     "output_type": "execute_result"
    }
   ],
   "source": [
    "clf = LogisticRegression(solver = 'lbfgs')\n",
    "clf.fit(X_svm, y_svm)\n",
    "y_pred2 = clf.predict(model.predict(X_test))\n",
    "get_accs(y_test.values, y_pred2, 0)"
   ]
  },
  {
   "cell_type": "code",
   "execution_count": 35,
   "metadata": {
    "colab": {
     "base_uri": "https://localhost:8080/",
     "height": 80
    },
    "id": "onMdU-gav11b",
    "outputId": "160f71c1-1388-4100-923f-d58be6617b76"
   },
   "outputs": [
    {
     "name": "stdout",
     "output_type": "stream",
     "text": [
      "               Overall Accuracy    G-mean   Avg_Pfm  Training Time\n",
      "LR-HR                  0.505011  0.394077  0.449544         16.052\n",
      "DT-HR                  0.432316  0.253554  0.342935          7.533\n",
      "RF-HR                  0.572358  0.316632  0.444495         20.934\n",
      "MLP-Weights            0.502085  0.375003  0.438544        679.522\n",
      "LR-HR-Bagging          0.503443  0.393480  0.448461        158.434\n"
     ]
    }
   ],
   "source": [
    "from sklearn.ensemble import BaggingClassifier\n",
    "start = time.time()\n",
    "clf = BaggingClassifier(base_estimator=LogisticRegression(solver = 'lbfgs'),\n",
    "                        n_estimators=10, random_state=0).fit(X_train, y_train)\n",
    "end = time.time()\n",
    "y_pred = clf.predict(X_test)\n",
    "# get the evaluation metrics\n",
    "result = get_accs(y_test.values, y_pred, end-start)\n",
    "result.index = ['LR-HR-Bagging'] \n",
    "rsts = rsts.append(result)\n",
    "print(rsts.iloc[:,5:])"
   ]
  },
  {
   "cell_type": "code",
   "execution_count": null,
   "metadata": {
    "colab": {
     "base_uri": "https://localhost:8080/",
     "height": 80
    },
    "id": "OyF3btbcwIex",
    "outputId": "40950a73-07db-4954-a6cc-f47001fdf586"
   },
   "outputs": [
    {
     "data": {
      "text/html": [
       "<div>\n",
       "<style scoped>\n",
       "    .dataframe tbody tr th:only-of-type {\n",
       "        vertical-align: middle;\n",
       "    }\n",
       "\n",
       "    .dataframe tbody tr th {\n",
       "        vertical-align: top;\n",
       "    }\n",
       "\n",
       "    .dataframe thead th {\n",
       "        text-align: right;\n",
       "    }\n",
       "</style>\n",
       "<table border=\"1\" class=\"dataframe\">\n",
       "  <thead>\n",
       "    <tr style=\"text-align: right;\">\n",
       "      <th></th>\n",
       "      <th>Class 0</th>\n",
       "      <th>Class 1</th>\n",
       "      <th>Class 2</th>\n",
       "      <th>Class 3</th>\n",
       "      <th>Class 4</th>\n",
       "      <th>Overall Accuracy</th>\n",
       "      <th>G-mean</th>\n",
       "      <th>Avg_Pfm</th>\n",
       "      <th>Training Time</th>\n",
       "    </tr>\n",
       "  </thead>\n",
       "  <tbody>\n",
       "    <tr>\n",
       "      <th>0</th>\n",
       "      <td>0.559095</td>\n",
       "      <td>0.464111</td>\n",
       "      <td>0.122652</td>\n",
       "      <td>0.311321</td>\n",
       "      <td>0.588235</td>\n",
       "      <td>0.526043</td>\n",
       "      <td>0.357362</td>\n",
       "      <td>0.441702</td>\n",
       "      <td>0.0</td>\n",
       "    </tr>\n",
       "  </tbody>\n",
       "</table>\n",
       "</div>"
      ],
      "text/plain": [
       "    Class 0   Class 1   Class 2  ...    G-mean   Avg_Pfm  Training Time\n",
       "0  0.559095  0.464111  0.122652  ...  0.357362  0.441702            0.0\n",
       "\n",
       "[1 rows x 9 columns]"
      ]
     },
     "execution_count": 26,
     "metadata": {
      "tags": []
     },
     "output_type": "execute_result"
    }
   ],
   "source": [
    "from sklearn.naive_bayes import GaussianNB\n",
    "clf = GaussianNB()\n",
    "clf.fit(X_svm, y_svm)\n",
    "y_pred2 = clf.predict(model.predict(X_test))\n",
    "get_accs(y_test.values, y_pred2, 0)"
   ]
  },
  {
   "cell_type": "code",
   "execution_count": null,
   "metadata": {
    "id": "lOQNyjuBwOLs"
   },
   "outputs": [],
   "source": []
  },
  {
   "cell_type": "code",
   "execution_count": 36,
   "metadata": {
    "id": "w5IRiyFuZvoK"
   },
   "outputs": [],
   "source": [
    "def early_stops(metric_name):\n",
    "    es = EarlyStopping(monitor='val_'+ metric_name,\n",
    "                   verbose=1,\n",
    "                   patience=10,\n",
    "                   mode='max',\n",
    "                   restore_best_weights=True)\n",
    "    return es"
   ]
  },
  {
   "cell_type": "markdown",
   "metadata": {
    "id": "nl6gMafpLK2P"
   },
   "source": [
    "# Ordinal multiclass\n"
   ]
  },
  {
   "cell_type": "code",
   "execution_count": 40,
   "metadata": {
    "id": "okwfjovXZvoK"
   },
   "outputs": [],
   "source": [
    "early_stop = {'accuracy':  tf.keras.metrics.SparseCategoricalAccuracy(name='accuracy'),\n",
    "            #  'cohen_kappa': CohenKappa(num_classes=5, sparse_labels=True), \n",
    "              'f1_micro': F1Score(num_classes=5,average=\"micro\",threshold=0.5, name='f1_micro'),\n",
    "              'f1_micro_nt': F1Score(num_classes=5,average=\"micro\", name='f1_micro_nt'),\n",
    "              'f_beta2': FBetaScore(num_classes=5,average=\"micro\",beta=2.0, name='f_beta2'),\n",
    "               'f_beta05': FBetaScore(num_classes=5,average=\"micro\",beta=0.5, name='f_beta05'),            \n",
    "               }"
   ]
  },
  {
   "cell_type": "code",
   "execution_count": 43,
   "metadata": {},
   "outputs": [],
   "source": [
    "def evaluation(model, monitor, time, name):\n",
    "    # use the model to make predictions with the test data\n",
    "    y_pred = model.predict(X_test)\n",
    "    y_pred = np.argmax(y_pred, axis=1)\n",
    "\n",
    "    # get the evaluation metrics\n",
    "    result = get_accs(y_test.values, y_pred,time)\n",
    "    result.index = [name]\n",
    "    return result"
   ]
  },
  {
   "cell_type": "code",
   "execution_count": 47,
   "metadata": {
    "id": "SE-hMuQELoqr"
   },
   "outputs": [],
   "source": [
    "def create_mlp(metric):\n",
    "    MLP = Sequential([Dense(10,\n",
    "                           activation='relu',\n",
    "                           input_dim=X_train.shape[1],\n",
    "                            bias_initializer=RandomNormal(mean=0.0, stddev=0.005, seed=None)\n",
    "                           ),\n",
    "                      Dropout(0.5),\n",
    "                      Dense(5, activation='softmax')])\n",
    "    MLP.compile(optimizer='adam',\n",
    "                loss=tf.keras.losses.SparseCategoricalCrossentropy(from_logits=True),\n",
    "                #loss=tf.keras.losses.CategoricalCrossentropy(from_logits=True),\n",
    "                metrics=[metric]\n",
    "               )\n",
    "    return MLP"
   ]
  },
  {
   "cell_type": "code",
   "execution_count": 48,
   "metadata": {
    "colab": {
     "base_uri": "https://localhost:8080/",
     "height": 1000
    },
    "id": "hKQLxFOhLe41",
    "outputId": "c3cbb798-7d42-4aa7-d563-79a62558a4da"
   },
   "outputs": [
    {
     "name": "stdout",
     "output_type": "stream",
     "text": [
      "accuracy\n",
      "Restoring model weights from the end of the best epoch.\n",
      "Epoch 00025: early stopping\n",
      "f1_micro\n",
      "Restoring model weights from the end of the best epoch.\n",
      "Epoch 00017: early stopping\n",
      "f1_micro_nt\n",
      "Restoring model weights from the end of the best epoch.\n",
      "Epoch 00011: early stopping\n",
      "f_beta2\n",
      "Restoring model weights from the end of the best epoch.\n",
      "Epoch 00011: early stopping\n",
      "f_beta05\n",
      "Restoring model weights from the end of the best epoch.\n",
      "Epoch 00011: early stopping\n",
      "                    Overall Accuracy    G-mean   Avg_Pfm  Training Time\n",
      "LR-HR                       0.505011  0.394077  0.449544         16.052\n",
      "DT-HR                       0.432316  0.253554  0.342935          7.533\n",
      "RF-HR                       0.572358  0.316632  0.444495         20.934\n",
      "MLP-Weights                 0.502085  0.375003  0.438544        679.522\n",
      "LR-HR-Bagging               0.503443  0.393480  0.448461        158.434\n",
      "MLP-HR-accuracy             0.523161  0.370971  0.447066        415.634\n",
      "MLP-HR-f1_micro             0.469859  0.355995  0.412927        292.311\n",
      "MLP-HR-f1_micro_nt          0.522045  0.373567  0.447806        189.269\n",
      "MLP-HR-f_beta2              0.525688  0.371300  0.448494        188.489\n",
      "MLP-HR-f_beta05             0.488788  0.331423  0.410106        190.832\n"
     ]
    }
   ],
   "source": [
    "for name, metric in early_stop.items():\n",
    "    print(name)\n",
    "    model = create_mlp(metric)\n",
    "    start = time.time()\n",
    "    monitor = model.fit(X_train, y_train,\n",
    "                    callbacks=[early_stops(name)],\n",
    "                    validation_data=(X_val, y_val.values),\n",
    "                    verbose=0, epochs=50)\n",
    "    end = time.time()\n",
    "    rsts = rsts.append(evaluation(model, monitor, end - start,  'MLP-HR-'+ name))\n",
    "    #evaluation(model, monitor, end - start,  'MLP '+ name)\n",
    "print(rsts.iloc[:,-4:])"
   ]
  },
  {
   "cell_type": "code",
   "execution_count": null,
   "metadata": {},
   "outputs": [],
   "source": []
  },
  {
   "cell_type": "code",
   "execution_count": 49,
   "metadata": {
    "id": "BICiC9fdwOSw"
   },
   "outputs": [],
   "source": [
    " early_stop = {'auc':       tf.keras.metrics.AUC(name='auc'),\n",
    "     'accuracy':  tf.keras.metrics.CategoricalAccuracy(name='accuracy'),\n",
    "               'precision': tf.keras.metrics.Precision(name='precision'),\n",
    "               'recall':    tf.keras.metrics.Recall(name='recall'),\n",
    "               \n",
    "               }"
   ]
  },
  {
   "cell_type": "code",
   "execution_count": 50,
   "metadata": {
    "id": "0TY-s6q5ZvoK"
   },
   "outputs": [],
   "source": [
    "def create_mlp(metric):\n",
    "    MLP = Sequential([Dense(10,\n",
    "                           activation='relu',\n",
    "                           input_dim=X_train.shape[1],\n",
    "                            bias_initializer=RandomNormal(mean=0.0, stddev=0.005, seed=None)\n",
    "                           ),\n",
    "                      Dropout(0.5),\n",
    "                      Dense(5, activation='softmax')])\n",
    "    MLP.compile(optimizer='adam',\n",
    "                #loss=tf.keras.losses.SparseCategoricalCrossentropy(from_logits=True),\n",
    "                loss=tf.keras.losses.CategoricalCrossentropy(from_logits=True),\n",
    "                metrics=[metric]\n",
    "               )\n",
    "    return MLP"
   ]
  },
  {
   "cell_type": "code",
   "execution_count": null,
   "metadata": {
    "id": "UbG3CxlaUxKp"
   },
   "outputs": [],
   "source": [
    "#rsts = rsts.iloc[:6,:].copy()"
   ]
  },
  {
   "cell_type": "code",
   "execution_count": 51,
   "metadata": {
    "colab": {
     "base_uri": "https://localhost:8080/",
     "height": 1000
    },
    "id": "78EjwO6URzui",
    "outputId": "4829623c-88b1-489f-f63e-e06883fb5780"
   },
   "outputs": [
    {
     "name": "stdout",
     "output_type": "stream",
     "text": [
      "auc\n",
      "Restoring model weights from the end of the best epoch.\n",
      "Epoch 00011: early stopping\n",
      "accuracy\n",
      "Restoring model weights from the end of the best epoch.\n",
      "Epoch 00013: early stopping\n",
      "precision\n",
      "Restoring model weights from the end of the best epoch.\n",
      "Epoch 00018: early stopping\n",
      "recall\n",
      "Restoring model weights from the end of the best epoch.\n",
      "Epoch 00016: early stopping\n",
      "                    Overall Accuracy    G-mean   Avg_Pfm  Training Time\n",
      "LR-HR                       0.505011  0.394077  0.449544         16.052\n",
      "DT-HR                       0.432316  0.253554  0.342935          7.533\n",
      "RF-HR                       0.572358  0.316632  0.444495         20.934\n",
      "MLP-Weights                 0.502085  0.375003  0.438544        679.522\n",
      "LR-HR-Bagging               0.503443  0.393480  0.448461        158.434\n",
      "MLP-HR-accuracy             0.523161  0.370971  0.447066        415.634\n",
      "MLP-HR-f1_micro             0.469859  0.355995  0.412927        292.311\n",
      "MLP-HR-f1_micro_nt          0.522045  0.373567  0.447806        189.269\n",
      "MLP-HR-f_beta2              0.525688  0.371300  0.448494        188.489\n",
      "MLP-HR-f_beta05             0.488788  0.331423  0.410106        190.832\n",
      "MLP 1H auc                  0.496421  0.375978  0.436199        204.523\n",
      "MLP 1H accuracy             0.530689  0.379714  0.455202        216.771\n",
      "MLP 1H precision            0.505722  0.378608  0.442165        306.567\n",
      "MLP 1H recall               0.492615  0.359432  0.426023        268.092\n"
     ]
    }
   ],
   "source": [
    "for name, metric in early_stop.items():\n",
    "    print(name)\n",
    "    model = create_mlp(metric)\n",
    "    start = time.time()\n",
    "    monitor = model.fit(X_train, pd.get_dummies(y_train).values,\n",
    "                    callbacks=[early_stops(name)],\n",
    "                    validation_data=(X_val, pd.get_dummies(y_val).values),\n",
    "                    verbose=0, epochs=50)\n",
    "    end = time.time()\n",
    "    rsts = rsts.append(evaluation(model, monitor, end - start,  'MLP 1H '+ name))\n",
    "print(rsts.iloc[:,-4:])"
   ]
  },
  {
   "cell_type": "markdown",
   "metadata": {
    "id": "_hkgPBmo7Y37"
   },
   "source": [
    "# Normal Resampling"
   ]
  },
  {
   "cell_type": "code",
   "execution_count": null,
   "metadata": {
    "colab": {
     "base_uri": "https://localhost:8080/"
    },
    "id": "jrwRmaph7V8X",
    "outputId": "74da0f7c-ccac-4b92-b17c-d84e08244218"
   },
   "outputs": [
    {
     "name": "stdout",
     "output_type": "stream",
     "text": [
      "ROS\n",
      "Resampled dataset shape Counter({1: 101446, 0: 101446, 2: 101446, 3: 101446, 4: 101446})\n",
      "resampling time is 0.11 seconds\n",
      "SMOTE\n",
      "Resampled dataset shape Counter({1: 101446, 0: 101446, 2: 101446, 3: 101446, 4: 101446})\n",
      "resampling time is 14.73 seconds\n",
      "BorderlineSMOTE\n",
      "Resampled dataset shape Counter({1: 101446, 0: 101446, 2: 101446, 3: 101446, 4: 101446})\n",
      "resampling time is 315.54 seconds\n",
      "RUS\n",
      "Resampled dataset shape Counter({0: 217, 1: 217, 2: 217, 3: 217, 4: 217})\n",
      "resampling time is 0.03 seconds\n",
      "NearMiss\n",
      "Resampled dataset shape Counter({0: 217, 1: 217, 2: 217, 3: 217, 4: 217})\n",
      "resampling time is 2.04 seconds\n",
      "                    Overall Accuracy    G-mean   Avg_Pfm  Training Time  \\\n",
      "LR-Weights                  0.487538  0.384926  0.436232          5.019   \n",
      "DT-Weights                  0.716700  0.148694  0.432697          1.564   \n",
      "RF-Weights                  0.567706  0.196124  0.381915          4.073   \n",
      "MLP-Weights                 0.486353  0.346576  0.416465        113.833   \n",
      "LR-ROS                      0.488933  0.377034  0.432983         21.084   \n",
      "LR-SMOTE                    0.486380  0.372459  0.429419         20.791   \n",
      "LR-BorderlineSMOTE          0.536807  0.376955  0.456881         22.433   \n",
      "LR-RUS                      0.418739  0.383424  0.401081          0.095   \n",
      "LR-NearMiss                 0.027583  0.122037  0.074810          0.094   \n",
      "\n",
      "                    Resample time  \n",
      "LR-Weights                    NaN  \n",
      "DT-Weights                    NaN  \n",
      "RF-Weights                    NaN  \n",
      "MLP-Weights                   NaN  \n",
      "LR-ROS                   0.114530  \n",
      "LR-SMOTE                14.726981  \n",
      "LR-BorderlineSMOTE     315.539367  \n",
      "LR-RUS                   0.032193  \n",
      "LR-NearMiss              2.035056  \n"
     ]
    }
   ],
   "source": [
    "Resamples = {'ROS':             RandomOverSampler(), \n",
    "             'SMOTE':           SMOTE(random_state=42),\n",
    "             'BorderlineSMOTE': BorderlineSMOTE(),\n",
    "             'RUS': RandomUnderSampler(), \n",
    "             'NearMiss': NearMiss()\n",
    "             }\n",
    "for key,value in Resamples.items():\n",
    "    start = time.time()\n",
    "    X_res, y_res = value.fit_resample(X_train, y_train)\n",
    "    end = time.time()\n",
    "    res_time = end - start\n",
    "    print(key)\n",
    "    print('Resampled dataset shape %s' % Counter(y_res))\n",
    "    print('resampling time is {0:.2f} seconds'.format(res_time))\n",
    "    \n",
    "    #Logistic model\n",
    "    LR = LogisticRegression(solver = 'lbfgs')\n",
    "    start = time.time()\n",
    "    LR.fit(X_res, y_res)\n",
    "    end= time.time()\n",
    "    # get the evaluation metrics\n",
    "    # use the model to make predictions with the test data\n",
    "    y_pred = LR.predict(X_test)\n",
    "    result = get_accs(y_test.values,y_pred, tr_time= end-start)\n",
    "    result['Resample time'] = res_time\n",
    "    result.index = ['LR-' + key]\n",
    "    rsts = rsts.append(result)\n",
    "    \n",
    "print(rsts.iloc[:,5:])"
   ]
  },
  {
   "cell_type": "code",
   "execution_count": null,
   "metadata": {
    "id": "XWG5QQmz9dnD"
   },
   "outputs": [],
   "source": [
    "#rsts = rsts.iloc[:9,:]\n",
    "#rsts"
   ]
  },
  {
   "cell_type": "markdown",
   "metadata": {
    "id": "rleqZyMvVQ4e"
   },
   "source": [
    "# Hybrid Resampling\n"
   ]
  },
  {
   "cell_type": "code",
   "execution_count": null,
   "metadata": {
    "id": "ebtofqp5Xo21",
    "outputId": "95786064-44e8-4f22-b2b8-46641c8ff090"
   },
   "outputs": [
    {
     "data": {
      "text/plain": [
       "Counter({1: 13109, 0: 101446, 2: 5790, 3: 1018, 4: 217})"
      ]
     },
     "execution_count": 17,
     "metadata": {
      "tags": []
     },
     "output_type": "execute_result"
    }
   ],
   "source": [
    "y_dict = Counter(y_train)\n",
    "y_dict"
   ]
  },
  {
   "cell_type": "markdown",
   "metadata": {
    "id": "m-dAKpcXyy3w"
   },
   "source": [
    "## Oversampling and then undersampling"
   ]
  },
  {
   "cell_type": "code",
   "execution_count": null,
   "metadata": {
    "id": "uTMR48M-b-xZ"
   },
   "outputs": [],
   "source": [
    "ss = {}\n",
    "for i in range(2,5):\n",
    "    ss[i] = y_dict[1]\n",
    "oses = ['ROS','SMOTE','BorderlineSMOTE']\n",
    "uses = ['RUS','NearMiss']"
   ]
  },
  {
   "cell_type": "code",
   "execution_count": null,
   "metadata": {
    "id": "te2eBMF3hRVt",
    "outputId": "96605a86-6671-4729-e1ac-54250c70e48e"
   },
   "outputs": [
    {
     "name": "stdout",
     "output_type": "stream",
     "text": [
      "ROS - RUS\n",
      "Resampled dataset shape Counter({0: 13109, 1: 13109, 2: 13109, 3: 13109, 4: 13109})\n",
      "Resamling time 0.13 sec\n",
      "ROS - NearMiss\n",
      "Resampled dataset shape Counter({0: 13109, 1: 13109, 2: 13109, 3: 13109, 4: 13109})\n",
      "Resamling time 86.98 sec\n",
      "SMOTE - RUS\n",
      "Resampled dataset shape Counter({0: 13109, 1: 13109, 2: 13109, 3: 13109, 4: 13109})\n",
      "Resamling time 2.64 sec\n",
      "SMOTE - NearMiss\n",
      "Resampled dataset shape Counter({0: 13109, 1: 13109, 2: 13109, 3: 13109, 4: 13109})\n",
      "Resamling time 89.48 sec\n",
      "BorderlineSMOTE - RUS\n",
      "Resampled dataset shape Counter({0: 13109, 1: 13109, 2: 13109, 3: 13109, 4: 13109})\n",
      "Resamling time 150.43 sec\n",
      "BorderlineSMOTE - NearMiss\n",
      "Resampled dataset shape Counter({0: 13109, 1: 13109, 2: 13109, 3: 13109, 4: 13109})\n",
      "Resamling time 237.54 sec\n"
     ]
    },
    {
     "data": {
      "text/html": [
       "<div>\n",
       "<style scoped>\n",
       "    .dataframe tbody tr th:only-of-type {\n",
       "        vertical-align: middle;\n",
       "    }\n",
       "\n",
       "    .dataframe tbody tr th {\n",
       "        vertical-align: top;\n",
       "    }\n",
       "\n",
       "    .dataframe thead th {\n",
       "        text-align: right;\n",
       "    }\n",
       "</style>\n",
       "<table border=\"1\" class=\"dataframe\">\n",
       "  <thead>\n",
       "    <tr style=\"text-align: right;\">\n",
       "      <th></th>\n",
       "      <th>Class 0</th>\n",
       "      <th>Class 1</th>\n",
       "      <th>Class 2</th>\n",
       "      <th>Class 3</th>\n",
       "      <th>Class 4</th>\n",
       "      <th>Overall Accuracy</th>\n",
       "      <th>G-mean</th>\n",
       "      <th>Avg_Pfm</th>\n",
       "      <th>Training Time</th>\n",
       "      <th>Resample time</th>\n",
       "    </tr>\n",
       "  </thead>\n",
       "  <tbody>\n",
       "    <tr>\n",
       "      <th>LR-Weights</th>\n",
       "      <td>0.514462</td>\n",
       "      <td>0.430664</td>\n",
       "      <td>0.160773</td>\n",
       "      <td>0.358491</td>\n",
       "      <td>0.661765</td>\n",
       "      <td>0.487538</td>\n",
       "      <td>0.384926</td>\n",
       "      <td>0.436232</td>\n",
       "      <td>5.019</td>\n",
       "      <td>NaN</td>\n",
       "    </tr>\n",
       "    <tr>\n",
       "      <th>DT-Weights</th>\n",
       "      <td>0.835315</td>\n",
       "      <td>0.138184</td>\n",
       "      <td>0.087293</td>\n",
       "      <td>0.037736</td>\n",
       "      <td>0.191176</td>\n",
       "      <td>0.716700</td>\n",
       "      <td>0.148694</td>\n",
       "      <td>0.432697</td>\n",
       "      <td>1.564</td>\n",
       "      <td>NaN</td>\n",
       "    </tr>\n",
       "    <tr>\n",
       "      <th>RF-Weights</th>\n",
       "      <td>0.628174</td>\n",
       "      <td>0.367920</td>\n",
       "      <td>0.006630</td>\n",
       "      <td>0.286164</td>\n",
       "      <td>0.661765</td>\n",
       "      <td>0.567706</td>\n",
       "      <td>0.196124</td>\n",
       "      <td>0.381915</td>\n",
       "      <td>4.073</td>\n",
       "      <td>NaN</td>\n",
       "    </tr>\n",
       "    <tr>\n",
       "      <th>MLP-Weights</th>\n",
       "      <td>0.518311</td>\n",
       "      <td>0.416016</td>\n",
       "      <td>0.105525</td>\n",
       "      <td>0.339623</td>\n",
       "      <td>0.647059</td>\n",
       "      <td>0.486353</td>\n",
       "      <td>0.346576</td>\n",
       "      <td>0.416465</td>\n",
       "      <td>113.833</td>\n",
       "      <td>NaN</td>\n",
       "    </tr>\n",
       "    <tr>\n",
       "      <th>LR-ROS</th>\n",
       "      <td>0.516134</td>\n",
       "      <td>0.436523</td>\n",
       "      <td>0.149724</td>\n",
       "      <td>0.349057</td>\n",
       "      <td>0.647059</td>\n",
       "      <td>0.488933</td>\n",
       "      <td>0.377034</td>\n",
       "      <td>0.432983</td>\n",
       "      <td>21.084</td>\n",
       "      <td>0.114530</td>\n",
       "    </tr>\n",
       "    <tr>\n",
       "      <th>LR-SMOTE</th>\n",
       "      <td>0.515156</td>\n",
       "      <td>0.419434</td>\n",
       "      <td>0.150829</td>\n",
       "      <td>0.364780</td>\n",
       "      <td>0.602941</td>\n",
       "      <td>0.486380</td>\n",
       "      <td>0.372459</td>\n",
       "      <td>0.429419</td>\n",
       "      <td>20.791</td>\n",
       "      <td>14.726981</td>\n",
       "    </tr>\n",
       "    <tr>\n",
       "      <th>LR-BorderlineSMOTE</th>\n",
       "      <td>0.572091</td>\n",
       "      <td>0.420166</td>\n",
       "      <td>0.227624</td>\n",
       "      <td>0.295597</td>\n",
       "      <td>0.470588</td>\n",
       "      <td>0.536807</td>\n",
       "      <td>0.376955</td>\n",
       "      <td>0.456881</td>\n",
       "      <td>22.433</td>\n",
       "      <td>315.539367</td>\n",
       "    </tr>\n",
       "    <tr>\n",
       "      <th>LR-RUS</th>\n",
       "      <td>0.443365</td>\n",
       "      <td>0.297607</td>\n",
       "      <td>0.262431</td>\n",
       "      <td>0.361635</td>\n",
       "      <td>0.661765</td>\n",
       "      <td>0.418739</td>\n",
       "      <td>0.383424</td>\n",
       "      <td>0.401081</td>\n",
       "      <td>0.095</td>\n",
       "      <td>0.032193</td>\n",
       "    </tr>\n",
       "    <tr>\n",
       "      <th>LR-NearMiss</th>\n",
       "      <td>0.012112</td>\n",
       "      <td>0.079346</td>\n",
       "      <td>0.084530</td>\n",
       "      <td>0.411950</td>\n",
       "      <td>0.808824</td>\n",
       "      <td>0.027583</td>\n",
       "      <td>0.122037</td>\n",
       "      <td>0.074810</td>\n",
       "      <td>0.094</td>\n",
       "      <td>2.035056</td>\n",
       "    </tr>\n",
       "    <tr>\n",
       "      <th>LR-ROS-RUS</th>\n",
       "      <td>0.513548</td>\n",
       "      <td>0.432861</td>\n",
       "      <td>0.149724</td>\n",
       "      <td>0.361635</td>\n",
       "      <td>0.632353</td>\n",
       "      <td>0.486459</td>\n",
       "      <td>0.376956</td>\n",
       "      <td>0.431707</td>\n",
       "      <td>2.617</td>\n",
       "      <td>0.133523</td>\n",
       "    </tr>\n",
       "    <tr>\n",
       "      <th>LR-ROS-NearMiss</th>\n",
       "      <td>0.253825</td>\n",
       "      <td>0.370361</td>\n",
       "      <td>0.207182</td>\n",
       "      <td>0.371069</td>\n",
       "      <td>0.647059</td>\n",
       "      <td>0.265851</td>\n",
       "      <td>0.341965</td>\n",
       "      <td>0.303908</td>\n",
       "      <td>2.559</td>\n",
       "      <td>86.983823</td>\n",
       "    </tr>\n",
       "    <tr>\n",
       "      <th>LR-SMOTE-RUS</th>\n",
       "      <td>0.514872</td>\n",
       "      <td>0.402344</td>\n",
       "      <td>0.177901</td>\n",
       "      <td>0.361635</td>\n",
       "      <td>0.632353</td>\n",
       "      <td>0.485617</td>\n",
       "      <td>0.384717</td>\n",
       "      <td>0.435167</td>\n",
       "      <td>2.458</td>\n",
       "      <td>2.640245</td>\n",
       "    </tr>\n",
       "    <tr>\n",
       "      <th>LR-SMOTE-NearMiss</th>\n",
       "      <td>0.249535</td>\n",
       "      <td>0.384033</td>\n",
       "      <td>0.195028</td>\n",
       "      <td>0.371069</td>\n",
       "      <td>0.602941</td>\n",
       "      <td>0.263087</td>\n",
       "      <td>0.334399</td>\n",
       "      <td>0.298743</td>\n",
       "      <td>2.440</td>\n",
       "      <td>89.480640</td>\n",
       "    </tr>\n",
       "    <tr>\n",
       "      <th>LR-BorderlineSMOTE-RUS</th>\n",
       "      <td>0.546668</td>\n",
       "      <td>0.411133</td>\n",
       "      <td>0.254144</td>\n",
       "      <td>0.320755</td>\n",
       "      <td>0.470588</td>\n",
       "      <td>0.516094</td>\n",
       "      <td>0.386474</td>\n",
       "      <td>0.451284</td>\n",
       "      <td>2.609</td>\n",
       "      <td>150.434539</td>\n",
       "    </tr>\n",
       "    <tr>\n",
       "      <th>LR-BorderlineSMOTE-NearMiss</th>\n",
       "      <td>0.254045</td>\n",
       "      <td>0.425049</td>\n",
       "      <td>0.271271</td>\n",
       "      <td>0.327044</td>\n",
       "      <td>0.485294</td>\n",
       "      <td>0.274326</td>\n",
       "      <td>0.341565</td>\n",
       "      <td>0.307945</td>\n",
       "      <td>2.461</td>\n",
       "      <td>237.536927</td>\n",
       "    </tr>\n",
       "  </tbody>\n",
       "</table>\n",
       "</div>"
      ],
      "text/plain": [
       "                              Class 0   Class 1   Class 2   Class 3   Class 4  \\\n",
       "LR-Weights                   0.514462  0.430664  0.160773  0.358491  0.661765   \n",
       "DT-Weights                   0.835315  0.138184  0.087293  0.037736  0.191176   \n",
       "RF-Weights                   0.628174  0.367920  0.006630  0.286164  0.661765   \n",
       "MLP-Weights                  0.518311  0.416016  0.105525  0.339623  0.647059   \n",
       "LR-ROS                       0.516134  0.436523  0.149724  0.349057  0.647059   \n",
       "LR-SMOTE                     0.515156  0.419434  0.150829  0.364780  0.602941   \n",
       "LR-BorderlineSMOTE           0.572091  0.420166  0.227624  0.295597  0.470588   \n",
       "LR-RUS                       0.443365  0.297607  0.262431  0.361635  0.661765   \n",
       "LR-NearMiss                  0.012112  0.079346  0.084530  0.411950  0.808824   \n",
       "LR-ROS-RUS                   0.513548  0.432861  0.149724  0.361635  0.632353   \n",
       "LR-ROS-NearMiss              0.253825  0.370361  0.207182  0.371069  0.647059   \n",
       "LR-SMOTE-RUS                 0.514872  0.402344  0.177901  0.361635  0.632353   \n",
       "LR-SMOTE-NearMiss            0.249535  0.384033  0.195028  0.371069  0.602941   \n",
       "LR-BorderlineSMOTE-RUS       0.546668  0.411133  0.254144  0.320755  0.470588   \n",
       "LR-BorderlineSMOTE-NearMiss  0.254045  0.425049  0.271271  0.327044  0.485294   \n",
       "\n",
       "                             Overall Accuracy    G-mean   Avg_Pfm  \\\n",
       "LR-Weights                           0.487538  0.384926  0.436232   \n",
       "DT-Weights                           0.716700  0.148694  0.432697   \n",
       "RF-Weights                           0.567706  0.196124  0.381915   \n",
       "MLP-Weights                          0.486353  0.346576  0.416465   \n",
       "LR-ROS                               0.488933  0.377034  0.432983   \n",
       "LR-SMOTE                             0.486380  0.372459  0.429419   \n",
       "LR-BorderlineSMOTE                   0.536807  0.376955  0.456881   \n",
       "LR-RUS                               0.418739  0.383424  0.401081   \n",
       "LR-NearMiss                          0.027583  0.122037  0.074810   \n",
       "LR-ROS-RUS                           0.486459  0.376956  0.431707   \n",
       "LR-ROS-NearMiss                      0.265851  0.341965  0.303908   \n",
       "LR-SMOTE-RUS                         0.485617  0.384717  0.435167   \n",
       "LR-SMOTE-NearMiss                    0.263087  0.334399  0.298743   \n",
       "LR-BorderlineSMOTE-RUS               0.516094  0.386474  0.451284   \n",
       "LR-BorderlineSMOTE-NearMiss          0.274326  0.341565  0.307945   \n",
       "\n",
       "                             Training Time  Resample time  \n",
       "LR-Weights                           5.019            NaN  \n",
       "DT-Weights                           1.564            NaN  \n",
       "RF-Weights                           4.073            NaN  \n",
       "MLP-Weights                        113.833            NaN  \n",
       "LR-ROS                              21.084       0.114530  \n",
       "LR-SMOTE                            20.791      14.726981  \n",
       "LR-BorderlineSMOTE                  22.433     315.539367  \n",
       "LR-RUS                               0.095       0.032193  \n",
       "LR-NearMiss                          0.094       2.035056  \n",
       "LR-ROS-RUS                           2.617       0.133523  \n",
       "LR-ROS-NearMiss                      2.559      86.983823  \n",
       "LR-SMOTE-RUS                         2.458       2.640245  \n",
       "LR-SMOTE-NearMiss                    2.440      89.480640  \n",
       "LR-BorderlineSMOTE-RUS               2.609     150.434539  \n",
       "LR-BorderlineSMOTE-NearMiss          2.461     237.536927  "
      ]
     },
     "execution_count": 19,
     "metadata": {
      "tags": []
     },
     "output_type": "execute_result"
    }
   ],
   "source": [
    "for os_name in oses:\n",
    "    for us_name in uses:\n",
    "        print(os_name,'-',us_name)\n",
    "        if os_name == 'ROS': \n",
    "            res = RandomOverSampler(sampling_strategy=ss)\n",
    "        elif os_name == 'BorderlineSMOTE': \n",
    "            res = BorderlineSMOTE(sampling_strategy=ss)\n",
    "        else: res = SMOTE(sampling_strategy=ss)\n",
    "        start = time.time()\n",
    "        X_res, y_res = res.fit_resample(X_train, y_train)\n",
    "\n",
    "        if us_name == 'RUS': \n",
    "            res = RandomUnderSampler(sampling_strategy='majority')\n",
    "        else: res = NearMiss(sampling_strategy='majority')  \n",
    "        X_res, y_res = res.fit_resample(X_res, y_res)\n",
    "        end = time.time()\n",
    "        res_time = end-start\n",
    "\n",
    "        print('Resampled dataset shape %s' % Counter(y_res))\n",
    "        print('Resamling time %.2f sec' % (res_time))\n",
    "        LR = LogisticRegression(solver = 'lbfgs')\n",
    "        start = time.time()\n",
    "        LR.fit(X_res, y_res)\n",
    "        end= time.time()\n",
    "        # get the evaluation metrics\n",
    "        # use the model to make predictions with the test data\n",
    "        y_pred = LR.predict(X_test)\n",
    "        result = get_accs(y_test.values,y_pred, tr_time= end-start)\n",
    "        result['Resample time'] = res_time\n",
    "        result.index = ['LR-' + os_name + '-' + us_name]\n",
    "        rsts = rsts.append(result)\n",
    "\n",
    "print(rsts.iloc[:,5:])"
   ]
  },
  {
   "cell_type": "markdown",
   "metadata": {
    "id": "OwgGM78Bysq5"
   },
   "source": [
    "## Under sampling and then over sampling"
   ]
  },
  {
   "cell_type": "code",
   "execution_count": null,
   "metadata": {
    "id": "3bilJdcJzW-J",
    "outputId": "c0e27a3b-dda6-4dd0-a366-cd9f469a7d73"
   },
   "outputs": [
    {
     "name": "stdout",
     "output_type": "stream",
     "text": [
      "RUS - ROS\n",
      "Resampled dataset shape Counter({0: 13109, 1: 13109, 2: 13109, 3: 13109, 4: 13109})\n",
      "Resamling time 0.05 sec\n",
      "RUS - SMOTE\n",
      "Resampled dataset shape Counter({0: 13109, 1: 13109, 2: 13109, 3: 13109, 4: 13109})\n",
      "Resamling time 2.62 sec\n",
      "RUS - BorderlineSMOTE\n",
      "Resampled dataset shape Counter({0: 13109, 1: 13109, 2: 13109, 3: 13109, 4: 13109})\n",
      "Resamling time 24.61 sec\n",
      "NearMiss - ROS\n",
      "Resampled dataset shape Counter({0: 13109, 1: 13109, 2: 13109, 3: 13109, 4: 13109})\n",
      "Resamling time 1.71 sec\n",
      "NearMiss - SMOTE\n",
      "Resampled dataset shape Counter({0: 13109, 1: 13109, 2: 13109, 3: 13109, 4: 13109})\n",
      "Resamling time 4.27 sec\n",
      "NearMiss - BorderlineSMOTE\n",
      "Resampled dataset shape Counter({0: 13109, 1: 13109, 2: 13109, 3: 13109, 4: 13109})\n",
      "Resamling time 25.52 sec\n"
     ]
    },
    {
     "data": {
      "text/html": [
       "<div>\n",
       "<style scoped>\n",
       "    .dataframe tbody tr th:only-of-type {\n",
       "        vertical-align: middle;\n",
       "    }\n",
       "\n",
       "    .dataframe tbody tr th {\n",
       "        vertical-align: top;\n",
       "    }\n",
       "\n",
       "    .dataframe thead th {\n",
       "        text-align: right;\n",
       "    }\n",
       "</style>\n",
       "<table border=\"1\" class=\"dataframe\">\n",
       "  <thead>\n",
       "    <tr style=\"text-align: right;\">\n",
       "      <th></th>\n",
       "      <th>Class 0</th>\n",
       "      <th>Class 1</th>\n",
       "      <th>Class 2</th>\n",
       "      <th>Class 3</th>\n",
       "      <th>Class 4</th>\n",
       "      <th>Overall Accuracy</th>\n",
       "      <th>G-mean</th>\n",
       "      <th>Avg_Pfm</th>\n",
       "      <th>Training Time</th>\n",
       "      <th>Resample time</th>\n",
       "    </tr>\n",
       "  </thead>\n",
       "  <tbody>\n",
       "    <tr>\n",
       "      <th>LR-Weights</th>\n",
       "      <td>0.514462</td>\n",
       "      <td>0.430664</td>\n",
       "      <td>0.160773</td>\n",
       "      <td>0.358491</td>\n",
       "      <td>0.661765</td>\n",
       "      <td>0.487538</td>\n",
       "      <td>0.384926</td>\n",
       "      <td>0.436232</td>\n",
       "      <td>5.019</td>\n",
       "      <td>NaN</td>\n",
       "    </tr>\n",
       "    <tr>\n",
       "      <th>DT-Weights</th>\n",
       "      <td>0.835315</td>\n",
       "      <td>0.138184</td>\n",
       "      <td>0.087293</td>\n",
       "      <td>0.037736</td>\n",
       "      <td>0.191176</td>\n",
       "      <td>0.716700</td>\n",
       "      <td>0.148694</td>\n",
       "      <td>0.432697</td>\n",
       "      <td>1.564</td>\n",
       "      <td>NaN</td>\n",
       "    </tr>\n",
       "    <tr>\n",
       "      <th>RF-Weights</th>\n",
       "      <td>0.628174</td>\n",
       "      <td>0.367920</td>\n",
       "      <td>0.006630</td>\n",
       "      <td>0.286164</td>\n",
       "      <td>0.661765</td>\n",
       "      <td>0.567706</td>\n",
       "      <td>0.196124</td>\n",
       "      <td>0.381915</td>\n",
       "      <td>4.073</td>\n",
       "      <td>NaN</td>\n",
       "    </tr>\n",
       "    <tr>\n",
       "      <th>MLP-Weights</th>\n",
       "      <td>0.518311</td>\n",
       "      <td>0.416016</td>\n",
       "      <td>0.105525</td>\n",
       "      <td>0.339623</td>\n",
       "      <td>0.647059</td>\n",
       "      <td>0.486353</td>\n",
       "      <td>0.346576</td>\n",
       "      <td>0.416465</td>\n",
       "      <td>113.833</td>\n",
       "      <td>NaN</td>\n",
       "    </tr>\n",
       "    <tr>\n",
       "      <th>LR-ROS</th>\n",
       "      <td>0.516134</td>\n",
       "      <td>0.436523</td>\n",
       "      <td>0.149724</td>\n",
       "      <td>0.349057</td>\n",
       "      <td>0.647059</td>\n",
       "      <td>0.488933</td>\n",
       "      <td>0.377034</td>\n",
       "      <td>0.432983</td>\n",
       "      <td>21.084</td>\n",
       "      <td>0.114530</td>\n",
       "    </tr>\n",
       "    <tr>\n",
       "      <th>LR-SMOTE</th>\n",
       "      <td>0.515156</td>\n",
       "      <td>0.419434</td>\n",
       "      <td>0.150829</td>\n",
       "      <td>0.364780</td>\n",
       "      <td>0.602941</td>\n",
       "      <td>0.486380</td>\n",
       "      <td>0.372459</td>\n",
       "      <td>0.429419</td>\n",
       "      <td>20.791</td>\n",
       "      <td>14.726981</td>\n",
       "    </tr>\n",
       "    <tr>\n",
       "      <th>LR-BorderlineSMOTE</th>\n",
       "      <td>0.572091</td>\n",
       "      <td>0.420166</td>\n",
       "      <td>0.227624</td>\n",
       "      <td>0.295597</td>\n",
       "      <td>0.470588</td>\n",
       "      <td>0.536807</td>\n",
       "      <td>0.376955</td>\n",
       "      <td>0.456881</td>\n",
       "      <td>22.433</td>\n",
       "      <td>315.539367</td>\n",
       "    </tr>\n",
       "    <tr>\n",
       "      <th>LR-RUS</th>\n",
       "      <td>0.443365</td>\n",
       "      <td>0.297607</td>\n",
       "      <td>0.262431</td>\n",
       "      <td>0.361635</td>\n",
       "      <td>0.661765</td>\n",
       "      <td>0.418739</td>\n",
       "      <td>0.383424</td>\n",
       "      <td>0.401081</td>\n",
       "      <td>0.095</td>\n",
       "      <td>0.032193</td>\n",
       "    </tr>\n",
       "    <tr>\n",
       "      <th>LR-NearMiss</th>\n",
       "      <td>0.012112</td>\n",
       "      <td>0.079346</td>\n",
       "      <td>0.084530</td>\n",
       "      <td>0.411950</td>\n",
       "      <td>0.808824</td>\n",
       "      <td>0.027583</td>\n",
       "      <td>0.122037</td>\n",
       "      <td>0.074810</td>\n",
       "      <td>0.094</td>\n",
       "      <td>2.035056</td>\n",
       "    </tr>\n",
       "    <tr>\n",
       "      <th>LR-ROS-RUS</th>\n",
       "      <td>0.513548</td>\n",
       "      <td>0.432861</td>\n",
       "      <td>0.149724</td>\n",
       "      <td>0.361635</td>\n",
       "      <td>0.632353</td>\n",
       "      <td>0.486459</td>\n",
       "      <td>0.376956</td>\n",
       "      <td>0.431707</td>\n",
       "      <td>2.617</td>\n",
       "      <td>0.133523</td>\n",
       "    </tr>\n",
       "    <tr>\n",
       "      <th>LR-ROS-NearMiss</th>\n",
       "      <td>0.253825</td>\n",
       "      <td>0.370361</td>\n",
       "      <td>0.207182</td>\n",
       "      <td>0.371069</td>\n",
       "      <td>0.647059</td>\n",
       "      <td>0.265851</td>\n",
       "      <td>0.341965</td>\n",
       "      <td>0.303908</td>\n",
       "      <td>2.559</td>\n",
       "      <td>86.983823</td>\n",
       "    </tr>\n",
       "    <tr>\n",
       "      <th>LR-SMOTE-RUS</th>\n",
       "      <td>0.514872</td>\n",
       "      <td>0.402344</td>\n",
       "      <td>0.177901</td>\n",
       "      <td>0.361635</td>\n",
       "      <td>0.632353</td>\n",
       "      <td>0.485617</td>\n",
       "      <td>0.384717</td>\n",
       "      <td>0.435167</td>\n",
       "      <td>2.458</td>\n",
       "      <td>2.640245</td>\n",
       "    </tr>\n",
       "    <tr>\n",
       "      <th>LR-SMOTE-NearMiss</th>\n",
       "      <td>0.249535</td>\n",
       "      <td>0.384033</td>\n",
       "      <td>0.195028</td>\n",
       "      <td>0.371069</td>\n",
       "      <td>0.602941</td>\n",
       "      <td>0.263087</td>\n",
       "      <td>0.334399</td>\n",
       "      <td>0.298743</td>\n",
       "      <td>2.440</td>\n",
       "      <td>89.480640</td>\n",
       "    </tr>\n",
       "    <tr>\n",
       "      <th>LR-BorderlineSMOTE-RUS</th>\n",
       "      <td>0.546668</td>\n",
       "      <td>0.411133</td>\n",
       "      <td>0.254144</td>\n",
       "      <td>0.320755</td>\n",
       "      <td>0.470588</td>\n",
       "      <td>0.516094</td>\n",
       "      <td>0.386474</td>\n",
       "      <td>0.451284</td>\n",
       "      <td>2.609</td>\n",
       "      <td>150.434539</td>\n",
       "    </tr>\n",
       "    <tr>\n",
       "      <th>LR-BorderlineSMOTE-NearMiss</th>\n",
       "      <td>0.254045</td>\n",
       "      <td>0.425049</td>\n",
       "      <td>0.271271</td>\n",
       "      <td>0.327044</td>\n",
       "      <td>0.485294</td>\n",
       "      <td>0.274326</td>\n",
       "      <td>0.341565</td>\n",
       "      <td>0.307945</td>\n",
       "      <td>2.461</td>\n",
       "      <td>237.536927</td>\n",
       "    </tr>\n",
       "    <tr>\n",
       "      <th>LR-RUS-ROS</th>\n",
       "      <td>0.512822</td>\n",
       "      <td>0.431641</td>\n",
       "      <td>0.156906</td>\n",
       "      <td>0.352201</td>\n",
       "      <td>0.617647</td>\n",
       "      <td>0.485959</td>\n",
       "      <td>0.376402</td>\n",
       "      <td>0.431180</td>\n",
       "      <td>2.580</td>\n",
       "      <td>0.048999</td>\n",
       "    </tr>\n",
       "    <tr>\n",
       "      <th>LR-RUS-SMOTE</th>\n",
       "      <td>0.511624</td>\n",
       "      <td>0.411865</td>\n",
       "      <td>0.173481</td>\n",
       "      <td>0.361635</td>\n",
       "      <td>0.602941</td>\n",
       "      <td>0.483669</td>\n",
       "      <td>0.380453</td>\n",
       "      <td>0.432061</td>\n",
       "      <td>2.487</td>\n",
       "      <td>2.618048</td>\n",
       "    </tr>\n",
       "    <tr>\n",
       "      <th>LR-RUS-BorderlineSMOTE</th>\n",
       "      <td>0.535501</td>\n",
       "      <td>0.404785</td>\n",
       "      <td>0.224862</td>\n",
       "      <td>0.396226</td>\n",
       "      <td>0.500000</td>\n",
       "      <td>0.505382</td>\n",
       "      <td>0.395333</td>\n",
       "      <td>0.450358</td>\n",
       "      <td>2.594</td>\n",
       "      <td>24.608884</td>\n",
       "    </tr>\n",
       "    <tr>\n",
       "      <th>LR-NearMiss-ROS</th>\n",
       "      <td>0.273507</td>\n",
       "      <td>0.479492</td>\n",
       "      <td>0.187845</td>\n",
       "      <td>0.355346</td>\n",
       "      <td>0.632353</td>\n",
       "      <td>0.292960</td>\n",
       "      <td>0.353698</td>\n",
       "      <td>0.323329</td>\n",
       "      <td>2.521</td>\n",
       "      <td>1.708848</td>\n",
       "    </tr>\n",
       "    <tr>\n",
       "      <th>LR-NearMiss-SMOTE</th>\n",
       "      <td>0.269564</td>\n",
       "      <td>0.479004</td>\n",
       "      <td>0.187845</td>\n",
       "      <td>0.339623</td>\n",
       "      <td>0.617647</td>\n",
       "      <td>0.289459</td>\n",
       "      <td>0.347783</td>\n",
       "      <td>0.318621</td>\n",
       "      <td>2.497</td>\n",
       "      <td>4.265610</td>\n",
       "    </tr>\n",
       "    <tr>\n",
       "      <th>LR-NearMiss-BorderlineSMOTE</th>\n",
       "      <td>0.272151</td>\n",
       "      <td>0.476562</td>\n",
       "      <td>0.233149</td>\n",
       "      <td>0.367925</td>\n",
       "      <td>0.485294</td>\n",
       "      <td>0.293512</td>\n",
       "      <td>0.351937</td>\n",
       "      <td>0.322725</td>\n",
       "      <td>2.460</td>\n",
       "      <td>25.515481</td>\n",
       "    </tr>\n",
       "  </tbody>\n",
       "</table>\n",
       "</div>"
      ],
      "text/plain": [
       "                              Class 0   Class 1   Class 2   Class 3   Class 4  \\\n",
       "LR-Weights                   0.514462  0.430664  0.160773  0.358491  0.661765   \n",
       "DT-Weights                   0.835315  0.138184  0.087293  0.037736  0.191176   \n",
       "RF-Weights                   0.628174  0.367920  0.006630  0.286164  0.661765   \n",
       "MLP-Weights                  0.518311  0.416016  0.105525  0.339623  0.647059   \n",
       "LR-ROS                       0.516134  0.436523  0.149724  0.349057  0.647059   \n",
       "LR-SMOTE                     0.515156  0.419434  0.150829  0.364780  0.602941   \n",
       "LR-BorderlineSMOTE           0.572091  0.420166  0.227624  0.295597  0.470588   \n",
       "LR-RUS                       0.443365  0.297607  0.262431  0.361635  0.661765   \n",
       "LR-NearMiss                  0.012112  0.079346  0.084530  0.411950  0.808824   \n",
       "LR-ROS-RUS                   0.513548  0.432861  0.149724  0.361635  0.632353   \n",
       "LR-ROS-NearMiss              0.253825  0.370361  0.207182  0.371069  0.647059   \n",
       "LR-SMOTE-RUS                 0.514872  0.402344  0.177901  0.361635  0.632353   \n",
       "LR-SMOTE-NearMiss            0.249535  0.384033  0.195028  0.371069  0.602941   \n",
       "LR-BorderlineSMOTE-RUS       0.546668  0.411133  0.254144  0.320755  0.470588   \n",
       "LR-BorderlineSMOTE-NearMiss  0.254045  0.425049  0.271271  0.327044  0.485294   \n",
       "LR-RUS-ROS                   0.512822  0.431641  0.156906  0.352201  0.617647   \n",
       "LR-RUS-SMOTE                 0.511624  0.411865  0.173481  0.361635  0.602941   \n",
       "LR-RUS-BorderlineSMOTE       0.535501  0.404785  0.224862  0.396226  0.500000   \n",
       "LR-NearMiss-ROS              0.273507  0.479492  0.187845  0.355346  0.632353   \n",
       "LR-NearMiss-SMOTE            0.269564  0.479004  0.187845  0.339623  0.617647   \n",
       "LR-NearMiss-BorderlineSMOTE  0.272151  0.476562  0.233149  0.367925  0.485294   \n",
       "\n",
       "                             Overall Accuracy    G-mean   Avg_Pfm  \\\n",
       "LR-Weights                           0.487538  0.384926  0.436232   \n",
       "DT-Weights                           0.716700  0.148694  0.432697   \n",
       "RF-Weights                           0.567706  0.196124  0.381915   \n",
       "MLP-Weights                          0.486353  0.346576  0.416465   \n",
       "LR-ROS                               0.488933  0.377034  0.432983   \n",
       "LR-SMOTE                             0.486380  0.372459  0.429419   \n",
       "LR-BorderlineSMOTE                   0.536807  0.376955  0.456881   \n",
       "LR-RUS                               0.418739  0.383424  0.401081   \n",
       "LR-NearMiss                          0.027583  0.122037  0.074810   \n",
       "LR-ROS-RUS                           0.486459  0.376956  0.431707   \n",
       "LR-ROS-NearMiss                      0.265851  0.341965  0.303908   \n",
       "LR-SMOTE-RUS                         0.485617  0.384717  0.435167   \n",
       "LR-SMOTE-NearMiss                    0.263087  0.334399  0.298743   \n",
       "LR-BorderlineSMOTE-RUS               0.516094  0.386474  0.451284   \n",
       "LR-BorderlineSMOTE-NearMiss          0.274326  0.341565  0.307945   \n",
       "LR-RUS-ROS                           0.485959  0.376402  0.431180   \n",
       "LR-RUS-SMOTE                         0.483669  0.380453  0.432061   \n",
       "LR-RUS-BorderlineSMOTE               0.505382  0.395333  0.450358   \n",
       "LR-NearMiss-ROS                      0.292960  0.353698  0.323329   \n",
       "LR-NearMiss-SMOTE                    0.289459  0.347783  0.318621   \n",
       "LR-NearMiss-BorderlineSMOTE          0.293512  0.351937  0.322725   \n",
       "\n",
       "                             Training Time  Resample time  \n",
       "LR-Weights                           5.019            NaN  \n",
       "DT-Weights                           1.564            NaN  \n",
       "RF-Weights                           4.073            NaN  \n",
       "MLP-Weights                        113.833            NaN  \n",
       "LR-ROS                              21.084       0.114530  \n",
       "LR-SMOTE                            20.791      14.726981  \n",
       "LR-BorderlineSMOTE                  22.433     315.539367  \n",
       "LR-RUS                               0.095       0.032193  \n",
       "LR-NearMiss                          0.094       2.035056  \n",
       "LR-ROS-RUS                           2.617       0.133523  \n",
       "LR-ROS-NearMiss                      2.559      86.983823  \n",
       "LR-SMOTE-RUS                         2.458       2.640245  \n",
       "LR-SMOTE-NearMiss                    2.440      89.480640  \n",
       "LR-BorderlineSMOTE-RUS               2.609     150.434539  \n",
       "LR-BorderlineSMOTE-NearMiss          2.461     237.536927  \n",
       "LR-RUS-ROS                           2.580       0.048999  \n",
       "LR-RUS-SMOTE                         2.487       2.618048  \n",
       "LR-RUS-BorderlineSMOTE               2.594      24.608884  \n",
       "LR-NearMiss-ROS                      2.521       1.708848  \n",
       "LR-NearMiss-SMOTE                    2.497       4.265610  \n",
       "LR-NearMiss-BorderlineSMOTE          2.460      25.515481  "
      ]
     },
     "execution_count": 20,
     "metadata": {
      "tags": []
     },
     "output_type": "execute_result"
    }
   ],
   "source": [
    "for us_name in uses:\n",
    "    for os_name in oses:\n",
    "        print(us_name,'-',os_name)\n",
    "        if us_name == 'RUS': \n",
    "            res = RandomUnderSampler(sampling_strategy={0: y_dict[1]})\n",
    "        else: res = NearMiss(sampling_strategy={0: y_dict[1]})\n",
    "        start = time.time()\n",
    "        X_res, y_res = res.fit_resample(X_train, y_train)\n",
    "\n",
    "        if os_name == 'ROS': \n",
    "            res = RandomOverSampler(sampling_strategy='not majority')\n",
    "        elif os_name == 'BorderlineSMOTE': \n",
    "            res = BorderlineSMOTE(sampling_strategy='not majority')\n",
    "        else: res = SMOTE(sampling_strategy='not majority')\n",
    "        X_res, y_res = res.fit_resample(X_res, y_res)\n",
    "        end = time.time()\n",
    "        res_time = end-start\n",
    "        print('Resampled dataset shape %s' % Counter(y_res))\n",
    "        print('Resamling time %.2f sec' % (res_time))\n",
    "        LR = LogisticRegression(solver = 'lbfgs',\n",
    "                                #class_weight= 'balanced'\n",
    "                                )\n",
    "        start = time.time()\n",
    "        LR.fit(X_res, y_res)\n",
    "        end= time.time()\n",
    "        # get the evaluation metrics\n",
    "        # use the model to make predictions with the test data\n",
    "        y_pred = LR.predict(X_test)\n",
    "        result = get_accs(y_test.values,y_pred, tr_time= end-start)\n",
    "        result['Resample time'] = res_time\n",
    "        result.index = ['LR-' + us_name + '-' + os_name]\n",
    "        rsts = rsts.append(result)\n",
    "\n",
    "print(rsts.iloc[:,5:])"
   ]
  },
  {
   "cell_type": "markdown",
   "metadata": {
    "id": "isNcszWj59si"
   },
   "source": [
    "### Refining result\n",
    "NearMiss not only increased the computing time but also reduced the accuracy significantly\n",
    "Apply 5-fold cross validation\n"
   ]
  },
  {
   "cell_type": "code",
   "execution_count": null,
   "metadata": {
    "id": "6bKGCNn-s2-y",
    "outputId": "9eab3bac-c029-469c-f344-ec64c4151d2d"
   },
   "outputs": [
    {
     "name": "stdout",
     "output_type": "stream",
     "text": [
      "0\n",
      "sampling #1 ...\n",
      "sampling #2 ...\n",
      "training...\n",
      "1\n",
      "sampling #1 ...\n",
      "sampling #2 ...\n",
      "training...\n",
      "2\n",
      "sampling #1 ...\n",
      "sampling #2 ...\n",
      "training...\n",
      "3\n",
      "sampling #1 ...\n",
      "sampling #2 ...\n",
      "training...\n",
      "4\n",
      "sampling #1 ...\n",
      "sampling #2 ...\n",
      "training...\n",
      "5\n",
      "sampling #1 ...\n",
      "sampling #2 ...\n",
      "training...\n",
      "6\n",
      "sampling #1 ...\n"
     ]
    }
   ],
   "source": [
    "# Border → RUS\n",
    "bor2rus = pd.DataFrame()\n",
    "for i in range(10):\n",
    "    print(i)\n",
    "    start = time.time()\n",
    "    res = BorderlineSMOTE(sampling_strategy=ss)\n",
    "    print('sampling #1 ...')\n",
    "    X_res, y_res = res.fit_resample(X_train, y_train)\n",
    "    res = RandomUnderSampler(sampling_strategy='majority')\n",
    "    print('sampling #2 ...')\n",
    "    X_res, y_res = res.fit_resample(X_res, y_res)\n",
    "    end = time.time()\n",
    "    res_time = end-start\n",
    "    # training and prediction\n",
    "    start = time.time()\n",
    "    LR = LogisticRegression(solver = 'lbfgs',\n",
    "                            #class_weight= 'balanced'\n",
    "                            )\n",
    "    start = time.time()\n",
    "    print('training...')\n",
    "    LR.fit(X_res, y_res)\n",
    "    end= time.time()\n",
    "    # get the evaluation metrics\n",
    "    # use the model to make predictions with the test data\n",
    "    y_pred = LR.predict(X_test)\n",
    "    result = get_accs(y_test.values,y_pred, tr_time= end-start)\n",
    "    bor2rus = bor2rus.append(result)\n",
    "bor2rus"
   ]
  },
  {
   "cell_type": "code",
   "execution_count": null,
   "metadata": {
    "id": "Dw599cl6s2-y"
   },
   "outputs": [],
   "source": [
    "bor2rus.describe().iloc[1:3,5:]"
   ]
  },
  {
   "cell_type": "code",
   "execution_count": null,
   "metadata": {
    "id": "RSeUW9mU6cZP"
   },
   "outputs": [],
   "source": [
    "# RUS → Borderline\n",
    "rus2bor = pd.DataFrame()\n",
    "for i in range(10):\n",
    "    print(i)\n",
    "    start = time.time()\n",
    "    res = RandomUnderSampler(sampling_strategy={0: y_dict[1]})\n",
    "    print('sampling #1 ...')\n",
    "    X_res, y_res = res.fit_resample(X_train, y_train)\n",
    "    res = BorderlineSMOTE(sampling_strategy='not majority')\n",
    "    print('sampling #2 ...')\n",
    "    X_res, y_res = res.fit_resample(X_res, y_res)\n",
    "    end = time.time()\n",
    "    res_time = end-start\n",
    "    # training and prediction\n",
    "    start = time.time()\n",
    "    LR = LogisticRegression(solver = 'lbfgs',\n",
    "                            #class_weight= 'balanced'\n",
    "                            )\n",
    "    start = time.time()\n",
    "    print('training...')\n",
    "    LR.fit(X_res, y_res)\n",
    "    end= time.time()\n",
    "    # get the evaluation metrics\n",
    "    # use the model to make predictions with the test data\n",
    "    y_pred = LR.predict(X_test)\n",
    "    result = get_accs(y_test.values,y_pred, tr_time= end-start)\n",
    "    rus2bor = rus2bor.append(result)\n",
    "rus2bor"
   ]
  },
  {
   "cell_type": "code",
   "execution_count": null,
   "metadata": {
    "id": "wEDbSJFfs2-y"
   },
   "outputs": [],
   "source": [
    "print(rus2bor.describe().iloc[1:3,5:])\n",
    "print(bor2rus.describe().iloc[1:3,5:])"
   ]
  },
  {
   "cell_type": "code",
   "execution_count": null,
   "metadata": {
    "id": "WKyflcpEs2-y"
   },
   "outputs": [],
   "source": []
  },
  {
   "cell_type": "code",
   "execution_count": null,
   "metadata": {
    "id": "TLzRA9UHs2-y"
   },
   "outputs": [],
   "source": [
    "y_dict"
   ]
  },
  {
   "cell_type": "code",
   "execution_count": null,
   "metadata": {
    "id": "rRBcm3wHs2-y"
   },
   "outputs": [],
   "source": [
    "start = time.time()\n",
    "res = RandomUnderSampler(sampling_strategy={0: y_dict[1]})\n",
    "print('sampling #1 ...')\n",
    "X_res, y_res = res.fit_resample(X_train, y_train)\n",
    "res = BorderlineSMOTE(sampling_strategy='not majority')\n",
    "print('sampling #2 ...')\n",
    "X_res, y_res = res.fit_resample(X_res, y_res)\n",
    "print(Counter(y_res))\n",
    "end = time.time()\n",
    "res_time = end-start\n",
    "model = create_mlp()\n",
    "start = time.time()\n",
    "model.fit(X_res, y_res,\n",
    "                    callbacks=[es],\n",
    "                 #   class_weight = cls_wgt,\n",
    "                    validation_data=(X_val, y_val.values),\n",
    "                    verbose=1, epochs=50)\n",
    "end = time.time()\n",
    "# use the model to make predictions with the test data\n",
    "y_pred = model.predict(X_test)\n",
    "y_pred = np.argmax(y_pred, axis=1)\n",
    "# get the evaluation metrics\n",
    "result = get_accs(y_test.values, y_pred, end-start)\n",
    "result.index = ['MLP-RUS2BOR']\n",
    "rsts = rsts.append(result)\n",
    "print(rsts.iloc[:,5:])"
   ]
  },
  {
   "cell_type": "code",
   "execution_count": null,
   "metadata": {
    "id": "6TtR8EC_s2-y"
   },
   "outputs": [],
   "source": [
    "rsts.to_csv('VCA_Resamplings.csv')"
   ]
  }
 ],
 "metadata": {
  "colab": {
   "collapsed_sections": [],
   "include_colab_link": true,
   "name": "VCA_2.3_MLP_tuning.ipynb",
   "provenance": []
  },
  "kernelspec": {
   "display_name": "Python 3",
   "language": "python",
   "name": "python3"
  },
  "language_info": {
   "codemirror_mode": {
    "name": "ipython",
    "version": 3
   },
   "file_extension": ".py",
   "mimetype": "text/x-python",
   "name": "python",
   "nbconvert_exporter": "python",
   "pygments_lexer": "ipython3",
   "version": "3.6.10"
  }
 },
 "nbformat": 4,
 "nbformat_minor": 4
}
