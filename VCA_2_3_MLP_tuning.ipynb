{
  "nbformat": 4,
  "nbformat_minor": 0,
  "metadata": {
    "colab": {
      "name": "VCA_2.3_MLP_tuning.ipynb",
      "provenance": [],
      "collapsed_sections": [],
      "include_colab_link": true
    },
    "kernelspec": {
      "display_name": "Python 3",
      "language": "python",
      "name": "python3"
    },
    "language_info": {
      "codemirror_mode": {
        "name": "ipython",
        "version": 3
      },
      "file_extension": ".py",
      "mimetype": "text/x-python",
      "name": "python",
      "nbconvert_exporter": "python",
      "pygments_lexer": "ipython3",
      "version": "3.6.10"
    }
  },
  "cells": [
    {
      "cell_type": "markdown",
      "metadata": {
        "id": "view-in-github",
        "colab_type": "text"
      },
      "source": [
        "<a href=\"https://colab.research.google.com/github/duonghung86/Injury-severity-classification/blob/main/VCA_2_3_MLP_tuning.ipynb\" target=\"_parent\"><img src=\"https://colab.research.google.com/assets/colab-badge.svg\" alt=\"Open In Colab\"/></a>"
      ]
    },
    {
      "cell_type": "code",
      "metadata": {
        "colab": {
          "base_uri": "https://localhost:8080/"
        },
        "id": "Bo-3JT-1cl14",
        "outputId": "3e7619d4-25e1-4d51-c592-38088888b305"
      },
      "source": [
        "from psutil import virtual_memory,cpu_percent\n",
        "ram_gb = virtual_memory().total / 1e9\n",
        "print('Your runtime has {:.1f} gigabytes of available RAM\\n'.format(ram_gb))\n",
        "print('Current system-wide CPU utilization %: ',cpu_percent())\n",
        "#Remove all warning\n",
        "import warnings\n",
        "warnings.filterwarnings(\"ignore\")"
      ],
      "execution_count": null,
      "outputs": [
        {
          "output_type": "stream",
          "text": [
            "Your runtime has 13.7 gigabytes of available RAM\n",
            "\n",
            "Current system-wide CPU utilization %:  0.0\n"
          ],
          "name": "stdout"
        }
      ]
    },
    {
      "cell_type": "code",
      "metadata": {
        "colab": {
          "base_uri": "https://localhost:8080/"
        },
        "id": "Ond2r97pZvoF",
        "outputId": "19459639-7e7a-46db-8c8a-231f42a85bbf"
      },
      "source": [
        "# Basic packages\n",
        "import matplotlib.pyplot as plt\n",
        "import numpy as np\n",
        "import pandas as pd\n",
        "import seaborn as sns\n",
        "import time\n",
        "import os\n",
        "\n",
        "#INFO and WARNING messages are not printed\n",
        "os.environ['TF_CPP_MIN_LOG_LEVEL'] = '2' \n",
        "# Preprocessing\n",
        "from sklearn.preprocessing import StandardScaler # Standardization\n",
        "from sklearn.model_selection import train_test_split\n",
        "from sklearn.metrics import confusion_matrix\n",
        "\n",
        "# Machine learning algos\n",
        "from sklearn.linear_model import LogisticRegression\n",
        "from sklearn.tree import DecisionTreeClassifier\n",
        "from sklearn.ensemble import RandomForestClassifier\n",
        "\n",
        "from collections import Counter\n",
        "from imblearn.over_sampling import SMOTE, RandomOverSampler,BorderlineSMOTE\n",
        "from imblearn.under_sampling import RandomUnderSampler,NearMiss,EditedNearestNeighbours\n",
        "# Metrics\n",
        "from imblearn.metrics import geometric_mean_score\n",
        "# Tensorflow\n",
        "import tensorflow as tf\n",
        "print(tf.__version__)\n",
        "from tensorflow import feature_column  # for data wrangling\n",
        "from tensorflow.keras.layers import Dense,Dropout\n",
        "from tensorflow.keras.models import Sequential\n",
        "from tensorflow.keras.callbacks import EarlyStopping\n",
        "from tensorflow_addons.metrics import CohenKappa,F1Score\n",
        "from tensorboard.plugins.hparams import api as hp"
      ],
      "execution_count": null,
      "outputs": [
        {
          "output_type": "stream",
          "text": [
            "2.3.0\n"
          ],
          "name": "stdout"
        }
      ]
    },
    {
      "cell_type": "markdown",
      "metadata": {
        "id": "e9hBlSQVL561"
      },
      "source": [
        "# Load data"
      ]
    },
    {
      "cell_type": "code",
      "metadata": {
        "colab": {
          "base_uri": "https://localhost:8080/"
        },
        "id": "OMFYXIMkFSak",
        "outputId": "afeff64f-33cb-4b20-bb53-9182634c36ab"
      },
      "source": [
        "url = 'https://github.com/duonghung86/Injury-severity-classification/blob/main/Prepared%20Texas%202019.zip?raw=true' \n",
        "data_path = tf.keras.utils.get_file(origin=url, fname=url.split('/')[-1].split('?')[0], extract=True)\n",
        "data_path = data_path.replace('%20',' ').replace('.zip','.csv')"
      ],
      "execution_count": null,
      "outputs": [
        {
          "output_type": "stream",
          "text": [
            "Downloading data from https://github.com/duonghung86/Injury-severity-classification/blob/main/Prepared%20Texas%202019.zip?raw=true\n",
            "10592256/10587626 [==============================] - 0s 0us/step\n"
          ],
          "name": "stdout"
        }
      ]
    },
    {
      "cell_type": "code",
      "metadata": {
        "colab": {
          "base_uri": "https://localhost:8080/",
          "height": 315
        },
        "id": "UPLNCpWjZvoG",
        "outputId": "c0c746a4-1ff4-49ba-fb99-68553aa53d5f"
      },
      "source": [
        "# Load data\n",
        "df = pd.read_csv(data_path)\n",
        "print(df.shape)\n",
        "df.head(3)"
      ],
      "execution_count": null,
      "outputs": [
        {
          "output_type": "stream",
          "text": [
            "(949856, 19)\n"
          ],
          "name": "stdout"
        },
        {
          "output_type": "execute_result",
          "data": {
            "text/html": [
              "<div>\n",
              "<style scoped>\n",
              "    .dataframe tbody tr th:only-of-type {\n",
              "        vertical-align: middle;\n",
              "    }\n",
              "\n",
              "    .dataframe tbody tr th {\n",
              "        vertical-align: top;\n",
              "    }\n",
              "\n",
              "    .dataframe thead th {\n",
              "        text-align: right;\n",
              "    }\n",
              "</style>\n",
              "<table border=\"1\" class=\"dataframe\">\n",
              "  <thead>\n",
              "    <tr style=\"text-align: right;\">\n",
              "      <th></th>\n",
              "      <th>Prsn_Injry_Sev</th>\n",
              "      <th>Prsn_Age</th>\n",
              "      <th>Prsn_Gndr</th>\n",
              "      <th>Wthr_Cond</th>\n",
              "      <th>Light_Cond</th>\n",
              "      <th>Surf_Cond</th>\n",
              "      <th>Veh_Body_Styl</th>\n",
              "      <th>Prsn_Rest</th>\n",
              "      <th>Prsn_Drg_Rslt</th>\n",
              "      <th>Harm_Evnt</th>\n",
              "      <th>Rural</th>\n",
              "      <th>Crash_Speed_Limit</th>\n",
              "      <th>Road_Algn</th>\n",
              "      <th>Veh_Mod_Year</th>\n",
              "      <th>Weekend</th>\n",
              "      <th>Crash_season</th>\n",
              "      <th>Part_of_day</th>\n",
              "      <th>Collsn_type</th>\n",
              "      <th>Collsn_name</th>\n",
              "    </tr>\n",
              "  </thead>\n",
              "  <tbody>\n",
              "    <tr>\n",
              "      <th>0</th>\n",
              "      <td>0</td>\n",
              "      <td>26</td>\n",
              "      <td>MALE</td>\n",
              "      <td>CLEAR</td>\n",
              "      <td>DAYLIGHT</td>\n",
              "      <td>DRY</td>\n",
              "      <td>PASSENGER CAR, 2-DOOR</td>\n",
              "      <td>SHOULDER &amp; LAP BELT</td>\n",
              "      <td>Not Applicable</td>\n",
              "      <td>MOTOR VEHICLE IN TRANSPORT</td>\n",
              "      <td>0</td>\n",
              "      <td>-1</td>\n",
              "      <td>STRAIGHT, LEVEL</td>\n",
              "      <td>33</td>\n",
              "      <td>1</td>\n",
              "      <td>3</td>\n",
              "      <td>3</td>\n",
              "      <td>SAME DIRECTION</td>\n",
              "      <td>ONE STRAIGHT-ONE LEFT TURN</td>\n",
              "    </tr>\n",
              "    <tr>\n",
              "      <th>1</th>\n",
              "      <td>0</td>\n",
              "      <td>52</td>\n",
              "      <td>MALE</td>\n",
              "      <td>CLEAR</td>\n",
              "      <td>DAYLIGHT</td>\n",
              "      <td>DRY</td>\n",
              "      <td>PASSENGER CAR, 2-DOOR</td>\n",
              "      <td>SHOULDER &amp; LAP BELT</td>\n",
              "      <td>Not Applicable</td>\n",
              "      <td>MOTOR VEHICLE IN TRANSPORT</td>\n",
              "      <td>0</td>\n",
              "      <td>-1</td>\n",
              "      <td>STRAIGHT, LEVEL</td>\n",
              "      <td>19</td>\n",
              "      <td>1</td>\n",
              "      <td>3</td>\n",
              "      <td>3</td>\n",
              "      <td>SAME DIRECTION</td>\n",
              "      <td>ONE STRAIGHT-ONE LEFT TURN</td>\n",
              "    </tr>\n",
              "    <tr>\n",
              "      <th>2</th>\n",
              "      <td>0</td>\n",
              "      <td>27</td>\n",
              "      <td>FEMALE</td>\n",
              "      <td>CLEAR</td>\n",
              "      <td>DAYLIGHT</td>\n",
              "      <td>DRY</td>\n",
              "      <td>PICKUP</td>\n",
              "      <td>SHOULDER &amp; LAP BELT</td>\n",
              "      <td>Not Applicable</td>\n",
              "      <td>MOTOR VEHICLE IN TRANSPORT</td>\n",
              "      <td>1</td>\n",
              "      <td>-1</td>\n",
              "      <td>CURVE, LEVEL</td>\n",
              "      <td>16</td>\n",
              "      <td>1</td>\n",
              "      <td>3</td>\n",
              "      <td>4</td>\n",
              "      <td>SAME DIRECTION</td>\n",
              "      <td>BOTH LEFT TURN</td>\n",
              "    </tr>\n",
              "  </tbody>\n",
              "</table>\n",
              "</div>"
            ],
            "text/plain": [
              "   Prsn_Injry_Sev  Prsn_Age  ...     Collsn_type                 Collsn_name\n",
              "0               0        26  ...  SAME DIRECTION  ONE STRAIGHT-ONE LEFT TURN\n",
              "1               0        52  ...  SAME DIRECTION  ONE STRAIGHT-ONE LEFT TURN\n",
              "2               0        27  ...  SAME DIRECTION              BOTH LEFT TURN\n",
              "\n",
              "[3 rows x 19 columns]"
            ]
          },
          "metadata": {
            "tags": []
          },
          "execution_count": 4
        }
      ]
    },
    {
      "cell_type": "code",
      "metadata": {
        "colab": {
          "base_uri": "https://localhost:8080/"
        },
        "id": "1CDPbDPYZvoH",
        "outputId": "00905616-13db-4dde-9449-2fbfb7f1ec12"
      },
      "source": [
        "# Let's just use 80% of the total dataset\n",
        "df, _ = train_test_split(df, test_size=0.80,stratify = df['Prsn_Injry_Sev'])\n",
        "df.shape"
      ],
      "execution_count": null,
      "outputs": [
        {
          "output_type": "execute_result",
          "data": {
            "text/plain": [
              "(189971, 19)"
            ]
          },
          "metadata": {
            "tags": []
          },
          "execution_count": 5
        }
      ]
    },
    {
      "cell_type": "code",
      "metadata": {
        "colab": {
          "base_uri": "https://localhost:8080/"
        },
        "id": "FEKbv3R9ZvoH",
        "outputId": "eb6424c0-7ca8-4546-e41c-3a374e90b9a0"
      },
      "source": [
        "y = df['Prsn_Injry_Sev']\n",
        "print('All target values:')\n",
        "print(y.value_counts())\n",
        "X = df.drop(columns=['Prsn_Injry_Sev'])"
      ],
      "execution_count": null,
      "outputs": [
        {
          "output_type": "stream",
          "text": [
            "All target values:\n",
            "0    158512\n",
            "1     20482\n",
            "2      9048\n",
            "3      1590\n",
            "4       339\n",
            "Name: Prsn_Injry_Sev, dtype: int64\n"
          ],
          "name": "stdout"
        }
      ]
    },
    {
      "cell_type": "code",
      "metadata": {
        "colab": {
          "base_uri": "https://localhost:8080/"
        },
        "id": "AUDtEBDsZvoI",
        "outputId": "8129da6b-36a3-4a43-a61d-80f8a3fa2dfb"
      },
      "source": [
        "# %% Data wrangling -------------\n",
        "# Classify variable type\n",
        "emb_vars, ind_vars, num_vars = [], [], []\n",
        "for var in X.columns:\n",
        "    if X[var].dtypes == 'O':\n",
        "        if len(X[var].unique()) > 5:\n",
        "            emb_vars.append(var)\n",
        "        else:\n",
        "            ind_vars.append(var)\n",
        "    else:\n",
        "        num_vars.append(var)\n",
        "print('Numerical variables are ', num_vars)\n",
        "print('Categorical variables that have at most 5 categories are ', ind_vars)\n",
        "print('Categorical variables that have more than 5 categories are ', emb_vars)\n",
        "\n",
        "# Create feature columns\n",
        "feature_columns = []\n",
        "# numeric cols\n",
        "for header in num_vars:\n",
        "    feature_columns.append(feature_column.numeric_column(header))\n",
        "# bucketized cols\n",
        "# age = feature_column.numeric_column('Prsn_Age')\n",
        "# age_buckets = feature_column.bucketized_column(age, boundaries=[16, 22, 35, 55, 65])\n",
        "# feature_columns.append(age_buckets)\n",
        "# indicator_columns\n",
        "for col_name in ind_vars:\n",
        "    categorical_column = feature_column.categorical_column_with_vocabulary_list(\n",
        "        col_name, X[col_name].unique())\n",
        "    indicator_column = feature_column.indicator_column(categorical_column)\n",
        "    feature_columns.append(indicator_column)\n",
        "# embedding columns\n",
        "for col_name in emb_vars:\n",
        "    emb_column = feature_column.categorical_column_with_vocabulary_list(\n",
        "        col_name, X[col_name].unique())\n",
        "    col_embedding = feature_column.embedding_column(emb_column, dimension=5)\n",
        "    feature_columns.append(col_embedding)\n",
        "\n",
        "# Convert all setup into new dataset\n",
        "feature_layer = tf.keras.layers.DenseFeatures(feature_columns)\n",
        "X = feature_layer(dict(X)).numpy()\n",
        "print('New shape of the input data set:',X.shape)"
      ],
      "execution_count": null,
      "outputs": [
        {
          "output_type": "stream",
          "text": [
            "Numerical variables are  ['Prsn_Age', 'Rural', 'Crash_Speed_Limit', 'Veh_Mod_Year', 'Weekend', 'Crash_season', 'Part_of_day']\n",
            "Categorical variables that have at most 5 categories are  ['Prsn_Gndr', 'Prsn_Drg_Rslt', 'Collsn_type']\n",
            "Categorical variables that have more than 5 categories are  ['Wthr_Cond', 'Light_Cond', 'Surf_Cond', 'Veh_Body_Styl', 'Prsn_Rest', 'Harm_Evnt', 'Road_Algn', 'Collsn_name']\n",
            "New shape of the input data set: (189971, 59)\n"
          ],
          "name": "stdout"
        }
      ]
    },
    {
      "cell_type": "code",
      "metadata": {
        "colab": {
          "base_uri": "https://localhost:8080/"
        },
        "id": "1EiMyeEfZvoJ",
        "outputId": "65c5077e-f2aa-4e53-84e1-b543c597e72a"
      },
      "source": [
        "# %% Split the dataset\n",
        "X_train, X_test, y_train, y_test = train_test_split(X, y, test_size=0.2, stratify=y, random_state=48)\n",
        "X_train, X_val, y_train, y_val = train_test_split(X_train, y_train, test_size=0.2, stratify=y_train, random_state=48)\n",
        "\n",
        "print('Training features shape:', X_train.shape)\n",
        "print('Validation features shape:', X_val.shape)\n",
        "print('Test features shape:', X_test.shape)\n",
        "\n",
        "# %% standardization\n",
        "scaler = StandardScaler()\n",
        "X_train = scaler.fit_transform(X_train)\n",
        "X_val = scaler.transform(X_val)\n",
        "X_test = scaler.transform(X_test)"
      ],
      "execution_count": null,
      "outputs": [
        {
          "output_type": "stream",
          "text": [
            "Training features shape: (121580, 59)\n",
            "Validation features shape: (30396, 59)\n",
            "Test features shape: (37995, 59)\n"
          ],
          "name": "stdout"
        }
      ]
    },
    {
      "cell_type": "code",
      "metadata": {
        "id": "PgrT2IK1SkX7"
      },
      "source": [
        "# %% Function to compare the prediction and true labels\n",
        "def get_accs(label, prediction, tr_time,  show=False):\n",
        "    cm = confusion_matrix(label, prediction)\n",
        "    length = cm.shape[0]\n",
        "    num_cases = len(label)\n",
        "    # global accuracy\n",
        "    glb_acc = np.trace(cm) / len(label)\n",
        "    ind_accs = cm / np.sum(cm, axis=1)[:, np.newaxis]\n",
        "    accs = [ind_accs[i, i] for i in range(length)]\n",
        "    index = ['Class {}'.format(i) for i in range(length)]\n",
        "    # Global accuracy\n",
        "    accs.append(glb_acc)\n",
        "    #index.append\n",
        "    # G-mean\n",
        "    accs.append(geometric_mean_score(label, prediction, correction=0.001))\n",
        "    #index.append('G-mean')\n",
        "    # Average perf\n",
        "    accs.append((glb_acc + accs[-1]) / 2)\n",
        "    #index.append('Avg_Pfm')\n",
        "    # Training time\n",
        "    accs.append(np.round(tr_time,3))\n",
        "    index = index + ['Overall Accuracy','G-mean','Avg_Pfm','Training Time']\n",
        "    # Plot confusion matrix\n",
        "    plot_dict = {'Confusion matrix': (cm,'g'),\n",
        "                 'Normalized confusion matrix': (ind_accs,'.2f')}\n",
        "    if show:\n",
        "        plt.figure(figsize=(14, 6))\n",
        "        i = 1\n",
        "        for key, value in plot_dict.items():\n",
        "            plt.subplot(1, 2, i)\n",
        "            sns.heatmap(value[0], xticklabels=np.arange(length), yticklabels=np.arange(length),\n",
        "                        annot=True, fmt=value[1], cmap=\"YlGnBu\")\n",
        "            plt.xlabel('Prediction')\n",
        "            plt.ylabel('Label')\n",
        "            plt.title(key)\n",
        "            i+= 1\n",
        "        plt.show()\n",
        "    out = np.array(accs).reshape(1, len(accs))\n",
        "    return pd.DataFrame(out, columns=index)"
      ],
      "execution_count": null,
      "outputs": []
    },
    {
      "cell_type": "markdown",
      "metadata": {
        "id": "D244tv-Ms2-w"
      },
      "source": [
        "# Resampling"
      ]
    },
    {
      "cell_type": "code",
      "metadata": {
        "id": "nPX5l0Krs2-w",
        "colab": {
          "base_uri": "https://localhost:8080/"
        },
        "outputId": "10650fd9-e256-4d61-c654-a1a13b919ef6"
      },
      "source": [
        "y_dict = Counter(y_train)\n",
        "y_dict\n",
        "start = time.time()\n",
        "res = RandomUnderSampler(sampling_strategy={0: y_dict[1]})\n",
        "print('sampling #1 ...')\n",
        "X_train, y_train = res.fit_resample(X_train, y_train)\n",
        "res = BorderlineSMOTE(sampling_strategy='not majority')\n",
        "print('sampling #2 ...')\n",
        "X_train, y_train = res.fit_resample(X_train, y_train)\n",
        "end = time.time()\n",
        "res_time = end-start\n",
        "Counter(y_train)"
      ],
      "execution_count": null,
      "outputs": [
        {
          "output_type": "stream",
          "text": [
            "sampling #1 ...\n",
            "sampling #2 ...\n"
          ],
          "name": "stdout"
        },
        {
          "output_type": "execute_result",
          "data": {
            "text/plain": [
              "Counter({0: 13109, 1: 13109, 2: 13109, 3: 13109, 4: 13109})"
            ]
          },
          "metadata": {
            "tags": []
          },
          "execution_count": 10
        }
      ]
    },
    {
      "cell_type": "markdown",
      "metadata": {
        "id": "BSrmS5x56tRh"
      },
      "source": [
        "# Class weights"
      ]
    },
    {
      "cell_type": "code",
      "metadata": {
        "colab": {
          "base_uri": "https://localhost:8080/"
        },
        "id": "VLh6CRsV6suY",
        "outputId": "8492d75d-2358-460c-eb06-220f5ce89778"
      },
      "source": [
        "wgt='balanced'\n",
        "clfs = [LogisticRegression(solver = 'lbfgs',class_weight=wgt),\n",
        "        DecisionTreeClassifier(class_weight=wgt),\n",
        "        RandomForestClassifier(max_depth=4,class_weight=wgt)]\n",
        "clf_names = ['LR','DT','RF']\n",
        "rsts = pd.DataFrame()\n",
        "for model, name in zip(clfs,clf_names):\n",
        "    start = time.time()\n",
        "    print(name)\n",
        "    model.fit(X_train, y_train)\n",
        "    # use the model to make predictions with the test data\n",
        "    y_pred = model.predict(X_test)\n",
        "    end= time.time()\n",
        "    # get the evaluation metrics\n",
        "    result = get_accs(y_test.values, y_pred, end-start)\n",
        "    result.index = [name + '-Weights']\n",
        "    rsts = rsts.append(result)\n",
        "print(rsts.iloc[:,5:])"
      ],
      "execution_count": null,
      "outputs": [
        {
          "output_type": "stream",
          "text": [
            "LR\n",
            "DT\n",
            "RF\n",
            "            Overall Accuracy    G-mean   Avg_Pfm  Training Time\n",
            "LR-Weights          0.494407  0.381014  0.437710          6.602\n",
            "DT-Weights          0.421845  0.242640  0.332242          1.981\n",
            "RF-Weights          0.525253  0.323197  0.424225          6.024\n"
          ],
          "name": "stdout"
        }
      ]
    },
    {
      "cell_type": "markdown",
      "metadata": {
        "id": "tcO557SjN1DF"
      },
      "source": [
        "## MLP"
      ]
    },
    {
      "cell_type": "code",
      "metadata": {
        "colab": {
          "base_uri": "https://localhost:8080/"
        },
        "id": "KahwmhJvN0Uq",
        "outputId": "59927ad6-e1b2-4e9b-c96b-7828762b953d"
      },
      "source": [
        "# Add weights\n",
        "weights = len(y) / (5 * np.bincount(y))\n",
        "cls_wgt = dict(zip(np.arange(5), weights))\n",
        "cls_wgt"
      ],
      "execution_count": null,
      "outputs": [
        {
          "output_type": "execute_result",
          "data": {
            "text/plain": [
              "{0: 0.23969289391339457,\n",
              " 1: 1.8550043941021384,\n",
              " 2: 4.199182139699381,\n",
              " 3: 23.89572327044025,\n",
              " 4: 112.07728613569321}"
            ]
          },
          "metadata": {
            "tags": []
          },
          "execution_count": 13
        }
      ]
    },
    {
      "cell_type": "code",
      "metadata": {
        "id": "iW1wR4r7PFSW"
      },
      "source": [
        "es = EarlyStopping(monitor='val_cohen_kappa',\n",
        "                   verbose=1, patience=10, mode='max',\n",
        "                   restore_best_weights=True)"
      ],
      "execution_count": null,
      "outputs": []
    },
    {
      "cell_type": "code",
      "metadata": {
        "id": "CtX9XkqPO6BP"
      },
      "source": [
        "def create_mlp():\n",
        "    MLP = Sequential([Dense(15,activation='relu',\n",
        "                           input_dim=X_train.shape[1]),\n",
        "                      Dropout(0.5),\n",
        "                      Dense(5, activation='softmax')])\n",
        "    MLP.compile(optimizer='adam',\n",
        "                loss=tf.keras.losses.SparseCategoricalCrossentropy(from_logits=True),\n",
        "                metrics=[CohenKappa(num_classes=5,sparse_labels=True)])\n",
        "    return MLP"
      ],
      "execution_count": null,
      "outputs": []
    },
    {
      "cell_type": "code",
      "metadata": {
        "colab": {
          "base_uri": "https://localhost:8080/"
        },
        "id": "s-nBZq_VO6BP",
        "outputId": "73d86ebc-9ed9-4e3b-9fb4-f04a20146a6f"
      },
      "source": [
        "model = create_mlp()\n",
        "start = time.time()\n",
        "monitor = model.fit(X_train, y_train,\n",
        "                    callbacks=[es],\n",
        "                    validation_data=(X_val, y_val.values),\n",
        "                    verbose=0, epochs=50)\n",
        "end = time.time()\n",
        "# use the model to make predictions with the test data\n",
        "y_pred = model.predict(X_test)\n",
        "y_pred = np.argmax(y_pred, axis=1)\n",
        "# get the evaluation metrics\n",
        "result = get_accs(y_test.values, y_pred, end-start)\n",
        "result.index = ['MLP-Weights']\n",
        "rsts = rsts.append(result)\n",
        "print(rsts.iloc[:,5:])"
      ],
      "execution_count": null,
      "outputs": [
        {
          "output_type": "stream",
          "text": [
            "Restoring model weights from the end of the best epoch.\n",
            "Epoch 00019: early stopping\n",
            "             Overall Accuracy    G-mean   Avg_Pfm  Training Time\n",
            "LR-Weights           0.494407  0.381014  0.437710          6.602\n",
            "DT-Weights           0.421845  0.242640  0.332242          1.981\n",
            "RF-Weights           0.525253  0.323197  0.424225          6.024\n",
            "MLP-Weights          0.491933  0.371786  0.431860         52.559\n",
            "MLP-Weights          0.469851  0.368788  0.419319         34.385\n",
            "MLP-Weights          0.485064  0.386483  0.435773         58.082\n"
          ],
          "name": "stdout"
        }
      ]
    },
    {
      "cell_type": "code",
      "metadata": {
        "id": "EZTkYeDhvlxI"
      },
      "source": [
        ""
      ],
      "execution_count": null,
      "outputs": []
    },
    {
      "cell_type": "code",
      "metadata": {
        "id": "mfbvA0govCdA"
      },
      "source": [
        ""
      ],
      "execution_count": null,
      "outputs": []
    },
    {
      "cell_type": "code",
      "metadata": {
        "id": "kc599RHZtAVA",
        "colab": {
          "base_uri": "https://localhost:8080/",
          "height": 80
        },
        "outputId": "38ae348d-1dfd-40da-a77b-0a71d43a8359"
      },
      "source": [
        "from sklearn import svm\n",
        "X_svm = model.predict(X_train)\n",
        "y_svm = y_train\n",
        "clf = svm.SVC()\n",
        "clf.fit(X_svm, y_svm)\n",
        "y_pred2 = clf.predict(model.predict(X_test))\n",
        "get_accs(y_test.values, y_pred2, 0)"
      ],
      "execution_count": null,
      "outputs": [
        {
          "output_type": "execute_result",
          "data": {
            "text/html": [
              "<div>\n",
              "<style scoped>\n",
              "    .dataframe tbody tr th:only-of-type {\n",
              "        vertical-align: middle;\n",
              "    }\n",
              "\n",
              "    .dataframe tbody tr th {\n",
              "        vertical-align: top;\n",
              "    }\n",
              "\n",
              "    .dataframe thead th {\n",
              "        text-align: right;\n",
              "    }\n",
              "</style>\n",
              "<table border=\"1\" class=\"dataframe\">\n",
              "  <thead>\n",
              "    <tr style=\"text-align: right;\">\n",
              "      <th></th>\n",
              "      <th>Class 0</th>\n",
              "      <th>Class 1</th>\n",
              "      <th>Class 2</th>\n",
              "      <th>Class 3</th>\n",
              "      <th>Class 4</th>\n",
              "      <th>Overall Accuracy</th>\n",
              "      <th>G-mean</th>\n",
              "      <th>Avg_Pfm</th>\n",
              "      <th>Training Time</th>\n",
              "    </tr>\n",
              "  </thead>\n",
              "  <tbody>\n",
              "    <tr>\n",
              "      <th>0</th>\n",
              "      <td>0.489827</td>\n",
              "      <td>0.463379</td>\n",
              "      <td>0.187293</td>\n",
              "      <td>0.342767</td>\n",
              "      <td>0.5</td>\n",
              "      <td>0.471351</td>\n",
              "      <td>0.373675</td>\n",
              "      <td>0.422513</td>\n",
              "      <td>0.0</td>\n",
              "    </tr>\n",
              "  </tbody>\n",
              "</table>\n",
              "</div>"
            ],
            "text/plain": [
              "    Class 0   Class 1   Class 2  ...    G-mean   Avg_Pfm  Training Time\n",
              "0  0.489827  0.463379  0.187293  ...  0.373675  0.422513            0.0\n",
              "\n",
              "[1 rows x 9 columns]"
            ]
          },
          "metadata": {
            "tags": []
          },
          "execution_count": 28
        }
      ]
    },
    {
      "cell_type": "code",
      "metadata": {
        "id": "R4li-E0gunT0",
        "colab": {
          "base_uri": "https://localhost:8080/",
          "height": 80
        },
        "outputId": "db756ed6-05af-4097-ca56-d770f641c9ec"
      },
      "source": [
        "clf = LogisticRegression(solver = 'lbfgs')\n",
        "clf.fit(X_svm, y_svm)\n",
        "y_pred2 = clf.predict(model.predict(X_test))\n",
        "get_accs(y_test.values, y_pred2, 0)"
      ],
      "execution_count": null,
      "outputs": [
        {
          "output_type": "execute_result",
          "data": {
            "text/html": [
              "<div>\n",
              "<style scoped>\n",
              "    .dataframe tbody tr th:only-of-type {\n",
              "        vertical-align: middle;\n",
              "    }\n",
              "\n",
              "    .dataframe tbody tr th {\n",
              "        vertical-align: top;\n",
              "    }\n",
              "\n",
              "    .dataframe thead th {\n",
              "        text-align: right;\n",
              "    }\n",
              "</style>\n",
              "<table border=\"1\" class=\"dataframe\">\n",
              "  <thead>\n",
              "    <tr style=\"text-align: right;\">\n",
              "      <th></th>\n",
              "      <th>Class 0</th>\n",
              "      <th>Class 1</th>\n",
              "      <th>Class 2</th>\n",
              "      <th>Class 3</th>\n",
              "      <th>Class 4</th>\n",
              "      <th>Overall Accuracy</th>\n",
              "      <th>G-mean</th>\n",
              "      <th>Avg_Pfm</th>\n",
              "      <th>Training Time</th>\n",
              "    </tr>\n",
              "  </thead>\n",
              "  <tbody>\n",
              "    <tr>\n",
              "      <th>0</th>\n",
              "      <td>0.495064</td>\n",
              "      <td>0.456055</td>\n",
              "      <td>0.20442</td>\n",
              "      <td>0.323899</td>\n",
              "      <td>0.588235</td>\n",
              "      <td>0.475747</td>\n",
              "      <td>0.388001</td>\n",
              "      <td>0.431874</td>\n",
              "      <td>0.0</td>\n",
              "    </tr>\n",
              "  </tbody>\n",
              "</table>\n",
              "</div>"
            ],
            "text/plain": [
              "    Class 0   Class 1  Class 2  ...    G-mean   Avg_Pfm  Training Time\n",
              "0  0.495064  0.456055  0.20442  ...  0.388001  0.431874            0.0\n",
              "\n",
              "[1 rows x 9 columns]"
            ]
          },
          "metadata": {
            "tags": []
          },
          "execution_count": 27
        }
      ]
    },
    {
      "cell_type": "code",
      "metadata": {
        "id": "onMdU-gav11b",
        "colab": {
          "base_uri": "https://localhost:8080/",
          "height": 80
        },
        "outputId": "160f71c1-1388-4100-923f-d58be6617b76"
      },
      "source": [
        ""
      ],
      "execution_count": null,
      "outputs": [
        {
          "output_type": "execute_result",
          "data": {
            "text/html": [
              "<div>\n",
              "<style scoped>\n",
              "    .dataframe tbody tr th:only-of-type {\n",
              "        vertical-align: middle;\n",
              "    }\n",
              "\n",
              "    .dataframe tbody tr th {\n",
              "        vertical-align: top;\n",
              "    }\n",
              "\n",
              "    .dataframe thead th {\n",
              "        text-align: right;\n",
              "    }\n",
              "</style>\n",
              "<table border=\"1\" class=\"dataframe\">\n",
              "  <thead>\n",
              "    <tr style=\"text-align: right;\">\n",
              "      <th></th>\n",
              "      <th>Class 0</th>\n",
              "      <th>Class 1</th>\n",
              "      <th>Class 2</th>\n",
              "      <th>Class 3</th>\n",
              "      <th>Class 4</th>\n",
              "      <th>Overall Accuracy</th>\n",
              "      <th>G-mean</th>\n",
              "      <th>Avg_Pfm</th>\n",
              "      <th>Training Time</th>\n",
              "    </tr>\n",
              "  </thead>\n",
              "  <tbody>\n",
              "    <tr>\n",
              "      <th>0</th>\n",
              "      <td>0.509542</td>\n",
              "      <td>0.447754</td>\n",
              "      <td>0.185635</td>\n",
              "      <td>0.330189</td>\n",
              "      <td>0.588235</td>\n",
              "      <td>0.48609</td>\n",
              "      <td>0.382859</td>\n",
              "      <td>0.434475</td>\n",
              "      <td>0.0</td>\n",
              "    </tr>\n",
              "  </tbody>\n",
              "</table>\n",
              "</div>"
            ],
            "text/plain": [
              "    Class 0   Class 1   Class 2  ...    G-mean   Avg_Pfm  Training Time\n",
              "0  0.509542  0.447754  0.185635  ...  0.382859  0.434475            0.0\n",
              "\n",
              "[1 rows x 9 columns]"
            ]
          },
          "metadata": {
            "tags": []
          },
          "execution_count": 25
        }
      ]
    },
    {
      "cell_type": "code",
      "metadata": {
        "id": "OyF3btbcwIex",
        "colab": {
          "base_uri": "https://localhost:8080/",
          "height": 80
        },
        "outputId": "40950a73-07db-4954-a6cc-f47001fdf586"
      },
      "source": [
        "from sklearn.naive_bayes import GaussianNB\n",
        "clf = GaussianNB()\n",
        "clf.fit(X_svm, y_svm)\n",
        "y_pred2 = clf.predict(model.predict(X_test))\n",
        "get_accs(y_test.values, y_pred2, 0)"
      ],
      "execution_count": null,
      "outputs": [
        {
          "output_type": "execute_result",
          "data": {
            "text/html": [
              "<div>\n",
              "<style scoped>\n",
              "    .dataframe tbody tr th:only-of-type {\n",
              "        vertical-align: middle;\n",
              "    }\n",
              "\n",
              "    .dataframe tbody tr th {\n",
              "        vertical-align: top;\n",
              "    }\n",
              "\n",
              "    .dataframe thead th {\n",
              "        text-align: right;\n",
              "    }\n",
              "</style>\n",
              "<table border=\"1\" class=\"dataframe\">\n",
              "  <thead>\n",
              "    <tr style=\"text-align: right;\">\n",
              "      <th></th>\n",
              "      <th>Class 0</th>\n",
              "      <th>Class 1</th>\n",
              "      <th>Class 2</th>\n",
              "      <th>Class 3</th>\n",
              "      <th>Class 4</th>\n",
              "      <th>Overall Accuracy</th>\n",
              "      <th>G-mean</th>\n",
              "      <th>Avg_Pfm</th>\n",
              "      <th>Training Time</th>\n",
              "    </tr>\n",
              "  </thead>\n",
              "  <tbody>\n",
              "    <tr>\n",
              "      <th>0</th>\n",
              "      <td>0.559095</td>\n",
              "      <td>0.464111</td>\n",
              "      <td>0.122652</td>\n",
              "      <td>0.311321</td>\n",
              "      <td>0.588235</td>\n",
              "      <td>0.526043</td>\n",
              "      <td>0.357362</td>\n",
              "      <td>0.441702</td>\n",
              "      <td>0.0</td>\n",
              "    </tr>\n",
              "  </tbody>\n",
              "</table>\n",
              "</div>"
            ],
            "text/plain": [
              "    Class 0   Class 1   Class 2  ...    G-mean   Avg_Pfm  Training Time\n",
              "0  0.559095  0.464111  0.122652  ...  0.357362  0.441702            0.0\n",
              "\n",
              "[1 rows x 9 columns]"
            ]
          },
          "metadata": {
            "tags": []
          },
          "execution_count": 26
        }
      ]
    },
    {
      "cell_type": "code",
      "metadata": {
        "id": "lOQNyjuBwOLs"
      },
      "source": [
        ""
      ],
      "execution_count": null,
      "outputs": []
    },
    {
      "cell_type": "markdown",
      "metadata": {
        "id": "_hkgPBmo7Y37"
      },
      "source": [
        "# Normal Resampling"
      ]
    },
    {
      "cell_type": "code",
      "metadata": {
        "colab": {
          "base_uri": "https://localhost:8080/"
        },
        "id": "jrwRmaph7V8X",
        "outputId": "74da0f7c-ccac-4b92-b17c-d84e08244218"
      },
      "source": [
        "Resamples = {'ROS':             RandomOverSampler(), \n",
        "             'SMOTE':           SMOTE(random_state=42),\n",
        "             'BorderlineSMOTE': BorderlineSMOTE(),\n",
        "             'RUS': RandomUnderSampler(), \n",
        "             'NearMiss': NearMiss()\n",
        "             }\n",
        "for key,value in Resamples.items():\n",
        "    start = time.time()\n",
        "    X_res, y_res = value.fit_resample(X_train, y_train)\n",
        "    end = time.time()\n",
        "    res_time = end - start\n",
        "    print(key)\n",
        "    print('Resampled dataset shape %s' % Counter(y_res))\n",
        "    print('resampling time is {0:.2f} seconds'.format(res_time))\n",
        "    \n",
        "    #Logistic model\n",
        "    LR = LogisticRegression(solver = 'lbfgs')\n",
        "    start = time.time()\n",
        "    LR.fit(X_res, y_res)\n",
        "    end= time.time()\n",
        "    # get the evaluation metrics\n",
        "    # use the model to make predictions with the test data\n",
        "    y_pred = LR.predict(X_test)\n",
        "    result = get_accs(y_test.values,y_pred, tr_time= end-start)\n",
        "    result['Resample time'] = res_time\n",
        "    result.index = ['LR-' + key]\n",
        "    rsts = rsts.append(result)\n",
        "    \n",
        "print(rsts.iloc[:,5:])"
      ],
      "execution_count": null,
      "outputs": [
        {
          "output_type": "stream",
          "text": [
            "ROS\n",
            "Resampled dataset shape Counter({1: 101446, 0: 101446, 2: 101446, 3: 101446, 4: 101446})\n",
            "resampling time is 0.11 seconds\n",
            "SMOTE\n",
            "Resampled dataset shape Counter({1: 101446, 0: 101446, 2: 101446, 3: 101446, 4: 101446})\n",
            "resampling time is 14.73 seconds\n",
            "BorderlineSMOTE\n",
            "Resampled dataset shape Counter({1: 101446, 0: 101446, 2: 101446, 3: 101446, 4: 101446})\n",
            "resampling time is 315.54 seconds\n",
            "RUS\n",
            "Resampled dataset shape Counter({0: 217, 1: 217, 2: 217, 3: 217, 4: 217})\n",
            "resampling time is 0.03 seconds\n",
            "NearMiss\n",
            "Resampled dataset shape Counter({0: 217, 1: 217, 2: 217, 3: 217, 4: 217})\n",
            "resampling time is 2.04 seconds\n",
            "                    Overall Accuracy    G-mean   Avg_Pfm  Training Time  \\\n",
            "LR-Weights                  0.487538  0.384926  0.436232          5.019   \n",
            "DT-Weights                  0.716700  0.148694  0.432697          1.564   \n",
            "RF-Weights                  0.567706  0.196124  0.381915          4.073   \n",
            "MLP-Weights                 0.486353  0.346576  0.416465        113.833   \n",
            "LR-ROS                      0.488933  0.377034  0.432983         21.084   \n",
            "LR-SMOTE                    0.486380  0.372459  0.429419         20.791   \n",
            "LR-BorderlineSMOTE          0.536807  0.376955  0.456881         22.433   \n",
            "LR-RUS                      0.418739  0.383424  0.401081          0.095   \n",
            "LR-NearMiss                 0.027583  0.122037  0.074810          0.094   \n",
            "\n",
            "                    Resample time  \n",
            "LR-Weights                    NaN  \n",
            "DT-Weights                    NaN  \n",
            "RF-Weights                    NaN  \n",
            "MLP-Weights                   NaN  \n",
            "LR-ROS                   0.114530  \n",
            "LR-SMOTE                14.726981  \n",
            "LR-BorderlineSMOTE     315.539367  \n",
            "LR-RUS                   0.032193  \n",
            "LR-NearMiss              2.035056  \n"
          ],
          "name": "stdout"
        }
      ]
    },
    {
      "cell_type": "code",
      "metadata": {
        "id": "XWG5QQmz9dnD"
      },
      "source": [
        "#rsts = rsts.iloc[:9,:]\n",
        "#rsts"
      ],
      "execution_count": null,
      "outputs": []
    },
    {
      "cell_type": "markdown",
      "metadata": {
        "id": "rleqZyMvVQ4e"
      },
      "source": [
        "# Hybrid Resampling\n"
      ]
    },
    {
      "cell_type": "code",
      "metadata": {
        "id": "ebtofqp5Xo21",
        "outputId": "95786064-44e8-4f22-b2b8-46641c8ff090"
      },
      "source": [
        "y_dict = Counter(y_train)\n",
        "y_dict"
      ],
      "execution_count": null,
      "outputs": [
        {
          "output_type": "execute_result",
          "data": {
            "text/plain": [
              "Counter({1: 13109, 0: 101446, 2: 5790, 3: 1018, 4: 217})"
            ]
          },
          "metadata": {
            "tags": []
          },
          "execution_count": 17
        }
      ]
    },
    {
      "cell_type": "markdown",
      "metadata": {
        "id": "m-dAKpcXyy3w"
      },
      "source": [
        "## Oversampling and then undersampling"
      ]
    },
    {
      "cell_type": "code",
      "metadata": {
        "id": "uTMR48M-b-xZ"
      },
      "source": [
        "ss = {}\n",
        "for i in range(2,5):\n",
        "    ss[i] = y_dict[1]\n",
        "oses = ['ROS','SMOTE','BorderlineSMOTE']\n",
        "uses = ['RUS','NearMiss']"
      ],
      "execution_count": null,
      "outputs": []
    },
    {
      "cell_type": "code",
      "metadata": {
        "id": "te2eBMF3hRVt",
        "outputId": "96605a86-6671-4729-e1ac-54250c70e48e"
      },
      "source": [
        "for os_name in oses:\n",
        "    for us_name in uses:\n",
        "        print(os_name,'-',us_name)\n",
        "        if os_name == 'ROS': \n",
        "            res = RandomOverSampler(sampling_strategy=ss)\n",
        "        elif os_name == 'BorderlineSMOTE': \n",
        "            res = BorderlineSMOTE(sampling_strategy=ss)\n",
        "        else: res = SMOTE(sampling_strategy=ss)\n",
        "        start = time.time()\n",
        "        X_res, y_res = res.fit_resample(X_train, y_train)\n",
        "\n",
        "        if us_name == 'RUS': \n",
        "            res = RandomUnderSampler(sampling_strategy='majority')\n",
        "        else: res = NearMiss(sampling_strategy='majority')  \n",
        "        X_res, y_res = res.fit_resample(X_res, y_res)\n",
        "        end = time.time()\n",
        "        res_time = end-start\n",
        "\n",
        "        print('Resampled dataset shape %s' % Counter(y_res))\n",
        "        print('Resamling time %.2f sec' % (res_time))\n",
        "        LR = LogisticRegression(solver = 'lbfgs')\n",
        "        start = time.time()\n",
        "        LR.fit(X_res, y_res)\n",
        "        end= time.time()\n",
        "        # get the evaluation metrics\n",
        "        # use the model to make predictions with the test data\n",
        "        y_pred = LR.predict(X_test)\n",
        "        result = get_accs(y_test.values,y_pred, tr_time= end-start)\n",
        "        result['Resample time'] = res_time\n",
        "        result.index = ['LR-' + os_name + '-' + us_name]\n",
        "        rsts = rsts.append(result)\n",
        "\n",
        "print(rsts.iloc[:,5:])"
      ],
      "execution_count": null,
      "outputs": [
        {
          "output_type": "stream",
          "text": [
            "ROS - RUS\n",
            "Resampled dataset shape Counter({0: 13109, 1: 13109, 2: 13109, 3: 13109, 4: 13109})\n",
            "Resamling time 0.13 sec\n",
            "ROS - NearMiss\n",
            "Resampled dataset shape Counter({0: 13109, 1: 13109, 2: 13109, 3: 13109, 4: 13109})\n",
            "Resamling time 86.98 sec\n",
            "SMOTE - RUS\n",
            "Resampled dataset shape Counter({0: 13109, 1: 13109, 2: 13109, 3: 13109, 4: 13109})\n",
            "Resamling time 2.64 sec\n",
            "SMOTE - NearMiss\n",
            "Resampled dataset shape Counter({0: 13109, 1: 13109, 2: 13109, 3: 13109, 4: 13109})\n",
            "Resamling time 89.48 sec\n",
            "BorderlineSMOTE - RUS\n",
            "Resampled dataset shape Counter({0: 13109, 1: 13109, 2: 13109, 3: 13109, 4: 13109})\n",
            "Resamling time 150.43 sec\n",
            "BorderlineSMOTE - NearMiss\n",
            "Resampled dataset shape Counter({0: 13109, 1: 13109, 2: 13109, 3: 13109, 4: 13109})\n",
            "Resamling time 237.54 sec\n"
          ],
          "name": "stdout"
        },
        {
          "output_type": "execute_result",
          "data": {
            "text/html": [
              "<div>\n",
              "<style scoped>\n",
              "    .dataframe tbody tr th:only-of-type {\n",
              "        vertical-align: middle;\n",
              "    }\n",
              "\n",
              "    .dataframe tbody tr th {\n",
              "        vertical-align: top;\n",
              "    }\n",
              "\n",
              "    .dataframe thead th {\n",
              "        text-align: right;\n",
              "    }\n",
              "</style>\n",
              "<table border=\"1\" class=\"dataframe\">\n",
              "  <thead>\n",
              "    <tr style=\"text-align: right;\">\n",
              "      <th></th>\n",
              "      <th>Class 0</th>\n",
              "      <th>Class 1</th>\n",
              "      <th>Class 2</th>\n",
              "      <th>Class 3</th>\n",
              "      <th>Class 4</th>\n",
              "      <th>Overall Accuracy</th>\n",
              "      <th>G-mean</th>\n",
              "      <th>Avg_Pfm</th>\n",
              "      <th>Training Time</th>\n",
              "      <th>Resample time</th>\n",
              "    </tr>\n",
              "  </thead>\n",
              "  <tbody>\n",
              "    <tr>\n",
              "      <th>LR-Weights</th>\n",
              "      <td>0.514462</td>\n",
              "      <td>0.430664</td>\n",
              "      <td>0.160773</td>\n",
              "      <td>0.358491</td>\n",
              "      <td>0.661765</td>\n",
              "      <td>0.487538</td>\n",
              "      <td>0.384926</td>\n",
              "      <td>0.436232</td>\n",
              "      <td>5.019</td>\n",
              "      <td>NaN</td>\n",
              "    </tr>\n",
              "    <tr>\n",
              "      <th>DT-Weights</th>\n",
              "      <td>0.835315</td>\n",
              "      <td>0.138184</td>\n",
              "      <td>0.087293</td>\n",
              "      <td>0.037736</td>\n",
              "      <td>0.191176</td>\n",
              "      <td>0.716700</td>\n",
              "      <td>0.148694</td>\n",
              "      <td>0.432697</td>\n",
              "      <td>1.564</td>\n",
              "      <td>NaN</td>\n",
              "    </tr>\n",
              "    <tr>\n",
              "      <th>RF-Weights</th>\n",
              "      <td>0.628174</td>\n",
              "      <td>0.367920</td>\n",
              "      <td>0.006630</td>\n",
              "      <td>0.286164</td>\n",
              "      <td>0.661765</td>\n",
              "      <td>0.567706</td>\n",
              "      <td>0.196124</td>\n",
              "      <td>0.381915</td>\n",
              "      <td>4.073</td>\n",
              "      <td>NaN</td>\n",
              "    </tr>\n",
              "    <tr>\n",
              "      <th>MLP-Weights</th>\n",
              "      <td>0.518311</td>\n",
              "      <td>0.416016</td>\n",
              "      <td>0.105525</td>\n",
              "      <td>0.339623</td>\n",
              "      <td>0.647059</td>\n",
              "      <td>0.486353</td>\n",
              "      <td>0.346576</td>\n",
              "      <td>0.416465</td>\n",
              "      <td>113.833</td>\n",
              "      <td>NaN</td>\n",
              "    </tr>\n",
              "    <tr>\n",
              "      <th>LR-ROS</th>\n",
              "      <td>0.516134</td>\n",
              "      <td>0.436523</td>\n",
              "      <td>0.149724</td>\n",
              "      <td>0.349057</td>\n",
              "      <td>0.647059</td>\n",
              "      <td>0.488933</td>\n",
              "      <td>0.377034</td>\n",
              "      <td>0.432983</td>\n",
              "      <td>21.084</td>\n",
              "      <td>0.114530</td>\n",
              "    </tr>\n",
              "    <tr>\n",
              "      <th>LR-SMOTE</th>\n",
              "      <td>0.515156</td>\n",
              "      <td>0.419434</td>\n",
              "      <td>0.150829</td>\n",
              "      <td>0.364780</td>\n",
              "      <td>0.602941</td>\n",
              "      <td>0.486380</td>\n",
              "      <td>0.372459</td>\n",
              "      <td>0.429419</td>\n",
              "      <td>20.791</td>\n",
              "      <td>14.726981</td>\n",
              "    </tr>\n",
              "    <tr>\n",
              "      <th>LR-BorderlineSMOTE</th>\n",
              "      <td>0.572091</td>\n",
              "      <td>0.420166</td>\n",
              "      <td>0.227624</td>\n",
              "      <td>0.295597</td>\n",
              "      <td>0.470588</td>\n",
              "      <td>0.536807</td>\n",
              "      <td>0.376955</td>\n",
              "      <td>0.456881</td>\n",
              "      <td>22.433</td>\n",
              "      <td>315.539367</td>\n",
              "    </tr>\n",
              "    <tr>\n",
              "      <th>LR-RUS</th>\n",
              "      <td>0.443365</td>\n",
              "      <td>0.297607</td>\n",
              "      <td>0.262431</td>\n",
              "      <td>0.361635</td>\n",
              "      <td>0.661765</td>\n",
              "      <td>0.418739</td>\n",
              "      <td>0.383424</td>\n",
              "      <td>0.401081</td>\n",
              "      <td>0.095</td>\n",
              "      <td>0.032193</td>\n",
              "    </tr>\n",
              "    <tr>\n",
              "      <th>LR-NearMiss</th>\n",
              "      <td>0.012112</td>\n",
              "      <td>0.079346</td>\n",
              "      <td>0.084530</td>\n",
              "      <td>0.411950</td>\n",
              "      <td>0.808824</td>\n",
              "      <td>0.027583</td>\n",
              "      <td>0.122037</td>\n",
              "      <td>0.074810</td>\n",
              "      <td>0.094</td>\n",
              "      <td>2.035056</td>\n",
              "    </tr>\n",
              "    <tr>\n",
              "      <th>LR-ROS-RUS</th>\n",
              "      <td>0.513548</td>\n",
              "      <td>0.432861</td>\n",
              "      <td>0.149724</td>\n",
              "      <td>0.361635</td>\n",
              "      <td>0.632353</td>\n",
              "      <td>0.486459</td>\n",
              "      <td>0.376956</td>\n",
              "      <td>0.431707</td>\n",
              "      <td>2.617</td>\n",
              "      <td>0.133523</td>\n",
              "    </tr>\n",
              "    <tr>\n",
              "      <th>LR-ROS-NearMiss</th>\n",
              "      <td>0.253825</td>\n",
              "      <td>0.370361</td>\n",
              "      <td>0.207182</td>\n",
              "      <td>0.371069</td>\n",
              "      <td>0.647059</td>\n",
              "      <td>0.265851</td>\n",
              "      <td>0.341965</td>\n",
              "      <td>0.303908</td>\n",
              "      <td>2.559</td>\n",
              "      <td>86.983823</td>\n",
              "    </tr>\n",
              "    <tr>\n",
              "      <th>LR-SMOTE-RUS</th>\n",
              "      <td>0.514872</td>\n",
              "      <td>0.402344</td>\n",
              "      <td>0.177901</td>\n",
              "      <td>0.361635</td>\n",
              "      <td>0.632353</td>\n",
              "      <td>0.485617</td>\n",
              "      <td>0.384717</td>\n",
              "      <td>0.435167</td>\n",
              "      <td>2.458</td>\n",
              "      <td>2.640245</td>\n",
              "    </tr>\n",
              "    <tr>\n",
              "      <th>LR-SMOTE-NearMiss</th>\n",
              "      <td>0.249535</td>\n",
              "      <td>0.384033</td>\n",
              "      <td>0.195028</td>\n",
              "      <td>0.371069</td>\n",
              "      <td>0.602941</td>\n",
              "      <td>0.263087</td>\n",
              "      <td>0.334399</td>\n",
              "      <td>0.298743</td>\n",
              "      <td>2.440</td>\n",
              "      <td>89.480640</td>\n",
              "    </tr>\n",
              "    <tr>\n",
              "      <th>LR-BorderlineSMOTE-RUS</th>\n",
              "      <td>0.546668</td>\n",
              "      <td>0.411133</td>\n",
              "      <td>0.254144</td>\n",
              "      <td>0.320755</td>\n",
              "      <td>0.470588</td>\n",
              "      <td>0.516094</td>\n",
              "      <td>0.386474</td>\n",
              "      <td>0.451284</td>\n",
              "      <td>2.609</td>\n",
              "      <td>150.434539</td>\n",
              "    </tr>\n",
              "    <tr>\n",
              "      <th>LR-BorderlineSMOTE-NearMiss</th>\n",
              "      <td>0.254045</td>\n",
              "      <td>0.425049</td>\n",
              "      <td>0.271271</td>\n",
              "      <td>0.327044</td>\n",
              "      <td>0.485294</td>\n",
              "      <td>0.274326</td>\n",
              "      <td>0.341565</td>\n",
              "      <td>0.307945</td>\n",
              "      <td>2.461</td>\n",
              "      <td>237.536927</td>\n",
              "    </tr>\n",
              "  </tbody>\n",
              "</table>\n",
              "</div>"
            ],
            "text/plain": [
              "                              Class 0   Class 1   Class 2   Class 3   Class 4  \\\n",
              "LR-Weights                   0.514462  0.430664  0.160773  0.358491  0.661765   \n",
              "DT-Weights                   0.835315  0.138184  0.087293  0.037736  0.191176   \n",
              "RF-Weights                   0.628174  0.367920  0.006630  0.286164  0.661765   \n",
              "MLP-Weights                  0.518311  0.416016  0.105525  0.339623  0.647059   \n",
              "LR-ROS                       0.516134  0.436523  0.149724  0.349057  0.647059   \n",
              "LR-SMOTE                     0.515156  0.419434  0.150829  0.364780  0.602941   \n",
              "LR-BorderlineSMOTE           0.572091  0.420166  0.227624  0.295597  0.470588   \n",
              "LR-RUS                       0.443365  0.297607  0.262431  0.361635  0.661765   \n",
              "LR-NearMiss                  0.012112  0.079346  0.084530  0.411950  0.808824   \n",
              "LR-ROS-RUS                   0.513548  0.432861  0.149724  0.361635  0.632353   \n",
              "LR-ROS-NearMiss              0.253825  0.370361  0.207182  0.371069  0.647059   \n",
              "LR-SMOTE-RUS                 0.514872  0.402344  0.177901  0.361635  0.632353   \n",
              "LR-SMOTE-NearMiss            0.249535  0.384033  0.195028  0.371069  0.602941   \n",
              "LR-BorderlineSMOTE-RUS       0.546668  0.411133  0.254144  0.320755  0.470588   \n",
              "LR-BorderlineSMOTE-NearMiss  0.254045  0.425049  0.271271  0.327044  0.485294   \n",
              "\n",
              "                             Overall Accuracy    G-mean   Avg_Pfm  \\\n",
              "LR-Weights                           0.487538  0.384926  0.436232   \n",
              "DT-Weights                           0.716700  0.148694  0.432697   \n",
              "RF-Weights                           0.567706  0.196124  0.381915   \n",
              "MLP-Weights                          0.486353  0.346576  0.416465   \n",
              "LR-ROS                               0.488933  0.377034  0.432983   \n",
              "LR-SMOTE                             0.486380  0.372459  0.429419   \n",
              "LR-BorderlineSMOTE                   0.536807  0.376955  0.456881   \n",
              "LR-RUS                               0.418739  0.383424  0.401081   \n",
              "LR-NearMiss                          0.027583  0.122037  0.074810   \n",
              "LR-ROS-RUS                           0.486459  0.376956  0.431707   \n",
              "LR-ROS-NearMiss                      0.265851  0.341965  0.303908   \n",
              "LR-SMOTE-RUS                         0.485617  0.384717  0.435167   \n",
              "LR-SMOTE-NearMiss                    0.263087  0.334399  0.298743   \n",
              "LR-BorderlineSMOTE-RUS               0.516094  0.386474  0.451284   \n",
              "LR-BorderlineSMOTE-NearMiss          0.274326  0.341565  0.307945   \n",
              "\n",
              "                             Training Time  Resample time  \n",
              "LR-Weights                           5.019            NaN  \n",
              "DT-Weights                           1.564            NaN  \n",
              "RF-Weights                           4.073            NaN  \n",
              "MLP-Weights                        113.833            NaN  \n",
              "LR-ROS                              21.084       0.114530  \n",
              "LR-SMOTE                            20.791      14.726981  \n",
              "LR-BorderlineSMOTE                  22.433     315.539367  \n",
              "LR-RUS                               0.095       0.032193  \n",
              "LR-NearMiss                          0.094       2.035056  \n",
              "LR-ROS-RUS                           2.617       0.133523  \n",
              "LR-ROS-NearMiss                      2.559      86.983823  \n",
              "LR-SMOTE-RUS                         2.458       2.640245  \n",
              "LR-SMOTE-NearMiss                    2.440      89.480640  \n",
              "LR-BorderlineSMOTE-RUS               2.609     150.434539  \n",
              "LR-BorderlineSMOTE-NearMiss          2.461     237.536927  "
            ]
          },
          "metadata": {
            "tags": []
          },
          "execution_count": 19
        }
      ]
    },
    {
      "cell_type": "markdown",
      "metadata": {
        "id": "OwgGM78Bysq5"
      },
      "source": [
        "## Under sampling and then over sampling"
      ]
    },
    {
      "cell_type": "code",
      "metadata": {
        "id": "3bilJdcJzW-J",
        "outputId": "c0e27a3b-dda6-4dd0-a366-cd9f469a7d73"
      },
      "source": [
        "for us_name in uses:\n",
        "    for os_name in oses:\n",
        "        print(us_name,'-',os_name)\n",
        "        if us_name == 'RUS': \n",
        "            res = RandomUnderSampler(sampling_strategy={0: y_dict[1]})\n",
        "        else: res = NearMiss(sampling_strategy={0: y_dict[1]})\n",
        "        start = time.time()\n",
        "        X_res, y_res = res.fit_resample(X_train, y_train)\n",
        "\n",
        "        if os_name == 'ROS': \n",
        "            res = RandomOverSampler(sampling_strategy='not majority')\n",
        "        elif os_name == 'BorderlineSMOTE': \n",
        "            res = BorderlineSMOTE(sampling_strategy='not majority')\n",
        "        else: res = SMOTE(sampling_strategy='not majority')\n",
        "        X_res, y_res = res.fit_resample(X_res, y_res)\n",
        "        end = time.time()\n",
        "        res_time = end-start\n",
        "        print('Resampled dataset shape %s' % Counter(y_res))\n",
        "        print('Resamling time %.2f sec' % (res_time))\n",
        "        LR = LogisticRegression(solver = 'lbfgs',\n",
        "                                #class_weight= 'balanced'\n",
        "                                )\n",
        "        start = time.time()\n",
        "        LR.fit(X_res, y_res)\n",
        "        end= time.time()\n",
        "        # get the evaluation metrics\n",
        "        # use the model to make predictions with the test data\n",
        "        y_pred = LR.predict(X_test)\n",
        "        result = get_accs(y_test.values,y_pred, tr_time= end-start)\n",
        "        result['Resample time'] = res_time\n",
        "        result.index = ['LR-' + us_name + '-' + os_name]\n",
        "        rsts = rsts.append(result)\n",
        "\n",
        "print(rsts.iloc[:,5:])"
      ],
      "execution_count": null,
      "outputs": [
        {
          "output_type": "stream",
          "text": [
            "RUS - ROS\n",
            "Resampled dataset shape Counter({0: 13109, 1: 13109, 2: 13109, 3: 13109, 4: 13109})\n",
            "Resamling time 0.05 sec\n",
            "RUS - SMOTE\n",
            "Resampled dataset shape Counter({0: 13109, 1: 13109, 2: 13109, 3: 13109, 4: 13109})\n",
            "Resamling time 2.62 sec\n",
            "RUS - BorderlineSMOTE\n",
            "Resampled dataset shape Counter({0: 13109, 1: 13109, 2: 13109, 3: 13109, 4: 13109})\n",
            "Resamling time 24.61 sec\n",
            "NearMiss - ROS\n",
            "Resampled dataset shape Counter({0: 13109, 1: 13109, 2: 13109, 3: 13109, 4: 13109})\n",
            "Resamling time 1.71 sec\n",
            "NearMiss - SMOTE\n",
            "Resampled dataset shape Counter({0: 13109, 1: 13109, 2: 13109, 3: 13109, 4: 13109})\n",
            "Resamling time 4.27 sec\n",
            "NearMiss - BorderlineSMOTE\n",
            "Resampled dataset shape Counter({0: 13109, 1: 13109, 2: 13109, 3: 13109, 4: 13109})\n",
            "Resamling time 25.52 sec\n"
          ],
          "name": "stdout"
        },
        {
          "output_type": "execute_result",
          "data": {
            "text/html": [
              "<div>\n",
              "<style scoped>\n",
              "    .dataframe tbody tr th:only-of-type {\n",
              "        vertical-align: middle;\n",
              "    }\n",
              "\n",
              "    .dataframe tbody tr th {\n",
              "        vertical-align: top;\n",
              "    }\n",
              "\n",
              "    .dataframe thead th {\n",
              "        text-align: right;\n",
              "    }\n",
              "</style>\n",
              "<table border=\"1\" class=\"dataframe\">\n",
              "  <thead>\n",
              "    <tr style=\"text-align: right;\">\n",
              "      <th></th>\n",
              "      <th>Class 0</th>\n",
              "      <th>Class 1</th>\n",
              "      <th>Class 2</th>\n",
              "      <th>Class 3</th>\n",
              "      <th>Class 4</th>\n",
              "      <th>Overall Accuracy</th>\n",
              "      <th>G-mean</th>\n",
              "      <th>Avg_Pfm</th>\n",
              "      <th>Training Time</th>\n",
              "      <th>Resample time</th>\n",
              "    </tr>\n",
              "  </thead>\n",
              "  <tbody>\n",
              "    <tr>\n",
              "      <th>LR-Weights</th>\n",
              "      <td>0.514462</td>\n",
              "      <td>0.430664</td>\n",
              "      <td>0.160773</td>\n",
              "      <td>0.358491</td>\n",
              "      <td>0.661765</td>\n",
              "      <td>0.487538</td>\n",
              "      <td>0.384926</td>\n",
              "      <td>0.436232</td>\n",
              "      <td>5.019</td>\n",
              "      <td>NaN</td>\n",
              "    </tr>\n",
              "    <tr>\n",
              "      <th>DT-Weights</th>\n",
              "      <td>0.835315</td>\n",
              "      <td>0.138184</td>\n",
              "      <td>0.087293</td>\n",
              "      <td>0.037736</td>\n",
              "      <td>0.191176</td>\n",
              "      <td>0.716700</td>\n",
              "      <td>0.148694</td>\n",
              "      <td>0.432697</td>\n",
              "      <td>1.564</td>\n",
              "      <td>NaN</td>\n",
              "    </tr>\n",
              "    <tr>\n",
              "      <th>RF-Weights</th>\n",
              "      <td>0.628174</td>\n",
              "      <td>0.367920</td>\n",
              "      <td>0.006630</td>\n",
              "      <td>0.286164</td>\n",
              "      <td>0.661765</td>\n",
              "      <td>0.567706</td>\n",
              "      <td>0.196124</td>\n",
              "      <td>0.381915</td>\n",
              "      <td>4.073</td>\n",
              "      <td>NaN</td>\n",
              "    </tr>\n",
              "    <tr>\n",
              "      <th>MLP-Weights</th>\n",
              "      <td>0.518311</td>\n",
              "      <td>0.416016</td>\n",
              "      <td>0.105525</td>\n",
              "      <td>0.339623</td>\n",
              "      <td>0.647059</td>\n",
              "      <td>0.486353</td>\n",
              "      <td>0.346576</td>\n",
              "      <td>0.416465</td>\n",
              "      <td>113.833</td>\n",
              "      <td>NaN</td>\n",
              "    </tr>\n",
              "    <tr>\n",
              "      <th>LR-ROS</th>\n",
              "      <td>0.516134</td>\n",
              "      <td>0.436523</td>\n",
              "      <td>0.149724</td>\n",
              "      <td>0.349057</td>\n",
              "      <td>0.647059</td>\n",
              "      <td>0.488933</td>\n",
              "      <td>0.377034</td>\n",
              "      <td>0.432983</td>\n",
              "      <td>21.084</td>\n",
              "      <td>0.114530</td>\n",
              "    </tr>\n",
              "    <tr>\n",
              "      <th>LR-SMOTE</th>\n",
              "      <td>0.515156</td>\n",
              "      <td>0.419434</td>\n",
              "      <td>0.150829</td>\n",
              "      <td>0.364780</td>\n",
              "      <td>0.602941</td>\n",
              "      <td>0.486380</td>\n",
              "      <td>0.372459</td>\n",
              "      <td>0.429419</td>\n",
              "      <td>20.791</td>\n",
              "      <td>14.726981</td>\n",
              "    </tr>\n",
              "    <tr>\n",
              "      <th>LR-BorderlineSMOTE</th>\n",
              "      <td>0.572091</td>\n",
              "      <td>0.420166</td>\n",
              "      <td>0.227624</td>\n",
              "      <td>0.295597</td>\n",
              "      <td>0.470588</td>\n",
              "      <td>0.536807</td>\n",
              "      <td>0.376955</td>\n",
              "      <td>0.456881</td>\n",
              "      <td>22.433</td>\n",
              "      <td>315.539367</td>\n",
              "    </tr>\n",
              "    <tr>\n",
              "      <th>LR-RUS</th>\n",
              "      <td>0.443365</td>\n",
              "      <td>0.297607</td>\n",
              "      <td>0.262431</td>\n",
              "      <td>0.361635</td>\n",
              "      <td>0.661765</td>\n",
              "      <td>0.418739</td>\n",
              "      <td>0.383424</td>\n",
              "      <td>0.401081</td>\n",
              "      <td>0.095</td>\n",
              "      <td>0.032193</td>\n",
              "    </tr>\n",
              "    <tr>\n",
              "      <th>LR-NearMiss</th>\n",
              "      <td>0.012112</td>\n",
              "      <td>0.079346</td>\n",
              "      <td>0.084530</td>\n",
              "      <td>0.411950</td>\n",
              "      <td>0.808824</td>\n",
              "      <td>0.027583</td>\n",
              "      <td>0.122037</td>\n",
              "      <td>0.074810</td>\n",
              "      <td>0.094</td>\n",
              "      <td>2.035056</td>\n",
              "    </tr>\n",
              "    <tr>\n",
              "      <th>LR-ROS-RUS</th>\n",
              "      <td>0.513548</td>\n",
              "      <td>0.432861</td>\n",
              "      <td>0.149724</td>\n",
              "      <td>0.361635</td>\n",
              "      <td>0.632353</td>\n",
              "      <td>0.486459</td>\n",
              "      <td>0.376956</td>\n",
              "      <td>0.431707</td>\n",
              "      <td>2.617</td>\n",
              "      <td>0.133523</td>\n",
              "    </tr>\n",
              "    <tr>\n",
              "      <th>LR-ROS-NearMiss</th>\n",
              "      <td>0.253825</td>\n",
              "      <td>0.370361</td>\n",
              "      <td>0.207182</td>\n",
              "      <td>0.371069</td>\n",
              "      <td>0.647059</td>\n",
              "      <td>0.265851</td>\n",
              "      <td>0.341965</td>\n",
              "      <td>0.303908</td>\n",
              "      <td>2.559</td>\n",
              "      <td>86.983823</td>\n",
              "    </tr>\n",
              "    <tr>\n",
              "      <th>LR-SMOTE-RUS</th>\n",
              "      <td>0.514872</td>\n",
              "      <td>0.402344</td>\n",
              "      <td>0.177901</td>\n",
              "      <td>0.361635</td>\n",
              "      <td>0.632353</td>\n",
              "      <td>0.485617</td>\n",
              "      <td>0.384717</td>\n",
              "      <td>0.435167</td>\n",
              "      <td>2.458</td>\n",
              "      <td>2.640245</td>\n",
              "    </tr>\n",
              "    <tr>\n",
              "      <th>LR-SMOTE-NearMiss</th>\n",
              "      <td>0.249535</td>\n",
              "      <td>0.384033</td>\n",
              "      <td>0.195028</td>\n",
              "      <td>0.371069</td>\n",
              "      <td>0.602941</td>\n",
              "      <td>0.263087</td>\n",
              "      <td>0.334399</td>\n",
              "      <td>0.298743</td>\n",
              "      <td>2.440</td>\n",
              "      <td>89.480640</td>\n",
              "    </tr>\n",
              "    <tr>\n",
              "      <th>LR-BorderlineSMOTE-RUS</th>\n",
              "      <td>0.546668</td>\n",
              "      <td>0.411133</td>\n",
              "      <td>0.254144</td>\n",
              "      <td>0.320755</td>\n",
              "      <td>0.470588</td>\n",
              "      <td>0.516094</td>\n",
              "      <td>0.386474</td>\n",
              "      <td>0.451284</td>\n",
              "      <td>2.609</td>\n",
              "      <td>150.434539</td>\n",
              "    </tr>\n",
              "    <tr>\n",
              "      <th>LR-BorderlineSMOTE-NearMiss</th>\n",
              "      <td>0.254045</td>\n",
              "      <td>0.425049</td>\n",
              "      <td>0.271271</td>\n",
              "      <td>0.327044</td>\n",
              "      <td>0.485294</td>\n",
              "      <td>0.274326</td>\n",
              "      <td>0.341565</td>\n",
              "      <td>0.307945</td>\n",
              "      <td>2.461</td>\n",
              "      <td>237.536927</td>\n",
              "    </tr>\n",
              "    <tr>\n",
              "      <th>LR-RUS-ROS</th>\n",
              "      <td>0.512822</td>\n",
              "      <td>0.431641</td>\n",
              "      <td>0.156906</td>\n",
              "      <td>0.352201</td>\n",
              "      <td>0.617647</td>\n",
              "      <td>0.485959</td>\n",
              "      <td>0.376402</td>\n",
              "      <td>0.431180</td>\n",
              "      <td>2.580</td>\n",
              "      <td>0.048999</td>\n",
              "    </tr>\n",
              "    <tr>\n",
              "      <th>LR-RUS-SMOTE</th>\n",
              "      <td>0.511624</td>\n",
              "      <td>0.411865</td>\n",
              "      <td>0.173481</td>\n",
              "      <td>0.361635</td>\n",
              "      <td>0.602941</td>\n",
              "      <td>0.483669</td>\n",
              "      <td>0.380453</td>\n",
              "      <td>0.432061</td>\n",
              "      <td>2.487</td>\n",
              "      <td>2.618048</td>\n",
              "    </tr>\n",
              "    <tr>\n",
              "      <th>LR-RUS-BorderlineSMOTE</th>\n",
              "      <td>0.535501</td>\n",
              "      <td>0.404785</td>\n",
              "      <td>0.224862</td>\n",
              "      <td>0.396226</td>\n",
              "      <td>0.500000</td>\n",
              "      <td>0.505382</td>\n",
              "      <td>0.395333</td>\n",
              "      <td>0.450358</td>\n",
              "      <td>2.594</td>\n",
              "      <td>24.608884</td>\n",
              "    </tr>\n",
              "    <tr>\n",
              "      <th>LR-NearMiss-ROS</th>\n",
              "      <td>0.273507</td>\n",
              "      <td>0.479492</td>\n",
              "      <td>0.187845</td>\n",
              "      <td>0.355346</td>\n",
              "      <td>0.632353</td>\n",
              "      <td>0.292960</td>\n",
              "      <td>0.353698</td>\n",
              "      <td>0.323329</td>\n",
              "      <td>2.521</td>\n",
              "      <td>1.708848</td>\n",
              "    </tr>\n",
              "    <tr>\n",
              "      <th>LR-NearMiss-SMOTE</th>\n",
              "      <td>0.269564</td>\n",
              "      <td>0.479004</td>\n",
              "      <td>0.187845</td>\n",
              "      <td>0.339623</td>\n",
              "      <td>0.617647</td>\n",
              "      <td>0.289459</td>\n",
              "      <td>0.347783</td>\n",
              "      <td>0.318621</td>\n",
              "      <td>2.497</td>\n",
              "      <td>4.265610</td>\n",
              "    </tr>\n",
              "    <tr>\n",
              "      <th>LR-NearMiss-BorderlineSMOTE</th>\n",
              "      <td>0.272151</td>\n",
              "      <td>0.476562</td>\n",
              "      <td>0.233149</td>\n",
              "      <td>0.367925</td>\n",
              "      <td>0.485294</td>\n",
              "      <td>0.293512</td>\n",
              "      <td>0.351937</td>\n",
              "      <td>0.322725</td>\n",
              "      <td>2.460</td>\n",
              "      <td>25.515481</td>\n",
              "    </tr>\n",
              "  </tbody>\n",
              "</table>\n",
              "</div>"
            ],
            "text/plain": [
              "                              Class 0   Class 1   Class 2   Class 3   Class 4  \\\n",
              "LR-Weights                   0.514462  0.430664  0.160773  0.358491  0.661765   \n",
              "DT-Weights                   0.835315  0.138184  0.087293  0.037736  0.191176   \n",
              "RF-Weights                   0.628174  0.367920  0.006630  0.286164  0.661765   \n",
              "MLP-Weights                  0.518311  0.416016  0.105525  0.339623  0.647059   \n",
              "LR-ROS                       0.516134  0.436523  0.149724  0.349057  0.647059   \n",
              "LR-SMOTE                     0.515156  0.419434  0.150829  0.364780  0.602941   \n",
              "LR-BorderlineSMOTE           0.572091  0.420166  0.227624  0.295597  0.470588   \n",
              "LR-RUS                       0.443365  0.297607  0.262431  0.361635  0.661765   \n",
              "LR-NearMiss                  0.012112  0.079346  0.084530  0.411950  0.808824   \n",
              "LR-ROS-RUS                   0.513548  0.432861  0.149724  0.361635  0.632353   \n",
              "LR-ROS-NearMiss              0.253825  0.370361  0.207182  0.371069  0.647059   \n",
              "LR-SMOTE-RUS                 0.514872  0.402344  0.177901  0.361635  0.632353   \n",
              "LR-SMOTE-NearMiss            0.249535  0.384033  0.195028  0.371069  0.602941   \n",
              "LR-BorderlineSMOTE-RUS       0.546668  0.411133  0.254144  0.320755  0.470588   \n",
              "LR-BorderlineSMOTE-NearMiss  0.254045  0.425049  0.271271  0.327044  0.485294   \n",
              "LR-RUS-ROS                   0.512822  0.431641  0.156906  0.352201  0.617647   \n",
              "LR-RUS-SMOTE                 0.511624  0.411865  0.173481  0.361635  0.602941   \n",
              "LR-RUS-BorderlineSMOTE       0.535501  0.404785  0.224862  0.396226  0.500000   \n",
              "LR-NearMiss-ROS              0.273507  0.479492  0.187845  0.355346  0.632353   \n",
              "LR-NearMiss-SMOTE            0.269564  0.479004  0.187845  0.339623  0.617647   \n",
              "LR-NearMiss-BorderlineSMOTE  0.272151  0.476562  0.233149  0.367925  0.485294   \n",
              "\n",
              "                             Overall Accuracy    G-mean   Avg_Pfm  \\\n",
              "LR-Weights                           0.487538  0.384926  0.436232   \n",
              "DT-Weights                           0.716700  0.148694  0.432697   \n",
              "RF-Weights                           0.567706  0.196124  0.381915   \n",
              "MLP-Weights                          0.486353  0.346576  0.416465   \n",
              "LR-ROS                               0.488933  0.377034  0.432983   \n",
              "LR-SMOTE                             0.486380  0.372459  0.429419   \n",
              "LR-BorderlineSMOTE                   0.536807  0.376955  0.456881   \n",
              "LR-RUS                               0.418739  0.383424  0.401081   \n",
              "LR-NearMiss                          0.027583  0.122037  0.074810   \n",
              "LR-ROS-RUS                           0.486459  0.376956  0.431707   \n",
              "LR-ROS-NearMiss                      0.265851  0.341965  0.303908   \n",
              "LR-SMOTE-RUS                         0.485617  0.384717  0.435167   \n",
              "LR-SMOTE-NearMiss                    0.263087  0.334399  0.298743   \n",
              "LR-BorderlineSMOTE-RUS               0.516094  0.386474  0.451284   \n",
              "LR-BorderlineSMOTE-NearMiss          0.274326  0.341565  0.307945   \n",
              "LR-RUS-ROS                           0.485959  0.376402  0.431180   \n",
              "LR-RUS-SMOTE                         0.483669  0.380453  0.432061   \n",
              "LR-RUS-BorderlineSMOTE               0.505382  0.395333  0.450358   \n",
              "LR-NearMiss-ROS                      0.292960  0.353698  0.323329   \n",
              "LR-NearMiss-SMOTE                    0.289459  0.347783  0.318621   \n",
              "LR-NearMiss-BorderlineSMOTE          0.293512  0.351937  0.322725   \n",
              "\n",
              "                             Training Time  Resample time  \n",
              "LR-Weights                           5.019            NaN  \n",
              "DT-Weights                           1.564            NaN  \n",
              "RF-Weights                           4.073            NaN  \n",
              "MLP-Weights                        113.833            NaN  \n",
              "LR-ROS                              21.084       0.114530  \n",
              "LR-SMOTE                            20.791      14.726981  \n",
              "LR-BorderlineSMOTE                  22.433     315.539367  \n",
              "LR-RUS                               0.095       0.032193  \n",
              "LR-NearMiss                          0.094       2.035056  \n",
              "LR-ROS-RUS                           2.617       0.133523  \n",
              "LR-ROS-NearMiss                      2.559      86.983823  \n",
              "LR-SMOTE-RUS                         2.458       2.640245  \n",
              "LR-SMOTE-NearMiss                    2.440      89.480640  \n",
              "LR-BorderlineSMOTE-RUS               2.609     150.434539  \n",
              "LR-BorderlineSMOTE-NearMiss          2.461     237.536927  \n",
              "LR-RUS-ROS                           2.580       0.048999  \n",
              "LR-RUS-SMOTE                         2.487       2.618048  \n",
              "LR-RUS-BorderlineSMOTE               2.594      24.608884  \n",
              "LR-NearMiss-ROS                      2.521       1.708848  \n",
              "LR-NearMiss-SMOTE                    2.497       4.265610  \n",
              "LR-NearMiss-BorderlineSMOTE          2.460      25.515481  "
            ]
          },
          "metadata": {
            "tags": []
          },
          "execution_count": 20
        }
      ]
    },
    {
      "cell_type": "markdown",
      "metadata": {
        "id": "isNcszWj59si"
      },
      "source": [
        "### Refining result\n",
        "NearMiss not only increased the computing time but also reduced the accuracy significantly\n",
        "Apply 5-fold cross validation\n"
      ]
    },
    {
      "cell_type": "code",
      "metadata": {
        "id": "6bKGCNn-s2-y",
        "outputId": "9eab3bac-c029-469c-f344-ec64c4151d2d"
      },
      "source": [
        "# Border → RUS\n",
        "bor2rus = pd.DataFrame()\n",
        "for i in range(10):\n",
        "    print(i)\n",
        "    start = time.time()\n",
        "    res = BorderlineSMOTE(sampling_strategy=ss)\n",
        "    print('sampling #1 ...')\n",
        "    X_res, y_res = res.fit_resample(X_train, y_train)\n",
        "    res = RandomUnderSampler(sampling_strategy='majority')\n",
        "    print('sampling #2 ...')\n",
        "    X_res, y_res = res.fit_resample(X_res, y_res)\n",
        "    end = time.time()\n",
        "    res_time = end-start\n",
        "    # training and prediction\n",
        "    start = time.time()\n",
        "    LR = LogisticRegression(solver = 'lbfgs',\n",
        "                            #class_weight= 'balanced'\n",
        "                            )\n",
        "    start = time.time()\n",
        "    print('training...')\n",
        "    LR.fit(X_res, y_res)\n",
        "    end= time.time()\n",
        "    # get the evaluation metrics\n",
        "    # use the model to make predictions with the test data\n",
        "    y_pred = LR.predict(X_test)\n",
        "    result = get_accs(y_test.values,y_pred, tr_time= end-start)\n",
        "    bor2rus = bor2rus.append(result)\n",
        "bor2rus"
      ],
      "execution_count": null,
      "outputs": [
        {
          "output_type": "stream",
          "text": [
            "0\n",
            "sampling #1 ...\n",
            "sampling #2 ...\n",
            "training...\n",
            "1\n",
            "sampling #1 ...\n",
            "sampling #2 ...\n",
            "training...\n",
            "2\n",
            "sampling #1 ...\n",
            "sampling #2 ...\n",
            "training...\n",
            "3\n",
            "sampling #1 ...\n",
            "sampling #2 ...\n",
            "training...\n",
            "4\n",
            "sampling #1 ...\n",
            "sampling #2 ...\n",
            "training...\n",
            "5\n",
            "sampling #1 ...\n",
            "sampling #2 ...\n",
            "training...\n",
            "6\n",
            "sampling #1 ...\n"
          ],
          "name": "stdout"
        }
      ]
    },
    {
      "cell_type": "code",
      "metadata": {
        "id": "Dw599cl6s2-y"
      },
      "source": [
        "bor2rus.describe().iloc[1:3,5:]"
      ],
      "execution_count": null,
      "outputs": []
    },
    {
      "cell_type": "code",
      "metadata": {
        "id": "RSeUW9mU6cZP"
      },
      "source": [
        "# RUS → Borderline\n",
        "rus2bor = pd.DataFrame()\n",
        "for i in range(10):\n",
        "    print(i)\n",
        "    start = time.time()\n",
        "    res = RandomUnderSampler(sampling_strategy={0: y_dict[1]})\n",
        "    print('sampling #1 ...')\n",
        "    X_res, y_res = res.fit_resample(X_train, y_train)\n",
        "    res = BorderlineSMOTE(sampling_strategy='not majority')\n",
        "    print('sampling #2 ...')\n",
        "    X_res, y_res = res.fit_resample(X_res, y_res)\n",
        "    end = time.time()\n",
        "    res_time = end-start\n",
        "    # training and prediction\n",
        "    start = time.time()\n",
        "    LR = LogisticRegression(solver = 'lbfgs',\n",
        "                            #class_weight= 'balanced'\n",
        "                            )\n",
        "    start = time.time()\n",
        "    print('training...')\n",
        "    LR.fit(X_res, y_res)\n",
        "    end= time.time()\n",
        "    # get the evaluation metrics\n",
        "    # use the model to make predictions with the test data\n",
        "    y_pred = LR.predict(X_test)\n",
        "    result = get_accs(y_test.values,y_pred, tr_time= end-start)\n",
        "    rus2bor = rus2bor.append(result)\n",
        "rus2bor"
      ],
      "execution_count": null,
      "outputs": []
    },
    {
      "cell_type": "code",
      "metadata": {
        "id": "wEDbSJFfs2-y"
      },
      "source": [
        "print(rus2bor.describe().iloc[1:3,5:])\n",
        "print(bor2rus.describe().iloc[1:3,5:])"
      ],
      "execution_count": null,
      "outputs": []
    },
    {
      "cell_type": "code",
      "metadata": {
        "id": "WKyflcpEs2-y"
      },
      "source": [
        ""
      ],
      "execution_count": null,
      "outputs": []
    },
    {
      "cell_type": "code",
      "metadata": {
        "id": "TLzRA9UHs2-y"
      },
      "source": [
        "y_dict"
      ],
      "execution_count": null,
      "outputs": []
    },
    {
      "cell_type": "code",
      "metadata": {
        "id": "rRBcm3wHs2-y"
      },
      "source": [
        "start = time.time()\n",
        "res = RandomUnderSampler(sampling_strategy={0: y_dict[1]})\n",
        "print('sampling #1 ...')\n",
        "X_res, y_res = res.fit_resample(X_train, y_train)\n",
        "res = BorderlineSMOTE(sampling_strategy='not majority')\n",
        "print('sampling #2 ...')\n",
        "X_res, y_res = res.fit_resample(X_res, y_res)\n",
        "print(Counter(y_res))\n",
        "end = time.time()\n",
        "res_time = end-start\n",
        "model = create_mlp()\n",
        "start = time.time()\n",
        "model.fit(X_res, y_res,\n",
        "                    callbacks=[es],\n",
        "                 #   class_weight = cls_wgt,\n",
        "                    validation_data=(X_val, y_val.values),\n",
        "                    verbose=1, epochs=50)\n",
        "end = time.time()\n",
        "# use the model to make predictions with the test data\n",
        "y_pred = model.predict(X_test)\n",
        "y_pred = np.argmax(y_pred, axis=1)\n",
        "# get the evaluation metrics\n",
        "result = get_accs(y_test.values, y_pred, end-start)\n",
        "result.index = ['MLP-RUS2BOR']\n",
        "rsts = rsts.append(result)\n",
        "print(rsts.iloc[:,5:])"
      ],
      "execution_count": null,
      "outputs": []
    },
    {
      "cell_type": "code",
      "metadata": {
        "id": "6TtR8EC_s2-y"
      },
      "source": [
        "rsts.to_csv('VCA_Resamplings.csv')"
      ],
      "execution_count": null,
      "outputs": []
    }
  ]
}