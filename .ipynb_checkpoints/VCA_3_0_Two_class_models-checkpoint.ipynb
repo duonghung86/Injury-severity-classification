{
  "nbformat": 4,
  "nbformat_minor": 0,
  "metadata": {
    "colab": {
      "name": "VCA_3_0_Two_class_models.ipynb",
      "provenance": [],
      "collapsed_sections": [],
      "toc_visible": true,
      "include_colab_link": true
    },
    "kernelspec": {
      "display_name": "Python 3",
      "language": "python",
      "name": "python3"
    },
    "language_info": {
      "codemirror_mode": {
        "name": "ipython",
        "version": 3
      },
      "file_extension": ".py",
      "mimetype": "text/x-python",
      "name": "python",
      "nbconvert_exporter": "python",
      "pygments_lexer": "ipython3",
      "version": "3.7.7"
    },
    "toc": {
      "base_numbering": 1,
      "nav_menu": {},
      "number_sections": true,
      "sideBar": true,
      "skip_h1_title": false,
      "title_cell": "Table of Contents",
      "title_sidebar": "Contents",
      "toc_cell": false,
      "toc_position": {},
      "toc_section_display": true,
      "toc_window_display": true
    }
  },
  "cells": [
    {
      "cell_type": "markdown",
      "metadata": {
        "id": "view-in-github",
        "colab_type": "text"
      },
      "source": [
        "<a href=\"https://colab.research.google.com/github/duonghung86/Injury-severity-classification/blob/main/VCA_3_0_Two_class_models.ipynb\" target=\"_parent\"><img src=\"https://colab.research.google.com/assets/colab-badge.svg\" alt=\"Open In Colab\"/></a>"
      ]
    },
    {
      "cell_type": "code",
      "metadata": {
        "ExecuteTime": {
          "end_time": "2020-05-22T16:58:50.479838Z",
          "start_time": "2020-05-22T16:58:42.773756Z"
        },
        "id": "1QxOQkOlJ1S_"
      },
      "source": [
        "# Basic packages\n",
        "import matplotlib.pyplot as plt\n",
        "import numpy as np\n",
        "import pandas as pd\n",
        "import tensorflow as tf\n",
        "from tensorflow import keras\n",
        "import time"
      ],
      "execution_count": 1,
      "outputs": []
    },
    {
      "cell_type": "markdown",
      "metadata": {
        "id": "Cq34ehtsJ1Th"
      },
      "source": [
        "# Import dataset"
      ]
    },
    {
      "cell_type": "code",
      "metadata": {
        "ExecuteTime": {
          "end_time": "2020-05-22T16:58:50.489267Z",
          "start_time": "2020-05-22T16:58:50.483277Z"
        },
        "id": "zIfnkmMfKLN-",
        "outputId": "5f743547-053c-45ae-c1bf-d71cdb681db0",
        "colab": {
          "base_uri": "https://localhost:8080/",
          "height": 1000
        }
      },
      "source": [
        "df=pd.read_csv('https://raw.githubusercontent.com/duonghung86/Injury-severity-classification/main/final%20data%20nomap.csv')\n",
        "df.info()\n",
        "df.head()"
      ],
      "execution_count": 2,
      "outputs": [
        {
          "output_type": "stream",
          "text": [
            "<class 'pandas.core.frame.DataFrame'>\n",
            "RangeIndex: 468844 entries, 0 to 468843\n",
            "Data columns (total 41 columns):\n",
            " #   Column                    Non-Null Count   Dtype  \n",
            "---  ------                    --------------   -----  \n",
            " 0   Unit_Nbr                  468844 non-null  int64  \n",
            " 1   Prsn_Type_ID              468844 non-null  int64  \n",
            " 2   Prsn_Occpnt_Pos_ID        468844 non-null  int64  \n",
            " 3   Prsn_Injry_Sev_ID         468844 non-null  int64  \n",
            " 4   Prsn_Age                  468844 non-null  int64  \n",
            " 5   Prsn_Ethnicity_ID         468844 non-null  int64  \n",
            " 6   Prsn_Gndr_ID              468844 non-null  int64  \n",
            " 7   Prsn_Ejct_ID              468844 non-null  int64  \n",
            " 8   Prsn_Rest_ID              468844 non-null  int64  \n",
            " 9   Prsn_Airbag_ID            468844 non-null  int64  \n",
            " 10  Prsn_Helmet_ID            468844 non-null  int64  \n",
            " 11  Prsn_Drg_Rslt_ID          468844 non-null  int64  \n",
            " 12  Day_of_Week               468844 non-null  int64  \n",
            " 13  Rpt_Rdwy_Sys_ID           468844 non-null  int64  \n",
            " 14  Rpt_Road_Part_ID          468844 non-null  int64  \n",
            " 15  Toll_Road_Fl              468844 non-null  int64  \n",
            " 16  Crash_Speed_Limit         468844 non-null  int64  \n",
            " 17  Road_Constr_Zone_Fl       468844 non-null  int64  \n",
            " 18  Road_Constr_Zone_Wrkr_Fl  468844 non-null  int64  \n",
            " 19  At_Intrsct_Fl             468844 non-null  int64  \n",
            " 20  Wthr_Cond_ID              468844 non-null  int64  \n",
            " 21  Light_Cond_ID             468844 non-null  int64  \n",
            " 22  Road_Algn_ID              468844 non-null  int64  \n",
            " 23  Surf_Cond_ID              468844 non-null  int64  \n",
            " 24  Traffic_Cntl_ID           468844 non-null  int64  \n",
            " 25  Latitude                  468844 non-null  float64\n",
            " 26  Longitude                 468844 non-null  float64\n",
            " 27  Pop_Group_ID              468844 non-null  int64  \n",
            " 28  Unit_Desc_ID              468844 non-null  int64  \n",
            " 29  Veh_Parked_Fl             468844 non-null  int64  \n",
            " 30  Veh_HNR_Fl                468844 non-null  int64  \n",
            " 31  Veh_Mod_Year              468844 non-null  int64  \n",
            " 32  Veh_Color_ID              468844 non-null  int64  \n",
            " 33  Veh_Make_ID               468844 non-null  int64  \n",
            " 34  Veh_Mod_ID                468844 non-null  int64  \n",
            " 35  Veh_Body_Styl_ID          468844 non-null  int64  \n",
            " 36  Crash_month               468844 non-null  int64  \n",
            " 37  Crash_day                 468844 non-null  int64  \n",
            " 38  Crash_hour                468844 non-null  int64  \n",
            " 39  Crash_min                 468844 non-null  int64  \n",
            " 40  Weekend                   468844 non-null  int64  \n",
            "dtypes: float64(2), int64(39)\n",
            "memory usage: 146.7 MB\n"
          ],
          "name": "stdout"
        },
        {
          "output_type": "execute_result",
          "data": {
            "text/html": [
              "<div>\n",
              "<style scoped>\n",
              "    .dataframe tbody tr th:only-of-type {\n",
              "        vertical-align: middle;\n",
              "    }\n",
              "\n",
              "    .dataframe tbody tr th {\n",
              "        vertical-align: top;\n",
              "    }\n",
              "\n",
              "    .dataframe thead th {\n",
              "        text-align: right;\n",
              "    }\n",
              "</style>\n",
              "<table border=\"1\" class=\"dataframe\">\n",
              "  <thead>\n",
              "    <tr style=\"text-align: right;\">\n",
              "      <th></th>\n",
              "      <th>Unit_Nbr</th>\n",
              "      <th>Prsn_Type_ID</th>\n",
              "      <th>Prsn_Occpnt_Pos_ID</th>\n",
              "      <th>Prsn_Injry_Sev_ID</th>\n",
              "      <th>Prsn_Age</th>\n",
              "      <th>Prsn_Ethnicity_ID</th>\n",
              "      <th>Prsn_Gndr_ID</th>\n",
              "      <th>Prsn_Ejct_ID</th>\n",
              "      <th>Prsn_Rest_ID</th>\n",
              "      <th>Prsn_Airbag_ID</th>\n",
              "      <th>Prsn_Helmet_ID</th>\n",
              "      <th>Prsn_Drg_Rslt_ID</th>\n",
              "      <th>Day_of_Week</th>\n",
              "      <th>Rpt_Rdwy_Sys_ID</th>\n",
              "      <th>Rpt_Road_Part_ID</th>\n",
              "      <th>Toll_Road_Fl</th>\n",
              "      <th>Crash_Speed_Limit</th>\n",
              "      <th>Road_Constr_Zone_Fl</th>\n",
              "      <th>Road_Constr_Zone_Wrkr_Fl</th>\n",
              "      <th>At_Intrsct_Fl</th>\n",
              "      <th>Wthr_Cond_ID</th>\n",
              "      <th>Light_Cond_ID</th>\n",
              "      <th>Road_Algn_ID</th>\n",
              "      <th>Surf_Cond_ID</th>\n",
              "      <th>Traffic_Cntl_ID</th>\n",
              "      <th>Latitude</th>\n",
              "      <th>Longitude</th>\n",
              "      <th>Pop_Group_ID</th>\n",
              "      <th>Unit_Desc_ID</th>\n",
              "      <th>Veh_Parked_Fl</th>\n",
              "      <th>Veh_HNR_Fl</th>\n",
              "      <th>Veh_Mod_Year</th>\n",
              "      <th>Veh_Color_ID</th>\n",
              "      <th>Veh_Make_ID</th>\n",
              "      <th>Veh_Mod_ID</th>\n",
              "      <th>Veh_Body_Styl_ID</th>\n",
              "      <th>Crash_month</th>\n",
              "      <th>Crash_day</th>\n",
              "      <th>Crash_hour</th>\n",
              "      <th>Crash_min</th>\n",
              "      <th>Weekend</th>\n",
              "    </tr>\n",
              "  </thead>\n",
              "  <tbody>\n",
              "    <tr>\n",
              "      <th>0</th>\n",
              "      <td>1</td>\n",
              "      <td>1</td>\n",
              "      <td>1</td>\n",
              "      <td>0</td>\n",
              "      <td>48</td>\n",
              "      <td>1</td>\n",
              "      <td>1</td>\n",
              "      <td>1</td>\n",
              "      <td>1</td>\n",
              "      <td>2</td>\n",
              "      <td>97</td>\n",
              "      <td>97</td>\n",
              "      <td>7</td>\n",
              "      <td>2</td>\n",
              "      <td>1</td>\n",
              "      <td>0</td>\n",
              "      <td>35</td>\n",
              "      <td>0</td>\n",
              "      <td>0</td>\n",
              "      <td>1</td>\n",
              "      <td>11</td>\n",
              "      <td>1</td>\n",
              "      <td>3</td>\n",
              "      <td>1</td>\n",
              "      <td>5</td>\n",
              "      <td>30.660685</td>\n",
              "      <td>-93.893906</td>\n",
              "      <td>1</td>\n",
              "      <td>1</td>\n",
              "      <td>0</td>\n",
              "      <td>0</td>\n",
              "      <td>2002</td>\n",
              "      <td>21</td>\n",
              "      <td>107</td>\n",
              "      <td>547</td>\n",
              "      <td>69</td>\n",
              "      <td>6</td>\n",
              "      <td>15</td>\n",
              "      <td>11</td>\n",
              "      <td>0</td>\n",
              "      <td>1</td>\n",
              "    </tr>\n",
              "    <tr>\n",
              "      <th>1</th>\n",
              "      <td>2</td>\n",
              "      <td>1</td>\n",
              "      <td>1</td>\n",
              "      <td>2</td>\n",
              "      <td>58</td>\n",
              "      <td>1</td>\n",
              "      <td>2</td>\n",
              "      <td>1</td>\n",
              "      <td>1</td>\n",
              "      <td>3</td>\n",
              "      <td>97</td>\n",
              "      <td>1</td>\n",
              "      <td>7</td>\n",
              "      <td>2</td>\n",
              "      <td>1</td>\n",
              "      <td>0</td>\n",
              "      <td>35</td>\n",
              "      <td>0</td>\n",
              "      <td>0</td>\n",
              "      <td>1</td>\n",
              "      <td>11</td>\n",
              "      <td>1</td>\n",
              "      <td>3</td>\n",
              "      <td>1</td>\n",
              "      <td>5</td>\n",
              "      <td>30.660685</td>\n",
              "      <td>-93.893906</td>\n",
              "      <td>1</td>\n",
              "      <td>1</td>\n",
              "      <td>0</td>\n",
              "      <td>0</td>\n",
              "      <td>2012</td>\n",
              "      <td>17</td>\n",
              "      <td>91</td>\n",
              "      <td>629</td>\n",
              "      <td>30</td>\n",
              "      <td>6</td>\n",
              "      <td>15</td>\n",
              "      <td>11</td>\n",
              "      <td>0</td>\n",
              "      <td>1</td>\n",
              "    </tr>\n",
              "    <tr>\n",
              "      <th>2</th>\n",
              "      <td>1</td>\n",
              "      <td>1</td>\n",
              "      <td>1</td>\n",
              "      <td>0</td>\n",
              "      <td>68</td>\n",
              "      <td>1</td>\n",
              "      <td>1</td>\n",
              "      <td>1</td>\n",
              "      <td>1</td>\n",
              "      <td>2</td>\n",
              "      <td>97</td>\n",
              "      <td>97</td>\n",
              "      <td>4</td>\n",
              "      <td>2</td>\n",
              "      <td>1</td>\n",
              "      <td>0</td>\n",
              "      <td>45</td>\n",
              "      <td>0</td>\n",
              "      <td>0</td>\n",
              "      <td>0</td>\n",
              "      <td>11</td>\n",
              "      <td>1</td>\n",
              "      <td>1</td>\n",
              "      <td>1</td>\n",
              "      <td>20</td>\n",
              "      <td>33.203920</td>\n",
              "      <td>-96.596654</td>\n",
              "      <td>8</td>\n",
              "      <td>1</td>\n",
              "      <td>0</td>\n",
              "      <td>0</td>\n",
              "      <td>1996</td>\n",
              "      <td>21</td>\n",
              "      <td>672</td>\n",
              "      <td>2103</td>\n",
              "      <td>87</td>\n",
              "      <td>6</td>\n",
              "      <td>12</td>\n",
              "      <td>9</td>\n",
              "      <td>53</td>\n",
              "      <td>0</td>\n",
              "    </tr>\n",
              "    <tr>\n",
              "      <th>3</th>\n",
              "      <td>3</td>\n",
              "      <td>1</td>\n",
              "      <td>1</td>\n",
              "      <td>0</td>\n",
              "      <td>67</td>\n",
              "      <td>1</td>\n",
              "      <td>2</td>\n",
              "      <td>1</td>\n",
              "      <td>1</td>\n",
              "      <td>4</td>\n",
              "      <td>97</td>\n",
              "      <td>97</td>\n",
              "      <td>4</td>\n",
              "      <td>2</td>\n",
              "      <td>1</td>\n",
              "      <td>0</td>\n",
              "      <td>45</td>\n",
              "      <td>0</td>\n",
              "      <td>0</td>\n",
              "      <td>0</td>\n",
              "      <td>11</td>\n",
              "      <td>1</td>\n",
              "      <td>1</td>\n",
              "      <td>1</td>\n",
              "      <td>20</td>\n",
              "      <td>33.203920</td>\n",
              "      <td>-96.596654</td>\n",
              "      <td>8</td>\n",
              "      <td>1</td>\n",
              "      <td>0</td>\n",
              "      <td>0</td>\n",
              "      <td>2016</td>\n",
              "      <td>21</td>\n",
              "      <td>44</td>\n",
              "      <td>605</td>\n",
              "      <td>69</td>\n",
              "      <td>6</td>\n",
              "      <td>12</td>\n",
              "      <td>9</td>\n",
              "      <td>53</td>\n",
              "      <td>0</td>\n",
              "    </tr>\n",
              "    <tr>\n",
              "      <th>4</th>\n",
              "      <td>1</td>\n",
              "      <td>1</td>\n",
              "      <td>1</td>\n",
              "      <td>0</td>\n",
              "      <td>36</td>\n",
              "      <td>2</td>\n",
              "      <td>2</td>\n",
              "      <td>1</td>\n",
              "      <td>1</td>\n",
              "      <td>2</td>\n",
              "      <td>97</td>\n",
              "      <td>97</td>\n",
              "      <td>3</td>\n",
              "      <td>19</td>\n",
              "      <td>1</td>\n",
              "      <td>0</td>\n",
              "      <td>35</td>\n",
              "      <td>0</td>\n",
              "      <td>0</td>\n",
              "      <td>0</td>\n",
              "      <td>12</td>\n",
              "      <td>1</td>\n",
              "      <td>2</td>\n",
              "      <td>1</td>\n",
              "      <td>10</td>\n",
              "      <td>29.792394</td>\n",
              "      <td>-95.746539</td>\n",
              "      <td>0</td>\n",
              "      <td>1</td>\n",
              "      <td>0</td>\n",
              "      <td>0</td>\n",
              "      <td>2014</td>\n",
              "      <td>2</td>\n",
              "      <td>91</td>\n",
              "      <td>380</td>\n",
              "      <td>104</td>\n",
              "      <td>6</td>\n",
              "      <td>4</td>\n",
              "      <td>15</td>\n",
              "      <td>7</td>\n",
              "      <td>0</td>\n",
              "    </tr>\n",
              "  </tbody>\n",
              "</table>\n",
              "</div>"
            ],
            "text/plain": [
              "   Unit_Nbr  Prsn_Type_ID  Prsn_Occpnt_Pos_ID  ...  Crash_hour  Crash_min  Weekend\n",
              "0         1             1                   1  ...          11          0        1\n",
              "1         2             1                   1  ...          11          0        1\n",
              "2         1             1                   1  ...           9         53        0\n",
              "3         3             1                   1  ...           9         53        0\n",
              "4         1             1                   1  ...          15          7        0\n",
              "\n",
              "[5 rows x 41 columns]"
            ]
          },
          "metadata": {
            "tags": []
          },
          "execution_count": 2
        }
      ]
    },
    {
      "cell_type": "code",
      "metadata": {
        "ExecuteTime": {
          "end_time": "2020-05-22T16:59:01.505031Z",
          "start_time": "2020-05-22T16:59:01.492554Z"
        },
        "id": "0yIHRk4sJ1Tx",
        "outputId": "d49190ff-ab73-4330-f883-ba7bde605ce0",
        "colab": {
          "base_uri": "https://localhost:8080/",
          "height": 119
        }
      },
      "source": [
        "y=df['Prsn_Injry_Sev_ID']\n",
        "y.value_counts()"
      ],
      "execution_count": 3,
      "outputs": [
        {
          "output_type": "execute_result",
          "data": {
            "text/plain": [
              "0    384890\n",
              "1     53032\n",
              "2     24859\n",
              "3      4959\n",
              "4      1104\n",
              "Name: Prsn_Injry_Sev_ID, dtype: int64"
            ]
          },
          "metadata": {
            "tags": []
          },
          "execution_count": 3
        }
      ]
    },
    {
      "cell_type": "code",
      "metadata": {
        "id": "Sa4PsAGvsUJy",
        "outputId": "5da65e05-3cdc-44bf-b111-702322430191",
        "colab": {
          "base_uri": "https://localhost:8080/",
          "height": 119
        }
      },
      "source": [
        "y.value_counts()/len(y)"
      ],
      "execution_count": 4,
      "outputs": [
        {
          "output_type": "execute_result",
          "data": {
            "text/plain": [
              "0    0.820934\n",
              "1    0.113112\n",
              "2    0.053022\n",
              "3    0.010577\n",
              "4    0.002355\n",
              "Name: Prsn_Injry_Sev_ID, dtype: float64"
            ]
          },
          "metadata": {
            "tags": []
          },
          "execution_count": 4
        }
      ]
    },
    {
      "cell_type": "code",
      "metadata": {
        "id": "e--sth53sUJ2",
        "outputId": "98d3391e-d757-4299-c4ce-811259ba2f7f",
        "colab": {
          "base_uri": "https://localhost:8080/",
          "height": 34
        }
      },
      "source": [
        "X = df.drop(columns=['Prsn_Injry_Sev_ID'])\n",
        "X.shape"
      ],
      "execution_count": 5,
      "outputs": [
        {
          "output_type": "execute_result",
          "data": {
            "text/plain": [
              "(468844, 40)"
            ]
          },
          "metadata": {
            "tags": []
          },
          "execution_count": 5
        }
      ]
    },
    {
      "cell_type": "markdown",
      "metadata": {
        "id": "548Mc3Y4J1Ui"
      },
      "source": [
        "# Split the dataset"
      ]
    },
    {
      "cell_type": "code",
      "metadata": {
        "ExecuteTime": {
          "end_time": "2020-05-22T16:59:05.664606Z",
          "start_time": "2020-05-22T16:59:02.721269Z"
        },
        "id": "5ERPlNBhJ1Ul"
      },
      "source": [
        "from sklearn.model_selection import train_test_split"
      ],
      "execution_count": 6,
      "outputs": []
    },
    {
      "cell_type": "code",
      "metadata": {
        "ExecuteTime": {
          "end_time": "2020-05-22T16:59:09.611226Z",
          "start_time": "2020-05-22T16:59:05.667561Z"
        },
        "id": "6dDdGqNSJ1Uo",
        "outputId": "75864c68-2467-437b-c47b-24dc204f1898",
        "colab": {
          "base_uri": "https://localhost:8080/",
          "height": 68
        }
      },
      "source": [
        "X_train, X_test, y_train, y_test = train_test_split(X,y,test_size=0.2,stratify=y, random_state=48)\n",
        "X_train, X_val, y_train, y_val = train_test_split(X_train,y_train,test_size=0.2,stratify=y_train, random_state=48)\n",
        "\n",
        "X_train=np.array(X_train)\n",
        "X_test=np.array(X_test)\n",
        "X_val=np.array(X_val)\n",
        "\n",
        "print('Training features shape:', X_train.shape)\n",
        "print('Validation features shape:', X_val.shape)\n",
        "print('Test features shape:', X_test.shape)"
      ],
      "execution_count": 7,
      "outputs": [
        {
          "output_type": "stream",
          "text": [
            "Training features shape: (300060, 40)\n",
            "Validation features shape: (75015, 40)\n",
            "Test features shape: (93769, 40)\n"
          ],
          "name": "stdout"
        }
      ]
    },
    {
      "cell_type": "code",
      "metadata": {
        "ExecuteTime": {
          "end_time": "2020-05-22T16:59:09.636676Z",
          "start_time": "2020-05-22T16:59:09.632683Z"
        },
        "id": "Lj2Ka9kMJ1U2"
      },
      "source": [
        "# standardization\n",
        "from sklearn.preprocessing import StandardScaler"
      ],
      "execution_count": 8,
      "outputs": []
    },
    {
      "cell_type": "code",
      "metadata": {
        "ExecuteTime": {
          "end_time": "2020-05-22T16:59:11.789174Z",
          "start_time": "2020-05-22T16:59:09.640170Z"
        },
        "id": "BiA2g-qsJ1U6"
      },
      "source": [
        "scaler = StandardScaler()\n",
        "\n",
        "X_train = scaler.fit_transform(X_train)\n",
        "\n",
        "X_val = scaler.transform(X_val)\n",
        "X_test = scaler.transform(X_test)"
      ],
      "execution_count": 9,
      "outputs": []
    },
    {
      "cell_type": "markdown",
      "metadata": {
        "id": "T3fWsSaRsUKY"
      },
      "source": [
        "# Mini function"
      ]
    },
    {
      "cell_type": "code",
      "metadata": {
        "id": "IFQr2WAdsUKZ",
        "outputId": "0a2864af-cada-4c33-f69f-89ec890b0e1d",
        "colab": {
          "base_uri": "https://localhost:8080/",
          "height": 139
        }
      },
      "source": [
        "from sklearn.metrics import confusion_matrix\n",
        "import seaborn as sns\n",
        "from imblearn.metrics import geometric_mean_score\n",
        "from sklearn.metrics import auc"
      ],
      "execution_count": 10,
      "outputs": [
        {
          "output_type": "stream",
          "text": [
            "/usr/local/lib/python3.6/dist-packages/sklearn/externals/six.py:31: FutureWarning: The module is deprecated in version 0.21 and will be removed in version 0.23 since we've dropped support for Python 2.7. Please rely on the official version of six (https://pypi.org/project/six/).\n",
            "  \"(https://pypi.org/project/six/).\", FutureWarning)\n",
            "/usr/local/lib/python3.6/dist-packages/sklearn/utils/deprecation.py:144: FutureWarning: The sklearn.neighbors.base module is  deprecated in version 0.22 and will be removed in version 0.24. The corresponding classes / functions should instead be imported from sklearn.neighbors. Anything that cannot be imported from sklearn.neighbors is now part of the private API.\n",
            "  warnings.warn(message, FutureWarning)\n",
            "/usr/local/lib/python3.6/dist-packages/sklearn/utils/deprecation.py:144: FutureWarning: The sklearn.metrics.classification module is  deprecated in version 0.22 and will be removed in version 0.24. The corresponding classes / functions should instead be imported from sklearn.metrics. Anything that cannot be imported from sklearn.metrics is now part of the private API.\n",
            "  warnings.warn(message, FutureWarning)\n"
          ],
          "name": "stderr"
        }
      ]
    },
    {
      "cell_type": "code",
      "metadata": {
        "id": "HJQtO1insUKd",
        "outputId": "d3fd67d1-753a-4e6d-9b3d-428606e1f38b",
        "colab": {
          "base_uri": "https://localhost:8080/",
          "height": 523
        }
      },
      "source": [
        "def get_accs(label,prediction, show=True):\n",
        "    cm = confusion_matrix(label,prediction)\n",
        "    length = cm.shape[0]\n",
        "    num_cases = len(label)\n",
        "    # global accuracy\n",
        "    glb_acc = np.trace(cm)/len(label)\n",
        "    ind_accs = cm/np.sum(cm,axis=1)[:, np.newaxis]\n",
        "    accs = [ind_accs[i,i] for i in range(length)]\n",
        "    accs.insert(0,glb_acc)\n",
        "    # G-mean\n",
        "    accs.append(geometric_mean_score(label, prediction,correction=0.001))\n",
        "\n",
        "    if show:\n",
        "        plt.figure(figsize=(14, 6))\n",
        "        plt.subplot(1,2,1)\n",
        "        sns.heatmap(cm, xticklabels=np.arange(length), yticklabels=np.arange(length), \n",
        "                    annot=True, fmt='g',cmap=\"YlGnBu\")\n",
        "        plt.xlabel('Prediction')\n",
        "        plt.ylabel('Label')\n",
        "        plt.title('Confusion matrix')\n",
        "        plt.subplot(1,2,2)\n",
        "        sns.heatmap(ind_accs*100, xticklabels=np.arange(length), yticklabels=np.arange(length), \n",
        "                    annot=True, fmt='.2f',cmap=\"YlGnBu\")\n",
        "        plt.xlabel('Prediction')\n",
        "        plt.ylabel('Label')\n",
        "        plt.title('Normalized confusion matrix (%)')\n",
        "        plt.show()\n",
        "    return accs\n",
        "get_accs(np.random.randint(5, size=100),np.random.randint(5, size=100))"
      ],
      "execution_count": 11,
      "outputs": [
        {
          "output_type": "display_data",
          "data": {
            "image/png": "[encoded data removed]",
            "text/plain": [
              "<Figure size 1008x432 with 4 Axes>"
            ]
          },
          "metadata": {
            "tags": [],
            "needs_background": "light"
          }
        },
        {
          "output_type": "execute_result",
          "data": {
            "text/plain": [
              "[0.19,\n",
              " 0.1111111111111111,\n",
              " 0.3888888888888889,\n",
              " 0.05,\n",
              " 0.20833333333333334,\n",
              " 0.2,\n",
              " 0.15519165251580627]"
            ]
          },
          "metadata": {
            "tags": []
          },
          "execution_count": 11
        }
      ]
    },
    {
      "cell_type": "markdown",
      "metadata": {
        "id": "MttWSJBG8PFF"
      },
      "source": [
        "# Prepare the balance dataset\n"
      ]
    },
    {
      "cell_type": "markdown",
      "metadata": {
        "id": "yA2m3ULWuhHX"
      },
      "source": [
        "### SMOTE\n"
      ]
    },
    {
      "cell_type": "code",
      "metadata": {
        "id": "wUixinsI0i9F"
      },
      "source": [
        "from collections import Counter\n",
        "from imblearn.over_sampling import SMOTE, SMOTENC\n",
        "from imblearn.under_sampling import RandomUnderSampler"
      ],
      "execution_count": 21,
      "outputs": []
    },
    {
      "cell_type": "code",
      "metadata": {
        "id": "KMkvH7Sw3484",
        "outputId": "43694c43-074d-4fab-de98-13f130ce19fb",
        "colab": {
          "base_uri": "https://localhost:8080/",
          "height": 34
        }
      },
      "source": [
        "y_train_2c = np.where(y_train==0,0,1)\n",
        "Counter(y_train_2c)"
      ],
      "execution_count": 18,
      "outputs": [
        {
          "output_type": "execute_result",
          "data": {
            "text/plain": [
              "Counter({0: 246330, 1: 53730})"
            ]
          },
          "metadata": {
            "tags": []
          },
          "execution_count": 18
        }
      ]
    },
    {
      "cell_type": "code",
      "metadata": {
        "ExecuteTime": {
          "end_time": "2020-05-22T17:06:39.548478Z",
          "start_time": "2020-05-22T17:06:32.437822Z"
        },
        "id": "HTC5wo3dcLbW",
        "outputId": "a3ba733e-9f7f-4d7e-fe4c-6adb44ad33e3",
        "colab": {
          "base_uri": "https://localhost:8080/",
          "height": 88
        }
      },
      "source": [
        "rus = RandomUnderSampler(random_state=42)\n",
        "X_rus, y_rus_2c = sm.fit_resample(X_train, y_train_2c)\n",
        "print('Resampled dataset shape %s' % Counter(y_rus_2c))"
      ],
      "execution_count": 22,
      "outputs": [
        {
          "output_type": "stream",
          "text": [
            "/usr/local/lib/python3.6/dist-packages/sklearn/utils/deprecation.py:87: FutureWarning: Function safe_indexing is deprecated; safe_indexing is deprecated in version 0.22 and will be removed in version 0.24.\n",
            "  warnings.warn(msg, category=FutureWarning)\n"
          ],
          "name": "stderr"
        },
        {
          "output_type": "stream",
          "text": [
            "Resampled dataset shape Counter({1: 246330, 0: 246330})\n"
          ],
          "name": "stdout"
        }
      ]
    },
    {
      "cell_type": "markdown",
      "metadata": {
        "id": "GMTGzb_rsUKj"
      },
      "source": [
        "# Applying traditional machine learning algorithms\n"
      ]
    },
    {
      "cell_type": "code",
      "metadata": {
        "id": "UKZeZFOosUKk"
      },
      "source": [
        "from sklearn.linear_model import LogisticRegression\n",
        "from sklearn.tree import DecisionTreeClassifier\n",
        "from sklearn.ensemble import RandomForestClassifier\n",
        "from sklearn.naive_bayes import GaussianNB\n",
        "from sklearn.linear_model import SGDClassifier\n",
        "from sklearn.naive_bayes import ComplementNB"
      ],
      "execution_count": null,
      "outputs": []
    },
    {
      "cell_type": "code",
      "metadata": {
        "id": "AZIKlHjxsUKo"
      },
      "source": [
        "LR = LogisticRegression(solver = 'lbfgs')\n",
        "DT = DecisionTreeClassifier(random_state=0)\n",
        "RF = RandomForestClassifier(max_depth=2, random_state=0)\n",
        "GNB = GaussianNB()\n",
        "#CNB = ComplementNB()\n",
        "SGD = SGDClassifier(loss=\"hinge\", penalty=\"l2\", max_iter=5)\n",
        "\n",
        "clfs = [LR,DT,RF,GNB,SGD]\n",
        "clf_names = ['LR','DT','RF','GNB','SGD']\n",
        "rsts = pd.DataFrame()\n",
        "for model, name in zip(clfs,clf_names):\n",
        "  start = time.time()\n",
        "  print(name)\n",
        "  model.fit(X_sm, y_sm_2c)\n",
        "  # use the model to make predictions with the test data\n",
        "  y_pred = model.predict(X_test)\n",
        "  end= time.time()\n",
        "  # get the evaluation metrics\n",
        "  result = get_accs(y_test,y_pred,True)\n",
        "  result.append(end-start)\n",
        "  rsts[name] = result\n",
        "print(rsts)"
      ],
      "execution_count": null,
      "outputs": []
    },
    {
      "cell_type": "code",
      "metadata": {
        "id": "6VMnYifrsUKw"
      },
      "source": [
        "index = ['Global accuracy', 'Class 1','Class 2','Class 3','Class 4','Class 5','G-mean','Training time']\n",
        "rsts.index = index\n",
        "rsts"
      ],
      "execution_count": null,
      "outputs": []
    },
    {
      "cell_type": "markdown",
      "metadata": {
        "id": "BcaKVTGuJ1Vm"
      },
      "source": [
        "# A simple MLP\n"
      ]
    },
    {
      "cell_type": "code",
      "metadata": {
        "id": "fHiajEn4sUL8"
      },
      "source": [
        "es = tf.keras.callbacks.EarlyStopping(monitor='val_accuracy', \n",
        "    verbose=1,\n",
        "    patience=10,\n",
        "    mode='max',\n",
        "    restore_best_weights=True)"
      ],
      "execution_count": null,
      "outputs": []
    },
    {
      "cell_type": "code",
      "metadata": {
        "id": "vNyAJrNJsUMA"
      },
      "source": [
        "MLP = tf.keras.Sequential([\n",
        "    keras.layers.Dense(5, activation='relu',input_dim=X_train.shape[1]),\n",
        "    keras.layers.Dropout(0.5),\n",
        "    keras.layers.Dense(5),\n",
        "])\n",
        "MLP.compile(optimizer='adam',\n",
        "              loss=tf.keras.losses.SparseCategoricalCrossentropy(from_logits=True),\n",
        "              metrics=['accuracy'])"
      ],
      "execution_count": null,
      "outputs": []
    },
    {
      "cell_type": "code",
      "metadata": {
        "id": "_WdVWSsqsUMH"
      },
      "source": [
        "start = time.time()\n",
        "Monitor_MLP = MLP.fit(X_sm, y_sm, callbacks=[es],validation_data = (X_val,y_val), \n",
        "                      verbose = 1, epochs = 10)\n",
        "# use the model to make predictions with the test data\n",
        "y_pred = MLP.predict(X_test)\n",
        "y_pred = np.argmax(y_pred,axis=1)\n",
        "end= time.time()\n",
        "\n",
        "# Show evolution of the training process\n",
        "hist = pd.DataFrame(Monitor_MLP.history)\n",
        "fig, axes = plt.subplots(nrows=1, ncols=2,figsize=(10,4),dpi=150)\n",
        "hist[['loss','val_loss']].plot(ax=axes[0])\n",
        "hist[['accuracy','val_accuracy']].plot(ax=axes[1])\n",
        "plt.show()\n",
        "# get the evaluation metrics\n",
        "result = get_accs(y_test,y_pred,True)\n",
        "result.append(end-start)\n",
        "\n",
        "rsts['MLP'] = result\n",
        "rsts"
      ],
      "execution_count": null,
      "outputs": []
    },
    {
      "cell_type": "markdown",
      "metadata": {
        "id": "29yXaAkjtUO8"
      },
      "source": [
        "# Easy ensemble - major voting\n"
      ]
    },
    {
      "cell_type": "code",
      "metadata": {
        "id": "US7Y81mAtmP1"
      },
      "source": [
        "from sklearn.ensemble import VotingClassifier"
      ],
      "execution_count": null,
      "outputs": []
    },
    {
      "cell_type": "code",
      "metadata": {
        "id": "yJoo7YMOuBa6"
      },
      "source": [
        "emts = [(name,cls) for name, cls in zip(clf_names,clfs)]"
      ],
      "execution_count": null,
      "outputs": []
    },
    {
      "cell_type": "code",
      "metadata": {
        "id": "ewuZTPOHueoM"
      },
      "source": [
        "eclf = VotingClassifier(estimators=emts)"
      ],
      "execution_count": null,
      "outputs": []
    },
    {
      "cell_type": "code",
      "metadata": {
        "id": "PitvULE2toM9"
      },
      "source": [
        "#predict class probabilities for all classifiers\n",
        "name = 'Ensemble'\n",
        "start = time.time()\n",
        "print(name)\n",
        "eclf.fit(X_sm, y_sm)\n",
        "# use the model to make predictions with the test data\n",
        "y_pred = eclf.predict(X_test)\n",
        "end= time.time()\n",
        "# get the evaluation metrics\n",
        "result = get_accs(y_test,y_pred,True)\n",
        "result.append(end-start)\n",
        "rsts[name] = result\n",
        "rsts"
      ],
      "execution_count": null,
      "outputs": []
    },
    {
      "cell_type": "markdown",
      "metadata": {
        "id": "Gtu9Frk5Wg2W"
      },
      "source": [
        "# Variables\n"
      ]
    },
    {
      "cell_type": "code",
      "metadata": {
        "id": "PKl1e9RwVCCk"
      },
      "source": [
        "%whos"
      ],
      "execution_count": null,
      "outputs": []
    }
  ]
}