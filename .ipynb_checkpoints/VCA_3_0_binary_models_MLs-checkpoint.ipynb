{
 "cells": [
  {
   "cell_type": "markdown",
   "metadata": {
    "colab_type": "text",
    "id": "view-in-github"
   },
   "source": [
    "<a href=\"https://colab.research.google.com/github/duonghung86/Injury-severity-classification/blob/main/VCA_3_0_binary_models_MLs.ipynb\" target=\"_parent\"><img src=\"https://colab.research.google.com/assets/colab-badge.svg\" alt=\"Open In Colab\"/></a>"
   ]
  },
  {
   "cell_type": "code",
   "execution_count": 1,
   "metadata": {
    "ExecuteTime": {
     "end_time": "2020-05-22T16:58:50.479838Z",
     "start_time": "2020-05-22T16:58:42.773756Z"
    },
    "id": "1QxOQkOlJ1S_"
   },
   "outputs": [],
   "source": [
    "# Basic packages\n",
    "import matplotlib.pyplot as plt\n",
    "import numpy as np\n",
    "import pandas as pd\n",
    "import tensorflow as tf\n",
    "from tensorflow import keras\n",
    "import time\n",
    "from collections import Counter"
   ]
  },
  {
   "cell_type": "markdown",
   "metadata": {
    "id": "Cq34ehtsJ1Th"
   },
   "source": [
    "# Import dataset"
   ]
  },
  {
   "cell_type": "code",
   "execution_count": 2,
   "metadata": {
    "ExecuteTime": {
     "end_time": "2020-05-22T16:58:50.489267Z",
     "start_time": "2020-05-22T16:58:50.483277Z"
    },
    "colab": {
     "base_uri": "https://localhost:8080/",
     "height": 241
    },
    "id": "zIfnkmMfKLN-",
    "outputId": "47fad32c-bbe0-4bc2-bcb7-e2cd95cfc155"
   },
   "outputs": [
    {
     "name": "stdout",
     "output_type": "stream",
     "text": [
      "(468844, 41)\n"
     ]
    },
    {
     "data": {
      "text/html": [
       "<div>\n",
       "<style scoped>\n",
       "    .dataframe tbody tr th:only-of-type {\n",
       "        vertical-align: middle;\n",
       "    }\n",
       "\n",
       "    .dataframe tbody tr th {\n",
       "        vertical-align: top;\n",
       "    }\n",
       "\n",
       "    .dataframe thead th {\n",
       "        text-align: right;\n",
       "    }\n",
       "</style>\n",
       "<table border=\"1\" class=\"dataframe\">\n",
       "  <thead>\n",
       "    <tr style=\"text-align: right;\">\n",
       "      <th></th>\n",
       "      <th>Unit_Nbr</th>\n",
       "      <th>Prsn_Type_ID</th>\n",
       "      <th>Prsn_Occpnt_Pos_ID</th>\n",
       "      <th>Prsn_Injry_Sev_ID</th>\n",
       "      <th>Prsn_Age</th>\n",
       "      <th>Prsn_Ethnicity_ID</th>\n",
       "      <th>Prsn_Gndr_ID</th>\n",
       "      <th>Prsn_Ejct_ID</th>\n",
       "      <th>Prsn_Rest_ID</th>\n",
       "      <th>Prsn_Airbag_ID</th>\n",
       "      <th>...</th>\n",
       "      <th>Veh_Mod_Year</th>\n",
       "      <th>Veh_Color_ID</th>\n",
       "      <th>Veh_Make_ID</th>\n",
       "      <th>Veh_Mod_ID</th>\n",
       "      <th>Veh_Body_Styl_ID</th>\n",
       "      <th>Crash_month</th>\n",
       "      <th>Crash_day</th>\n",
       "      <th>Crash_hour</th>\n",
       "      <th>Crash_min</th>\n",
       "      <th>Weekend</th>\n",
       "    </tr>\n",
       "  </thead>\n",
       "  <tbody>\n",
       "    <tr>\n",
       "      <th>0</th>\n",
       "      <td>1</td>\n",
       "      <td>1</td>\n",
       "      <td>1</td>\n",
       "      <td>0</td>\n",
       "      <td>48</td>\n",
       "      <td>1</td>\n",
       "      <td>1</td>\n",
       "      <td>1</td>\n",
       "      <td>1</td>\n",
       "      <td>2</td>\n",
       "      <td>...</td>\n",
       "      <td>2002</td>\n",
       "      <td>21</td>\n",
       "      <td>107</td>\n",
       "      <td>547</td>\n",
       "      <td>69</td>\n",
       "      <td>6</td>\n",
       "      <td>15</td>\n",
       "      <td>11</td>\n",
       "      <td>0</td>\n",
       "      <td>1</td>\n",
       "    </tr>\n",
       "    <tr>\n",
       "      <th>1</th>\n",
       "      <td>2</td>\n",
       "      <td>1</td>\n",
       "      <td>1</td>\n",
       "      <td>2</td>\n",
       "      <td>58</td>\n",
       "      <td>1</td>\n",
       "      <td>2</td>\n",
       "      <td>1</td>\n",
       "      <td>1</td>\n",
       "      <td>3</td>\n",
       "      <td>...</td>\n",
       "      <td>2012</td>\n",
       "      <td>17</td>\n",
       "      <td>91</td>\n",
       "      <td>629</td>\n",
       "      <td>30</td>\n",
       "      <td>6</td>\n",
       "      <td>15</td>\n",
       "      <td>11</td>\n",
       "      <td>0</td>\n",
       "      <td>1</td>\n",
       "    </tr>\n",
       "    <tr>\n",
       "      <th>2</th>\n",
       "      <td>1</td>\n",
       "      <td>1</td>\n",
       "      <td>1</td>\n",
       "      <td>0</td>\n",
       "      <td>68</td>\n",
       "      <td>1</td>\n",
       "      <td>1</td>\n",
       "      <td>1</td>\n",
       "      <td>1</td>\n",
       "      <td>2</td>\n",
       "      <td>...</td>\n",
       "      <td>1996</td>\n",
       "      <td>21</td>\n",
       "      <td>672</td>\n",
       "      <td>2103</td>\n",
       "      <td>87</td>\n",
       "      <td>6</td>\n",
       "      <td>12</td>\n",
       "      <td>9</td>\n",
       "      <td>53</td>\n",
       "      <td>0</td>\n",
       "    </tr>\n",
       "    <tr>\n",
       "      <th>3</th>\n",
       "      <td>3</td>\n",
       "      <td>1</td>\n",
       "      <td>1</td>\n",
       "      <td>0</td>\n",
       "      <td>67</td>\n",
       "      <td>1</td>\n",
       "      <td>2</td>\n",
       "      <td>1</td>\n",
       "      <td>1</td>\n",
       "      <td>4</td>\n",
       "      <td>...</td>\n",
       "      <td>2016</td>\n",
       "      <td>21</td>\n",
       "      <td>44</td>\n",
       "      <td>605</td>\n",
       "      <td>69</td>\n",
       "      <td>6</td>\n",
       "      <td>12</td>\n",
       "      <td>9</td>\n",
       "      <td>53</td>\n",
       "      <td>0</td>\n",
       "    </tr>\n",
       "    <tr>\n",
       "      <th>4</th>\n",
       "      <td>1</td>\n",
       "      <td>1</td>\n",
       "      <td>1</td>\n",
       "      <td>0</td>\n",
       "      <td>36</td>\n",
       "      <td>2</td>\n",
       "      <td>2</td>\n",
       "      <td>1</td>\n",
       "      <td>1</td>\n",
       "      <td>2</td>\n",
       "      <td>...</td>\n",
       "      <td>2014</td>\n",
       "      <td>2</td>\n",
       "      <td>91</td>\n",
       "      <td>380</td>\n",
       "      <td>104</td>\n",
       "      <td>6</td>\n",
       "      <td>4</td>\n",
       "      <td>15</td>\n",
       "      <td>7</td>\n",
       "      <td>0</td>\n",
       "    </tr>\n",
       "  </tbody>\n",
       "</table>\n",
       "<p>5 rows × 41 columns</p>\n",
       "</div>"
      ],
      "text/plain": [
       "   Unit_Nbr  Prsn_Type_ID  Prsn_Occpnt_Pos_ID  Prsn_Injry_Sev_ID  Prsn_Age  \\\n",
       "0         1             1                   1                  0        48   \n",
       "1         2             1                   1                  2        58   \n",
       "2         1             1                   1                  0        68   \n",
       "3         3             1                   1                  0        67   \n",
       "4         1             1                   1                  0        36   \n",
       "\n",
       "   Prsn_Ethnicity_ID  Prsn_Gndr_ID  Prsn_Ejct_ID  Prsn_Rest_ID  \\\n",
       "0                  1             1             1             1   \n",
       "1                  1             2             1             1   \n",
       "2                  1             1             1             1   \n",
       "3                  1             2             1             1   \n",
       "4                  2             2             1             1   \n",
       "\n",
       "   Prsn_Airbag_ID  ...  Veh_Mod_Year  Veh_Color_ID  Veh_Make_ID  Veh_Mod_ID  \\\n",
       "0               2  ...          2002            21          107         547   \n",
       "1               3  ...          2012            17           91         629   \n",
       "2               2  ...          1996            21          672        2103   \n",
       "3               4  ...          2016            21           44         605   \n",
       "4               2  ...          2014             2           91         380   \n",
       "\n",
       "   Veh_Body_Styl_ID  Crash_month  Crash_day  Crash_hour  Crash_min  Weekend  \n",
       "0                69            6         15          11          0        1  \n",
       "1                30            6         15          11          0        1  \n",
       "2                87            6         12           9         53        0  \n",
       "3                69            6         12           9         53        0  \n",
       "4               104            6          4          15          7        0  \n",
       "\n",
       "[5 rows x 41 columns]"
      ]
     },
     "execution_count": 2,
     "metadata": {},
     "output_type": "execute_result"
    }
   ],
   "source": [
    "df=pd.read_csv('https://raw.githubusercontent.com/duonghung86/Injury-severity-classification/main/final%20data%20nomap.csv')\n",
    "print(df.shape)\n",
    "df.head()"
   ]
  },
  {
   "cell_type": "code",
   "execution_count": 3,
   "metadata": {
    "ExecuteTime": {
     "end_time": "2020-05-22T16:59:01.505031Z",
     "start_time": "2020-05-22T16:59:01.492554Z"
    },
    "colab": {
     "base_uri": "https://localhost:8080/",
     "height": 119
    },
    "id": "0yIHRk4sJ1Tx",
    "outputId": "2c26b27c-deab-4c7c-a5ae-d1286a62ba19"
   },
   "outputs": [
    {
     "data": {
      "text/plain": [
       "0    384890\n",
       "1     53032\n",
       "2     24859\n",
       "3      4959\n",
       "4      1104\n",
       "Name: Prsn_Injry_Sev_ID, dtype: int64"
      ]
     },
     "execution_count": 3,
     "metadata": {},
     "output_type": "execute_result"
    }
   ],
   "source": [
    "y=df['Prsn_Injry_Sev_ID']\n",
    "y.value_counts()"
   ]
  },
  {
   "cell_type": "code",
   "execution_count": 4,
   "metadata": {
    "colab": {
     "base_uri": "https://localhost:8080/",
     "height": 34
    },
    "id": "e--sth53sUJ2",
    "outputId": "5497d455-a022-4798-d44c-52342882db66"
   },
   "outputs": [
    {
     "data": {
      "text/plain": [
       "(468844, 40)"
      ]
     },
     "execution_count": 4,
     "metadata": {},
     "output_type": "execute_result"
    }
   ],
   "source": [
    "X = df.drop(columns=['Prsn_Injry_Sev_ID'])\n",
    "X.shape"
   ]
  },
  {
   "cell_type": "markdown",
   "metadata": {
    "id": "zwJyLsYwbHPN"
   },
   "source": [
    "# Prepare 5 different data set and labels:\n",
    "\n",
    "1. No injury (0) vs injury (1/2/3/4)\n",
    "2. Possible injury (1) vs real injury (2/3/4)\n",
    "3. Non-incapaciting (2) vs severe injury (3/4)\n",
    "4. Incapacitating (3) vs Fatal (4) "
   ]
  },
  {
   "cell_type": "code",
   "execution_count": 5,
   "metadata": {
    "colab": {
     "base_uri": "https://localhost:8080/",
     "height": 153
    },
    "id": "NDp8cFdFcMk6",
    "outputId": "d0c00f54-9a48-4b6a-c115-153542df8781"
   },
   "outputs": [
    {
     "name": "stdout",
     "output_type": "stream",
     "text": [
      "Counter({0: 384890, 1: 83954})\n",
      "(468844, 40)\n",
      "Counter({0: 53032, 1: 30922})\n",
      "(83954, 40)\n",
      "Counter({0: 24859, 1: 6063})\n",
      "(30922, 40)\n",
      "Counter({0: 4959, 1: 1104})\n",
      "(6063, 40)\n"
     ]
    }
   ],
   "source": [
    "sets = {}\n",
    "for i in range(4):\n",
    "  sub_df = df[df.Prsn_Injry_Sev_ID.isin(np.arange(i,5))].copy()\n",
    "  y_i = np.where(sub_df.Prsn_Injry_Sev_ID==i,0,1)\n",
    "  print(Counter(y_i))\n",
    "  X_i = sub_df.drop(columns=['Prsn_Injry_Sev_ID']).copy()\n",
    "  print(X_i.shape)\n",
    "  sets[i] = (X_i,y_i)"
   ]
  },
  {
   "cell_type": "code",
   "execution_count": 6,
   "metadata": {
    "colab": {
     "base_uri": "https://localhost:8080/",
     "height": 439
    },
    "id": "Y3ZgNXjFcNND",
    "outputId": "8d618c14-93f5-49fc-9acd-dfed6f639113"
   },
   "outputs": [
    {
     "data": {
      "text/html": [
       "<div>\n",
       "<style scoped>\n",
       "    .dataframe tbody tr th:only-of-type {\n",
       "        vertical-align: middle;\n",
       "    }\n",
       "\n",
       "    .dataframe tbody tr th {\n",
       "        vertical-align: top;\n",
       "    }\n",
       "\n",
       "    .dataframe thead th {\n",
       "        text-align: right;\n",
       "    }\n",
       "</style>\n",
       "<table border=\"1\" class=\"dataframe\">\n",
       "  <thead>\n",
       "    <tr style=\"text-align: right;\">\n",
       "      <th></th>\n",
       "      <th>Unit_Nbr</th>\n",
       "      <th>Prsn_Type_ID</th>\n",
       "      <th>Prsn_Occpnt_Pos_ID</th>\n",
       "      <th>Prsn_Age</th>\n",
       "      <th>Prsn_Ethnicity_ID</th>\n",
       "      <th>Prsn_Gndr_ID</th>\n",
       "      <th>Prsn_Ejct_ID</th>\n",
       "      <th>Prsn_Rest_ID</th>\n",
       "      <th>Prsn_Airbag_ID</th>\n",
       "      <th>Prsn_Helmet_ID</th>\n",
       "      <th>...</th>\n",
       "      <th>Veh_Mod_Year</th>\n",
       "      <th>Veh_Color_ID</th>\n",
       "      <th>Veh_Make_ID</th>\n",
       "      <th>Veh_Mod_ID</th>\n",
       "      <th>Veh_Body_Styl_ID</th>\n",
       "      <th>Crash_month</th>\n",
       "      <th>Crash_day</th>\n",
       "      <th>Crash_hour</th>\n",
       "      <th>Crash_min</th>\n",
       "      <th>Weekend</th>\n",
       "    </tr>\n",
       "  </thead>\n",
       "  <tbody>\n",
       "    <tr>\n",
       "      <th>1</th>\n",
       "      <td>2</td>\n",
       "      <td>1</td>\n",
       "      <td>1</td>\n",
       "      <td>58</td>\n",
       "      <td>1</td>\n",
       "      <td>2</td>\n",
       "      <td>1</td>\n",
       "      <td>1</td>\n",
       "      <td>3</td>\n",
       "      <td>97</td>\n",
       "      <td>...</td>\n",
       "      <td>2012</td>\n",
       "      <td>17</td>\n",
       "      <td>91</td>\n",
       "      <td>629</td>\n",
       "      <td>30</td>\n",
       "      <td>6</td>\n",
       "      <td>15</td>\n",
       "      <td>11</td>\n",
       "      <td>0</td>\n",
       "      <td>1</td>\n",
       "    </tr>\n",
       "    <tr>\n",
       "      <th>7</th>\n",
       "      <td>1</td>\n",
       "      <td>5</td>\n",
       "      <td>1</td>\n",
       "      <td>61</td>\n",
       "      <td>1</td>\n",
       "      <td>1</td>\n",
       "      <td>4</td>\n",
       "      <td>11</td>\n",
       "      <td>1</td>\n",
       "      <td>4</td>\n",
       "      <td>...</td>\n",
       "      <td>2013</td>\n",
       "      <td>2</td>\n",
       "      <td>42</td>\n",
       "      <td>3118</td>\n",
       "      <td>71</td>\n",
       "      <td>6</td>\n",
       "      <td>1</td>\n",
       "      <td>0</td>\n",
       "      <td>35</td>\n",
       "      <td>1</td>\n",
       "    </tr>\n",
       "    <tr>\n",
       "      <th>8</th>\n",
       "      <td>1</td>\n",
       "      <td>5</td>\n",
       "      <td>1</td>\n",
       "      <td>49</td>\n",
       "      <td>3</td>\n",
       "      <td>1</td>\n",
       "      <td>4</td>\n",
       "      <td>11</td>\n",
       "      <td>1</td>\n",
       "      <td>4</td>\n",
       "      <td>...</td>\n",
       "      <td>2019</td>\n",
       "      <td>3</td>\n",
       "      <td>42</td>\n",
       "      <td>3174</td>\n",
       "      <td>71</td>\n",
       "      <td>6</td>\n",
       "      <td>1</td>\n",
       "      <td>2</td>\n",
       "      <td>8</td>\n",
       "      <td>1</td>\n",
       "    </tr>\n",
       "    <tr>\n",
       "      <th>10</th>\n",
       "      <td>1</td>\n",
       "      <td>5</td>\n",
       "      <td>1</td>\n",
       "      <td>25</td>\n",
       "      <td>4</td>\n",
       "      <td>1</td>\n",
       "      <td>4</td>\n",
       "      <td>11</td>\n",
       "      <td>1</td>\n",
       "      <td>1</td>\n",
       "      <td>...</td>\n",
       "      <td>2018</td>\n",
       "      <td>2</td>\n",
       "      <td>44</td>\n",
       "      <td>4803</td>\n",
       "      <td>71</td>\n",
       "      <td>6</td>\n",
       "      <td>1</td>\n",
       "      <td>2</td>\n",
       "      <td>26</td>\n",
       "      <td>1</td>\n",
       "    </tr>\n",
       "    <tr>\n",
       "      <th>11</th>\n",
       "      <td>1</td>\n",
       "      <td>1</td>\n",
       "      <td>1</td>\n",
       "      <td>53</td>\n",
       "      <td>1</td>\n",
       "      <td>1</td>\n",
       "      <td>1</td>\n",
       "      <td>1</td>\n",
       "      <td>8</td>\n",
       "      <td>97</td>\n",
       "      <td>...</td>\n",
       "      <td>2007</td>\n",
       "      <td>16</td>\n",
       "      <td>14</td>\n",
       "      <td>2180</td>\n",
       "      <td>100</td>\n",
       "      <td>6</td>\n",
       "      <td>1</td>\n",
       "      <td>2</td>\n",
       "      <td>0</td>\n",
       "      <td>1</td>\n",
       "    </tr>\n",
       "    <tr>\n",
       "      <th>...</th>\n",
       "      <td>...</td>\n",
       "      <td>...</td>\n",
       "      <td>...</td>\n",
       "      <td>...</td>\n",
       "      <td>...</td>\n",
       "      <td>...</td>\n",
       "      <td>...</td>\n",
       "      <td>...</td>\n",
       "      <td>...</td>\n",
       "      <td>...</td>\n",
       "      <td>...</td>\n",
       "      <td>...</td>\n",
       "      <td>...</td>\n",
       "      <td>...</td>\n",
       "      <td>...</td>\n",
       "      <td>...</td>\n",
       "      <td>...</td>\n",
       "      <td>...</td>\n",
       "      <td>...</td>\n",
       "      <td>...</td>\n",
       "      <td>...</td>\n",
       "    </tr>\n",
       "    <tr>\n",
       "      <th>468800</th>\n",
       "      <td>2</td>\n",
       "      <td>1</td>\n",
       "      <td>1</td>\n",
       "      <td>50</td>\n",
       "      <td>0</td>\n",
       "      <td>1</td>\n",
       "      <td>1</td>\n",
       "      <td>1</td>\n",
       "      <td>8</td>\n",
       "      <td>97</td>\n",
       "      <td>...</td>\n",
       "      <td>2015</td>\n",
       "      <td>5</td>\n",
       "      <td>106</td>\n",
       "      <td>1373</td>\n",
       "      <td>69</td>\n",
       "      <td>11</td>\n",
       "      <td>30</td>\n",
       "      <td>8</td>\n",
       "      <td>28</td>\n",
       "      <td>1</td>\n",
       "    </tr>\n",
       "    <tr>\n",
       "      <th>468802</th>\n",
       "      <td>1</td>\n",
       "      <td>1</td>\n",
       "      <td>1</td>\n",
       "      <td>68</td>\n",
       "      <td>1</td>\n",
       "      <td>1</td>\n",
       "      <td>1</td>\n",
       "      <td>1</td>\n",
       "      <td>2</td>\n",
       "      <td>97</td>\n",
       "      <td>...</td>\n",
       "      <td>2018</td>\n",
       "      <td>9</td>\n",
       "      <td>91</td>\n",
       "      <td>581</td>\n",
       "      <td>104</td>\n",
       "      <td>11</td>\n",
       "      <td>30</td>\n",
       "      <td>9</td>\n",
       "      <td>50</td>\n",
       "      <td>1</td>\n",
       "    </tr>\n",
       "    <tr>\n",
       "      <th>468820</th>\n",
       "      <td>1</td>\n",
       "      <td>1</td>\n",
       "      <td>1</td>\n",
       "      <td>25</td>\n",
       "      <td>3</td>\n",
       "      <td>2</td>\n",
       "      <td>1</td>\n",
       "      <td>1</td>\n",
       "      <td>2</td>\n",
       "      <td>97</td>\n",
       "      <td>...</td>\n",
       "      <td>2008</td>\n",
       "      <td>16</td>\n",
       "      <td>37</td>\n",
       "      <td>1097</td>\n",
       "      <td>104</td>\n",
       "      <td>11</td>\n",
       "      <td>21</td>\n",
       "      <td>9</td>\n",
       "      <td>0</td>\n",
       "      <td>0</td>\n",
       "    </tr>\n",
       "    <tr>\n",
       "      <th>468833</th>\n",
       "      <td>1</td>\n",
       "      <td>1</td>\n",
       "      <td>1</td>\n",
       "      <td>71</td>\n",
       "      <td>2</td>\n",
       "      <td>2</td>\n",
       "      <td>1</td>\n",
       "      <td>1</td>\n",
       "      <td>2</td>\n",
       "      <td>97</td>\n",
       "      <td>...</td>\n",
       "      <td>1998</td>\n",
       "      <td>10</td>\n",
       "      <td>107</td>\n",
       "      <td>57</td>\n",
       "      <td>100</td>\n",
       "      <td>11</td>\n",
       "      <td>30</td>\n",
       "      <td>11</td>\n",
       "      <td>6</td>\n",
       "      <td>1</td>\n",
       "    </tr>\n",
       "    <tr>\n",
       "      <th>468841</th>\n",
       "      <td>2</td>\n",
       "      <td>1</td>\n",
       "      <td>1</td>\n",
       "      <td>57</td>\n",
       "      <td>3</td>\n",
       "      <td>2</td>\n",
       "      <td>1</td>\n",
       "      <td>1</td>\n",
       "      <td>2</td>\n",
       "      <td>97</td>\n",
       "      <td>...</td>\n",
       "      <td>2013</td>\n",
       "      <td>2</td>\n",
       "      <td>91</td>\n",
       "      <td>173</td>\n",
       "      <td>104</td>\n",
       "      <td>11</td>\n",
       "      <td>25</td>\n",
       "      <td>11</td>\n",
       "      <td>6</td>\n",
       "      <td>0</td>\n",
       "    </tr>\n",
       "  </tbody>\n",
       "</table>\n",
       "<p>83954 rows × 40 columns</p>\n",
       "</div>"
      ],
      "text/plain": [
       "        Unit_Nbr  Prsn_Type_ID  Prsn_Occpnt_Pos_ID  Prsn_Age  \\\n",
       "1              2             1                   1        58   \n",
       "7              1             5                   1        61   \n",
       "8              1             5                   1        49   \n",
       "10             1             5                   1        25   \n",
       "11             1             1                   1        53   \n",
       "...          ...           ...                 ...       ...   \n",
       "468800         2             1                   1        50   \n",
       "468802         1             1                   1        68   \n",
       "468820         1             1                   1        25   \n",
       "468833         1             1                   1        71   \n",
       "468841         2             1                   1        57   \n",
       "\n",
       "        Prsn_Ethnicity_ID  Prsn_Gndr_ID  Prsn_Ejct_ID  Prsn_Rest_ID  \\\n",
       "1                       1             2             1             1   \n",
       "7                       1             1             4            11   \n",
       "8                       3             1             4            11   \n",
       "10                      4             1             4            11   \n",
       "11                      1             1             1             1   \n",
       "...                   ...           ...           ...           ...   \n",
       "468800                  0             1             1             1   \n",
       "468802                  1             1             1             1   \n",
       "468820                  3             2             1             1   \n",
       "468833                  2             2             1             1   \n",
       "468841                  3             2             1             1   \n",
       "\n",
       "        Prsn_Airbag_ID  Prsn_Helmet_ID  ...  Veh_Mod_Year  Veh_Color_ID  \\\n",
       "1                    3              97  ...          2012            17   \n",
       "7                    1               4  ...          2013             2   \n",
       "8                    1               4  ...          2019             3   \n",
       "10                   1               1  ...          2018             2   \n",
       "11                   8              97  ...          2007            16   \n",
       "...                ...             ...  ...           ...           ...   \n",
       "468800               8              97  ...          2015             5   \n",
       "468802               2              97  ...          2018             9   \n",
       "468820               2              97  ...          2008            16   \n",
       "468833               2              97  ...          1998            10   \n",
       "468841               2              97  ...          2013             2   \n",
       "\n",
       "        Veh_Make_ID  Veh_Mod_ID  Veh_Body_Styl_ID  Crash_month  Crash_day  \\\n",
       "1                91         629                30            6         15   \n",
       "7                42        3118                71            6          1   \n",
       "8                42        3174                71            6          1   \n",
       "10               44        4803                71            6          1   \n",
       "11               14        2180               100            6          1   \n",
       "...             ...         ...               ...          ...        ...   \n",
       "468800          106        1373                69           11         30   \n",
       "468802           91         581               104           11         30   \n",
       "468820           37        1097               104           11         21   \n",
       "468833          107          57               100           11         30   \n",
       "468841           91         173               104           11         25   \n",
       "\n",
       "        Crash_hour  Crash_min  Weekend  \n",
       "1               11          0        1  \n",
       "7                0         35        1  \n",
       "8                2          8        1  \n",
       "10               2         26        1  \n",
       "11               2          0        1  \n",
       "...            ...        ...      ...  \n",
       "468800           8         28        1  \n",
       "468802           9         50        1  \n",
       "468820           9          0        0  \n",
       "468833          11          6        1  \n",
       "468841          11          6        0  \n",
       "\n",
       "[83954 rows x 40 columns]"
      ]
     },
     "execution_count": 6,
     "metadata": {},
     "output_type": "execute_result"
    }
   ],
   "source": [
    "sets[1][0]"
   ]
  },
  {
   "cell_type": "markdown",
   "metadata": {
    "id": "T3fWsSaRsUKY"
   },
   "source": [
    "## Function to compute performance\n"
   ]
  },
  {
   "cell_type": "code",
   "execution_count": 7,
   "metadata": {
    "colab": {
     "base_uri": "https://localhost:8080/",
     "height": 139
    },
    "id": "IFQr2WAdsUKZ",
    "outputId": "0a736ccf-4b22-4be5-9304-fc1f51c0cc2b"
   },
   "outputs": [
    {
     "ename": "ModuleNotFoundError",
     "evalue": "No module named 'imblearn'",
     "output_type": "error",
     "traceback": [
      "\u001b[1;31m---------------------------------------------------------------------------\u001b[0m",
      "\u001b[1;31mModuleNotFoundError\u001b[0m                       Traceback (most recent call last)",
      "\u001b[1;32m<ipython-input-7-467606a1d801>\u001b[0m in \u001b[0;36m<module>\u001b[1;34m\u001b[0m\n\u001b[0;32m      1\u001b[0m \u001b[1;32mfrom\u001b[0m \u001b[0msklearn\u001b[0m\u001b[1;33m.\u001b[0m\u001b[0mmetrics\u001b[0m \u001b[1;32mimport\u001b[0m \u001b[0mconfusion_matrix\u001b[0m\u001b[1;33m\u001b[0m\u001b[1;33m\u001b[0m\u001b[0m\n\u001b[0;32m      2\u001b[0m \u001b[1;32mimport\u001b[0m \u001b[0mseaborn\u001b[0m \u001b[1;32mas\u001b[0m \u001b[0msns\u001b[0m\u001b[1;33m\u001b[0m\u001b[1;33m\u001b[0m\u001b[0m\n\u001b[1;32m----> 3\u001b[1;33m \u001b[1;32mfrom\u001b[0m \u001b[0mimblearn\u001b[0m\u001b[1;33m.\u001b[0m\u001b[0mmetrics\u001b[0m \u001b[1;32mimport\u001b[0m \u001b[0mgeometric_mean_score\u001b[0m\u001b[1;33m\u001b[0m\u001b[1;33m\u001b[0m\u001b[0m\n\u001b[0m\u001b[0;32m      4\u001b[0m \u001b[1;32mfrom\u001b[0m \u001b[0msklearn\u001b[0m\u001b[1;33m.\u001b[0m\u001b[0mmetrics\u001b[0m \u001b[1;32mimport\u001b[0m \u001b[0mauc\u001b[0m\u001b[1;33m\u001b[0m\u001b[1;33m\u001b[0m\u001b[0m\n",
      "\u001b[1;31mModuleNotFoundError\u001b[0m: No module named 'imblearn'"
     ]
    }
   ],
   "source": [
    "from sklearn.metrics import confusion_matrix\n",
    "import seaborn as sns\n",
    "from imblearn.metrics import geometric_mean_score\n",
    "from sklearn.metrics import auc"
   ]
  },
  {
   "cell_type": "code",
   "execution_count": null,
   "metadata": {
    "colab": {
     "base_uri": "https://localhost:8080/",
     "height": 523
    },
    "id": "HJQtO1insUKd",
    "outputId": "76717ec0-1693-4903-b2a6-cd807c8cab91"
   },
   "outputs": [],
   "source": [
    "def get_accs(label,prediction, show=True):\n",
    "    cm = confusion_matrix(label,prediction)\n",
    "    length = cm.shape[0]\n",
    "    num_cases = len(label)\n",
    "    # global accuracy\n",
    "    glb_acc = np.trace(cm)/len(label)\n",
    "    ind_accs = cm/np.sum(cm,axis=1)[:, np.newaxis]\n",
    "    accs = [ind_accs[i,i] for i in range(length)]\n",
    "    accs.insert(0,glb_acc)\n",
    "    # G-mean\n",
    "    accs.append(geometric_mean_score(label, prediction,correction=0.001))\n",
    "\n",
    "    if show:\n",
    "        plt.figure(figsize=(14, 6))\n",
    "        plt.subplot(1,2,1)\n",
    "        sns.heatmap(cm, xticklabels=np.arange(length), yticklabels=np.arange(length), \n",
    "                    annot=True, fmt='g',cmap=\"YlGnBu\")\n",
    "        plt.xlabel('Prediction')\n",
    "        plt.ylabel('Label')\n",
    "        plt.title('Confusion matrix')\n",
    "        plt.subplot(1,2,2)\n",
    "        sns.heatmap(ind_accs*100, xticklabels=np.arange(length), yticklabels=np.arange(length), \n",
    "                    annot=True, fmt='.2f',cmap=\"YlGnBu\")\n",
    "        plt.xlabel('Prediction')\n",
    "        plt.ylabel('Label')\n",
    "        plt.title('Normalized confusion matrix (%)')\n",
    "        plt.show()\n",
    "    return accs\n",
    "get_accs(np.random.randint(5, size=100),np.random.randint(5, size=100))"
   ]
  },
  {
   "cell_type": "markdown",
   "metadata": {
    "id": "-pN3nxIjkJgb"
   },
   "source": [
    "# Run 4 binary model without any techniques"
   ]
  },
  {
   "cell_type": "markdown",
   "metadata": {
    "id": "8Wv1fq_D7Gi4"
   },
   "source": [
    "## Function to train a model"
   ]
  },
  {
   "cell_type": "code",
   "execution_count": null,
   "metadata": {
    "id": "mMpQqGrz_6nf"
   },
   "outputs": [],
   "source": [
    "from sklearn.linear_model import LogisticRegression\n",
    "from sklearn.tree import DecisionTreeClassifier\n",
    "from sklearn.ensemble import RandomForestClassifier\n",
    "from sklearn.naive_bayes import GaussianNB\n",
    "from sklearn.linear_model import SGDClassifier\n",
    "from sklearn.naive_bayes import ComplementNB\n",
    "from sklearn.preprocessing import StandardScaler\n",
    "from sklearn.model_selection import train_test_split"
   ]
  },
  {
   "cell_type": "code",
   "execution_count": null,
   "metadata": {
    "id": "LnqtJVyqQiF3"
   },
   "outputs": [],
   "source": [
    "def prepare_data(X_dat,label):\n",
    "  # Split data set \n",
    "  X_train, X_test, y_train, y_test = train_test_split(X_dat,label,test_size=0.2,stratify=label, random_state=48)\n",
    "  #print('Training features shape:', X_train.shape)\n",
    "  #print('Test features shape:', X_test.shape)\n",
    "  \n",
    "  # Standardize the data \n",
    "  scaler = StandardScaler()\n",
    "  X_train = scaler.fit_transform(X_train)\n",
    "  X_test = scaler.transform(X_test)\n",
    "  return X_train, X_test, y_train, y_test"
   ]
  },
  {
   "cell_type": "code",
   "execution_count": null,
   "metadata": {
    "colab": {
     "base_uri": "https://localhost:8080/",
     "height": 156
    },
    "id": "VGXI5BFckI3G",
    "outputId": "ca1885c9-c310-4aa1-f548-dbee7cb616a2"
   },
   "outputs": [],
   "source": [
    "def train_model(X_tr, X_te, y_tr, y_te, model):\n",
    "\n",
    "  # and then train it with Logistic Regression\n",
    "  start = time.time()\n",
    "  model.fit(X_tr, y_tr)\n",
    "  # use the model to make predictions with the test data\n",
    "  y_pred = model.predict(X_te)\n",
    "  end= time.time()\n",
    "\n",
    "  # get the evaluation metrics\n",
    "  result = get_accs(y_te,y_pred,False)\n",
    "  result.append(end-start)\n",
    "  return result\n",
    "X_train, X_test, y_train, y_test = prepare_data(sets[3][0],sets[3][1])\n",
    "train_model(X_train, X_test, y_train, y_test, SGDClassifier(loss=\"hinge\", penalty=\"l2\", max_iter=5))"
   ]
  },
  {
   "cell_type": "markdown",
   "metadata": {
    "id": "Lxjnrxtw7KnI"
   },
   "source": [
    "## Train all 4 models with logistic regression"
   ]
  },
  {
   "cell_type": "code",
   "execution_count": null,
   "metadata": {
    "id": "pdJdWt1H-Cj2"
   },
   "outputs": [],
   "source": [
    "index = ['Global accuracy', 'Class 1','Class 2','G-mean','Training time']"
   ]
  },
  {
   "cell_type": "code",
   "execution_count": null,
   "metadata": {
    "colab": {
     "base_uri": "https://localhost:8080/",
     "height": 204
    },
    "id": "MMoFVN8YkIsf",
    "outputId": "feccc6c9-2ef2-4e5b-ab9a-4ece69190c93"
   },
   "outputs": [],
   "source": [
    "rsts = pd.DataFrame()\n",
    "for i in range(4):\n",
    "  name = 'Model #{}'.format(i+1)\n",
    "  #print(name)\n",
    "  X_train, X_test, y_train, y_test = prepare_data(sets[i][0],sets[i][1])\n",
    "  rsts[name] = train_model(X_train, X_test, y_train, y_test, LogisticRegression(solver = 'lbfgs'))\n",
    "  \n",
    "rsts.index = index\n",
    "rsts"
   ]
  },
  {
   "cell_type": "markdown",
   "metadata": {
    "id": "yusyx0DrCYQ6"
   },
   "source": [
    "## Train 4 models with 5 different ML algorithms"
   ]
  },
  {
   "cell_type": "code",
   "execution_count": null,
   "metadata": {
    "colab": {
     "base_uri": "https://localhost:8080/",
     "height": 459
    },
    "id": "DbjtnltEEbqS",
    "outputId": "2d6a363e-e8c5-4825-8fed-2c61faf064fb"
   },
   "outputs": [],
   "source": [
    "def create_ML(cw = None):\n",
    "  LR = LogisticRegression(solver = 'lbfgs',class_weight=cw)\n",
    "  DT = DecisionTreeClassifier(random_state=0,class_weight=cw)\n",
    "  RF = RandomForestClassifier(max_depth=2, random_state=0,class_weight=cw)\n",
    "  GNB = GaussianNB()\n",
    "  SGD = SGDClassifier(loss=\"hinge\", penalty=\"l2\", max_iter=5,class_weight=cw)\n",
    "  clfs = [LR,DT,RF,GNB,SGD]\n",
    "  names = ['LR','DT','RF','GNB','SGD']\n",
    "  return dict(zip(names, clfs)) \n",
    "create_ML()"
   ]
  },
  {
   "cell_type": "code",
   "execution_count": null,
   "metadata": {
    "colab": {
     "base_uri": "https://localhost:8080/",
     "height": 683
    },
    "id": "Ak_WWk01ELek",
    "outputId": "db2cced8-fe07-420d-dd02-18ae56c595fb"
   },
   "outputs": [],
   "source": [
    "rsts = pd.DataFrame()\n",
    "for i in range(4):\n",
    "  MLs = create_ML()\n",
    "  for clf_name, clf in MLs.items():\n",
    "    name = '{0} #{1}'.format(clf_name,i+1)\n",
    "    print(name)\n",
    "    try:\n",
    "      X_train, X_test, y_train, y_test = prepare_data(sets[i][0],sets[i][1])\n",
    "      rsts[name] = train_model(X_train, X_test, y_train, y_test, clf)\n",
    "    except Exception as e: print(e)\n",
    "    \n",
    "rsts.index = index\n",
    "rsts"
   ]
  },
  {
   "cell_type": "markdown",
   "metadata": {
    "id": "B3bF6lwhKOdO"
   },
   "source": [
    "Print the best performance"
   ]
  },
  {
   "cell_type": "code",
   "execution_count": null,
   "metadata": {
    "colab": {
     "base_uri": "https://localhost:8080/",
     "height": 204
    },
    "id": "3gw3bcNa3LqM",
    "outputId": "abccd814-6587-4437-b903-1949e13ab04e"
   },
   "outputs": [],
   "source": [
    "best_rst = []\n",
    "for i in range(4):\n",
    "  algo = rsts.loc['G-mean'][i*5:i*5+5].idxmax()\n",
    "  best_rst.append(algo)\n",
    "best_rst = rsts[best_rst].copy()\n",
    "best_rst"
   ]
  },
  {
   "cell_type": "markdown",
   "metadata": {
    "id": "qgWDH3ATGk6j"
   },
   "source": [
    "# Run 4 binary models with class weights"
   ]
  },
  {
   "cell_type": "code",
   "execution_count": null,
   "metadata": {
    "colab": {
     "base_uri": "https://localhost:8080/",
     "height": 802
    },
    "id": "bgpnqfMiRwzn",
    "outputId": "8f796110-0726-49ac-e7fd-aa9e028b5ed0"
   },
   "outputs": [],
   "source": [
    "rsts = pd.DataFrame()\n",
    "for i in range(4):\n",
    "  MLs = create_ML('balanced')\n",
    "  print(Counter(sets[i][1]))\n",
    "  for clf_name, clf in MLs.items():\n",
    "    name = '{0} #{1}'.format(clf_name,i+1)\n",
    "    print(name)\n",
    "    try:\n",
    "      X_train, X_test, y_train, y_test = prepare_data(sets[i][0],sets[i][1])\n",
    "      rsts[name] = train_model(X_train, X_test, y_train, y_test, clf)\n",
    "    except Exception as e: print(e)\n",
    "    \n",
    "rsts.index = index\n",
    "rsts"
   ]
  },
  {
   "cell_type": "markdown",
   "metadata": {
    "id": "gqCyIU6C6ruG"
   },
   "source": [
    "Print the best algorithm for each classfications"
   ]
  },
  {
   "cell_type": "code",
   "execution_count": null,
   "metadata": {
    "colab": {
     "base_uri": "https://localhost:8080/",
     "height": 204
    },
    "id": "PLgyPV-K6r-C",
    "outputId": "a04fba71-a2ee-408d-f80f-aead54c5760e"
   },
   "outputs": [],
   "source": [
    "best_rst = []\n",
    "for i in range(4):\n",
    "  algo = rsts.loc['G-mean'][i*5:i*5+5].idxmax()\n",
    "  best_rst.append(algo)\n",
    "best_rst_cw = rsts[best_rst].copy()\n",
    "best_rst_cw"
   ]
  },
  {
   "cell_type": "markdown",
   "metadata": {
    "id": "MttWSJBG8PFF"
   },
   "source": [
    "# Run 4 binary models with under-sampling\n"
   ]
  },
  {
   "cell_type": "code",
   "execution_count": null,
   "metadata": {
    "id": "DB-z1fKMAlBy"
   },
   "outputs": [],
   "source": [
    "from imblearn.under_sampling import RandomUnderSampler,CondensedNearestNeighbour,EditedNearestNeighbours\n",
    "from imblearn.under_sampling import AllKNN, InstanceHardnessThreshold, NearMiss, NeighbourhoodCleaningRule\n",
    "from imblearn.under_sampling import     TomekLinks\n",
    "from imblearn.under_sampling import     OneSidedSelection"
   ]
  },
  {
   "cell_type": "code",
   "execution_count": null,
   "metadata": {
    "id": "j1a97LYLvbJa"
   },
   "outputs": [],
   "source": [
    "import warnings; warnings.simplefilter('ignore')"
   ]
  },
  {
   "cell_type": "code",
   "execution_count": null,
   "metadata": {
    "colab": {
     "base_uri": "https://localhost:8080/",
     "height": 357
    },
    "id": "eovVRZG1DiIE",
    "outputId": "90cb552c-8387-426f-e483-4774cf301687"
   },
   "outputs": [],
   "source": [
    "rus = RandomUnderSampler(random_state=42)\n",
    "#cnn = CondensedNearestNeighbour(random_state=42)\n",
    "enn = EditedNearestNeighbours(random_state=42)\n",
    "aknn = AllKNN(random_state=42)\n",
    "iht = InstanceHardnessThreshold(random_state=42)\n",
    "nrms =NearMiss(random_state=42)\n",
    "ncr = NeighbourhoodCleaningRule(random_state=42)\n",
    "oss = OneSidedSelection(random_state=42)\n",
    "tml = TomekLinks(random_state=42)\n",
    "\n",
    "unders = [rus, enn, aknn, iht, nrms, ncr, oss, tml]\n",
    "under_names = ['RandomUnderSampler',\n",
    "            'EditedNearestNeighbours', 'AllKNN', 'InstanceHardnessThreshold', \n",
    "            'NearMiss', 'NeighbourhoodCleaningRule',\n",
    "            'OneSidedSelection','TomekLinks']\n",
    "URs=dict(zip(under_names,unders))\n",
    "URs"
   ]
  },
  {
   "cell_type": "code",
   "execution_count": null,
   "metadata": {
    "colab": {
     "base_uri": "https://localhost:8080/",
     "height": 136
    },
    "id": "nW2krBG_-kWs",
    "outputId": "5561a77c-0b39-4388-8b16-b6485bfb175c"
   },
   "outputs": [],
   "source": [
    "def under_resampling(data,method):\n",
    "  urs = URs[method]\n",
    "  X_urs, y_urs = urs.fit_resample(data[0], data[1])\n",
    "  return X_urs, y_urs\n",
    "under_resampling(sets[3],under_names[0])"
   ]
  },
  {
   "cell_type": "code",
   "execution_count": null,
   "metadata": {
    "id": "mwRBbw-TBSys"
   },
   "outputs": [],
   "source": [
    "import warnings; warnings.simplefilter('ignore')"
   ]
  },
  {
   "cell_type": "markdown",
   "metadata": {
    "id": "wVBv2EUoLtQY"
   },
   "source": [
    "#### Find the fastest under sampling techniques"
   ]
  },
  {
   "cell_type": "code",
   "execution_count": null,
   "metadata": {
    "colab": {
     "base_uri": "https://localhost:8080/",
     "height": 119
    },
    "id": "u0G4LYbw-AVl",
    "outputId": "eb13112c-6ae4-44fb-f5f5-629c79d889a2"
   },
   "outputs": [],
   "source": [
    "print(Counter(sets[2][1]))\n",
    "perform ={}\n",
    "for key in ['RandomUnderSampler','NearMiss','EditedNearestNeighbours','TomekLinks','OneSidedSelection']:\n",
    "  start = time.time()\n",
    "  under_resampling(sets[1],key)\n",
    "  end = time.time()\n",
    "  perform[key]=end-start\n",
    "\n",
    "sorted(perform.items(), key=lambda x: x[1])"
   ]
  },
  {
   "cell_type": "markdown",
   "metadata": {
    "id": "3mNPna6oK9iS"
   },
   "source": [
    "Best are ROS, NM, ENN"
   ]
  },
  {
   "cell_type": "code",
   "execution_count": null,
   "metadata": {
    "id": "M6KWt51jrZSr"
   },
   "outputs": [],
   "source": []
  },
  {
   "cell_type": "code",
   "execution_count": null,
   "metadata": {
    "id": "e3eUAFqQPhC6"
   },
   "outputs": [],
   "source": [
    "def prepare_data2(X_dat,label,resampler):\n",
    "  # Split data set \n",
    "  X_train, X_test, y_train, y_test = train_test_split(X_dat,label,test_size=0.2,stratify=label, random_state=48)\n",
    "  #print('Training features shape:', X_train.shape)\n",
    "  #print('Test features shape:', X_test.shape)\n",
    "  \n",
    "  # Standardize the data \n",
    "  scaler = StandardScaler()\n",
    "  X_train = scaler.fit_transform(X_train)\n",
    "  X_test = scaler.transform(X_test)\n",
    "  # Resampling the training set\n",
    "  X_train, y_train = resampler.fit_resample(X_train, y_train)\n",
    "  return X_train, X_test, y_train, y_test"
   ]
  },
  {
   "cell_type": "markdown",
   "metadata": {
    "id": "3yBQUGd9I4PO"
   },
   "source": [
    "### Random under resampling\n"
   ]
  },
  {
   "cell_type": "code",
   "execution_count": null,
   "metadata": {
    "colab": {
     "base_uri": "https://localhost:8080/",
     "height": 544
    },
    "id": "RsIADmEDFJz2",
    "outputId": "8e580dc2-4483-4337-d6c1-c2e5de064322"
   },
   "outputs": [],
   "source": [
    "rsts = pd.DataFrame()\n",
    "for i in range(4):\n",
    "  MLs = create_ML('balanced')\n",
    "  rus = RandomUnderSampler(random_state=42)\n",
    "  X_train, X_test, y_train, y_test = prepare_data2(sets[i][0],sets[i][1],rus)\n",
    "  rus = RandomUnderSampler(random_state=42)\n",
    "  for clf_name, clf in MLs.items():\n",
    "    name = '{0} #{1}'.format(clf_name,i+1)\n",
    "    print(name)\n",
    "    try:\n",
    "      rsts[name] = train_model(X_train, X_test, y_train, y_test, clf)\n",
    "    except Exception as e: print(e)\n",
    "    \n",
    "rsts.index = index\n",
    "best_rst = []\n",
    "for i in range(4):\n",
    "  algo = rsts.loc['G-mean'][i*5:i*5+5].idxmax()\n",
    "  best_rst.append(algo)\n",
    "best_rst_ur = rsts[best_rst].copy()\n",
    "best_rst_ur"
   ]
  },
  {
   "cell_type": "markdown",
   "metadata": {
    "id": "Rgwm9hLzIhUY"
   },
   "source": [
    "## Near Miss"
   ]
  },
  {
   "cell_type": "code",
   "execution_count": null,
   "metadata": {
    "id": "Mb8nw5aQIKWF"
   },
   "outputs": [],
   "source": [
    "rsts = pd.DataFrame()\n",
    "for i in range(4):\n",
    "  MLs = create_ML('balanced')\n",
    "  nrms =NearMiss(random_state=42)\n",
    "  X_train, X_test, y_train, y_test = prepare_data2(sets[i][0],sets[i][1],nrms)\n",
    "  for clf_name, clf in MLs.items():\n",
    "    name = '{0} #{1}'.format(clf_name,i+1)\n",
    "    print(name)\n",
    "    try:\n",
    "      rsts[name] = train_model(X_train, X_test, y_train, y_test, clf)\n",
    "    except Exception as e: print(e)\n",
    "    \n",
    "rsts.index = index\n",
    "best_rst = []\n",
    "for i in range(4):\n",
    "  algo = rsts.loc['G-mean'][i*5:i*5+5].idxmax()\n",
    "  best_rst.append(algo)\n",
    "best_rst_ur = rsts[best_rst].copy()\n",
    "best_rst_ur"
   ]
  },
  {
   "cell_type": "markdown",
   "metadata": {
    "id": "w297VFGDIluk"
   },
   "source": [
    "## Edited Nearest Neighbours"
   ]
  },
  {
   "cell_type": "code",
   "execution_count": null,
   "metadata": {
    "colab": {
     "base_uri": "https://localhost:8080/",
     "height": 612
    },
    "id": "lpyDl6BKIlG7",
    "outputId": "805aaa9c-f817-45d9-f0ab-867515049720"
   },
   "outputs": [],
   "source": [
    "rsts = pd.DataFrame()\n",
    "for i in range(4):\n",
    "  MLs = create_ML('balanced')\n",
    "  enn = EditedNearestNeighbours(random_state=42)\n",
    "  X_train, X_test, y_train, y_test = prepare_data2(sets[i][0],sets[i][1],enn)\n",
    "  for clf_name, clf in MLs.items():\n",
    "    name = '{0} #{1}'.format(clf_name,i+1)\n",
    "    print(name)\n",
    "    try:\n",
    "      rsts[name] = train_model(X_train, X_test, y_train, y_test, clf)\n",
    "    except Exception as e: print(e)\n",
    "    \n",
    "rsts.index = index\n",
    "best_rst = []\n",
    "for i in range(4):\n",
    "  algo = rsts.loc['G-mean'][i*5:i*5+5].idxmax()\n",
    "  best_rst.append(algo)\n",
    "best_rst_ur = rsts[best_rst].copy()\n",
    "best_rst_ur"
   ]
  },
  {
   "cell_type": "markdown",
   "metadata": {
    "id": "cedBq2E2GXkH"
   },
   "source": [
    "# Run 4 binary models with over-sampling\n"
   ]
  },
  {
   "cell_type": "code",
   "execution_count": null,
   "metadata": {
    "id": "LlPf_4sDGXkM"
   },
   "outputs": [],
   "source": [
    "from imblearn.over_sampling import RandomOverSampler,SMOTE\n",
    "from imblearn.over_sampling import ADASYN, BorderlineSMOTE"
   ]
  },
  {
   "cell_type": "code",
   "execution_count": null,
   "metadata": {
    "colab": {
     "base_uri": "https://localhost:8080/",
     "height": 170
    },
    "id": "EleiYR9mJf-U",
    "outputId": "a02d00cb-0396-4172-8d8d-2fcb7539ace9"
   },
   "outputs": [],
   "source": [
    "ada = ADASYN(random_state=42)\n",
    "bsm = BorderlineSMOTE(random_state=42)\n",
    "#ksm = KMeansSMOTE(random_state=42)\n",
    "ros = RandomOverSampler(random_state=42)\n",
    "sm = SMOTE(random_state=42)\n",
    "\n",
    "overs = [ros, sm, bsm, ada]\n",
    "over_names = ['RandomOverSampler','SMOTE',\n",
    "            'BorderlineSMOTE', 'ADASYN']\n",
    "ORs=dict(zip(over_names,overs))\n",
    "ORs"
   ]
  },
  {
   "cell_type": "code",
   "execution_count": null,
   "metadata": {
    "colab": {
     "base_uri": "https://localhost:8080/",
     "height": 34
    },
    "id": "fPZjd89hGXks",
    "outputId": "a52b7782-e612-44a1-b097-7ee6683b5dbb"
   },
   "outputs": [],
   "source": [
    "def over_resampling(data,method):\n",
    "  urs = ORs[method]\n",
    "  X_urs, y_urs = urs.fit_resample(data[0], data[1])\n",
    "  return X_urs, y_urs\n",
    "_,y_or = over_resampling(sets[3],over_names[0])\n",
    "Counter(sets[3][1]), Counter(y_or)"
   ]
  },
  {
   "cell_type": "code",
   "execution_count": null,
   "metadata": {
    "colab": {
     "base_uri": "https://localhost:8080/",
     "height": 102
    },
    "id": "VasnWl55L13F",
    "outputId": "a57d3b90-1330-438a-e919-9330510521e0"
   },
   "outputs": [],
   "source": [
    "i = 2\n",
    "print(Counter(sets[i][1]))\n",
    "perform ={}\n",
    "for key in over_names:\n",
    "  start = time.time()\n",
    "  over_resampling(sets[i],key)\n",
    "  end = time.time()\n",
    "  perform[key]=end-start\n",
    "\n",
    "sorted(perform.items(), key=lambda x: x[1])"
   ]
  },
  {
   "cell_type": "markdown",
   "metadata": {
    "id": "hM56x9_kIziY"
   },
   "source": [
    "### Random over resampling"
   ]
  },
  {
   "cell_type": "code",
   "execution_count": null,
   "metadata": {
    "colab": {
     "base_uri": "https://localhost:8080/",
     "height": 544
    },
    "id": "RRdrsV1xGXky",
    "outputId": "ad0bf5ca-8140-4801-e9d1-af8bfcb0ee24"
   },
   "outputs": [],
   "source": [
    "rsts = pd.DataFrame()\n",
    "for i in range(4):\n",
    "  MLs = create_ML('balanced')\n",
    "  ros = RandomOverSampler(random_state=42)\n",
    "  X_train, X_test, y_train, y_test = prepare_data2(sets[i][0],sets[i][1],ros)\n",
    "  for clf_name, clf in MLs.items():\n",
    "    name = '{0} #{1}'.format(clf_name,i+1)\n",
    "    print(name)\n",
    "    try:\n",
    "      rsts[name] = train_model(X_train, X_test, y_train, y_test, clf)\n",
    "    except Exception as e: print(e)\n",
    "    \n",
    "rsts.index = index\n",
    "best_rst = []\n",
    "for i in range(4):\n",
    "  algo = rsts.loc['G-mean'][i*5:i*5+5].idxmax()\n",
    "  best_rst.append(algo)\n",
    "best_rst_ur = rsts[best_rst].copy()\n",
    "best_rst_ur"
   ]
  },
  {
   "cell_type": "markdown",
   "metadata": {
    "id": "yA2m3ULWuhHX"
   },
   "source": [
    "### SMOTE\n"
   ]
  },
  {
   "cell_type": "code",
   "execution_count": null,
   "metadata": {
    "id": "vYI3XOTVIdxi"
   },
   "outputs": [],
   "source": [
    "rsts = pd.DataFrame()\n",
    "for i in range(4):\n",
    "  MLs = create_ML('balanced')\n",
    "  sm = SMOTE(random_state=42)\n",
    "  X_train, X_test, y_train, y_test = prepare_data2(sets[i][0],sets[i][1],sm)\n",
    "  for clf_name, clf in MLs.items():\n",
    "    name = '{0} #{1}'.format(clf_name,i+1)\n",
    "    print(name)\n",
    "    try:\n",
    "      rsts[name] = train_model(X_train, X_test, y_train, y_test, clf)\n",
    "    except Exception as e: print(e)\n",
    "    \n",
    "rsts.index = index\n",
    "best_rst = []\n",
    "for i in range(4):\n",
    "  algo = rsts.loc['G-mean'][i*5:i*5+5].idxmax()\n",
    "  best_rst.append(algo)\n",
    "best_rst_ur = rsts[best_rst].copy()\n",
    "best_rst_ur"
   ]
  },
  {
   "cell_type": "markdown",
   "metadata": {
    "id": "AHTKs48tNpop"
   },
   "source": [
    "### BorderlineSMOTE\n"
   ]
  },
  {
   "cell_type": "code",
   "execution_count": null,
   "metadata": {
    "colab": {
     "base_uri": "https://localhost:8080/",
     "height": 612
    },
    "id": "oDFz_fTvNpos",
    "outputId": "e9900554-ccc8-4dec-f579-8a8270e9edb7"
   },
   "outputs": [],
   "source": [
    "rsts = pd.DataFrame()\n",
    "for i in range(4):\n",
    "  MLs = create_ML('balanced')\n",
    "  bsm = BorderlineSMOTE(random_state=42)\n",
    "  X_train, X_test, y_train, y_test = prepare_data2(sets[i][0],sets[i][1],bsm)\n",
    "  for clf_name, clf in MLs.items():\n",
    "    name = '{0} #{1}'.format(clf_name,i+1)\n",
    "    print(name)\n",
    "    try:\n",
    "      rsts[name] = train_model(X_train, X_test, y_train, y_test, clf)\n",
    "    except Exception as e: print(e)\n",
    "    \n",
    "rsts.index = index\n",
    "best_rst = []\n",
    "for i in range(4):\n",
    "  algo = rsts.loc['G-mean'][i*5:i*5+5].idxmax()\n",
    "  best_rst.append(algo)\n",
    "best_rst_ur = rsts[best_rst].copy()\n",
    "best_rst_ur"
   ]
  },
  {
   "cell_type": "markdown",
   "metadata": {
    "id": "KUjvQL9qNqhP"
   },
   "source": [
    "### Adasyn\n"
   ]
  },
  {
   "cell_type": "code",
   "execution_count": null,
   "metadata": {
    "colab": {
     "base_uri": "https://localhost:8080/",
     "height": 612
    },
    "id": "5SumBeEhNqhQ",
    "outputId": "2c1b2d52-87f9-45d8-bc00-68c83ee2c916"
   },
   "outputs": [],
   "source": [
    "rsts = pd.DataFrame()\n",
    "for i in range(4):\n",
    "  MLs = create_ML('balanced')\n",
    "  ada = ADASYN(random_state=42)\n",
    "  X_train, X_test, y_train, y_test = prepare_data2(sets[i][0],sets[i][1],ada)\n",
    "  for clf_name, clf in MLs.items():\n",
    "    name = '{0} #{1}'.format(clf_name,i+1)\n",
    "    print(name)\n",
    "    try:\n",
    "      rsts[name] = train_model(X_train, X_test, y_train, y_test, clf)\n",
    "    except Exception as e: print(e)\n",
    "    \n",
    "rsts.index = index\n",
    "best_rst = []\n",
    "for i in range(4):\n",
    "  algo = rsts.loc['G-mean'][i*5:i*5+5].idxmax()\n",
    "  best_rst.append(algo)\n",
    "best_rst_ur = rsts[best_rst].copy()\n",
    "best_rst_ur"
   ]
  },
  {
   "cell_type": "code",
   "execution_count": null,
   "metadata": {
    "id": "d-H7mGzZZke9"
   },
   "outputs": [],
   "source": []
  },
  {
   "cell_type": "markdown",
   "metadata": {
    "id": "Gtu9Frk5Wg2W"
   },
   "source": [
    "# Variables\n"
   ]
  },
  {
   "cell_type": "code",
   "execution_count": null,
   "metadata": {
    "id": "PKl1e9RwVCCk"
   },
   "outputs": [],
   "source": [
    "%whos"
   ]
  }
 ],
 "metadata": {
  "colab": {
   "collapsed_sections": [],
   "include_colab_link": true,
   "name": "VCA_3_0_binary_models_MLs.ipynb",
   "provenance": [],
   "toc_visible": true
  },
  "kernelspec": {
   "display_name": "Python 3",
   "language": "python",
   "name": "python3"
  },
  "language_info": {
   "codemirror_mode": {
    "name": "ipython",
    "version": 3
   },
   "file_extension": ".py",
   "mimetype": "text/x-python",
   "name": "python",
   "nbconvert_exporter": "python",
   "pygments_lexer": "ipython3",
   "version": "3.7.7"
  },
  "toc": {
   "base_numbering": 1,
   "nav_menu": {},
   "number_sections": true,
   "sideBar": true,
   "skip_h1_title": false,
   "title_cell": "Table of Contents",
   "title_sidebar": "Contents",
   "toc_cell": false,
   "toc_position": {},
   "toc_section_display": true,
   "toc_window_display": true
  }
 },
 "nbformat": 4,
 "nbformat_minor": 1
}
