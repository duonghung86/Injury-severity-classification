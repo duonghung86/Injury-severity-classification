{
 "cells": [
  {
   "cell_type": "markdown",
   "metadata": {
    "colab_type": "text",
    "id": "view-in-github"
   },
   "source": [
    "<a href=\"https://colab.research.google.com/github/duonghung86/Injury-severity-classification/blob/main/VCA_3_0_binary_models_MLs.ipynb\" target=\"_parent\"><img src=\"https://colab.research.google.com/assets/colab-badge.svg\" alt=\"Open In Colab\"/></a>"
   ]
  },
  {
   "cell_type": "code",
   "execution_count": 50,
   "metadata": {
    "ExecuteTime": {
     "end_time": "2020-05-22T16:58:50.479838Z",
     "start_time": "2020-05-22T16:58:42.773756Z"
    },
    "id": "1QxOQkOlJ1S_"
   },
   "outputs": [
    {
     "name": "stdout",
     "output_type": "stream",
     "text": [
      "2.1.0\n"
     ]
    }
   ],
   "source": [
    "# Basic packages\n",
    "import matplotlib.pyplot as plt\n",
    "import numpy as np\n",
    "import pandas as pd\n",
    "import tensorflow as tf\n",
    "print(tf.__version__)\n",
    "from tensorflow import keras\n",
    "import time\n",
    "import seaborn as sns\n",
    "from sklearn.model_selection import train_test_split\n",
    "from tensorflow.keras import layers"
   ]
  },
  {
   "cell_type": "markdown",
   "metadata": {
    "id": "Cq34ehtsJ1Th"
   },
   "source": [
    "# Import dataset"
   ]
  },
  {
   "cell_type": "code",
   "execution_count": 2,
   "metadata": {
    "ExecuteTime": {
     "end_time": "2020-05-22T16:58:50.489267Z",
     "start_time": "2020-05-22T16:58:50.483277Z"
    },
    "colab": {
     "base_uri": "https://localhost:8080/",
     "height": 241
    },
    "id": "zIfnkmMfKLN-",
    "outputId": "47fad32c-bbe0-4bc2-bcb7-e2cd95cfc155"
   },
   "outputs": [
    {
     "name": "stdout",
     "output_type": "stream",
     "text": [
      "(949856, 19)\n"
     ]
    },
    {
     "data": {
      "text/html": [
       "<div>\n",
       "<style scoped>\n",
       "    .dataframe tbody tr th:only-of-type {\n",
       "        vertical-align: middle;\n",
       "    }\n",
       "\n",
       "    .dataframe tbody tr th {\n",
       "        vertical-align: top;\n",
       "    }\n",
       "\n",
       "    .dataframe thead th {\n",
       "        text-align: right;\n",
       "    }\n",
       "</style>\n",
       "<table border=\"1\" class=\"dataframe\">\n",
       "  <thead>\n",
       "    <tr style=\"text-align: right;\">\n",
       "      <th></th>\n",
       "      <th>Prsn_Injry_Sev</th>\n",
       "      <th>Prsn_Age</th>\n",
       "      <th>Prsn_Gndr</th>\n",
       "      <th>Wthr_Cond</th>\n",
       "      <th>Light_Cond</th>\n",
       "      <th>Surf_Cond</th>\n",
       "      <th>Veh_Body_Styl</th>\n",
       "      <th>Prsn_Rest</th>\n",
       "      <th>Prsn_Drg_Rslt</th>\n",
       "      <th>Harm_Evnt</th>\n",
       "      <th>Rural</th>\n",
       "      <th>Crash_Speed_Limit</th>\n",
       "      <th>Road_Algn</th>\n",
       "      <th>Veh_Mod_Year</th>\n",
       "      <th>Weekend</th>\n",
       "      <th>Crash_season</th>\n",
       "      <th>Part_of_day</th>\n",
       "      <th>Collsn_type</th>\n",
       "      <th>Collsn_name</th>\n",
       "    </tr>\n",
       "  </thead>\n",
       "  <tbody>\n",
       "    <tr>\n",
       "      <th>0</th>\n",
       "      <td>0</td>\n",
       "      <td>26</td>\n",
       "      <td>MALE</td>\n",
       "      <td>CLEAR</td>\n",
       "      <td>DAYLIGHT</td>\n",
       "      <td>DRY</td>\n",
       "      <td>PASSENGER CAR, 2-DOOR</td>\n",
       "      <td>SHOULDER &amp; LAP BELT</td>\n",
       "      <td>Not Applicable</td>\n",
       "      <td>MOTOR VEHICLE IN TRANSPORT</td>\n",
       "      <td>0</td>\n",
       "      <td>-1</td>\n",
       "      <td>STRAIGHT, LEVEL</td>\n",
       "      <td>33</td>\n",
       "      <td>1</td>\n",
       "      <td>3</td>\n",
       "      <td>3</td>\n",
       "      <td>SAME DIRECTION</td>\n",
       "      <td>ONE STRAIGHT-ONE LEFT TURN</td>\n",
       "    </tr>\n",
       "    <tr>\n",
       "      <th>1</th>\n",
       "      <td>0</td>\n",
       "      <td>52</td>\n",
       "      <td>MALE</td>\n",
       "      <td>CLEAR</td>\n",
       "      <td>DAYLIGHT</td>\n",
       "      <td>DRY</td>\n",
       "      <td>PASSENGER CAR, 2-DOOR</td>\n",
       "      <td>SHOULDER &amp; LAP BELT</td>\n",
       "      <td>Not Applicable</td>\n",
       "      <td>MOTOR VEHICLE IN TRANSPORT</td>\n",
       "      <td>0</td>\n",
       "      <td>-1</td>\n",
       "      <td>STRAIGHT, LEVEL</td>\n",
       "      <td>19</td>\n",
       "      <td>1</td>\n",
       "      <td>3</td>\n",
       "      <td>3</td>\n",
       "      <td>SAME DIRECTION</td>\n",
       "      <td>ONE STRAIGHT-ONE LEFT TURN</td>\n",
       "    </tr>\n",
       "    <tr>\n",
       "      <th>2</th>\n",
       "      <td>0</td>\n",
       "      <td>27</td>\n",
       "      <td>FEMALE</td>\n",
       "      <td>CLEAR</td>\n",
       "      <td>DAYLIGHT</td>\n",
       "      <td>DRY</td>\n",
       "      <td>PICKUP</td>\n",
       "      <td>SHOULDER &amp; LAP BELT</td>\n",
       "      <td>Not Applicable</td>\n",
       "      <td>MOTOR VEHICLE IN TRANSPORT</td>\n",
       "      <td>1</td>\n",
       "      <td>-1</td>\n",
       "      <td>CURVE, LEVEL</td>\n",
       "      <td>16</td>\n",
       "      <td>1</td>\n",
       "      <td>3</td>\n",
       "      <td>4</td>\n",
       "      <td>SAME DIRECTION</td>\n",
       "      <td>BOTH LEFT TURN</td>\n",
       "    </tr>\n",
       "    <tr>\n",
       "      <th>3</th>\n",
       "      <td>0</td>\n",
       "      <td>44</td>\n",
       "      <td>MALE</td>\n",
       "      <td>CLEAR</td>\n",
       "      <td>DAYLIGHT</td>\n",
       "      <td>DRY</td>\n",
       "      <td>PICKUP</td>\n",
       "      <td>SHOULDER &amp; LAP BELT</td>\n",
       "      <td>Not Applicable</td>\n",
       "      <td>MOTOR VEHICLE IN TRANSPORT</td>\n",
       "      <td>1</td>\n",
       "      <td>-1</td>\n",
       "      <td>CURVE, LEVEL</td>\n",
       "      <td>4</td>\n",
       "      <td>1</td>\n",
       "      <td>3</td>\n",
       "      <td>4</td>\n",
       "      <td>SAME DIRECTION</td>\n",
       "      <td>BOTH LEFT TURN</td>\n",
       "    </tr>\n",
       "    <tr>\n",
       "      <th>4</th>\n",
       "      <td>0</td>\n",
       "      <td>50</td>\n",
       "      <td>FEMALE</td>\n",
       "      <td>CLEAR</td>\n",
       "      <td>DAYLIGHT</td>\n",
       "      <td>DRY</td>\n",
       "      <td>SPORT UTILITY VEHICLE</td>\n",
       "      <td>SHOULDER &amp; LAP BELT</td>\n",
       "      <td>Not Applicable</td>\n",
       "      <td>MOTOR VEHICLE IN TRANSPORT</td>\n",
       "      <td>0</td>\n",
       "      <td>-1</td>\n",
       "      <td>STRAIGHT, LEVEL</td>\n",
       "      <td>16</td>\n",
       "      <td>1</td>\n",
       "      <td>3</td>\n",
       "      <td>4</td>\n",
       "      <td>ANGLE</td>\n",
       "      <td>BOTH GOING STRAIGHT</td>\n",
       "    </tr>\n",
       "  </tbody>\n",
       "</table>\n",
       "</div>"
      ],
      "text/plain": [
       "   Prsn_Injry_Sev  Prsn_Age Prsn_Gndr Wthr_Cond Light_Cond Surf_Cond  \\\n",
       "0               0        26      MALE     CLEAR   DAYLIGHT       DRY   \n",
       "1               0        52      MALE     CLEAR   DAYLIGHT       DRY   \n",
       "2               0        27    FEMALE     CLEAR   DAYLIGHT       DRY   \n",
       "3               0        44      MALE     CLEAR   DAYLIGHT       DRY   \n",
       "4               0        50    FEMALE     CLEAR   DAYLIGHT       DRY   \n",
       "\n",
       "           Veh_Body_Styl            Prsn_Rest   Prsn_Drg_Rslt  \\\n",
       "0  PASSENGER CAR, 2-DOOR  SHOULDER & LAP BELT  Not Applicable   \n",
       "1  PASSENGER CAR, 2-DOOR  SHOULDER & LAP BELT  Not Applicable   \n",
       "2                 PICKUP  SHOULDER & LAP BELT  Not Applicable   \n",
       "3                 PICKUP  SHOULDER & LAP BELT  Not Applicable   \n",
       "4  SPORT UTILITY VEHICLE  SHOULDER & LAP BELT  Not Applicable   \n",
       "\n",
       "                    Harm_Evnt  Rural  Crash_Speed_Limit        Road_Algn  \\\n",
       "0  MOTOR VEHICLE IN TRANSPORT      0                 -1  STRAIGHT, LEVEL   \n",
       "1  MOTOR VEHICLE IN TRANSPORT      0                 -1  STRAIGHT, LEVEL   \n",
       "2  MOTOR VEHICLE IN TRANSPORT      1                 -1     CURVE, LEVEL   \n",
       "3  MOTOR VEHICLE IN TRANSPORT      1                 -1     CURVE, LEVEL   \n",
       "4  MOTOR VEHICLE IN TRANSPORT      0                 -1  STRAIGHT, LEVEL   \n",
       "\n",
       "   Veh_Mod_Year  Weekend  Crash_season  Part_of_day     Collsn_type  \\\n",
       "0            33        1             3            3  SAME DIRECTION   \n",
       "1            19        1             3            3  SAME DIRECTION   \n",
       "2            16        1             3            4  SAME DIRECTION   \n",
       "3             4        1             3            4  SAME DIRECTION   \n",
       "4            16        1             3            4           ANGLE   \n",
       "\n",
       "                  Collsn_name  \n",
       "0  ONE STRAIGHT-ONE LEFT TURN  \n",
       "1  ONE STRAIGHT-ONE LEFT TURN  \n",
       "2              BOTH LEFT TURN  \n",
       "3              BOTH LEFT TURN  \n",
       "4         BOTH GOING STRAIGHT  "
      ]
     },
     "execution_count": 2,
     "metadata": {},
     "output_type": "execute_result"
    }
   ],
   "source": [
    "df = pd.read_csv('Prepared Texas 2019.csv')\n",
    "print(df.shape)\n",
    "df.head()"
   ]
  },
  {
   "cell_type": "code",
   "execution_count": 3,
   "metadata": {},
   "outputs": [],
   "source": [
    "#create a back up\n",
    "backup_df = df.copy()"
   ]
  },
  {
   "cell_type": "code",
   "execution_count": 6,
   "metadata": {},
   "outputs": [
    {
     "data": {
      "text/plain": [
       "(189971, 19)"
      ]
     },
     "execution_count": 6,
     "metadata": {},
     "output_type": "execute_result"
    }
   ],
   "source": [
    "# Let's just use 20% of the total dataset\n",
    "df, _ = train_test_split(df, test_size=0.8,stratify = df['Prsn_Injry_Sev'])\n",
    "df.shape"
   ]
  },
  {
   "cell_type": "code",
   "execution_count": 7,
   "metadata": {
    "ExecuteTime": {
     "end_time": "2020-05-22T16:59:01.505031Z",
     "start_time": "2020-05-22T16:59:01.492554Z"
    },
    "colab": {
     "base_uri": "https://localhost:8080/",
     "height": 119
    },
    "id": "0yIHRk4sJ1Tx",
    "outputId": "2c26b27c-deab-4c7c-a5ae-d1286a62ba19"
   },
   "outputs": [
    {
     "data": {
      "text/plain": [
       "0    158512\n",
       "1     20482\n",
       "2      9048\n",
       "3      1590\n",
       "4       339\n",
       "Name: Prsn_Injry_Sev, dtype: int64"
      ]
     },
     "execution_count": 7,
     "metadata": {},
     "output_type": "execute_result"
    }
   ],
   "source": [
    "y=df['Prsn_Injry_Sev']\n",
    "y.value_counts()"
   ]
  },
  {
   "cell_type": "code",
   "execution_count": 8,
   "metadata": {
    "colab": {
     "base_uri": "https://localhost:8080/",
     "height": 34
    },
    "id": "e--sth53sUJ2",
    "outputId": "5497d455-a022-4798-d44c-52342882db66"
   },
   "outputs": [
    {
     "data": {
      "text/plain": [
       "(189971, 18)"
      ]
     },
     "execution_count": 8,
     "metadata": {},
     "output_type": "execute_result"
    }
   ],
   "source": [
    "X = df.drop(columns=['Prsn_Injry_Sev'])\n",
    "X.shape"
   ]
  },
  {
   "cell_type": "code",
   "execution_count": 9,
   "metadata": {},
   "outputs": [
    {
     "data": {
      "text/plain": [
       "(['Wthr_Cond',\n",
       "  'Light_Cond',\n",
       "  'Surf_Cond',\n",
       "  'Veh_Body_Styl',\n",
       "  'Prsn_Rest',\n",
       "  'Harm_Evnt',\n",
       "  'Road_Algn',\n",
       "  'Collsn_name'],\n",
       " ['Prsn_Gndr', 'Prsn_Drg_Rslt', 'Collsn_type'],\n",
       " ['Prsn_Injry_Sev',\n",
       "  'Prsn_Age',\n",
       "  'Rural',\n",
       "  'Crash_Speed_Limit',\n",
       "  'Veh_Mod_Year',\n",
       "  'Weekend',\n",
       "  'Crash_season',\n",
       "  'Part_of_day'])"
      ]
     },
     "execution_count": 9,
     "metadata": {},
     "output_type": "execute_result"
    }
   ],
   "source": [
    "emb_vars, ind_vars, num_vars = [], [], []\n",
    "for var in df.columns:\n",
    "    if df[var].dtypes == 'O':\n",
    "        if len(df[var].unique())>5:\n",
    "            emb_vars.append(var)\n",
    "        else:\n",
    "            ind_vars.append(var)\n",
    "    else:\n",
    "        num_vars.append(var)\n",
    "emb_vars, ind_vars, num_vars "
   ]
  },
  {
   "cell_type": "code",
   "execution_count": 22,
   "metadata": {},
   "outputs": [
    {
     "data": {
      "text/plain": [
       "Index(['DARK, UNKNOWN LIGHTING', 'UNKNOWN', 'OTHER (EXPLAIN IN NARRATIVE)'], dtype='object')"
      ]
     },
     "execution_count": 22,
     "metadata": {},
     "output_type": "execute_result"
    }
   ],
   "source": [
    "var_dist = X[emb_vars[1]].value_counts()/len(y)<0.01\n",
    "minor_cates = var_dist[var_dist].index\n",
    "minor_cates"
   ]
  },
  {
   "cell_type": "code",
   "execution_count": 26,
   "metadata": {},
   "outputs": [
    {
     "data": {
      "text/plain": [
       "673794          DARK, UNKNOWN LIGHTING\n",
       "796107          DARK, UNKNOWN LIGHTING\n",
       "770515    OTHER (EXPLAIN IN NARRATIVE)\n",
       "947422          DARK, UNKNOWN LIGHTING\n",
       "392254    OTHER (EXPLAIN IN NARRATIVE)\n",
       "                      ...             \n",
       "397040          DARK, UNKNOWN LIGHTING\n",
       "612199          DARK, UNKNOWN LIGHTING\n",
       "270452          DARK, UNKNOWN LIGHTING\n",
       "804567                         UNKNOWN\n",
       "424446          DARK, UNKNOWN LIGHTING\n",
       "Name: Light_Cond, Length: 1477, dtype: object"
      ]
     },
     "execution_count": 26,
     "metadata": {},
     "output_type": "execute_result"
    }
   ],
   "source": [
    "X[emb_vars[1]][X[emb_vars[1]].isin(minor_cates)]"
   ]
  },
  {
   "cell_type": "code",
   "execution_count": 27,
   "metadata": {},
   "outputs": [
    {
     "name": "stdout",
     "output_type": "stream",
     "text": [
      "Index(['FOG', 'UNKNOWN', 'SEVERE CROSSWINDS', 'SLEET/HAIL',\n",
      "       'OTHER (EXPLAIN IN NARRATIVE)', 'SNOW', 'BLOWING SAND/SNOW'],\n",
      "      dtype='object')\n",
      "Index(['DARK, UNKNOWN LIGHTING', 'UNKNOWN', 'OTHER (EXPLAIN IN NARRATIVE)'], dtype='object')\n",
      "Index(['STANDING WATER', 'UNKNOWN', 'SAND, MUD, DIRT', 'ICE',\n",
      "       'OTHER (EXPLAIN IN NARRATIVE)', 'SNOW', 'SLUSH'],\n",
      "      dtype='object')\n",
      "Index(['BUS', 'OTHER (EXPLAIN IN NARRATIVE)', 'POLICE CAR/TRUCK',\n",
      "       'YELLOW SCHOOL BUS', 'UNKNOWN', 'AMBULANCE', 'FIRE TRUCK',\n",
      "       'FARM EQUIPMENT'],\n",
      "      dtype='object')\n",
      "Index(['NONE', 'SHOULDER BELT ONLY', 'NOT APPLICABLE', 'LAP BELT ONLY',\n",
      "       'OTHER (EXPLAIN IN NARRATIVE)', 'CHILD BOOSTER SEAT',\n",
      "       'CHILD SEAT, UNKNOWN', 'CHILD SEAT, FACING REAR',\n",
      "       'CHILD SEAT, FACING FORWARD'],\n",
      "      dtype='object')\n",
      "Index(['OVERTURNED', 'ANIMAL', 'PEDESTRIAN', 'OTHER OBJECT',\n",
      "       'OTHER NON COLLISION', 'PEDALCYCLIST', 'RR TRAIN'],\n",
      "      dtype='object')\n",
      "Index(['OTHER (EXPLAIN IN NARRATIVE)', 'CURVE, HILLCREST', 'UNKNOWN'], dtype='object')\n",
      "Index(['BACKING', 'ONE STRAIGHT-ONE ENTERING OR LEAVING PARKI',\n",
      "       'BOTH LEFT TURN', 'TURNING LEFT', 'TURNING RIGHT',\n",
      "       'ONE BACKING-ONE STOPPED', 'ONE RIGHT TURN-ONE STOPPED',\n",
      "       'ONE LEFT TURN-ONE STOPPED', 'OTHER', 'ONE RIGHT TURN-ONE LEFT TURN',\n",
      "       'BOTH RIGHT TURN', 'BOTH BACKING',\n",
      "       'ONE ENTERING OR LEAVING PARKING SPACE-ONE', 'BOTH LEFT TURNS',\n",
      "       'BOTH ENTERING OR LEAVING A PARKING SPACE',\n",
      "       'ONE RIGHT TURN-ONE ENTERING OR LEAVING PAR',\n",
      "       'ONE LEFT TURN-ONE ENTERING OR LEAVING PARK'],\n",
      "      dtype='object')\n"
     ]
    },
    {
     "name": "stderr",
     "output_type": "stream",
     "text": [
      "/project/cacds/apps/easybuild/software/Anaconda3/5.0.1/lib/python3.6/site-packages/ipykernel_launcher.py:6: SettingWithCopyWarning: \n",
      "A value is trying to be set on a copy of a slice from a DataFrame\n",
      "\n",
      "See the caveats in the documentation: https://pandas.pydata.org/pandas-docs/stable/user_guide/indexing.html#returning-a-view-versus-a-copy\n",
      "  \n"
     ]
    }
   ],
   "source": [
    "for var in emb_vars:\n",
    "    #print(X[var].value_counts())\n",
    "    var_dist = X[var].value_counts()/len(y)<0.01\n",
    "    minor_cates = var_dist[var_dist].index\n",
    "    print(minor_cates)\n",
    "    X[var][X[var].isin(minor_cates)] = 'OTHER'"
   ]
  },
  {
   "cell_type": "code",
   "execution_count": 30,
   "metadata": {},
   "outputs": [
    {
     "name": "stdout",
     "output_type": "stream",
     "text": [
      "['DAYLIGHT' 'DARK, LIGHTED' 'DARK, NOT LIGHTED' 'OTHER' 'DAWN' 'DUSK']\n",
      "['SPORT UTILITY VEHICLE' 'PICKUP' 'PASSENGER CAR, 4-DOOR' 'TRUCK TRACTOR'\n",
      " 'PASSENGER CAR, 2-DOOR' 'TRUCK' 'VAN' 'OTHER']\n",
      "['STRAIGHT, LEVEL' 'STRAIGHT, HILLCREST' 'STRAIGHT, GRADE' 'CURVE, GRADE'\n",
      " 'CURVE, LEVEL' 'OTHER']\n",
      "['BOTH GOING STRAIGHT-REAR END' 'ONE STRAIGHT-ONE STOPPED'\n",
      " 'BOTH GOING STRAIGHT' 'GOING STRAIGHT' 'ONE STRAIGHT-ONE LEFT TURN'\n",
      " 'BOTH GOING STRAIGHT-SIDESWIPE' 'ONE STRAIGHT-ONE RIGHT TURN' 'OTHER'\n",
      " 'ONE STRAIGHT-ONE BACKING']\n"
     ]
    },
    {
     "data": {
      "text/plain": [
       "(['Light_Cond', 'Veh_Body_Styl', 'Road_Algn', 'Collsn_name'],\n",
       " ['Prsn_Gndr',\n",
       "  'Wthr_Cond',\n",
       "  'Surf_Cond',\n",
       "  'Prsn_Rest',\n",
       "  'Prsn_Drg_Rslt',\n",
       "  'Harm_Evnt',\n",
       "  'Collsn_type'],\n",
       " ['Prsn_Age',\n",
       "  'Rural',\n",
       "  'Crash_Speed_Limit',\n",
       "  'Veh_Mod_Year',\n",
       "  'Weekend',\n",
       "  'Crash_season',\n",
       "  'Part_of_day'])"
      ]
     },
     "execution_count": 30,
     "metadata": {},
     "output_type": "execute_result"
    }
   ],
   "source": [
    "emb_vars, ind_vars, num_vars = [], [], []\n",
    "for var in X.columns:\n",
    "    if X[var].dtypes == 'O':\n",
    "        if len(X[var].unique())>5:\n",
    "            emb_vars.append(var)\n",
    "            print(X[var].unique())\n",
    "        else:\n",
    "            ind_vars.append(var)\n",
    "    else:\n",
    "        num_vars.append(var)\n",
    "emb_vars, ind_vars, num_vars "
   ]
  },
  {
   "cell_type": "code",
   "execution_count": 28,
   "metadata": {},
   "outputs": [
    {
     "data": {
      "text/plain": [
       "DRY      165121\n",
       "WET       22796\n",
       "OTHER      2054\n",
       "Name: Surf_Cond, dtype: int64"
      ]
     },
     "execution_count": 28,
     "metadata": {},
     "output_type": "execute_result"
    }
   ],
   "source": [
    "X['Surf_Cond'].value_counts()"
   ]
  },
  {
   "cell_type": "code",
   "execution_count": 31,
   "metadata": {},
   "outputs": [
    {
     "data": {
      "text/plain": [
       "array(['Prsn_Gndr', 'Wthr_Cond', 'Light_Cond', 'Surf_Cond',\n",
       "       'Veh_Body_Styl', 'Prsn_Rest', 'Prsn_Drg_Rslt', 'Harm_Evnt',\n",
       "       'Road_Algn', 'Collsn_type', 'Collsn_name'], dtype=object)"
      ]
     },
     "execution_count": 31,
     "metadata": {},
     "output_type": "execute_result"
    }
   ],
   "source": [
    "feats = X.columns\n",
    "cate_vars = df.dtypes[df.dtypes=='O'].index.values\n",
    "cate_vars"
   ]
  },
  {
   "cell_type": "code",
   "execution_count": 32,
   "metadata": {},
   "outputs": [
    {
     "name": "stdout",
     "output_type": "stream",
     "text": [
      "(189971, 51)\n"
     ]
    },
    {
     "data": {
      "text/html": [
       "<div>\n",
       "<style scoped>\n",
       "    .dataframe tbody tr th:only-of-type {\n",
       "        vertical-align: middle;\n",
       "    }\n",
       "\n",
       "    .dataframe tbody tr th {\n",
       "        vertical-align: top;\n",
       "    }\n",
       "\n",
       "    .dataframe thead th {\n",
       "        text-align: right;\n",
       "    }\n",
       "</style>\n",
       "<table border=\"1\" class=\"dataframe\">\n",
       "  <thead>\n",
       "    <tr style=\"text-align: right;\">\n",
       "      <th></th>\n",
       "      <th>Prsn_Age</th>\n",
       "      <th>Rural</th>\n",
       "      <th>Crash_Speed_Limit</th>\n",
       "      <th>Veh_Mod_Year</th>\n",
       "      <th>Weekend</th>\n",
       "      <th>Crash_season</th>\n",
       "      <th>Part_of_day</th>\n",
       "      <th>Prsn_Gndr_MALE</th>\n",
       "      <th>Prsn_Gndr_UNKNOWN</th>\n",
       "      <th>Wthr_Cond_CLOUDY</th>\n",
       "      <th>...</th>\n",
       "      <th>Collsn_type_OTHER</th>\n",
       "      <th>Collsn_type_SAME DIRECTION</th>\n",
       "      <th>Collsn_name_BOTH GOING STRAIGHT-REAR END</th>\n",
       "      <th>Collsn_name_BOTH GOING STRAIGHT-SIDESWIPE</th>\n",
       "      <th>Collsn_name_GOING STRAIGHT</th>\n",
       "      <th>Collsn_name_ONE STRAIGHT-ONE BACKING</th>\n",
       "      <th>Collsn_name_ONE STRAIGHT-ONE LEFT TURN</th>\n",
       "      <th>Collsn_name_ONE STRAIGHT-ONE RIGHT TURN</th>\n",
       "      <th>Collsn_name_ONE STRAIGHT-ONE STOPPED</th>\n",
       "      <th>Collsn_name_OTHER</th>\n",
       "    </tr>\n",
       "  </thead>\n",
       "  <tbody>\n",
       "    <tr>\n",
       "      <th>372056</th>\n",
       "      <td>17</td>\n",
       "      <td>0</td>\n",
       "      <td>30</td>\n",
       "      <td>13</td>\n",
       "      <td>0</td>\n",
       "      <td>0</td>\n",
       "      <td>1</td>\n",
       "      <td>0</td>\n",
       "      <td>0</td>\n",
       "      <td>1</td>\n",
       "      <td>...</td>\n",
       "      <td>0</td>\n",
       "      <td>1</td>\n",
       "      <td>1</td>\n",
       "      <td>0</td>\n",
       "      <td>0</td>\n",
       "      <td>0</td>\n",
       "      <td>0</td>\n",
       "      <td>0</td>\n",
       "      <td>0</td>\n",
       "      <td>0</td>\n",
       "    </tr>\n",
       "    <tr>\n",
       "      <th>9043</th>\n",
       "      <td>31</td>\n",
       "      <td>1</td>\n",
       "      <td>60</td>\n",
       "      <td>6</td>\n",
       "      <td>1</td>\n",
       "      <td>3</td>\n",
       "      <td>3</td>\n",
       "      <td>1</td>\n",
       "      <td>0</td>\n",
       "      <td>0</td>\n",
       "      <td>...</td>\n",
       "      <td>0</td>\n",
       "      <td>1</td>\n",
       "      <td>0</td>\n",
       "      <td>0</td>\n",
       "      <td>0</td>\n",
       "      <td>0</td>\n",
       "      <td>0</td>\n",
       "      <td>0</td>\n",
       "      <td>1</td>\n",
       "      <td>0</td>\n",
       "    </tr>\n",
       "    <tr>\n",
       "      <th>354299</th>\n",
       "      <td>50</td>\n",
       "      <td>1</td>\n",
       "      <td>65</td>\n",
       "      <td>9</td>\n",
       "      <td>0</td>\n",
       "      <td>0</td>\n",
       "      <td>1</td>\n",
       "      <td>0</td>\n",
       "      <td>0</td>\n",
       "      <td>1</td>\n",
       "      <td>...</td>\n",
       "      <td>0</td>\n",
       "      <td>1</td>\n",
       "      <td>1</td>\n",
       "      <td>0</td>\n",
       "      <td>0</td>\n",
       "      <td>0</td>\n",
       "      <td>0</td>\n",
       "      <td>0</td>\n",
       "      <td>0</td>\n",
       "      <td>0</td>\n",
       "    </tr>\n",
       "    <tr>\n",
       "      <th>743690</th>\n",
       "      <td>37</td>\n",
       "      <td>0</td>\n",
       "      <td>40</td>\n",
       "      <td>6</td>\n",
       "      <td>0</td>\n",
       "      <td>2</td>\n",
       "      <td>0</td>\n",
       "      <td>1</td>\n",
       "      <td>0</td>\n",
       "      <td>0</td>\n",
       "      <td>...</td>\n",
       "      <td>0</td>\n",
       "      <td>0</td>\n",
       "      <td>0</td>\n",
       "      <td>0</td>\n",
       "      <td>0</td>\n",
       "      <td>0</td>\n",
       "      <td>0</td>\n",
       "      <td>0</td>\n",
       "      <td>0</td>\n",
       "      <td>0</td>\n",
       "    </tr>\n",
       "    <tr>\n",
       "      <th>742841</th>\n",
       "      <td>17</td>\n",
       "      <td>0</td>\n",
       "      <td>70</td>\n",
       "      <td>1</td>\n",
       "      <td>0</td>\n",
       "      <td>2</td>\n",
       "      <td>1</td>\n",
       "      <td>1</td>\n",
       "      <td>0</td>\n",
       "      <td>0</td>\n",
       "      <td>...</td>\n",
       "      <td>0</td>\n",
       "      <td>1</td>\n",
       "      <td>1</td>\n",
       "      <td>0</td>\n",
       "      <td>0</td>\n",
       "      <td>0</td>\n",
       "      <td>0</td>\n",
       "      <td>0</td>\n",
       "      <td>0</td>\n",
       "      <td>0</td>\n",
       "    </tr>\n",
       "  </tbody>\n",
       "</table>\n",
       "<p>5 rows × 51 columns</p>\n",
       "</div>"
      ],
      "text/plain": [
       "        Prsn_Age  Rural  Crash_Speed_Limit  Veh_Mod_Year  Weekend  \\\n",
       "372056        17      0                 30            13        0   \n",
       "9043          31      1                 60             6        1   \n",
       "354299        50      1                 65             9        0   \n",
       "743690        37      0                 40             6        0   \n",
       "742841        17      0                 70             1        0   \n",
       "\n",
       "        Crash_season  Part_of_day  Prsn_Gndr_MALE  Prsn_Gndr_UNKNOWN  \\\n",
       "372056             0            1               0                  0   \n",
       "9043               3            3               1                  0   \n",
       "354299             0            1               0                  0   \n",
       "743690             2            0               1                  0   \n",
       "742841             2            1               1                  0   \n",
       "\n",
       "        Wthr_Cond_CLOUDY  ...  Collsn_type_OTHER  Collsn_type_SAME DIRECTION  \\\n",
       "372056                 1  ...                  0                           1   \n",
       "9043                   0  ...                  0                           1   \n",
       "354299                 1  ...                  0                           1   \n",
       "743690                 0  ...                  0                           0   \n",
       "742841                 0  ...                  0                           1   \n",
       "\n",
       "        Collsn_name_BOTH GOING STRAIGHT-REAR END  \\\n",
       "372056                                         1   \n",
       "9043                                           0   \n",
       "354299                                         1   \n",
       "743690                                         0   \n",
       "742841                                         1   \n",
       "\n",
       "        Collsn_name_BOTH GOING STRAIGHT-SIDESWIPE  Collsn_name_GOING STRAIGHT  \\\n",
       "372056                                          0                           0   \n",
       "9043                                            0                           0   \n",
       "354299                                          0                           0   \n",
       "743690                                          0                           0   \n",
       "742841                                          0                           0   \n",
       "\n",
       "        Collsn_name_ONE STRAIGHT-ONE BACKING  \\\n",
       "372056                                     0   \n",
       "9043                                       0   \n",
       "354299                                     0   \n",
       "743690                                     0   \n",
       "742841                                     0   \n",
       "\n",
       "        Collsn_name_ONE STRAIGHT-ONE LEFT TURN  \\\n",
       "372056                                       0   \n",
       "9043                                         0   \n",
       "354299                                       0   \n",
       "743690                                       0   \n",
       "742841                                       0   \n",
       "\n",
       "        Collsn_name_ONE STRAIGHT-ONE RIGHT TURN  \\\n",
       "372056                                        0   \n",
       "9043                                          0   \n",
       "354299                                        0   \n",
       "743690                                        0   \n",
       "742841                                        0   \n",
       "\n",
       "        Collsn_name_ONE STRAIGHT-ONE STOPPED  Collsn_name_OTHER  \n",
       "372056                                     0                  0  \n",
       "9043                                       1                  0  \n",
       "354299                                     0                  0  \n",
       "743690                                     0                  0  \n",
       "742841                                     0                  0  \n",
       "\n",
       "[5 rows x 51 columns]"
      ]
     },
     "execution_count": 32,
     "metadata": {},
     "output_type": "execute_result"
    }
   ],
   "source": [
    "X = pd.get_dummies(X,columns=cate_vars,drop_first=1).copy()\n",
    "print(X.shape)\n",
    "X.head()"
   ]
  },
  {
   "cell_type": "markdown",
   "metadata": {
    "id": "548Mc3Y4J1Ui"
   },
   "source": [
    "# Split the dataset"
   ]
  },
  {
   "cell_type": "code",
   "execution_count": 33,
   "metadata": {
    "ExecuteTime": {
     "end_time": "2020-05-22T16:59:05.664606Z",
     "start_time": "2020-05-22T16:59:02.721269Z"
    },
    "id": "5ERPlNBhJ1Ul"
   },
   "outputs": [],
   "source": [
    "from sklearn.model_selection import train_test_split"
   ]
  },
  {
   "cell_type": "markdown",
   "metadata": {},
   "source": [
    "`For quick test let use only 20% of the data set`"
   ]
  },
  {
   "cell_type": "code",
   "execution_count": 38,
   "metadata": {
    "ExecuteTime": {
     "end_time": "2020-05-22T16:59:09.611226Z",
     "start_time": "2020-05-22T16:59:05.667561Z"
    },
    "colab": {
     "base_uri": "https://localhost:8080/",
     "height": 67
    },
    "id": "6dDdGqNSJ1Uo",
    "outputId": "6875e3ee-27de-4bbd-d90f-733533ba8b3d"
   },
   "outputs": [
    {
     "name": "stdout",
     "output_type": "stream",
     "text": [
      "Training features shape: (121580, 51)\n",
      "Validation features shape: (30396, 51)\n",
      "Test features shape: (37995, 51)\n"
     ]
    }
   ],
   "source": [
    "X_train, X_test, y_train, y_test = train_test_split(X,y,test_size=0.2,stratify=y, random_state=48)\n",
    "X_train, X_val, y_train, y_val = train_test_split(X_train,y_train,test_size=0.2,stratify=y_train, random_state=48)\n",
    "\n",
    "#X_train=np.array(X_train)\n",
    "#X_test=np.array(X_test)\n",
    "#X_val=np.array(X_val)\n",
    "\n",
    "print('Training features shape:', X_train.shape)\n",
    "print('Validation features shape:', X_val.shape)\n",
    "print('Test features shape:', X_test.shape)"
   ]
  },
  {
   "cell_type": "code",
   "execution_count": 39,
   "metadata": {
    "ExecuteTime": {
     "end_time": "2020-05-22T16:59:09.636676Z",
     "start_time": "2020-05-22T16:59:09.632683Z"
    },
    "id": "Lj2Ka9kMJ1U2"
   },
   "outputs": [],
   "source": [
    "# standardization\n",
    "from sklearn.preprocessing import StandardScaler"
   ]
  },
  {
   "cell_type": "code",
   "execution_count": 40,
   "metadata": {
    "ExecuteTime": {
     "end_time": "2020-05-22T16:59:11.789174Z",
     "start_time": "2020-05-22T16:59:09.640170Z"
    },
    "id": "BiA2g-qsJ1U6"
   },
   "outputs": [],
   "source": [
    "scaler = StandardScaler()\n",
    "\n",
    "X_train = scaler.fit_transform(X_train)\n",
    "X_val = scaler.transform(X_val)\n",
    "X_test = scaler.transform(X_test)"
   ]
  },
  {
   "cell_type": "markdown",
   "metadata": {},
   "source": [
    "# PCA"
   ]
  },
  {
   "cell_type": "code",
   "execution_count": 41,
   "metadata": {},
   "outputs": [],
   "source": [
    "from sklearn.decomposition import PCA"
   ]
  },
  {
   "cell_type": "code",
   "execution_count": 42,
   "metadata": {},
   "outputs": [
    {
     "name": "stdout",
     "output_type": "stream",
     "text": [
      "[0.0808763  0.04684996 0.03929017 0.03725143 0.03503119 0.03446221\n",
      " 0.03372679 0.03214437 0.02942854 0.02833331 0.02543271 0.02474604\n",
      " 0.02408728 0.02328096 0.02211975 0.02207124 0.02147781 0.02112038\n",
      " 0.02063915 0.02046216 0.02038744 0.02002532 0.01991158 0.01969263\n",
      " 0.01953382 0.01951155 0.01932675 0.01897481 0.01830109 0.01805438\n",
      " 0.01782313 0.01770175 0.01710503 0.01697287 0.01528784 0.01497885\n",
      " 0.01340929 0.01260627 0.01211134]\n",
      "[708.15249179 538.97764746 493.5806304  480.60425208 466.0619111\n",
      " 462.26148805 457.30256187 446.44570031 427.16979586 419.14550338\n",
      " 397.111483   391.71395046 386.46488015 379.941361   370.3448029\n",
      " 369.93845779 364.93129627 361.88205637 357.73553029 356.1983247\n",
      " 355.54742227 352.37564608 351.37350697 349.43629412 348.02443689\n",
      " 347.82598387 346.1749021  343.00846354 336.86403901 334.58574135\n",
      " 332.43611573 331.30219487 325.67021097 324.40963121 307.88550219\n",
      " 304.75821381 288.34938963 279.58215154 274.03887717]\n"
     ]
    },
    {
     "data": {
      "text/plain": [
       "[<matplotlib.lines.Line2D at 0x2b4f30dd9048>]"
      ]
     },
     "execution_count": 42,
     "metadata": {},
     "output_type": "execute_result"
    },
    {
     "data": {
      "image/png": "[encoded data removed]",
      "text/plain": [
       "<Figure size 432x288 with 1 Axes>"
      ]
     },
     "metadata": {
      "needs_background": "light"
     },
     "output_type": "display_data"
    }
   ],
   "source": [
    "pca = PCA(0.95)\n",
    "pca.fit(X_train)\n",
    "\n",
    "print(pca.explained_variance_ratio_)\n",
    "\n",
    "print(pca.singular_values_)\n",
    "plt.plot(np.cumsum(pca.explained_variance_ratio_))"
   ]
  },
  {
   "cell_type": "markdown",
   "metadata": {
    "id": "T3fWsSaRsUKY"
   },
   "source": [
    "## Function to compute performance\n"
   ]
  },
  {
   "cell_type": "code",
   "execution_count": 43,
   "metadata": {
    "colab": {
     "base_uri": "https://localhost:8080/",
     "height": 139
    },
    "id": "IFQr2WAdsUKZ",
    "outputId": "0a736ccf-4b22-4be5-9304-fc1f51c0cc2b"
   },
   "outputs": [],
   "source": [
    "from sklearn.metrics import confusion_matrix\n",
    "import seaborn as sns\n",
    "from imblearn.metrics import geometric_mean_score\n",
    "from sklearn.metrics import auc"
   ]
  },
  {
   "cell_type": "code",
   "execution_count": 45,
   "metadata": {
    "colab": {
     "base_uri": "https://localhost:8080/",
     "height": 523
    },
    "id": "HJQtO1insUKd",
    "outputId": "76717ec0-1693-4903-b2a6-cd807c8cab91"
   },
   "outputs": [
    {
     "data": {
      "image/png": "[encoded data removed]",
      "text/plain": [
       "<Figure size 1008x432 with 4 Axes>"
      ]
     },
     "metadata": {
      "needs_background": "light"
     },
     "output_type": "display_data"
    },
    {
     "data": {
      "text/html": [
       "<div>\n",
       "<style scoped>\n",
       "    .dataframe tbody tr th:only-of-type {\n",
       "        vertical-align: middle;\n",
       "    }\n",
       "\n",
       "    .dataframe tbody tr th {\n",
       "        vertical-align: top;\n",
       "    }\n",
       "\n",
       "    .dataframe thead th {\n",
       "        text-align: right;\n",
       "    }\n",
       "</style>\n",
       "<table border=\"1\" class=\"dataframe\">\n",
       "  <thead>\n",
       "    <tr style=\"text-align: right;\">\n",
       "      <th></th>\n",
       "      <th>Class 0</th>\n",
       "      <th>Class 1</th>\n",
       "      <th>Class 2</th>\n",
       "      <th>Class 3</th>\n",
       "      <th>Class 4</th>\n",
       "      <th>Overall Accuracy</th>\n",
       "      <th>G-mean</th>\n",
       "    </tr>\n",
       "  </thead>\n",
       "  <tbody>\n",
       "    <tr>\n",
       "      <th>0</th>\n",
       "      <td>0.26087</td>\n",
       "      <td>0.222222</td>\n",
       "      <td>0.2</td>\n",
       "      <td>0.4</td>\n",
       "      <td>0.157895</td>\n",
       "      <td>0.24</td>\n",
       "      <td>0.236012</td>\n",
       "    </tr>\n",
       "  </tbody>\n",
       "</table>\n",
       "</div>"
      ],
      "text/plain": [
       "   Class 0   Class 1  Class 2  Class 3   Class 4  Overall Accuracy    G-mean\n",
       "0  0.26087  0.222222      0.2      0.4  0.157895              0.24  0.236012"
      ]
     },
     "execution_count": 45,
     "metadata": {},
     "output_type": "execute_result"
    }
   ],
   "source": [
    "def get_accs(label,prediction, show=True):\n",
    "    cm = confusion_matrix(label,prediction)\n",
    "    length = cm.shape[0]\n",
    "    num_cases = len(label)\n",
    "    # global accuracy\n",
    "    glb_acc = np.trace(cm)/len(label)\n",
    "    ind_accs = cm/np.sum(cm,axis=1)[:, np.newaxis]\n",
    "    accs = [ind_accs[i,i] for i in range(length)]\n",
    "    index = ['Class {}'.format(i) for i in range(length)]\n",
    "    #Global accuracy\n",
    "    accs.append(glb_acc)\n",
    "    index.append('Overall Accuracy')\n",
    "    # G-mean\n",
    "    accs.append(geometric_mean_score(label, prediction,correction=0.001))\n",
    "    index.append('G-mean')\n",
    "    if show:\n",
    "        plt.figure(figsize=(14, 6))\n",
    "        plt.subplot(1,2,1)\n",
    "        sns.heatmap(cm, xticklabels=np.arange(length), yticklabels=np.arange(length), \n",
    "                    annot=True, fmt='g',cmap=\"YlGnBu\")\n",
    "        plt.xlabel('Prediction')\n",
    "        plt.ylabel('Label')\n",
    "        plt.title('Confusion matrix')\n",
    "        plt.subplot(1,2,2)\n",
    "        sns.heatmap(ind_accs*100, xticklabels=np.arange(length), yticklabels=np.arange(length), \n",
    "                    annot=True, fmt='.2f',cmap=\"YlGnBu\")\n",
    "        plt.xlabel('Prediction')\n",
    "        plt.ylabel('Label')\n",
    "        plt.title('Normalized confusion matrix (%)')\n",
    "        plt.show()\n",
    "    out = np.array(accs).reshape(1,len(accs))\n",
    "    return pd.DataFrame(out,columns = index)\n",
    "get_accs(np.random.randint(5, size=100),np.random.randint(5, size=100))"
   ]
  },
  {
   "cell_type": "markdown",
   "metadata": {
    "id": "-pN3nxIjkJgb"
   },
   "source": [
    "# Traditional ML"
   ]
  },
  {
   "cell_type": "code",
   "execution_count": 46,
   "metadata": {
    "id": "mMpQqGrz_6nf"
   },
   "outputs": [],
   "source": [
    "from sklearn.linear_model import LogisticRegression\n",
    "from sklearn.tree import DecisionTreeClassifier\n",
    "from sklearn.ensemble import RandomForestClassifier\n",
    "from sklearn.naive_bayes import GaussianNB\n",
    "from sklearn.linear_model import SGDClassifier"
   ]
  },
  {
   "cell_type": "code",
   "execution_count": 48,
   "metadata": {
    "id": "LnqtJVyqQiF3"
   },
   "outputs": [
    {
     "name": "stdout",
     "output_type": "stream",
     "text": [
      "LR\n"
     ]
    },
    {
     "name": "stderr",
     "output_type": "stream",
     "text": [
      "/home/tduong21/.local/lib/python3.6/site-packages/sklearn/linear_model/_logistic.py:764: ConvergenceWarning: lbfgs failed to converge (status=1):\n",
      "STOP: TOTAL NO. of ITERATIONS REACHED LIMIT.\n",
      "\n",
      "Increase the number of iterations (max_iter) or scale the data as shown in:\n",
      "    https://scikit-learn.org/stable/modules/preprocessing.html\n",
      "Please also refer to the documentation for alternative solver options:\n",
      "    https://scikit-learn.org/stable/modules/linear_model.html#logistic-regression\n",
      "  extra_warning_msg=_LOGISTIC_SOLVER_CONVERGENCE_MSG)\n"
     ]
    },
    {
     "data": {
      "image/png": "[encoded data removed]",
      "text/plain": [
       "<Figure size 1008x432 with 4 Axes>"
      ]
     },
     "metadata": {
      "needs_background": "light"
     },
     "output_type": "display_data"
    },
    {
     "name": "stdout",
     "output_type": "stream",
     "text": [
      "DT\n"
     ]
    },
    {
     "data": {
      "image/png": "[encoded data removed]",
      "text/plain": [
       "<Figure size 1008x432 with 4 Axes>"
      ]
     },
     "metadata": {
      "needs_background": "light"
     },
     "output_type": "display_data"
    },
    {
     "name": "stdout",
     "output_type": "stream",
     "text": [
      "RF\n"
     ]
    },
    {
     "data": {
      "image/png": "[encoded data removed]",
      "text/plain": [
       "<Figure size 1008x432 with 4 Axes>"
      ]
     },
     "metadata": {
      "needs_background": "light"
     },
     "output_type": "display_data"
    },
    {
     "data": {
      "text/html": [
       "<div>\n",
       "<style scoped>\n",
       "    .dataframe tbody tr th:only-of-type {\n",
       "        vertical-align: middle;\n",
       "    }\n",
       "\n",
       "    .dataframe tbody tr th {\n",
       "        vertical-align: top;\n",
       "    }\n",
       "\n",
       "    .dataframe thead th {\n",
       "        text-align: right;\n",
       "    }\n",
       "</style>\n",
       "<table border=\"1\" class=\"dataframe\">\n",
       "  <thead>\n",
       "    <tr style=\"text-align: right;\">\n",
       "      <th></th>\n",
       "      <th>Class 0</th>\n",
       "      <th>Class 1</th>\n",
       "      <th>Class 2</th>\n",
       "      <th>Class 3</th>\n",
       "      <th>Class 4</th>\n",
       "      <th>Overall Accuracy</th>\n",
       "      <th>G-mean</th>\n",
       "      <th>Training Time</th>\n",
       "    </tr>\n",
       "  </thead>\n",
       "  <tbody>\n",
       "    <tr>\n",
       "      <th>LR</th>\n",
       "      <td>0.512728</td>\n",
       "      <td>0.441895</td>\n",
       "      <td>0.158564</td>\n",
       "      <td>0.336478</td>\n",
       "      <td>0.647059</td>\n",
       "      <td>0.486985</td>\n",
       "      <td>0.379020</td>\n",
       "      <td>5.848</td>\n",
       "    </tr>\n",
       "    <tr>\n",
       "      <th>DT</th>\n",
       "      <td>0.834558</td>\n",
       "      <td>0.146484</td>\n",
       "      <td>0.069061</td>\n",
       "      <td>0.044025</td>\n",
       "      <td>0.147059</td>\n",
       "      <td>0.716068</td>\n",
       "      <td>0.140454</td>\n",
       "      <td>0.927</td>\n",
       "    </tr>\n",
       "    <tr>\n",
       "      <th>RF</th>\n",
       "      <td>0.498723</td>\n",
       "      <td>0.503174</td>\n",
       "      <td>0.013260</td>\n",
       "      <td>0.295597</td>\n",
       "      <td>0.691176</td>\n",
       "      <td>0.474720</td>\n",
       "      <td>0.232530</td>\n",
       "      <td>3.104</td>\n",
       "    </tr>\n",
       "  </tbody>\n",
       "</table>\n",
       "</div>"
      ],
      "text/plain": [
       "     Class 0   Class 1   Class 2   Class 3   Class 4  Overall Accuracy  \\\n",
       "LR  0.512728  0.441895  0.158564  0.336478  0.647059          0.486985   \n",
       "DT  0.834558  0.146484  0.069061  0.044025  0.147059          0.716068   \n",
       "RF  0.498723  0.503174  0.013260  0.295597  0.691176          0.474720   \n",
       "\n",
       "      G-mean  Training Time  \n",
       "LR  0.379020          5.848  \n",
       "DT  0.140454          0.927  \n",
       "RF  0.232530          3.104  "
      ]
     },
     "execution_count": 48,
     "metadata": {},
     "output_type": "execute_result"
    }
   ],
   "source": [
    "cls_wgt='balanced'\n",
    "LR = LogisticRegression(solver = 'lbfgs',class_weight=cls_wgt)\n",
    "DT = DecisionTreeClassifier(class_weight=cls_wgt)\n",
    "RF = RandomForestClassifier(max_depth=4,class_weight=cls_wgt)\n",
    "GNB = GaussianNB()\n",
    "#CNB = ComplementNB()\n",
    "SGD = SGDClassifier(loss=\"hinge\", penalty=\"l2\", max_iter=5,class_weight=cls_wgt)\n",
    "\n",
    "clfs = [LR,DT,RF]\n",
    "clf_names = ['LR','DT','RF']\n",
    "rsts = pd.DataFrame()\n",
    "for model, name in zip(clfs,clf_names):\n",
    "    start = time.time()\n",
    "    print(name)\n",
    "    model.fit(X_train, y_train.values)\n",
    "    # use the model to make predictions with the test data\n",
    "    y_pred = model.predict(X_test)\n",
    "    end= time.time()\n",
    "    # get the evaluation metrics\n",
    "    result = get_accs(y_test.values,y_pred,True)\n",
    "    result['Training Time'] = np.round(end-start,3)\n",
    "    result.index = [name]\n",
    "    rsts = rsts.append(result)\n",
    "rsts"
   ]
  },
  {
   "cell_type": "code",
   "execution_count": 53,
   "metadata": {},
   "outputs": [],
   "source": [
    "es = tf.keras.callbacks.EarlyStopping(monitor='val_accuracy', \n",
    "    verbose=1,\n",
    "    patience=10,\n",
    "    mode='max',\n",
    "    restore_best_weights=True)"
   ]
  },
  {
   "cell_type": "code",
   "execution_count": 55,
   "metadata": {},
   "outputs": [
    {
     "name": "stdout",
     "output_type": "stream",
     "text": [
      "Train on 121580 samples, validate on 30396 samples\n",
      "Epoch 1/10\n",
      "121580/121580 [==============================] - 6s 48us/sample - loss: 0.6871 - accuracy: 0.8101 - val_loss: 0.5601 - val_accuracy: 0.8344\n",
      "Epoch 2/10\n",
      "121580/121580 [==============================] - 6s 46us/sample - loss: 0.5681 - accuracy: 0.8344 - val_loss: 0.5580 - val_accuracy: 0.8344\n",
      "Epoch 3/10\n",
      "121580/121580 [==============================] - 6s 46us/sample - loss: 0.5646 - accuracy: 0.8344 - val_loss: 0.5584 - val_accuracy: 0.8344\n",
      "Epoch 4/10\n",
      "121580/121580 [==============================] - 6s 46us/sample - loss: 0.5633 - accuracy: 0.8344 - val_loss: 0.5574 - val_accuracy: 0.8344\n",
      "Epoch 5/10\n",
      "121580/121580 [==============================] - 6s 45us/sample - loss: 0.5628 - accuracy: 0.8344 - val_loss: 0.5567 - val_accuracy: 0.8344\n",
      "Epoch 6/10\n",
      "121580/121580 [==============================] - 5s 45us/sample - loss: 0.5616 - accuracy: 0.8344 - val_loss: 0.5571 - val_accuracy: 0.8344\n",
      "Epoch 7/10\n",
      "121580/121580 [==============================] - 6s 46us/sample - loss: 0.5623 - accuracy: 0.8344 - val_loss: 0.5572 - val_accuracy: 0.8344\n",
      "Epoch 8/10\n",
      "121580/121580 [==============================] - 6s 45us/sample - loss: 0.5621 - accuracy: 0.8344 - val_loss: 0.5572 - val_accuracy: 0.8344\n",
      "Epoch 9/10\n",
      "121580/121580 [==============================] - 6s 45us/sample - loss: 0.5622 - accuracy: 0.8344 - val_loss: 0.5565 - val_accuracy: 0.8344\n",
      "Epoch 10/10\n",
      "121580/121580 [==============================] - 6s 45us/sample - loss: 0.5616 - accuracy: 0.8344 - val_loss: 0.5567 - val_accuracy: 0.8344\n"
     ]
    }
   ],
   "source": [
    "model = tf.keras.Sequential([\n",
    "  layers.Dense(10, activation='relu',input_dim=X_train.shape[1]),\n",
    "    #  layers.Dense(128, activation='relu'),\n",
    "  layers.Dropout(0.5),\n",
    "  layers.Dense(5,)\n",
    "])\n",
    "\n",
    "model.compile(optimizer='adam',\n",
    "              loss=tf.keras.losses.SparseCategoricalCrossentropy(from_logits=True),\n",
    "              metrics=['accuracy'])\n",
    "\n",
    "Monitor_MLP = model.fit(X_train, y_train, callbacks=[es],validation_data = (X_val,y_val), \n",
    "                        verbose = 1, epochs = 10)"
   ]
  },
  {
   "cell_type": "code",
   "execution_count": 58,
   "metadata": {},
   "outputs": [],
   "source": [
    "y_pred = model.predict(X_test)"
   ]
  },
  {
   "cell_type": "code",
   "execution_count": 61,
   "metadata": {},
   "outputs": [],
   "source": [
    "y_pred = np.argmax(y_pred,axis=1)"
   ]
  },
  {
   "cell_type": "code",
   "execution_count": 63,
   "metadata": {},
   "outputs": [
    {
     "data": {
      "image/png": "[encoded data removed]",
      "text/plain": [
       "<Figure size 1008x432 with 4 Axes>"
      ]
     },
     "metadata": {
      "needs_background": "light"
     },
     "output_type": "display_data"
    },
    {
     "data": {
      "text/html": [
       "<div>\n",
       "<style scoped>\n",
       "    .dataframe tbody tr th:only-of-type {\n",
       "        vertical-align: middle;\n",
       "    }\n",
       "\n",
       "    .dataframe tbody tr th {\n",
       "        vertical-align: top;\n",
       "    }\n",
       "\n",
       "    .dataframe thead th {\n",
       "        text-align: right;\n",
       "    }\n",
       "</style>\n",
       "<table border=\"1\" class=\"dataframe\">\n",
       "  <thead>\n",
       "    <tr style=\"text-align: right;\">\n",
       "      <th></th>\n",
       "      <th>Class 0</th>\n",
       "      <th>Class 1</th>\n",
       "      <th>Class 2</th>\n",
       "      <th>Class 3</th>\n",
       "      <th>Class 4</th>\n",
       "      <th>Overall Accuracy</th>\n",
       "      <th>G-mean</th>\n",
       "      <th>Training Time</th>\n",
       "    </tr>\n",
       "  </thead>\n",
       "  <tbody>\n",
       "    <tr>\n",
       "      <th>LR</th>\n",
       "      <td>0.512728</td>\n",
       "      <td>0.441895</td>\n",
       "      <td>0.158564</td>\n",
       "      <td>0.336478</td>\n",
       "      <td>0.647059</td>\n",
       "      <td>0.486985</td>\n",
       "      <td>0.379020</td>\n",
       "      <td>5.848</td>\n",
       "    </tr>\n",
       "    <tr>\n",
       "      <th>DT</th>\n",
       "      <td>0.834558</td>\n",
       "      <td>0.146484</td>\n",
       "      <td>0.069061</td>\n",
       "      <td>0.044025</td>\n",
       "      <td>0.147059</td>\n",
       "      <td>0.716068</td>\n",
       "      <td>0.140454</td>\n",
       "      <td>0.927</td>\n",
       "    </tr>\n",
       "    <tr>\n",
       "      <th>RF</th>\n",
       "      <td>0.498723</td>\n",
       "      <td>0.503174</td>\n",
       "      <td>0.013260</td>\n",
       "      <td>0.295597</td>\n",
       "      <td>0.691176</td>\n",
       "      <td>0.474720</td>\n",
       "      <td>0.232530</td>\n",
       "      <td>3.104</td>\n",
       "    </tr>\n",
       "    <tr>\n",
       "      <th>RF</th>\n",
       "      <td>1.000000</td>\n",
       "      <td>0.000000</td>\n",
       "      <td>0.000000</td>\n",
       "      <td>0.000000</td>\n",
       "      <td>0.000000</td>\n",
       "      <td>0.834399</td>\n",
       "      <td>0.003981</td>\n",
       "      <td>1425.450</td>\n",
       "    </tr>\n",
       "    <tr>\n",
       "      <th>MLP baseline</th>\n",
       "      <td>1.000000</td>\n",
       "      <td>0.000000</td>\n",
       "      <td>0.000000</td>\n",
       "      <td>0.000000</td>\n",
       "      <td>0.000000</td>\n",
       "      <td>0.834399</td>\n",
       "      <td>0.003981</td>\n",
       "      <td>1425.450</td>\n",
       "    </tr>\n",
       "  </tbody>\n",
       "</table>\n",
       "</div>"
      ],
      "text/plain": [
       "               Class 0   Class 1   Class 2   Class 3   Class 4  \\\n",
       "LR            0.512728  0.441895  0.158564  0.336478  0.647059   \n",
       "DT            0.834558  0.146484  0.069061  0.044025  0.147059   \n",
       "RF            0.498723  0.503174  0.013260  0.295597  0.691176   \n",
       "RF            1.000000  0.000000  0.000000  0.000000  0.000000   \n",
       "MLP baseline  1.000000  0.000000  0.000000  0.000000  0.000000   \n",
       "\n",
       "              Overall Accuracy    G-mean  Training Time  \n",
       "LR                    0.486985  0.379020          5.848  \n",
       "DT                    0.716068  0.140454          0.927  \n",
       "RF                    0.474720  0.232530          3.104  \n",
       "RF                    0.834399  0.003981       1425.450  \n",
       "MLP baseline          0.834399  0.003981       1425.450  "
      ]
     },
     "execution_count": 63,
     "metadata": {},
     "output_type": "execute_result"
    }
   ],
   "source": [
    "# get the evaluation metrics\n",
    "result = get_accs(y_test.values,y_pred,True)\n",
    "#    result['Training Time'] = np.round(end-start,3)\n",
    "result['Training Time'] = np.round(1425.45,3)\n",
    "result.index = ['MLP baseline']\n",
    "rsts = rsts.append(result)\n",
    "rsts"
   ]
  },
  {
   "cell_type": "code",
   "execution_count": null,
   "metadata": {},
   "outputs": [],
   "source": []
  },
  {
   "cell_type": "markdown",
   "metadata": {
    "id": "8Wv1fq_D7Gi4"
   },
   "source": [
    "## Function to train a model"
   ]
  },
  {
   "cell_type": "code",
   "execution_count": 12,
   "metadata": {
    "colab": {
     "base_uri": "https://localhost:8080/",
     "height": 156
    },
    "id": "VGXI5BFckI3G",
    "outputId": "ca1885c9-c310-4aa1-f548-dbee7cb616a2"
   },
   "outputs": [
    {
     "name": "stderr",
     "output_type": "stream",
     "text": [
      "C:\\Anaconda\\envs\\tf\\lib\\site-packages\\sklearn\\linear_model\\_stochastic_gradient.py:573: ConvergenceWarning: Maximum number of iteration reached before convergence. Consider increasing max_iter to improve the fit.\n",
      "  ConvergenceWarning)\n"
     ]
    },
    {
     "data": {
      "text/plain": [
       "[0.8103874690849134,\n",
       " 0.8891129032258065,\n",
       " 0.45701357466063347,\n",
       " 0.6374454221187251,\n",
       " 0.03399395942687988]"
      ]
     },
     "execution_count": 12,
     "metadata": {},
     "output_type": "execute_result"
    }
   ],
   "source": [
    "def train_model(X_tr, X_te, y_tr, y_te, model):\n",
    "\n",
    "  # and then train it with Logistic Regression\n",
    "  start = time.time()\n",
    "  model.fit(X_tr, y_tr)\n",
    "  # use the model to make predictions with the test data\n",
    "  y_pred = model.predict(X_te)\n",
    "  end= time.time()\n",
    "\n",
    "  # get the evaluation metrics\n",
    "  result = get_accs(y_te,y_pred,False)\n",
    "  result.append(end-start)\n",
    "  return result\n",
    "X_train, X_test, y_train, y_test = prepare_data(sets[3][0],sets[3][1])\n",
    "train_model(X_train, X_test, y_train, y_test, SGDClassifier(loss=\"hinge\", penalty=\"l2\", max_iter=5))"
   ]
  },
  {
   "cell_type": "markdown",
   "metadata": {
    "id": "Lxjnrxtw7KnI"
   },
   "source": [
    "## Train all 4 models with logistic regression"
   ]
  },
  {
   "cell_type": "code",
   "execution_count": 13,
   "metadata": {
    "id": "pdJdWt1H-Cj2"
   },
   "outputs": [],
   "source": [
    "index = ['Global accuracy', 'Class 1','Class 2','G-mean','Training time']"
   ]
  },
  {
   "cell_type": "code",
   "execution_count": 14,
   "metadata": {
    "colab": {
     "base_uri": "https://localhost:8080/",
     "height": 204
    },
    "id": "MMoFVN8YkIsf",
    "outputId": "feccc6c9-2ef2-4e5b-ab9a-4ece69190c93"
   },
   "outputs": [
    {
     "data": {
      "text/html": [
       "<div>\n",
       "<style scoped>\n",
       "    .dataframe tbody tr th:only-of-type {\n",
       "        vertical-align: middle;\n",
       "    }\n",
       "\n",
       "    .dataframe tbody tr th {\n",
       "        vertical-align: top;\n",
       "    }\n",
       "\n",
       "    .dataframe thead th {\n",
       "        text-align: right;\n",
       "    }\n",
       "</style>\n",
       "<table border=\"1\" class=\"dataframe\">\n",
       "  <thead>\n",
       "    <tr style=\"text-align: right;\">\n",
       "      <th></th>\n",
       "      <th>Model #1</th>\n",
       "      <th>Model #2</th>\n",
       "      <th>Model #3</th>\n",
       "      <th>Model #4</th>\n",
       "    </tr>\n",
       "  </thead>\n",
       "  <tbody>\n",
       "    <tr>\n",
       "      <th>Global accuracy</th>\n",
       "      <td>0.830264</td>\n",
       "      <td>0.677268</td>\n",
       "      <td>0.817138</td>\n",
       "      <td>0.845012</td>\n",
       "    </tr>\n",
       "    <tr>\n",
       "      <th>Class 1</th>\n",
       "      <td>0.976630</td>\n",
       "      <td>0.903460</td>\n",
       "      <td>0.969027</td>\n",
       "      <td>0.963710</td>\n",
       "    </tr>\n",
       "    <tr>\n",
       "      <th>Class 2</th>\n",
       "      <td>0.159252</td>\n",
       "      <td>0.289295</td>\n",
       "      <td>0.194559</td>\n",
       "      <td>0.312217</td>\n",
       "    </tr>\n",
       "    <tr>\n",
       "      <th>G-mean</th>\n",
       "      <td>0.394373</td>\n",
       "      <td>0.511240</td>\n",
       "      <td>0.434204</td>\n",
       "      <td>0.548531</td>\n",
       "    </tr>\n",
       "    <tr>\n",
       "      <th>Training time</th>\n",
       "      <td>1.929008</td>\n",
       "      <td>0.260019</td>\n",
       "      <td>0.150997</td>\n",
       "      <td>0.088007</td>\n",
       "    </tr>\n",
       "  </tbody>\n",
       "</table>\n",
       "</div>"
      ],
      "text/plain": [
       "                 Model #1  Model #2  Model #3  Model #4\n",
       "Global accuracy  0.830264  0.677268  0.817138  0.845012\n",
       "Class 1          0.976630  0.903460  0.969027  0.963710\n",
       "Class 2          0.159252  0.289295  0.194559  0.312217\n",
       "G-mean           0.394373  0.511240  0.434204  0.548531\n",
       "Training time    1.929008  0.260019  0.150997  0.088007"
      ]
     },
     "execution_count": 14,
     "metadata": {},
     "output_type": "execute_result"
    }
   ],
   "source": [
    "rsts = pd.DataFrame()\n",
    "for i in range(4):\n",
    "  name = 'Model #{}'.format(i+1)\n",
    "  #print(name)\n",
    "  X_train, X_test, y_train, y_test = prepare_data(sets[i][0],sets[i][1])\n",
    "  rsts[name] = train_model(X_train, X_test, y_train, y_test, LogisticRegression(solver = 'lbfgs'))\n",
    "  \n",
    "rsts.index = index\n",
    "rsts"
   ]
  },
  {
   "cell_type": "markdown",
   "metadata": {
    "id": "yusyx0DrCYQ6"
   },
   "source": [
    "## Train 4 models with 5 different ML algorithms"
   ]
  },
  {
   "cell_type": "code",
   "execution_count": 15,
   "metadata": {
    "colab": {
     "base_uri": "https://localhost:8080/",
     "height": 459
    },
    "id": "DbjtnltEEbqS",
    "outputId": "2d6a363e-e8c5-4825-8fed-2c61faf064fb"
   },
   "outputs": [
    {
     "data": {
      "text/plain": [
       "{'LR': LogisticRegression(),\n",
       " 'DT': DecisionTreeClassifier(random_state=0),\n",
       " 'RF': RandomForestClassifier(max_depth=2, random_state=0),\n",
       " 'GNB': GaussianNB(),\n",
       " 'SGD': SGDClassifier(max_iter=5)}"
      ]
     },
     "execution_count": 15,
     "metadata": {},
     "output_type": "execute_result"
    }
   ],
   "source": [
    "def create_ML(cw = None):\n",
    "  LR = LogisticRegression(solver = 'lbfgs',class_weight=cw)\n",
    "  DT = DecisionTreeClassifier(random_state=0,class_weight=cw)\n",
    "  RF = RandomForestClassifier(max_depth=2, random_state=0,class_weight=cw)\n",
    "  GNB = GaussianNB()\n",
    "  SGD = SGDClassifier(loss=\"hinge\", penalty=\"l2\", max_iter=5,class_weight=cw)\n",
    "  clfs = [LR,DT,RF,GNB,SGD]\n",
    "  names = ['LR','DT','RF','GNB','SGD']\n",
    "  return dict(zip(names, clfs)) \n",
    "create_ML()"
   ]
  },
  {
   "cell_type": "code",
   "execution_count": 16,
   "metadata": {
    "colab": {
     "base_uri": "https://localhost:8080/",
     "height": 683
    },
    "id": "Ak_WWk01ELek",
    "outputId": "db2cced8-fe07-420d-dd02-18ae56c595fb"
   },
   "outputs": [
    {
     "name": "stdout",
     "output_type": "stream",
     "text": [
      "LR #1\n",
      "DT #1\n",
      "RF #1\n",
      "GNB #1\n",
      "SGD #1\n"
     ]
    },
    {
     "name": "stderr",
     "output_type": "stream",
     "text": [
      "C:\\Anaconda\\envs\\tf\\lib\\site-packages\\sklearn\\linear_model\\_stochastic_gradient.py:573: ConvergenceWarning: Maximum number of iteration reached before convergence. Consider increasing max_iter to improve the fit.\n",
      "  ConvergenceWarning)\n"
     ]
    },
    {
     "name": "stdout",
     "output_type": "stream",
     "text": [
      "LR #2\n",
      "DT #2\n",
      "RF #2\n",
      "GNB #2\n",
      "SGD #2\n"
     ]
    },
    {
     "name": "stderr",
     "output_type": "stream",
     "text": [
      "C:\\Anaconda\\envs\\tf\\lib\\site-packages\\sklearn\\linear_model\\_stochastic_gradient.py:573: ConvergenceWarning: Maximum number of iteration reached before convergence. Consider increasing max_iter to improve the fit.\n",
      "  ConvergenceWarning)\n"
     ]
    },
    {
     "name": "stdout",
     "output_type": "stream",
     "text": [
      "LR #3\n",
      "DT #3\n",
      "RF #3\n",
      "GNB #3\n",
      "SGD #3\n"
     ]
    },
    {
     "name": "stderr",
     "output_type": "stream",
     "text": [
      "C:\\Anaconda\\envs\\tf\\lib\\site-packages\\sklearn\\linear_model\\_stochastic_gradient.py:573: ConvergenceWarning: Maximum number of iteration reached before convergence. Consider increasing max_iter to improve the fit.\n",
      "  ConvergenceWarning)\n"
     ]
    },
    {
     "name": "stdout",
     "output_type": "stream",
     "text": [
      "LR #4\n",
      "DT #4\n",
      "RF #4\n",
      "GNB #4\n",
      "SGD #4\n"
     ]
    },
    {
     "name": "stderr",
     "output_type": "stream",
     "text": [
      "C:\\Anaconda\\envs\\tf\\lib\\site-packages\\sklearn\\linear_model\\_stochastic_gradient.py:573: ConvergenceWarning: Maximum number of iteration reached before convergence. Consider increasing max_iter to improve the fit.\n",
      "  ConvergenceWarning)\n"
     ]
    },
    {
     "data": {
      "text/html": [
       "<div>\n",
       "<style scoped>\n",
       "    .dataframe tbody tr th:only-of-type {\n",
       "        vertical-align: middle;\n",
       "    }\n",
       "\n",
       "    .dataframe tbody tr th {\n",
       "        vertical-align: top;\n",
       "    }\n",
       "\n",
       "    .dataframe thead th {\n",
       "        text-align: right;\n",
       "    }\n",
       "</style>\n",
       "<table border=\"1\" class=\"dataframe\">\n",
       "  <thead>\n",
       "    <tr style=\"text-align: right;\">\n",
       "      <th></th>\n",
       "      <th>LR #1</th>\n",
       "      <th>DT #1</th>\n",
       "      <th>RF #1</th>\n",
       "      <th>GNB #1</th>\n",
       "      <th>SGD #1</th>\n",
       "      <th>LR #2</th>\n",
       "      <th>DT #2</th>\n",
       "      <th>RF #2</th>\n",
       "      <th>GNB #2</th>\n",
       "      <th>SGD #2</th>\n",
       "      <th>LR #3</th>\n",
       "      <th>DT #3</th>\n",
       "      <th>RF #3</th>\n",
       "      <th>GNB #3</th>\n",
       "      <th>SGD #3</th>\n",
       "      <th>LR #4</th>\n",
       "      <th>DT #4</th>\n",
       "      <th>RF #4</th>\n",
       "      <th>GNB #4</th>\n",
       "      <th>SGD #4</th>\n",
       "    </tr>\n",
       "  </thead>\n",
       "  <tbody>\n",
       "    <tr>\n",
       "      <th>Global accuracy</th>\n",
       "      <td>0.830264</td>\n",
       "      <td>0.744297</td>\n",
       "      <td>0.826457</td>\n",
       "      <td>0.797833</td>\n",
       "      <td>0.826201</td>\n",
       "      <td>0.677268</td>\n",
       "      <td>0.598237</td>\n",
       "      <td>0.654994</td>\n",
       "      <td>0.658150</td>\n",
       "      <td>0.603240</td>\n",
       "      <td>0.817138</td>\n",
       "      <td>0.732902</td>\n",
       "      <td>0.805174</td>\n",
       "      <td>0.793371</td>\n",
       "      <td>0.774939</td>\n",
       "      <td>0.845012</td>\n",
       "      <td>0.763397</td>\n",
       "      <td>0.817807</td>\n",
       "      <td>0.204452</td>\n",
       "      <td>0.822754</td>\n",
       "    </tr>\n",
       "    <tr>\n",
       "      <th>Class 1</th>\n",
       "      <td>0.976630</td>\n",
       "      <td>0.833485</td>\n",
       "      <td>0.998597</td>\n",
       "      <td>0.912559</td>\n",
       "      <td>0.997675</td>\n",
       "      <td>0.903460</td>\n",
       "      <td>0.679457</td>\n",
       "      <td>0.984727</td>\n",
       "      <td>0.940228</td>\n",
       "      <td>0.794947</td>\n",
       "      <td>0.969027</td>\n",
       "      <td>0.822204</td>\n",
       "      <td>0.999799</td>\n",
       "      <td>0.909694</td>\n",
       "      <td>0.906275</td>\n",
       "      <td>0.963710</td>\n",
       "      <td>0.840726</td>\n",
       "      <td>1.000000</td>\n",
       "      <td>0.032258</td>\n",
       "      <td>0.955645</td>\n",
       "    </tr>\n",
       "    <tr>\n",
       "      <th>Class 2</th>\n",
       "      <td>0.159252</td>\n",
       "      <td>0.335418</td>\n",
       "      <td>0.037282</td>\n",
       "      <td>0.271872</td>\n",
       "      <td>0.040081</td>\n",
       "      <td>0.289295</td>\n",
       "      <td>0.458926</td>\n",
       "      <td>0.089424</td>\n",
       "      <td>0.174321</td>\n",
       "      <td>0.274418</td>\n",
       "      <td>0.194559</td>\n",
       "      <td>0.366859</td>\n",
       "      <td>0.007420</td>\n",
       "      <td>0.316570</td>\n",
       "      <td>0.236603</td>\n",
       "      <td>0.312217</td>\n",
       "      <td>0.416290</td>\n",
       "      <td>0.000000</td>\n",
       "      <td>0.977376</td>\n",
       "      <td>0.226244</td>\n",
       "    </tr>\n",
       "    <tr>\n",
       "      <th>G-mean</th>\n",
       "      <td>0.394373</td>\n",
       "      <td>0.528740</td>\n",
       "      <td>0.192950</td>\n",
       "      <td>0.498096</td>\n",
       "      <td>0.199969</td>\n",
       "      <td>0.511240</td>\n",
       "      <td>0.558409</td>\n",
       "      <td>0.296747</td>\n",
       "      <td>0.404847</td>\n",
       "      <td>0.467063</td>\n",
       "      <td>0.434204</td>\n",
       "      <td>0.549211</td>\n",
       "      <td>0.086129</td>\n",
       "      <td>0.536640</td>\n",
       "      <td>0.463064</td>\n",
       "      <td>0.548531</td>\n",
       "      <td>0.591596</td>\n",
       "      <td>0.031623</td>\n",
       "      <td>0.177562</td>\n",
       "      <td>0.464983</td>\n",
       "    </tr>\n",
       "    <tr>\n",
       "      <th>Training time</th>\n",
       "      <td>2.116997</td>\n",
       "      <td>17.497002</td>\n",
       "      <td>29.572001</td>\n",
       "      <td>0.634028</td>\n",
       "      <td>0.960001</td>\n",
       "      <td>0.216004</td>\n",
       "      <td>2.017999</td>\n",
       "      <td>3.265006</td>\n",
       "      <td>0.111999</td>\n",
       "      <td>0.140035</td>\n",
       "      <td>0.164998</td>\n",
       "      <td>0.597000</td>\n",
       "      <td>1.206025</td>\n",
       "      <td>0.043000</td>\n",
       "      <td>0.046003</td>\n",
       "      <td>0.060000</td>\n",
       "      <td>0.099003</td>\n",
       "      <td>0.429999</td>\n",
       "      <td>0.007998</td>\n",
       "      <td>0.007995</td>\n",
       "    </tr>\n",
       "  </tbody>\n",
       "</table>\n",
       "</div>"
      ],
      "text/plain": [
       "                    LR #1      DT #1      RF #1    GNB #1    SGD #1     LR #2  \\\n",
       "Global accuracy  0.830264   0.744297   0.826457  0.797833  0.826201  0.677268   \n",
       "Class 1          0.976630   0.833485   0.998597  0.912559  0.997675  0.903460   \n",
       "Class 2          0.159252   0.335418   0.037282  0.271872  0.040081  0.289295   \n",
       "G-mean           0.394373   0.528740   0.192950  0.498096  0.199969  0.511240   \n",
       "Training time    2.116997  17.497002  29.572001  0.634028  0.960001  0.216004   \n",
       "\n",
       "                    DT #2     RF #2    GNB #2    SGD #2     LR #3     DT #3  \\\n",
       "Global accuracy  0.598237  0.654994  0.658150  0.603240  0.817138  0.732902   \n",
       "Class 1          0.679457  0.984727  0.940228  0.794947  0.969027  0.822204   \n",
       "Class 2          0.458926  0.089424  0.174321  0.274418  0.194559  0.366859   \n",
       "G-mean           0.558409  0.296747  0.404847  0.467063  0.434204  0.549211   \n",
       "Training time    2.017999  3.265006  0.111999  0.140035  0.164998  0.597000   \n",
       "\n",
       "                    RF #3    GNB #3    SGD #3     LR #4     DT #4     RF #4  \\\n",
       "Global accuracy  0.805174  0.793371  0.774939  0.845012  0.763397  0.817807   \n",
       "Class 1          0.999799  0.909694  0.906275  0.963710  0.840726  1.000000   \n",
       "Class 2          0.007420  0.316570  0.236603  0.312217  0.416290  0.000000   \n",
       "G-mean           0.086129  0.536640  0.463064  0.548531  0.591596  0.031623   \n",
       "Training time    1.206025  0.043000  0.046003  0.060000  0.099003  0.429999   \n",
       "\n",
       "                   GNB #4    SGD #4  \n",
       "Global accuracy  0.204452  0.822754  \n",
       "Class 1          0.032258  0.955645  \n",
       "Class 2          0.977376  0.226244  \n",
       "G-mean           0.177562  0.464983  \n",
       "Training time    0.007998  0.007995  "
      ]
     },
     "execution_count": 16,
     "metadata": {},
     "output_type": "execute_result"
    }
   ],
   "source": [
    "rsts = pd.DataFrame()\n",
    "for i in range(4):\n",
    "  MLs = create_ML()\n",
    "  for clf_name, clf in MLs.items():\n",
    "    name = '{0} #{1}'.format(clf_name,i+1)\n",
    "    print(name)\n",
    "    try:\n",
    "      X_train, X_test, y_train, y_test = prepare_data(sets[i][0],sets[i][1])\n",
    "      rsts[name] = train_model(X_train, X_test, y_train, y_test, clf)\n",
    "    except Exception as e: print(e)\n",
    "    \n",
    "rsts.index = index\n",
    "rsts"
   ]
  },
  {
   "cell_type": "markdown",
   "metadata": {
    "id": "B3bF6lwhKOdO"
   },
   "source": [
    "Print the best performance"
   ]
  },
  {
   "cell_type": "code",
   "execution_count": 17,
   "metadata": {
    "colab": {
     "base_uri": "https://localhost:8080/",
     "height": 204
    },
    "id": "3gw3bcNa3LqM",
    "outputId": "abccd814-6587-4437-b903-1949e13ab04e"
   },
   "outputs": [
    {
     "data": {
      "text/html": [
       "<div>\n",
       "<style scoped>\n",
       "    .dataframe tbody tr th:only-of-type {\n",
       "        vertical-align: middle;\n",
       "    }\n",
       "\n",
       "    .dataframe tbody tr th {\n",
       "        vertical-align: top;\n",
       "    }\n",
       "\n",
       "    .dataframe thead th {\n",
       "        text-align: right;\n",
       "    }\n",
       "</style>\n",
       "<table border=\"1\" class=\"dataframe\">\n",
       "  <thead>\n",
       "    <tr style=\"text-align: right;\">\n",
       "      <th></th>\n",
       "      <th>DT #1</th>\n",
       "      <th>DT #2</th>\n",
       "      <th>DT #3</th>\n",
       "      <th>DT #4</th>\n",
       "    </tr>\n",
       "  </thead>\n",
       "  <tbody>\n",
       "    <tr>\n",
       "      <th>Global accuracy</th>\n",
       "      <td>0.744297</td>\n",
       "      <td>0.598237</td>\n",
       "      <td>0.732902</td>\n",
       "      <td>0.763397</td>\n",
       "    </tr>\n",
       "    <tr>\n",
       "      <th>Class 1</th>\n",
       "      <td>0.833485</td>\n",
       "      <td>0.679457</td>\n",
       "      <td>0.822204</td>\n",
       "      <td>0.840726</td>\n",
       "    </tr>\n",
       "    <tr>\n",
       "      <th>Class 2</th>\n",
       "      <td>0.335418</td>\n",
       "      <td>0.458926</td>\n",
       "      <td>0.366859</td>\n",
       "      <td>0.416290</td>\n",
       "    </tr>\n",
       "    <tr>\n",
       "      <th>G-mean</th>\n",
       "      <td>0.528740</td>\n",
       "      <td>0.558409</td>\n",
       "      <td>0.549211</td>\n",
       "      <td>0.591596</td>\n",
       "    </tr>\n",
       "    <tr>\n",
       "      <th>Training time</th>\n",
       "      <td>17.497002</td>\n",
       "      <td>2.017999</td>\n",
       "      <td>0.597000</td>\n",
       "      <td>0.099003</td>\n",
       "    </tr>\n",
       "  </tbody>\n",
       "</table>\n",
       "</div>"
      ],
      "text/plain": [
       "                     DT #1     DT #2     DT #3     DT #4\n",
       "Global accuracy   0.744297  0.598237  0.732902  0.763397\n",
       "Class 1           0.833485  0.679457  0.822204  0.840726\n",
       "Class 2           0.335418  0.458926  0.366859  0.416290\n",
       "G-mean            0.528740  0.558409  0.549211  0.591596\n",
       "Training time    17.497002  2.017999  0.597000  0.099003"
      ]
     },
     "execution_count": 17,
     "metadata": {},
     "output_type": "execute_result"
    }
   ],
   "source": [
    "best_rst = []\n",
    "for i in range(4):\n",
    "  algo = rsts.loc['G-mean'][i*5:i*5+5].idxmax()\n",
    "  best_rst.append(algo)\n",
    "best_rst = rsts[best_rst].copy()\n",
    "best_rst"
   ]
  },
  {
   "cell_type": "markdown",
   "metadata": {
    "id": "qgWDH3ATGk6j"
   },
   "source": [
    "# Run 4 binary models with class weights"
   ]
  },
  {
   "cell_type": "code",
   "execution_count": 18,
   "metadata": {
    "colab": {
     "base_uri": "https://localhost:8080/",
     "height": 802
    },
    "id": "bgpnqfMiRwzn",
    "outputId": "8f796110-0726-49ac-e7fd-aa9e028b5ed0"
   },
   "outputs": [
    {
     "name": "stdout",
     "output_type": "stream",
     "text": [
      "Counter({0: 384890, 1: 83954})\n",
      "LR #1\n",
      "DT #1\n",
      "RF #1\n",
      "GNB #1\n",
      "SGD #1\n"
     ]
    },
    {
     "name": "stderr",
     "output_type": "stream",
     "text": [
      "C:\\Anaconda\\envs\\tf\\lib\\site-packages\\sklearn\\linear_model\\_stochastic_gradient.py:573: ConvergenceWarning: Maximum number of iteration reached before convergence. Consider increasing max_iter to improve the fit.\n",
      "  ConvergenceWarning)\n"
     ]
    },
    {
     "name": "stdout",
     "output_type": "stream",
     "text": [
      "Counter({0: 53032, 1: 30922})\n",
      "LR #2\n",
      "DT #2\n",
      "RF #2\n",
      "GNB #2\n",
      "SGD #2\n"
     ]
    },
    {
     "name": "stderr",
     "output_type": "stream",
     "text": [
      "C:\\Anaconda\\envs\\tf\\lib\\site-packages\\sklearn\\linear_model\\_stochastic_gradient.py:573: ConvergenceWarning: Maximum number of iteration reached before convergence. Consider increasing max_iter to improve the fit.\n",
      "  ConvergenceWarning)\n"
     ]
    },
    {
     "name": "stdout",
     "output_type": "stream",
     "text": [
      "Counter({0: 24859, 1: 6063})\n",
      "LR #3\n",
      "DT #3\n",
      "RF #3\n",
      "GNB #3\n",
      "SGD #3\n"
     ]
    },
    {
     "name": "stderr",
     "output_type": "stream",
     "text": [
      "C:\\Anaconda\\envs\\tf\\lib\\site-packages\\sklearn\\linear_model\\_stochastic_gradient.py:573: ConvergenceWarning: Maximum number of iteration reached before convergence. Consider increasing max_iter to improve the fit.\n",
      "  ConvergenceWarning)\n"
     ]
    },
    {
     "name": "stdout",
     "output_type": "stream",
     "text": [
      "Counter({0: 4959, 1: 1104})\n",
      "LR #4\n",
      "DT #4\n",
      "RF #4\n",
      "GNB #4\n",
      "SGD #4\n"
     ]
    },
    {
     "name": "stderr",
     "output_type": "stream",
     "text": [
      "C:\\Anaconda\\envs\\tf\\lib\\site-packages\\sklearn\\linear_model\\_stochastic_gradient.py:573: ConvergenceWarning: Maximum number of iteration reached before convergence. Consider increasing max_iter to improve the fit.\n",
      "  ConvergenceWarning)\n"
     ]
    },
    {
     "data": {
      "text/html": [
       "<div>\n",
       "<style scoped>\n",
       "    .dataframe tbody tr th:only-of-type {\n",
       "        vertical-align: middle;\n",
       "    }\n",
       "\n",
       "    .dataframe tbody tr th {\n",
       "        vertical-align: top;\n",
       "    }\n",
       "\n",
       "    .dataframe thead th {\n",
       "        text-align: right;\n",
       "    }\n",
       "</style>\n",
       "<table border=\"1\" class=\"dataframe\">\n",
       "  <thead>\n",
       "    <tr style=\"text-align: right;\">\n",
       "      <th></th>\n",
       "      <th>LR #1</th>\n",
       "      <th>DT #1</th>\n",
       "      <th>RF #1</th>\n",
       "      <th>GNB #1</th>\n",
       "      <th>SGD #1</th>\n",
       "      <th>LR #2</th>\n",
       "      <th>DT #2</th>\n",
       "      <th>RF #2</th>\n",
       "      <th>GNB #2</th>\n",
       "      <th>SGD #2</th>\n",
       "      <th>LR #3</th>\n",
       "      <th>DT #3</th>\n",
       "      <th>RF #3</th>\n",
       "      <th>GNB #3</th>\n",
       "      <th>SGD #3</th>\n",
       "      <th>LR #4</th>\n",
       "      <th>DT #4</th>\n",
       "      <th>RF #4</th>\n",
       "      <th>GNB #4</th>\n",
       "      <th>SGD #4</th>\n",
       "    </tr>\n",
       "  </thead>\n",
       "  <tbody>\n",
       "    <tr>\n",
       "      <th>Global accuracy</th>\n",
       "      <td>0.716345</td>\n",
       "      <td>0.752605</td>\n",
       "      <td>0.798185</td>\n",
       "      <td>0.797833</td>\n",
       "      <td>0.667545</td>\n",
       "      <td>0.640462</td>\n",
       "      <td>0.595378</td>\n",
       "      <td>0.656006</td>\n",
       "      <td>0.658150</td>\n",
       "      <td>0.587577</td>\n",
       "      <td>0.724656</td>\n",
       "      <td>0.737753</td>\n",
       "      <td>0.776880</td>\n",
       "      <td>0.793371</td>\n",
       "      <td>0.637833</td>\n",
       "      <td>0.767519</td>\n",
       "      <td>0.786480</td>\n",
       "      <td>0.734542</td>\n",
       "      <td>0.204452</td>\n",
       "      <td>0.653751</td>\n",
       "    </tr>\n",
       "    <tr>\n",
       "      <th>Class 1</th>\n",
       "      <td>0.751474</td>\n",
       "      <td>0.849554</td>\n",
       "      <td>0.869573</td>\n",
       "      <td>0.912559</td>\n",
       "      <td>0.697667</td>\n",
       "      <td>0.695767</td>\n",
       "      <td>0.683794</td>\n",
       "      <td>0.782596</td>\n",
       "      <td>0.940228</td>\n",
       "      <td>0.619591</td>\n",
       "      <td>0.745575</td>\n",
       "      <td>0.838697</td>\n",
       "      <td>0.848954</td>\n",
       "      <td>0.909694</td>\n",
       "      <td>0.680611</td>\n",
       "      <td>0.798387</td>\n",
       "      <td>0.859879</td>\n",
       "      <td>0.754032</td>\n",
       "      <td>0.032258</td>\n",
       "      <td>0.657258</td>\n",
       "    </tr>\n",
       "    <tr>\n",
       "      <th>Class 2</th>\n",
       "      <td>0.555297</td>\n",
       "      <td>0.308141</td>\n",
       "      <td>0.470907</td>\n",
       "      <td>0.271872</td>\n",
       "      <td>0.529450</td>\n",
       "      <td>0.545602</td>\n",
       "      <td>0.443726</td>\n",
       "      <td>0.438875</td>\n",
       "      <td>0.174321</td>\n",
       "      <td>0.532665</td>\n",
       "      <td>0.638912</td>\n",
       "      <td>0.323990</td>\n",
       "      <td>0.481451</td>\n",
       "      <td>0.316570</td>\n",
       "      <td>0.462490</td>\n",
       "      <td>0.628959</td>\n",
       "      <td>0.457014</td>\n",
       "      <td>0.647059</td>\n",
       "      <td>0.977376</td>\n",
       "      <td>0.638009</td>\n",
       "    </tr>\n",
       "    <tr>\n",
       "      <th>G-mean</th>\n",
       "      <td>0.645981</td>\n",
       "      <td>0.511647</td>\n",
       "      <td>0.639913</td>\n",
       "      <td>0.498096</td>\n",
       "      <td>0.607766</td>\n",
       "      <td>0.616126</td>\n",
       "      <td>0.550833</td>\n",
       "      <td>0.586056</td>\n",
       "      <td>0.404847</td>\n",
       "      <td>0.574486</td>\n",
       "      <td>0.690186</td>\n",
       "      <td>0.521277</td>\n",
       "      <td>0.639320</td>\n",
       "      <td>0.536640</td>\n",
       "      <td>0.561049</td>\n",
       "      <td>0.708628</td>\n",
       "      <td>0.626878</td>\n",
       "      <td>0.698501</td>\n",
       "      <td>0.177562</td>\n",
       "      <td>0.647562</td>\n",
       "    </tr>\n",
       "    <tr>\n",
       "      <th>Training time</th>\n",
       "      <td>2.528983</td>\n",
       "      <td>22.817000</td>\n",
       "      <td>31.098018</td>\n",
       "      <td>0.849014</td>\n",
       "      <td>1.179023</td>\n",
       "      <td>0.264002</td>\n",
       "      <td>1.916005</td>\n",
       "      <td>3.432999</td>\n",
       "      <td>0.112005</td>\n",
       "      <td>0.150010</td>\n",
       "      <td>0.299012</td>\n",
       "      <td>0.735998</td>\n",
       "      <td>1.340008</td>\n",
       "      <td>0.041010</td>\n",
       "      <td>0.050003</td>\n",
       "      <td>0.077006</td>\n",
       "      <td>0.100003</td>\n",
       "      <td>0.571018</td>\n",
       "      <td>0.018997</td>\n",
       "      <td>0.030997</td>\n",
       "    </tr>\n",
       "  </tbody>\n",
       "</table>\n",
       "</div>"
      ],
      "text/plain": [
       "                    LR #1      DT #1      RF #1    GNB #1    SGD #1     LR #2  \\\n",
       "Global accuracy  0.716345   0.752605   0.798185  0.797833  0.667545  0.640462   \n",
       "Class 1          0.751474   0.849554   0.869573  0.912559  0.697667  0.695767   \n",
       "Class 2          0.555297   0.308141   0.470907  0.271872  0.529450  0.545602   \n",
       "G-mean           0.645981   0.511647   0.639913  0.498096  0.607766  0.616126   \n",
       "Training time    2.528983  22.817000  31.098018  0.849014  1.179023  0.264002   \n",
       "\n",
       "                    DT #2     RF #2    GNB #2    SGD #2     LR #3     DT #3  \\\n",
       "Global accuracy  0.595378  0.656006  0.658150  0.587577  0.724656  0.737753   \n",
       "Class 1          0.683794  0.782596  0.940228  0.619591  0.745575  0.838697   \n",
       "Class 2          0.443726  0.438875  0.174321  0.532665  0.638912  0.323990   \n",
       "G-mean           0.550833  0.586056  0.404847  0.574486  0.690186  0.521277   \n",
       "Training time    1.916005  3.432999  0.112005  0.150010  0.299012  0.735998   \n",
       "\n",
       "                    RF #3    GNB #3    SGD #3     LR #4     DT #4     RF #4  \\\n",
       "Global accuracy  0.776880  0.793371  0.637833  0.767519  0.786480  0.734542   \n",
       "Class 1          0.848954  0.909694  0.680611  0.798387  0.859879  0.754032   \n",
       "Class 2          0.481451  0.316570  0.462490  0.628959  0.457014  0.647059   \n",
       "G-mean           0.639320  0.536640  0.561049  0.708628  0.626878  0.698501   \n",
       "Training time    1.340008  0.041010  0.050003  0.077006  0.100003  0.571018   \n",
       "\n",
       "                   GNB #4    SGD #4  \n",
       "Global accuracy  0.204452  0.653751  \n",
       "Class 1          0.032258  0.657258  \n",
       "Class 2          0.977376  0.638009  \n",
       "G-mean           0.177562  0.647562  \n",
       "Training time    0.018997  0.030997  "
      ]
     },
     "execution_count": 18,
     "metadata": {},
     "output_type": "execute_result"
    }
   ],
   "source": [
    "rsts = pd.DataFrame()\n",
    "for i in range(4):\n",
    "  MLs = create_ML('balanced')\n",
    "  X_train, X_test, y_train, y_test = prepare_data(sets[i][0],sets[i][1])\n",
    "  print(Counter(sets[i][1]))\n",
    "  for clf_name, clf in MLs.items():\n",
    "    name = '{0} #{1}'.format(clf_name,i+1)\n",
    "    print(name)\n",
    "    try:\n",
    "\n",
    "      rsts[name] = train_model(X_train, X_test, y_train, y_test, clf)\n",
    "    except Exception as e: print(e)\n",
    "    \n",
    "rsts.index = index\n",
    "rsts"
   ]
  },
  {
   "cell_type": "markdown",
   "metadata": {
    "id": "gqCyIU6C6ruG"
   },
   "source": [
    "Print the best algorithm for each classfications"
   ]
  },
  {
   "cell_type": "code",
   "execution_count": 19,
   "metadata": {
    "colab": {
     "base_uri": "https://localhost:8080/",
     "height": 204
    },
    "id": "PLgyPV-K6r-C",
    "outputId": "a04fba71-a2ee-408d-f80f-aead54c5760e"
   },
   "outputs": [
    {
     "data": {
      "text/html": [
       "<div>\n",
       "<style scoped>\n",
       "    .dataframe tbody tr th:only-of-type {\n",
       "        vertical-align: middle;\n",
       "    }\n",
       "\n",
       "    .dataframe tbody tr th {\n",
       "        vertical-align: top;\n",
       "    }\n",
       "\n",
       "    .dataframe thead th {\n",
       "        text-align: right;\n",
       "    }\n",
       "</style>\n",
       "<table border=\"1\" class=\"dataframe\">\n",
       "  <thead>\n",
       "    <tr style=\"text-align: right;\">\n",
       "      <th></th>\n",
       "      <th>LR #1</th>\n",
       "      <th>LR #2</th>\n",
       "      <th>LR #3</th>\n",
       "      <th>LR #4</th>\n",
       "    </tr>\n",
       "  </thead>\n",
       "  <tbody>\n",
       "    <tr>\n",
       "      <th>Global accuracy</th>\n",
       "      <td>0.716345</td>\n",
       "      <td>0.640462</td>\n",
       "      <td>0.724656</td>\n",
       "      <td>0.767519</td>\n",
       "    </tr>\n",
       "    <tr>\n",
       "      <th>Class 1</th>\n",
       "      <td>0.751474</td>\n",
       "      <td>0.695767</td>\n",
       "      <td>0.745575</td>\n",
       "      <td>0.798387</td>\n",
       "    </tr>\n",
       "    <tr>\n",
       "      <th>Class 2</th>\n",
       "      <td>0.555297</td>\n",
       "      <td>0.545602</td>\n",
       "      <td>0.638912</td>\n",
       "      <td>0.628959</td>\n",
       "    </tr>\n",
       "    <tr>\n",
       "      <th>G-mean</th>\n",
       "      <td>0.645981</td>\n",
       "      <td>0.616126</td>\n",
       "      <td>0.690186</td>\n",
       "      <td>0.708628</td>\n",
       "    </tr>\n",
       "    <tr>\n",
       "      <th>Training time</th>\n",
       "      <td>2.528983</td>\n",
       "      <td>0.264002</td>\n",
       "      <td>0.299012</td>\n",
       "      <td>0.077006</td>\n",
       "    </tr>\n",
       "  </tbody>\n",
       "</table>\n",
       "</div>"
      ],
      "text/plain": [
       "                    LR #1     LR #2     LR #3     LR #4\n",
       "Global accuracy  0.716345  0.640462  0.724656  0.767519\n",
       "Class 1          0.751474  0.695767  0.745575  0.798387\n",
       "Class 2          0.555297  0.545602  0.638912  0.628959\n",
       "G-mean           0.645981  0.616126  0.690186  0.708628\n",
       "Training time    2.528983  0.264002  0.299012  0.077006"
      ]
     },
     "execution_count": 19,
     "metadata": {},
     "output_type": "execute_result"
    }
   ],
   "source": [
    "best_rst = []\n",
    "for i in range(4):\n",
    "  algo = rsts.loc['G-mean'][i*5:i*5+5].idxmax()\n",
    "  best_rst.append(algo)\n",
    "best_rst_cw = rsts[best_rst].copy()\n",
    "best_rst_cw"
   ]
  },
  {
   "cell_type": "markdown",
   "metadata": {
    "id": "MttWSJBG8PFF"
   },
   "source": [
    "# Run 4 binary models with under-sampling\n"
   ]
  },
  {
   "cell_type": "code",
   "execution_count": 20,
   "metadata": {
    "id": "DB-z1fKMAlBy"
   },
   "outputs": [],
   "source": [
    "from imblearn.under_sampling import RandomUnderSampler,CondensedNearestNeighbour,EditedNearestNeighbours\n",
    "from imblearn.under_sampling import AllKNN, InstanceHardnessThreshold, NearMiss, NeighbourhoodCleaningRule\n",
    "from imblearn.under_sampling import     TomekLinks\n",
    "from imblearn.under_sampling import     OneSidedSelection"
   ]
  },
  {
   "cell_type": "code",
   "execution_count": 21,
   "metadata": {
    "id": "j1a97LYLvbJa"
   },
   "outputs": [],
   "source": [
    "import warnings; warnings.simplefilter('ignore')"
   ]
  },
  {
   "cell_type": "code",
   "execution_count": 23,
   "metadata": {
    "colab": {
     "base_uri": "https://localhost:8080/",
     "height": 357
    },
    "id": "eovVRZG1DiIE",
    "outputId": "90cb552c-8387-426f-e483-4774cf301687"
   },
   "outputs": [
    {
     "ename": "TypeError",
     "evalue": "__init__() got an unexpected keyword argument 'random_state'",
     "output_type": "error",
     "traceback": [
      "\u001b[1;31m---------------------------------------------------------------------------\u001b[0m",
      "\u001b[1;31mTypeError\u001b[0m                                 Traceback (most recent call last)",
      "\u001b[1;32m<ipython-input-23-725b2aed6c37>\u001b[0m in \u001b[0;36m<module>\u001b[1;34m\u001b[0m\n\u001b[0;32m      2\u001b[0m \u001b[1;31m#cnn = CondensedNearestNeighbour(random_state=42)\u001b[0m\u001b[1;33m\u001b[0m\u001b[1;33m\u001b[0m\u001b[1;33m\u001b[0m\u001b[0m\n\u001b[0;32m      3\u001b[0m \u001b[0menn\u001b[0m \u001b[1;33m=\u001b[0m \u001b[0mEditedNearestNeighbours\u001b[0m\u001b[1;33m(\u001b[0m\u001b[1;33m)\u001b[0m\u001b[1;33m\u001b[0m\u001b[1;33m\u001b[0m\u001b[0m\n\u001b[1;32m----> 4\u001b[1;33m \u001b[0maknn\u001b[0m \u001b[1;33m=\u001b[0m \u001b[0mAllKNN\u001b[0m\u001b[1;33m(\u001b[0m\u001b[0mrandom_state\u001b[0m\u001b[1;33m=\u001b[0m\u001b[1;36m42\u001b[0m\u001b[1;33m)\u001b[0m\u001b[1;33m\u001b[0m\u001b[1;33m\u001b[0m\u001b[0m\n\u001b[0m\u001b[0;32m      5\u001b[0m \u001b[0miht\u001b[0m \u001b[1;33m=\u001b[0m \u001b[0mInstanceHardnessThreshold\u001b[0m\u001b[1;33m(\u001b[0m\u001b[0mrandom_state\u001b[0m\u001b[1;33m=\u001b[0m\u001b[1;36m42\u001b[0m\u001b[1;33m)\u001b[0m\u001b[1;33m\u001b[0m\u001b[1;33m\u001b[0m\u001b[0m\n\u001b[0;32m      6\u001b[0m \u001b[0mnrms\u001b[0m \u001b[1;33m=\u001b[0m\u001b[0mNearMiss\u001b[0m\u001b[1;33m(\u001b[0m\u001b[0mrandom_state\u001b[0m\u001b[1;33m=\u001b[0m\u001b[1;36m42\u001b[0m\u001b[1;33m)\u001b[0m\u001b[1;33m\u001b[0m\u001b[1;33m\u001b[0m\u001b[0m\n",
      "\u001b[1;32mC:\\Anaconda\\envs\\tf\\lib\\site-packages\\imblearn\\utils\\_validation.py\u001b[0m in \u001b[0;36minner_f\u001b[1;34m(*args, **kwargs)\u001b[0m\n\u001b[0;32m    638\u001b[0m                           FutureWarning)\n\u001b[0;32m    639\u001b[0m         \u001b[0mkwargs\u001b[0m\u001b[1;33m.\u001b[0m\u001b[0mupdate\u001b[0m\u001b[1;33m(\u001b[0m\u001b[1;33m{\u001b[0m\u001b[0mk\u001b[0m\u001b[1;33m:\u001b[0m \u001b[0marg\u001b[0m \u001b[1;32mfor\u001b[0m \u001b[0mk\u001b[0m\u001b[1;33m,\u001b[0m \u001b[0marg\u001b[0m \u001b[1;32min\u001b[0m \u001b[0mzip\u001b[0m\u001b[1;33m(\u001b[0m\u001b[0msig\u001b[0m\u001b[1;33m.\u001b[0m\u001b[0mparameters\u001b[0m\u001b[1;33m,\u001b[0m \u001b[0margs\u001b[0m\u001b[1;33m)\u001b[0m\u001b[1;33m}\u001b[0m\u001b[1;33m)\u001b[0m\u001b[1;33m\u001b[0m\u001b[1;33m\u001b[0m\u001b[0m\n\u001b[1;32m--> 640\u001b[1;33m         \u001b[1;32mreturn\u001b[0m \u001b[0mf\u001b[0m\u001b[1;33m(\u001b[0m\u001b[1;33m**\u001b[0m\u001b[0mkwargs\u001b[0m\u001b[1;33m)\u001b[0m\u001b[1;33m\u001b[0m\u001b[1;33m\u001b[0m\u001b[0m\n\u001b[0m\u001b[0;32m    641\u001b[0m     \u001b[1;32mreturn\u001b[0m \u001b[0minner_f\u001b[0m\u001b[1;33m\u001b[0m\u001b[1;33m\u001b[0m\u001b[0m\n",
      "\u001b[1;31mTypeError\u001b[0m: __init__() got an unexpected keyword argument 'random_state'"
     ]
    }
   ],
   "source": [
    "rus = RandomUnderSampler(random_state=42)\n",
    "#cnn = CondensedNearestNeighbour(random_state=42)\n",
    "enn = EditedNearestNeighbours()\n",
    "aknn = AllKNN()\n",
    "iht = InstanceHardnessThreshold(random_state=42)\n",
    "nrms =NearMiss(random_state=42)\n",
    "ncr = NeighbourhoodCleaningRule(random_state=42)\n",
    "oss = OneSidedSelection(random_state=42)\n",
    "tml = TomekLinks(random_state=42)\n",
    "\n",
    "unders = [rus, enn, aknn, iht, nrms, ncr, oss, tml]\n",
    "under_names = ['RandomUnderSampler',\n",
    "            'EditedNearestNeighbours', 'AllKNN', 'InstanceHardnessThreshold', \n",
    "            'NearMiss', 'NeighbourhoodCleaningRule',\n",
    "            'OneSidedSelection','TomekLinks']\n",
    "URs=dict(zip(under_names,unders))\n",
    "URs"
   ]
  },
  {
   "cell_type": "code",
   "execution_count": null,
   "metadata": {
    "colab": {
     "base_uri": "https://localhost:8080/",
     "height": 136
    },
    "id": "nW2krBG_-kWs",
    "outputId": "5561a77c-0b39-4388-8b16-b6485bfb175c"
   },
   "outputs": [],
   "source": [
    "def under_resampling(data,method):\n",
    "  urs = URs[method]\n",
    "  X_urs, y_urs = urs.fit_resample(data[0], data[1])\n",
    "  return X_urs, y_urs\n",
    "under_resampling(sets[3],under_names[0])"
   ]
  },
  {
   "cell_type": "code",
   "execution_count": null,
   "metadata": {
    "id": "mwRBbw-TBSys"
   },
   "outputs": [],
   "source": [
    "import warnings; warnings.simplefilter('ignore')"
   ]
  },
  {
   "cell_type": "markdown",
   "metadata": {
    "id": "wVBv2EUoLtQY"
   },
   "source": [
    "#### Find the fastest under sampling techniques"
   ]
  },
  {
   "cell_type": "code",
   "execution_count": null,
   "metadata": {
    "colab": {
     "base_uri": "https://localhost:8080/",
     "height": 119
    },
    "id": "u0G4LYbw-AVl",
    "outputId": "eb13112c-6ae4-44fb-f5f5-629c79d889a2"
   },
   "outputs": [],
   "source": [
    "print(Counter(sets[2][1]))\n",
    "perform ={}\n",
    "for key in ['RandomUnderSampler','NearMiss','EditedNearestNeighbours','TomekLinks','OneSidedSelection']:\n",
    "  start = time.time()\n",
    "  under_resampling(sets[1],key)\n",
    "  end = time.time()\n",
    "  perform[key]=end-start\n",
    "\n",
    "sorted(perform.items(), key=lambda x: x[1])"
   ]
  },
  {
   "cell_type": "markdown",
   "metadata": {
    "id": "3mNPna6oK9iS"
   },
   "source": [
    "Best are ROS, NM, ENN"
   ]
  },
  {
   "cell_type": "code",
   "execution_count": null,
   "metadata": {
    "id": "M6KWt51jrZSr"
   },
   "outputs": [],
   "source": []
  },
  {
   "cell_type": "code",
   "execution_count": 24,
   "metadata": {
    "id": "e3eUAFqQPhC6"
   },
   "outputs": [],
   "source": [
    "def prepare_data2(X_dat,label,resampler):\n",
    "  # Split data set \n",
    "  X_train, X_test, y_train, y_test = train_test_split(X_dat,label,test_size=0.2,stratify=label, random_state=48)\n",
    "  #print('Training features shape:', X_train.shape)\n",
    "  #print('Test features shape:', X_test.shape)\n",
    "  \n",
    "  # Standardize the data \n",
    "  scaler = StandardScaler()\n",
    "  X_train = scaler.fit_transform(X_train)\n",
    "  X_test = scaler.transform(X_test)\n",
    "  # Resampling the training set\n",
    "  X_train, y_train = resampler.fit_resample(X_train, y_train)\n",
    "  return X_train, X_test, y_train, y_test"
   ]
  },
  {
   "cell_type": "markdown",
   "metadata": {
    "id": "3yBQUGd9I4PO"
   },
   "source": [
    "### Random under resampling\n"
   ]
  },
  {
   "cell_type": "code",
   "execution_count": 25,
   "metadata": {
    "colab": {
     "base_uri": "https://localhost:8080/",
     "height": 544
    },
    "id": "RsIADmEDFJz2",
    "outputId": "8e580dc2-4483-4337-d6c1-c2e5de064322"
   },
   "outputs": [
    {
     "name": "stdout",
     "output_type": "stream",
     "text": [
      "LR #1\n",
      "DT #1\n",
      "RF #1\n",
      "GNB #1\n",
      "SGD #1\n",
      "LR #2\n",
      "DT #2\n",
      "RF #2\n",
      "GNB #2\n",
      "SGD #2\n",
      "LR #3\n",
      "DT #3\n",
      "RF #3\n",
      "GNB #3\n",
      "SGD #3\n",
      "LR #4\n",
      "DT #4\n",
      "RF #4\n",
      "GNB #4\n",
      "SGD #4\n"
     ]
    },
    {
     "data": {
      "text/html": [
       "<div>\n",
       "<style scoped>\n",
       "    .dataframe tbody tr th:only-of-type {\n",
       "        vertical-align: middle;\n",
       "    }\n",
       "\n",
       "    .dataframe tbody tr th {\n",
       "        vertical-align: top;\n",
       "    }\n",
       "\n",
       "    .dataframe thead th {\n",
       "        text-align: right;\n",
       "    }\n",
       "</style>\n",
       "<table border=\"1\" class=\"dataframe\">\n",
       "  <thead>\n",
       "    <tr style=\"text-align: right;\">\n",
       "      <th></th>\n",
       "      <th>LR #1</th>\n",
       "      <th>LR #2</th>\n",
       "      <th>LR #3</th>\n",
       "      <th>LR #4</th>\n",
       "    </tr>\n",
       "  </thead>\n",
       "  <tbody>\n",
       "    <tr>\n",
       "      <th>Global accuracy</th>\n",
       "      <td>0.717092</td>\n",
       "      <td>0.640522</td>\n",
       "      <td>0.724818</td>\n",
       "      <td>0.751031</td>\n",
       "    </tr>\n",
       "    <tr>\n",
       "      <th>Class 1</th>\n",
       "      <td>0.752423</td>\n",
       "      <td>0.696804</td>\n",
       "      <td>0.745173</td>\n",
       "      <td>0.774194</td>\n",
       "    </tr>\n",
       "    <tr>\n",
       "      <th>Class 2</th>\n",
       "      <td>0.555119</td>\n",
       "      <td>0.543984</td>\n",
       "      <td>0.641385</td>\n",
       "      <td>0.647059</td>\n",
       "    </tr>\n",
       "    <tr>\n",
       "      <th>G-mean</th>\n",
       "      <td>0.646285</td>\n",
       "      <td>0.615671</td>\n",
       "      <td>0.691334</td>\n",
       "      <td>0.707777</td>\n",
       "    </tr>\n",
       "    <tr>\n",
       "      <th>Training time</th>\n",
       "      <td>0.903003</td>\n",
       "      <td>0.166005</td>\n",
       "      <td>0.070000</td>\n",
       "      <td>0.034004</td>\n",
       "    </tr>\n",
       "  </tbody>\n",
       "</table>\n",
       "</div>"
      ],
      "text/plain": [
       "                    LR #1     LR #2     LR #3     LR #4\n",
       "Global accuracy  0.717092  0.640522  0.724818  0.751031\n",
       "Class 1          0.752423  0.696804  0.745173  0.774194\n",
       "Class 2          0.555119  0.543984  0.641385  0.647059\n",
       "G-mean           0.646285  0.615671  0.691334  0.707777\n",
       "Training time    0.903003  0.166005  0.070000  0.034004"
      ]
     },
     "execution_count": 25,
     "metadata": {},
     "output_type": "execute_result"
    }
   ],
   "source": [
    "rsts = pd.DataFrame()\n",
    "for i in range(4):\n",
    "  MLs = create_ML('balanced')\n",
    "  rus = RandomUnderSampler(random_state=42)\n",
    "  X_train, X_test, y_train, y_test = prepare_data2(sets[i][0],sets[i][1],rus)\n",
    "  rus = RandomUnderSampler(random_state=42)\n",
    "  for clf_name, clf in MLs.items():\n",
    "    name = '{0} #{1}'.format(clf_name,i+1)\n",
    "    print(name)\n",
    "    try:\n",
    "      rsts[name] = train_model(X_train, X_test, y_train, y_test, clf)\n",
    "    except Exception as e: print(e)\n",
    "    \n",
    "rsts.index = index\n",
    "best_rst = []\n",
    "for i in range(4):\n",
    "  algo = rsts.loc['G-mean'][i*5:i*5+5].idxmax()\n",
    "  best_rst.append(algo)\n",
    "best_rst_ur = rsts[best_rst].copy()\n",
    "best_rst_ur"
   ]
  },
  {
   "cell_type": "markdown",
   "metadata": {
    "id": "Rgwm9hLzIhUY"
   },
   "source": [
    "## Near Miss"
   ]
  },
  {
   "cell_type": "code",
   "execution_count": null,
   "metadata": {
    "id": "Mb8nw5aQIKWF"
   },
   "outputs": [],
   "source": [
    "rsts = pd.DataFrame()\n",
    "for i in range(4):\n",
    "  MLs = create_ML('balanced')\n",
    "  nrms =NearMiss(random_state=42)\n",
    "  X_train, X_test, y_train, y_test = prepare_data2(sets[i][0],sets[i][1],nrms)\n",
    "  for clf_name, clf in MLs.items():\n",
    "    name = '{0} #{1}'.format(clf_name,i+1)\n",
    "    print(name)\n",
    "    try:\n",
    "      rsts[name] = train_model(X_train, X_test, y_train, y_test, clf)\n",
    "    except Exception as e: print(e)\n",
    "    \n",
    "rsts.index = index\n",
    "best_rst = []\n",
    "for i in range(4):\n",
    "  algo = rsts.loc['G-mean'][i*5:i*5+5].idxmax()\n",
    "  best_rst.append(algo)\n",
    "best_rst_ur = rsts[best_rst].copy()\n",
    "best_rst_ur"
   ]
  },
  {
   "cell_type": "markdown",
   "metadata": {
    "id": "w297VFGDIluk"
   },
   "source": [
    "## Edited Nearest Neighbours"
   ]
  },
  {
   "cell_type": "code",
   "execution_count": null,
   "metadata": {
    "colab": {
     "base_uri": "https://localhost:8080/",
     "height": 612
    },
    "id": "lpyDl6BKIlG7",
    "outputId": "805aaa9c-f817-45d9-f0ab-867515049720"
   },
   "outputs": [],
   "source": [
    "rsts = pd.DataFrame()\n",
    "for i in range(4):\n",
    "  MLs = create_ML('balanced')\n",
    "  enn = EditedNearestNeighbours(random_state=42)\n",
    "  X_train, X_test, y_train, y_test = prepare_data2(sets[i][0],sets[i][1],enn)\n",
    "  for clf_name, clf in MLs.items():\n",
    "    name = '{0} #{1}'.format(clf_name,i+1)\n",
    "    print(name)\n",
    "    try:\n",
    "      rsts[name] = train_model(X_train, X_test, y_train, y_test, clf)\n",
    "    except Exception as e: print(e)\n",
    "    \n",
    "rsts.index = index\n",
    "best_rst = []\n",
    "for i in range(4):\n",
    "  algo = rsts.loc['G-mean'][i*5:i*5+5].idxmax()\n",
    "  best_rst.append(algo)\n",
    "best_rst_ur = rsts[best_rst].copy()\n",
    "best_rst_ur"
   ]
  },
  {
   "cell_type": "markdown",
   "metadata": {
    "id": "cedBq2E2GXkH"
   },
   "source": [
    "# Run 4 binary models with over-sampling\n"
   ]
  },
  {
   "cell_type": "code",
   "execution_count": 26,
   "metadata": {
    "id": "LlPf_4sDGXkM"
   },
   "outputs": [],
   "source": [
    "from imblearn.over_sampling import RandomOverSampler,SMOTE\n",
    "from imblearn.over_sampling import ADASYN, BorderlineSMOTE"
   ]
  },
  {
   "cell_type": "code",
   "execution_count": 27,
   "metadata": {
    "colab": {
     "base_uri": "https://localhost:8080/",
     "height": 170
    },
    "id": "EleiYR9mJf-U",
    "outputId": "a02d00cb-0396-4172-8d8d-2fcb7539ace9"
   },
   "outputs": [
    {
     "data": {
      "text/plain": [
       "{'RandomOverSampler': RandomOverSampler(random_state=42),\n",
       " 'SMOTE': SMOTE(random_state=42),\n",
       " 'BorderlineSMOTE': BorderlineSMOTE(random_state=42),\n",
       " 'ADASYN': ADASYN(random_state=42)}"
      ]
     },
     "execution_count": 27,
     "metadata": {},
     "output_type": "execute_result"
    }
   ],
   "source": [
    "ada = ADASYN(random_state=42)\n",
    "bsm = BorderlineSMOTE(random_state=42)\n",
    "#ksm = KMeansSMOTE(random_state=42)\n",
    "ros = RandomOverSampler(random_state=42)\n",
    "sm = SMOTE(random_state=42)\n",
    "\n",
    "overs = [ros, sm, bsm, ada]\n",
    "over_names = ['RandomOverSampler','SMOTE',\n",
    "            'BorderlineSMOTE', 'ADASYN']\n",
    "ORs=dict(zip(over_names,overs))\n",
    "ORs"
   ]
  },
  {
   "cell_type": "code",
   "execution_count": 28,
   "metadata": {
    "colab": {
     "base_uri": "https://localhost:8080/",
     "height": 34
    },
    "id": "fPZjd89hGXks",
    "outputId": "a52b7782-e612-44a1-b097-7ee6683b5dbb"
   },
   "outputs": [
    {
     "data": {
      "text/plain": [
       "(Counter({0: 4959, 1: 1104}), Counter({0: 4959, 1: 4959}))"
      ]
     },
     "execution_count": 28,
     "metadata": {},
     "output_type": "execute_result"
    }
   ],
   "source": [
    "def over_resampling(data,method):\n",
    "  urs = ORs[method]\n",
    "  X_urs, y_urs = urs.fit_resample(data[0], data[1])\n",
    "  return X_urs, y_urs\n",
    "_,y_or = over_resampling(sets[3],over_names[0])\n",
    "Counter(sets[3][1]), Counter(y_or)"
   ]
  },
  {
   "cell_type": "code",
   "execution_count": 29,
   "metadata": {
    "colab": {
     "base_uri": "https://localhost:8080/",
     "height": 102
    },
    "id": "VasnWl55L13F",
    "outputId": "a57d3b90-1330-438a-e919-9330510521e0"
   },
   "outputs": [
    {
     "name": "stdout",
     "output_type": "stream",
     "text": [
      "Counter({0: 24859, 1: 6063})\n"
     ]
    },
    {
     "data": {
      "text/plain": [
       "[('RandomOverSampler', 0.13199424743652344),\n",
       " ('SMOTE', 0.5749976634979248),\n",
       " ('ADASYN', 2.748000144958496),\n",
       " ('BorderlineSMOTE', 2.992999315261841)]"
      ]
     },
     "execution_count": 29,
     "metadata": {},
     "output_type": "execute_result"
    }
   ],
   "source": [
    "i = 2\n",
    "print(Counter(sets[i][1]))\n",
    "perform ={}\n",
    "for key in over_names:\n",
    "  start = time.time()\n",
    "  over_resampling(sets[i],key)\n",
    "  end = time.time()\n",
    "  perform[key]=end-start\n",
    "\n",
    "sorted(perform.items(), key=lambda x: x[1])"
   ]
  },
  {
   "cell_type": "markdown",
   "metadata": {
    "id": "hM56x9_kIziY"
   },
   "source": [
    "### Random over resampling"
   ]
  },
  {
   "cell_type": "code",
   "execution_count": 30,
   "metadata": {
    "colab": {
     "base_uri": "https://localhost:8080/",
     "height": 544
    },
    "id": "RRdrsV1xGXky",
    "outputId": "ad0bf5ca-8140-4801-e9d1-af8bfcb0ee24"
   },
   "outputs": [
    {
     "name": "stdout",
     "output_type": "stream",
     "text": [
      "LR #1\n",
      "DT #1\n",
      "RF #1\n",
      "GNB #1\n",
      "SGD #1\n",
      "LR #2\n",
      "DT #2\n",
      "RF #2\n",
      "GNB #2\n",
      "SGD #2\n",
      "LR #3\n",
      "DT #3\n",
      "RF #3\n",
      "GNB #3\n",
      "SGD #3\n",
      "LR #4\n",
      "DT #4\n",
      "RF #4\n",
      "GNB #4\n",
      "SGD #4\n"
     ]
    },
    {
     "data": {
      "text/html": [
       "<div>\n",
       "<style scoped>\n",
       "    .dataframe tbody tr th:only-of-type {\n",
       "        vertical-align: middle;\n",
       "    }\n",
       "\n",
       "    .dataframe tbody tr th {\n",
       "        vertical-align: top;\n",
       "    }\n",
       "\n",
       "    .dataframe thead th {\n",
       "        text-align: right;\n",
       "    }\n",
       "</style>\n",
       "<table border=\"1\" class=\"dataframe\">\n",
       "  <thead>\n",
       "    <tr style=\"text-align: right;\">\n",
       "      <th></th>\n",
       "      <th>LR #1</th>\n",
       "      <th>LR #2</th>\n",
       "      <th>LR #3</th>\n",
       "      <th>RF #4</th>\n",
       "    </tr>\n",
       "  </thead>\n",
       "  <tbody>\n",
       "    <tr>\n",
       "      <th>Global accuracy</th>\n",
       "      <td>0.717007</td>\n",
       "      <td>0.639509</td>\n",
       "      <td>0.728052</td>\n",
       "      <td>0.742786</td>\n",
       "    </tr>\n",
       "    <tr>\n",
       "      <th>Class 1</th>\n",
       "      <td>0.752254</td>\n",
       "      <td>0.694636</td>\n",
       "      <td>0.750201</td>\n",
       "      <td>0.760081</td>\n",
       "    </tr>\n",
       "    <tr>\n",
       "      <th>Class 2</th>\n",
       "      <td>0.555417</td>\n",
       "      <td>0.544955</td>\n",
       "      <td>0.637263</td>\n",
       "      <td>0.665158</td>\n",
       "    </tr>\n",
       "    <tr>\n",
       "      <th>G-mean</th>\n",
       "      <td>0.646386</td>\n",
       "      <td>0.615260</td>\n",
       "      <td>0.691430</td>\n",
       "      <td>0.711037</td>\n",
       "    </tr>\n",
       "    <tr>\n",
       "      <th>Training time</th>\n",
       "      <td>3.831997</td>\n",
       "      <td>0.281016</td>\n",
       "      <td>0.152001</td>\n",
       "      <td>0.568995</td>\n",
       "    </tr>\n",
       "  </tbody>\n",
       "</table>\n",
       "</div>"
      ],
      "text/plain": [
       "                    LR #1     LR #2     LR #3     RF #4\n",
       "Global accuracy  0.717007  0.639509  0.728052  0.742786\n",
       "Class 1          0.752254  0.694636  0.750201  0.760081\n",
       "Class 2          0.555417  0.544955  0.637263  0.665158\n",
       "G-mean           0.646386  0.615260  0.691430  0.711037\n",
       "Training time    3.831997  0.281016  0.152001  0.568995"
      ]
     },
     "execution_count": 30,
     "metadata": {},
     "output_type": "execute_result"
    }
   ],
   "source": [
    "rsts = pd.DataFrame()\n",
    "for i in range(4):\n",
    "  MLs = create_ML('balanced')\n",
    "  ros = RandomOverSampler(random_state=42)\n",
    "  X_train, X_test, y_train, y_test = prepare_data2(sets[i][0],sets[i][1],ros)\n",
    "  for clf_name, clf in MLs.items():\n",
    "    name = '{0} #{1}'.format(clf_name,i+1)\n",
    "    print(name)\n",
    "    try:\n",
    "      rsts[name] = train_model(X_train, X_test, y_train, y_test, clf)\n",
    "    except Exception as e: print(e)\n",
    "    \n",
    "rsts.index = index\n",
    "best_rst = []\n",
    "for i in range(4):\n",
    "  algo = rsts.loc['G-mean'][i*5:i*5+5].idxmax()\n",
    "  best_rst.append(algo)\n",
    "best_rst_ur = rsts[best_rst].copy()\n",
    "best_rst_ur"
   ]
  },
  {
   "cell_type": "markdown",
   "metadata": {
    "id": "yA2m3ULWuhHX"
   },
   "source": [
    "### SMOTE\n"
   ]
  },
  {
   "cell_type": "code",
   "execution_count": 31,
   "metadata": {
    "id": "vYI3XOTVIdxi"
   },
   "outputs": [
    {
     "name": "stdout",
     "output_type": "stream",
     "text": [
      "LR #1\n",
      "DT #1\n",
      "RF #1\n",
      "GNB #1\n",
      "SGD #1\n",
      "LR #2\n",
      "DT #2\n",
      "RF #2\n",
      "GNB #2\n",
      "SGD #2\n",
      "LR #3\n",
      "DT #3\n",
      "RF #3\n",
      "GNB #3\n",
      "SGD #3\n",
      "LR #4\n",
      "DT #4\n",
      "RF #4\n",
      "GNB #4\n",
      "SGD #4\n"
     ]
    },
    {
     "data": {
      "text/html": [
       "<div>\n",
       "<style scoped>\n",
       "    .dataframe tbody tr th:only-of-type {\n",
       "        vertical-align: middle;\n",
       "    }\n",
       "\n",
       "    .dataframe tbody tr th {\n",
       "        vertical-align: top;\n",
       "    }\n",
       "\n",
       "    .dataframe thead th {\n",
       "        text-align: right;\n",
       "    }\n",
       "</style>\n",
       "<table border=\"1\" class=\"dataframe\">\n",
       "  <thead>\n",
       "    <tr style=\"text-align: right;\">\n",
       "      <th></th>\n",
       "      <th>LR #1</th>\n",
       "      <th>LR #2</th>\n",
       "      <th>LR #3</th>\n",
       "      <th>LR #4</th>\n",
       "    </tr>\n",
       "  </thead>\n",
       "  <tbody>\n",
       "    <tr>\n",
       "      <th>Global accuracy</th>\n",
       "      <td>0.709861</td>\n",
       "      <td>0.640343</td>\n",
       "      <td>0.717542</td>\n",
       "      <td>0.765045</td>\n",
       "    </tr>\n",
       "    <tr>\n",
       "      <th>Class 1</th>\n",
       "      <td>0.742030</td>\n",
       "      <td>0.693504</td>\n",
       "      <td>0.734714</td>\n",
       "      <td>0.794355</td>\n",
       "    </tr>\n",
       "    <tr>\n",
       "      <th>Class 2</th>\n",
       "      <td>0.562385</td>\n",
       "      <td>0.549159</td>\n",
       "      <td>0.647156</td>\n",
       "      <td>0.633484</td>\n",
       "    </tr>\n",
       "    <tr>\n",
       "      <th>G-mean</th>\n",
       "      <td>0.645993</td>\n",
       "      <td>0.617126</td>\n",
       "      <td>0.689547</td>\n",
       "      <td>0.709374</td>\n",
       "    </tr>\n",
       "    <tr>\n",
       "      <th>Training time</th>\n",
       "      <td>3.210007</td>\n",
       "      <td>0.438003</td>\n",
       "      <td>0.254012</td>\n",
       "      <td>0.097999</td>\n",
       "    </tr>\n",
       "  </tbody>\n",
       "</table>\n",
       "</div>"
      ],
      "text/plain": [
       "                    LR #1     LR #2     LR #3     LR #4\n",
       "Global accuracy  0.709861  0.640343  0.717542  0.765045\n",
       "Class 1          0.742030  0.693504  0.734714  0.794355\n",
       "Class 2          0.562385  0.549159  0.647156  0.633484\n",
       "G-mean           0.645993  0.617126  0.689547  0.709374\n",
       "Training time    3.210007  0.438003  0.254012  0.097999"
      ]
     },
     "execution_count": 31,
     "metadata": {},
     "output_type": "execute_result"
    }
   ],
   "source": [
    "rsts = pd.DataFrame()\n",
    "for i in range(4):\n",
    "  MLs = create_ML('balanced')\n",
    "  sm = SMOTE(random_state=42)\n",
    "  X_train, X_test, y_train, y_test = prepare_data2(sets[i][0],sets[i][1],sm)\n",
    "  for clf_name, clf in MLs.items():\n",
    "    name = '{0} #{1}'.format(clf_name,i+1)\n",
    "    print(name)\n",
    "    try:\n",
    "      rsts[name] = train_model(X_train, X_test, y_train, y_test, clf)\n",
    "    except Exception as e: print(e)\n",
    "    \n",
    "rsts.index = index\n",
    "best_rst = []\n",
    "for i in range(4):\n",
    "  algo = rsts.loc['G-mean'][i*5:i*5+5].idxmax()\n",
    "  best_rst.append(algo)\n",
    "best_rst_ur = rsts[best_rst].copy()\n",
    "best_rst_ur"
   ]
  },
  {
   "cell_type": "markdown",
   "metadata": {
    "id": "AHTKs48tNpop"
   },
   "source": [
    "### BorderlineSMOTE\n"
   ]
  },
  {
   "cell_type": "code",
   "execution_count": 32,
   "metadata": {
    "colab": {
     "base_uri": "https://localhost:8080/",
     "height": 612
    },
    "id": "oDFz_fTvNpos",
    "outputId": "e9900554-ccc8-4dec-f579-8a8270e9edb7"
   },
   "outputs": [
    {
     "name": "stdout",
     "output_type": "stream",
     "text": [
      "LR #1\n",
      "DT #1\n",
      "RF #1\n",
      "GNB #1\n",
      "SGD #1\n",
      "LR #2\n",
      "DT #2\n",
      "RF #2\n",
      "GNB #2\n",
      "SGD #2\n",
      "LR #3\n",
      "DT #3\n",
      "RF #3\n",
      "GNB #3\n",
      "SGD #3\n",
      "LR #4\n",
      "DT #4\n",
      "RF #4\n",
      "GNB #4\n",
      "SGD #4\n"
     ]
    },
    {
     "data": {
      "text/html": [
       "<div>\n",
       "<style scoped>\n",
       "    .dataframe tbody tr th:only-of-type {\n",
       "        vertical-align: middle;\n",
       "    }\n",
       "\n",
       "    .dataframe tbody tr th {\n",
       "        vertical-align: top;\n",
       "    }\n",
       "\n",
       "    .dataframe thead th {\n",
       "        text-align: right;\n",
       "    }\n",
       "</style>\n",
       "<table border=\"1\" class=\"dataframe\">\n",
       "  <thead>\n",
       "    <tr style=\"text-align: right;\">\n",
       "      <th></th>\n",
       "      <th>LR #1</th>\n",
       "      <th>RF #2</th>\n",
       "      <th>LR #3</th>\n",
       "      <th>LR #4</th>\n",
       "    </tr>\n",
       "  </thead>\n",
       "  <tbody>\n",
       "    <tr>\n",
       "      <th>Global accuracy</th>\n",
       "      <td>0.678039</td>\n",
       "      <td>0.627836</td>\n",
       "      <td>0.709620</td>\n",
       "      <td>0.751855</td>\n",
       "    </tr>\n",
       "    <tr>\n",
       "      <th>Class 1</th>\n",
       "      <td>0.693757</td>\n",
       "      <td>0.652117</td>\n",
       "      <td>0.721641</td>\n",
       "      <td>0.773185</td>\n",
       "    </tr>\n",
       "    <tr>\n",
       "      <th>Class 2</th>\n",
       "      <td>0.605979</td>\n",
       "      <td>0.586190</td>\n",
       "      <td>0.660346</td>\n",
       "      <td>0.656109</td>\n",
       "    </tr>\n",
       "    <tr>\n",
       "      <th>G-mean</th>\n",
       "      <td>0.648384</td>\n",
       "      <td>0.618275</td>\n",
       "      <td>0.690314</td>\n",
       "      <td>0.712245</td>\n",
       "    </tr>\n",
       "    <tr>\n",
       "      <th>Training time</th>\n",
       "      <td>3.278012</td>\n",
       "      <td>6.597002</td>\n",
       "      <td>0.313005</td>\n",
       "      <td>0.125004</td>\n",
       "    </tr>\n",
       "  </tbody>\n",
       "</table>\n",
       "</div>"
      ],
      "text/plain": [
       "                    LR #1     RF #2     LR #3     LR #4\n",
       "Global accuracy  0.678039  0.627836  0.709620  0.751855\n",
       "Class 1          0.693757  0.652117  0.721641  0.773185\n",
       "Class 2          0.605979  0.586190  0.660346  0.656109\n",
       "G-mean           0.648384  0.618275  0.690314  0.712245\n",
       "Training time    3.278012  6.597002  0.313005  0.125004"
      ]
     },
     "execution_count": 32,
     "metadata": {},
     "output_type": "execute_result"
    }
   ],
   "source": [
    "rsts = pd.DataFrame()\n",
    "for i in range(4):\n",
    "  MLs = create_ML('balanced')\n",
    "  bsm = BorderlineSMOTE(random_state=42)\n",
    "  X_train, X_test, y_train, y_test = prepare_data2(sets[i][0],sets[i][1],bsm)\n",
    "  for clf_name, clf in MLs.items():\n",
    "    name = '{0} #{1}'.format(clf_name,i+1)\n",
    "    print(name)\n",
    "    try:\n",
    "      rsts[name] = train_model(X_train, X_test, y_train, y_test, clf)\n",
    "    except Exception as e: print(e)\n",
    "    \n",
    "rsts.index = index\n",
    "best_rst = []\n",
    "for i in range(4):\n",
    "  algo = rsts.loc['G-mean'][i*5:i*5+5].idxmax()\n",
    "  best_rst.append(algo)\n",
    "best_rst_ur = rsts[best_rst].copy()\n",
    "best_rst_ur"
   ]
  },
  {
   "cell_type": "markdown",
   "metadata": {
    "id": "KUjvQL9qNqhP"
   },
   "source": [
    "### Adasyn\n"
   ]
  },
  {
   "cell_type": "code",
   "execution_count": 33,
   "metadata": {
    "colab": {
     "base_uri": "https://localhost:8080/",
     "height": 612
    },
    "id": "5SumBeEhNqhQ",
    "outputId": "2c1b2d52-87f9-45d8-bc00-68c83ee2c916"
   },
   "outputs": [
    {
     "name": "stdout",
     "output_type": "stream",
     "text": [
      "LR #1\n",
      "DT #1\n",
      "RF #1\n",
      "GNB #1\n",
      "SGD #1\n",
      "LR #2\n",
      "DT #2\n",
      "RF #2\n",
      "GNB #2\n",
      "SGD #2\n",
      "LR #3\n",
      "DT #3\n",
      "RF #3\n",
      "GNB #3\n",
      "SGD #3\n",
      "LR #4\n",
      "DT #4\n",
      "RF #4\n",
      "GNB #4\n",
      "SGD #4\n"
     ]
    },
    {
     "data": {
      "text/html": [
       "<div>\n",
       "<style scoped>\n",
       "    .dataframe tbody tr th:only-of-type {\n",
       "        vertical-align: middle;\n",
       "    }\n",
       "\n",
       "    .dataframe tbody tr th {\n",
       "        vertical-align: top;\n",
       "    }\n",
       "\n",
       "    .dataframe thead th {\n",
       "        text-align: right;\n",
       "    }\n",
       "</style>\n",
       "<table border=\"1\" class=\"dataframe\">\n",
       "  <thead>\n",
       "    <tr style=\"text-align: right;\">\n",
       "      <th></th>\n",
       "      <th>LR #1</th>\n",
       "      <th>LR #2</th>\n",
       "      <th>LR #3</th>\n",
       "      <th>LR #4</th>\n",
       "    </tr>\n",
       "  </thead>\n",
       "  <tbody>\n",
       "    <tr>\n",
       "      <th>Global accuracy</th>\n",
       "      <td>0.674903</td>\n",
       "      <td>0.630040</td>\n",
       "      <td>0.704931</td>\n",
       "      <td>0.745260</td>\n",
       "    </tr>\n",
       "    <tr>\n",
       "      <th>Class 1</th>\n",
       "      <td>0.688093</td>\n",
       "      <td>0.657962</td>\n",
       "      <td>0.712993</td>\n",
       "      <td>0.761089</td>\n",
       "    </tr>\n",
       "    <tr>\n",
       "      <th>Class 2</th>\n",
       "      <td>0.614436</td>\n",
       "      <td>0.582147</td>\n",
       "      <td>0.671888</td>\n",
       "      <td>0.674208</td>\n",
       "    </tr>\n",
       "    <tr>\n",
       "      <th>G-mean</th>\n",
       "      <td>0.650222</td>\n",
       "      <td>0.618895</td>\n",
       "      <td>0.692135</td>\n",
       "      <td>0.716332</td>\n",
       "    </tr>\n",
       "    <tr>\n",
       "      <th>Training time</th>\n",
       "      <td>2.643999</td>\n",
       "      <td>0.431007</td>\n",
       "      <td>0.219992</td>\n",
       "      <td>0.108007</td>\n",
       "    </tr>\n",
       "  </tbody>\n",
       "</table>\n",
       "</div>"
      ],
      "text/plain": [
       "                    LR #1     LR #2     LR #3     LR #4\n",
       "Global accuracy  0.674903  0.630040  0.704931  0.745260\n",
       "Class 1          0.688093  0.657962  0.712993  0.761089\n",
       "Class 2          0.614436  0.582147  0.671888  0.674208\n",
       "G-mean           0.650222  0.618895  0.692135  0.716332\n",
       "Training time    2.643999  0.431007  0.219992  0.108007"
      ]
     },
     "execution_count": 33,
     "metadata": {},
     "output_type": "execute_result"
    }
   ],
   "source": [
    "rsts = pd.DataFrame()\n",
    "for i in range(4):\n",
    "  MLs = create_ML('balanced')\n",
    "  ada = ADASYN(random_state=42)\n",
    "  X_train, X_test, y_train, y_test = prepare_data2(sets[i][0],sets[i][1],ada)\n",
    "  for clf_name, clf in MLs.items():\n",
    "    name = '{0} #{1}'.format(clf_name,i+1)\n",
    "    print(name)\n",
    "    try:\n",
    "      rsts[name] = train_model(X_train, X_test, y_train, y_test, clf)\n",
    "    except Exception as e: print(e)\n",
    "    \n",
    "rsts.index = index\n",
    "best_rst = []\n",
    "for i in range(4):\n",
    "  algo = rsts.loc['G-mean'][i*5:i*5+5].idxmax()\n",
    "  best_rst.append(algo)\n",
    "best_rst_ur = rsts[best_rst].copy()\n",
    "best_rst_ur"
   ]
  },
  {
   "cell_type": "code",
   "execution_count": null,
   "metadata": {
    "id": "d-H7mGzZZke9"
   },
   "outputs": [],
   "source": []
  },
  {
   "cell_type": "markdown",
   "metadata": {
    "id": "Gtu9Frk5Wg2W"
   },
   "source": [
    "# Variables\n"
   ]
  },
  {
   "cell_type": "code",
   "execution_count": 34,
   "metadata": {
    "id": "PKl1e9RwVCCk"
   },
   "outputs": [
    {
     "name": "stdout",
     "output_type": "stream",
     "text": [
      "Variable                    Type                       Data/Info\n",
      "----------------------------------------------------------------\n",
      "ADASYN                      ABCMeta                    <class 'imblearn.over_sampling._adasyn.ADASYN'>\n",
      "AllKNN                      ABCMeta                    <class 'imblearn.under_sa<...>arest_neighbours.AllKNN'>\n",
      "BorderlineSMOTE             ABCMeta                    <class 'imblearn.over_sam<...>._smote.BorderlineSMOTE'>\n",
      "ComplementNB                ABCMeta                    <class 'sklearn.naive_bayes.ComplementNB'>\n",
      "CondensedNearestNeighbour   ABCMeta                    <class 'imblearn.under_sa<...>ndensedNearestNeighbour'>\n",
      "Counter                     type                       <class 'collections.Counter'>\n",
      "DecisionTreeClassifier      ABCMeta                    <class 'sklearn.tree._cla<...>.DecisionTreeClassifier'>\n",
      "EditedNearestNeighbours     ABCMeta                    <class 'imblearn.under_sa<...>EditedNearestNeighbours'>\n",
      "GaussianNB                  ABCMeta                    <class 'sklearn.naive_bayes.GaussianNB'>\n",
      "InstanceHardnessThreshold   ABCMeta                    <class 'imblearn.under_sa<...>stanceHardnessThreshold'>\n",
      "LogisticRegression          type                       <class 'sklearn.linear_mo<...>stic.LogisticRegression'>\n",
      "MLs                         dict                       n=5\n",
      "NearMiss                    ABCMeta                    <class 'imblearn.under_sa<...>tion._nearmiss.NearMiss'>\n",
      "NeighbourhoodCleaningRule   ABCMeta                    <class 'imblearn.under_sa<...>ighbourhoodCleaningRule'>\n",
      "ORs                         dict                       n=4\n",
      "OneSidedSelection           ABCMeta                    <class 'imblearn.under_sa<...>ction.OneSidedSelection'>\n",
      "RandomForestClassifier      ABCMeta                    <class 'sklearn.ensemble.<...>.RandomForestClassifier'>\n",
      "RandomOverSampler           ABCMeta                    <class 'imblearn.over_sam<...>mpler.RandomOverSampler'>\n",
      "RandomUnderSampler          ABCMeta                    <class 'imblearn.under_sa<...>pler.RandomUnderSampler'>\n",
      "SGDClassifier               ABCMeta                    <class 'sklearn.linear_mo<...>_gradient.SGDClassifier'>\n",
      "SMOTE                       ABCMeta                    <class 'imblearn.over_sampling._smote.SMOTE'>\n",
      "StandardScaler              type                       <class 'sklearn.preproces<...>ng._data.StandardScaler'>\n",
      "TomekLinks                  ABCMeta                    <class 'imblearn.under_sa<...>_tomek_links.TomekLinks'>\n",
      "X                           DataFrame                          Unit_Nbr  Prsn_Ty<...>468844 rows x 40 columns]\n",
      "X_i                         DataFrame                          Unit_Nbr  Prsn_Ty<...>n[6063 rows x 40 columns]\n",
      "X_test                      ndarray                    1213x40: 48520 elems, type `float64`, 388160 bytes (379.0625 kb)\n",
      "X_train                     ndarray                    7957x40: 318280 elems, type `float64`, 2546240 bytes (2.42828369140625 Mb)\n",
      "ada                         ADASYN                     ADASYN(random_state=42)\n",
      "algo                        str                        LR #4\n",
      "auc                         function                   <function auc at 0x000002084B436708>\n",
      "best_rst                    list                       n=4\n",
      "best_rst_cw                 DataFrame                                      LR #1<...>64002  0.299012  0.077006\n",
      "best_rst_ur                 DataFrame                                      LR #1<...>31007  0.219992  0.108007\n",
      "bsm                         BorderlineSMOTE            BorderlineSMOTE(random_state=42)\n",
      "clf                         SGDClassifier              SGDClassifier(class_weigh<...>t='balanced', max_iter=5)\n",
      "clf_name                    str                        SGD\n",
      "confusion_matrix            function                   <function confusion_matrix at 0x000002084B4FBF78>\n",
      "create_ML                   function                   <function create_ML at 0x000002084C28A288>\n",
      "df                          DataFrame                          Unit_Nbr  Prsn_Ty<...>468844 rows x 41 columns]\n",
      "end                         float                      1603741923.524132\n",
      "enn                         EditedNearestNeighbours    EditedNearestNeighbours()\n",
      "geometric_mean_score        function                   <function geometric_mean_<...>re at 0x000002084BEE3798>\n",
      "get_accs                    function                   <function get_accs at 0x000002084B9595E8>\n",
      "i                           int                        3\n",
      "index                       list                       n=5\n",
      "keras                       module                     <module 'tensorflow_core.<...>_v2\\\\keras\\\\__init__.py'>\n",
      "key                         str                        ADASYN\n",
      "name                        str                        SGD #4\n",
      "np                          module                     <module 'numpy' from 'C:\\<...>ges\\\\numpy\\\\__init__.py'>\n",
      "over_names                  list                       n=4\n",
      "over_resampling             function                   <function over_resampling at 0x0000020801CA1318>\n",
      "overs                       list                       n=4\n",
      "pd                          module                     <module 'pandas' from 'C:<...>es\\\\pandas\\\\__init__.py'>\n",
      "perform                     dict                       n=4\n",
      "plt                         module                     <module 'matplotlib.pyplo<...>\\\\matplotlib\\\\pyplot.py'>\n",
      "prepare_data                function                   <function prepare_data at 0x000002084DE58318>\n",
      "prepare_data2               function                   <function prepare_data2 at 0x0000020801CA1F78>\n",
      "ros                         RandomOverSampler          RandomOverSampler(random_state=42)\n",
      "rsts                        DataFrame                                      LR #1<...>e    0.010002  0.011995  \n",
      "rus                         RandomUnderSampler         RandomUnderSampler(random_state=42)\n",
      "sets                        dict                       n=4\n",
      "sm                          SMOTE                      SMOTE(random_state=42)\n",
      "sns                         module                     <module 'seaborn' from 'C<...>s\\\\seaborn\\\\__init__.py'>\n",
      "start                       float                      1603741920.7761319\n",
      "sub_df                      DataFrame                          Unit_Nbr  Prsn_Ty<...>n[6063 rows x 41 columns]\n",
      "tf                          module                     <module 'tensorflow' from<...>tensorflow\\\\__init__.py'>\n",
      "time                        module                     <module 'time' (built-in)>\n",
      "train_model                 function                   <function train_model at 0x000002084DFDD3A8>\n",
      "train_test_split            function                   <function train_test_split at 0x000002084BA845E8>\n",
      "warnings                    module                     <module 'warnings' from '<...>s\\\\tf\\\\lib\\\\warnings.py'>\n",
      "y                           Series                     0         0\\n1         2\\<...>gth: 468844, dtype: int64\n",
      "y_i                         ndarray                    6063: 6063 elems, type `int32`, 24252 bytes\n",
      "y_or                        ndarray                    9918: 9918 elems, type `int32`, 39672 bytes\n",
      "y_test                      ndarray                    1213: 1213 elems, type `int32`, 4852 bytes\n",
      "y_train                     ndarray                    7957: 7957 elems, type `int32`, 31828 bytes\n"
     ]
    }
   ],
   "source": [
    "%whos"
   ]
  }
 ],
 "metadata": {
  "colab": {
   "collapsed_sections": [],
   "include_colab_link": true,
   "name": "VCA_3_0_binary_models_MLs.ipynb",
   "provenance": [],
   "toc_visible": true
  },
  "kernelspec": {
   "display_name": "Python 3",
   "language": "python",
   "name": "python3"
  },
  "language_info": {
   "codemirror_mode": {
    "name": "ipython",
    "version": 3
   },
   "file_extension": ".py",
   "mimetype": "text/x-python",
   "name": "python",
   "nbconvert_exporter": "python",
   "pygments_lexer": "ipython3",
   "version": "3.6.10"
  },
  "toc": {
   "base_numbering": 1,
   "nav_menu": {},
   "number_sections": true,
   "sideBar": true,
   "skip_h1_title": false,
   "title_cell": "Table of Contents",
   "title_sidebar": "Contents",
   "toc_cell": false,
   "toc_position": {},
   "toc_section_display": true,
   "toc_window_display": true
  }
 },
 "nbformat": 4,
 "nbformat_minor": 4
}
