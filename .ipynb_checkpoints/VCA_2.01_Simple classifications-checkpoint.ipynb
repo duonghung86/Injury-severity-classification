{
 "cells": [
  {
   "cell_type": "code",
   "execution_count": 1,
   "metadata": {
    "ExecuteTime": {
     "end_time": "2020-05-22T16:58:50.479838Z",
     "start_time": "2020-05-22T16:58:42.773756Z"
    },
    "colab": {},
    "colab_type": "code",
    "id": "1QxOQkOlJ1S_"
   },
   "outputs": [],
   "source": [
    "# Basic packages\n",
    "import matplotlib.pyplot as plt\n",
    "import numpy as np\n",
    "import pandas as pd\n",
    "import tensorflow as tf\n",
    "from tensorflow import keras"
   ]
  },
  {
   "cell_type": "markdown",
   "metadata": {
    "colab_type": "text",
    "id": "Cq34ehtsJ1Th"
   },
   "source": [
    "# Import dataset"
   ]
  },
  {
   "cell_type": "code",
   "execution_count": 2,
   "metadata": {
    "ExecuteTime": {
     "end_time": "2020-05-22T16:58:50.489267Z",
     "start_time": "2020-05-22T16:58:50.483277Z"
    },
    "colab": {},
    "colab_type": "code",
    "id": "zIfnkmMfKLN-"
   },
   "outputs": [
    {
     "name": "stdout",
     "output_type": "stream",
     "text": [
      "<class 'pandas.core.frame.DataFrame'>\n",
      "RangeIndex: 468844 entries, 0 to 468843\n",
      "Data columns (total 41 columns):\n",
      " #   Column                    Non-Null Count   Dtype  \n",
      "---  ------                    --------------   -----  \n",
      " 0   Unit_Nbr                  468844 non-null  int64  \n",
      " 1   Prsn_Type_ID              468844 non-null  int64  \n",
      " 2   Prsn_Occpnt_Pos_ID        468844 non-null  int64  \n",
      " 3   Prsn_Injry_Sev_ID         468844 non-null  int64  \n",
      " 4   Prsn_Age                  468844 non-null  int64  \n",
      " 5   Prsn_Ethnicity_ID         468844 non-null  int64  \n",
      " 6   Prsn_Gndr_ID              468844 non-null  int64  \n",
      " 7   Prsn_Ejct_ID              468844 non-null  int64  \n",
      " 8   Prsn_Rest_ID              468844 non-null  int64  \n",
      " 9   Prsn_Airbag_ID            468844 non-null  int64  \n",
      " 10  Prsn_Helmet_ID            468844 non-null  int64  \n",
      " 11  Prsn_Drg_Rslt_ID          468844 non-null  int64  \n",
      " 12  Day_of_Week               468844 non-null  int64  \n",
      " 13  Rpt_Rdwy_Sys_ID           468844 non-null  int64  \n",
      " 14  Rpt_Road_Part_ID          468844 non-null  int64  \n",
      " 15  Toll_Road_Fl              468844 non-null  int64  \n",
      " 16  Crash_Speed_Limit         468844 non-null  int64  \n",
      " 17  Road_Constr_Zone_Fl       468844 non-null  int64  \n",
      " 18  Road_Constr_Zone_Wrkr_Fl  468844 non-null  int64  \n",
      " 19  At_Intrsct_Fl             468844 non-null  int64  \n",
      " 20  Wthr_Cond_ID              468844 non-null  int64  \n",
      " 21  Light_Cond_ID             468844 non-null  int64  \n",
      " 22  Road_Algn_ID              468844 non-null  int64  \n",
      " 23  Surf_Cond_ID              468844 non-null  int64  \n",
      " 24  Traffic_Cntl_ID           468844 non-null  int64  \n",
      " 25  Latitude                  468844 non-null  float64\n",
      " 26  Longitude                 468844 non-null  float64\n",
      " 27  Pop_Group_ID              468844 non-null  int64  \n",
      " 28  Unit_Desc_ID              468844 non-null  int64  \n",
      " 29  Veh_Parked_Fl             468844 non-null  int64  \n",
      " 30  Veh_HNR_Fl                468844 non-null  int64  \n",
      " 31  Veh_Mod_Year              468844 non-null  int64  \n",
      " 32  Veh_Color_ID              468844 non-null  int64  \n",
      " 33  Veh_Make_ID               468844 non-null  int64  \n",
      " 34  Veh_Mod_ID                468844 non-null  int64  \n",
      " 35  Veh_Body_Styl_ID          468844 non-null  int64  \n",
      " 36  Crash_month               468844 non-null  int64  \n",
      " 37  Crash_day                 468844 non-null  int64  \n",
      " 38  Crash_hour                468844 non-null  int64  \n",
      " 39  Crash_min                 468844 non-null  int64  \n",
      " 40  Weekend                   468844 non-null  int64  \n",
      "dtypes: float64(2), int64(39)\n",
      "memory usage: 146.7 MB\n"
     ]
    },
    {
     "data": {
      "text/html": [
       "<div>\n",
       "<style scoped>\n",
       "    .dataframe tbody tr th:only-of-type {\n",
       "        vertical-align: middle;\n",
       "    }\n",
       "\n",
       "    .dataframe tbody tr th {\n",
       "        vertical-align: top;\n",
       "    }\n",
       "\n",
       "    .dataframe thead th {\n",
       "        text-align: right;\n",
       "    }\n",
       "</style>\n",
       "<table border=\"1\" class=\"dataframe\">\n",
       "  <thead>\n",
       "    <tr style=\"text-align: right;\">\n",
       "      <th></th>\n",
       "      <th>Unit_Nbr</th>\n",
       "      <th>Prsn_Type_ID</th>\n",
       "      <th>Prsn_Occpnt_Pos_ID</th>\n",
       "      <th>Prsn_Injry_Sev_ID</th>\n",
       "      <th>Prsn_Age</th>\n",
       "      <th>Prsn_Ethnicity_ID</th>\n",
       "      <th>Prsn_Gndr_ID</th>\n",
       "      <th>Prsn_Ejct_ID</th>\n",
       "      <th>Prsn_Rest_ID</th>\n",
       "      <th>Prsn_Airbag_ID</th>\n",
       "      <th>...</th>\n",
       "      <th>Veh_Mod_Year</th>\n",
       "      <th>Veh_Color_ID</th>\n",
       "      <th>Veh_Make_ID</th>\n",
       "      <th>Veh_Mod_ID</th>\n",
       "      <th>Veh_Body_Styl_ID</th>\n",
       "      <th>Crash_month</th>\n",
       "      <th>Crash_day</th>\n",
       "      <th>Crash_hour</th>\n",
       "      <th>Crash_min</th>\n",
       "      <th>Weekend</th>\n",
       "    </tr>\n",
       "  </thead>\n",
       "  <tbody>\n",
       "    <tr>\n",
       "      <th>0</th>\n",
       "      <td>1</td>\n",
       "      <td>1</td>\n",
       "      <td>1</td>\n",
       "      <td>5</td>\n",
       "      <td>48</td>\n",
       "      <td>1</td>\n",
       "      <td>1</td>\n",
       "      <td>1</td>\n",
       "      <td>1</td>\n",
       "      <td>2</td>\n",
       "      <td>...</td>\n",
       "      <td>2002</td>\n",
       "      <td>21</td>\n",
       "      <td>107</td>\n",
       "      <td>547</td>\n",
       "      <td>69</td>\n",
       "      <td>6</td>\n",
       "      <td>15</td>\n",
       "      <td>11</td>\n",
       "      <td>0</td>\n",
       "      <td>1</td>\n",
       "    </tr>\n",
       "    <tr>\n",
       "      <th>1</th>\n",
       "      <td>2</td>\n",
       "      <td>1</td>\n",
       "      <td>1</td>\n",
       "      <td>2</td>\n",
       "      <td>58</td>\n",
       "      <td>1</td>\n",
       "      <td>2</td>\n",
       "      <td>1</td>\n",
       "      <td>1</td>\n",
       "      <td>3</td>\n",
       "      <td>...</td>\n",
       "      <td>2012</td>\n",
       "      <td>17</td>\n",
       "      <td>91</td>\n",
       "      <td>629</td>\n",
       "      <td>30</td>\n",
       "      <td>6</td>\n",
       "      <td>15</td>\n",
       "      <td>11</td>\n",
       "      <td>0</td>\n",
       "      <td>1</td>\n",
       "    </tr>\n",
       "    <tr>\n",
       "      <th>2</th>\n",
       "      <td>1</td>\n",
       "      <td>1</td>\n",
       "      <td>1</td>\n",
       "      <td>5</td>\n",
       "      <td>68</td>\n",
       "      <td>1</td>\n",
       "      <td>1</td>\n",
       "      <td>1</td>\n",
       "      <td>1</td>\n",
       "      <td>2</td>\n",
       "      <td>...</td>\n",
       "      <td>1996</td>\n",
       "      <td>21</td>\n",
       "      <td>672</td>\n",
       "      <td>2103</td>\n",
       "      <td>87</td>\n",
       "      <td>6</td>\n",
       "      <td>12</td>\n",
       "      <td>9</td>\n",
       "      <td>53</td>\n",
       "      <td>0</td>\n",
       "    </tr>\n",
       "    <tr>\n",
       "      <th>3</th>\n",
       "      <td>3</td>\n",
       "      <td>1</td>\n",
       "      <td>1</td>\n",
       "      <td>5</td>\n",
       "      <td>67</td>\n",
       "      <td>1</td>\n",
       "      <td>2</td>\n",
       "      <td>1</td>\n",
       "      <td>1</td>\n",
       "      <td>4</td>\n",
       "      <td>...</td>\n",
       "      <td>2016</td>\n",
       "      <td>21</td>\n",
       "      <td>44</td>\n",
       "      <td>605</td>\n",
       "      <td>69</td>\n",
       "      <td>6</td>\n",
       "      <td>12</td>\n",
       "      <td>9</td>\n",
       "      <td>53</td>\n",
       "      <td>0</td>\n",
       "    </tr>\n",
       "    <tr>\n",
       "      <th>4</th>\n",
       "      <td>1</td>\n",
       "      <td>1</td>\n",
       "      <td>1</td>\n",
       "      <td>5</td>\n",
       "      <td>36</td>\n",
       "      <td>2</td>\n",
       "      <td>2</td>\n",
       "      <td>1</td>\n",
       "      <td>1</td>\n",
       "      <td>2</td>\n",
       "      <td>...</td>\n",
       "      <td>2014</td>\n",
       "      <td>2</td>\n",
       "      <td>91</td>\n",
       "      <td>380</td>\n",
       "      <td>104</td>\n",
       "      <td>6</td>\n",
       "      <td>4</td>\n",
       "      <td>15</td>\n",
       "      <td>7</td>\n",
       "      <td>0</td>\n",
       "    </tr>\n",
       "  </tbody>\n",
       "</table>\n",
       "<p>5 rows × 41 columns</p>\n",
       "</div>"
      ],
      "text/plain": [
       "   Unit_Nbr  Prsn_Type_ID  Prsn_Occpnt_Pos_ID  Prsn_Injry_Sev_ID  Prsn_Age  \\\n",
       "0         1             1                   1                  5        48   \n",
       "1         2             1                   1                  2        58   \n",
       "2         1             1                   1                  5        68   \n",
       "3         3             1                   1                  5        67   \n",
       "4         1             1                   1                  5        36   \n",
       "\n",
       "   Prsn_Ethnicity_ID  Prsn_Gndr_ID  Prsn_Ejct_ID  Prsn_Rest_ID  \\\n",
       "0                  1             1             1             1   \n",
       "1                  1             2             1             1   \n",
       "2                  1             1             1             1   \n",
       "3                  1             2             1             1   \n",
       "4                  2             2             1             1   \n",
       "\n",
       "   Prsn_Airbag_ID  ...  Veh_Mod_Year  Veh_Color_ID  Veh_Make_ID  Veh_Mod_ID  \\\n",
       "0               2  ...          2002            21          107         547   \n",
       "1               3  ...          2012            17           91         629   \n",
       "2               2  ...          1996            21          672        2103   \n",
       "3               4  ...          2016            21           44         605   \n",
       "4               2  ...          2014             2           91         380   \n",
       "\n",
       "   Veh_Body_Styl_ID  Crash_month  Crash_day  Crash_hour  Crash_min  Weekend  \n",
       "0                69            6         15          11          0        1  \n",
       "1                30            6         15          11          0        1  \n",
       "2                87            6         12           9         53        0  \n",
       "3                69            6         12           9         53        0  \n",
       "4               104            6          4          15          7        0  \n",
       "\n",
       "[5 rows x 41 columns]"
      ]
     },
     "execution_count": 2,
     "metadata": {},
     "output_type": "execute_result"
    }
   ],
   "source": [
    "df=pd.read_csv('final data nomap.csv')\n",
    "df.info()\n",
    "df.head()"
   ]
  },
  {
   "cell_type": "code",
   "execution_count": 3,
   "metadata": {
    "ExecuteTime": {
     "end_time": "2020-05-22T16:59:01.505031Z",
     "start_time": "2020-05-22T16:59:01.492554Z"
    },
    "colab": {
     "base_uri": "https://localhost:8080/",
     "height": 34
    },
    "colab_type": "code",
    "executionInfo": {
     "elapsed": 12218,
     "status": "ok",
     "timestamp": 1591023415181,
     "user": {
      "displayName": "Duong Hung",
      "photoUrl": "https://lh3.googleusercontent.com/a-/AOh14Ggfgs4FqFN7Yq3pQXoVHeQcc9w9kDV_fAGoQ3Nx4nk=s64",
      "userId": "01608720095171318435"
     },
     "user_tz": 300
    },
    "id": "0yIHRk4sJ1Tx",
    "outputId": "7e79ad38-823b-421f-9f7b-12dfb685ddc1"
   },
   "outputs": [
    {
     "data": {
      "text/plain": [
       "0         5\n",
       "1         2\n",
       "2         5\n",
       "3         5\n",
       "4         5\n",
       "         ..\n",
       "468839    5\n",
       "468840    5\n",
       "468841    3\n",
       "468842    5\n",
       "468843    5\n",
       "Name: Prsn_Injry_Sev_ID, Length: 468844, dtype: int64"
      ]
     },
     "execution_count": 3,
     "metadata": {},
     "output_type": "execute_result"
    }
   ],
   "source": [
    "y=df['Prsn_Injry_Sev_ID']\n",
    "y"
   ]
  },
  {
   "cell_type": "code",
   "execution_count": 4,
   "metadata": {},
   "outputs": [
    {
     "data": {
      "text/plain": [
       "5    384890\n",
       "3     53032\n",
       "2     24859\n",
       "1      4959\n",
       "4      1104\n",
       "Name: Prsn_Injry_Sev_ID, dtype: int64"
      ]
     },
     "execution_count": 4,
     "metadata": {},
     "output_type": "execute_result"
    }
   ],
   "source": [
    "y.value_counts()"
   ]
  },
  {
   "cell_type": "markdown",
   "metadata": {},
   "source": [
    "Reorder the level of injury severity: larger number mean more severe"
   ]
  },
  {
   "cell_type": "code",
   "execution_count": 5,
   "metadata": {},
   "outputs": [
    {
     "data": {
      "text/plain": [
       "0    384890\n",
       "1     53032\n",
       "2     24859\n",
       "3      4959\n",
       "4      1104\n",
       "Name: Prsn_Injry_Sev_ID, dtype: int64"
      ]
     },
     "execution_count": 5,
     "metadata": {},
     "output_type": "execute_result"
    }
   ],
   "source": [
    "injry_map = {5:0, 3:1, 2:2, 1:3, 4:4}\n",
    "y = y.map(injry_map).copy()\n",
    "y.value_counts()"
   ]
  },
  {
   "cell_type": "code",
   "execution_count": 6,
   "metadata": {},
   "outputs": [
    {
     "data": {
      "text/plain": [
       "0    0.820934\n",
       "1    0.113112\n",
       "2    0.053022\n",
       "3    0.010577\n",
       "4    0.002355\n",
       "Name: Prsn_Injry_Sev_ID, dtype: float64"
      ]
     },
     "execution_count": 6,
     "metadata": {},
     "output_type": "execute_result"
    }
   ],
   "source": [
    "y.value_counts()/len(y)"
   ]
  },
  {
   "cell_type": "code",
   "execution_count": 7,
   "metadata": {},
   "outputs": [
    {
     "data": {
      "text/plain": [
       "(468844, 40)"
      ]
     },
     "execution_count": 7,
     "metadata": {},
     "output_type": "execute_result"
    }
   ],
   "source": [
    "X = df.drop(columns=['Prsn_Injry_Sev_ID'])\n",
    "X.shape"
   ]
  },
  {
   "cell_type": "markdown",
   "metadata": {
    "colab_type": "text",
    "id": "548Mc3Y4J1Ui"
   },
   "source": [
    "# Split the dataset"
   ]
  },
  {
   "cell_type": "code",
   "execution_count": 8,
   "metadata": {
    "ExecuteTime": {
     "end_time": "2020-05-22T16:59:05.664606Z",
     "start_time": "2020-05-22T16:59:02.721269Z"
    },
    "colab": {},
    "colab_type": "code",
    "id": "5ERPlNBhJ1Ul"
   },
   "outputs": [],
   "source": [
    "from sklearn.model_selection import train_test_split"
   ]
  },
  {
   "cell_type": "code",
   "execution_count": 9,
   "metadata": {
    "ExecuteTime": {
     "end_time": "2020-05-22T16:59:09.611226Z",
     "start_time": "2020-05-22T16:59:05.667561Z"
    },
    "colab": {
     "base_uri": "https://localhost:8080/",
     "height": 68
    },
    "colab_type": "code",
    "executionInfo": {
     "elapsed": 16735,
     "status": "ok",
     "timestamp": 1591023419853,
     "user": {
      "displayName": "Duong Hung",
      "photoUrl": "https://lh3.googleusercontent.com/a-/AOh14Ggfgs4FqFN7Yq3pQXoVHeQcc9w9kDV_fAGoQ3Nx4nk=s64",
      "userId": "01608720095171318435"
     },
     "user_tz": 300
    },
    "id": "6dDdGqNSJ1Uo",
    "outputId": "dc44b850-2aeb-47c0-cb0b-a237781c9468"
   },
   "outputs": [
    {
     "name": "stdout",
     "output_type": "stream",
     "text": [
      "Training features shape: (300060, 40)\n",
      "Validation features shape: (75015, 40)\n",
      "Test features shape: (93769, 40)\n"
     ]
    }
   ],
   "source": [
    "X_train, X_test, y_train, y_test = train_test_split(X,y,test_size=0.2,stratify=y, random_state=48)\n",
    "X_train, X_val, y_train, y_val = train_test_split(X_train,y_train,test_size=0.2,stratify=y_train, random_state=48)\n",
    "\n",
    "X_train=np.array(X_train)\n",
    "X_test=np.array(X_test)\n",
    "X_val=np.array(X_val)\n",
    "\n",
    "print('Training features shape:', X_train.shape)\n",
    "print('Validation features shape:', X_val.shape)\n",
    "print('Test features shape:', X_test.shape)"
   ]
  },
  {
   "cell_type": "code",
   "execution_count": 10,
   "metadata": {
    "ExecuteTime": {
     "end_time": "2020-05-22T16:59:09.636676Z",
     "start_time": "2020-05-22T16:59:09.632683Z"
    },
    "colab": {},
    "colab_type": "code",
    "id": "Lj2Ka9kMJ1U2"
   },
   "outputs": [],
   "source": [
    "# standardization\n",
    "from sklearn.preprocessing import StandardScaler"
   ]
  },
  {
   "cell_type": "code",
   "execution_count": 11,
   "metadata": {
    "ExecuteTime": {
     "end_time": "2020-05-22T16:59:11.789174Z",
     "start_time": "2020-05-22T16:59:09.640170Z"
    },
    "colab": {},
    "colab_type": "code",
    "id": "BiA2g-qsJ1U6"
   },
   "outputs": [],
   "source": [
    "scaler = StandardScaler()\n",
    "\n",
    "X_train = scaler.fit_transform(X_train)\n",
    "\n",
    "X_val = scaler.transform(X_val)\n",
    "X_test = scaler.transform(X_test)"
   ]
  },
  {
   "cell_type": "markdown",
   "metadata": {},
   "source": [
    "# Logistic regression\n"
   ]
  },
  {
   "cell_type": "code",
   "execution_count": 12,
   "metadata": {},
   "outputs": [],
   "source": [
    "from sklearn.linear_model import LogisticRegression"
   ]
  },
  {
   "cell_type": "code",
   "execution_count": 13,
   "metadata": {},
   "outputs": [
    {
     "name": "stderr",
     "output_type": "stream",
     "text": [
      "C:\\Anaconda\\envs\\tf\\lib\\site-packages\\sklearn\\linear_model\\_logistic.py:764: ConvergenceWarning: lbfgs failed to converge (status=1):\n",
      "STOP: TOTAL NO. of ITERATIONS REACHED LIMIT.\n",
      "\n",
      "Increase the number of iterations (max_iter) or scale the data as shown in:\n",
      "    https://scikit-learn.org/stable/modules/preprocessing.html\n",
      "Please also refer to the documentation for alternative solver options:\n",
      "    https://scikit-learn.org/stable/modules/linear_model.html#logistic-regression\n",
      "  extra_warning_msg=_LOGISTIC_SOLVER_CONVERGENCE_MSG)\n"
     ]
    }
   ],
   "source": [
    "model = LogisticRegression(solver = 'lbfgs')\n",
    "model.fit(X_train, y_train)\n",
    "# use the model to make predictions with the test data\n",
    "y_pred = model.predict(X_val)"
   ]
  },
  {
   "cell_type": "code",
   "execution_count": 14,
   "metadata": {},
   "outputs": [],
   "source": [
    "from sklearn.metrics import confusion_matrix"
   ]
  },
  {
   "cell_type": "code",
   "execution_count": 15,
   "metadata": {},
   "outputs": [
    {
     "data": {
      "text/plain": [
       "array([[61242,   216,   101,    15,     8],\n",
       "       [ 8101,   241,   129,    12,     2],\n",
       "       [ 3589,   149,   185,    48,     6],\n",
       "       [  609,    37,   102,    39,     7],\n",
       "       [  104,     2,    25,    14,    32]], dtype=int64)"
      ]
     },
     "execution_count": 15,
     "metadata": {},
     "output_type": "execute_result"
    }
   ],
   "source": [
    "confusion_matrix(y_val, y_pred)"
   ]
  },
  {
   "cell_type": "code",
   "execution_count": 16,
   "metadata": {},
   "outputs": [
    {
     "data": {
      "text/plain": [
       "0.8216254839019292"
      ]
     },
     "execution_count": 16,
     "metadata": {},
     "output_type": "execute_result"
    }
   ],
   "source": [
    "model.score(X_test,y_test)"
   ]
  },
  {
   "cell_type": "code",
   "execution_count": 17,
   "metadata": {},
   "outputs": [],
   "source": [
    "from sklearn.metrics import plot_confusion_matrix"
   ]
  },
  {
   "cell_type": "code",
   "execution_count": 18,
   "metadata": {},
   "outputs": [
    {
     "name": "stdout",
     "output_type": "stream",
     "text": [
      "Confusion matrix, without normalization\n",
      "[[76511   316   113    24    14]\n",
      " [10186   241   144    23    12]\n",
      " [ 4515   201   215    30    11]\n",
      " [  781    37   121    36    17]\n",
      " [  125    11    33    12    40]]\n",
      "Normalized confusion matrix\n",
      "[[9.93933332e-01 4.10506898e-03 1.46795188e-03 3.11777391e-04\n",
      "  1.81870145e-04]\n",
      " [9.60399774e-01 2.27229870e-02 1.35772204e-02 2.16858382e-03\n",
      "  1.13143504e-03]\n",
      " [9.08085278e-01 4.04263878e-02 4.32421561e-02 6.03378922e-03\n",
      "  2.21238938e-03]\n",
      " [7.87298387e-01 3.72983871e-02 1.21975806e-01 3.62903226e-02\n",
      "  1.71370968e-02]\n",
      " [5.65610860e-01 4.97737557e-02 1.49321267e-01 5.42986425e-02\n",
      "  1.80995475e-01]]\n"
     ]
    },
    {
     "data": {
      "image/png": "[encoded data removed]",
      "text/plain": [
       "<Figure size 432x288 with 2 Axes>"
      ]
     },
     "metadata": {
      "needs_background": "light"
     },
     "output_type": "display_data"
    },
    {
     "data": {
      "image/png": "[encoded data removed]",
      "text/plain": [
       "<Figure size 432x288 with 2 Axes>"
      ]
     },
     "metadata": {
      "needs_background": "light"
     },
     "output_type": "display_data"
    }
   ],
   "source": [
    "titles_options = [(\"Confusion matrix, without normalization\", None),\n",
    "                  (\"Normalized confusion matrix\", 'true')]\n",
    "for title, normalize in titles_options:\n",
    "    disp = plot_confusion_matrix(model, X_test, y_test,\n",
    "                                 display_labels=np.arange(5),\n",
    "                                 cmap=plt.cm.Blues,\n",
    "                                 normalize=normalize)\n",
    "    disp.ax_.set_title(title)\n",
    "\n",
    "    print(title)\n",
    "    print(disp.confusion_matrix)"
   ]
  },
  {
   "cell_type": "markdown",
   "metadata": {},
   "source": [
    "# Decision Tree"
   ]
  },
  {
   "cell_type": "code",
   "execution_count": 19,
   "metadata": {},
   "outputs": [],
   "source": [
    "from sklearn.tree import DecisionTreeClassifier"
   ]
  },
  {
   "cell_type": "code",
   "execution_count": 20,
   "metadata": {},
   "outputs": [],
   "source": [
    "model_DT = DecisionTreeClassifier(random_state=0)\n",
    "model_DT.fit(X_train, y_train)\n",
    "# use the model to make predictions with the test data\n",
    "y_pred = model_DT.predict(X_val)"
   ]
  },
  {
   "cell_type": "code",
   "execution_count": 21,
   "metadata": {},
   "outputs": [
    {
     "name": "stdout",
     "output_type": "stream",
     "text": [
      "Confusion matrix, without normalization\n",
      "[[63807  8696  3846   561    68]\n",
      " [ 7308  2086   988   205    19]\n",
      " [ 3061  1005   706   170    30]\n",
      " [  477   227   194    71    23]\n",
      " [   65    36    43    34    43]]\n",
      "Normalized confusion matrix\n",
      "[[0.82889917 0.11296734 0.04996233 0.0072878  0.00088337]\n",
      " [0.68904394 0.19668112 0.09315482 0.01932868 0.00179144]\n",
      " [0.61564763 0.20213194 0.14199517 0.03419147 0.00603379]\n",
      " [0.48084677 0.22883065 0.19556452 0.07157258 0.02318548]\n",
      " [0.29411765 0.16289593 0.19457014 0.15384615 0.19457014]]\n"
     ]
    },
    {
     "data": {
      "image/png": "[encoded data removed]",
      "text/plain": [
       "<Figure size 432x288 with 2 Axes>"
      ]
     },
     "metadata": {
      "needs_background": "light"
     },
     "output_type": "display_data"
    },
    {
     "data": {
      "image/png": "[encoded data removed]",
      "text/plain": [
       "<Figure size 432x288 with 2 Axes>"
      ]
     },
     "metadata": {
      "needs_background": "light"
     },
     "output_type": "display_data"
    }
   ],
   "source": [
    "for title, normalize in titles_options:\n",
    "    disp = plot_confusion_matrix(model_DT, X_test, y_test,\n",
    "                                 display_labels=np.arange(5),\n",
    "                                 cmap=plt.cm.Blues,\n",
    "                                 normalize=normalize)\n",
    "    disp.ax_.set_title(title)\n",
    "\n",
    "    print(title)\n",
    "    print(disp.confusion_matrix)"
   ]
  },
  {
   "cell_type": "code",
   "execution_count": 22,
   "metadata": {},
   "outputs": [
    {
     "data": {
      "text/plain": [
       "0.8216254839019292"
      ]
     },
     "execution_count": 22,
     "metadata": {},
     "output_type": "execute_result"
    }
   ],
   "source": [
    "model.score(X_test,y_test)"
   ]
  },
  {
   "cell_type": "markdown",
   "metadata": {},
   "source": [
    "# Random Forest"
   ]
  },
  {
   "cell_type": "code",
   "execution_count": 23,
   "metadata": {},
   "outputs": [],
   "source": [
    "from sklearn.ensemble import RandomForestClassifier"
   ]
  },
  {
   "cell_type": "code",
   "execution_count": 24,
   "metadata": {},
   "outputs": [],
   "source": [
    "model_RF = RandomForestClassifier(max_depth=2, random_state=0)\n",
    "model_RF.fit(X_train, y_train)\n",
    "# use the model to make predictions with the test data\n",
    "y_pred = model_RF.predict(X_val)"
   ]
  },
  {
   "cell_type": "code",
   "execution_count": 25,
   "metadata": {},
   "outputs": [
    {
     "name": "stdout",
     "output_type": "stream",
     "text": [
      "Confusion matrix, without normalization\n",
      "[[76978     0     0     0     0]\n",
      " [10606     0     0     0     0]\n",
      " [ 4972     0     0     0     0]\n",
      " [  992     0     0     0     0]\n",
      " [  221     0     0     0     0]]\n",
      "Normalized confusion matrix\n",
      "[[1. 0. 0. 0. 0.]\n",
      " [1. 0. 0. 0. 0.]\n",
      " [1. 0. 0. 0. 0.]\n",
      " [1. 0. 0. 0. 0.]\n",
      " [1. 0. 0. 0. 0.]]\n"
     ]
    },
    {
     "data": {
      "image/png": "[encoded data removed]",
      "text/plain": [
       "<Figure size 432x288 with 2 Axes>"
      ]
     },
     "metadata": {
      "needs_background": "light"
     },
     "output_type": "display_data"
    },
    {
     "data": {
      "image/png": "[encoded data removed]",
      "text/plain": [
       "<Figure size 432x288 with 2 Axes>"
      ]
     },
     "metadata": {
      "needs_background": "light"
     },
     "output_type": "display_data"
    }
   ],
   "source": [
    "for title, normalize in titles_options:\n",
    "    disp = plot_confusion_matrix(model_RF, X_test, y_test,\n",
    "                                 display_labels=np.arange(5),\n",
    "                                 cmap=plt.cm.Blues,\n",
    "                                 normalize=normalize)\n",
    "    disp.ax_.set_title(title)\n",
    "\n",
    "    print(title)\n",
    "    print(disp.confusion_matrix)"
   ]
  },
  {
   "cell_type": "markdown",
   "metadata": {},
   "source": [
    "# Support vector machine"
   ]
  },
  {
   "cell_type": "code",
   "execution_count": 26,
   "metadata": {},
   "outputs": [],
   "source": [
    "from sklearn import svm"
   ]
  },
  {
   "cell_type": "code",
   "execution_count": null,
   "metadata": {},
   "outputs": [],
   "source": [
    "model_svm = svm.SVC(decision_function_shape='ovo')\n",
    "model_svm.fit(X_train, y_train)\n",
    "# use the model to make predictions with the test data\n",
    "y_pred = model_svm.predict(X_val)"
   ]
  },
  {
   "cell_type": "code",
   "execution_count": null,
   "metadata": {},
   "outputs": [],
   "source": [
    "for title, normalize in titles_options:\n",
    "    disp = plot_confusion_matrix(model_svm, X_test, y_test,\n",
    "                                 display_labels=np.arange(5),\n",
    "                                 cmap=plt.cm.Blues,\n",
    "                                 normalize=normalize)\n",
    "    disp.ax_.set_title(title)\n",
    "\n",
    "    print(title)\n",
    "    print(disp.confusion_matrix)"
   ]
  },
  {
   "cell_type": "code",
   "execution_count": null,
   "metadata": {},
   "outputs": [],
   "source": []
  },
  {
   "cell_type": "code",
   "execution_count": null,
   "metadata": {},
   "outputs": [],
   "source": []
  },
  {
   "cell_type": "code",
   "execution_count": null,
   "metadata": {},
   "outputs": [],
   "source": []
  },
  {
   "cell_type": "markdown",
   "metadata": {
    "colab_type": "text",
    "id": "BcaKVTGuJ1Vm"
   },
   "source": [
    "# MLP simple"
   ]
  },
  {
   "cell_type": "code",
   "execution_count": null,
   "metadata": {
    "ExecuteTime": {
     "end_time": "2020-05-22T16:59:21.292711Z",
     "start_time": "2020-05-22T16:59:11.792667Z"
    },
    "colab": {
     "base_uri": "https://localhost:8080/",
     "height": 34
    },
    "colab_type": "code",
    "executionInfo": {
     "elapsed": 18825,
     "status": "ok",
     "timestamp": 1591023422037,
     "user": {
      "displayName": "Duong Hung",
      "photoUrl": "https://lh3.googleusercontent.com/a-/AOh14Ggfgs4FqFN7Yq3pQXoVHeQcc9w9kDV_fAGoQ3Nx4nk=s64",
      "userId": "01608720095171318435"
     },
     "user_tz": 300
    },
    "id": "dBEUbS6cYuve",
    "outputId": "0cdcef81-7b5c-4854-aada-53f4f8bb6435"
   },
   "outputs": [],
   "source": [
    "import tensorflow as tf\n",
    "from tensorflow import keras\n",
    "print(tf.__version__)"
   ]
  },
  {
   "cell_type": "code",
   "execution_count": null,
   "metadata": {},
   "outputs": [],
   "source": [
    "X_train.shape[1]"
   ]
  },
  {
   "cell_type": "code",
   "execution_count": null,
   "metadata": {},
   "outputs": [],
   "source": [
    "model_MLP = tf.keras.Sequential([\n",
    "    keras.layers.Dense(10, activation='relu',input_dim=X_train.shape[1]),\n",
    "    keras.layers.Dropout(0.5),\n",
    "    keras.layers.Dense(5),\n",
    "])"
   ]
  },
  {
   "cell_type": "code",
   "execution_count": null,
   "metadata": {},
   "outputs": [],
   "source": [
    "model_MLP.compile(optimizer='adam',\n",
    "              loss=tf.keras.losses.SparseCategoricalCrossentropy(from_logits=True),\n",
    "              metrics=['accuracy'])"
   ]
  },
  {
   "cell_type": "code",
   "execution_count": null,
   "metadata": {},
   "outputs": [],
   "source": [
    "model_MLP.fit(X_train, y_train, epochs=10)"
   ]
  },
  {
   "cell_type": "code",
   "execution_count": null,
   "metadata": {},
   "outputs": [],
   "source": [
    "# evaluate the model\n",
    "_, val_acc = model_MLP.evaluate(X_val, y_val, verbose=0)\n",
    "_, test_acc = model_MLP.evaluate(X_test, y_test, verbose=0)\n",
    "print('Val: %.3f, Test: %.3f' % (val_acc, test_acc))"
   ]
  },
  {
   "cell_type": "code",
   "execution_count": null,
   "metadata": {},
   "outputs": [],
   "source": [
    "y_pred = model_MLP.predict(X_test)\n",
    "y_pred = np.argmax(y_pred,axis=1)"
   ]
  },
  {
   "cell_type": "code",
   "execution_count": null,
   "metadata": {},
   "outputs": [],
   "source": [
    "import seaborn as sns"
   ]
  },
  {
   "cell_type": "code",
   "execution_count": null,
   "metadata": {},
   "outputs": [],
   "source": [
    "confusion_mtx = tf.math.confusion_matrix(y_test, y_pred) \n",
    "plt.figure(figsize=(10, 8))\n",
    "sns.heatmap(confusion_mtx, xticklabels=np.arange(5), yticklabels=np.arange(5), \n",
    "            annot=True, fmt='g')\n",
    "plt.xlabel('Prediction')\n",
    "plt.ylabel('Label')\n",
    "plt.show()"
   ]
  },
  {
   "cell_type": "markdown",
   "metadata": {
    "colab_type": "text",
    "id": "HquajIY-J1Vn"
   },
   "source": [
    "## Mini functions"
   ]
  },
  {
   "cell_type": "markdown",
   "metadata": {
    "colab_type": "text",
    "id": "_Z54FMlfJ1Vp"
   },
   "source": [
    "### Create model"
   ]
  },
  {
   "cell_type": "code",
   "execution_count": null,
   "metadata": {},
   "outputs": [],
   "source": [
    "#physical_devices = tf.config.list_physical_devices('GPU') \n",
    "#tf.config.experimental.set_memory_growth(physical_devices[0], True)"
   ]
  },
  {
   "cell_type": "code",
   "execution_count": null,
   "metadata": {
    "ExecuteTime": {
     "end_time": "2020-05-22T16:59:21.307184Z",
     "start_time": "2020-05-22T16:59:21.295706Z"
    },
    "colab": {},
    "colab_type": "code",
    "id": "yIup1KAaJ1Vr"
   },
   "outputs": [],
   "source": [
    "def create_model(nodes=20,actih='relu',actio='sigmoid',lr=1e-3,output_bias=None,logits=False):\n",
    "    if output_bias is not None:\n",
    "        output_bias = tf.keras.initializers.Constant(output_bias)\n",
    "    \n",
    "    model = keras.Sequential()\n",
    "    model.add(keras.layers.Dense(nodes, activation=actih,input_dim=X_train.shape[1]))\n",
    "    model.add(keras.layers.Dropout(0.5))\n",
    "    model.add(keras.layers.Dense(1, activation=actio,bias_initializer=output_bias))\n",
    "    \n",
    "    model.compile(optimizer=keras.optimizers.Adam(lr=lr),\n",
    "                  loss=keras.losses.BinaryCrossentropy(from_logits=logits),\n",
    "                  metrics=metrics)\n",
    "    return model"
   ]
  },
  {
   "cell_type": "markdown",
   "metadata": {
    "colab_type": "text",
    "id": "mfh4vwpHHabk"
   },
   "source": [
    "### Show Performance\n"
   ]
  },
  {
   "cell_type": "code",
   "execution_count": null,
   "metadata": {
    "colab": {},
    "colab_type": "code",
    "id": "8tBg0lVyHg5I"
   },
   "outputs": [],
   "source": [
    "def show_perf(model,name,data='test',batches=4096):\n",
    "  if data=='test':\n",
    "    results = model.evaluate(X_test,y_test,batch_size=batches)\n",
    "  else:\n",
    "    results = model.evaluate(X_train,y_train,batch_size=batches)\n",
    "  op=pd.DataFrame(results,index=model.metrics_names,columns=[name])\n",
    "  return op"
   ]
  },
  {
   "cell_type": "markdown",
   "metadata": {
    "colab_type": "text",
    "id": "JXXqeCA-J1Vu"
   },
   "source": [
    "### Show confusion matrix\n"
   ]
  },
  {
   "cell_type": "code",
   "execution_count": null,
   "metadata": {
    "ExecuteTime": {
     "end_time": "2020-05-22T16:59:21.318663Z",
     "start_time": "2020-05-22T16:59:21.310178Z"
    },
    "colab": {},
    "colab_type": "code",
    "id": "BCMLDgLcYo6T"
   },
   "outputs": [],
   "source": [
    "from sklearn.metrics import confusion_matrix, classification_report"
   ]
  },
  {
   "cell_type": "code",
   "execution_count": null,
   "metadata": {
    "ExecuteTime": {
     "end_time": "2020-05-22T16:59:21.338625Z",
     "start_time": "2020-05-22T16:59:21.322156Z"
    },
    "colab": {},
    "colab_type": "code",
    "id": "ZhneEw4cRND_"
   },
   "outputs": [],
   "source": [
    "def CI(arr):\n",
    "    op=[arr[0,0],arr[1,1]]/arr.sum(axis=0)\n",
    "    op=np.append(op,(arr[0,0]+arr[1,1])/arr.sum())\n",
    "    op=pd.DataFrame(op,columns=['Precision'],index=['0','1','Global'])\n",
    "    op['n_p']=np.append(arr.sum(axis=0),arr.sum())\n",
    "    op['CI_p']=196*np.sqrt(op.Precision*(1-op.Precision)/op.n_p)\n",
    "    op['Precision']=op.Precision*100\n",
    "\n",
    "    op['Recall']=np.append([arr[0,0],arr[1,1]]/arr.sum(axis=1),(arr[0,0]+arr[1,1])/arr.sum())\n",
    "    op['n_r']=np.append(arr.sum(axis=1),arr.sum())\n",
    "    op['CI_r']=196*np.sqrt(op.Recall*(1-op.Recall)/op.n_r)\n",
    "    op['Recall']=op.Recall*100\n",
    "    return op"
   ]
  },
  {
   "cell_type": "code",
   "execution_count": null,
   "metadata": {
    "ExecuteTime": {
     "end_time": "2020-05-22T16:59:21.351602Z",
     "start_time": "2020-05-22T16:59:21.341620Z"
    },
    "colab": {},
    "colab_type": "code",
    "id": "uFfBF83bJ1V0"
   },
   "outputs": [],
   "source": [
    "def show_cm(labels, predictions, p=0.5):\n",
    "    cm = confusion_matrix(labels, predictions > p)\n",
    "    print(cm)\n",
    "    pcm=classification_report(labels, predictions > p, target_names=['Class 0','Class 1']) \n",
    "    print(pcm)\n",
    "    return CI(cm)"
   ]
  },
  {
   "cell_type": "markdown",
   "metadata": {
    "colab_type": "text",
    "id": "U7vWECLdJ1V_"
   },
   "source": [
    "### Plot ROC\n"
   ]
  },
  {
   "cell_type": "code",
   "execution_count": null,
   "metadata": {
    "ExecuteTime": {
     "end_time": "2020-05-22T16:59:21.370020Z",
     "start_time": "2020-05-22T16:59:21.354597Z"
    },
    "colab": {},
    "colab_type": "code",
    "id": "C3yM0beyZCHc"
   },
   "outputs": [],
   "source": [
    "from sklearn.metrics import roc_curve, auc"
   ]
  },
  {
   "cell_type": "code",
   "execution_count": null,
   "metadata": {
    "ExecuteTime": {
     "end_time": "2020-05-22T16:59:21.382983Z",
     "start_time": "2020-05-22T16:59:21.373497Z"
    },
    "colab": {},
    "colab_type": "code",
    "id": "tuV1U8jcJ1WG"
   },
   "outputs": [],
   "source": [
    "def plot_roc(name, labels, predictions, **kwargs):\n",
    "  fp, tp, _ = roc_curve(labels, predictions)\n",
    "\n",
    "  plt.plot(100*fp, 100*tp, label=name + ' (area = %0.4f)' % auc(fp, tp), linewidth=1.5, **kwargs)\n",
    "  plt.xlabel('False positives [%]')\n",
    "  plt.ylabel('True positives [%]')\n",
    "  plt.xlim([0,100.5])\n",
    "  plt.ylim([0,100.5])\n",
    "  plt.grid(True)\n",
    "  ax = plt.gca()\n",
    "  ax.set_aspect('equal')"
   ]
  },
  {
   "cell_type": "code",
   "execution_count": null,
   "metadata": {
    "ExecuteTime": {
     "end_time": "2020-05-22T16:59:21.727140Z",
     "start_time": "2020-05-22T16:59:21.386474Z"
    },
    "colab": {
     "base_uri": "https://localhost:8080/",
     "height": 34
    },
    "colab_type": "code",
    "executionInfo": {
     "elapsed": 19066,
     "status": "ok",
     "timestamp": 1591023422399,
     "user": {
      "displayName": "Duong Hung",
      "photoUrl": "https://lh3.googleusercontent.com/a-/AOh14Ggfgs4FqFN7Yq3pQXoVHeQcc9w9kDV_fAGoQ3Nx4nk=s64",
      "userId": "01608720095171318435"
     },
     "user_tz": 300
    },
    "id": "gS6h-0G3J1WN",
    "outputId": "4f3b5c40-ff91-4796-c231-3934592dbe4f"
   },
   "outputs": [],
   "source": [
    "data_train = tf.data.Dataset.from_tensor_slices((X_train, y_train))\n",
    "data_train"
   ]
  },
  {
   "cell_type": "code",
   "execution_count": null,
   "metadata": {
    "ExecuteTime": {
     "end_time": "2020-05-22T16:59:21.810485Z",
     "start_time": "2020-05-22T16:59:21.729635Z"
    },
    "colab": {
     "base_uri": "https://localhost:8080/",
     "height": 34
    },
    "colab_type": "code",
    "executionInfo": {
     "elapsed": 19252,
     "status": "ok",
     "timestamp": 1591023422618,
     "user": {
      "displayName": "Duong Hung",
      "photoUrl": "https://lh3.googleusercontent.com/a-/AOh14Ggfgs4FqFN7Yq3pQXoVHeQcc9w9kDV_fAGoQ3Nx4nk=s64",
      "userId": "01608720095171318435"
     },
     "user_tz": 300
    },
    "id": "ruuam0vyJ1WT",
    "outputId": "fcbb74d4-5ca2-4f39-a983-58c6e6954a16"
   },
   "outputs": [],
   "source": [
    "data_val = tf.data.Dataset.from_tensor_slices((X_val, y_val))\n",
    "data_val"
   ]
  },
  {
   "cell_type": "code",
   "execution_count": null,
   "metadata": {
    "ExecuteTime": {
     "end_time": "2020-05-22T16:59:21.828949Z",
     "start_time": "2020-05-22T16:59:21.819467Z"
    },
    "colab": {
     "base_uri": "https://localhost:8080/",
     "height": 34
    },
    "colab_type": "code",
    "executionInfo": {
     "elapsed": 19225,
     "status": "ok",
     "timestamp": 1591023422621,
     "user": {
      "displayName": "Duong Hung",
      "photoUrl": "https://lh3.googleusercontent.com/a-/AOh14Ggfgs4FqFN7Yq3pQXoVHeQcc9w9kDV_fAGoQ3Nx4nk=s64",
      "userId": "01608720095171318435"
     },
     "user_tz": 300
    },
    "id": "XkkyFt4uJ1WZ",
    "outputId": "40cb2a06-6514-429b-9310-081e84f9e000"
   },
   "outputs": [],
   "source": [
    "initial_bias = np.log([pos/neg])\n",
    "initial_bias"
   ]
  },
  {
   "cell_type": "code",
   "execution_count": null,
   "metadata": {
    "ExecuteTime": {
     "end_time": "2020-05-22T16:59:21.871371Z",
     "start_time": "2020-05-22T16:59:21.834441Z"
    },
    "colab": {},
    "colab_type": "code",
    "id": "pYL3bQLrJ1Wf"
   },
   "outputs": [],
   "source": [
    "metrics = [\n",
    "            keras.metrics.TruePositives(name='tp'),\n",
    "            keras.metrics.FalsePositives(name='fp'),\n",
    "            keras.metrics.TrueNegatives(name='tn'),\n",
    "            keras.metrics.FalseNegatives(name='fn'), \n",
    "            keras.metrics.BinaryAccuracy(name='accuracy'),\n",
    "            keras.metrics.Precision(name='precision'),\n",
    "            keras.metrics.Recall(name='recall'),\n",
    "            keras.metrics.AUC(name='auc')\n",
    "]"
   ]
  },
  {
   "cell_type": "code",
   "execution_count": null,
   "metadata": {
    "ExecuteTime": {
     "end_time": "2020-05-22T16:59:21.880354Z",
     "start_time": "2020-05-22T16:59:21.874365Z"
    },
    "colab": {},
    "colab_type": "code",
    "id": "3VS51FQTJ1Wk"
   },
   "outputs": [],
   "source": [
    "es = tf.keras.callbacks.EarlyStopping(monitor='val_auc', \n",
    "    verbose=1,\n",
    "    patience=10,\n",
    "    mode='max',\n",
    "    restore_best_weights=True)"
   ]
  },
  {
   "cell_type": "code",
   "execution_count": null,
   "metadata": {
    "ExecuteTime": {
     "end_time": "2020-05-22T16:59:21.893331Z",
     "start_time": "2020-05-22T16:59:21.884347Z"
    },
    "colab": {},
    "colab_type": "code",
    "id": "XQvk15IGlGSs"
   },
   "outputs": [],
   "source": [
    "tf.random.set_seed(8)"
   ]
  },
  {
   "cell_type": "code",
   "execution_count": null,
   "metadata": {
    "ExecuteTime": {
     "end_time": "2020-05-22T16:59:21.917285Z",
     "start_time": "2020-05-22T16:59:21.897322Z"
    },
    "colab": {},
    "colab_type": "code",
    "id": "CA3Zf0VHJ1Wo"
   },
   "outputs": [],
   "source": [
    "batch_size=2048\n",
    "data_train = data_train.shuffle(len(X_train)).batch(batch_size)\n",
    "data_val = data_val.shuffle(len(X_val)).batch(batch_size)"
   ]
  },
  {
   "cell_type": "code",
   "execution_count": null,
   "metadata": {
    "ExecuteTime": {
     "end_time": "2020-05-22T16:59:21.923774Z",
     "start_time": "2020-05-22T16:59:21.920280Z"
    },
    "colab": {},
    "colab_type": "code",
    "id": "wOnyvd3jK739"
   },
   "outputs": [],
   "source": [
    "import time"
   ]
  },
  {
   "cell_type": "markdown",
   "metadata": {
    "colab_type": "text",
    "id": "-pfo6_s7J1WM"
   },
   "source": [
    "## Base model\n"
   ]
  },
  {
   "cell_type": "markdown",
   "metadata": {
    "colab_type": "text",
    "id": "A7foQr8DcLZD"
   },
   "source": [
    "### set initial weight"
   ]
  },
  {
   "cell_type": "code",
   "execution_count": null,
   "metadata": {
    "ExecuteTime": {
     "end_time": "2020-05-22T16:59:22.645275Z",
     "start_time": "2020-05-22T16:59:21.927267Z"
    },
    "colab": {
     "base_uri": "https://localhost:8080/",
     "height": 425
    },
    "colab_type": "code",
    "executionInfo": {
     "elapsed": 19736,
     "status": "ok",
     "timestamp": 1591023423181,
     "user": {
      "displayName": "Duong Hung",
      "photoUrl": "https://lh3.googleusercontent.com/a-/AOh14Ggfgs4FqFN7Yq3pQXoVHeQcc9w9kDV_fAGoQ3Nx4nk=s64",
      "userId": "01608720095171318435"
     },
     "user_tz": 300
    },
    "id": "UpiFQCTbcLZE",
    "outputId": "eaa73c42-6dc8-4fdc-df82-d8c161bfe6ae"
   },
   "outputs": [],
   "source": [
    "model = create_model()\n",
    "model.summary()\n",
    "model.predict(X_train[:10])"
   ]
  },
  {
   "cell_type": "code",
   "execution_count": null,
   "metadata": {
    "ExecuteTime": {
     "end_time": "2020-05-22T16:59:25.527414Z",
     "start_time": "2020-05-22T16:59:22.648768Z"
    },
    "colab": {
     "base_uri": "https://localhost:8080/",
     "height": 34
    },
    "colab_type": "code",
    "executionInfo": {
     "elapsed": 22422,
     "status": "ok",
     "timestamp": 1591023425891,
     "user": {
      "displayName": "Duong Hung",
      "photoUrl": "https://lh3.googleusercontent.com/a-/AOh14Ggfgs4FqFN7Yq3pQXoVHeQcc9w9kDV_fAGoQ3Nx4nk=s64",
      "userId": "01608720095171318435"
     },
     "user_tz": 300
    },
    "id": "8VyAHvVucLZH",
    "outputId": "eb34e996-91f4-4224-b2c6-df3023792ea6"
   },
   "outputs": [],
   "source": [
    "results = model.evaluate(X_train, y_train, batch_size=2048, verbose=0)\n",
    "print(\"Loss: {:0.4f}\".format(results[0]))"
   ]
  },
  {
   "cell_type": "code",
   "execution_count": null,
   "metadata": {
    "ExecuteTime": {
     "end_time": "2020-05-22T16:59:25.537395Z",
     "start_time": "2020-05-22T16:59:25.530408Z"
    },
    "colab": {
     "base_uri": "https://localhost:8080/",
     "height": 34
    },
    "colab_type": "code",
    "executionInfo": {
     "elapsed": 22389,
     "status": "ok",
     "timestamp": 1591023425894,
     "user": {
      "displayName": "Duong Hung",
      "photoUrl": "https://lh3.googleusercontent.com/a-/AOh14Ggfgs4FqFN7Yq3pQXoVHeQcc9w9kDV_fAGoQ3Nx4nk=s64",
      "userId": "01608720095171318435"
     },
     "user_tz": 300
    },
    "id": "bVtEFmfecLZK",
    "outputId": "5e8bd3a7-b91e-48c0-ee6e-c35e7532697f"
   },
   "outputs": [],
   "source": [
    "initial_bias = np.log([pos/neg])\n",
    "initial_bias"
   ]
  },
  {
   "cell_type": "code",
   "execution_count": null,
   "metadata": {
    "ExecuteTime": {
     "end_time": "2020-05-22T16:59:26.134684Z",
     "start_time": "2020-05-22T16:59:25.540390Z"
    },
    "colab": {
     "base_uri": "https://localhost:8080/",
     "height": 187
    },
    "colab_type": "code",
    "executionInfo": {
     "elapsed": 22505,
     "status": "ok",
     "timestamp": 1591023426040,
     "user": {
      "displayName": "Duong Hung",
      "photoUrl": "https://lh3.googleusercontent.com/a-/AOh14Ggfgs4FqFN7Yq3pQXoVHeQcc9w9kDV_fAGoQ3Nx4nk=s64",
      "userId": "01608720095171318435"
     },
     "user_tz": 300
    },
    "id": "OutoJ09_cLZO",
    "outputId": "3cde05f9-eed4-4876-86e8-fa3f0864cc09"
   },
   "outputs": [],
   "source": [
    "model = create_model(output_bias = initial_bias)\n",
    "model.predict(X_train[:10])"
   ]
  },
  {
   "cell_type": "code",
   "execution_count": null,
   "metadata": {
    "ExecuteTime": {
     "end_time": "2020-05-22T16:59:29.283328Z",
     "start_time": "2020-05-22T16:59:26.137681Z"
    },
    "colab": {
     "base_uri": "https://localhost:8080/",
     "height": 34
    },
    "colab_type": "code",
    "executionInfo": {
     "elapsed": 24864,
     "status": "ok",
     "timestamp": 1591023428426,
     "user": {
      "displayName": "Duong Hung",
      "photoUrl": "https://lh3.googleusercontent.com/a-/AOh14Ggfgs4FqFN7Yq3pQXoVHeQcc9w9kDV_fAGoQ3Nx4nk=s64",
      "userId": "01608720095171318435"
     },
     "user_tz": 300
    },
    "id": "COwHQcGScLZR",
    "outputId": "86cfe0f3-370c-48e3-9528-614ea93ce49a"
   },
   "outputs": [],
   "source": [
    "results = model.evaluate(X_train, y_train, batch_size=2048, verbose=0)\n",
    "print(\"Loss: {:0.4f}\".format(results[0]))"
   ]
  },
  {
   "cell_type": "code",
   "execution_count": null,
   "metadata": {
    "ExecuteTime": {
     "end_time": "2020-05-22T16:59:29.290814Z",
     "start_time": "2020-05-22T16:59:29.286321Z"
    },
    "colab": {},
    "colab_type": "code",
    "id": "_pu571vlcLZU"
   },
   "outputs": [],
   "source": [
    "import os\n",
    "import tempfile"
   ]
  },
  {
   "cell_type": "code",
   "execution_count": null,
   "metadata": {
    "ExecuteTime": {
     "end_time": "2020-05-22T16:59:29.363058Z",
     "start_time": "2020-05-22T16:59:29.293310Z"
    },
    "colab": {},
    "colab_type": "code",
    "id": "e_-iBnajcLZW"
   },
   "outputs": [],
   "source": [
    "initial_weights = os.path.join(tempfile.mkdtemp(),'initial_weights')\n",
    "model.save_weights(initial_weights)"
   ]
  },
  {
   "cell_type": "markdown",
   "metadata": {
    "colab_type": "text",
    "id": "eVr3YWkMcLZc"
   },
   "source": [
    "### Base model"
   ]
  },
  {
   "cell_type": "code",
   "execution_count": null,
   "metadata": {
    "ExecuteTime": {
     "end_time": "2020-05-22T17:01:20.335831Z",
     "start_time": "2020-05-22T16:59:29.366060Z"
    },
    "colab": {
     "base_uri": "https://localhost:8080/",
     "height": 972
    },
    "colab_type": "code",
    "executionInfo": {
     "elapsed": 144578,
     "status": "ok",
     "timestamp": 1591023548179,
     "user": {
      "displayName": "Duong Hung",
      "photoUrl": "https://lh3.googleusercontent.com/a-/AOh14Ggfgs4FqFN7Yq3pQXoVHeQcc9w9kDV_fAGoQ3Nx4nk=s64",
      "userId": "01608720095171318435"
     },
     "user_tz": 300
    },
    "id": "dbkOcpHyJ1W0",
    "outputId": "9ce49a67-c7f6-4c06-9f1d-f4ed2fbbd191"
   },
   "outputs": [],
   "source": [
    "start_time=time.time()\n",
    "ar_model=create_model()\n",
    "ar_model.load_weights(initial_weights)\n",
    "Monitor_ar = ar_model.fit(data_train, epochs=100,callbacks=[es],validation_data = data_val, verbose = 1)\n",
    "end_time=time.time()\n",
    "end_time-start_time"
   ]
  },
  {
   "cell_type": "code",
   "execution_count": null,
   "metadata": {
    "ExecuteTime": {
     "end_time": "2020-05-22T17:01:21.244090Z",
     "start_time": "2020-05-22T17:01:20.339324Z"
    },
    "colab": {
     "base_uri": "https://localhost:8080/",
     "height": 534
    },
    "colab_type": "code",
    "executionInfo": {
     "elapsed": 145013,
     "status": "ok",
     "timestamp": 1591023548638,
     "user": {
      "displayName": "Duong Hung",
      "photoUrl": "https://lh3.googleusercontent.com/a-/AOh14Ggfgs4FqFN7Yq3pQXoVHeQcc9w9kDV_fAGoQ3Nx4nk=s64",
      "userId": "01608720095171318435"
     },
     "user_tz": 300
    },
    "id": "XHnPm2POJ1W7",
    "outputId": "90618d15-355c-482d-c62f-71843de14d45"
   },
   "outputs": [],
   "source": [
    "hist = pd.DataFrame(Monitor_ar.history)\n",
    "fig, axes = plt.subplots(nrows=1, ncols=2,figsize=(10,4),dpi=150)\n",
    "hist[['loss','val_loss']].plot(ax=axes[0])\n",
    "hist[['auc','val_auc']].plot(ax=axes[1])\n",
    "plt.show()"
   ]
  },
  {
   "cell_type": "markdown",
   "metadata": {
    "colab_type": "text",
    "id": "y_w6VNGjR3Bo"
   },
   "source": [
    "### Results\n"
   ]
  },
  {
   "cell_type": "code",
   "execution_count": null,
   "metadata": {
    "ExecuteTime": {
     "end_time": "2020-05-22T17:01:31.286248Z",
     "start_time": "2020-05-22T17:01:21.247583Z"
    },
    "colab": {},
    "colab_type": "code",
    "id": "MjuL0KzSJ1W_"
   },
   "outputs": [],
   "source": [
    "y_pred_train_b = ar_model.predict(X_train)\n",
    "y_pred_test_b = ar_model.predict(X_test)"
   ]
  },
  {
   "cell_type": "code",
   "execution_count": null,
   "metadata": {
    "ExecuteTime": {
     "end_time": "2020-05-22T17:01:32.987166Z",
     "start_time": "2020-05-22T17:01:31.289241Z"
    },
    "colab": {
     "base_uri": "https://localhost:8080/",
     "height": 282
    },
    "colab_type": "code",
    "executionInfo": {
     "elapsed": 153131,
     "status": "ok",
     "timestamp": 1591023556785,
     "user": {
      "displayName": "Duong Hung",
      "photoUrl": "https://lh3.googleusercontent.com/a-/AOh14Ggfgs4FqFN7Yq3pQXoVHeQcc9w9kDV_fAGoQ3Nx4nk=s64",
      "userId": "01608720095171318435"
     },
     "user_tz": 300
    },
    "id": "VztLN6EAJ1XF",
    "outputId": "831a5e1a-0d63-48ad-aca1-2c6e0820e913"
   },
   "outputs": [],
   "source": [
    "plt.scatter(np.arange(len(y_test)),y_pred_test_b)"
   ]
  },
  {
   "cell_type": "code",
   "execution_count": null,
   "metadata": {
    "ExecuteTime": {
     "end_time": "2020-05-22T17:01:33.598309Z",
     "start_time": "2020-05-22T17:01:32.990179Z"
    },
    "colab": {
     "base_uri": "https://localhost:8080/",
     "height": 417
    },
    "colab_type": "code",
    "executionInfo": {
     "elapsed": 153592,
     "status": "ok",
     "timestamp": 1591023557271,
     "user": {
      "displayName": "Duong Hung",
      "photoUrl": "https://lh3.googleusercontent.com/a-/AOh14Ggfgs4FqFN7Yq3pQXoVHeQcc9w9kDV_fAGoQ3Nx4nk=s64",
      "userId": "01608720095171318435"
     },
     "user_tz": 300
    },
    "id": "7FZsUwCmJ1XJ",
    "outputId": "23c11ca3-7c96-43ee-a294-362c1525e6fc"
   },
   "outputs": [],
   "source": [
    "show_cm(y_test,y_pred_test_b)"
   ]
  },
  {
   "cell_type": "code",
   "execution_count": null,
   "metadata": {
    "ExecuteTime": {
     "end_time": "2020-05-22T17:01:33.993076Z",
     "start_time": "2020-05-22T17:01:33.602303Z"
    },
    "colab": {
     "base_uri": "https://localhost:8080/",
     "height": 499
    },
    "colab_type": "code",
    "executionInfo": {
     "elapsed": 153960,
     "status": "ok",
     "timestamp": 1591023557666,
     "user": {
      "displayName": "Duong Hung",
      "photoUrl": "https://lh3.googleusercontent.com/a-/AOh14Ggfgs4FqFN7Yq3pQXoVHeQcc9w9kDV_fAGoQ3Nx4nk=s64",
      "userId": "01608720095171318435"
     },
     "user_tz": 300
    },
    "id": "6xa4zTcUXo-V",
    "outputId": "f6a20dca-4c70-48ef-9edf-a9b4d72e8edc"
   },
   "outputs": [],
   "source": [
    "plt.figure(figsize=(8,8))\n",
    "plot_roc('Base model - train',y_train,y_pred_train_b)\n",
    "plot_roc('Base model - test',y_test,y_pred_test_b)\n",
    "plt.legend()\n",
    "plt.show()"
   ]
  },
  {
   "cell_type": "code",
   "execution_count": null,
   "metadata": {
    "colab": {
     "base_uri": "https://localhost:8080/",
     "height": 382
    },
    "colab_type": "code",
    "executionInfo": {
     "elapsed": 158488,
     "status": "ok",
     "timestamp": 1591023562220,
     "user": {
      "displayName": "Duong Hung",
      "photoUrl": "https://lh3.googleusercontent.com/a-/AOh14Ggfgs4FqFN7Yq3pQXoVHeQcc9w9kDV_fAGoQ3Nx4nk=s64",
      "userId": "01608720095171318435"
     },
     "user_tz": 300
    },
    "id": "fr-cbzRRZKMs",
    "outputId": "e91d60a8-3cef-4879-b421-e098232d136b"
   },
   "outputs": [],
   "source": [
    "perf_df=show_perf(ar_model,'ar_model_test',data='test',batches=2048)\n",
    "perf_df['ar_model_train']=show_perf(ar_model,'ar_model',data='train',batches=2048)\n",
    "perf_df"
   ]
  },
  {
   "cell_type": "markdown",
   "metadata": {
    "colab_type": "text",
    "id": "J7_Z6kAqcLZ0"
   },
   "source": [
    "## Create model 2"
   ]
  },
  {
   "cell_type": "code",
   "execution_count": null,
   "metadata": {
    "ExecuteTime": {
     "end_time": "2020-05-22T17:01:34.005568Z",
     "start_time": "2020-05-22T17:01:33.996568Z"
    },
    "colab": {},
    "colab_type": "code",
    "id": "r46ZtMD4cLZ0"
   },
   "outputs": [],
   "source": [
    "def create_model2(nodes=20,actih='relu',actio='sigmoid',lr=1e-3,logits=False):\n",
    "    \n",
    "    #output_bias = tf.keras.initializers.Constant(initial_bias)\n",
    "    model = keras.Sequential()\n",
    "    model.add(keras.layers.Dense(nodes, activation=actih,input_dim=X_train.shape[1]))\n",
    "    model.add(keras.layers.Dropout(0.5))\n",
    "    model.add(keras.layers.Dense(1, activation=actio,bias_initializer=None))\n",
    "    \n",
    "    model.compile(optimizer=keras.optimizers.Adam(lr=lr),\n",
    "                  loss=keras.losses.BinaryCrossentropy(from_logits=logits),\n",
    "                  metrics=metrics)\n",
    "    model.load_weights(initial_weights)\n",
    "    return model"
   ]
  },
  {
   "cell_type": "markdown",
   "metadata": {
    "ExecuteTime": {
     "end_time": "2020-05-08T22:47:44.768449Z",
     "start_time": "2020-05-08T22:47:44.455029Z"
    },
    "colab_type": "text",
    "id": "loWcs-MKJ1XR"
   },
   "source": [
    "# Class weight"
   ]
  },
  {
   "cell_type": "markdown",
   "metadata": {
    "colab_type": "text",
    "id": "mDLuSQMabKFn"
   },
   "source": [
    "### Class weight estimation"
   ]
  },
  {
   "cell_type": "code",
   "execution_count": null,
   "metadata": {
    "ExecuteTime": {
     "end_time": "2020-05-22T17:01:34.019080Z",
     "start_time": "2020-05-22T17:01:34.008548Z"
    },
    "colab": {
     "base_uri": "https://localhost:8080/",
     "height": 51
    },
    "colab_type": "code",
    "executionInfo": {
     "elapsed": 158461,
     "status": "ok",
     "timestamp": 1591023562224,
     "user": {
      "displayName": "Duong Hung",
      "photoUrl": "https://lh3.googleusercontent.com/a-/AOh14Ggfgs4FqFN7Yq3pQXoVHeQcc9w9kDV_fAGoQ3Nx4nk=s64",
      "userId": "01608720095171318435"
     },
     "user_tz": 300
    },
    "id": "y1tT_8gBbIl_",
    "outputId": "4e36e3ab-d838-42e7-def1-c0e9c33e0eb5"
   },
   "outputs": [],
   "source": [
    "# Scaling by total/2 helps keep the loss to a similar magnitude.\n",
    "# The sum of the weights of all examples stays the same.\n",
    "weight_for_0 = (1 / neg)*(total)/2.0 \n",
    "weight_for_1 = (1 / pos)*(total)/2.0\n",
    "\n",
    "class_weight = {0: weight_for_0, 1: weight_for_1}\n",
    "\n",
    "print('Weight for class 0: {:.2f}'.format(weight_for_0))\n",
    "print('Weight for class 1: {:.2f}'.format(weight_for_1))"
   ]
  },
  {
   "cell_type": "markdown",
   "metadata": {
    "colab_type": "text",
    "id": "-G092TzzbPWJ"
   },
   "source": [
    "### Run model with class weight"
   ]
  },
  {
   "cell_type": "code",
   "execution_count": null,
   "metadata": {
    "ExecuteTime": {
     "end_time": "2020-05-22T17:03:33.004837Z",
     "start_time": "2020-05-22T17:01:34.022178Z"
    },
    "colab": {
     "base_uri": "https://localhost:8080/",
     "height": 938
    },
    "colab_type": "code",
    "executionInfo": {
     "elapsed": 279690,
     "status": "ok",
     "timestamp": 1591023683479,
     "user": {
      "displayName": "Duong Hung",
      "photoUrl": "https://lh3.googleusercontent.com/a-/AOh14Ggfgs4FqFN7Yq3pQXoVHeQcc9w9kDV_fAGoQ3Nx4nk=s64",
      "userId": "01608720095171318435"
     },
     "user_tz": 300
    },
    "id": "s1fC3msPblwo",
    "outputId": "6654e639-777d-4a1b-8c07-ee5580efa5ec",
    "scrolled": true
   },
   "outputs": [],
   "source": [
    "tf.random.set_seed(8)\n",
    "start_time=time.time()\n",
    "ar_wei_model=create_model2()\n",
    "Monitor = ar_wei_model.fit(data_train, epochs=100,callbacks=[es],validation_data = data_val,class_weight=class_weight, verbose = 1)\n",
    "end_time=time.time()\n",
    "print('Computation time: ', (end_time-start_time)/60, ' min')"
   ]
  },
  {
   "cell_type": "code",
   "execution_count": null,
   "metadata": {
    "ExecuteTime": {
     "end_time": "2020-05-22T17:03:33.498921Z",
     "start_time": "2020-05-22T17:03:33.008332Z"
    },
    "colab": {
     "base_uri": "https://localhost:8080/",
     "height": 537
    },
    "colab_type": "code",
    "executionInfo": {
     "elapsed": 280519,
     "status": "ok",
     "timestamp": 1591023684333,
     "user": {
      "displayName": "Duong Hung",
      "photoUrl": "https://lh3.googleusercontent.com/a-/AOh14Ggfgs4FqFN7Yq3pQXoVHeQcc9w9kDV_fAGoQ3Nx4nk=s64",
      "userId": "01608720095171318435"
     },
     "user_tz": 300
    },
    "id": "gbJOrd5cb8dr",
    "outputId": "4adb601b-d503-45d8-d7f6-681d6efd3bc2"
   },
   "outputs": [],
   "source": [
    "hist = pd.DataFrame(Monitor.history)\n",
    "fig, axes = plt.subplots(nrows=1, ncols=2,figsize=(10,4),dpi=150)\n",
    "hist[['loss','val_loss']].plot(ax=axes[0])\n",
    "hist[['auc','val_auc']].plot(ax=axes[1])\n",
    "plt.show()"
   ]
  },
  {
   "cell_type": "code",
   "execution_count": null,
   "metadata": {
    "ExecuteTime": {
     "end_time": "2020-05-22T17:03:43.392996Z",
     "start_time": "2020-05-22T17:03:33.502412Z"
    },
    "colab": {},
    "colab_type": "code",
    "id": "tNkmcPN9b8aA"
   },
   "outputs": [],
   "source": [
    "y_pred_train_ar_wei = ar_wei_model.predict(X_train)\n",
    "y_pred_test_ar_wei = ar_wei_model.predict(X_test)"
   ]
  },
  {
   "cell_type": "code",
   "execution_count": null,
   "metadata": {
    "ExecuteTime": {
     "end_time": "2020-05-22T17:03:44.305109Z",
     "start_time": "2020-05-22T17:03:43.395964Z"
    },
    "colab": {
     "base_uri": "https://localhost:8080/",
     "height": 265
    },
    "colab_type": "code",
    "executionInfo": {
     "elapsed": 289656,
     "status": "ok",
     "timestamp": 1591023693501,
     "user": {
      "displayName": "Duong Hung",
      "photoUrl": "https://lh3.googleusercontent.com/a-/AOh14Ggfgs4FqFN7Yq3pQXoVHeQcc9w9kDV_fAGoQ3Nx4nk=s64",
      "userId": "01608720095171318435"
     },
     "user_tz": 300
    },
    "id": "g1AwenWlcgTC",
    "outputId": "2be39f3b-eeff-470c-92f6-94853f6cb46a"
   },
   "outputs": [],
   "source": [
    "plt.scatter(np.arange(len(y_test)),y_pred_test_ar_wei,s=0.1)\n",
    "plt.show()"
   ]
  },
  {
   "cell_type": "code",
   "execution_count": null,
   "metadata": {
    "ExecuteTime": {
     "end_time": "2020-05-22T17:03:44.825638Z",
     "start_time": "2020-05-22T17:03:44.308103Z"
    },
    "colab": {
     "base_uri": "https://localhost:8080/",
     "height": 329
    },
    "colab_type": "code",
    "executionInfo": {
     "elapsed": 290102,
     "status": "ok",
     "timestamp": 1591023693977,
     "user": {
      "displayName": "Duong Hung",
      "photoUrl": "https://lh3.googleusercontent.com/a-/AOh14Ggfgs4FqFN7Yq3pQXoVHeQcc9w9kDV_fAGoQ3Nx4nk=s64",
      "userId": "01608720095171318435"
     },
     "user_tz": 300
    },
    "id": "5kiSMFi8b8Xp",
    "outputId": "5cbb621a-1966-4eea-d0e8-956473316a00"
   },
   "outputs": [],
   "source": [
    "show_cm(y_test,y_pred_test_ar_wei)"
   ]
  },
  {
   "cell_type": "code",
   "execution_count": null,
   "metadata": {
    "ExecuteTime": {
     "end_time": "2020-05-22T17:03:45.370126Z",
     "start_time": "2020-05-22T17:03:44.829132Z"
    },
    "colab": {
     "base_uri": "https://localhost:8080/",
     "height": 499
    },
    "colab_type": "code",
    "executionInfo": {
     "elapsed": 290672,
     "status": "ok",
     "timestamp": 1591023694570,
     "user": {
      "displayName": "Duong Hung",
      "photoUrl": "https://lh3.googleusercontent.com/a-/AOh14Ggfgs4FqFN7Yq3pQXoVHeQcc9w9kDV_fAGoQ3Nx4nk=s64",
      "userId": "01608720095171318435"
     },
     "user_tz": 300
    },
    "id": "l3yBCZz7b8So",
    "outputId": "56b02d22-7634-408d-ef01-4e653a3f9e93",
    "scrolled": false
   },
   "outputs": [],
   "source": [
    "plt.figure(figsize=(8,8))\n",
    "plot_roc('Base model - train',y_train,y_pred_train_b)\n",
    "plot_roc('Base model - test',y_test,y_pred_test_b)\n",
    "plot_roc('Ar weight - train',y_train,y_pred_train_ar_wei)\n",
    "plot_roc('Ar weight - test',y_test,y_pred_test_ar_wei)\n",
    "plt.legend()\n",
    "plt.show()"
   ]
  },
  {
   "cell_type": "code",
   "execution_count": null,
   "metadata": {
    "colab": {
     "base_uri": "https://localhost:8080/",
     "height": 382
    },
    "colab_type": "code",
    "executionInfo": {
     "elapsed": 294280,
     "status": "ok",
     "timestamp": 1591023698202,
     "user": {
      "displayName": "Duong Hung",
      "photoUrl": "https://lh3.googleusercontent.com/a-/AOh14Ggfgs4FqFN7Yq3pQXoVHeQcc9w9kDV_fAGoQ3Nx4nk=s64",
      "userId": "01608720095171318435"
     },
     "user_tz": 300
    },
    "id": "3Cxe6SVabFE3",
    "outputId": "ffbe1cab-62e8-494c-a0a1-4b6fc587ce04"
   },
   "outputs": [],
   "source": [
    "perf_df['ar_weight_train']=show_perf(ar_wei_model,'ar_model',data='train',batches=2048)\n",
    "perf_df['ar_weight_test']=show_perf(ar_wei_model,'ar_model',data='test',batches=2048)\n",
    "perf_df"
   ]
  },
  {
   "cell_type": "markdown",
   "metadata": {
    "colab_type": "text",
    "id": "aWU3EsR1j4hR"
   },
   "source": [
    "## Optimized model\n"
   ]
  },
  {
   "cell_type": "code",
   "execution_count": null,
   "metadata": {
    "colab": {},
    "colab_type": "code",
    "id": "AXf7AqPPb_3q"
   },
   "outputs": [],
   "source": [
    "es = tf.keras.callbacks.EarlyStopping(monitor='val_auc', \n",
    "    verbose=1,\n",
    "    patience=20,\n",
    "    mode='max',\n",
    "    restore_best_weights=True)"
   ]
  },
  {
   "cell_type": "code",
   "execution_count": null,
   "metadata": {
    "ExecuteTime": {
     "end_time": "2020-05-22T17:05:01.294537Z",
     "start_time": "2020-05-22T17:03:45.373620Z"
    },
    "colab": {
     "base_uri": "https://localhost:8080/",
     "height": 1000
    },
    "colab_type": "code",
    "executionInfo": {
     "elapsed": 403165,
     "status": "ok",
     "timestamp": 1591023807118,
     "user": {
      "displayName": "Duong Hung",
      "photoUrl": "https://lh3.googleusercontent.com/a-/AOh14Ggfgs4FqFN7Yq3pQXoVHeQcc9w9kDV_fAGoQ3Nx4nk=s64",
      "userId": "01608720095171318435"
     },
     "user_tz": 300
    },
    "id": "91RuQ-tob8Lt",
    "outputId": "f470c4cd-6f04-46e1-d555-5086721c82d1"
   },
   "outputs": [],
   "source": [
    "start_time=time.time()\n",
    "tf.random.set_seed(8)\n",
    "wei_model=create_model(nodes=5,lr=0.001)\n",
    "Monitor_wei = wei_model.fit(X_train,y_train, epochs=100,batch_size=4096, callbacks=[es],validation_data = (X_val,y_val),class_weight=class_weight, verbose = 1)\n",
    "end_time=time.time()\n",
    "print('Computation time: ', (end_time-start_time)/60, ' min')"
   ]
  },
  {
   "cell_type": "code",
   "execution_count": null,
   "metadata": {
    "ExecuteTime": {
     "end_time": "2020-05-22T17:05:02.014199Z",
     "start_time": "2020-05-22T17:05:01.298529Z"
    },
    "colab": {
     "base_uri": "https://localhost:8080/",
     "height": 534
    },
    "colab_type": "code",
    "executionInfo": {
     "elapsed": 403589,
     "status": "ok",
     "timestamp": 1591023807600,
     "user": {
      "displayName": "Duong Hung",
      "photoUrl": "https://lh3.googleusercontent.com/a-/AOh14Ggfgs4FqFN7Yq3pQXoVHeQcc9w9kDV_fAGoQ3Nx4nk=s64",
      "userId": "01608720095171318435"
     },
     "user_tz": 300
    },
    "id": "ePSVQYVNcLaa",
    "outputId": "9c584f05-57f8-41c3-941e-26a67a4cad91"
   },
   "outputs": [],
   "source": [
    "hist = pd.DataFrame(Monitor_wei.history)\n",
    "fig, axes = plt.subplots(nrows=1, ncols=2,figsize=(10,4),dpi=150)\n",
    "hist[['loss','val_loss']].plot(ax=axes[0])\n",
    "hist[['auc','val_auc']].plot(ax=axes[1])\n",
    "plt.show()"
   ]
  },
  {
   "cell_type": "code",
   "execution_count": null,
   "metadata": {
    "ExecuteTime": {
     "end_time": "2020-05-22T17:05:16.357291Z",
     "start_time": "2020-05-22T17:05:06.624938Z"
    },
    "colab": {},
    "colab_type": "code",
    "id": "Ijqe1QW9clTc"
   },
   "outputs": [],
   "source": [
    "y_pred_train_w = wei_model.predict(X_train)\n",
    "y_pred_test_w = wei_model.predict(X_test)"
   ]
  },
  {
   "cell_type": "code",
   "execution_count": null,
   "metadata": {
    "ExecuteTime": {
     "end_time": "2020-05-22T17:05:17.186773Z",
     "start_time": "2020-05-22T17:05:16.360789Z"
    },
    "colab": {
     "base_uri": "https://localhost:8080/",
     "height": 265
    },
    "colab_type": "code",
    "executionInfo": {
     "elapsed": 411722,
     "status": "ok",
     "timestamp": 1591023815774,
     "user": {
      "displayName": "Duong Hung",
      "photoUrl": "https://lh3.googleusercontent.com/a-/AOh14Ggfgs4FqFN7Yq3pQXoVHeQcc9w9kDV_fAGoQ3Nx4nk=s64",
      "userId": "01608720095171318435"
     },
     "user_tz": 300
    },
    "id": "3Z_deS8BkDnw",
    "outputId": "da26fda7-2013-4942-f620-c0435820b8ad"
   },
   "outputs": [],
   "source": [
    "plt.scatter(np.arange(len(y_test)),y_pred_test_w,s=0.1)\n",
    "plt.show()"
   ]
  },
  {
   "cell_type": "code",
   "execution_count": null,
   "metadata": {
    "ExecuteTime": {
     "end_time": "2020-05-22T17:05:17.692312Z",
     "start_time": "2020-05-22T17:05:17.189746Z"
    },
    "colab": {
     "base_uri": "https://localhost:8080/",
     "height": 329
    },
    "colab_type": "code",
    "executionInfo": {
     "elapsed": 412021,
     "status": "ok",
     "timestamp": 1591023816115,
     "user": {
      "displayName": "Duong Hung",
      "photoUrl": "https://lh3.googleusercontent.com/a-/AOh14Ggfgs4FqFN7Yq3pQXoVHeQcc9w9kDV_fAGoQ3Nx4nk=s64",
      "userId": "01608720095171318435"
     },
     "user_tz": 300
    },
    "id": "wjNO70TwkE5K",
    "outputId": "e1c0bfe0-343b-4db4-bf64-230a69b79fe1"
   },
   "outputs": [],
   "source": [
    "show_cm(y_test,y_pred_test_w)"
   ]
  },
  {
   "cell_type": "code",
   "execution_count": null,
   "metadata": {
    "ExecuteTime": {
     "end_time": "2020-05-22T17:05:18.359238Z",
     "start_time": "2020-05-22T17:05:17.696305Z"
    },
    "colab": {
     "base_uri": "https://localhost:8080/",
     "height": 382
    },
    "colab_type": "code",
    "executionInfo": {
     "elapsed": 414284,
     "status": "ok",
     "timestamp": 1591023818421,
     "user": {
      "displayName": "Duong Hung",
      "photoUrl": "https://lh3.googleusercontent.com/a-/AOh14Ggfgs4FqFN7Yq3pQXoVHeQcc9w9kDV_fAGoQ3Nx4nk=s64",
      "userId": "01608720095171318435"
     },
     "user_tz": 300
    },
    "id": "KBSFlnAmcLau",
    "outputId": "454e83e4-a49c-4495-d449-e873044d8611"
   },
   "outputs": [],
   "source": [
    "perf_df['op_weight_train']=show_perf(wei_model,'ar_model',data='train',batches=4096)\n",
    "perf_df['op_weight_test']=show_perf(wei_model,'ar_model',data='test',batches=4096)\n",
    "perf_df"
   ]
  },
  {
   "cell_type": "code",
   "execution_count": null,
   "metadata": {
    "ExecuteTime": {
     "end_time": "2020-05-22T17:05:18.942410Z",
     "start_time": "2020-05-22T17:05:18.362230Z"
    },
    "colab": {
     "base_uri": "https://localhost:8080/",
     "height": 499
    },
    "colab_type": "code",
    "executionInfo": {
     "elapsed": 414851,
     "status": "ok",
     "timestamp": 1591023819022,
     "user": {
      "displayName": "Duong Hung",
      "photoUrl": "https://lh3.googleusercontent.com/a-/AOh14Ggfgs4FqFN7Yq3pQXoVHeQcc9w9kDV_fAGoQ3Nx4nk=s64",
      "userId": "01608720095171318435"
     },
     "user_tz": 300
    },
    "id": "201kC-tpkLlf",
    "outputId": "bc04a54d-b263-4f43-9ea2-24d897663f7e"
   },
   "outputs": [],
   "source": [
    "plt.figure(figsize=(8,8))\n",
    "plot_roc('Ar weight - train',y_train,y_pred_train_ar_wei)\n",
    "plot_roc('Ar weight - test',y_test,y_pred_test_ar_wei,linestyle='dashed')\n",
    "plot_roc('Weight model - train',y_train,y_pred_train_w)\n",
    "plot_roc('Weight model - test',y_test,y_pred_test_w,linestyle='dashed')\n",
    "plt.legend()\n",
    "plt.show()"
   ]
  },
  {
   "cell_type": "markdown",
   "metadata": {
    "colab_type": "text",
    "id": "oburRCjAme_d"
   },
   "source": [
    "# Resampling"
   ]
  },
  {
   "cell_type": "markdown",
   "metadata": {
    "colab_type": "text",
    "id": "PeggOjF5cLa2"
   },
   "source": [
    "## Preparing new dataset"
   ]
  },
  {
   "cell_type": "markdown",
   "metadata": {
    "colab_type": "text",
    "id": "-D3q6KPRuIUn"
   },
   "source": [
    "### Random oversampling\n"
   ]
  },
  {
   "cell_type": "code",
   "execution_count": null,
   "metadata": {
    "ExecuteTime": {
     "end_time": "2020-05-22T17:05:19.293305Z",
     "start_time": "2020-05-22T17:05:18.945404Z"
    },
    "colab": {},
    "colab_type": "code",
    "id": "mgtHEOkBmh6O"
   },
   "outputs": [],
   "source": [
    "def oversamp(X_dat=X_train,y_dat=y_train):\n",
    "  # Seperate positive and negative samples\n",
    "  bool_y_dat=y_dat != 0\n",
    "  bool_y_dat=np.reshape(bool_y_dat, (len(bool_y_dat),))\n",
    "  pos_X = X_dat[bool_y_dat]\n",
    "  neg_X = X_dat[~bool_y_dat]\n",
    "  pos_y = y_dat[bool_y_dat]\n",
    "  neg_y = y_dat[~bool_y_dat]\n",
    "  #Oversampling for minority samples\n",
    "  ids = np.arange(len(pos_X))\n",
    "  choices = np.random.choice(ids, len(neg_X))\n",
    "  res_pos_X = pos_X[choices]\n",
    "  res_pos_y = pos_y[choices]\n",
    "  \n",
    "  # Concatenate\n",
    "  X_res = np.concatenate([res_pos_X, neg_X], axis=0)\n",
    "  y_res = np.concatenate([res_pos_y, neg_y], axis=0)\n",
    "\n",
    "  order = np.arange(len(y_res))\n",
    "  np.random.shuffle(order)\n",
    "  X_res= X_res[order]\n",
    "  y_res = y_res[order]\n",
    "  return X_res,y_res\n"
   ]
  },
  {
   "cell_type": "code",
   "execution_count": null,
   "metadata": {
    "ExecuteTime": {
     "end_time": "2020-05-22T17:05:19.567298Z",
     "start_time": "2020-05-22T17:05:19.296307Z"
    },
    "colab": {},
    "colab_type": "code",
    "id": "EdUkSknQcLa9"
   },
   "outputs": [],
   "source": [
    "X_ros,y_ros=oversamp()"
   ]
  },
  {
   "cell_type": "code",
   "execution_count": null,
   "metadata": {
    "ExecuteTime": {
     "end_time": "2020-05-22T17:05:21.033572Z",
     "start_time": "2020-05-22T17:05:19.570293Z"
    },
    "colab": {
     "base_uri": "https://localhost:8080/",
     "height": 34
    },
    "colab_type": "code",
    "executionInfo": {
     "elapsed": 416798,
     "status": "ok",
     "timestamp": 1591023821020,
     "user": {
      "displayName": "Duong Hung",
      "photoUrl": "https://lh3.googleusercontent.com/a-/AOh14Ggfgs4FqFN7Yq3pQXoVHeQcc9w9kDV_fAGoQ3Nx4nk=s64",
      "userId": "01608720095171318435"
     },
     "user_tz": 300
    },
    "id": "VK_vBg_ScLbA",
    "outputId": "321806f8-1b6a-42e0-d7aa-b5b87dca9a7e"
   },
   "outputs": [],
   "source": [
    "X_ros.shape"
   ]
  },
  {
   "cell_type": "code",
   "execution_count": null,
   "metadata": {
    "ExecuteTime": {
     "end_time": "2020-05-22T17:05:21.045049Z",
     "start_time": "2020-05-22T17:05:21.037566Z"
    },
    "colab": {
     "base_uri": "https://localhost:8080/",
     "height": 85
    },
    "colab_type": "code",
    "executionInfo": {
     "elapsed": 416773,
     "status": "ok",
     "timestamp": 1591023821022,
     "user": {
      "displayName": "Duong Hung",
      "photoUrl": "https://lh3.googleusercontent.com/a-/AOh14Ggfgs4FqFN7Yq3pQXoVHeQcc9w9kDV_fAGoQ3Nx4nk=s64",
      "userId": "01608720095171318435"
     },
     "user_tz": 300
    },
    "id": "o8aFBnREcLbC",
    "outputId": "4d4c96b7-8310-44e3-af6f-4cfc73cfa4e4"
   },
   "outputs": [],
   "source": [
    "new_pos=y_ros.sum()\n",
    "new_neg=len(y_ros)-new_pos\n",
    "new_total = new_neg + new_pos\n",
    "print('Examples:\\n    Total: {}\\n    Positive: {} ({:.2f}% of total)\\n'.format(new_total, new_pos, 100 * new_pos / new_total))"
   ]
  },
  {
   "cell_type": "markdown",
   "metadata": {
    "colab_type": "text",
    "id": "yA2m3ULWuhHX"
   },
   "source": [
    "### SMOTE\n"
   ]
  },
  {
   "cell_type": "code",
   "execution_count": null,
   "metadata": {
    "colab": {
     "base_uri": "https://localhost:8080/",
     "height": 105
    },
    "colab_type": "code",
    "executionInfo": {
     "elapsed": 417180,
     "status": "ok",
     "timestamp": 1591023821458,
     "user": {
      "displayName": "Duong Hung",
      "photoUrl": "https://lh3.googleusercontent.com/a-/AOh14Ggfgs4FqFN7Yq3pQXoVHeQcc9w9kDV_fAGoQ3Nx4nk=s64",
      "userId": "01608720095171318435"
     },
     "user_tz": 300
    },
    "id": "wUixinsI0i9F",
    "outputId": "2a19b0c6-5e8b-4607-b33c-423a51cb8b9d"
   },
   "outputs": [],
   "source": [
    "from collections import Counter\n",
    "from imblearn.over_sampling import SMOTE,BorderlineSMOTE,ADASYN"
   ]
  },
  {
   "cell_type": "code",
   "execution_count": null,
   "metadata": {
    "ExecuteTime": {
     "end_time": "2020-05-22T17:06:39.548478Z",
     "start_time": "2020-05-22T17:06:32.437822Z"
    },
    "colab": {
     "base_uri": "https://localhost:8080/",
     "height": 122
    },
    "colab_type": "code",
    "executionInfo": {
     "elapsed": 419992,
     "status": "ok",
     "timestamp": 1591023824298,
     "user": {
      "displayName": "Duong Hung",
      "photoUrl": "https://lh3.googleusercontent.com/a-/AOh14Ggfgs4FqFN7Yq3pQXoVHeQcc9w9kDV_fAGoQ3Nx4nk=s64",
      "userId": "01608720095171318435"
     },
     "user_tz": 300
    },
    "id": "HTC5wo3dcLbW",
    "outputId": "97700493-3f1a-49cb-cfc4-5b64b73c6ff2"
   },
   "outputs": [],
   "source": [
    "sm = SMOTE(random_state=42)\n",
    "X_sm, y_sm = sm.fit_resample(X_train, y_train)\n",
    "print('Resampled dataset shape %s' % Counter(y_sm))"
   ]
  },
  {
   "cell_type": "markdown",
   "metadata": {
    "colab_type": "text",
    "id": "T767kj7gu-YP"
   },
   "source": [
    "### BorderlineSMOTE\n"
   ]
  },
  {
   "cell_type": "code",
   "execution_count": null,
   "metadata": {
    "ExecuteTime": {
     "end_time": "2020-05-22T18:22:53.702867Z",
     "start_time": "2020-05-22T18:06:50.146381Z"
    },
    "colab": {
     "base_uri": "https://localhost:8080/",
     "height": 190
    },
    "colab_type": "code",
    "executionInfo": {
     "elapsed": 1103148,
     "status": "ok",
     "timestamp": 1591024507485,
     "user": {
      "displayName": "Duong Hung",
      "photoUrl": "https://lh3.googleusercontent.com/a-/AOh14Ggfgs4FqFN7Yq3pQXoVHeQcc9w9kDV_fAGoQ3Nx4nk=s64",
      "userId": "01608720095171318435"
     },
     "user_tz": 300
    },
    "id": "WFRZkjZscLbp",
    "outputId": "30feeda6-4eab-4bbd-ceef-7408bb3d93ed"
   },
   "outputs": [],
   "source": [
    "bsm = BorderlineSMOTE(random_state=42)\n",
    "X_bsm, y_bsm = bsm.fit_resample(X_train, y_train)\n",
    "print('Resampled dataset shape %s' % Counter(y_bsm))"
   ]
  },
  {
   "cell_type": "markdown",
   "metadata": {
    "colab_type": "text",
    "id": "tn68qorKvWVn"
   },
   "source": [
    "### ADASYN\n"
   ]
  },
  {
   "cell_type": "code",
   "execution_count": null,
   "metadata": {
    "ExecuteTime": {
     "end_time": "2020-05-22T18:39:54.283398Z",
     "start_time": "2020-05-22T18:24:12.169823Z"
    },
    "colab": {
     "base_uri": "https://localhost:8080/",
     "height": 122
    },
    "colab_type": "code",
    "executionInfo": {
     "elapsed": 1812386,
     "status": "ok",
     "timestamp": 1591025216753,
     "user": {
      "displayName": "Duong Hung",
      "photoUrl": "https://lh3.googleusercontent.com/a-/AOh14Ggfgs4FqFN7Yq3pQXoVHeQcc9w9kDV_fAGoQ3Nx4nk=s64",
      "userId": "01608720095171318435"
     },
     "user_tz": 300
    },
    "id": "275gXgr_cLcH",
    "outputId": "671019f7-593d-4144-a4b8-7e50e638166b"
   },
   "outputs": [],
   "source": [
    "ada = ADASYN(random_state=42)\n",
    "X_ada, y_ada = ada.fit_resample(X_train, y_train)\n",
    "print('Resampled dataset shape %s' % Counter(y_ada))"
   ]
  },
  {
   "cell_type": "markdown",
   "metadata": {
    "colab_type": "text",
    "id": "r0nf4rfGvc37"
   },
   "source": [
    "### Visualization\n"
   ]
  },
  {
   "cell_type": "code",
   "execution_count": null,
   "metadata": {
    "colab": {},
    "colab_type": "code",
    "id": "zZNLnZpTfMti"
   },
   "outputs": [],
   "source": [
    "# Visual\n",
    "from sklearn.decomposition import PCA"
   ]
  },
  {
   "cell_type": "code",
   "execution_count": null,
   "metadata": {
    "ExecuteTime": {
     "end_time": "2020-05-22T20:16:10.644518Z",
     "start_time": "2020-05-22T20:15:29.306415Z"
    },
    "colab": {},
    "colab_type": "code",
    "id": "BxrNgRZrcLcL"
   },
   "outputs": [],
   "source": [
    "def plot_pca(name,X_dat,y_dat,dot_size):\n",
    "  pca = PCA(n_components=2)\n",
    "  X_dat_pca = pca.fit_transform(X_dat)\n",
    "  N=y_dat.shape[0]\n",
    "  mask=y_dat.reshape(N)==1\n",
    "\n",
    "  plt.scatter(X_dat_pca[~mask,0],X_dat_pca[~mask,1],s=dot_size,label='Not fatal')\n",
    "  plt.scatter(X_dat_pca[mask,0],X_dat_pca[mask,1],s=dot_size,label='Fatal')\n",
    "  plt.xlabel('PC1')\n",
    "  plt.ylabel('PC2')\n",
    "  plt.title(name)\n",
    "  plt.legend()"
   ]
  },
  {
   "cell_type": "code",
   "execution_count": null,
   "metadata": {
    "colab": {
     "base_uri": "https://localhost:8080/",
     "height": 1000
    },
    "colab_type": "code",
    "executionInfo": {
     "elapsed": 1867686,
     "status": "ok",
     "timestamp": 1591025272098,
     "user": {
      "displayName": "Duong Hung",
      "photoUrl": "https://lh3.googleusercontent.com/a-/AOh14Ggfgs4FqFN7Yq3pQXoVHeQcc9w9kDV_fAGoQ3Nx4nk=s64",
      "userId": "01608720095171318435"
     },
     "user_tz": 300
    },
    "id": "8xC2jdWC3CC7",
    "outputId": "ba4561fc-6220-4303-faab-e9e5eeb7bc18"
   },
   "outputs": [],
   "source": [
    "plt.figure(figsize=(10,10),dpi=150)\n",
    "plt.subplot(2, 2, 1)\n",
    "plot_pca('Random Oversampling',X_ros,y_ros,0.5)\n",
    "plt.subplot(2, 2, 2)\n",
    "plot_pca('SMOTE',X_sm,y_sm,0.5)\n",
    "plt.subplot(2, 2, 3)\n",
    "plot_pca('Borderline SMOTE',X_bsm,y_bsm,0.5)\n",
    "plt.subplot(2, 2, 4)\n",
    "plot_pca('ADASYN',X_ada,y_ada,0.5)\n",
    "plt.savefig('pca_visualization.png')\n",
    "plt.show()"
   ]
  },
  {
   "cell_type": "markdown",
   "metadata": {
    "colab_type": "text",
    "id": "rTEqp70cetsc"
   },
   "source": [
    "# Run resamling models\n",
    "## Run arbitrary model\n",
    "\n"
   ]
  },
  {
   "cell_type": "code",
   "execution_count": null,
   "metadata": {
    "colab": {},
    "colab_type": "code",
    "id": "nSGOvc9n1wgN"
   },
   "outputs": [],
   "source": [
    "es = tf.keras.callbacks.EarlyStopping(monitor='val_auc', \n",
    "    verbose=1,\n",
    "    patience=10,\n",
    "    mode='max',\n",
    "    restore_best_weights=True)"
   ]
  },
  {
   "cell_type": "code",
   "execution_count": null,
   "metadata": {
    "colab": {},
    "colab_type": "code",
    "id": "9uqaFseJnKIy"
   },
   "outputs": [],
   "source": [
    "bat_size=4096\n",
    "h=20\n",
    "best_lr=0.001"
   ]
  },
  {
   "cell_type": "code",
   "execution_count": null,
   "metadata": {
    "ExecuteTime": {
     "end_time": "2020-05-22T17:06:19.525334Z",
     "start_time": "2020-05-22T17:05:21.068007Z"
    },
    "colab": {
     "base_uri": "https://localhost:8080/",
     "height": 496
    },
    "colab_type": "code",
    "executionInfo": {
     "elapsed": 51247,
     "status": "ok",
     "timestamp": 1591031345663,
     "user": {
      "displayName": "Duong Hung",
      "photoUrl": "https://lh3.googleusercontent.com/a-/AOh14Ggfgs4FqFN7Yq3pQXoVHeQcc9w9kDV_fAGoQ3Nx4nk=s64",
      "userId": "01608720095171318435"
     },
     "user_tz": 300
    },
    "id": "KSU14voOcLbH",
    "outputId": "f6caab6b-34d2-45b4-ff8f-72b0bbbf612a",
    "scrolled": true
   },
   "outputs": [],
   "source": [
    "start_time=time.time()\n",
    "tf.random.set_seed(8)\n",
    "ros_model=create_model(nodes=h,lr=best_lr)\n",
    "Monitor_ros = ros_model.fit(X_ros,y_ros, \n",
    "                        epochs=100,batch_size=bat_size, \n",
    "                        callbacks=[es],\n",
    "                        validation_data = (X_val,y_val),\n",
    "                        verbose = 1)\n",
    "end_time=time.time()\n",
    "print('Computation time: ', (end_time-start_time)/60, ' min')"
   ]
  },
  {
   "cell_type": "code",
   "execution_count": null,
   "metadata": {
    "colab": {
     "base_uri": "https://localhost:8080/",
     "height": 540
    },
    "colab_type": "code",
    "executionInfo": {
     "elapsed": 51748,
     "status": "ok",
     "timestamp": 1591031346234,
     "user": {
      "displayName": "Duong Hung",
      "photoUrl": "https://lh3.googleusercontent.com/a-/AOh14Ggfgs4FqFN7Yq3pQXoVHeQcc9w9kDV_fAGoQ3Nx4nk=s64",
      "userId": "01608720095171318435"
     },
     "user_tz": 300
    },
    "id": "mIvhfuBYbm4m",
    "outputId": "84809f32-f105-4923-a058-9ecd00b1b90f"
   },
   "outputs": [],
   "source": [
    "hist = pd.DataFrame(Monitor_ros.history)\n",
    "fig, axes = plt.subplots(nrows=1, ncols=2,figsize=(10,4),dpi=150)\n",
    "hist[['loss','val_loss']].plot(ax=axes[0])\n",
    "hist[['auc','val_auc']].plot(ax=axes[1])\n",
    "plt.show()"
   ]
  },
  {
   "cell_type": "code",
   "execution_count": null,
   "metadata": {
    "ExecuteTime": {
     "end_time": "2020-05-22T17:06:21.108390Z",
     "start_time": "2020-05-22T17:06:19.528828Z"
    },
    "colab": {},
    "colab_type": "code",
    "id": "Bl1r0EQCcLbJ"
   },
   "outputs": [],
   "source": []
  },
  {
   "cell_type": "code",
   "execution_count": null,
   "metadata": {
    "ExecuteTime": {
     "end_time": "2020-05-22T17:06:31.353851Z",
     "start_time": "2020-05-22T17:06:21.112382Z"
    },
    "colab": {},
    "colab_type": "code",
    "id": "b_MUymFQcLbL"
   },
   "outputs": [],
   "source": [
    "y_pred_train_r = ros_model.predict(X_train)\n",
    "y_pred_test_r = ros_model.predict(X_test)"
   ]
  },
  {
   "cell_type": "code",
   "execution_count": null,
   "metadata": {
    "ExecuteTime": {
     "end_time": "2020-05-22T17:06:31.867381Z",
     "start_time": "2020-05-22T17:06:31.357330Z"
    },
    "colab": {
     "base_uri": "https://localhost:8080/",
     "height": 329
    },
    "colab_type": "code",
    "executionInfo": {
     "elapsed": 62331,
     "status": "ok",
     "timestamp": 1591031357055,
     "user": {
      "displayName": "Duong Hung",
      "photoUrl": "https://lh3.googleusercontent.com/a-/AOh14Ggfgs4FqFN7Yq3pQXoVHeQcc9w9kDV_fAGoQ3Nx4nk=s64",
      "userId": "01608720095171318435"
     },
     "user_tz": 300
    },
    "id": "CZv_FPsecLbN",
    "outputId": "03940a73-3190-49d5-8bf4-3e786cce56f0"
   },
   "outputs": [],
   "source": [
    "show_cm(y_test,y_pred_test_r)"
   ]
  },
  {
   "cell_type": "code",
   "execution_count": null,
   "metadata": {
    "ExecuteTime": {
     "end_time": "2020-05-22T17:06:32.423847Z",
     "start_time": "2020-05-22T17:06:31.870375Z"
    },
    "colab": {
     "base_uri": "https://localhost:8080/",
     "height": 499
    },
    "colab_type": "code",
    "executionInfo": {
     "elapsed": 62792,
     "status": "ok",
     "timestamp": 1591031357559,
     "user": {
      "displayName": "Duong Hung",
      "photoUrl": "https://lh3.googleusercontent.com/a-/AOh14Ggfgs4FqFN7Yq3pQXoVHeQcc9w9kDV_fAGoQ3Nx4nk=s64",
      "userId": "01608720095171318435"
     },
     "user_tz": 300
    },
    "id": "GlQbJletcLbT",
    "outputId": "5be38321-f420-42dc-c2d2-0dd36424fbef"
   },
   "outputs": [],
   "source": [
    "plt.figure(figsize=(8,8))\n",
    "plot_roc('Weight model - train',y_train,y_pred_train_r)\n",
    "plot_roc('Weight model - test',y_test,y_pred_test_r)\n",
    "plot_roc('Ar weight - train',y_train,y_pred_train_ar_wei)\n",
    "plot_roc('Ar weight - test',y_test,y_pred_test_ar_wei)\n",
    "plt.legend()\n",
    "plt.show()"
   ]
  },
  {
   "cell_type": "markdown",
   "metadata": {
    "colab_type": "text",
    "id": "gZX9k7g2cLbV"
   },
   "source": [
    "# SMOTE"
   ]
  },
  {
   "cell_type": "code",
   "execution_count": null,
   "metadata": {
    "ExecuteTime": {
     "end_time": "2020-05-22T17:07:40.676579Z",
     "start_time": "2020-05-22T17:06:40.478260Z"
    },
    "colab": {
     "base_uri": "https://localhost:8080/",
     "height": 496
    },
    "colab_type": "code",
    "executionInfo": {
     "elapsed": 112314,
     "status": "ok",
     "timestamp": 1591031407116,
     "user": {
      "displayName": "Duong Hung",
      "photoUrl": "https://lh3.googleusercontent.com/a-/AOh14Ggfgs4FqFN7Yq3pQXoVHeQcc9w9kDV_fAGoQ3Nx4nk=s64",
      "userId": "01608720095171318435"
     },
     "user_tz": 300
    },
    "id": "qUfHlXCJcLbY",
    "outputId": "b3dde556-1bd7-4157-90de-49de4807b9af",
    "scrolled": false
   },
   "outputs": [],
   "source": [
    "start_time=time.time()\n",
    "tf.random.set_seed(8)\n",
    "sm_model=create_model(nodes=h,lr=best_lr)\n",
    "Monitor_sm = sm_model.fit(X_sm,y_sm, \n",
    "                        epochs=100,batch_size=bat_size, \n",
    "                        callbacks=[es],\n",
    "                        validation_data = (X_val,y_val),\n",
    "                        verbose = 1)\n",
    "end_time=time.time()\n",
    "print('Computation time: ', (end_time-start_time)/60, ' min')"
   ]
  },
  {
   "cell_type": "code",
   "execution_count": null,
   "metadata": {
    "colab": {
     "base_uri": "https://localhost:8080/",
     "height": 534
    },
    "colab_type": "code",
    "executionInfo": {
     "elapsed": 113006,
     "status": "ok",
     "timestamp": 1591031407843,
     "user": {
      "displayName": "Duong Hung",
      "photoUrl": "https://lh3.googleusercontent.com/a-/AOh14Ggfgs4FqFN7Yq3pQXoVHeQcc9w9kDV_fAGoQ3Nx4nk=s64",
      "userId": "01608720095171318435"
     },
     "user_tz": 300
    },
    "id": "X0ZXONhrb29M",
    "outputId": "ef1f930d-c665-43ab-8953-0a2b18eb01c3"
   },
   "outputs": [],
   "source": [
    "hist = pd.DataFrame(Monitor_sm.history)\n",
    "fig, axes = plt.subplots(nrows=1, ncols=2,figsize=(10,4),dpi=150)\n",
    "hist[['loss','val_loss']].plot(ax=axes[0])\n",
    "hist[['auc','val_auc']].plot(ax=axes[1])\n",
    "plt.show()"
   ]
  },
  {
   "cell_type": "code",
   "execution_count": null,
   "metadata": {
    "ExecuteTime": {
     "end_time": "2020-05-22T17:07:51.982822Z",
     "start_time": "2020-05-22T17:07:41.475593Z"
    },
    "colab": {},
    "colab_type": "code",
    "id": "9PpeeKj3cLbe"
   },
   "outputs": [],
   "source": [
    "y_pred_train_sm = sm_model.predict(X_train)\n",
    "y_pred_test_sm = sm_model.predict(X_test)"
   ]
  },
  {
   "cell_type": "code",
   "execution_count": null,
   "metadata": {
    "ExecuteTime": {
     "end_time": "2020-05-22T17:07:52.531368Z",
     "start_time": "2020-05-22T17:07:51.986773Z"
    },
    "colab": {
     "base_uri": "https://localhost:8080/",
     "height": 329
    },
    "colab_type": "code",
    "executionInfo": {
     "elapsed": 120773,
     "status": "ok",
     "timestamp": 1591031415684,
     "user": {
      "displayName": "Duong Hung",
      "photoUrl": "https://lh3.googleusercontent.com/a-/AOh14Ggfgs4FqFN7Yq3pQXoVHeQcc9w9kDV_fAGoQ3Nx4nk=s64",
      "userId": "01608720095171318435"
     },
     "user_tz": 300
    },
    "id": "WGxECyXccLbg",
    "outputId": "129d7049-ec04-44cc-8781-5d6346fdf6d8"
   },
   "outputs": [],
   "source": [
    "show_cm(y_test,y_pred_test_sm)"
   ]
  },
  {
   "cell_type": "code",
   "execution_count": null,
   "metadata": {
    "ExecuteTime": {
     "end_time": "2020-05-22T17:07:52.992341Z",
     "start_time": "2020-05-22T17:07:52.535340Z"
    },
    "colab": {
     "base_uri": "https://localhost:8080/",
     "height": 499
    },
    "colab_type": "code",
    "executionInfo": {
     "elapsed": 121176,
     "status": "ok",
     "timestamp": 1591031416147,
     "user": {
      "displayName": "Duong Hung",
      "photoUrl": "https://lh3.googleusercontent.com/a-/AOh14Ggfgs4FqFN7Yq3pQXoVHeQcc9w9kDV_fAGoQ3Nx4nk=s64",
      "userId": "01608720095171318435"
     },
     "user_tz": 300
    },
    "id": "c5Zryp1ScLbk",
    "outputId": "6097efce-3d38-4d08-e657-fcc18faa75c8",
    "scrolled": false
   },
   "outputs": [],
   "source": [
    "plt.figure(figsize=(8,8))\n",
    "plot_roc('SMOTE model - train',y_train,y_pred_train_sm)\n",
    "plot_roc('SMOTE model - test',y_test,y_pred_test_sm)\n",
    "plt.legend()\n",
    "plt.show()"
   ]
  },
  {
   "cell_type": "markdown",
   "metadata": {
    "colab_type": "text",
    "id": "buoB1Z48cLbo"
   },
   "source": [
    "# BorderlineSMOTE\n"
   ]
  },
  {
   "cell_type": "code",
   "execution_count": null,
   "metadata": {
    "ExecuteTime": {
     "end_time": "2020-05-22T18:23:58.867514Z",
     "start_time": "2020-05-22T18:22:53.706859Z"
    },
    "colab": {
     "base_uri": "https://localhost:8080/",
     "height": 564
    },
    "colab_type": "code",
    "executionInfo": {
     "elapsed": 177815,
     "status": "ok",
     "timestamp": 1591031472886,
     "user": {
      "displayName": "Duong Hung",
      "photoUrl": "https://lh3.googleusercontent.com/a-/AOh14Ggfgs4FqFN7Yq3pQXoVHeQcc9w9kDV_fAGoQ3Nx4nk=s64",
      "userId": "01608720095171318435"
     },
     "user_tz": 300
    },
    "id": "OCgZ5uUgcLb8",
    "outputId": "eaff54e5-5900-4de1-b748-be9531939a4e"
   },
   "outputs": [],
   "source": [
    "start_time=time.time()\n",
    "tf.random.set_seed(8)\n",
    "bsm_model=create_model(nodes=h,lr=best_lr)\n",
    "Monitor_bsm = bsm_model.fit(X_bsm,y_bsm, \n",
    "                        epochs=100,batch_size=bat_size, \n",
    "                        callbacks=[es],\n",
    "                        validation_data = (X_val,y_val),\n",
    "                        verbose = 1)\n",
    "end_time=time.time()\n",
    "print('Computation time: ', (end_time-start_time)/60, ' min')"
   ]
  },
  {
   "cell_type": "code",
   "execution_count": null,
   "metadata": {
    "colab": {
     "base_uri": "https://localhost:8080/",
     "height": 534
    },
    "colab_type": "code",
    "executionInfo": {
     "elapsed": 178271,
     "status": "ok",
     "timestamp": 1591031473377,
     "user": {
      "displayName": "Duong Hung",
      "photoUrl": "https://lh3.googleusercontent.com/a-/AOh14Ggfgs4FqFN7Yq3pQXoVHeQcc9w9kDV_fAGoQ3Nx4nk=s64",
      "userId": "01608720095171318435"
     },
     "user_tz": 300
    },
    "id": "EsbHyd10b7tb",
    "outputId": "f17ae689-ab57-465e-f50e-85cc5bc464cb"
   },
   "outputs": [],
   "source": [
    "hist = pd.DataFrame(Monitor_bsm.history)\n",
    "fig, axes = plt.subplots(nrows=1, ncols=2,figsize=(10,4),dpi=150)\n",
    "hist[['loss','val_loss']].plot(ax=axes[0])\n",
    "hist[['auc','val_auc']].plot(ax=axes[1])\n",
    "plt.show()"
   ]
  },
  {
   "cell_type": "code",
   "execution_count": null,
   "metadata": {
    "ExecuteTime": {
     "end_time": "2020-05-22T18:24:10.924788Z",
     "start_time": "2020-05-22T18:24:00.029354Z"
    },
    "colab": {},
    "colab_type": "code",
    "id": "aP-SIyTXcLcB"
   },
   "outputs": [],
   "source": [
    "y_pred_train_bsm = bsm_model.predict(X_train)\n",
    "y_pred_test_bsm = bsm_model.predict(X_test)"
   ]
  },
  {
   "cell_type": "code",
   "execution_count": null,
   "metadata": {
    "ExecuteTime": {
     "end_time": "2020-05-22T18:24:11.605870Z",
     "start_time": "2020-05-22T18:24:10.928240Z"
    },
    "colab": {
     "base_uri": "https://localhost:8080/",
     "height": 329
    },
    "colab_type": "code",
    "executionInfo": {
     "elapsed": 185896,
     "status": "ok",
     "timestamp": 1591031481087,
     "user": {
      "displayName": "Duong Hung",
      "photoUrl": "https://lh3.googleusercontent.com/a-/AOh14Ggfgs4FqFN7Yq3pQXoVHeQcc9w9kDV_fAGoQ3Nx4nk=s64",
      "userId": "01608720095171318435"
     },
     "user_tz": 300
    },
    "id": "k6nWMK1dcLcD",
    "outputId": "2de63b05-5b67-4929-e821-f0de006046d7"
   },
   "outputs": [],
   "source": [
    "show_cm(y_test,y_pred_test_bsm)"
   ]
  },
  {
   "cell_type": "code",
   "execution_count": null,
   "metadata": {
    "ExecuteTime": {
     "end_time": "2020-05-22T18:24:12.166831Z",
     "start_time": "2020-05-22T18:24:11.609863Z"
    },
    "colab": {
     "base_uri": "https://localhost:8080/",
     "height": 499
    },
    "colab_type": "code",
    "executionInfo": {
     "elapsed": 186602,
     "status": "ok",
     "timestamp": 1591031481830,
     "user": {
      "displayName": "Duong Hung",
      "photoUrl": "https://lh3.googleusercontent.com/a-/AOh14Ggfgs4FqFN7Yq3pQXoVHeQcc9w9kDV_fAGoQ3Nx4nk=s64",
      "userId": "01608720095171318435"
     },
     "user_tz": 300
    },
    "id": "Ju0qTtsCcLcF",
    "outputId": "b1715651-fab6-4e55-efc1-b11e2a6f7a9f",
    "scrolled": false
   },
   "outputs": [],
   "source": [
    "plt.figure(figsize=(8,8))\n",
    "plot_roc('Borderline SMOTE model - train',y_train,y_pred_train_bsm)\n",
    "plot_roc('Borderline SMOTE model - test',y_test,y_pred_test_bsm)\n",
    "plt.legend()\n",
    "plt.show()"
   ]
  },
  {
   "cell_type": "code",
   "execution_count": null,
   "metadata": {
    "colab": {},
    "colab_type": "code",
    "id": "Exwu6yMdorGv"
   },
   "outputs": [],
   "source": []
  },
  {
   "cell_type": "markdown",
   "metadata": {
    "colab_type": "text",
    "id": "PEIyRUzUcLcH"
   },
   "source": [
    "# ADASYN"
   ]
  },
  {
   "cell_type": "code",
   "execution_count": null,
   "metadata": {
    "ExecuteTime": {
     "end_time": "2020-05-22T20:16:11.657521Z",
     "start_time": "2020-05-22T20:16:10.668453Z"
    },
    "colab": {},
    "colab_type": "code",
    "id": "8II_WEHXcLcN"
   },
   "outputs": [],
   "source": [
    "#ada_df=pd.DataFrame(ada_df)\n",
    "#ada_df.head()"
   ]
  },
  {
   "cell_type": "code",
   "execution_count": null,
   "metadata": {
    "ExecuteTime": {
     "end_time": "2020-05-22T20:19:36.135853Z",
     "start_time": "2020-05-22T20:16:11.684451Z"
    },
    "colab": {},
    "colab_type": "code",
    "id": "74xDrD37cLcP"
   },
   "outputs": [],
   "source": [
    "#compression_opts = dict(method='zip',\n",
    "                #        archive_name='ada.csv')  \n",
    "#ada_df.round(6).to_csv('ada.zip', index=False)\n",
    "          #compression=compression_opts) "
   ]
  },
  {
   "cell_type": "code",
   "execution_count": null,
   "metadata": {
    "ExecuteTime": {
     "end_time": "2020-05-22T18:40:57.643899Z",
     "start_time": "2020-05-22T18:39:54.287391Z"
    },
    "colab": {
     "base_uri": "https://localhost:8080/",
     "height": 496
    },
    "colab_type": "code",
    "executionInfo": {
     "elapsed": 235350,
     "status": "ok",
     "timestamp": 1591031530700,
     "user": {
      "displayName": "Duong Hung",
      "photoUrl": "https://lh3.googleusercontent.com/a-/AOh14Ggfgs4FqFN7Yq3pQXoVHeQcc9w9kDV_fAGoQ3Nx4nk=s64",
      "userId": "01608720095171318435"
     },
     "user_tz": 300
    },
    "id": "oOpNQdgmcLcR",
    "outputId": "e5c050ae-972e-4ead-9d6e-b85c539d5a8a",
    "scrolled": true
   },
   "outputs": [],
   "source": [
    "start_time=time.time()\n",
    "tf.random.set_seed(8)\n",
    "ada_model=create_model(nodes=h,lr=best_lr)\n",
    "Monitor_ada = ada_model.fit(X_ada,y_ada, \n",
    "                        epochs=100,batch_size=bat_size, \n",
    "                        callbacks=[es],\n",
    "                        validation_data = (X_val,y_val),\n",
    "                        verbose = 1)\n",
    "end_time=time.time()\n",
    "print('Computation time: ', (end_time-start_time)/60, ' min')"
   ]
  },
  {
   "cell_type": "code",
   "execution_count": null,
   "metadata": {
    "colab": {
     "base_uri": "https://localhost:8080/",
     "height": 534
    },
    "colab_type": "code",
    "executionInfo": {
     "elapsed": 236280,
     "status": "ok",
     "timestamp": 1591031531660,
     "user": {
      "displayName": "Duong Hung",
      "photoUrl": "https://lh3.googleusercontent.com/a-/AOh14Ggfgs4FqFN7Yq3pQXoVHeQcc9w9kDV_fAGoQ3Nx4nk=s64",
      "userId": "01608720095171318435"
     },
     "user_tz": 300
    },
    "id": "wzSXFv11cC-f",
    "outputId": "1064925f-11a5-4669-c02a-995092b39afa"
   },
   "outputs": [],
   "source": [
    "hist = pd.DataFrame(Monitor_ada.history)\n",
    "fig, axes = plt.subplots(nrows=1, ncols=2,figsize=(10,4),dpi=150)\n",
    "hist[['loss','val_loss']].plot(ax=axes[0])\n",
    "hist[['auc','val_auc']].plot(ax=axes[1])\n",
    "plt.show()"
   ]
  },
  {
   "cell_type": "code",
   "execution_count": null,
   "metadata": {},
   "outputs": [],
   "source": [
    "monitors=[Monitor_ar, Monitor_wei, Monitor_ros,Monitor_sm,Monitor_bsm,Monitor_ada]\n",
    "models=['Arbitrary','Optimized weight', 'Random oversampling', 'SMOTE', 'BorderlineSMOTE','ADASYN']"
   ]
  },
  {
   "cell_type": "code",
   "execution_count": null,
   "metadata": {},
   "outputs": [],
   "source": [
    "plt.figure(figsize=(8,12),dpi=150)\n",
    "for i in range(6):\n",
    "    plt.subplot(3, 2, i+1)\n",
    "    hist = pd.DataFrame(monitors[i].history)\n",
    "    #hist[['loss','val_loss']].plot()\n",
    "    plt.plot(hist['loss'],label='loss')\n",
    "    plt.plot(hist['val_loss'],label='val_loss')\n",
    "    plt.xticks(np.arange(len(hist.loss),step=5))\n",
    "    plt.title(models[i])\n",
    "    plt.legend()\n",
    "   \n",
    "plt.savefig('losses.png')\n",
    "plt.show()"
   ]
  },
  {
   "cell_type": "code",
   "execution_count": null,
   "metadata": {
    "colab": {},
    "colab_type": "code",
    "id": "bn_3RJuFtqIg"
   },
   "outputs": [],
   "source": [
    "perf_df.T.to_excel('Overall performance 2.xlsx',index=True)"
   ]
  },
  {
   "cell_type": "code",
   "execution_count": null,
   "metadata": {
    "ExecuteTime": {
     "end_time": "2020-05-22T18:41:08.568488Z",
     "start_time": "2020-05-22T18:40:58.419456Z"
    },
    "colab": {},
    "colab_type": "code",
    "id": "WqS01VWKcLcX"
   },
   "outputs": [],
   "source": [
    "y_pred_train_ada = ada_model.predict(X_train)\n",
    "y_pred_test_ada = ada_model.predict(X_test)"
   ]
  },
  {
   "cell_type": "code",
   "execution_count": null,
   "metadata": {
    "ExecuteTime": {
     "end_time": "2020-05-22T18:41:09.296127Z",
     "start_time": "2020-05-22T18:41:08.571985Z"
    },
    "colab": {
     "base_uri": "https://localhost:8080/",
     "height": 329
    },
    "colab_type": "code",
    "executionInfo": {
     "elapsed": 245148,
     "status": "ok",
     "timestamp": 1591031540655,
     "user": {
      "displayName": "Duong Hung",
      "photoUrl": "https://lh3.googleusercontent.com/a-/AOh14Ggfgs4FqFN7Yq3pQXoVHeQcc9w9kDV_fAGoQ3Nx4nk=s64",
      "userId": "01608720095171318435"
     },
     "user_tz": 300
    },
    "id": "p9j0pK5icLcZ",
    "outputId": "559cfe0d-c025-4315-92aa-98f5a690197a"
   },
   "outputs": [],
   "source": [
    "show_cm(y_test,y_pred_test_ada)"
   ]
  },
  {
   "cell_type": "code",
   "execution_count": null,
   "metadata": {
    "ExecuteTime": {
     "end_time": "2020-05-22T18:41:09.861489Z",
     "start_time": "2020-05-22T18:41:09.299121Z"
    },
    "colab": {
     "base_uri": "https://localhost:8080/",
     "height": 499
    },
    "colab_type": "code",
    "executionInfo": {
     "elapsed": 245567,
     "status": "ok",
     "timestamp": 1591031541113,
     "user": {
      "displayName": "Duong Hung",
      "photoUrl": "https://lh3.googleusercontent.com/a-/AOh14Ggfgs4FqFN7Yq3pQXoVHeQcc9w9kDV_fAGoQ3Nx4nk=s64",
      "userId": "01608720095171318435"
     },
     "user_tz": 300
    },
    "id": "rZ_CvlpjcLcf",
    "outputId": "521f3f1f-2395-4c87-9fa2-d2e09e534009",
    "scrolled": false
   },
   "outputs": [],
   "source": [
    "plt.figure(figsize=(8,8))\n",
    "plot_roc('ADASYN model - train',y_train,y_pred_train_ada)\n",
    "plot_roc('ADASYN model - test',y_test,y_pred_test_ada)\n",
    "plt.legend()\n",
    "plt.show()"
   ]
  },
  {
   "cell_type": "markdown",
   "metadata": {
    "colab_type": "text",
    "id": "08G1GEedpYMJ"
   },
   "source": [
    "# Prepare the output for overall performance"
   ]
  },
  {
   "cell_type": "code",
   "execution_count": null,
   "metadata": {
    "colab": {
     "base_uri": "https://localhost:8080/",
     "height": 518
    },
    "colab_type": "code",
    "executionInfo": {
     "elapsed": 259351,
     "status": "ok",
     "timestamp": 1591031554928,
     "user": {
      "displayName": "Duong Hung",
      "photoUrl": "https://lh3.googleusercontent.com/a-/AOh14Ggfgs4FqFN7Yq3pQXoVHeQcc9w9kDV_fAGoQ3Nx4nk=s64",
      "userId": "01608720095171318435"
     },
     "user_tz": 300
    },
    "id": "2Hl_xmCc0kXS",
    "outputId": "c08e62bd-a64b-4789-db01-86661844e430"
   },
   "outputs": [],
   "source": [
    "\n",
    "perf_df=show_perf(wei_model,'weight_train',data='train',batches=4096)\n",
    "perf_df['weight_test']=show_perf(wei_model,'ar_model',data='test',batches=4096)\n",
    "perf_df['ros_train']=show_perf(ros_model,'ar_model',data='train',batches=bat_size)\n",
    "perf_df['ros_test']=show_perf(ros_model,'ar_model',data='test',batches=bat_size)\n",
    "perf_df['sm_train']=show_perf(sm_model,'ar_model',data='train',batches=bat_size)\n",
    "perf_df['sm_test']=show_perf(sm_model,'ar_model',data='test',batches=bat_size)\n",
    "perf_df['bsm_train']=show_perf(bsm_model,'ar_model',data='train',batches=bat_size)\n",
    "perf_df['bsm_test']=show_perf(bsm_model,'ar_model',data='test',batches=bat_size)\n",
    "perf_df['ada_train']=show_perf(ada_model,'ar_model',data='train',batches=bat_size)\n",
    "perf_df['ada_test']=show_perf(ada_model,'ar_model',data='test',batches=bat_size)\n",
    "\n",
    "perf_df"
   ]
  },
  {
   "cell_type": "code",
   "execution_count": null,
   "metadata": {
    "colab": {
     "base_uri": "https://localhost:8080/",
     "height": 359
    },
    "colab_type": "code",
    "executionInfo": {
     "elapsed": 259333,
     "status": "ok",
     "timestamp": 1591031554938,
     "user": {
      "displayName": "Duong Hung",
      "photoUrl": "https://lh3.googleusercontent.com/a-/AOh14Ggfgs4FqFN7Yq3pQXoVHeQcc9w9kDV_fAGoQ3Nx4nk=s64",
      "userId": "01608720095171318435"
     },
     "user_tz": 300
    },
    "id": "Av961Kj4rrIb",
    "outputId": "82f33fcb-3f32-46a8-809e-fe48db3c2177"
   },
   "outputs": [],
   "source": [
    "perf_df=perf_df.T\n",
    "perf_df"
   ]
  },
  {
   "cell_type": "code",
   "execution_count": null,
   "metadata": {
    "colab": {
     "base_uri": "https://localhost:8080/",
     "height": 359
    },
    "colab_type": "code",
    "executionInfo": {
     "elapsed": 259390,
     "status": "ok",
     "timestamp": 1591031555020,
     "user": {
      "displayName": "Duong Hung",
      "photoUrl": "https://lh3.googleusercontent.com/a-/AOh14Ggfgs4FqFN7Yq3pQXoVHeQcc9w9kDV_fAGoQ3Nx4nk=s64",
      "userId": "01608720095171318435"
     },
     "user_tz": 300
    },
    "id": "KoZP3d3jcLck",
    "outputId": "139afdf4-aa12-4e9d-8e4e-bd7410b68e2b"
   },
   "outputs": [],
   "source": [
    "perf_df['TNR']=perf_df.tn/(perf_df.tn+perf_df.fp)\n",
    "perf_df['BA']=(perf_df.TNR+perf_df.recall)/2\n",
    "perf_df['F1 score']=2*perf_df.recall*perf_df.precision/(perf_df.recall+perf_df.precision)\n",
    "perf_df"
   ]
  },
  {
   "cell_type": "code",
   "execution_count": null,
   "metadata": {
    "colab": {},
    "colab_type": "code",
    "id": "ZgLJMFnicLcn"
   },
   "outputs": [],
   "source": [
    "perf_df=perf_df[['accuracy','precision','recall','auc','BA','F1 score']].copy()\n",
    "perf_df[['accuracy','precision','recall','auc','BA']]=perf_df[['accuracy','precision','recall','auc','BA']]*100\n",
    "perf_df=perf_df.round(3).copy()"
   ]
  },
  {
   "cell_type": "code",
   "execution_count": null,
   "metadata": {
    "colab": {},
    "colab_type": "code",
    "id": "n9MHkDp1cLcq"
   },
   "outputs": [],
   "source": [
    "models=['Optimized weight', 'Random oversampling', 'SMOTE', 'BorderlineSMOTE','ADASYN']"
   ]
  },
  {
   "cell_type": "code",
   "execution_count": null,
   "metadata": {
    "colab": {
     "base_uri": "https://localhost:8080/",
     "height": 204
    },
    "colab_type": "code",
    "executionInfo": {
     "elapsed": 259436,
     "status": "ok",
     "timestamp": 1591031555131,
     "user": {
      "displayName": "Duong Hung",
      "photoUrl": "https://lh3.googleusercontent.com/a-/AOh14Ggfgs4FqFN7Yq3pQXoVHeQcc9w9kDV_fAGoQ3Nx4nk=s64",
      "userId": "01608720095171318435"
     },
     "user_tz": 300
    },
    "id": "3l0DxzpfcLct",
    "outputId": "81dd9bd0-09a4-4c83-892c-9efe19a3df1e"
   },
   "outputs": [],
   "source": [
    "perf_df_train=perf_df[0::2]\n",
    "perf_df_train.index=models\n",
    "perf_df_train"
   ]
  },
  {
   "cell_type": "code",
   "execution_count": null,
   "metadata": {
    "colab": {
     "base_uri": "https://localhost:8080/",
     "height": 204
    },
    "colab_type": "code",
    "executionInfo": {
     "elapsed": 259408,
     "status": "ok",
     "timestamp": 1591031555135,
     "user": {
      "displayName": "Duong Hung",
      "photoUrl": "https://lh3.googleusercontent.com/a-/AOh14Ggfgs4FqFN7Yq3pQXoVHeQcc9w9kDV_fAGoQ3Nx4nk=s64",
      "userId": "01608720095171318435"
     },
     "user_tz": 300
    },
    "id": "J5g1vFhYcLcu",
    "outputId": "32f20733-61a5-4306-ba19-0a7cc25a7295"
   },
   "outputs": [],
   "source": [
    "perf_df_test=perf_df[1::2]\n",
    "perf_df_test.index=models\n",
    "perf_df_test"
   ]
  },
  {
   "cell_type": "code",
   "execution_count": null,
   "metadata": {
    "colab": {
     "base_uri": "https://localhost:8080/",
     "height": 204
    },
    "colab_type": "code",
    "executionInfo": {
     "elapsed": 259394,
     "status": "ok",
     "timestamp": 1591031555139,
     "user": {
      "displayName": "Duong Hung",
      "photoUrl": "https://lh3.googleusercontent.com/a-/AOh14Ggfgs4FqFN7Yq3pQXoVHeQcc9w9kDV_fAGoQ3Nx4nk=s64",
      "userId": "01608720095171318435"
     },
     "user_tz": 300
    },
    "id": "2rCWmiD-cLcw",
    "outputId": "76f988f0-f1b1-4458-8138-11e6192ffd57"
   },
   "outputs": [],
   "source": [
    "perf_df_delta=perf_df_train-perf_df_test\n",
    "perf_df_delta"
   ]
  },
  {
   "cell_type": "code",
   "execution_count": null,
   "metadata": {
    "colab": {},
    "colab_type": "code",
    "id": "W2Ir1a5zcLcy"
   },
   "outputs": [],
   "source": [
    "perf_df=pd.concat([perf_df_train,perf_df_test,perf_df_delta])"
   ]
  },
  {
   "cell_type": "code",
   "execution_count": null,
   "metadata": {
    "colab": {},
    "colab_type": "code",
    "id": "cE48PP1Ks-Vg"
   },
   "outputs": [],
   "source": [
    "perf_df.to_excel('Final performance.xlsx')"
   ]
  },
  {
   "cell_type": "markdown",
   "metadata": {},
   "source": [
    "# Sensitive analysis of Input"
   ]
  },
  {
   "cell_type": "code",
   "execution_count": null,
   "metadata": {},
   "outputs": [],
   "source": [
    "X_mean=X_train.mean(axis=0)\n",
    "X_sd=X_train.std(axis=0)\n",
    "X_mean.shape, X_sd.shape"
   ]
  },
  {
   "cell_type": "code",
   "execution_count": null,
   "metadata": {},
   "outputs": [],
   "source": [
    "plt.hist(X_train[:,0])"
   ]
  },
  {
   "cell_type": "code",
   "execution_count": null,
   "metadata": {},
   "outputs": [],
   "source": [
    "n=10\n",
    "sai_df=np.repeat(X_mean,n).reshape(n,150)\n",
    "sai_df.shape"
   ]
  },
  {
   "cell_type": "code",
   "execution_count": null,
   "metadata": {},
   "outputs": [],
   "source": [
    "n_train=len(X_train)\n",
    "n_train"
   ]
  },
  {
   "cell_type": "code",
   "execution_count": null,
   "metadata": {},
   "outputs": [],
   "source": [
    "np.max(X_train[:,0])"
   ]
  },
  {
   "cell_type": "code",
   "execution_count": null,
   "metadata": {},
   "outputs": [],
   "source": [
    "i=0\n",
    "ub=X_mean[i]+1.96*X_sd[i]/np.sqrt(n_train)\n",
    "lb=X_mean[i]-1.96*X_sd[i]/np.sqrt(n_train)\n",
    "ub,lb"
   ]
  },
  {
   "cell_type": "code",
   "execution_count": null,
   "metadata": {},
   "outputs": [],
   "source": [
    "n_step=np.linspace(np.min(X_train[:,i]),np.max(X_train[:,i]),num=n)\n",
    "n_step"
   ]
  },
  {
   "cell_type": "code",
   "execution_count": null,
   "metadata": {},
   "outputs": [],
   "source": [
    "sai_df[:,i]=n_step"
   ]
  },
  {
   "cell_type": "code",
   "execution_count": null,
   "metadata": {},
   "outputs": [],
   "source": [
    "y_sai=wei_model.predict(sai_df)\n",
    "y_sai"
   ]
  },
  {
   "cell_type": "code",
   "execution_count": null,
   "metadata": {},
   "outputs": [],
   "source": [
    "sai_i=[y_sai.mean(),y_sai.std()]\n",
    "sai_i"
   ]
  },
  {
   "cell_type": "code",
   "execution_count": null,
   "metadata": {
    "scrolled": true
   },
   "outputs": [],
   "source": [
    "X.columns.values"
   ]
  },
  {
   "cell_type": "code",
   "execution_count": null,
   "metadata": {},
   "outputs": [],
   "source": [
    "def SA_input(n=100,model=wei_model):\n",
    "    sai=np.array([[0,0,0,0]])\n",
    "    for i in range(150):\n",
    "        sai_df=np.repeat(X_mean,n).reshape(n,150) # base dataframe\n",
    "        n_step=np.linspace(np.min(X_train[:,i]),np.max(X_train[:,i]),num=n) # varation of the variable #i\n",
    "        sai_df[:,i]=n_step\n",
    "        y_sai=model.predict(sai_df)\n",
    "       # print(y_sai.flatten())\n",
    "        #print(n_step)\n",
    "        #print(np.corrcoef(n_step, y_sai)[0,1])\n",
    "        sai=np.append(sai,[[y_sai.mean(),y_sai.std(),y_sai.max()-y_sai.min(),np.corrcoef(n_step, y_sai.flatten())[0,1]]],axis=0)\n",
    "    \n",
    "    op=pd.DataFrame(sai[1:],columns=['Mean','SD','delta','Correlation'],index=X.columns.values)\n",
    "    op['LB']=op.Mean-1.96*op.SD/np.sqrt(n)\n",
    "    op['UB']=op.Mean+1.96*op.SD/np.sqrt(n)\n",
    "    return op\n",
    "example=SA_input()"
   ]
  },
  {
   "cell_type": "code",
   "execution_count": null,
   "metadata": {},
   "outputs": [],
   "source": [
    "models={'Weight':wei_model,'ROS':ros_model,'SMOTE':sm_model,\"BorderlineSMOTE\":bsm_model,'ADASYN':ada_model}"
   ]
  },
  {
   "cell_type": "code",
   "execution_count": null,
   "metadata": {},
   "outputs": [],
   "source": [
    "from pandas import ExcelWriter"
   ]
  },
  {
   "cell_type": "code",
   "execution_count": null,
   "metadata": {},
   "outputs": [],
   "source": [
    "writer = pd.ExcelWriter('SA of input.xlsx')\n",
    "\n",
    "# Write each dataframe to a different worksheet.\n",
    "for key,value in models.items():\n",
    "    sai=SA_input(model=value)\n",
    "    sai.to_excel(writer, sheet_name=key)\n",
    "\n",
    "#Save and close\n",
    "writer.save()   "
   ]
  },
  {
   "cell_type": "code",
   "execution_count": null,
   "metadata": {},
   "outputs": [],
   "source": [
    "index_XY=X.columns.values.repeat(2)\n",
    "index_XY[:6]"
   ]
  },
  {
   "cell_type": "code",
   "execution_count": null,
   "metadata": {},
   "outputs": [],
   "source": [
    "index_XY[1::2]=index_XY[1::2]+'_Y'\n",
    "index_XY[0::2]=index_XY[0::2]+'_X'\n",
    "index_XY[:6]"
   ]
  },
  {
   "cell_type": "code",
   "execution_count": null,
   "metadata": {},
   "outputs": [],
   "source": [
    "def SA_input2(n=10,model=wei_model):\n",
    "    sai=np.zeros((1,n))\n",
    "    for i in range(150):\n",
    "        sai_df=np.repeat(X_mean,n).reshape(n,150) # base dataframe\n",
    "        n_step=np.linspace(np.min(X_train[:,i]),np.max(X_train[:,i]),num=n) # varation of the variable #i\n",
    "        sai_df[:,i]=n_step\n",
    "        y_sai=model.predict(sai_df)\n",
    "        #print(y_sai.shape,sai.shape)\n",
    "        sai=np.append(sai,n_step.reshape(1,n),axis=0)\n",
    "        sai=np.append(sai,y_sai.reshape(1,n),axis=0)\n",
    "    \n",
    "    op=pd.DataFrame(sai[1:],index=index_XY)\n",
    "    return op\n",
    "example=SA_input2()\n",
    "example"
   ]
  },
  {
   "cell_type": "code",
   "execution_count": null,
   "metadata": {},
   "outputs": [],
   "source": [
    "writer = pd.ExcelWriter('SA of input full.xlsx')\n",
    "\n",
    "# Write each dataframe to a different worksheet.\n",
    "for key,value in models.items():\n",
    "    sai=SA_input2(n=100,model=value).T\n",
    "    sai.to_excel(writer, sheet_name=key)\n",
    "\n",
    "#Save and close\n",
    "writer.save()"
   ]
  },
  {
   "cell_type": "code",
   "execution_count": null,
   "metadata": {},
   "outputs": [],
   "source": []
  },
  {
   "cell_type": "code",
   "execution_count": null,
   "metadata": {},
   "outputs": [],
   "source": []
  },
  {
   "cell_type": "code",
   "execution_count": null,
   "metadata": {},
   "outputs": [],
   "source": [
    "example.sort_values(by=['SD'],ascending=False).head(20)"
   ]
  },
  {
   "cell_type": "code",
   "execution_count": null,
   "metadata": {},
   "outputs": [],
   "source": [
    "# Variable that always produce positive\n",
    "example[example.LB>0.5]"
   ]
  },
  {
   "cell_type": "code",
   "execution_count": null,
   "metadata": {},
   "outputs": [],
   "source": [
    "# Variable that always produces negative\n",
    "example[example.UB<0.5]"
   ]
  },
  {
   "cell_type": "code",
   "execution_count": null,
   "metadata": {},
   "outputs": [],
   "source": [
    "# Variable that can change the label\n",
    "example[(example.UB>0.5) &(example.LB<0.5)]"
   ]
  },
  {
   "cell_type": "markdown",
   "metadata": {
    "colab_type": "text",
    "id": "Gtu9Frk5Wg2W"
   },
   "source": [
    "# Variables\n"
   ]
  },
  {
   "cell_type": "code",
   "execution_count": null,
   "metadata": {
    "colab": {
     "base_uri": "https://localhost:8080/",
     "height": 1000
    },
    "colab_type": "code",
    "executionInfo": {
     "elapsed": 260099,
     "status": "ok",
     "timestamp": 1591031555908,
     "user": {
      "displayName": "Duong Hung",
      "photoUrl": "https://lh3.googleusercontent.com/a-/AOh14Ggfgs4FqFN7Yq3pQXoVHeQcc9w9kDV_fAGoQ3Nx4nk=s64",
      "userId": "01608720095171318435"
     },
     "user_tz": 300
    },
    "id": "PKl1e9RwVCCk",
    "outputId": "a86a5e03-8a46-447b-eed0-ba8f60490b8c"
   },
   "outputs": [],
   "source": [
    "%whos"
   ]
  }
 ],
 "metadata": {
  "colab": {
   "collapsed_sections": [],
   "name": "VCA-ID-FC-Prediction.ipynb",
   "provenance": [],
   "toc_visible": true
  },
  "kernelspec": {
   "display_name": "Python 3",
   "language": "python",
   "name": "python3"
  },
  "language_info": {
   "codemirror_mode": {
    "name": "ipython",
    "version": 3
   },
   "file_extension": ".py",
   "mimetype": "text/x-python",
   "name": "python",
   "nbconvert_exporter": "python",
   "pygments_lexer": "ipython3",
   "version": "3.7.7"
  },
  "toc": {
   "base_numbering": 1,
   "nav_menu": {},
   "number_sections": true,
   "sideBar": true,
   "skip_h1_title": false,
   "title_cell": "Table of Contents",
   "title_sidebar": "Contents",
   "toc_cell": false,
   "toc_position": {},
   "toc_section_display": true,
   "toc_window_display": true
  }
 },
 "nbformat": 4,
 "nbformat_minor": 1
}
