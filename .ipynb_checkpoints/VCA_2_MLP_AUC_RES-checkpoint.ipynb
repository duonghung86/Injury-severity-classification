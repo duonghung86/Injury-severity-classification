{
 "cells": [
  {
   "cell_type": "markdown",
   "metadata": {
    "colab_type": "text",
    "id": "view-in-github"
   },
   "source": [
    "<a href=\"https://colab.research.google.com/github/duonghung86/Injury-severity-classification/blob/main/VCA_2_1_MLP_resampling.ipynb\" target=\"_parent\"><img src=\"https://colab.research.google.com/assets/colab-badge.svg\" alt=\"Open In Colab\"/></a>"
   ]
  },
  {
   "cell_type": "code",
   "execution_count": 2,
   "metadata": {
    "colab": {
     "base_uri": "https://localhost:8080/"
    },
    "id": "Bo-3JT-1cl14",
    "outputId": "b0ddb98f-231d-4440-906a-56f85c191ed2"
   },
   "outputs": [
    {
     "name": "stdout",
     "output_type": "stream",
     "text": [
      "Your runtime has 270.0 gigabytes of available RAM\n",
      "\n",
      "You are using a high-RAM runtime!\n"
     ]
    }
   ],
   "source": [
    "from psutil import virtual_memory\n",
    "ram_gb = virtual_memory().total / 1e9\n",
    "print('Your runtime has {:.1f} gigabytes of available RAM\\n'.format(ram_gb))\n",
    "\n",
    "if ram_gb < 20:\n",
    "  print('To enable a high-RAM runtime, select the Runtime > \"Change runtime type\"')\n",
    "  print('menu, and then select High-RAM in the Runtime shape dropdown. Then, ')\n",
    "  print('re-execute this cell.')\n",
    "else:\n",
    "  print('You are using a high-RAM runtime!')"
   ]
  },
  {
   "cell_type": "code",
   "execution_count": 3,
   "metadata": {
    "id": "uU9MzQe41HSp"
   },
   "outputs": [],
   "source": [
    "import warnings\n",
    "warnings.filterwarnings(\"ignore\")"
   ]
  },
  {
   "cell_type": "code",
   "execution_count": 4,
   "metadata": {
    "colab": {
     "base_uri": "https://localhost:8080/"
    },
    "id": "YKl2NA0NrGqs",
    "outputId": "aaf18b61-6e8d-4832-ab04-c7ae21772417"
   },
   "outputs": [],
   "source": [
    "#!cat /proc/cpuinfo"
   ]
  },
  {
   "cell_type": "code",
   "execution_count": 5,
   "metadata": {
    "colab": {
     "base_uri": "https://localhost:8080/"
    },
    "id": "GvRpx7tyrS85",
    "outputId": "4e976b5d-bcff-4c1b-aa99-5e0a1b2f88a0"
   },
   "outputs": [
    {
     "name": "stdout",
     "output_type": "stream",
     "text": [
      "38.1\n"
     ]
    },
    {
     "data": {
      "text/plain": [
       "svmem(total=270038007808, available=224972210176, percent=16.7, used=43957313536, free=219868966912, active=38019092480, inactive=3777622016, buffers=354779136, cached=5856948224, shared=194473984, slab=539750400)"
      ]
     },
     "execution_count": 5,
     "metadata": {},
     "output_type": "execute_result"
    }
   ],
   "source": [
    "import psutil\n",
    "# gives a single float value\n",
    "print(psutil.cpu_percent())\n",
    "# gives an object with many fields\n",
    "psutil.virtual_memory()"
   ]
  },
  {
   "cell_type": "code",
   "execution_count": 19,
   "metadata": {
    "colab": {
     "base_uri": "https://localhost:8080/"
    },
    "id": "Ond2r97pZvoF",
    "outputId": "34b10d94-ca9a-4ad7-b156-c2c3613059d5"
   },
   "outputs": [
    {
     "name": "stdout",
     "output_type": "stream",
     "text": [
      "2.1.0\n"
     ]
    }
   ],
   "source": [
    "# Basic packages\n",
    "import matplotlib.pyplot as plt\n",
    "import numpy as np\n",
    "import pandas as pd\n",
    "import seaborn as sns\n",
    "import time\n",
    "import os\n",
    "# Preprocessing\n",
    "from sklearn.preprocessing import StandardScaler # Standardization\n",
    "from sklearn.model_selection import train_test_split\n",
    "from sklearn.metrics import confusion_matrix\n",
    "\n",
    "# Machine learning algos\n",
    "from sklearn.linear_model import LogisticRegression\n",
    "from sklearn.tree import DecisionTreeClassifier\n",
    "from sklearn.ensemble import RandomForestClassifier\n",
    "\n",
    "from collections import Counter\n",
    "from imblearn.over_sampling import SMOTE, RandomOverSampler,BorderlineSMOTE\n",
    "from imblearn.under_sampling import RandomUnderSampler,NearMiss,EditedNearestNeighbours\n",
    "# Metrics\n",
    "from imblearn.metrics import geometric_mean_score\n",
    "# Tensorflow\n",
    "import tensorflow as tf\n",
    "print(tf.__version__)\n",
    "from tensorflow import feature_column  # for data wrangling\n",
    "from tensorflow.keras.layers import Dense,Dropout\n",
    "from tensorflow.keras.models import Sequential\n",
    "from tensorflow.keras.callbacks import EarlyStopping\n"
   ]
  },
  {
   "cell_type": "code",
   "execution_count": 7,
   "metadata": {
    "colab": {
     "base_uri": "https://localhost:8080/"
    },
    "id": "OMFYXIMkFSak",
    "outputId": "da5f08e2-a9f0-4ecf-91eb-4a8db2a0f631"
   },
   "outputs": [],
   "source": [
    "# Download dataset\n",
    "url = 'https://github.com/duonghung86/Injury-severity-classification/blob/main/Prepared%20Texas%202019.zip?raw=true' \n",
    "data_path = tf.keras.utils.get_file(origin=url, fname=url.split('/')[-1].split('?')[0], extract=True)\n",
    "data_path = data_path.replace('%20',' ').replace('.zip','.csv')"
   ]
  },
  {
   "cell_type": "code",
   "execution_count": 8,
   "metadata": {
    "colab": {
     "base_uri": "https://localhost:8080/",
     "height": 315
    },
    "id": "UPLNCpWjZvoG",
    "outputId": "8ffdd693-0603-4f0e-8029-4617a22ad00b"
   },
   "outputs": [
    {
     "name": "stdout",
     "output_type": "stream",
     "text": [
      "(949856, 19)\n"
     ]
    },
    {
     "data": {
      "text/html": [
       "<div>\n",
       "<style scoped>\n",
       "    .dataframe tbody tr th:only-of-type {\n",
       "        vertical-align: middle;\n",
       "    }\n",
       "\n",
       "    .dataframe tbody tr th {\n",
       "        vertical-align: top;\n",
       "    }\n",
       "\n",
       "    .dataframe thead th {\n",
       "        text-align: right;\n",
       "    }\n",
       "</style>\n",
       "<table border=\"1\" class=\"dataframe\">\n",
       "  <thead>\n",
       "    <tr style=\"text-align: right;\">\n",
       "      <th></th>\n",
       "      <th>Prsn_Injry_Sev</th>\n",
       "      <th>Prsn_Age</th>\n",
       "      <th>Prsn_Gndr</th>\n",
       "      <th>Wthr_Cond</th>\n",
       "      <th>Light_Cond</th>\n",
       "      <th>Surf_Cond</th>\n",
       "      <th>Veh_Body_Styl</th>\n",
       "      <th>Prsn_Rest</th>\n",
       "      <th>Prsn_Drg_Rslt</th>\n",
       "      <th>Harm_Evnt</th>\n",
       "      <th>Rural</th>\n",
       "      <th>Crash_Speed_Limit</th>\n",
       "      <th>Road_Algn</th>\n",
       "      <th>Veh_Mod_Year</th>\n",
       "      <th>Weekend</th>\n",
       "      <th>Crash_season</th>\n",
       "      <th>Part_of_day</th>\n",
       "      <th>Collsn_type</th>\n",
       "      <th>Collsn_name</th>\n",
       "    </tr>\n",
       "  </thead>\n",
       "  <tbody>\n",
       "    <tr>\n",
       "      <th>0</th>\n",
       "      <td>0</td>\n",
       "      <td>26</td>\n",
       "      <td>MALE</td>\n",
       "      <td>CLEAR</td>\n",
       "      <td>DAYLIGHT</td>\n",
       "      <td>DRY</td>\n",
       "      <td>PASSENGER CAR, 2-DOOR</td>\n",
       "      <td>SHOULDER &amp; LAP BELT</td>\n",
       "      <td>Not Applicable</td>\n",
       "      <td>MOTOR VEHICLE IN TRANSPORT</td>\n",
       "      <td>0</td>\n",
       "      <td>-1</td>\n",
       "      <td>STRAIGHT, LEVEL</td>\n",
       "      <td>33</td>\n",
       "      <td>1</td>\n",
       "      <td>3</td>\n",
       "      <td>3</td>\n",
       "      <td>SAME DIRECTION</td>\n",
       "      <td>ONE STRAIGHT-ONE LEFT TURN</td>\n",
       "    </tr>\n",
       "    <tr>\n",
       "      <th>1</th>\n",
       "      <td>0</td>\n",
       "      <td>52</td>\n",
       "      <td>MALE</td>\n",
       "      <td>CLEAR</td>\n",
       "      <td>DAYLIGHT</td>\n",
       "      <td>DRY</td>\n",
       "      <td>PASSENGER CAR, 2-DOOR</td>\n",
       "      <td>SHOULDER &amp; LAP BELT</td>\n",
       "      <td>Not Applicable</td>\n",
       "      <td>MOTOR VEHICLE IN TRANSPORT</td>\n",
       "      <td>0</td>\n",
       "      <td>-1</td>\n",
       "      <td>STRAIGHT, LEVEL</td>\n",
       "      <td>19</td>\n",
       "      <td>1</td>\n",
       "      <td>3</td>\n",
       "      <td>3</td>\n",
       "      <td>SAME DIRECTION</td>\n",
       "      <td>ONE STRAIGHT-ONE LEFT TURN</td>\n",
       "    </tr>\n",
       "    <tr>\n",
       "      <th>2</th>\n",
       "      <td>0</td>\n",
       "      <td>27</td>\n",
       "      <td>FEMALE</td>\n",
       "      <td>CLEAR</td>\n",
       "      <td>DAYLIGHT</td>\n",
       "      <td>DRY</td>\n",
       "      <td>PICKUP</td>\n",
       "      <td>SHOULDER &amp; LAP BELT</td>\n",
       "      <td>Not Applicable</td>\n",
       "      <td>MOTOR VEHICLE IN TRANSPORT</td>\n",
       "      <td>1</td>\n",
       "      <td>-1</td>\n",
       "      <td>CURVE, LEVEL</td>\n",
       "      <td>16</td>\n",
       "      <td>1</td>\n",
       "      <td>3</td>\n",
       "      <td>4</td>\n",
       "      <td>SAME DIRECTION</td>\n",
       "      <td>BOTH LEFT TURN</td>\n",
       "    </tr>\n",
       "  </tbody>\n",
       "</table>\n",
       "</div>"
      ],
      "text/plain": [
       "   Prsn_Injry_Sev  Prsn_Age Prsn_Gndr Wthr_Cond Light_Cond Surf_Cond  \\\n",
       "0               0        26      MALE     CLEAR   DAYLIGHT       DRY   \n",
       "1               0        52      MALE     CLEAR   DAYLIGHT       DRY   \n",
       "2               0        27    FEMALE     CLEAR   DAYLIGHT       DRY   \n",
       "\n",
       "           Veh_Body_Styl            Prsn_Rest   Prsn_Drg_Rslt  \\\n",
       "0  PASSENGER CAR, 2-DOOR  SHOULDER & LAP BELT  Not Applicable   \n",
       "1  PASSENGER CAR, 2-DOOR  SHOULDER & LAP BELT  Not Applicable   \n",
       "2                 PICKUP  SHOULDER & LAP BELT  Not Applicable   \n",
       "\n",
       "                    Harm_Evnt  Rural  Crash_Speed_Limit        Road_Algn  \\\n",
       "0  MOTOR VEHICLE IN TRANSPORT      0                 -1  STRAIGHT, LEVEL   \n",
       "1  MOTOR VEHICLE IN TRANSPORT      0                 -1  STRAIGHT, LEVEL   \n",
       "2  MOTOR VEHICLE IN TRANSPORT      1                 -1     CURVE, LEVEL   \n",
       "\n",
       "   Veh_Mod_Year  Weekend  Crash_season  Part_of_day     Collsn_type  \\\n",
       "0            33        1             3            3  SAME DIRECTION   \n",
       "1            19        1             3            3  SAME DIRECTION   \n",
       "2            16        1             3            4  SAME DIRECTION   \n",
       "\n",
       "                  Collsn_name  \n",
       "0  ONE STRAIGHT-ONE LEFT TURN  \n",
       "1  ONE STRAIGHT-ONE LEFT TURN  \n",
       "2              BOTH LEFT TURN  "
      ]
     },
     "execution_count": 8,
     "metadata": {},
     "output_type": "execute_result"
    }
   ],
   "source": [
    "# Load data\n",
    "df = pd.read_csv(data_path)\n",
    "print(df.shape)\n",
    "df.head(3)"
   ]
  },
  {
   "cell_type": "code",
   "execution_count": 9,
   "metadata": {
    "colab": {
     "base_uri": "https://localhost:8080/"
    },
    "id": "1CDPbDPYZvoH",
    "outputId": "4cbbde59-32aa-4400-df32-70f782f350ac"
   },
   "outputs": [
    {
     "data": {
      "text/plain": [
       "(94985, 19)"
      ]
     },
     "execution_count": 9,
     "metadata": {},
     "output_type": "execute_result"
    }
   ],
   "source": [
    "# Let's just use 80% of the total dataset\n",
    "#df, _ = train_test_split(df, test_size=0.9,stratify = df['Prsn_Injry_Sev'])\n",
    "#df.shape"
   ]
  },
  {
   "cell_type": "code",
   "execution_count": 10,
   "metadata": {
    "colab": {
     "base_uri": "https://localhost:8080/"
    },
    "id": "FEKbv3R9ZvoH",
    "outputId": "1d5b3fe7-2f99-44a3-ee6e-5e22105cd80b"
   },
   "outputs": [
    {
     "name": "stdout",
     "output_type": "stream",
     "text": [
      "All target values:\n",
      "0    79255\n",
      "1    10241\n",
      "2     4524\n",
      "3      795\n",
      "4      170\n",
      "Name: Prsn_Injry_Sev, dtype: int64\n"
     ]
    }
   ],
   "source": [
    "y = df['Prsn_Injry_Sev']\n",
    "print('All target values:')\n",
    "print(y.value_counts())\n",
    "X = df.drop(columns=['Prsn_Injry_Sev'])"
   ]
  },
  {
   "cell_type": "code",
   "execution_count": 11,
   "metadata": {
    "colab": {
     "base_uri": "https://localhost:8080/"
    },
    "id": "AUDtEBDsZvoI",
    "outputId": "1b8af306-10c7-4848-e640-a65fbc9b16f1"
   },
   "outputs": [
    {
     "name": "stdout",
     "output_type": "stream",
     "text": [
      "Numerical variables are  ['Prsn_Age', 'Rural', 'Crash_Speed_Limit', 'Veh_Mod_Year', 'Weekend', 'Crash_season', 'Part_of_day']\n",
      "Categorical variables that have at most 5 categories are  ['Prsn_Gndr', 'Prsn_Drg_Rslt', 'Collsn_type']\n",
      "Categorical variables that have more than 5 categories are  ['Wthr_Cond', 'Light_Cond', 'Surf_Cond', 'Veh_Body_Styl', 'Prsn_Rest', 'Harm_Evnt', 'Road_Algn', 'Collsn_name']\n",
      "WARNING:tensorflow:From /project/cacds/apps/easybuild/software/Anaconda3/5.0.1/lib/python3.6/site-packages/tensorflow_core/python/feature_column/feature_column_v2.py:4267: IndicatorColumn._variable_shape (from tensorflow.python.feature_column.feature_column_v2) is deprecated and will be removed in a future version.\n",
      "Instructions for updating:\n",
      "The old _FeatureColumn APIs are being deprecated. Please use the new FeatureColumn APIs instead.\n",
      "WARNING:tensorflow:From /project/cacds/apps/easybuild/software/Anaconda3/5.0.1/lib/python3.6/site-packages/tensorflow_core/python/feature_column/feature_column_v2.py:4322: VocabularyListCategoricalColumn._num_buckets (from tensorflow.python.feature_column.feature_column_v2) is deprecated and will be removed in a future version.\n",
      "Instructions for updating:\n",
      "The old _FeatureColumn APIs are being deprecated. Please use the new FeatureColumn APIs instead.\n",
      "New shape of the input data set: (94985, 59)\n"
     ]
    }
   ],
   "source": [
    "# %% Data wrangling -------------\n",
    "# Classify variable type\n",
    "emb_vars, ind_vars, num_vars = [], [], []\n",
    "for var in X.columns:\n",
    "    if X[var].dtypes == 'O':\n",
    "        if len(X[var].unique()) > 5:\n",
    "            emb_vars.append(var)\n",
    "        else:\n",
    "            ind_vars.append(var)\n",
    "    else:\n",
    "        num_vars.append(var)\n",
    "print('Numerical variables are ', num_vars)\n",
    "print('Categorical variables that have at most 5 categories are ', ind_vars)\n",
    "print('Categorical variables that have more than 5 categories are ', emb_vars)\n",
    "\n",
    "# Create feature columns\n",
    "feature_columns = []\n",
    "# numeric cols\n",
    "for header in num_vars:\n",
    "    feature_columns.append(feature_column.numeric_column(header))\n",
    "# bucketized cols\n",
    "# age = feature_column.numeric_column('Prsn_Age')\n",
    "# age_buckets = feature_column.bucketized_column(age, boundaries=[16, 22, 35, 55, 65])\n",
    "# feature_columns.append(age_buckets)\n",
    "# indicator_columns\n",
    "for col_name in ind_vars:\n",
    "    categorical_column = feature_column.categorical_column_with_vocabulary_list(\n",
    "        col_name, X[col_name].unique())\n",
    "    indicator_column = feature_column.indicator_column(categorical_column)\n",
    "    feature_columns.append(indicator_column)\n",
    "# embedding columns\n",
    "for col_name in emb_vars:\n",
    "    emb_column = feature_column.categorical_column_with_vocabulary_list(\n",
    "        col_name, X[col_name].unique())\n",
    "    col_embedding = feature_column.embedding_column(emb_column, dimension=5)\n",
    "    feature_columns.append(col_embedding)\n",
    "\n",
    "# Convert all setup into new dataset\n",
    "feature_layer = tf.keras.layers.DenseFeatures(feature_columns)\n",
    "X = feature_layer(dict(X)).numpy()\n",
    "print('New shape of the input data set:',X.shape)"
   ]
  },
  {
   "cell_type": "code",
   "execution_count": 12,
   "metadata": {
    "colab": {
     "base_uri": "https://localhost:8080/"
    },
    "id": "1EiMyeEfZvoJ",
    "outputId": "6dc67caf-d5a5-4514-e852-737a7b5c6000"
   },
   "outputs": [
    {
     "name": "stdout",
     "output_type": "stream",
     "text": [
      "Training features shape: (60790, 59)\n",
      "Validation features shape: (15198, 59)\n",
      "Test features shape: (18997, 59)\n"
     ]
    }
   ],
   "source": [
    "# %% Split the dataset\n",
    "X_train, X_test, y_train, y_test = train_test_split(X, y, test_size=0.2, stratify=y, random_state=48)\n",
    "X_train, X_val, y_train, y_val = train_test_split(X_train, y_train, test_size=0.2, stratify=y_train, random_state=48)\n",
    "\n",
    "print('Training features shape:', X_train.shape)\n",
    "print('Validation features shape:', X_val.shape)\n",
    "print('Test features shape:', X_test.shape)\n",
    "\n",
    "# %% standardization\n",
    "scaler = StandardScaler()\n",
    "X_train = scaler.fit_transform(X_train)\n",
    "X_val = scaler.transform(X_val)\n",
    "X_test = scaler.transform(X_test)"
   ]
  },
  {
   "cell_type": "code",
   "execution_count": 22,
   "metadata": {},
   "outputs": [],
   "source": [
    "# Import Metrics\n",
    "from imblearn.metrics import geometric_mean_score\n",
    "from sklearn.metrics import roc_auc_score,confusion_matrix,accuracy_score\n",
    "\n",
    "# %% Function to compare the prediction and true labels\n",
    "def get_accs2(label, pred_proba, tr_time=0,index=None):\n",
    "    prediction = pred_proba.argmax(axis=1)\n",
    "    cm = confusion_matrix(label, prediction)\n",
    "    length = cm.shape[0]\n",
    "    num_cases = len(label)\n",
    "    # global accuracy\n",
    "    glb_acc = np.trace(cm) / len(label)\n",
    "    ind_accs = cm / np.sum(cm, axis=1)[:, np.newaxis]\n",
    "    accs = [ind_accs[i, i] for i in range(length)]\n",
    "    cols = ['Class {}'.format(i) for i in range(length)]\n",
    "    # Global accuracy\n",
    "    accs.append(glb_acc)\n",
    "    # AUC\n",
    "    accs.append(roc_auc_score(label, pred_proba,multi_class='ovr'))\n",
    "    # G-mean\n",
    "    accs.append(geometric_mean_score(label, prediction, correction=0.001))\n",
    "    # Average perf\n",
    "    accs.append(np.mean(accs[-3:]))\n",
    "    # Training time\n",
    "    accs.append(np.round(tr_time,3))\n",
    "    cols = cols + ['Accuracy','AUC','G-mean','Avg_Pfm','Training Time']\n",
    "\n",
    "    out = np.array(accs).reshape(1, len(accs))\n",
    "    return pd.DataFrame(out, columns=cols,index=[index])"
   ]
  },
  {
   "cell_type": "code",
   "execution_count": 13,
   "metadata": {},
   "outputs": [],
   "source": [
    "early_stop = {'roc_auc':       tf.keras.metrics.AUC(name='roc_auc',curve='ROC'),\n",
    "               'pr_auc':       tf.keras.metrics.AUC(name='pr_auc',curve='PR')                    \n",
    "               }"
   ]
  },
  {
   "cell_type": "code",
   "execution_count": 14,
   "metadata": {},
   "outputs": [],
   "source": [
    "def create_mlp(metric):\n",
    "    MLP = Sequential([Dense(10,\n",
    "                           activation='relu',\n",
    "                           input_dim=X_train.shape[1]\n",
    "                           ),\n",
    "                      Dropout(0.5),\n",
    "                      Dense(5, activation='softmax')])\n",
    "    MLP.compile(optimizer='adam',\n",
    "                #loss=tf.keras.losses.SparseCategoricalCrossentropy(from_logits=True),\n",
    "                loss=tf.keras.losses.CategoricalCrossentropy(from_logits=True),\n",
    "                metrics=[metric]\n",
    "               )\n",
    "    return MLP"
   ]
  },
  {
   "cell_type": "code",
   "execution_count": 15,
   "metadata": {},
   "outputs": [],
   "source": [
    "def early_stops(metric_name):\n",
    "    es = EarlyStopping(monitor='val_'+ metric_name,\n",
    "                   verbose=1,\n",
    "                   patience=10,\n",
    "                   mode='max',\n",
    "                   restore_best_weights=True)\n",
    "    return es"
   ]
  },
  {
   "cell_type": "markdown",
   "metadata": {
    "id": "_hkgPBmo7Y37"
   },
   "source": [
    "# Normal Resampling"
   ]
  },
  {
   "cell_type": "code",
   "execution_count": 38,
   "metadata": {},
   "outputs": [],
   "source": [
    "EPOCH = 50"
   ]
  },
  {
   "cell_type": "code",
   "execution_count": 39,
   "metadata": {
    "colab": {
     "base_uri": "https://localhost:8080/",
     "height": 1000
    },
    "id": "jrwRmaph7V8X",
    "outputId": "980e4e2b-f5c0-4eb9-88c6-c73b06787105"
   },
   "outputs": [
    {
     "name": "stdout",
     "output_type": "stream",
     "text": [
      "ROS\n",
      "Resampled dataset shape Counter({0: 50723, 1: 50723, 3: 50723, 2: 50723, 4: 50723})\n",
      "resampling time is 0.06 seconds\n",
      "Train on 253615 samples, validate on 15198 samples\n",
      "Epoch 1/2\n",
      "253615/253615 [==============================] - 12s 46us/sample - loss: 1.4847 - roc_auc: 0.7120 - val_loss: 1.4106 - val_roc_auc: 0.7978\n",
      "Epoch 2/2\n",
      "253615/253615 [==============================] - 11s 43us/sample - loss: 1.4417 - roc_auc: 0.7480 - val_loss: 1.4234 - val_roc_auc: 0.7970\n",
      "Train on 253615 samples, validate on 15198 samples\n",
      "Epoch 1/2\n",
      "253615/253615 [==============================] - 12s 47us/sample - loss: 1.4784 - pr_auc: 0.4208 - val_loss: 1.4051 - val_pr_auc: 0.5270\n",
      "Epoch 2/2\n",
      "253615/253615 [==============================] - 11s 44us/sample - loss: 1.4510 - pr_auc: 0.4527 - val_loss: 1.4194 - val_pr_auc: 0.4861\n"
     ]
    },
    {
     "data": {
      "text/html": [
       "<div>\n",
       "<style scoped>\n",
       "    .dataframe tbody tr th:only-of-type {\n",
       "        vertical-align: middle;\n",
       "    }\n",
       "\n",
       "    .dataframe tbody tr th {\n",
       "        vertical-align: top;\n",
       "    }\n",
       "\n",
       "    .dataframe thead th {\n",
       "        text-align: right;\n",
       "    }\n",
       "</style>\n",
       "<table border=\"1\" class=\"dataframe\">\n",
       "  <thead>\n",
       "    <tr style=\"text-align: right;\">\n",
       "      <th></th>\n",
       "      <th>Class 0</th>\n",
       "      <th>Class 1</th>\n",
       "      <th>Class 2</th>\n",
       "      <th>Class 3</th>\n",
       "      <th>Class 4</th>\n",
       "      <th>Accuracy</th>\n",
       "      <th>AUC</th>\n",
       "      <th>G-mean</th>\n",
       "      <th>Avg_Pfm</th>\n",
       "      <th>Training Time</th>\n",
       "      <th>Res_time</th>\n",
       "    </tr>\n",
       "  </thead>\n",
       "  <tbody>\n",
       "    <tr>\n",
       "      <th>MLP-ROS-roc_auc</th>\n",
       "      <td>0.505015</td>\n",
       "      <td>0.451660</td>\n",
       "      <td>0.130387</td>\n",
       "      <td>0.339623</td>\n",
       "      <td>0.558824</td>\n",
       "      <td>0.480128</td>\n",
       "      <td>0.705914</td>\n",
       "      <td>0.355078</td>\n",
       "      <td>0.513707</td>\n",
       "      <td>22.544</td>\n",
       "      <td>0.061451</td>\n",
       "    </tr>\n",
       "    <tr>\n",
       "      <th>MLP-ROS-pr_auc</th>\n",
       "      <td>0.465081</td>\n",
       "      <td>0.396973</td>\n",
       "      <td>0.248619</td>\n",
       "      <td>0.245283</td>\n",
       "      <td>0.705882</td>\n",
       "      <td>0.446018</td>\n",
       "      <td>0.681473</td>\n",
       "      <td>0.380228</td>\n",
       "      <td>0.502573</td>\n",
       "      <td>23.230</td>\n",
       "      <td>0.061451</td>\n",
       "    </tr>\n",
       "  </tbody>\n",
       "</table>\n",
       "</div>"
      ],
      "text/plain": [
       "                  Class 0   Class 1   Class 2   Class 3   Class 4  Accuracy  \\\n",
       "MLP-ROS-roc_auc  0.505015  0.451660  0.130387  0.339623  0.558824  0.480128   \n",
       "MLP-ROS-pr_auc   0.465081  0.396973  0.248619  0.245283  0.705882  0.446018   \n",
       "\n",
       "                      AUC    G-mean   Avg_Pfm  Training Time  Res_time  \n",
       "MLP-ROS-roc_auc  0.705914  0.355078  0.513707         22.544  0.061451  \n",
       "MLP-ROS-pr_auc   0.681473  0.380228  0.502573         23.230  0.061451  "
      ]
     },
     "execution_count": 39,
     "metadata": {},
     "output_type": "execute_result"
    }
   ],
   "source": [
    "Resamples = {'ROS':             RandomOverSampler(), \n",
    "             }\n",
    "rsts = pd.DataFrame()\n",
    "for key,value in Resamples.items():\n",
    "    start = time.time()\n",
    "    X_res, y_res = value.fit_resample(X_train, y_train)\n",
    "    end = time.time()\n",
    "    res_time = end - start\n",
    "    print(key)\n",
    "    print('Resampled dataset shape %s' % Counter(y_res))\n",
    "    print('resampling time is {0:.2f} seconds'.format(res_time))\n",
    "    for name, metric in early_stop.items():\n",
    "        model = create_mlp(metric)\n",
    "        start = time.time()\n",
    "        monitor = model.fit(X_res, pd.get_dummies(y_res).values,\n",
    "                        callbacks=[early_stops(name)],\n",
    "                        validation_data=(X_val, pd.get_dummies(y_val).values),\n",
    "                        verbose=1, epochs = EPOCH)\n",
    "        end = time.time()\n",
    "        # use the model to make predictions with the test data\n",
    "        y_pred = model.predict(X_test)\n",
    "        # get the evaluation metrics\n",
    "        result = get_accs2(y_test.values, y_pred, end-start,'MLP-'+key+'-'+name)\n",
    "        result['Res_time'] = res_time\n",
    "        rsts = rsts.append(result)\n",
    "rsts"
   ]
  },
  {
   "cell_type": "markdown",
   "metadata": {
    "id": "rleqZyMvVQ4e"
   },
   "source": [
    "# Hybrid Resampling\n"
   ]
  },
  {
   "cell_type": "code",
   "execution_count": 40,
   "metadata": {
    "colab": {
     "base_uri": "https://localhost:8080/"
    },
    "id": "ebtofqp5Xo21",
    "outputId": "20a0a829-0c4d-428e-82c9-ed787e9852e1"
   },
   "outputs": [
    {
     "data": {
      "text/plain": [
       "Counter({0: 50723, 1: 6554, 3: 509, 2: 2895, 4: 109})"
      ]
     },
     "execution_count": 40,
     "metadata": {},
     "output_type": "execute_result"
    }
   ],
   "source": [
    "y_dict = Counter(y_train)\n",
    "y_dict"
   ]
  },
  {
   "cell_type": "markdown",
   "metadata": {
    "id": "m-dAKpcXyy3w"
   },
   "source": [
    "## Oversampling and then undersampling"
   ]
  },
  {
   "cell_type": "code",
   "execution_count": 41,
   "metadata": {
    "id": "uTMR48M-b-xZ"
   },
   "outputs": [],
   "source": [
    "ss = {}\n",
    "for i in range(2,5):\n",
    "    ss[i] = y_dict[1]\n",
    "oses = ['ROS','SMOTE']\n",
    "uses = ['RUS']"
   ]
  },
  {
   "cell_type": "code",
   "execution_count": 42,
   "metadata": {
    "colab": {
     "base_uri": "https://localhost:8080/",
     "height": 1000
    },
    "id": "te2eBMF3hRVt",
    "outputId": "5dc2cfcf-c394-4746-df42-dce317a21762"
   },
   "outputs": [
    {
     "name": "stdout",
     "output_type": "stream",
     "text": [
      "ROS-RUS\n",
      "Resampled dataset shape Counter({0: 6554, 1: 6554, 2: 6554, 3: 6554, 4: 6554})\n",
      "Resamling time 0.85 sec\n",
      "Train on 32770 samples, validate on 15198 samples\n",
      "Epoch 1/2\n",
      "32770/32770 [==============================] - 3s 88us/sample - loss: 1.5250 - roc_auc: 0.6489 - val_loss: 1.5057 - val_roc_auc: 0.7419\n",
      "Epoch 2/2\n",
      "32770/32770 [==============================] - 2s 59us/sample - loss: 1.4829 - roc_auc: 0.7078 - val_loss: 1.4485 - val_roc_auc: 0.7810\n",
      "Train on 32770 samples, validate on 15198 samples\n",
      "Epoch 1/2\n",
      "32770/32770 [==============================] - 3s 81us/sample - loss: 1.5238 - pr_auc: 0.3704 - val_loss: 1.5572 - val_pr_auc: 0.2805\n",
      "Epoch 2/2\n",
      "32770/32770 [==============================] - 2s 60us/sample - loss: 1.4837 - pr_auc: 0.4247 - val_loss: 1.4606 - val_pr_auc: 0.4759\n",
      "SMOTE-RUS\n",
      "Resampled dataset shape Counter({0: 6554, 1: 6554, 2: 6554, 3: 6554, 4: 6554})\n",
      "Resamling time 0.85 sec\n",
      "Train on 32770 samples, validate on 15198 samples\n",
      "Epoch 1/2\n",
      "32770/32770 [==============================] - 3s 77us/sample - loss: 1.5360 - roc_auc: 0.6384 - val_loss: 1.5163 - val_roc_auc: 0.7234\n",
      "Epoch 2/2\n",
      "32770/32770 [==============================] - 2s 58us/sample - loss: 1.4870 - roc_auc: 0.7109 - val_loss: 1.4628 - val_roc_auc: 0.7564\n",
      "Train on 32770 samples, validate on 15198 samples\n",
      "Epoch 1/2\n",
      "32770/32770 [==============================] - 3s 80us/sample - loss: 1.5314 - pr_auc: 0.3538 - val_loss: 1.4648 - val_pr_auc: 0.4990\n",
      "Epoch 2/2\n",
      "32770/32770 [==============================] - 2s 59us/sample - loss: 1.4943 - pr_auc: 0.4079 - val_loss: 1.4419 - val_pr_auc: 0.5126\n"
     ]
    },
    {
     "data": {
      "text/html": [
       "<div>\n",
       "<style scoped>\n",
       "    .dataframe tbody tr th:only-of-type {\n",
       "        vertical-align: middle;\n",
       "    }\n",
       "\n",
       "    .dataframe tbody tr th {\n",
       "        vertical-align: top;\n",
       "    }\n",
       "\n",
       "    .dataframe thead th {\n",
       "        text-align: right;\n",
       "    }\n",
       "</style>\n",
       "<table border=\"1\" class=\"dataframe\">\n",
       "  <thead>\n",
       "    <tr style=\"text-align: right;\">\n",
       "      <th></th>\n",
       "      <th>Class 0</th>\n",
       "      <th>Class 1</th>\n",
       "      <th>Class 2</th>\n",
       "      <th>Class 3</th>\n",
       "      <th>Class 4</th>\n",
       "      <th>Accuracy</th>\n",
       "      <th>AUC</th>\n",
       "      <th>G-mean</th>\n",
       "      <th>Avg_Pfm</th>\n",
       "      <th>Training Time</th>\n",
       "      <th>Res_time</th>\n",
       "    </tr>\n",
       "  </thead>\n",
       "  <tbody>\n",
       "    <tr>\n",
       "      <th>MLP-ROS-roc_auc</th>\n",
       "      <td>0.505015</td>\n",
       "      <td>0.451660</td>\n",
       "      <td>0.130387</td>\n",
       "      <td>0.339623</td>\n",
       "      <td>0.558824</td>\n",
       "      <td>0.480128</td>\n",
       "      <td>0.705914</td>\n",
       "      <td>0.355078</td>\n",
       "      <td>0.513707</td>\n",
       "      <td>22.544</td>\n",
       "      <td>0.061451</td>\n",
       "    </tr>\n",
       "    <tr>\n",
       "      <th>MLP-ROS-pr_auc</th>\n",
       "      <td>0.465081</td>\n",
       "      <td>0.396973</td>\n",
       "      <td>0.248619</td>\n",
       "      <td>0.245283</td>\n",
       "      <td>0.705882</td>\n",
       "      <td>0.446018</td>\n",
       "      <td>0.681473</td>\n",
       "      <td>0.380228</td>\n",
       "      <td>0.502573</td>\n",
       "      <td>23.230</td>\n",
       "      <td>0.061451</td>\n",
       "    </tr>\n",
       "    <tr>\n",
       "      <th>MLP-ROS-RUS-roc_auc</th>\n",
       "      <td>0.516560</td>\n",
       "      <td>0.315918</td>\n",
       "      <td>0.174586</td>\n",
       "      <td>0.220126</td>\n",
       "      <td>0.823529</td>\n",
       "      <td>0.476707</td>\n",
       "      <td>0.654896</td>\n",
       "      <td>0.348828</td>\n",
       "      <td>0.493477</td>\n",
       "      <td>4.855</td>\n",
       "      <td>0.850442</td>\n",
       "    </tr>\n",
       "    <tr>\n",
       "      <th>MLP-ROS-RUS-pr_auc</th>\n",
       "      <td>0.548546</td>\n",
       "      <td>0.345703</td>\n",
       "      <td>0.132597</td>\n",
       "      <td>0.182390</td>\n",
       "      <td>0.794118</td>\n",
       "      <td>0.504238</td>\n",
       "      <td>0.648944</td>\n",
       "      <td>0.325287</td>\n",
       "      <td>0.492823</td>\n",
       "      <td>4.662</td>\n",
       "      <td>0.850442</td>\n",
       "    </tr>\n",
       "    <tr>\n",
       "      <th>MLP-SMOTE-RUS-roc_auc</th>\n",
       "      <td>0.518390</td>\n",
       "      <td>0.383301</td>\n",
       "      <td>0.134807</td>\n",
       "      <td>0.163522</td>\n",
       "      <td>0.764706</td>\n",
       "      <td>0.483024</td>\n",
       "      <td>0.660762</td>\n",
       "      <td>0.319886</td>\n",
       "      <td>0.487891</td>\n",
       "      <td>4.477</td>\n",
       "      <td>0.846484</td>\n",
       "    </tr>\n",
       "    <tr>\n",
       "      <th>MLP-SMOTE-RUS-pr_auc</th>\n",
       "      <td>0.489559</td>\n",
       "      <td>0.443848</td>\n",
       "      <td>0.112707</td>\n",
       "      <td>0.213836</td>\n",
       "      <td>0.852941</td>\n",
       "      <td>0.465021</td>\n",
       "      <td>0.681053</td>\n",
       "      <td>0.338843</td>\n",
       "      <td>0.494972</td>\n",
       "      <td>4.592</td>\n",
       "      <td>0.846484</td>\n",
       "    </tr>\n",
       "  </tbody>\n",
       "</table>\n",
       "</div>"
      ],
      "text/plain": [
       "                        Class 0   Class 1   Class 2   Class 3   Class 4  \\\n",
       "MLP-ROS-roc_auc        0.505015  0.451660  0.130387  0.339623  0.558824   \n",
       "MLP-ROS-pr_auc         0.465081  0.396973  0.248619  0.245283  0.705882   \n",
       "MLP-ROS-RUS-roc_auc    0.516560  0.315918  0.174586  0.220126  0.823529   \n",
       "MLP-ROS-RUS-pr_auc     0.548546  0.345703  0.132597  0.182390  0.794118   \n",
       "MLP-SMOTE-RUS-roc_auc  0.518390  0.383301  0.134807  0.163522  0.764706   \n",
       "MLP-SMOTE-RUS-pr_auc   0.489559  0.443848  0.112707  0.213836  0.852941   \n",
       "\n",
       "                       Accuracy       AUC    G-mean   Avg_Pfm  Training Time  \\\n",
       "MLP-ROS-roc_auc        0.480128  0.705914  0.355078  0.513707         22.544   \n",
       "MLP-ROS-pr_auc         0.446018  0.681473  0.380228  0.502573         23.230   \n",
       "MLP-ROS-RUS-roc_auc    0.476707  0.654896  0.348828  0.493477          4.855   \n",
       "MLP-ROS-RUS-pr_auc     0.504238  0.648944  0.325287  0.492823          4.662   \n",
       "MLP-SMOTE-RUS-roc_auc  0.483024  0.660762  0.319886  0.487891          4.477   \n",
       "MLP-SMOTE-RUS-pr_auc   0.465021  0.681053  0.338843  0.494972          4.592   \n",
       "\n",
       "                       Res_time  \n",
       "MLP-ROS-roc_auc        0.061451  \n",
       "MLP-ROS-pr_auc         0.061451  \n",
       "MLP-ROS-RUS-roc_auc    0.850442  \n",
       "MLP-ROS-RUS-pr_auc     0.850442  \n",
       "MLP-SMOTE-RUS-roc_auc  0.846484  \n",
       "MLP-SMOTE-RUS-pr_auc   0.846484  "
      ]
     },
     "execution_count": 42,
     "metadata": {},
     "output_type": "execute_result"
    }
   ],
   "source": [
    "for os_name in oses:\n",
    "    for us_name in uses:\n",
    "        key = os_name + '-'+us_name\n",
    "        print(key)\n",
    "        if us_name == 'ROS': \n",
    "            res = RandomOverSampler(sampling_strategy=ss)\n",
    "        else: res = SMOTE(sampling_strategy=ss)\n",
    "        start = time.time()\n",
    "        X_res, y_res = res.fit_resample(X_train, y_train)\n",
    "\n",
    "        if us_name == 'RUS': \n",
    "            res = RandomUnderSampler(sampling_strategy='majority')\n",
    "        else: res = NearMiss(sampling_strategy='majority')  \n",
    "        X_res, y_res = res.fit_resample(X_res, y_res)\n",
    "        end = time.time()\n",
    "        res_time = end-start\n",
    "\n",
    "        print('Resampled dataset shape %s' % Counter(y_res))\n",
    "        print('Resamling time %.2f sec' % (res_time))\n",
    "        for name, metric in early_stop.items():\n",
    "            model = create_mlp(metric)\n",
    "            start = time.time()\n",
    "            monitor = model.fit(X_res, pd.get_dummies(y_res).values,\n",
    "                            callbacks=[early_stops(name)],\n",
    "                            validation_data=(X_val, pd.get_dummies(y_val).values),\n",
    "                            verbose=1, epochs = EPOCH)\n",
    "            end = time.time()\n",
    "            # use the model to make predictions with the test data\n",
    "            y_pred = model.predict(X_test)\n",
    "            # get the evaluation metrics\n",
    "            result = get_accs2(y_test.values, y_pred, end-start,'MLP-'+key+'-'+name)\n",
    "            result['Res_time'] = res_time\n",
    "            rsts = rsts.append(result)\n",
    "rsts.to_csv('MLP_AUC_RES.csv')"
   ]
  },
  {
   "cell_type": "markdown",
   "metadata": {
    "id": "OwgGM78Bysq5"
   },
   "source": [
    "## Under sampling and then over sampling"
   ]
  },
  {
   "cell_type": "code",
   "execution_count": 43,
   "metadata": {},
   "outputs": [],
   "source": [
    "oses = ['ROS','SMOTE']\n",
    "uses = ['RUS','NearMiss']"
   ]
  },
  {
   "cell_type": "code",
   "execution_count": 44,
   "metadata": {
    "colab": {
     "base_uri": "https://localhost:8080/",
     "height": 501
    },
    "id": "3bilJdcJzW-J",
    "outputId": "427368a2-12ef-4c39-f94e-4d206ddbc40d"
   },
   "outputs": [
    {
     "name": "stdout",
     "output_type": "stream",
     "text": [
      "RUS2ROS\n",
      "Resampled dataset shape Counter({0: 6554, 1: 6554, 2: 6554, 3: 6554, 4: 6554})\n",
      "Resamling time 0.80 sec\n",
      "Train on 32770 samples, validate on 15198 samples\n",
      "Epoch 1/2\n",
      "32770/32770 [==============================] - 3s 78us/sample - loss: 1.5284 - roc_auc: 0.6474 - val_loss: 1.5411 - val_roc_auc: 0.7313\n",
      "Epoch 2/2\n",
      "32770/32770 [==============================] - 2s 59us/sample - loss: 1.4901 - roc_auc: 0.7040 - val_loss: 1.4680 - val_roc_auc: 0.8098\n",
      "Train on 32770 samples, validate on 15198 samples\n",
      "Epoch 1/2\n",
      "32770/32770 [==============================] - 3s 81us/sample - loss: 1.5685 - pr_auc: 0.2860 - val_loss: 1.5831 - val_pr_auc: 0.2543\n",
      "Epoch 2/2\n",
      "32770/32770 [==============================] - 2s 59us/sample - loss: 1.4994 - pr_auc: 0.3983 - val_loss: 1.4662 - val_pr_auc: 0.4823\n",
      "RUS2SMOTE\n",
      "Resampled dataset shape Counter({0: 6554, 1: 6554, 2: 6554, 3: 6554, 4: 6554})\n",
      "Resamling time 0.80 sec\n",
      "Train on 32770 samples, validate on 15198 samples\n",
      "Epoch 1/2\n",
      "32770/32770 [==============================] - 3s 88us/sample - loss: 1.5400 - roc_auc: 0.6399 - val_loss: 1.5465 - val_roc_auc: 0.6893\n",
      "Epoch 2/2\n",
      "32770/32770 [==============================] - 2s 59us/sample - loss: 1.4896 - roc_auc: 0.7088 - val_loss: 1.5165 - val_roc_auc: 0.7267\n",
      "Train on 32770 samples, validate on 15198 samples\n",
      "Epoch 1/2\n",
      "32770/32770 [==============================] - 3s 82us/sample - loss: 1.5344 - pr_auc: 0.3465 - val_loss: 1.4554 - val_pr_auc: 0.5172\n",
      "Epoch 2/2\n",
      "32770/32770 [==============================] - 2s 60us/sample - loss: 1.4838 - pr_auc: 0.4213 - val_loss: 1.4428 - val_pr_auc: 0.5168\n",
      "NearMiss2ROS\n",
      "Resampled dataset shape Counter({0: 6554, 1: 6554, 2: 6554, 3: 6554, 4: 6554})\n",
      "Resamling time 1.30 sec\n",
      "Train on 32770 samples, validate on 15198 samples\n",
      "Epoch 1/2\n",
      "32770/32770 [==============================] - 3s 77us/sample - loss: 1.5004 - roc_auc: 0.6835 - val_loss: 1.5433 - val_roc_auc: 0.5365\n",
      "Epoch 2/2\n",
      "32770/32770 [==============================] - 2s 59us/sample - loss: 1.4346 - roc_auc: 0.7543 - val_loss: 1.5525 - val_roc_auc: 0.5076\n",
      "Train on 32770 samples, validate on 15198 samples\n",
      "Epoch 1/2\n",
      "32770/32770 [==============================] - 3s 80us/sample - loss: 1.4824 - pr_auc: 0.4161 - val_loss: 1.4810 - val_pr_auc: 0.4505\n",
      "Epoch 2/2\n",
      "32770/32770 [==============================] - 2s 60us/sample - loss: 1.4253 - pr_auc: 0.4865 - val_loss: 1.5234 - val_pr_auc: 0.3999\n",
      "NearMiss2SMOTE\n",
      "Resampled dataset shape Counter({0: 6554, 1: 6554, 2: 6554, 3: 6554, 4: 6554})\n",
      "Resamling time 1.36 sec\n",
      "Train on 32770 samples, validate on 15198 samples\n",
      "Epoch 1/2\n",
      "32770/32770 [==============================] - 2s 76us/sample - loss: 1.5123 - roc_auc: 0.6647 - val_loss: 1.5343 - val_roc_auc: 0.5769\n",
      "Epoch 2/2\n",
      "32770/32770 [==============================] - 2s 58us/sample - loss: 1.4482 - roc_auc: 0.7429 - val_loss: 1.5571 - val_roc_auc: 0.5335\n",
      "Train on 32770 samples, validate on 15198 samples\n",
      "Epoch 1/2\n",
      "32770/32770 [==============================] - 3s 80us/sample - loss: 1.4949 - pr_auc: 0.3909 - val_loss: 1.4784 - val_pr_auc: 0.4549\n",
      "Epoch 2/2\n",
      "32770/32770 [==============================] - 2s 59us/sample - loss: 1.4337 - pr_auc: 0.4709 - val_loss: 1.5213 - val_pr_auc: 0.4017\n"
     ]
    },
    {
     "data": {
      "text/html": [
       "<div>\n",
       "<style scoped>\n",
       "    .dataframe tbody tr th:only-of-type {\n",
       "        vertical-align: middle;\n",
       "    }\n",
       "\n",
       "    .dataframe tbody tr th {\n",
       "        vertical-align: top;\n",
       "    }\n",
       "\n",
       "    .dataframe thead th {\n",
       "        text-align: right;\n",
       "    }\n",
       "</style>\n",
       "<table border=\"1\" class=\"dataframe\">\n",
       "  <thead>\n",
       "    <tr style=\"text-align: right;\">\n",
       "      <th></th>\n",
       "      <th>Class 0</th>\n",
       "      <th>Class 1</th>\n",
       "      <th>Class 2</th>\n",
       "      <th>Class 3</th>\n",
       "      <th>Class 4</th>\n",
       "      <th>Accuracy</th>\n",
       "      <th>AUC</th>\n",
       "      <th>G-mean</th>\n",
       "      <th>Avg_Pfm</th>\n",
       "      <th>Training Time</th>\n",
       "      <th>Res_time</th>\n",
       "    </tr>\n",
       "  </thead>\n",
       "  <tbody>\n",
       "    <tr>\n",
       "      <th>MLP-ROS-roc_auc</th>\n",
       "      <td>0.505015</td>\n",
       "      <td>0.451660</td>\n",
       "      <td>0.130387</td>\n",
       "      <td>0.339623</td>\n",
       "      <td>0.558824</td>\n",
       "      <td>0.480128</td>\n",
       "      <td>0.705914</td>\n",
       "      <td>0.355078</td>\n",
       "      <td>0.513707</td>\n",
       "      <td>22.544</td>\n",
       "      <td>0.061451</td>\n",
       "    </tr>\n",
       "    <tr>\n",
       "      <th>MLP-ROS-pr_auc</th>\n",
       "      <td>0.465081</td>\n",
       "      <td>0.396973</td>\n",
       "      <td>0.248619</td>\n",
       "      <td>0.245283</td>\n",
       "      <td>0.705882</td>\n",
       "      <td>0.446018</td>\n",
       "      <td>0.681473</td>\n",
       "      <td>0.380228</td>\n",
       "      <td>0.502573</td>\n",
       "      <td>23.230</td>\n",
       "      <td>0.061451</td>\n",
       "    </tr>\n",
       "    <tr>\n",
       "      <th>MLP-ROS-RUS-roc_auc</th>\n",
       "      <td>0.516560</td>\n",
       "      <td>0.315918</td>\n",
       "      <td>0.174586</td>\n",
       "      <td>0.220126</td>\n",
       "      <td>0.823529</td>\n",
       "      <td>0.476707</td>\n",
       "      <td>0.654896</td>\n",
       "      <td>0.348828</td>\n",
       "      <td>0.493477</td>\n",
       "      <td>4.855</td>\n",
       "      <td>0.850442</td>\n",
       "    </tr>\n",
       "    <tr>\n",
       "      <th>MLP-ROS-RUS-pr_auc</th>\n",
       "      <td>0.548546</td>\n",
       "      <td>0.345703</td>\n",
       "      <td>0.132597</td>\n",
       "      <td>0.182390</td>\n",
       "      <td>0.794118</td>\n",
       "      <td>0.504238</td>\n",
       "      <td>0.648944</td>\n",
       "      <td>0.325287</td>\n",
       "      <td>0.492823</td>\n",
       "      <td>4.662</td>\n",
       "      <td>0.850442</td>\n",
       "    </tr>\n",
       "    <tr>\n",
       "      <th>MLP-SMOTE-RUS-roc_auc</th>\n",
       "      <td>0.518390</td>\n",
       "      <td>0.383301</td>\n",
       "      <td>0.134807</td>\n",
       "      <td>0.163522</td>\n",
       "      <td>0.764706</td>\n",
       "      <td>0.483024</td>\n",
       "      <td>0.660762</td>\n",
       "      <td>0.319886</td>\n",
       "      <td>0.487891</td>\n",
       "      <td>4.477</td>\n",
       "      <td>0.846484</td>\n",
       "    </tr>\n",
       "    <tr>\n",
       "      <th>MLP-SMOTE-RUS-pr_auc</th>\n",
       "      <td>0.489559</td>\n",
       "      <td>0.443848</td>\n",
       "      <td>0.112707</td>\n",
       "      <td>0.213836</td>\n",
       "      <td>0.852941</td>\n",
       "      <td>0.465021</td>\n",
       "      <td>0.681053</td>\n",
       "      <td>0.338843</td>\n",
       "      <td>0.494972</td>\n",
       "      <td>4.592</td>\n",
       "      <td>0.846484</td>\n",
       "    </tr>\n",
       "    <tr>\n",
       "      <th>MLP-RUS2ROS-roc_auc</th>\n",
       "      <td>0.532648</td>\n",
       "      <td>0.359375</td>\n",
       "      <td>0.109392</td>\n",
       "      <td>0.232704</td>\n",
       "      <td>0.764706</td>\n",
       "      <td>0.491709</td>\n",
       "      <td>0.653861</td>\n",
       "      <td>0.326779</td>\n",
       "      <td>0.490783</td>\n",
       "      <td>4.540</td>\n",
       "      <td>0.800012</td>\n",
       "    </tr>\n",
       "    <tr>\n",
       "      <th>MLP-RUS2ROS-pr_auc</th>\n",
       "      <td>0.539714</td>\n",
       "      <td>0.357422</td>\n",
       "      <td>0.093923</td>\n",
       "      <td>0.264151</td>\n",
       "      <td>0.764706</td>\n",
       "      <td>0.496921</td>\n",
       "      <td>0.659849</td>\n",
       "      <td>0.325606</td>\n",
       "      <td>0.494125</td>\n",
       "      <td>4.659</td>\n",
       "      <td>0.800012</td>\n",
       "    </tr>\n",
       "    <tr>\n",
       "      <th>MLP-RUS2SMOTE-roc_auc</th>\n",
       "      <td>0.376128</td>\n",
       "      <td>0.520996</td>\n",
       "      <td>0.091713</td>\n",
       "      <td>0.264151</td>\n",
       "      <td>0.705882</td>\n",
       "      <td>0.377849</td>\n",
       "      <td>0.657507</td>\n",
       "      <td>0.319917</td>\n",
       "      <td>0.451758</td>\n",
       "      <td>4.857</td>\n",
       "      <td>0.795638</td>\n",
       "    </tr>\n",
       "    <tr>\n",
       "      <th>MLP-RUS2SMOTE-pr_auc</th>\n",
       "      <td>0.552583</td>\n",
       "      <td>0.344238</td>\n",
       "      <td>0.141436</td>\n",
       "      <td>0.207547</td>\n",
       "      <td>0.705882</td>\n",
       "      <td>0.507922</td>\n",
       "      <td>0.673974</td>\n",
       "      <td>0.330471</td>\n",
       "      <td>0.504123</td>\n",
       "      <td>4.720</td>\n",
       "      <td>0.795638</td>\n",
       "    </tr>\n",
       "    <tr>\n",
       "      <th>MLP-NearMiss2ROS-roc_auc</th>\n",
       "      <td>0.339348</td>\n",
       "      <td>0.411133</td>\n",
       "      <td>0.185635</td>\n",
       "      <td>0.075472</td>\n",
       "      <td>0.676471</td>\n",
       "      <td>0.338159</td>\n",
       "      <td>0.599995</td>\n",
       "      <td>0.265622</td>\n",
       "      <td>0.401259</td>\n",
       "      <td>4.501</td>\n",
       "      <td>1.300485</td>\n",
       "    </tr>\n",
       "    <tr>\n",
       "      <th>MLP-NearMiss2ROS-pr_auc</th>\n",
       "      <td>0.356381</td>\n",
       "      <td>0.451660</td>\n",
       "      <td>0.085083</td>\n",
       "      <td>0.257862</td>\n",
       "      <td>0.647059</td>\n",
       "      <td>0.353424</td>\n",
       "      <td>0.634452</td>\n",
       "      <td>0.296333</td>\n",
       "      <td>0.428070</td>\n",
       "      <td>4.638</td>\n",
       "      <td>1.300485</td>\n",
       "    </tr>\n",
       "    <tr>\n",
       "      <th>MLP-NearMiss2SMOTE-roc_auc</th>\n",
       "      <td>0.315059</td>\n",
       "      <td>0.453125</td>\n",
       "      <td>0.247514</td>\n",
       "      <td>0.044025</td>\n",
       "      <td>0.617647</td>\n",
       "      <td>0.324999</td>\n",
       "      <td>0.622047</td>\n",
       "      <td>0.249190</td>\n",
       "      <td>0.398745</td>\n",
       "      <td>4.452</td>\n",
       "      <td>1.360814</td>\n",
       "    </tr>\n",
       "    <tr>\n",
       "      <th>MLP-NearMiss2SMOTE-pr_auc</th>\n",
       "      <td>0.369819</td>\n",
       "      <td>0.370117</td>\n",
       "      <td>0.182320</td>\n",
       "      <td>0.245283</td>\n",
       "      <td>0.588235</td>\n",
       "      <td>0.360267</td>\n",
       "      <td>0.633838</td>\n",
       "      <td>0.324546</td>\n",
       "      <td>0.439550</td>\n",
       "      <td>4.619</td>\n",
       "      <td>1.360814</td>\n",
       "    </tr>\n",
       "  </tbody>\n",
       "</table>\n",
       "</div>"
      ],
      "text/plain": [
       "                             Class 0   Class 1   Class 2   Class 3   Class 4  \\\n",
       "MLP-ROS-roc_auc             0.505015  0.451660  0.130387  0.339623  0.558824   \n",
       "MLP-ROS-pr_auc              0.465081  0.396973  0.248619  0.245283  0.705882   \n",
       "MLP-ROS-RUS-roc_auc         0.516560  0.315918  0.174586  0.220126  0.823529   \n",
       "MLP-ROS-RUS-pr_auc          0.548546  0.345703  0.132597  0.182390  0.794118   \n",
       "MLP-SMOTE-RUS-roc_auc       0.518390  0.383301  0.134807  0.163522  0.764706   \n",
       "MLP-SMOTE-RUS-pr_auc        0.489559  0.443848  0.112707  0.213836  0.852941   \n",
       "MLP-RUS2ROS-roc_auc         0.532648  0.359375  0.109392  0.232704  0.764706   \n",
       "MLP-RUS2ROS-pr_auc          0.539714  0.357422  0.093923  0.264151  0.764706   \n",
       "MLP-RUS2SMOTE-roc_auc       0.376128  0.520996  0.091713  0.264151  0.705882   \n",
       "MLP-RUS2SMOTE-pr_auc        0.552583  0.344238  0.141436  0.207547  0.705882   \n",
       "MLP-NearMiss2ROS-roc_auc    0.339348  0.411133  0.185635  0.075472  0.676471   \n",
       "MLP-NearMiss2ROS-pr_auc     0.356381  0.451660  0.085083  0.257862  0.647059   \n",
       "MLP-NearMiss2SMOTE-roc_auc  0.315059  0.453125  0.247514  0.044025  0.617647   \n",
       "MLP-NearMiss2SMOTE-pr_auc   0.369819  0.370117  0.182320  0.245283  0.588235   \n",
       "\n",
       "                            Accuracy       AUC    G-mean   Avg_Pfm  \\\n",
       "MLP-ROS-roc_auc             0.480128  0.705914  0.355078  0.513707   \n",
       "MLP-ROS-pr_auc              0.446018  0.681473  0.380228  0.502573   \n",
       "MLP-ROS-RUS-roc_auc         0.476707  0.654896  0.348828  0.493477   \n",
       "MLP-ROS-RUS-pr_auc          0.504238  0.648944  0.325287  0.492823   \n",
       "MLP-SMOTE-RUS-roc_auc       0.483024  0.660762  0.319886  0.487891   \n",
       "MLP-SMOTE-RUS-pr_auc        0.465021  0.681053  0.338843  0.494972   \n",
       "MLP-RUS2ROS-roc_auc         0.491709  0.653861  0.326779  0.490783   \n",
       "MLP-RUS2ROS-pr_auc          0.496921  0.659849  0.325606  0.494125   \n",
       "MLP-RUS2SMOTE-roc_auc       0.377849  0.657507  0.319917  0.451758   \n",
       "MLP-RUS2SMOTE-pr_auc        0.507922  0.673974  0.330471  0.504123   \n",
       "MLP-NearMiss2ROS-roc_auc    0.338159  0.599995  0.265622  0.401259   \n",
       "MLP-NearMiss2ROS-pr_auc     0.353424  0.634452  0.296333  0.428070   \n",
       "MLP-NearMiss2SMOTE-roc_auc  0.324999  0.622047  0.249190  0.398745   \n",
       "MLP-NearMiss2SMOTE-pr_auc   0.360267  0.633838  0.324546  0.439550   \n",
       "\n",
       "                            Training Time  Res_time  \n",
       "MLP-ROS-roc_auc                    22.544  0.061451  \n",
       "MLP-ROS-pr_auc                     23.230  0.061451  \n",
       "MLP-ROS-RUS-roc_auc                 4.855  0.850442  \n",
       "MLP-ROS-RUS-pr_auc                  4.662  0.850442  \n",
       "MLP-SMOTE-RUS-roc_auc               4.477  0.846484  \n",
       "MLP-SMOTE-RUS-pr_auc                4.592  0.846484  \n",
       "MLP-RUS2ROS-roc_auc                 4.540  0.800012  \n",
       "MLP-RUS2ROS-pr_auc                  4.659  0.800012  \n",
       "MLP-RUS2SMOTE-roc_auc               4.857  0.795638  \n",
       "MLP-RUS2SMOTE-pr_auc                4.720  0.795638  \n",
       "MLP-NearMiss2ROS-roc_auc            4.501  1.300485  \n",
       "MLP-NearMiss2ROS-pr_auc             4.638  1.300485  \n",
       "MLP-NearMiss2SMOTE-roc_auc          4.452  1.360814  \n",
       "MLP-NearMiss2SMOTE-pr_auc           4.619  1.360814  "
      ]
     },
     "execution_count": 44,
     "metadata": {},
     "output_type": "execute_result"
    }
   ],
   "source": [
    "for us_name in uses:\n",
    "    for os_name in oses:\n",
    "        key = us_name + '2'+os_name\n",
    "        print(key)\n",
    "        if us_name == 'RUS': \n",
    "            res = RandomUnderSampler(sampling_strategy={0: y_dict[1]})\n",
    "        else: res = NearMiss(sampling_strategy={0: y_dict[1]})\n",
    "        start = time.time()\n",
    "        X_res, y_res = res.fit_resample(X_train, y_train)\n",
    "\n",
    "        if us_name == 'ROS': \n",
    "            res = RandomOverSampler(sampling_strategy='not majority')\n",
    "        else: res = SMOTE(sampling_strategy='not majority')\n",
    "        X_res, y_res = res.fit_resample(X_res, y_res)\n",
    "        end = time.time()\n",
    "        res_time = end-start\n",
    "        print('Resampled dataset shape %s' % Counter(y_res))\n",
    "        print('Resamling time %.2f sec' % (res_time))\n",
    "        for name, metric in early_stop.items():\n",
    "            model = create_mlp(metric)\n",
    "            start = time.time()\n",
    "            monitor = model.fit(X_res, pd.get_dummies(y_res).values,\n",
    "                            callbacks=[early_stops(name)],\n",
    "                            validation_data=(X_val, pd.get_dummies(y_val).values),\n",
    "                            verbose=1, epochs = EPOCH)\n",
    "            end = time.time()\n",
    "            # use the model to make predictions with the test data\n",
    "            y_pred = model.predict(X_test)\n",
    "            # get the evaluation metrics\n",
    "            result = get_accs2(y_test.values, y_pred, end-start,'MLP-'+key+'-'+name)\n",
    "            result['Res_time'] = res_time\n",
    "            rsts = rsts.append(result)\n",
    "rsts.to_csv('MLP_AUC_RES.csv')"
   ]
  },
  {
   "cell_type": "code",
   "execution_count": 46,
   "metadata": {},
   "outputs": [],
   "source": [
    "rsts.to_csv('MLP_AUC_RES.csv')"
   ]
  }
 ],
 "metadata": {
  "colab": {
   "collapsed_sections": [],
   "include_colab_link": true,
   "name": "VCA_2.1_MLP_resampling.ipynb",
   "provenance": [],
   "toc_visible": true
  },
  "kernelspec": {
   "display_name": "Python 3",
   "language": "python",
   "name": "python3"
  },
  "language_info": {
   "codemirror_mode": {
    "name": "ipython",
    "version": 3
   },
   "file_extension": ".py",
   "mimetype": "text/x-python",
   "name": "python",
   "nbconvert_exporter": "python",
   "pygments_lexer": "ipython3",
   "version": "3.6.10"
  }
 },
 "nbformat": 4,
 "nbformat_minor": 4
}
