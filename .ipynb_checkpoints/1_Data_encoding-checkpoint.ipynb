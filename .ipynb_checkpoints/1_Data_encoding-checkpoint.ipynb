{
  "nbformat": 4,
  "nbformat_minor": 0,
  "metadata": {
    "colab": {
      "name": "VCA_2_1_Data_encoding.ipynb",
      "provenance": [],
      "collapsed_sections": [],
      "toc_visible": true
    },
    "kernelspec": {
      "display_name": "Python 3",
      "language": "python",
      "name": "python3"
    },
    "language_info": {
      "codemirror_mode": {
        "name": "ipython",
        "version": 3
      },
      "file_extension": ".py",
      "mimetype": "text/x-python",
      "name": "python",
      "nbconvert_exporter": "python",
      "pygments_lexer": "ipython3",
      "version": "3.6.10"
    }
  },
  "cells": [
    {
      "cell_type": "markdown",
      "metadata": {
        "id": "view-in-github"
      },
      "source": [
        "<a href=\"https://colab.research.google.com/github/duonghung86/Injury-severity-classification/blob/main/VCA_2_1_MLP_earlystopping.ipynb\" target=\"_parent\"><img src=\"https://colab.research.google.com/assets/colab-badge.svg\" alt=\"Open In Colab\"/></a>"
      ]
    },
    {
      "cell_type": "code",
      "metadata": {
        "colab": {
          "base_uri": "https://localhost:8080/"
        },
        "id": "Bo-3JT-1cl14",
        "outputId": "4ed85e6f-052a-4490-a39a-f3be02e41e55"
      },
      "source": [
        "from psutil import virtual_memory,cpu_percent\n",
        "ram_gb = virtual_memory().total / 1e9\n",
        "print('Your runtime has {:.1f} gigabytes of available RAM\\n'.format(ram_gb))\n",
        "print('Current system-wide CPU utilization %: ',cpu_percent())\n",
        "#Remove all warning\n",
        "import warnings\n",
        "warnings.filterwarnings(\"ignore\")"
      ],
      "execution_count": null,
      "outputs": [
        {
          "output_type": "stream",
          "text": [
            "Your runtime has 13.7 gigabytes of available RAM\n",
            "\n",
            "Current system-wide CPU utilization %:  0.0\n"
          ],
          "name": "stdout"
        }
      ]
    },
    {
      "cell_type": "code",
      "metadata": {
        "colab": {
          "base_uri": "https://localhost:8080/"
        },
        "id": "Ond2r97pZvoF",
        "outputId": "1a660050-049e-43b8-a159-919c2a95931e"
      },
      "source": [
        "# Basic packages\n",
        "import matplotlib.pyplot as plt\n",
        "import numpy as np\n",
        "import pandas as pd\n",
        "import seaborn as sns\n",
        "import time\n",
        "import os\n",
        "from collections import Counter\n",
        "# Preprocessing\n",
        "from sklearn.preprocessing import StandardScaler # Standardization\n",
        "from sklearn.model_selection import train_test_split\n",
        "from sklearn.metrics import confusion_matrix\n",
        "\n",
        "# Machine learning algos\n",
        "from sklearn.linear_model import LogisticRegression,LogisticRegressionCV\n",
        "from sklearn.tree import DecisionTreeClassifier\n",
        "from sklearn.ensemble import RandomForestClassifier\n",
        "# Imblearn\n",
        "from imblearn.metrics import geometric_mean_score\n",
        "from imblearn.over_sampling import SMOTE, RandomOverSampler,BorderlineSMOTE\n",
        "from imblearn.under_sampling import RandomUnderSampler,NearMiss,EditedNearestNeighbours\n",
        "\n",
        "# Grid search\n",
        "from tensorflow.keras.optimizers import Adam\n",
        "# Tensorflow\n",
        "import tensorflow as tf\n",
        "print(tf.__version__)\n",
        "from tensorflow import feature_column  # for data wrangling\n",
        "from tensorflow.keras.losses import SparseCategoricalCrossentropy\n",
        "from tensorflow.keras.layers import Dense,Dropout, BatchNormalization\n",
        "from tensorflow.keras.models import Sequential\n",
        "from tensorflow.keras.callbacks import EarlyStopping\n",
        "from tensorflow.keras.metrics import SparseCategoricalAccuracy\n",
        "from tensorflow_addons.metrics import CohenKappa,F1Score\n",
        "from tensorboard.plugins.hparams import api as hp\n"
      ],
      "execution_count": null,
      "outputs": [
        {
          "output_type": "stream",
          "text": [
            "2.3.0\n"
          ],
          "name": "stdout"
        }
      ]
    },
    {
      "cell_type": "code",
      "metadata": {
        "colab": {
          "base_uri": "https://localhost:8080/"
        },
        "id": "OMFYXIMkFSak",
        "outputId": "678ad30c-3e4a-4fa0-ab10-16bb6e66bf06"
      },
      "source": [
        "url = 'https://github.com/duonghung86/Injury-severity-classification/blob/main/Prepared%20Texas%202019.zip?raw=true' \n",
        "data_path = tf.keras.utils.get_file(origin=url, fname=url.split('/')[-1].split('?')[0], extract=True)\n",
        "data_path = data_path.replace('%20',' ').replace('.zip','.csv')"
      ],
      "execution_count": null,
      "outputs": [
        {
          "output_type": "stream",
          "text": [
            "Downloading data from https://github.com/duonghung86/Injury-severity-classification/blob/main/Prepared%20Texas%202019.zip?raw=true\n",
            "10592256/10587626 [==============================] - 0s 0us/step\n"
          ],
          "name": "stdout"
        }
      ]
    },
    {
      "cell_type": "code",
      "metadata": {
        "colab": {
          "base_uri": "https://localhost:8080/",
          "height": 315
        },
        "id": "UPLNCpWjZvoG",
        "outputId": "aca7a876-f8af-414f-c729-4c10e9edb699"
      },
      "source": [
        "# Load data\n",
        "df = pd.read_csv(data_path)\n",
        "print(df.shape)\n",
        "df.head(3)"
      ],
      "execution_count": null,
      "outputs": [
        {
          "output_type": "stream",
          "text": [
            "(949856, 19)\n"
          ],
          "name": "stdout"
        },
        {
          "output_type": "execute_result",
          "data": {
            "text/html": [
              "<div>\n",
              "<style scoped>\n",
              "    .dataframe tbody tr th:only-of-type {\n",
              "        vertical-align: middle;\n",
              "    }\n",
              "\n",
              "    .dataframe tbody tr th {\n",
              "        vertical-align: top;\n",
              "    }\n",
              "\n",
              "    .dataframe thead th {\n",
              "        text-align: right;\n",
              "    }\n",
              "</style>\n",
              "<table border=\"1\" class=\"dataframe\">\n",
              "  <thead>\n",
              "    <tr style=\"text-align: right;\">\n",
              "      <th></th>\n",
              "      <th>Prsn_Injry_Sev</th>\n",
              "      <th>Prsn_Age</th>\n",
              "      <th>Prsn_Gndr</th>\n",
              "      <th>Wthr_Cond</th>\n",
              "      <th>Light_Cond</th>\n",
              "      <th>Surf_Cond</th>\n",
              "      <th>Veh_Body_Styl</th>\n",
              "      <th>Prsn_Rest</th>\n",
              "      <th>Prsn_Drg_Rslt</th>\n",
              "      <th>Harm_Evnt</th>\n",
              "      <th>Rural</th>\n",
              "      <th>Crash_Speed_Limit</th>\n",
              "      <th>Road_Algn</th>\n",
              "      <th>Veh_Mod_Year</th>\n",
              "      <th>Weekend</th>\n",
              "      <th>Crash_season</th>\n",
              "      <th>Part_of_day</th>\n",
              "      <th>Collsn_type</th>\n",
              "      <th>Collsn_name</th>\n",
              "    </tr>\n",
              "  </thead>\n",
              "  <tbody>\n",
              "    <tr>\n",
              "      <th>0</th>\n",
              "      <td>0</td>\n",
              "      <td>26</td>\n",
              "      <td>MALE</td>\n",
              "      <td>CLEAR</td>\n",
              "      <td>DAYLIGHT</td>\n",
              "      <td>DRY</td>\n",
              "      <td>PASSENGER CAR, 2-DOOR</td>\n",
              "      <td>SHOULDER &amp; LAP BELT</td>\n",
              "      <td>Not Applicable</td>\n",
              "      <td>MOTOR VEHICLE IN TRANSPORT</td>\n",
              "      <td>0</td>\n",
              "      <td>-1</td>\n",
              "      <td>STRAIGHT, LEVEL</td>\n",
              "      <td>33</td>\n",
              "      <td>1</td>\n",
              "      <td>3</td>\n",
              "      <td>3</td>\n",
              "      <td>SAME DIRECTION</td>\n",
              "      <td>ONE STRAIGHT-ONE LEFT TURN</td>\n",
              "    </tr>\n",
              "    <tr>\n",
              "      <th>1</th>\n",
              "      <td>0</td>\n",
              "      <td>52</td>\n",
              "      <td>MALE</td>\n",
              "      <td>CLEAR</td>\n",
              "      <td>DAYLIGHT</td>\n",
              "      <td>DRY</td>\n",
              "      <td>PASSENGER CAR, 2-DOOR</td>\n",
              "      <td>SHOULDER &amp; LAP BELT</td>\n",
              "      <td>Not Applicable</td>\n",
              "      <td>MOTOR VEHICLE IN TRANSPORT</td>\n",
              "      <td>0</td>\n",
              "      <td>-1</td>\n",
              "      <td>STRAIGHT, LEVEL</td>\n",
              "      <td>19</td>\n",
              "      <td>1</td>\n",
              "      <td>3</td>\n",
              "      <td>3</td>\n",
              "      <td>SAME DIRECTION</td>\n",
              "      <td>ONE STRAIGHT-ONE LEFT TURN</td>\n",
              "    </tr>\n",
              "    <tr>\n",
              "      <th>2</th>\n",
              "      <td>0</td>\n",
              "      <td>27</td>\n",
              "      <td>FEMALE</td>\n",
              "      <td>CLEAR</td>\n",
              "      <td>DAYLIGHT</td>\n",
              "      <td>DRY</td>\n",
              "      <td>PICKUP</td>\n",
              "      <td>SHOULDER &amp; LAP BELT</td>\n",
              "      <td>Not Applicable</td>\n",
              "      <td>MOTOR VEHICLE IN TRANSPORT</td>\n",
              "      <td>1</td>\n",
              "      <td>-1</td>\n",
              "      <td>CURVE, LEVEL</td>\n",
              "      <td>16</td>\n",
              "      <td>1</td>\n",
              "      <td>3</td>\n",
              "      <td>4</td>\n",
              "      <td>SAME DIRECTION</td>\n",
              "      <td>BOTH LEFT TURN</td>\n",
              "    </tr>\n",
              "  </tbody>\n",
              "</table>\n",
              "</div>"
            ],
            "text/plain": [
              "   Prsn_Injry_Sev  Prsn_Age  ...     Collsn_type                 Collsn_name\n",
              "0               0        26  ...  SAME DIRECTION  ONE STRAIGHT-ONE LEFT TURN\n",
              "1               0        52  ...  SAME DIRECTION  ONE STRAIGHT-ONE LEFT TURN\n",
              "2               0        27  ...  SAME DIRECTION              BOTH LEFT TURN\n",
              "\n",
              "[3 rows x 19 columns]"
            ]
          },
          "metadata": {
            "tags": []
          },
          "execution_count": 4
        }
      ]
    },
    {
      "cell_type": "code",
      "metadata": {
        "id": "1CDPbDPYZvoH",
        "colab": {
          "base_uri": "https://localhost:8080/"
        },
        "outputId": "0364fbde-8770-48a9-df6e-a86a9158a352"
      },
      "source": [
        "# Let's just use 80% of the total dataset\n",
        "#df, _ = train_test_split(df, test_size=0.9,stratify = df['Prsn_Injry_Sev'])\n",
        "df.shape"
      ],
      "execution_count": null,
      "outputs": [
        {
          "output_type": "execute_result",
          "data": {
            "text/plain": [
              "(949856, 19)"
            ]
          },
          "metadata": {
            "tags": []
          },
          "execution_count": 5
        }
      ]
    },
    {
      "cell_type": "code",
      "metadata": {
        "colab": {
          "base_uri": "https://localhost:8080/"
        },
        "id": "FEKbv3R9ZvoH",
        "outputId": "9ebca716-1945-454a-b071-8daab02f2369"
      },
      "source": [
        "y = df['Prsn_Injry_Sev']\n",
        "print('All target values:')\n",
        "print(y.value_counts())\n",
        "X = df.drop(columns=['Prsn_Injry_Sev'])"
      ],
      "execution_count": null,
      "outputs": [
        {
          "output_type": "stream",
          "text": [
            "All target values:\n",
            "0    792558\n",
            "1    102409\n",
            "2     45242\n",
            "3      7951\n",
            "4      1696\n",
            "Name: Prsn_Injry_Sev, dtype: int64\n"
          ],
          "name": "stdout"
        }
      ]
    },
    {
      "cell_type": "code",
      "metadata": {
        "colab": {
          "base_uri": "https://localhost:8080/"
        },
        "id": "AUDtEBDsZvoI",
        "outputId": "e7ccda34-f05b-4ab5-8b34-89dc1f608a36"
      },
      "source": [
        "# %% Data wrangling -------------\n",
        "# Classify variable type\n",
        "emb_vars, ind_vars, num_vars = [], [], []\n",
        "for var in X.columns:\n",
        "    if X[var].dtypes == 'O':\n",
        "        if len(X[var].unique()) > 5:\n",
        "            emb_vars.append(var)\n",
        "        else:\n",
        "            ind_vars.append(var)\n",
        "    else:\n",
        "        num_vars.append(var)\n",
        "print('Numerical variables are ', num_vars)\n",
        "print('Categorical variables that have at most 5 categories are ', ind_vars)\n",
        "print('Categorical variables that have more than 5 categories are ', emb_vars)\n",
        "\n",
        "# Create feature columns\n",
        "feature_columns = []\n",
        "# numeric cols\n",
        "for header in num_vars:\n",
        "    feature_columns.append(feature_column.numeric_column(header))\n",
        "# bucketized cols\n",
        "# age = feature_column.numeric_column('Prsn_Age')\n",
        "# age_buckets = feature_column.bucketized_column(age, boundaries=[16, 22, 35, 55, 65])\n",
        "# feature_columns.append(age_buckets)\n",
        "# indicator_columns\n",
        "for col_name in ind_vars:\n",
        "    categorical_column = feature_column.categorical_column_with_vocabulary_list(\n",
        "        col_name, X[col_name].unique())\n",
        "    indicator_column = feature_column.indicator_column(categorical_column)\n",
        "    feature_columns.append(indicator_column)\n",
        "# embedding columns\n",
        "for col_name in emb_vars:\n",
        "    emb_column = feature_column.categorical_column_with_vocabulary_list(\n",
        "        col_name, X[col_name].unique())\n",
        "    col_embedding = feature_column.embedding_column(emb_column, dimension=5)\n",
        "    feature_columns.append(col_embedding)\n",
        "\n",
        "# Convert all setup into new dataset\n",
        "feature_layer = tf.keras.layers.DenseFeatures(feature_columns)\n",
        "X = feature_layer(dict(X)).numpy()\n",
        "print('New shape of the input data set:',X.shape)"
      ],
      "execution_count": null,
      "outputs": [
        {
          "output_type": "stream",
          "text": [
            "Numerical variables are  ['Prsn_Age', 'Rural', 'Crash_Speed_Limit', 'Veh_Mod_Year', 'Weekend', 'Crash_season', 'Part_of_day']\n",
            "Categorical variables that have at most 5 categories are  ['Prsn_Gndr', 'Prsn_Drg_Rslt', 'Collsn_type']\n",
            "Categorical variables that have more than 5 categories are  ['Wthr_Cond', 'Light_Cond', 'Surf_Cond', 'Veh_Body_Styl', 'Prsn_Rest', 'Harm_Evnt', 'Road_Algn', 'Collsn_name']\n",
            "New shape of the input data set: (949856, 59)\n"
          ],
          "name": "stdout"
        }
      ]
    },
    {
      "cell_type": "code",
      "metadata": {
        "colab": {
          "base_uri": "https://localhost:8080/"
        },
        "id": "1EiMyeEfZvoJ",
        "outputId": "a5edb724-5800-4a62-9122-b7399f3203b2"
      },
      "source": [
        "# %% Split the dataset\n",
        "X_train, X_test, y_train, y_test = train_test_split(X, y, test_size=0.2, stratify=y, random_state=48)\n",
        "X_train, X_val, y_train, y_val = train_test_split(X_train, y_train, test_size=0.2, stratify=y_train, random_state=48)\n",
        "\n",
        "print('Training features shape:', X_train.shape)\n",
        "print('Validation features shape:', X_val.shape)\n",
        "print('Test features shape:', X_test.shape)\n",
        "\n",
        "# %% standardization\n",
        "scaler = StandardScaler()\n",
        "X_train = scaler.fit_transform(X_train)\n",
        "X_val = scaler.transform(X_val)\n",
        "X_test = scaler.transform(X_test)"
      ],
      "execution_count": null,
      "outputs": [
        {
          "output_type": "stream",
          "text": [
            "Training features shape: (607907, 59)\n",
            "Validation features shape: (151977, 59)\n",
            "Test features shape: (189972, 59)\n"
          ],
          "name": "stdout"
        }
      ]
    },
    {
      "cell_type": "markdown",
      "metadata": {
        "id": "2Ds5G6Pjhes9"
      },
      "source": [
        "# ALL mini functions\n",
        "\n"
      ]
    },
    {
      "cell_type": "code",
      "metadata": {
        "id": "-mt_xldIekgx"
      },
      "source": [
        "# Import Metrics\n",
        "from imblearn.metrics import geometric_mean_score\n",
        "from sklearn.metrics import roc_auc_score,confusion_matrix,accuracy_score\n",
        "\n",
        "# %% Function to compare the prediction and true labels\n",
        "def get_accs(label, pred_proba, tr_time=0,index=None):\n",
        "    prediction = pred_proba.argmax(axis=1)\n",
        "    cm = confusion_matrix(label, prediction)\n",
        "    length = cm.shape[0]\n",
        "    num_cases = len(label)\n",
        "    # global accuracy\n",
        "    glb_acc = np.trace(cm) / len(label)\n",
        "    ind_accs = cm / np.sum(cm, axis=1)[:, np.newaxis]\n",
        "    accs = [ind_accs[i, i] for i in range(length)]\n",
        "    cols = ['Class {}'.format(i) for i in range(length)]\n",
        "    # Global accuracy\n",
        "    accs.append(glb_acc)\n",
        "    # AUC\n",
        "    accs.append(roc_auc_score(label, pred_proba,multi_class='ovr'))\n",
        "    # G-mean\n",
        "    accs.append(geometric_mean_score(label, prediction, correction=0.001))\n",
        "    # Average perf\n",
        "    accs.append(np.mean(accs[-3:]))\n",
        "    # Training time\n",
        "    accs.append(np.round(tr_time,3))\n",
        "    cols = cols + ['Accuracy','AUC','G-mean','Avg_Pfm','Training Time']\n",
        "\n",
        "    out = np.array(accs).reshape(1, len(accs))\n",
        "    return pd.DataFrame(out, columns=cols,index=[index])"
      ],
      "execution_count": null,
      "outputs": []
    },
    {
      "cell_type": "markdown",
      "metadata": {
        "id": "eVDPbOU7ekgx"
      },
      "source": [
        "# ML with class weight"
      ]
    },
    {
      "cell_type": "code",
      "metadata": {
        "colab": {
          "base_uri": "https://localhost:8080/"
        },
        "id": "UDv2Pn6sZvoL",
        "outputId": "e54badf0-fcda-4ff5-c5f9-24391752e4ff"
      },
      "source": [
        "wgt='balanced'\n",
        "clfs = [LogisticRegression(solver = 'lbfgs',class_weight=wgt),\n",
        "        DecisionTreeClassifier(class_weight=wgt),\n",
        "        RandomForestClassifier(max_depth=4,class_weight=wgt)]\n",
        "clf_names = ['LR','DT','RF']\n",
        "rsts = pd.DataFrame()\n",
        "for model, name in zip(clfs,clf_names):\n",
        "    start = time.time()\n",
        "    print(name)\n",
        "    model.fit(X_train, y_train.values)\n",
        "    end= time.time()\n",
        "    # use the model to make predictions with the test data\n",
        "    Y_pred = model.predict_proba(X_test)\n",
        "\n",
        "    # get the evaluation metrics\n",
        "    rsts = rsts.append(get_accs(y_test.values,Y_pred,end-start,name))    \n",
        "print(rsts.iloc[:,5:])"
      ],
      "execution_count": null,
      "outputs": [
        {
          "output_type": "stream",
          "text": [
            "LR\n",
            "DT\n",
            "RF\n",
            "    Accuracy       AUC    G-mean   Avg_Pfm  Training Time\n",
            "LR  0.489151  0.714159  0.380887  0.528066         47.752\n",
            "DT  0.713184  0.537992  0.161121  0.470766         24.843\n",
            "RF  0.598672  0.676836  0.264230  0.513246         62.082\n"
          ],
          "name": "stdout"
        }
      ]
    },
    {
      "cell_type": "markdown",
      "metadata": {
        "id": "ff6Y5pBDhsXm"
      },
      "source": [
        "# MLP functions\n"
      ]
    },
    {
      "cell_type": "code",
      "metadata": {
        "colab": {
          "base_uri": "https://localhost:8080/"
        },
        "id": "YmzSlMdDZvoK",
        "outputId": "ff97b059-d881-4f17-afe4-a7596dbf30d4"
      },
      "source": [
        "# Add weights\n",
        "weights = len(y_train) / (5 * np.bincount(y_train))\n",
        "cls_wgt = dict(zip(np.arange(5), weights))\n",
        "cls_wgt"
      ],
      "execution_count": null,
      "outputs": [
        {
          "output_type": "execute_result",
          "data": {
            "text/plain": [
              "{0: 0.23969347661941065,\n",
              " 1: 1.8550434079431195,\n",
              " 2: 4.199122746425364,\n",
              " 3: 23.891019846728238,\n",
              " 4: 111.95340699815839}"
            ]
          },
          "metadata": {
            "tags": []
          },
          "execution_count": 12
        }
      ]
    },
    {
      "cell_type": "code",
      "metadata": {
        "id": "w5IRiyFuZvoK"
      },
      "source": [
        "def early_stops(metric_name):\n",
        "    es = EarlyStopping(monitor='val_'+ metric_name,\n",
        "                   verbose=1, patience=10, mode='max',\n",
        "                   restore_best_weights=True)\n",
        "    return es"
      ],
      "execution_count": null,
      "outputs": []
    },
    {
      "cell_type": "code",
      "metadata": {
        "id": "uIyiU6z6ekgy"
      },
      "source": [
        "# Constant\n",
        "EPOCH = 50\n",
        "BATCH_SIZE = 2048\n",
        "VERBOSE = 0"
      ],
      "execution_count": null,
      "outputs": []
    },
    {
      "cell_type": "code",
      "metadata": {
        "id": "LgNrYKJiekgy"
      },
      "source": [
        "def create_mlp():\n",
        "    MLP = Sequential([Dense(10,\n",
        "                           activation='relu',\n",
        "                           input_dim=X_train.shape[1],\n",
        "                           ),\n",
        "                      Dropout(0.5),\n",
        "                      Dense(5, activation='softmax')])\n",
        "    MLP.compile(optimizer='adam',\n",
        "                loss=SparseCategoricalCrossentropy(from_logits=True),\n",
        "                metrics=[tf.keras.metrics.SparseCategoricalAccuracy(name='accuracy')]\n",
        "               )\n",
        "    return MLP"
      ],
      "execution_count": null,
      "outputs": []
    },
    {
      "cell_type": "code",
      "metadata": {
        "scrolled": true,
        "id": "kFDKXSidekgy",
        "colab": {
          "base_uri": "https://localhost:8080/",
          "height": 275
        },
        "outputId": "b6bfaf41-fa81-4f09-b6d5-3dd4255df350"
      },
      "source": [
        "Y_pred = 0\n",
        "for i in range(3):\n",
        "    model = create_mlp()\n",
        "    start = time.time()\n",
        "    monitor = model.fit(X_train, y_train.values,\n",
        "                        callbacks=[early_stops('accuracy')],\n",
        "                        class_weight = cls_wgt,\n",
        "                        validation_data=(X_val, y_val.values),\n",
        "                        batch_size=BATCH_SIZE,\n",
        "                        verbose=VERBOSE, epochs=EPOCH\n",
        "                       )\n",
        "    end = time.time()\n",
        "    # use the model to make predictions with the test data\n",
        "    Y_pred+= model.predict(X_test)\n",
        "rsts = rsts.append(get_accs(y_test.values,Y_pred/3,end-start,'MLP-'+str(i+1)))\n",
        "rsts"
      ],
      "execution_count": null,
      "outputs": [
        {
          "output_type": "stream",
          "text": [
            "Restoring model weights from the end of the best epoch.\n",
            "Epoch 00012: early stopping\n",
            "Restoring model weights from the end of the best epoch.\n",
            "Epoch 00023: early stopping\n",
            "Restoring model weights from the end of the best epoch.\n",
            "Epoch 00018: early stopping\n"
          ],
          "name": "stdout"
        },
        {
          "output_type": "execute_result",
          "data": {
            "text/html": [
              "<div>\n",
              "<style scoped>\n",
              "    .dataframe tbody tr th:only-of-type {\n",
              "        vertical-align: middle;\n",
              "    }\n",
              "\n",
              "    .dataframe tbody tr th {\n",
              "        vertical-align: top;\n",
              "    }\n",
              "\n",
              "    .dataframe thead th {\n",
              "        text-align: right;\n",
              "    }\n",
              "</style>\n",
              "<table border=\"1\" class=\"dataframe\">\n",
              "  <thead>\n",
              "    <tr style=\"text-align: right;\">\n",
              "      <th></th>\n",
              "      <th>Class 0</th>\n",
              "      <th>Class 1</th>\n",
              "      <th>Class 2</th>\n",
              "      <th>Class 3</th>\n",
              "      <th>Class 4</th>\n",
              "      <th>Accuracy</th>\n",
              "      <th>AUC</th>\n",
              "      <th>G-mean</th>\n",
              "      <th>Avg_Pfm</th>\n",
              "      <th>Training Time</th>\n",
              "    </tr>\n",
              "  </thead>\n",
              "  <tbody>\n",
              "    <tr>\n",
              "      <th>LR</th>\n",
              "      <td>0.518611</td>\n",
              "      <td>0.417830</td>\n",
              "      <td>0.149740</td>\n",
              "      <td>0.361006</td>\n",
              "      <td>0.684366</td>\n",
              "      <td>0.489151</td>\n",
              "      <td>0.714159</td>\n",
              "      <td>0.380887</td>\n",
              "      <td>0.528066</td>\n",
              "      <td>47.752</td>\n",
              "    </tr>\n",
              "    <tr>\n",
              "      <th>DT</th>\n",
              "      <td>0.830126</td>\n",
              "      <td>0.144468</td>\n",
              "      <td>0.087302</td>\n",
              "      <td>0.054088</td>\n",
              "      <td>0.191740</td>\n",
              "      <td>0.713184</td>\n",
              "      <td>0.537992</td>\n",
              "      <td>0.161121</td>\n",
              "      <td>0.470766</td>\n",
              "      <td>24.843</td>\n",
              "    </tr>\n",
              "    <tr>\n",
              "      <th>RF</th>\n",
              "      <td>0.676775</td>\n",
              "      <td>0.265208</td>\n",
              "      <td>0.036800</td>\n",
              "      <td>0.289937</td>\n",
              "      <td>0.672566</td>\n",
              "      <td>0.598672</td>\n",
              "      <td>0.676836</td>\n",
              "      <td>0.264230</td>\n",
              "      <td>0.513246</td>\n",
              "      <td>62.082</td>\n",
              "    </tr>\n",
              "    <tr>\n",
              "      <th>MLP-3</th>\n",
              "      <td>0.531714</td>\n",
              "      <td>0.446441</td>\n",
              "      <td>0.061001</td>\n",
              "      <td>0.288679</td>\n",
              "      <td>0.743363</td>\n",
              "      <td>0.498442</td>\n",
              "      <td>0.698049</td>\n",
              "      <td>0.315122</td>\n",
              "      <td>0.503871</td>\n",
              "      <td>20.511</td>\n",
              "    </tr>\n",
              "  </tbody>\n",
              "</table>\n",
              "</div>"
            ],
            "text/plain": [
              "        Class 0   Class 1   Class 2  ...    G-mean   Avg_Pfm  Training Time\n",
              "LR     0.518611  0.417830  0.149740  ...  0.380887  0.528066         47.752\n",
              "DT     0.830126  0.144468  0.087302  ...  0.161121  0.470766         24.843\n",
              "RF     0.676775  0.265208  0.036800  ...  0.264230  0.513246         62.082\n",
              "MLP-3  0.531714  0.446441  0.061001  ...  0.315122  0.503871         20.511\n",
              "\n",
              "[4 rows x 10 columns]"
            ]
          },
          "metadata": {
            "tags": []
          },
          "execution_count": 16
        }
      ]
    },
    {
      "cell_type": "markdown",
      "metadata": {
        "id": "DPSteBZV4rEz"
      },
      "source": [
        "# Compare different feature encodings\n",
        "\n",
        "- 1 hot encoding\n",
        "- 1h + embedding3\n",
        "- 1h + e5\n",
        "- 1h + e7 "
      ]
    },
    {
      "cell_type": "markdown",
      "metadata": {
        "id": "x8x1n8bl5b-8"
      },
      "source": [
        "## Prepare data"
      ]
    },
    {
      "cell_type": "code",
      "metadata": {
        "id": "Tq9iseu56zR4"
      },
      "source": [
        "X = df.drop(columns=['Prsn_Injry_Sev']).copy()"
      ],
      "execution_count": null,
      "outputs": []
    },
    {
      "cell_type": "code",
      "metadata": {
        "colab": {
          "base_uri": "https://localhost:8080/"
        },
        "id": "zyKXNsyP66v_",
        "outputId": "be9d21c8-3943-4643-94cb-c92a2b566b61"
      },
      "source": [
        "list(X.dtypes[X.dtypes!='O'].index)"
      ],
      "execution_count": null,
      "outputs": [
        {
          "output_type": "execute_result",
          "data": {
            "text/plain": [
              "['Prsn_Age',\n",
              " 'Rural',\n",
              " 'Crash_Speed_Limit',\n",
              " 'Veh_Mod_Year',\n",
              " 'Weekend',\n",
              " 'Crash_season',\n",
              " 'Part_of_day']"
            ]
          },
          "metadata": {
            "tags": []
          },
          "execution_count": 25
        }
      ]
    },
    {
      "cell_type": "code",
      "metadata": {
        "colab": {
          "base_uri": "https://localhost:8080/"
        },
        "id": "L_DJVrAt5KXg",
        "outputId": "9425b803-612f-438a-ed67-6611a18a6581"
      },
      "source": [
        "def data_encode(dim=None):\n",
        "    X = df.drop(columns=['Prsn_Injry_Sev']).copy()\n",
        "    num_vars = list(X.dtypes[X.dtypes!='O'].index)\n",
        "    cate_vars = list(X.dtypes[X.dtypes=='O'].index)\n",
        "    emb_vars, ind_vars = [], []\n",
        "    if dim == None:\n",
        "        ind_vars = cate_vars.copy()\n",
        "    else:\n",
        "        for var in cate_vars:\n",
        "            if len(X[var].unique()) > dim:\n",
        "                emb_vars.append(var)\n",
        "            else:\n",
        "                ind_vars.append(var)\n",
        "    print('Numerical variables are ', num_vars)\n",
        "    print('One-hot encoding variables are ', ind_vars)\n",
        "    print('Embedding variables are ', emb_vars)\n",
        "    # Create feature columns\n",
        "    feature_columns = []\n",
        "    # numeric cols\n",
        "    for header in num_vars:\n",
        "        feature_columns.append(feature_column.numeric_column(header))\n",
        "    # indicator_columns\n",
        "    for col_name in ind_vars:\n",
        "        categorical_column = feature_column.categorical_column_with_vocabulary_list(\n",
        "            col_name, X[col_name].unique())\n",
        "        indicator_column = feature_column.indicator_column(categorical_column)\n",
        "        feature_columns.append(indicator_column)\n",
        "    # embedding columns\n",
        "    for col_name in emb_vars:\n",
        "        emb_column = feature_column.categorical_column_with_vocabulary_list(\n",
        "            col_name, X[col_name].unique())\n",
        "        col_embedding = feature_column.embedding_column(emb_column, dimension=dim)\n",
        "        feature_columns.append(col_embedding)\n",
        "\n",
        "    # Convert all setup into new dataset\n",
        "    feature_layer = tf.keras.layers.DenseFeatures(feature_columns)\n",
        "    X = feature_layer(dict(X)).numpy()\n",
        "    print('New shape of the input data set:',X.shape)\n",
        "    return X\n",
        "# Test function\n",
        "data_encode();"
      ],
      "execution_count": null,
      "outputs": [
        {
          "output_type": "stream",
          "text": [
            "Numerical variables are  ['Prsn_Age', 'Rural', 'Crash_Speed_Limit', 'Veh_Mod_Year', 'Weekend', 'Crash_season', 'Part_of_day']\n",
            "One-hot encoding variables are  ['Prsn_Gndr', 'Wthr_Cond', 'Light_Cond', 'Surf_Cond', 'Veh_Body_Styl', 'Prsn_Rest', 'Prsn_Drg_Rslt', 'Harm_Evnt', 'Road_Algn', 'Collsn_type', 'Collsn_name']\n",
            "Embedding variables are  []\n",
            "New shape of the input data set: (949856, 116)\n"
          ],
          "name": "stdout"
        }
      ]
    },
    {
      "cell_type": "code",
      "metadata": {
        "id": "cTVeBN664qf7"
      },
      "source": [
        "embedded_vars = [None, 3, 5, 7]\n",
        "rsts = pd.DataFrame()\n",
        "y = df['Prsn_Injry_Sev'].copy()"
      ],
      "execution_count": null,
      "outputs": []
    },
    {
      "cell_type": "code",
      "metadata": {
        "colab": {
          "base_uri": "https://localhost:8080/",
          "height": 35
        },
        "id": "tIm2k_yb-2J4",
        "outputId": "bc2216d7-5505-43ea-d4de-a378f3b3fc29"
      },
      "source": [
        "str(3)"
      ],
      "execution_count": null,
      "outputs": [
        {
          "output_type": "execute_result",
          "data": {
            "application/vnd.google.colaboratory.intrinsic+json": {
              "type": "string"
            },
            "text/plain": [
              "'3'"
            ]
          },
          "metadata": {
            "tags": []
          },
          "execution_count": 43
        }
      ]
    },
    {
      "cell_type": "code",
      "metadata": {
        "colab": {
          "base_uri": "https://localhost:8080/"
        },
        "id": "VtNJYplg-WA_",
        "outputId": "881da982-b7aa-4b9b-b4a0-3a3c2a81eca5"
      },
      "source": [
        "for emb in embedded_vars:\n",
        "    print(emb)\n",
        "    X = data_encode(emb)\n",
        "    # %% Split the dataset\n",
        "    X_train, X_test, y_train, y_test = train_test_split(X, y, test_size=0.2, stratify=y, random_state=48)\n",
        "    X_train, X_val, y_train, y_val = train_test_split(X_train, y_train, test_size=0.2, stratify=y_train, random_state=48)\n",
        "\n",
        "    print('Training features shape:', X_train.shape)\n",
        "    print('Validation features shape:', X_val.shape)\n",
        "    print('Test features shape:', X_test.shape)\n",
        "\n",
        "    # %% standardization\n",
        "    scaler = StandardScaler()\n",
        "    X_train = scaler.fit_transform(X_train)\n",
        "    X_val = scaler.transform(X_val)\n",
        "    X_test = scaler.transform(X_test)\n",
        "\n",
        "    clfs = [LogisticRegression(solver = 'lbfgs',class_weight=wgt),\n",
        "            DecisionTreeClassifier(class_weight=wgt),\n",
        "            RandomForestClassifier(max_depth=4,class_weight=wgt)]\n",
        "    clf_names = ['LR','DT','RF']\n",
        "    for model, name in zip(clfs,clf_names):\n",
        "        start = time.time()\n",
        "        print(name)\n",
        "        model.fit(X_train, y_train.values)\n",
        "        end= time.time()\n",
        "        # use the model to make predictions with the test data\n",
        "        Y_pred = model.predict_proba(X_test)\n",
        "\n",
        "        # get the evaluation metrics\n",
        "        rsts = rsts.append(get_accs(y_test.values,Y_pred,end-start,name+'-'+str(emb)))    \n",
        "    Y_pred = 0\n",
        "    for i in range(3):\n",
        "        print('MLP#'+str(i))\n",
        "        model = create_mlp()\n",
        "        start = time.time()\n",
        "        monitor = model.fit(X_train, y_train.values,\n",
        "                            callbacks=[early_stops('accuracy')],\n",
        "                            class_weight = cls_wgt,\n",
        "                            validation_data=(X_val, y_val.values),\n",
        "                            batch_size=BATCH_SIZE,\n",
        "                            verbose=VERBOSE, epochs=EPOCH\n",
        "                        )\n",
        "        end = time.time()\n",
        "        # use the model to make predictions with the test data\n",
        "        Y_pred+= model.predict(X_test)\n",
        "    rsts = rsts.append(get_accs(y_test.values,Y_pred/3,end-start,'MLP-'+str(emb)))\n",
        "    print(rsts.iloc[:,5:])"
      ],
      "execution_count": null,
      "outputs": [
        {
          "output_type": "stream",
          "text": [
            "None\n",
            "Numerical variables are  ['Prsn_Age', 'Rural', 'Crash_Speed_Limit', 'Veh_Mod_Year', 'Weekend', 'Crash_season', 'Part_of_day']\n",
            "One-hot encoding variables are  ['Prsn_Gndr', 'Wthr_Cond', 'Light_Cond', 'Surf_Cond', 'Veh_Body_Styl', 'Prsn_Rest', 'Prsn_Drg_Rslt', 'Harm_Evnt', 'Road_Algn', 'Collsn_type', 'Collsn_name']\n",
            "Embedding variables are  []\n",
            "New shape of the input data set: (949856, 116)\n",
            "Training features shape: (607907, 116)\n",
            "Validation features shape: (151977, 116)\n",
            "Test features shape: (189972, 116)\n",
            "LR\n",
            "DT\n",
            "RF\n",
            "MLP#0\n",
            "Restoring model weights from the end of the best epoch.\n",
            "Epoch 00038: early stopping\n",
            "MLP#1\n",
            "Restoring model weights from the end of the best epoch.\n",
            "Epoch 00011: early stopping\n",
            "MLP#2\n",
            "Restoring model weights from the end of the best epoch.\n",
            "Epoch 00038: early stopping\n",
            "          Accuracy       AUC    G-mean   Avg_Pfm  Training Time\n",
            "LR-None   0.494552  0.723044  0.384897  0.534164         63.309\n",
            "DT-None   0.713310  0.539033  0.163523  0.471955         37.354\n",
            "RF-None   0.511160  0.670052  0.275849  0.485687         62.824\n",
            "MLP-None  0.511433  0.700072  0.368453  0.526653         51.296\n",
            "3\n",
            "Numerical variables are  ['Prsn_Age', 'Rural', 'Crash_Speed_Limit', 'Veh_Mod_Year', 'Weekend', 'Crash_season', 'Part_of_day']\n",
            "One-hot encoding variables are  ['Prsn_Gndr']\n",
            "Embedding variables are  ['Wthr_Cond', 'Light_Cond', 'Surf_Cond', 'Veh_Body_Styl', 'Prsn_Rest', 'Prsn_Drg_Rslt', 'Harm_Evnt', 'Road_Algn', 'Collsn_type', 'Collsn_name']\n",
            "New shape of the input data set: (949856, 40)\n",
            "Training features shape: (607907, 40)\n",
            "Validation features shape: (151977, 40)\n",
            "Test features shape: (189972, 40)\n",
            "LR\n",
            "DT\n",
            "RF\n",
            "MLP#0\n",
            "Restoring model weights from the end of the best epoch.\n",
            "Epoch 00017: early stopping\n",
            "MLP#1\n",
            "Restoring model weights from the end of the best epoch.\n",
            "Epoch 00012: early stopping\n",
            "MLP#2\n",
            "Restoring model weights from the end of the best epoch.\n",
            "Epoch 00032: early stopping\n",
            "          Accuracy       AUC    G-mean   Avg_Pfm  Training Time\n",
            "LR-None   0.494552  0.723044  0.384897  0.534164         63.309\n",
            "DT-None   0.713310  0.539033  0.163523  0.471955         37.354\n",
            "RF-None   0.511160  0.670052  0.275849  0.485687         62.824\n",
            "MLP-None  0.511433  0.700072  0.368453  0.526653         51.296\n",
            "LR-3      0.481608  0.704723  0.369313  0.518548         41.846\n",
            "DT-3      0.713384  0.536095  0.158909  0.469463         11.273\n",
            "RF-3      0.551581  0.671522  0.328372  0.517158         49.189\n",
            "MLP-3     0.509091  0.684505  0.318513  0.504036         37.282\n",
            "5\n",
            "Numerical variables are  ['Prsn_Age', 'Rural', 'Crash_Speed_Limit', 'Veh_Mod_Year', 'Weekend', 'Crash_season', 'Part_of_day']\n",
            "One-hot encoding variables are  ['Prsn_Gndr', 'Prsn_Drg_Rslt', 'Collsn_type']\n",
            "Embedding variables are  ['Wthr_Cond', 'Light_Cond', 'Surf_Cond', 'Veh_Body_Styl', 'Prsn_Rest', 'Harm_Evnt', 'Road_Algn', 'Collsn_name']\n",
            "New shape of the input data set: (949856, 59)\n",
            "Training features shape: (607907, 59)\n",
            "Validation features shape: (151977, 59)\n",
            "Test features shape: (189972, 59)\n",
            "LR\n",
            "DT\n",
            "RF\n",
            "MLP#0\n",
            "Restoring model weights from the end of the best epoch.\n",
            "Epoch 00012: early stopping\n",
            "MLP#1\n",
            "Restoring model weights from the end of the best epoch.\n",
            "Epoch 00021: early stopping\n",
            "MLP#2\n",
            "Restoring model weights from the end of the best epoch.\n",
            "Epoch 00032: early stopping\n",
            "          Accuracy       AUC    G-mean   Avg_Pfm  Training Time\n",
            "LR-None   0.494552  0.723044  0.384897  0.534164         63.309\n",
            "DT-None   0.713310  0.539033  0.163523  0.471955         37.354\n",
            "RF-None   0.511160  0.670052  0.275849  0.485687         62.824\n",
            "MLP-None  0.511433  0.700072  0.368453  0.526653         51.296\n",
            "LR-3      0.481608  0.704723  0.369313  0.518548         41.846\n",
            "DT-3      0.713384  0.536095  0.158909  0.469463         11.273\n",
            "RF-3      0.551581  0.671522  0.328372  0.517158         49.189\n",
            "MLP-3     0.509091  0.684505  0.318513  0.504036         37.282\n",
            "LR-5      0.492630  0.714723  0.377223  0.528192         45.357\n",
            "DT-5      0.712463  0.539292  0.162435  0.471397         19.147\n",
            "RF-5      0.542606  0.677282  0.288853  0.502914         52.763\n",
            "MLP-5     0.517024  0.690671  0.349240  0.518978         36.552\n",
            "7\n",
            "Numerical variables are  ['Prsn_Age', 'Rural', 'Crash_Speed_Limit', 'Veh_Mod_Year', 'Weekend', 'Crash_season', 'Part_of_day']\n",
            "One-hot encoding variables are  ['Prsn_Gndr', 'Prsn_Drg_Rslt', 'Collsn_type']\n",
            "Embedding variables are  ['Wthr_Cond', 'Light_Cond', 'Surf_Cond', 'Veh_Body_Styl', 'Prsn_Rest', 'Harm_Evnt', 'Road_Algn', 'Collsn_name']\n",
            "New shape of the input data set: (949856, 75)\n",
            "Training features shape: (607907, 75)\n",
            "Validation features shape: (151977, 75)\n",
            "Test features shape: (189972, 75)\n",
            "LR\n",
            "DT\n",
            "RF\n",
            "MLP#0\n",
            "Restoring model weights from the end of the best epoch.\n",
            "Epoch 00018: early stopping\n",
            "MLP#1\n",
            "Restoring model weights from the end of the best epoch.\n",
            "Epoch 00014: early stopping\n",
            "MLP#2\n",
            "Restoring model weights from the end of the best epoch.\n",
            "Epoch 00019: early stopping\n",
            "          Accuracy       AUC    G-mean   Avg_Pfm  Training Time\n",
            "LR-None   0.494552  0.723044  0.384897  0.534164         63.309\n",
            "DT-None   0.713310  0.539033  0.163523  0.471955         37.354\n",
            "RF-None   0.511160  0.670052  0.275849  0.485687         62.824\n",
            "MLP-None  0.511433  0.700072  0.368453  0.526653         51.296\n",
            "LR-3      0.481608  0.704723  0.369313  0.518548         41.846\n",
            "DT-3      0.713384  0.536095  0.158909  0.469463         11.273\n",
            "RF-3      0.551581  0.671522  0.328372  0.517158         49.189\n",
            "MLP-3     0.509091  0.684505  0.318513  0.504036         37.282\n",
            "LR-5      0.492630  0.714723  0.377223  0.528192         45.357\n",
            "DT-5      0.712463  0.539292  0.162435  0.471397         19.147\n",
            "RF-5      0.542606  0.677282  0.288853  0.502914         52.763\n",
            "MLP-5     0.517024  0.690671  0.349240  0.518978         36.552\n",
            "LR-7      0.491973  0.717386  0.381595  0.530318         52.808\n",
            "DT-7      0.713200  0.538509  0.164773  0.472161         33.628\n",
            "RF-7      0.568347  0.675987  0.289739  0.511358         73.190\n",
            "MLP-7     0.487624  0.701993  0.342958  0.510858         23.894\n"
          ],
          "name": "stdout"
        }
      ]
    },
    {
      "cell_type": "code",
      "metadata": {
        "id": "4ouE1u-1EMuo"
      },
      "source": [
        "rsts = rsts.reset_index()"
      ],
      "execution_count": null,
      "outputs": []
    },
    {
      "cell_type": "code",
      "metadata": {
        "id": "GGYLZjn-EacT"
      },
      "source": [
        "indexing = rsts['index'].str.split('-',expand=True)\n",
        "indexing.columns = ['Model', 'Embedding']\n"
      ],
      "execution_count": null,
      "outputs": []
    },
    {
      "cell_type": "code",
      "metadata": {
        "id": "lWjuyZaPFdHB"
      },
      "source": [
        "rsts = pd.concat((rsts, indexing),axis =1)"
      ],
      "execution_count": null,
      "outputs": []
    },
    {
      "cell_type": "code",
      "metadata": {
        "colab": {
          "base_uri": "https://localhost:8080/",
          "height": 296
        },
        "id": "6NHYqM0JFpmK",
        "outputId": "26de2584-00d9-4f49-a66f-63cd0c1bd570"
      },
      "source": [
        "sns.boxplot(data=rsts, x='Embedding',y='Avg_Pfm')"
      ],
      "execution_count": null,
      "outputs": [
        {
          "output_type": "execute_result",
          "data": {
            "text/plain": [
              "<matplotlib.axes._subplots.AxesSubplot at 0x7f71e0049550>"
            ]
          },
          "metadata": {
            "tags": []
          },
          "execution_count": 70
        },
        {
          "output_type": "display_data",
          "data": {
            "image/png": "[encoded data removed]",
            "text/plain": [
              "<Figure size 432x288 with 1 Axes>"
            ]
          },
          "metadata": {
            "tags": [],
            "needs_background": "light"
          }
        }
      ]
    },
    {
      "cell_type": "code",
      "metadata": {
        "colab": {
          "base_uri": "https://localhost:8080/",
          "height": 296
        },
        "id": "mdUn95XrGNCD",
        "outputId": "7af56a67-a8fe-4209-99e4-4e3158d9cb0c"
      },
      "source": [
        "sns.boxplot(data=rsts, x='Embedding',y='Training Time')"
      ],
      "execution_count": null,
      "outputs": [
        {
          "output_type": "execute_result",
          "data": {
            "text/plain": [
              "<matplotlib.axes._subplots.AxesSubplot at 0x7f71df045550>"
            ]
          },
          "metadata": {
            "tags": []
          },
          "execution_count": 71
        },
        {
          "output_type": "display_data",
          "data": {
            "image/png": "[encoded data removed]",
            "text/plain": [
              "<Figure size 432x288 with 1 Axes>"
            ]
          },
          "metadata": {
            "tags": [],
            "needs_background": "light"
          }
        }
      ]
    },
    {
      "cell_type": "code",
      "metadata": {
        "id": "V1i0sqrJHvVj"
      },
      "source": [
        "rsts.columns =['index', 'Class 0', 'Class 1', 'Class 2', 'Class 3', 'Class 4',\n",
        "       'Accuracy', 'AUC', 'G-mean', 'OP score', 'Training Time', 'Model',\n",
        "       'Embedding']"
      ],
      "execution_count": null,
      "outputs": []
    },
    {
      "cell_type": "code",
      "metadata": {
        "colab": {
          "base_uri": "https://localhost:8080/",
          "height": 279
        },
        "id": "tOD7ZrhgG1uY",
        "outputId": "a812d44d-2fb2-4fc6-a81f-f28507870d77"
      },
      "source": [
        "plt.figure(figsize=(8,4))\n",
        "plt.subplot(1,2,1)\n",
        "sns.boxplot(data=rsts, x='Embedding',y='OP score')\n",
        "plt.subplot(1,2,2)\n",
        "sns.boxplot(data=rsts, x='Embedding',y='Training Time')\n",
        "plt.savefig('DataEncode.png',bbox_inches='tight',dpi=200)\n",
        "plt.show()"
      ],
      "execution_count": null,
      "outputs": [
        {
          "output_type": "display_data",
          "data": {
            "image/png": "[encoded data removed]",
            "text/plain": [
              "<Figure size 576x288 with 2 Axes>"
            ]
          },
          "metadata": {
            "tags": [],
            "needs_background": "light"
          }
        }
      ]
    },
    {
      "cell_type": "code",
      "metadata": {
        "id": "euBtlBrGGlxm"
      },
      "source": [
        "rsts.to_csv('VCA_DataEncode.csv',index=False)"
      ],
      "execution_count": null,
      "outputs": []
    }
  ]
}