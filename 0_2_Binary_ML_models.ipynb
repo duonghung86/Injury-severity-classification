{
 "cells": [
  {
   "cell_type": "markdown",
   "metadata": {
    "colab_type": "text",
    "id": "view-in-github"
   },
   "source": [
    "<a href=\"https://colab.research.google.com/github/duonghung86/Injury-severity-classification/blob/main/VCA_3_0_binary_models_MLs.ipynb\" target=\"_parent\"><img src=\"https://colab.research.google.com/assets/colab-badge.svg\" alt=\"Open In Colab\"/></a>"
   ]
  },
  {
   "cell_type": "code",
   "execution_count": 1,
   "metadata": {
    "ExecuteTime": {
     "end_time": "2020-05-22T16:58:50.479838Z",
     "start_time": "2020-05-22T16:58:42.773756Z"
    },
    "id": "1QxOQkOlJ1S_"
   },
   "outputs": [],
   "source": [
    "# Basic packages\n",
    "import matplotlib.pyplot as plt\n",
    "import numpy as np\n",
    "import pandas as pd\n",
    "import tensorflow as tf\n",
    "from tensorflow import keras\n",
    "import time\n",
    "from collections import Counter"
   ]
  },
  {
   "cell_type": "markdown",
   "metadata": {
    "id": "Cq34ehtsJ1Th"
   },
   "source": [
    "# Import dataset"
   ]
  },
  {
   "cell_type": "code",
   "execution_count": 2,
   "metadata": {
    "ExecuteTime": {
     "end_time": "2020-05-22T16:58:50.489267Z",
     "start_time": "2020-05-22T16:58:50.483277Z"
    },
    "colab": {
     "base_uri": "https://localhost:8080/",
     "height": 241
    },
    "id": "zIfnkmMfKLN-",
    "outputId": "47fad32c-bbe0-4bc2-bcb7-e2cd95cfc155"
   },
   "outputs": [
    {
     "name": "stdout",
     "output_type": "stream",
     "text": [
      "(468844, 41)\n"
     ]
    },
    {
     "data": {
      "text/html": [
       "<div>\n",
       "<style scoped>\n",
       "    .dataframe tbody tr th:only-of-type {\n",
       "        vertical-align: middle;\n",
       "    }\n",
       "\n",
       "    .dataframe tbody tr th {\n",
       "        vertical-align: top;\n",
       "    }\n",
       "\n",
       "    .dataframe thead th {\n",
       "        text-align: right;\n",
       "    }\n",
       "</style>\n",
       "<table border=\"1\" class=\"dataframe\">\n",
       "  <thead>\n",
       "    <tr style=\"text-align: right;\">\n",
       "      <th></th>\n",
       "      <th>Unit_Nbr</th>\n",
       "      <th>Prsn_Type_ID</th>\n",
       "      <th>Prsn_Occpnt_Pos_ID</th>\n",
       "      <th>Prsn_Injry_Sev_ID</th>\n",
       "      <th>Prsn_Age</th>\n",
       "      <th>Prsn_Ethnicity_ID</th>\n",
       "      <th>Prsn_Gndr_ID</th>\n",
       "      <th>Prsn_Ejct_ID</th>\n",
       "      <th>Prsn_Rest_ID</th>\n",
       "      <th>Prsn_Airbag_ID</th>\n",
       "      <th>...</th>\n",
       "      <th>Veh_Mod_Year</th>\n",
       "      <th>Veh_Color_ID</th>\n",
       "      <th>Veh_Make_ID</th>\n",
       "      <th>Veh_Mod_ID</th>\n",
       "      <th>Veh_Body_Styl_ID</th>\n",
       "      <th>Crash_month</th>\n",
       "      <th>Crash_day</th>\n",
       "      <th>Crash_hour</th>\n",
       "      <th>Crash_min</th>\n",
       "      <th>Weekend</th>\n",
       "    </tr>\n",
       "  </thead>\n",
       "  <tbody>\n",
       "    <tr>\n",
       "      <th>0</th>\n",
       "      <td>1</td>\n",
       "      <td>1</td>\n",
       "      <td>1</td>\n",
       "      <td>0</td>\n",
       "      <td>48</td>\n",
       "      <td>1</td>\n",
       "      <td>1</td>\n",
       "      <td>1</td>\n",
       "      <td>1</td>\n",
       "      <td>2</td>\n",
       "      <td>...</td>\n",
       "      <td>2002</td>\n",
       "      <td>21</td>\n",
       "      <td>107</td>\n",
       "      <td>547</td>\n",
       "      <td>69</td>\n",
       "      <td>6</td>\n",
       "      <td>15</td>\n",
       "      <td>11</td>\n",
       "      <td>0</td>\n",
       "      <td>1</td>\n",
       "    </tr>\n",
       "    <tr>\n",
       "      <th>1</th>\n",
       "      <td>2</td>\n",
       "      <td>1</td>\n",
       "      <td>1</td>\n",
       "      <td>2</td>\n",
       "      <td>58</td>\n",
       "      <td>1</td>\n",
       "      <td>2</td>\n",
       "      <td>1</td>\n",
       "      <td>1</td>\n",
       "      <td>3</td>\n",
       "      <td>...</td>\n",
       "      <td>2012</td>\n",
       "      <td>17</td>\n",
       "      <td>91</td>\n",
       "      <td>629</td>\n",
       "      <td>30</td>\n",
       "      <td>6</td>\n",
       "      <td>15</td>\n",
       "      <td>11</td>\n",
       "      <td>0</td>\n",
       "      <td>1</td>\n",
       "    </tr>\n",
       "    <tr>\n",
       "      <th>2</th>\n",
       "      <td>1</td>\n",
       "      <td>1</td>\n",
       "      <td>1</td>\n",
       "      <td>0</td>\n",
       "      <td>68</td>\n",
       "      <td>1</td>\n",
       "      <td>1</td>\n",
       "      <td>1</td>\n",
       "      <td>1</td>\n",
       "      <td>2</td>\n",
       "      <td>...</td>\n",
       "      <td>1996</td>\n",
       "      <td>21</td>\n",
       "      <td>672</td>\n",
       "      <td>2103</td>\n",
       "      <td>87</td>\n",
       "      <td>6</td>\n",
       "      <td>12</td>\n",
       "      <td>9</td>\n",
       "      <td>53</td>\n",
       "      <td>0</td>\n",
       "    </tr>\n",
       "    <tr>\n",
       "      <th>3</th>\n",
       "      <td>3</td>\n",
       "      <td>1</td>\n",
       "      <td>1</td>\n",
       "      <td>0</td>\n",
       "      <td>67</td>\n",
       "      <td>1</td>\n",
       "      <td>2</td>\n",
       "      <td>1</td>\n",
       "      <td>1</td>\n",
       "      <td>4</td>\n",
       "      <td>...</td>\n",
       "      <td>2016</td>\n",
       "      <td>21</td>\n",
       "      <td>44</td>\n",
       "      <td>605</td>\n",
       "      <td>69</td>\n",
       "      <td>6</td>\n",
       "      <td>12</td>\n",
       "      <td>9</td>\n",
       "      <td>53</td>\n",
       "      <td>0</td>\n",
       "    </tr>\n",
       "    <tr>\n",
       "      <th>4</th>\n",
       "      <td>1</td>\n",
       "      <td>1</td>\n",
       "      <td>1</td>\n",
       "      <td>0</td>\n",
       "      <td>36</td>\n",
       "      <td>2</td>\n",
       "      <td>2</td>\n",
       "      <td>1</td>\n",
       "      <td>1</td>\n",
       "      <td>2</td>\n",
       "      <td>...</td>\n",
       "      <td>2014</td>\n",
       "      <td>2</td>\n",
       "      <td>91</td>\n",
       "      <td>380</td>\n",
       "      <td>104</td>\n",
       "      <td>6</td>\n",
       "      <td>4</td>\n",
       "      <td>15</td>\n",
       "      <td>7</td>\n",
       "      <td>0</td>\n",
       "    </tr>\n",
       "  </tbody>\n",
       "</table>\n",
       "<p>5 rows × 41 columns</p>\n",
       "</div>"
      ],
      "text/plain": [
       "   Unit_Nbr  Prsn_Type_ID  Prsn_Occpnt_Pos_ID  Prsn_Injry_Sev_ID  Prsn_Age  \\\n",
       "0         1             1                   1                  0        48   \n",
       "1         2             1                   1                  2        58   \n",
       "2         1             1                   1                  0        68   \n",
       "3         3             1                   1                  0        67   \n",
       "4         1             1                   1                  0        36   \n",
       "\n",
       "   Prsn_Ethnicity_ID  Prsn_Gndr_ID  Prsn_Ejct_ID  Prsn_Rest_ID  \\\n",
       "0                  1             1             1             1   \n",
       "1                  1             2             1             1   \n",
       "2                  1             1             1             1   \n",
       "3                  1             2             1             1   \n",
       "4                  2             2             1             1   \n",
       "\n",
       "   Prsn_Airbag_ID  ...  Veh_Mod_Year  Veh_Color_ID  Veh_Make_ID  Veh_Mod_ID  \\\n",
       "0               2  ...          2002            21          107         547   \n",
       "1               3  ...          2012            17           91         629   \n",
       "2               2  ...          1996            21          672        2103   \n",
       "3               4  ...          2016            21           44         605   \n",
       "4               2  ...          2014             2           91         380   \n",
       "\n",
       "   Veh_Body_Styl_ID  Crash_month  Crash_day  Crash_hour  Crash_min  Weekend  \n",
       "0                69            6         15          11          0        1  \n",
       "1                30            6         15          11          0        1  \n",
       "2                87            6         12           9         53        0  \n",
       "3                69            6         12           9         53        0  \n",
       "4               104            6          4          15          7        0  \n",
       "\n",
       "[5 rows x 41 columns]"
      ]
     },
     "execution_count": 2,
     "metadata": {},
     "output_type": "execute_result"
    }
   ],
   "source": [
    "df=pd.read_csv('https://raw.githubusercontent.com/duonghung86/Injury-severity-classification/main/final%20data%20nomap.csv')\n",
    "print(df.shape)\n",
    "df.head()"
   ]
  },
  {
   "cell_type": "code",
   "execution_count": 3,
   "metadata": {
    "ExecuteTime": {
     "end_time": "2020-05-22T16:59:01.505031Z",
     "start_time": "2020-05-22T16:59:01.492554Z"
    },
    "colab": {
     "base_uri": "https://localhost:8080/",
     "height": 119
    },
    "id": "0yIHRk4sJ1Tx",
    "outputId": "2c26b27c-deab-4c7c-a5ae-d1286a62ba19"
   },
   "outputs": [
    {
     "data": {
      "text/plain": [
       "0    384890\n",
       "1     53032\n",
       "2     24859\n",
       "3      4959\n",
       "4      1104\n",
       "Name: Prsn_Injry_Sev_ID, dtype: int64"
      ]
     },
     "execution_count": 3,
     "metadata": {},
     "output_type": "execute_result"
    }
   ],
   "source": [
    "y=df['Prsn_Injry_Sev_ID']\n",
    "y.value_counts()"
   ]
  },
  {
   "cell_type": "code",
   "execution_count": 4,
   "metadata": {
    "colab": {
     "base_uri": "https://localhost:8080/",
     "height": 34
    },
    "id": "e--sth53sUJ2",
    "outputId": "5497d455-a022-4798-d44c-52342882db66"
   },
   "outputs": [
    {
     "data": {
      "text/plain": [
       "(468844, 40)"
      ]
     },
     "execution_count": 4,
     "metadata": {},
     "output_type": "execute_result"
    }
   ],
   "source": [
    "X = df.drop(columns=['Prsn_Injry_Sev_ID'])\n",
    "X.shape"
   ]
  },
  {
   "cell_type": "markdown",
   "metadata": {
    "id": "zwJyLsYwbHPN"
   },
   "source": [
    "# Prepare 5 different data set and labels:\n",
    "\n",
    "1. No injury (0) vs injury (1/2/3/4)\n",
    "2. Possible injury (1) vs real injury (2/3/4)\n",
    "3. Non-incapaciting (2) vs severe injury (3/4)\n",
    "4. Incapacitating (3) vs Fatal (4) "
   ]
  },
  {
   "cell_type": "code",
   "execution_count": 5,
   "metadata": {
    "colab": {
     "base_uri": "https://localhost:8080/",
     "height": 153
    },
    "id": "NDp8cFdFcMk6",
    "outputId": "d0c00f54-9a48-4b6a-c115-153542df8781"
   },
   "outputs": [
    {
     "name": "stdout",
     "output_type": "stream",
     "text": [
      "Counter({0: 384890, 1: 83954})\n",
      "(468844, 40)\n",
      "Counter({0: 53032, 1: 30922})\n",
      "(83954, 40)\n",
      "Counter({0: 24859, 1: 6063})\n",
      "(30922, 40)\n",
      "Counter({0: 4959, 1: 1104})\n",
      "(6063, 40)\n"
     ]
    }
   ],
   "source": [
    "sets = {}\n",
    "for i in range(4):\n",
    "  sub_df = df[df.Prsn_Injry_Sev_ID.isin(np.arange(i,5))].copy()\n",
    "  y_i = np.where(sub_df.Prsn_Injry_Sev_ID==i,0,1)\n",
    "  print(Counter(y_i))\n",
    "  X_i = sub_df.drop(columns=['Prsn_Injry_Sev_ID']).copy()\n",
    "  print(X_i.shape)\n",
    "  sets[i] = (X_i,y_i)"
   ]
  },
  {
   "cell_type": "code",
   "execution_count": 6,
   "metadata": {
    "colab": {
     "base_uri": "https://localhost:8080/",
     "height": 439
    },
    "id": "Y3ZgNXjFcNND",
    "outputId": "8d618c14-93f5-49fc-9acd-dfed6f639113"
   },
   "outputs": [
    {
     "data": {
      "text/html": [
       "<div>\n",
       "<style scoped>\n",
       "    .dataframe tbody tr th:only-of-type {\n",
       "        vertical-align: middle;\n",
       "    }\n",
       "\n",
       "    .dataframe tbody tr th {\n",
       "        vertical-align: top;\n",
       "    }\n",
       "\n",
       "    .dataframe thead th {\n",
       "        text-align: right;\n",
       "    }\n",
       "</style>\n",
       "<table border=\"1\" class=\"dataframe\">\n",
       "  <thead>\n",
       "    <tr style=\"text-align: right;\">\n",
       "      <th></th>\n",
       "      <th>Unit_Nbr</th>\n",
       "      <th>Prsn_Type_ID</th>\n",
       "      <th>Prsn_Occpnt_Pos_ID</th>\n",
       "      <th>Prsn_Age</th>\n",
       "      <th>Prsn_Ethnicity_ID</th>\n",
       "      <th>Prsn_Gndr_ID</th>\n",
       "      <th>Prsn_Ejct_ID</th>\n",
       "      <th>Prsn_Rest_ID</th>\n",
       "      <th>Prsn_Airbag_ID</th>\n",
       "      <th>Prsn_Helmet_ID</th>\n",
       "      <th>...</th>\n",
       "      <th>Veh_Mod_Year</th>\n",
       "      <th>Veh_Color_ID</th>\n",
       "      <th>Veh_Make_ID</th>\n",
       "      <th>Veh_Mod_ID</th>\n",
       "      <th>Veh_Body_Styl_ID</th>\n",
       "      <th>Crash_month</th>\n",
       "      <th>Crash_day</th>\n",
       "      <th>Crash_hour</th>\n",
       "      <th>Crash_min</th>\n",
       "      <th>Weekend</th>\n",
       "    </tr>\n",
       "  </thead>\n",
       "  <tbody>\n",
       "    <tr>\n",
       "      <th>1</th>\n",
       "      <td>2</td>\n",
       "      <td>1</td>\n",
       "      <td>1</td>\n",
       "      <td>58</td>\n",
       "      <td>1</td>\n",
       "      <td>2</td>\n",
       "      <td>1</td>\n",
       "      <td>1</td>\n",
       "      <td>3</td>\n",
       "      <td>97</td>\n",
       "      <td>...</td>\n",
       "      <td>2012</td>\n",
       "      <td>17</td>\n",
       "      <td>91</td>\n",
       "      <td>629</td>\n",
       "      <td>30</td>\n",
       "      <td>6</td>\n",
       "      <td>15</td>\n",
       "      <td>11</td>\n",
       "      <td>0</td>\n",
       "      <td>1</td>\n",
       "    </tr>\n",
       "    <tr>\n",
       "      <th>7</th>\n",
       "      <td>1</td>\n",
       "      <td>5</td>\n",
       "      <td>1</td>\n",
       "      <td>61</td>\n",
       "      <td>1</td>\n",
       "      <td>1</td>\n",
       "      <td>4</td>\n",
       "      <td>11</td>\n",
       "      <td>1</td>\n",
       "      <td>4</td>\n",
       "      <td>...</td>\n",
       "      <td>2013</td>\n",
       "      <td>2</td>\n",
       "      <td>42</td>\n",
       "      <td>3118</td>\n",
       "      <td>71</td>\n",
       "      <td>6</td>\n",
       "      <td>1</td>\n",
       "      <td>0</td>\n",
       "      <td>35</td>\n",
       "      <td>1</td>\n",
       "    </tr>\n",
       "    <tr>\n",
       "      <th>8</th>\n",
       "      <td>1</td>\n",
       "      <td>5</td>\n",
       "      <td>1</td>\n",
       "      <td>49</td>\n",
       "      <td>3</td>\n",
       "      <td>1</td>\n",
       "      <td>4</td>\n",
       "      <td>11</td>\n",
       "      <td>1</td>\n",
       "      <td>4</td>\n",
       "      <td>...</td>\n",
       "      <td>2019</td>\n",
       "      <td>3</td>\n",
       "      <td>42</td>\n",
       "      <td>3174</td>\n",
       "      <td>71</td>\n",
       "      <td>6</td>\n",
       "      <td>1</td>\n",
       "      <td>2</td>\n",
       "      <td>8</td>\n",
       "      <td>1</td>\n",
       "    </tr>\n",
       "    <tr>\n",
       "      <th>10</th>\n",
       "      <td>1</td>\n",
       "      <td>5</td>\n",
       "      <td>1</td>\n",
       "      <td>25</td>\n",
       "      <td>4</td>\n",
       "      <td>1</td>\n",
       "      <td>4</td>\n",
       "      <td>11</td>\n",
       "      <td>1</td>\n",
       "      <td>1</td>\n",
       "      <td>...</td>\n",
       "      <td>2018</td>\n",
       "      <td>2</td>\n",
       "      <td>44</td>\n",
       "      <td>4803</td>\n",
       "      <td>71</td>\n",
       "      <td>6</td>\n",
       "      <td>1</td>\n",
       "      <td>2</td>\n",
       "      <td>26</td>\n",
       "      <td>1</td>\n",
       "    </tr>\n",
       "    <tr>\n",
       "      <th>11</th>\n",
       "      <td>1</td>\n",
       "      <td>1</td>\n",
       "      <td>1</td>\n",
       "      <td>53</td>\n",
       "      <td>1</td>\n",
       "      <td>1</td>\n",
       "      <td>1</td>\n",
       "      <td>1</td>\n",
       "      <td>8</td>\n",
       "      <td>97</td>\n",
       "      <td>...</td>\n",
       "      <td>2007</td>\n",
       "      <td>16</td>\n",
       "      <td>14</td>\n",
       "      <td>2180</td>\n",
       "      <td>100</td>\n",
       "      <td>6</td>\n",
       "      <td>1</td>\n",
       "      <td>2</td>\n",
       "      <td>0</td>\n",
       "      <td>1</td>\n",
       "    </tr>\n",
       "    <tr>\n",
       "      <th>...</th>\n",
       "      <td>...</td>\n",
       "      <td>...</td>\n",
       "      <td>...</td>\n",
       "      <td>...</td>\n",
       "      <td>...</td>\n",
       "      <td>...</td>\n",
       "      <td>...</td>\n",
       "      <td>...</td>\n",
       "      <td>...</td>\n",
       "      <td>...</td>\n",
       "      <td>...</td>\n",
       "      <td>...</td>\n",
       "      <td>...</td>\n",
       "      <td>...</td>\n",
       "      <td>...</td>\n",
       "      <td>...</td>\n",
       "      <td>...</td>\n",
       "      <td>...</td>\n",
       "      <td>...</td>\n",
       "      <td>...</td>\n",
       "      <td>...</td>\n",
       "    </tr>\n",
       "    <tr>\n",
       "      <th>468800</th>\n",
       "      <td>2</td>\n",
       "      <td>1</td>\n",
       "      <td>1</td>\n",
       "      <td>50</td>\n",
       "      <td>0</td>\n",
       "      <td>1</td>\n",
       "      <td>1</td>\n",
       "      <td>1</td>\n",
       "      <td>8</td>\n",
       "      <td>97</td>\n",
       "      <td>...</td>\n",
       "      <td>2015</td>\n",
       "      <td>5</td>\n",
       "      <td>106</td>\n",
       "      <td>1373</td>\n",
       "      <td>69</td>\n",
       "      <td>11</td>\n",
       "      <td>30</td>\n",
       "      <td>8</td>\n",
       "      <td>28</td>\n",
       "      <td>1</td>\n",
       "    </tr>\n",
       "    <tr>\n",
       "      <th>468802</th>\n",
       "      <td>1</td>\n",
       "      <td>1</td>\n",
       "      <td>1</td>\n",
       "      <td>68</td>\n",
       "      <td>1</td>\n",
       "      <td>1</td>\n",
       "      <td>1</td>\n",
       "      <td>1</td>\n",
       "      <td>2</td>\n",
       "      <td>97</td>\n",
       "      <td>...</td>\n",
       "      <td>2018</td>\n",
       "      <td>9</td>\n",
       "      <td>91</td>\n",
       "      <td>581</td>\n",
       "      <td>104</td>\n",
       "      <td>11</td>\n",
       "      <td>30</td>\n",
       "      <td>9</td>\n",
       "      <td>50</td>\n",
       "      <td>1</td>\n",
       "    </tr>\n",
       "    <tr>\n",
       "      <th>468820</th>\n",
       "      <td>1</td>\n",
       "      <td>1</td>\n",
       "      <td>1</td>\n",
       "      <td>25</td>\n",
       "      <td>3</td>\n",
       "      <td>2</td>\n",
       "      <td>1</td>\n",
       "      <td>1</td>\n",
       "      <td>2</td>\n",
       "      <td>97</td>\n",
       "      <td>...</td>\n",
       "      <td>2008</td>\n",
       "      <td>16</td>\n",
       "      <td>37</td>\n",
       "      <td>1097</td>\n",
       "      <td>104</td>\n",
       "      <td>11</td>\n",
       "      <td>21</td>\n",
       "      <td>9</td>\n",
       "      <td>0</td>\n",
       "      <td>0</td>\n",
       "    </tr>\n",
       "    <tr>\n",
       "      <th>468833</th>\n",
       "      <td>1</td>\n",
       "      <td>1</td>\n",
       "      <td>1</td>\n",
       "      <td>71</td>\n",
       "      <td>2</td>\n",
       "      <td>2</td>\n",
       "      <td>1</td>\n",
       "      <td>1</td>\n",
       "      <td>2</td>\n",
       "      <td>97</td>\n",
       "      <td>...</td>\n",
       "      <td>1998</td>\n",
       "      <td>10</td>\n",
       "      <td>107</td>\n",
       "      <td>57</td>\n",
       "      <td>100</td>\n",
       "      <td>11</td>\n",
       "      <td>30</td>\n",
       "      <td>11</td>\n",
       "      <td>6</td>\n",
       "      <td>1</td>\n",
       "    </tr>\n",
       "    <tr>\n",
       "      <th>468841</th>\n",
       "      <td>2</td>\n",
       "      <td>1</td>\n",
       "      <td>1</td>\n",
       "      <td>57</td>\n",
       "      <td>3</td>\n",
       "      <td>2</td>\n",
       "      <td>1</td>\n",
       "      <td>1</td>\n",
       "      <td>2</td>\n",
       "      <td>97</td>\n",
       "      <td>...</td>\n",
       "      <td>2013</td>\n",
       "      <td>2</td>\n",
       "      <td>91</td>\n",
       "      <td>173</td>\n",
       "      <td>104</td>\n",
       "      <td>11</td>\n",
       "      <td>25</td>\n",
       "      <td>11</td>\n",
       "      <td>6</td>\n",
       "      <td>0</td>\n",
       "    </tr>\n",
       "  </tbody>\n",
       "</table>\n",
       "<p>83954 rows × 40 columns</p>\n",
       "</div>"
      ],
      "text/plain": [
       "        Unit_Nbr  Prsn_Type_ID  Prsn_Occpnt_Pos_ID  Prsn_Age  \\\n",
       "1              2             1                   1        58   \n",
       "7              1             5                   1        61   \n",
       "8              1             5                   1        49   \n",
       "10             1             5                   1        25   \n",
       "11             1             1                   1        53   \n",
       "...          ...           ...                 ...       ...   \n",
       "468800         2             1                   1        50   \n",
       "468802         1             1                   1        68   \n",
       "468820         1             1                   1        25   \n",
       "468833         1             1                   1        71   \n",
       "468841         2             1                   1        57   \n",
       "\n",
       "        Prsn_Ethnicity_ID  Prsn_Gndr_ID  Prsn_Ejct_ID  Prsn_Rest_ID  \\\n",
       "1                       1             2             1             1   \n",
       "7                       1             1             4            11   \n",
       "8                       3             1             4            11   \n",
       "10                      4             1             4            11   \n",
       "11                      1             1             1             1   \n",
       "...                   ...           ...           ...           ...   \n",
       "468800                  0             1             1             1   \n",
       "468802                  1             1             1             1   \n",
       "468820                  3             2             1             1   \n",
       "468833                  2             2             1             1   \n",
       "468841                  3             2             1             1   \n",
       "\n",
       "        Prsn_Airbag_ID  Prsn_Helmet_ID  ...  Veh_Mod_Year  Veh_Color_ID  \\\n",
       "1                    3              97  ...          2012            17   \n",
       "7                    1               4  ...          2013             2   \n",
       "8                    1               4  ...          2019             3   \n",
       "10                   1               1  ...          2018             2   \n",
       "11                   8              97  ...          2007            16   \n",
       "...                ...             ...  ...           ...           ...   \n",
       "468800               8              97  ...          2015             5   \n",
       "468802               2              97  ...          2018             9   \n",
       "468820               2              97  ...          2008            16   \n",
       "468833               2              97  ...          1998            10   \n",
       "468841               2              97  ...          2013             2   \n",
       "\n",
       "        Veh_Make_ID  Veh_Mod_ID  Veh_Body_Styl_ID  Crash_month  Crash_day  \\\n",
       "1                91         629                30            6         15   \n",
       "7                42        3118                71            6          1   \n",
       "8                42        3174                71            6          1   \n",
       "10               44        4803                71            6          1   \n",
       "11               14        2180               100            6          1   \n",
       "...             ...         ...               ...          ...        ...   \n",
       "468800          106        1373                69           11         30   \n",
       "468802           91         581               104           11         30   \n",
       "468820           37        1097               104           11         21   \n",
       "468833          107          57               100           11         30   \n",
       "468841           91         173               104           11         25   \n",
       "\n",
       "        Crash_hour  Crash_min  Weekend  \n",
       "1               11          0        1  \n",
       "7                0         35        1  \n",
       "8                2          8        1  \n",
       "10               2         26        1  \n",
       "11               2          0        1  \n",
       "...            ...        ...      ...  \n",
       "468800           8         28        1  \n",
       "468802           9         50        1  \n",
       "468820           9          0        0  \n",
       "468833          11          6        1  \n",
       "468841          11          6        0  \n",
       "\n",
       "[83954 rows x 40 columns]"
      ]
     },
     "execution_count": 6,
     "metadata": {},
     "output_type": "execute_result"
    }
   ],
   "source": [
    "sets[1][0]"
   ]
  },
  {
   "cell_type": "markdown",
   "metadata": {
    "id": "T3fWsSaRsUKY"
   },
   "source": [
    "## Function to compute performance\n"
   ]
  },
  {
   "cell_type": "code",
   "execution_count": 8,
   "metadata": {
    "colab": {
     "base_uri": "https://localhost:8080/",
     "height": 139
    },
    "id": "IFQr2WAdsUKZ",
    "outputId": "0a736ccf-4b22-4be5-9304-fc1f51c0cc2b"
   },
   "outputs": [],
   "source": [
    "from sklearn.metrics import confusion_matrix\n",
    "import seaborn as sns\n",
    "from imblearn.metrics import geometric_mean_score\n",
    "from sklearn.metrics import auc"
   ]
  },
  {
   "cell_type": "code",
   "execution_count": 9,
   "metadata": {
    "colab": {
     "base_uri": "https://localhost:8080/",
     "height": 523
    },
    "id": "HJQtO1insUKd",
    "outputId": "76717ec0-1693-4903-b2a6-cd807c8cab91"
   },
   "outputs": [
    {
     "data": {
      "image/png": "[encoded data removed]",
      "text/plain": [
       "<Figure size 1008x432 with 4 Axes>"
      ]
     },
     "metadata": {
      "needs_background": "light"
     },
     "output_type": "display_data"
    },
    {
     "data": {
      "text/plain": [
       "[0.19,\n",
       " 0.1875,\n",
       " 0.23809523809523808,\n",
       " 0.045454545454545456,\n",
       " 0.10526315789473684,\n",
       " 0.36363636363636365,\n",
       " 0.15067964916575147]"
      ]
     },
     "execution_count": 9,
     "metadata": {},
     "output_type": "execute_result"
    }
   ],
   "source": [
    "def get_accs(label,prediction, show=True):\n",
    "    cm = confusion_matrix(label,prediction)\n",
    "    length = cm.shape[0]\n",
    "    num_cases = len(label)\n",
    "    # global accuracy\n",
    "    glb_acc = np.trace(cm)/len(label)\n",
    "    ind_accs = cm/np.sum(cm,axis=1)[:, np.newaxis]\n",
    "    accs = [ind_accs[i,i] for i in range(length)]\n",
    "    accs.insert(0,glb_acc)\n",
    "    # G-mean\n",
    "    accs.append(geometric_mean_score(label, prediction,correction=0.001))\n",
    "\n",
    "    if show:\n",
    "        plt.figure(figsize=(14, 6))\n",
    "        plt.subplot(1,2,1)\n",
    "        sns.heatmap(cm, xticklabels=np.arange(length), yticklabels=np.arange(length), \n",
    "                    annot=True, fmt='g',cmap=\"YlGnBu\")\n",
    "        plt.xlabel('Prediction')\n",
    "        plt.ylabel('Label')\n",
    "        plt.title('Confusion matrix')\n",
    "        plt.subplot(1,2,2)\n",
    "        sns.heatmap(ind_accs*100, xticklabels=np.arange(length), yticklabels=np.arange(length), \n",
    "                    annot=True, fmt='.2f',cmap=\"YlGnBu\")\n",
    "        plt.xlabel('Prediction')\n",
    "        plt.ylabel('Label')\n",
    "        plt.title('Normalized confusion matrix (%)')\n",
    "        plt.show()\n",
    "    return accs\n",
    "get_accs(np.random.randint(5, size=100),np.random.randint(5, size=100))"
   ]
  },
  {
   "cell_type": "markdown",
   "metadata": {
    "id": "-pN3nxIjkJgb"
   },
   "source": [
    "# Run 4 binary model without any techniques"
   ]
  },
  {
   "cell_type": "markdown",
   "metadata": {
    "id": "8Wv1fq_D7Gi4"
   },
   "source": [
    "## Function to train a model"
   ]
  },
  {
   "cell_type": "code",
   "execution_count": 10,
   "metadata": {
    "id": "mMpQqGrz_6nf"
   },
   "outputs": [],
   "source": [
    "from sklearn.linear_model import LogisticRegression\n",
    "from sklearn.tree import DecisionTreeClassifier\n",
    "from sklearn.ensemble import RandomForestClassifier\n",
    "from sklearn.naive_bayes import GaussianNB\n",
    "from sklearn.linear_model import SGDClassifier\n",
    "from sklearn.naive_bayes import ComplementNB\n",
    "from sklearn.preprocessing import StandardScaler\n",
    "from sklearn.model_selection import train_test_split"
   ]
  },
  {
   "cell_type": "code",
   "execution_count": 11,
   "metadata": {
    "id": "LnqtJVyqQiF3"
   },
   "outputs": [],
   "source": [
    "def prepare_data(X_dat,label):\n",
    "  # Split data set \n",
    "  X_train, X_test, y_train, y_test = train_test_split(X_dat,label,test_size=0.2,stratify=label, random_state=48)\n",
    "  #print('Training features shape:', X_train.shape)\n",
    "  #print('Test features shape:', X_test.shape)\n",
    "  \n",
    "  # Standardize the data \n",
    "  scaler = StandardScaler()\n",
    "  X_train = scaler.fit_transform(X_train)\n",
    "  X_test = scaler.transform(X_test)\n",
    "  return X_train, X_test, y_train, y_test"
   ]
  },
  {
   "cell_type": "code",
   "execution_count": 12,
   "metadata": {
    "colab": {
     "base_uri": "https://localhost:8080/",
     "height": 156
    },
    "id": "VGXI5BFckI3G",
    "outputId": "ca1885c9-c310-4aa1-f548-dbee7cb616a2"
   },
   "outputs": [
    {
     "name": "stderr",
     "output_type": "stream",
     "text": [
      "C:\\Anaconda\\envs\\tf\\lib\\site-packages\\sklearn\\linear_model\\_stochastic_gradient.py:573: ConvergenceWarning: Maximum number of iteration reached before convergence. Consider increasing max_iter to improve the fit.\n",
      "  ConvergenceWarning)\n"
     ]
    },
    {
     "data": {
      "text/plain": [
       "[0.8103874690849134,\n",
       " 0.8891129032258065,\n",
       " 0.45701357466063347,\n",
       " 0.6374454221187251,\n",
       " 0.03399395942687988]"
      ]
     },
     "execution_count": 12,
     "metadata": {},
     "output_type": "execute_result"
    }
   ],
   "source": [
    "def train_model(X_tr, X_te, y_tr, y_te, model):\n",
    "\n",
    "  # and then train it with Logistic Regression\n",
    "  start = time.time()\n",
    "  model.fit(X_tr, y_tr)\n",
    "  # use the model to make predictions with the test data\n",
    "  y_pred = model.predict(X_te)\n",
    "  end= time.time()\n",
    "\n",
    "  # get the evaluation metrics\n",
    "  result = get_accs(y_te,y_pred,False)\n",
    "  result.append(end-start)\n",
    "  return result\n",
    "X_train, X_test, y_train, y_test = prepare_data(sets[3][0],sets[3][1])\n",
    "train_model(X_train, X_test, y_train, y_test, SGDClassifier(loss=\"hinge\", penalty=\"l2\", max_iter=5))"
   ]
  },
  {
   "cell_type": "markdown",
   "metadata": {
    "id": "Lxjnrxtw7KnI"
   },
   "source": [
    "## Train all 4 models with logistic regression"
   ]
  },
  {
   "cell_type": "code",
   "execution_count": 13,
   "metadata": {
    "id": "pdJdWt1H-Cj2"
   },
   "outputs": [],
   "source": [
    "index = ['Global accuracy', 'Class 1','Class 2','G-mean','Training time']"
   ]
  },
  {
   "cell_type": "code",
   "execution_count": 14,
   "metadata": {
    "colab": {
     "base_uri": "https://localhost:8080/",
     "height": 204
    },
    "id": "MMoFVN8YkIsf",
    "outputId": "feccc6c9-2ef2-4e5b-ab9a-4ece69190c93"
   },
   "outputs": [
    {
     "data": {
      "text/html": [
       "<div>\n",
       "<style scoped>\n",
       "    .dataframe tbody tr th:only-of-type {\n",
       "        vertical-align: middle;\n",
       "    }\n",
       "\n",
       "    .dataframe tbody tr th {\n",
       "        vertical-align: top;\n",
       "    }\n",
       "\n",
       "    .dataframe thead th {\n",
       "        text-align: right;\n",
       "    }\n",
       "</style>\n",
       "<table border=\"1\" class=\"dataframe\">\n",
       "  <thead>\n",
       "    <tr style=\"text-align: right;\">\n",
       "      <th></th>\n",
       "      <th>Model #1</th>\n",
       "      <th>Model #2</th>\n",
       "      <th>Model #3</th>\n",
       "      <th>Model #4</th>\n",
       "    </tr>\n",
       "  </thead>\n",
       "  <tbody>\n",
       "    <tr>\n",
       "      <th>Global accuracy</th>\n",
       "      <td>0.830264</td>\n",
       "      <td>0.677268</td>\n",
       "      <td>0.817138</td>\n",
       "      <td>0.845012</td>\n",
       "    </tr>\n",
       "    <tr>\n",
       "      <th>Class 1</th>\n",
       "      <td>0.976630</td>\n",
       "      <td>0.903460</td>\n",
       "      <td>0.969027</td>\n",
       "      <td>0.963710</td>\n",
       "    </tr>\n",
       "    <tr>\n",
       "      <th>Class 2</th>\n",
       "      <td>0.159252</td>\n",
       "      <td>0.289295</td>\n",
       "      <td>0.194559</td>\n",
       "      <td>0.312217</td>\n",
       "    </tr>\n",
       "    <tr>\n",
       "      <th>G-mean</th>\n",
       "      <td>0.394373</td>\n",
       "      <td>0.511240</td>\n",
       "      <td>0.434204</td>\n",
       "      <td>0.548531</td>\n",
       "    </tr>\n",
       "    <tr>\n",
       "      <th>Training time</th>\n",
       "      <td>1.929008</td>\n",
       "      <td>0.260019</td>\n",
       "      <td>0.150997</td>\n",
       "      <td>0.088007</td>\n",
       "    </tr>\n",
       "  </tbody>\n",
       "</table>\n",
       "</div>"
      ],
      "text/plain": [
       "                 Model #1  Model #2  Model #3  Model #4\n",
       "Global accuracy  0.830264  0.677268  0.817138  0.845012\n",
       "Class 1          0.976630  0.903460  0.969027  0.963710\n",
       "Class 2          0.159252  0.289295  0.194559  0.312217\n",
       "G-mean           0.394373  0.511240  0.434204  0.548531\n",
       "Training time    1.929008  0.260019  0.150997  0.088007"
      ]
     },
     "execution_count": 14,
     "metadata": {},
     "output_type": "execute_result"
    }
   ],
   "source": [
    "rsts = pd.DataFrame()\n",
    "for i in range(4):\n",
    "  name = 'Model #{}'.format(i+1)\n",
    "  #print(name)\n",
    "  X_train, X_test, y_train, y_test = prepare_data(sets[i][0],sets[i][1])\n",
    "  rsts[name] = train_model(X_train, X_test, y_train, y_test, LogisticRegression(solver = 'lbfgs'))\n",
    "  \n",
    "rsts.index = index\n",
    "rsts"
   ]
  },
  {
   "cell_type": "markdown",
   "metadata": {
    "id": "yusyx0DrCYQ6"
   },
   "source": [
    "## Train 4 models with 5 different ML algorithms"
   ]
  },
  {
   "cell_type": "code",
   "execution_count": 15,
   "metadata": {
    "colab": {
     "base_uri": "https://localhost:8080/",
     "height": 459
    },
    "id": "DbjtnltEEbqS",
    "outputId": "2d6a363e-e8c5-4825-8fed-2c61faf064fb"
   },
   "outputs": [
    {
     "data": {
      "text/plain": [
       "{'LR': LogisticRegression(),\n",
       " 'DT': DecisionTreeClassifier(random_state=0),\n",
       " 'RF': RandomForestClassifier(max_depth=2, random_state=0),\n",
       " 'GNB': GaussianNB(),\n",
       " 'SGD': SGDClassifier(max_iter=5)}"
      ]
     },
     "execution_count": 15,
     "metadata": {},
     "output_type": "execute_result"
    }
   ],
   "source": [
    "def create_ML(cw = None):\n",
    "  LR = LogisticRegression(solver = 'lbfgs',class_weight=cw)\n",
    "  DT = DecisionTreeClassifier(random_state=0,class_weight=cw)\n",
    "  RF = RandomForestClassifier(max_depth=2, random_state=0,class_weight=cw)\n",
    "  GNB = GaussianNB()\n",
    "  SGD = SGDClassifier(loss=\"hinge\", penalty=\"l2\", max_iter=5,class_weight=cw)\n",
    "  clfs = [LR,DT,RF,GNB,SGD]\n",
    "  names = ['LR','DT','RF','GNB','SGD']\n",
    "  return dict(zip(names, clfs)) \n",
    "create_ML()"
   ]
  },
  {
   "cell_type": "code",
   "execution_count": 16,
   "metadata": {
    "colab": {
     "base_uri": "https://localhost:8080/",
     "height": 683
    },
    "id": "Ak_WWk01ELek",
    "outputId": "db2cced8-fe07-420d-dd02-18ae56c595fb"
   },
   "outputs": [
    {
     "name": "stdout",
     "output_type": "stream",
     "text": [
      "LR #1\n",
      "DT #1\n",
      "RF #1\n",
      "GNB #1\n",
      "SGD #1\n"
     ]
    },
    {
     "name": "stderr",
     "output_type": "stream",
     "text": [
      "C:\\Anaconda\\envs\\tf\\lib\\site-packages\\sklearn\\linear_model\\_stochastic_gradient.py:573: ConvergenceWarning: Maximum number of iteration reached before convergence. Consider increasing max_iter to improve the fit.\n",
      "  ConvergenceWarning)\n"
     ]
    },
    {
     "name": "stdout",
     "output_type": "stream",
     "text": [
      "LR #2\n",
      "DT #2\n",
      "RF #2\n",
      "GNB #2\n",
      "SGD #2\n"
     ]
    },
    {
     "name": "stderr",
     "output_type": "stream",
     "text": [
      "C:\\Anaconda\\envs\\tf\\lib\\site-packages\\sklearn\\linear_model\\_stochastic_gradient.py:573: ConvergenceWarning: Maximum number of iteration reached before convergence. Consider increasing max_iter to improve the fit.\n",
      "  ConvergenceWarning)\n"
     ]
    },
    {
     "name": "stdout",
     "output_type": "stream",
     "text": [
      "LR #3\n",
      "DT #3\n",
      "RF #3\n",
      "GNB #3\n",
      "SGD #3\n"
     ]
    },
    {
     "name": "stderr",
     "output_type": "stream",
     "text": [
      "C:\\Anaconda\\envs\\tf\\lib\\site-packages\\sklearn\\linear_model\\_stochastic_gradient.py:573: ConvergenceWarning: Maximum number of iteration reached before convergence. Consider increasing max_iter to improve the fit.\n",
      "  ConvergenceWarning)\n"
     ]
    },
    {
     "name": "stdout",
     "output_type": "stream",
     "text": [
      "LR #4\n",
      "DT #4\n",
      "RF #4\n",
      "GNB #4\n",
      "SGD #4\n"
     ]
    },
    {
     "name": "stderr",
     "output_type": "stream",
     "text": [
      "C:\\Anaconda\\envs\\tf\\lib\\site-packages\\sklearn\\linear_model\\_stochastic_gradient.py:573: ConvergenceWarning: Maximum number of iteration reached before convergence. Consider increasing max_iter to improve the fit.\n",
      "  ConvergenceWarning)\n"
     ]
    },
    {
     "data": {
      "text/html": [
       "<div>\n",
       "<style scoped>\n",
       "    .dataframe tbody tr th:only-of-type {\n",
       "        vertical-align: middle;\n",
       "    }\n",
       "\n",
       "    .dataframe tbody tr th {\n",
       "        vertical-align: top;\n",
       "    }\n",
       "\n",
       "    .dataframe thead th {\n",
       "        text-align: right;\n",
       "    }\n",
       "</style>\n",
       "<table border=\"1\" class=\"dataframe\">\n",
       "  <thead>\n",
       "    <tr style=\"text-align: right;\">\n",
       "      <th></th>\n",
       "      <th>LR #1</th>\n",
       "      <th>DT #1</th>\n",
       "      <th>RF #1</th>\n",
       "      <th>GNB #1</th>\n",
       "      <th>SGD #1</th>\n",
       "      <th>LR #2</th>\n",
       "      <th>DT #2</th>\n",
       "      <th>RF #2</th>\n",
       "      <th>GNB #2</th>\n",
       "      <th>SGD #2</th>\n",
       "      <th>LR #3</th>\n",
       "      <th>DT #3</th>\n",
       "      <th>RF #3</th>\n",
       "      <th>GNB #3</th>\n",
       "      <th>SGD #3</th>\n",
       "      <th>LR #4</th>\n",
       "      <th>DT #4</th>\n",
       "      <th>RF #4</th>\n",
       "      <th>GNB #4</th>\n",
       "      <th>SGD #4</th>\n",
       "    </tr>\n",
       "  </thead>\n",
       "  <tbody>\n",
       "    <tr>\n",
       "      <th>Global accuracy</th>\n",
       "      <td>0.830264</td>\n",
       "      <td>0.744297</td>\n",
       "      <td>0.826457</td>\n",
       "      <td>0.797833</td>\n",
       "      <td>0.826201</td>\n",
       "      <td>0.677268</td>\n",
       "      <td>0.598237</td>\n",
       "      <td>0.654994</td>\n",
       "      <td>0.658150</td>\n",
       "      <td>0.603240</td>\n",
       "      <td>0.817138</td>\n",
       "      <td>0.732902</td>\n",
       "      <td>0.805174</td>\n",
       "      <td>0.793371</td>\n",
       "      <td>0.774939</td>\n",
       "      <td>0.845012</td>\n",
       "      <td>0.763397</td>\n",
       "      <td>0.817807</td>\n",
       "      <td>0.204452</td>\n",
       "      <td>0.822754</td>\n",
       "    </tr>\n",
       "    <tr>\n",
       "      <th>Class 1</th>\n",
       "      <td>0.976630</td>\n",
       "      <td>0.833485</td>\n",
       "      <td>0.998597</td>\n",
       "      <td>0.912559</td>\n",
       "      <td>0.997675</td>\n",
       "      <td>0.903460</td>\n",
       "      <td>0.679457</td>\n",
       "      <td>0.984727</td>\n",
       "      <td>0.940228</td>\n",
       "      <td>0.794947</td>\n",
       "      <td>0.969027</td>\n",
       "      <td>0.822204</td>\n",
       "      <td>0.999799</td>\n",
       "      <td>0.909694</td>\n",
       "      <td>0.906275</td>\n",
       "      <td>0.963710</td>\n",
       "      <td>0.840726</td>\n",
       "      <td>1.000000</td>\n",
       "      <td>0.032258</td>\n",
       "      <td>0.955645</td>\n",
       "    </tr>\n",
       "    <tr>\n",
       "      <th>Class 2</th>\n",
       "      <td>0.159252</td>\n",
       "      <td>0.335418</td>\n",
       "      <td>0.037282</td>\n",
       "      <td>0.271872</td>\n",
       "      <td>0.040081</td>\n",
       "      <td>0.289295</td>\n",
       "      <td>0.458926</td>\n",
       "      <td>0.089424</td>\n",
       "      <td>0.174321</td>\n",
       "      <td>0.274418</td>\n",
       "      <td>0.194559</td>\n",
       "      <td>0.366859</td>\n",
       "      <td>0.007420</td>\n",
       "      <td>0.316570</td>\n",
       "      <td>0.236603</td>\n",
       "      <td>0.312217</td>\n",
       "      <td>0.416290</td>\n",
       "      <td>0.000000</td>\n",
       "      <td>0.977376</td>\n",
       "      <td>0.226244</td>\n",
       "    </tr>\n",
       "    <tr>\n",
       "      <th>G-mean</th>\n",
       "      <td>0.394373</td>\n",
       "      <td>0.528740</td>\n",
       "      <td>0.192950</td>\n",
       "      <td>0.498096</td>\n",
       "      <td>0.199969</td>\n",
       "      <td>0.511240</td>\n",
       "      <td>0.558409</td>\n",
       "      <td>0.296747</td>\n",
       "      <td>0.404847</td>\n",
       "      <td>0.467063</td>\n",
       "      <td>0.434204</td>\n",
       "      <td>0.549211</td>\n",
       "      <td>0.086129</td>\n",
       "      <td>0.536640</td>\n",
       "      <td>0.463064</td>\n",
       "      <td>0.548531</td>\n",
       "      <td>0.591596</td>\n",
       "      <td>0.031623</td>\n",
       "      <td>0.177562</td>\n",
       "      <td>0.464983</td>\n",
       "    </tr>\n",
       "    <tr>\n",
       "      <th>Training time</th>\n",
       "      <td>2.116997</td>\n",
       "      <td>17.497002</td>\n",
       "      <td>29.572001</td>\n",
       "      <td>0.634028</td>\n",
       "      <td>0.960001</td>\n",
       "      <td>0.216004</td>\n",
       "      <td>2.017999</td>\n",
       "      <td>3.265006</td>\n",
       "      <td>0.111999</td>\n",
       "      <td>0.140035</td>\n",
       "      <td>0.164998</td>\n",
       "      <td>0.597000</td>\n",
       "      <td>1.206025</td>\n",
       "      <td>0.043000</td>\n",
       "      <td>0.046003</td>\n",
       "      <td>0.060000</td>\n",
       "      <td>0.099003</td>\n",
       "      <td>0.429999</td>\n",
       "      <td>0.007998</td>\n",
       "      <td>0.007995</td>\n",
       "    </tr>\n",
       "  </tbody>\n",
       "</table>\n",
       "</div>"
      ],
      "text/plain": [
       "                    LR #1      DT #1      RF #1    GNB #1    SGD #1     LR #2  \\\n",
       "Global accuracy  0.830264   0.744297   0.826457  0.797833  0.826201  0.677268   \n",
       "Class 1          0.976630   0.833485   0.998597  0.912559  0.997675  0.903460   \n",
       "Class 2          0.159252   0.335418   0.037282  0.271872  0.040081  0.289295   \n",
       "G-mean           0.394373   0.528740   0.192950  0.498096  0.199969  0.511240   \n",
       "Training time    2.116997  17.497002  29.572001  0.634028  0.960001  0.216004   \n",
       "\n",
       "                    DT #2     RF #2    GNB #2    SGD #2     LR #3     DT #3  \\\n",
       "Global accuracy  0.598237  0.654994  0.658150  0.603240  0.817138  0.732902   \n",
       "Class 1          0.679457  0.984727  0.940228  0.794947  0.969027  0.822204   \n",
       "Class 2          0.458926  0.089424  0.174321  0.274418  0.194559  0.366859   \n",
       "G-mean           0.558409  0.296747  0.404847  0.467063  0.434204  0.549211   \n",
       "Training time    2.017999  3.265006  0.111999  0.140035  0.164998  0.597000   \n",
       "\n",
       "                    RF #3    GNB #3    SGD #3     LR #4     DT #4     RF #4  \\\n",
       "Global accuracy  0.805174  0.793371  0.774939  0.845012  0.763397  0.817807   \n",
       "Class 1          0.999799  0.909694  0.906275  0.963710  0.840726  1.000000   \n",
       "Class 2          0.007420  0.316570  0.236603  0.312217  0.416290  0.000000   \n",
       "G-mean           0.086129  0.536640  0.463064  0.548531  0.591596  0.031623   \n",
       "Training time    1.206025  0.043000  0.046003  0.060000  0.099003  0.429999   \n",
       "\n",
       "                   GNB #4    SGD #4  \n",
       "Global accuracy  0.204452  0.822754  \n",
       "Class 1          0.032258  0.955645  \n",
       "Class 2          0.977376  0.226244  \n",
       "G-mean           0.177562  0.464983  \n",
       "Training time    0.007998  0.007995  "
      ]
     },
     "execution_count": 16,
     "metadata": {},
     "output_type": "execute_result"
    }
   ],
   "source": [
    "rsts = pd.DataFrame()\n",
    "for i in range(4):\n",
    "  MLs = create_ML()\n",
    "  for clf_name, clf in MLs.items():\n",
    "    name = '{0} #{1}'.format(clf_name,i+1)\n",
    "    print(name)\n",
    "    try:\n",
    "      X_train, X_test, y_train, y_test = prepare_data(sets[i][0],sets[i][1])\n",
    "      rsts[name] = train_model(X_train, X_test, y_train, y_test, clf)\n",
    "    except Exception as e: print(e)\n",
    "    \n",
    "rsts.index = index\n",
    "rsts"
   ]
  },
  {
   "cell_type": "markdown",
   "metadata": {
    "id": "B3bF6lwhKOdO"
   },
   "source": [
    "Print the best performance"
   ]
  },
  {
   "cell_type": "code",
   "execution_count": 17,
   "metadata": {
    "colab": {
     "base_uri": "https://localhost:8080/",
     "height": 204
    },
    "id": "3gw3bcNa3LqM",
    "outputId": "abccd814-6587-4437-b903-1949e13ab04e"
   },
   "outputs": [
    {
     "data": {
      "text/html": [
       "<div>\n",
       "<style scoped>\n",
       "    .dataframe tbody tr th:only-of-type {\n",
       "        vertical-align: middle;\n",
       "    }\n",
       "\n",
       "    .dataframe tbody tr th {\n",
       "        vertical-align: top;\n",
       "    }\n",
       "\n",
       "    .dataframe thead th {\n",
       "        text-align: right;\n",
       "    }\n",
       "</style>\n",
       "<table border=\"1\" class=\"dataframe\">\n",
       "  <thead>\n",
       "    <tr style=\"text-align: right;\">\n",
       "      <th></th>\n",
       "      <th>DT #1</th>\n",
       "      <th>DT #2</th>\n",
       "      <th>DT #3</th>\n",
       "      <th>DT #4</th>\n",
       "    </tr>\n",
       "  </thead>\n",
       "  <tbody>\n",
       "    <tr>\n",
       "      <th>Global accuracy</th>\n",
       "      <td>0.744297</td>\n",
       "      <td>0.598237</td>\n",
       "      <td>0.732902</td>\n",
       "      <td>0.763397</td>\n",
       "    </tr>\n",
       "    <tr>\n",
       "      <th>Class 1</th>\n",
       "      <td>0.833485</td>\n",
       "      <td>0.679457</td>\n",
       "      <td>0.822204</td>\n",
       "      <td>0.840726</td>\n",
       "    </tr>\n",
       "    <tr>\n",
       "      <th>Class 2</th>\n",
       "      <td>0.335418</td>\n",
       "      <td>0.458926</td>\n",
       "      <td>0.366859</td>\n",
       "      <td>0.416290</td>\n",
       "    </tr>\n",
       "    <tr>\n",
       "      <th>G-mean</th>\n",
       "      <td>0.528740</td>\n",
       "      <td>0.558409</td>\n",
       "      <td>0.549211</td>\n",
       "      <td>0.591596</td>\n",
       "    </tr>\n",
       "    <tr>\n",
       "      <th>Training time</th>\n",
       "      <td>17.497002</td>\n",
       "      <td>2.017999</td>\n",
       "      <td>0.597000</td>\n",
       "      <td>0.099003</td>\n",
       "    </tr>\n",
       "  </tbody>\n",
       "</table>\n",
       "</div>"
      ],
      "text/plain": [
       "                     DT #1     DT #2     DT #3     DT #4\n",
       "Global accuracy   0.744297  0.598237  0.732902  0.763397\n",
       "Class 1           0.833485  0.679457  0.822204  0.840726\n",
       "Class 2           0.335418  0.458926  0.366859  0.416290\n",
       "G-mean            0.528740  0.558409  0.549211  0.591596\n",
       "Training time    17.497002  2.017999  0.597000  0.099003"
      ]
     },
     "execution_count": 17,
     "metadata": {},
     "output_type": "execute_result"
    }
   ],
   "source": [
    "best_rst = []\n",
    "for i in range(4):\n",
    "  algo = rsts.loc['G-mean'][i*5:i*5+5].idxmax()\n",
    "  best_rst.append(algo)\n",
    "best_rst = rsts[best_rst].copy()\n",
    "best_rst"
   ]
  },
  {
   "cell_type": "markdown",
   "metadata": {
    "id": "qgWDH3ATGk6j"
   },
   "source": [
    "# Run 4 binary models with class weights"
   ]
  },
  {
   "cell_type": "code",
   "execution_count": 18,
   "metadata": {
    "colab": {
     "base_uri": "https://localhost:8080/",
     "height": 802
    },
    "id": "bgpnqfMiRwzn",
    "outputId": "8f796110-0726-49ac-e7fd-aa9e028b5ed0"
   },
   "outputs": [
    {
     "name": "stdout",
     "output_type": "stream",
     "text": [
      "Counter({0: 384890, 1: 83954})\n",
      "LR #1\n",
      "DT #1\n",
      "RF #1\n",
      "GNB #1\n",
      "SGD #1\n"
     ]
    },
    {
     "name": "stderr",
     "output_type": "stream",
     "text": [
      "C:\\Anaconda\\envs\\tf\\lib\\site-packages\\sklearn\\linear_model\\_stochastic_gradient.py:573: ConvergenceWarning: Maximum number of iteration reached before convergence. Consider increasing max_iter to improve the fit.\n",
      "  ConvergenceWarning)\n"
     ]
    },
    {
     "name": "stdout",
     "output_type": "stream",
     "text": [
      "Counter({0: 53032, 1: 30922})\n",
      "LR #2\n",
      "DT #2\n",
      "RF #2\n",
      "GNB #2\n",
      "SGD #2\n"
     ]
    },
    {
     "name": "stderr",
     "output_type": "stream",
     "text": [
      "C:\\Anaconda\\envs\\tf\\lib\\site-packages\\sklearn\\linear_model\\_stochastic_gradient.py:573: ConvergenceWarning: Maximum number of iteration reached before convergence. Consider increasing max_iter to improve the fit.\n",
      "  ConvergenceWarning)\n"
     ]
    },
    {
     "name": "stdout",
     "output_type": "stream",
     "text": [
      "Counter({0: 24859, 1: 6063})\n",
      "LR #3\n",
      "DT #3\n",
      "RF #3\n",
      "GNB #3\n",
      "SGD #3\n"
     ]
    },
    {
     "name": "stderr",
     "output_type": "stream",
     "text": [
      "C:\\Anaconda\\envs\\tf\\lib\\site-packages\\sklearn\\linear_model\\_stochastic_gradient.py:573: ConvergenceWarning: Maximum number of iteration reached before convergence. Consider increasing max_iter to improve the fit.\n",
      "  ConvergenceWarning)\n"
     ]
    },
    {
     "name": "stdout",
     "output_type": "stream",
     "text": [
      "Counter({0: 4959, 1: 1104})\n",
      "LR #4\n",
      "DT #4\n",
      "RF #4\n",
      "GNB #4\n",
      "SGD #4\n"
     ]
    },
    {
     "name": "stderr",
     "output_type": "stream",
     "text": [
      "C:\\Anaconda\\envs\\tf\\lib\\site-packages\\sklearn\\linear_model\\_stochastic_gradient.py:573: ConvergenceWarning: Maximum number of iteration reached before convergence. Consider increasing max_iter to improve the fit.\n",
      "  ConvergenceWarning)\n"
     ]
    },
    {
     "data": {
      "text/html": [
       "<div>\n",
       "<style scoped>\n",
       "    .dataframe tbody tr th:only-of-type {\n",
       "        vertical-align: middle;\n",
       "    }\n",
       "\n",
       "    .dataframe tbody tr th {\n",
       "        vertical-align: top;\n",
       "    }\n",
       "\n",
       "    .dataframe thead th {\n",
       "        text-align: right;\n",
       "    }\n",
       "</style>\n",
       "<table border=\"1\" class=\"dataframe\">\n",
       "  <thead>\n",
       "    <tr style=\"text-align: right;\">\n",
       "      <th></th>\n",
       "      <th>LR #1</th>\n",
       "      <th>DT #1</th>\n",
       "      <th>RF #1</th>\n",
       "      <th>GNB #1</th>\n",
       "      <th>SGD #1</th>\n",
       "      <th>LR #2</th>\n",
       "      <th>DT #2</th>\n",
       "      <th>RF #2</th>\n",
       "      <th>GNB #2</th>\n",
       "      <th>SGD #2</th>\n",
       "      <th>LR #3</th>\n",
       "      <th>DT #3</th>\n",
       "      <th>RF #3</th>\n",
       "      <th>GNB #3</th>\n",
       "      <th>SGD #3</th>\n",
       "      <th>LR #4</th>\n",
       "      <th>DT #4</th>\n",
       "      <th>RF #4</th>\n",
       "      <th>GNB #4</th>\n",
       "      <th>SGD #4</th>\n",
       "    </tr>\n",
       "  </thead>\n",
       "  <tbody>\n",
       "    <tr>\n",
       "      <th>Global accuracy</th>\n",
       "      <td>0.716345</td>\n",
       "      <td>0.752605</td>\n",
       "      <td>0.798185</td>\n",
       "      <td>0.797833</td>\n",
       "      <td>0.667545</td>\n",
       "      <td>0.640462</td>\n",
       "      <td>0.595378</td>\n",
       "      <td>0.656006</td>\n",
       "      <td>0.658150</td>\n",
       "      <td>0.587577</td>\n",
       "      <td>0.724656</td>\n",
       "      <td>0.737753</td>\n",
       "      <td>0.776880</td>\n",
       "      <td>0.793371</td>\n",
       "      <td>0.637833</td>\n",
       "      <td>0.767519</td>\n",
       "      <td>0.786480</td>\n",
       "      <td>0.734542</td>\n",
       "      <td>0.204452</td>\n",
       "      <td>0.653751</td>\n",
       "    </tr>\n",
       "    <tr>\n",
       "      <th>Class 1</th>\n",
       "      <td>0.751474</td>\n",
       "      <td>0.849554</td>\n",
       "      <td>0.869573</td>\n",
       "      <td>0.912559</td>\n",
       "      <td>0.697667</td>\n",
       "      <td>0.695767</td>\n",
       "      <td>0.683794</td>\n",
       "      <td>0.782596</td>\n",
       "      <td>0.940228</td>\n",
       "      <td>0.619591</td>\n",
       "      <td>0.745575</td>\n",
       "      <td>0.838697</td>\n",
       "      <td>0.848954</td>\n",
       "      <td>0.909694</td>\n",
       "      <td>0.680611</td>\n",
       "      <td>0.798387</td>\n",
       "      <td>0.859879</td>\n",
       "      <td>0.754032</td>\n",
       "      <td>0.032258</td>\n",
       "      <td>0.657258</td>\n",
       "    </tr>\n",
       "    <tr>\n",
       "      <th>Class 2</th>\n",
       "      <td>0.555297</td>\n",
       "      <td>0.308141</td>\n",
       "      <td>0.470907</td>\n",
       "      <td>0.271872</td>\n",
       "      <td>0.529450</td>\n",
       "      <td>0.545602</td>\n",
       "      <td>0.443726</td>\n",
       "      <td>0.438875</td>\n",
       "      <td>0.174321</td>\n",
       "      <td>0.532665</td>\n",
       "      <td>0.638912</td>\n",
       "      <td>0.323990</td>\n",
       "      <td>0.481451</td>\n",
       "      <td>0.316570</td>\n",
       "      <td>0.462490</td>\n",
       "      <td>0.628959</td>\n",
       "      <td>0.457014</td>\n",
       "      <td>0.647059</td>\n",
       "      <td>0.977376</td>\n",
       "      <td>0.638009</td>\n",
       "    </tr>\n",
       "    <tr>\n",
       "      <th>G-mean</th>\n",
       "      <td>0.645981</td>\n",
       "      <td>0.511647</td>\n",
       "      <td>0.639913</td>\n",
       "      <td>0.498096</td>\n",
       "      <td>0.607766</td>\n",
       "      <td>0.616126</td>\n",
       "      <td>0.550833</td>\n",
       "      <td>0.586056</td>\n",
       "      <td>0.404847</td>\n",
       "      <td>0.574486</td>\n",
       "      <td>0.690186</td>\n",
       "      <td>0.521277</td>\n",
       "      <td>0.639320</td>\n",
       "      <td>0.536640</td>\n",
       "      <td>0.561049</td>\n",
       "      <td>0.708628</td>\n",
       "      <td>0.626878</td>\n",
       "      <td>0.698501</td>\n",
       "      <td>0.177562</td>\n",
       "      <td>0.647562</td>\n",
       "    </tr>\n",
       "    <tr>\n",
       "      <th>Training time</th>\n",
       "      <td>2.528983</td>\n",
       "      <td>22.817000</td>\n",
       "      <td>31.098018</td>\n",
       "      <td>0.849014</td>\n",
       "      <td>1.179023</td>\n",
       "      <td>0.264002</td>\n",
       "      <td>1.916005</td>\n",
       "      <td>3.432999</td>\n",
       "      <td>0.112005</td>\n",
       "      <td>0.150010</td>\n",
       "      <td>0.299012</td>\n",
       "      <td>0.735998</td>\n",
       "      <td>1.340008</td>\n",
       "      <td>0.041010</td>\n",
       "      <td>0.050003</td>\n",
       "      <td>0.077006</td>\n",
       "      <td>0.100003</td>\n",
       "      <td>0.571018</td>\n",
       "      <td>0.018997</td>\n",
       "      <td>0.030997</td>\n",
       "    </tr>\n",
       "  </tbody>\n",
       "</table>\n",
       "</div>"
      ],
      "text/plain": [
       "                    LR #1      DT #1      RF #1    GNB #1    SGD #1     LR #2  \\\n",
       "Global accuracy  0.716345   0.752605   0.798185  0.797833  0.667545  0.640462   \n",
       "Class 1          0.751474   0.849554   0.869573  0.912559  0.697667  0.695767   \n",
       "Class 2          0.555297   0.308141   0.470907  0.271872  0.529450  0.545602   \n",
       "G-mean           0.645981   0.511647   0.639913  0.498096  0.607766  0.616126   \n",
       "Training time    2.528983  22.817000  31.098018  0.849014  1.179023  0.264002   \n",
       "\n",
       "                    DT #2     RF #2    GNB #2    SGD #2     LR #3     DT #3  \\\n",
       "Global accuracy  0.595378  0.656006  0.658150  0.587577  0.724656  0.737753   \n",
       "Class 1          0.683794  0.782596  0.940228  0.619591  0.745575  0.838697   \n",
       "Class 2          0.443726  0.438875  0.174321  0.532665  0.638912  0.323990   \n",
       "G-mean           0.550833  0.586056  0.404847  0.574486  0.690186  0.521277   \n",
       "Training time    1.916005  3.432999  0.112005  0.150010  0.299012  0.735998   \n",
       "\n",
       "                    RF #3    GNB #3    SGD #3     LR #4     DT #4     RF #4  \\\n",
       "Global accuracy  0.776880  0.793371  0.637833  0.767519  0.786480  0.734542   \n",
       "Class 1          0.848954  0.909694  0.680611  0.798387  0.859879  0.754032   \n",
       "Class 2          0.481451  0.316570  0.462490  0.628959  0.457014  0.647059   \n",
       "G-mean           0.639320  0.536640  0.561049  0.708628  0.626878  0.698501   \n",
       "Training time    1.340008  0.041010  0.050003  0.077006  0.100003  0.571018   \n",
       "\n",
       "                   GNB #4    SGD #4  \n",
       "Global accuracy  0.204452  0.653751  \n",
       "Class 1          0.032258  0.657258  \n",
       "Class 2          0.977376  0.638009  \n",
       "G-mean           0.177562  0.647562  \n",
       "Training time    0.018997  0.030997  "
      ]
     },
     "execution_count": 18,
     "metadata": {},
     "output_type": "execute_result"
    }
   ],
   "source": [
    "rsts = pd.DataFrame()\n",
    "for i in range(4):\n",
    "  MLs = create_ML('balanced')\n",
    "  X_train, X_test, y_train, y_test = prepare_data(sets[i][0],sets[i][1])\n",
    "  print(Counter(sets[i][1]))\n",
    "  for clf_name, clf in MLs.items():\n",
    "    name = '{0} #{1}'.format(clf_name,i+1)\n",
    "    print(name)\n",
    "    try:\n",
    "\n",
    "      rsts[name] = train_model(X_train, X_test, y_train, y_test, clf)\n",
    "    except Exception as e: print(e)\n",
    "    \n",
    "rsts.index = index\n",
    "rsts"
   ]
  },
  {
   "cell_type": "markdown",
   "metadata": {
    "id": "gqCyIU6C6ruG"
   },
   "source": [
    "Print the best algorithm for each classfications"
   ]
  },
  {
   "cell_type": "code",
   "execution_count": 19,
   "metadata": {
    "colab": {
     "base_uri": "https://localhost:8080/",
     "height": 204
    },
    "id": "PLgyPV-K6r-C",
    "outputId": "a04fba71-a2ee-408d-f80f-aead54c5760e"
   },
   "outputs": [
    {
     "data": {
      "text/html": [
       "<div>\n",
       "<style scoped>\n",
       "    .dataframe tbody tr th:only-of-type {\n",
       "        vertical-align: middle;\n",
       "    }\n",
       "\n",
       "    .dataframe tbody tr th {\n",
       "        vertical-align: top;\n",
       "    }\n",
       "\n",
       "    .dataframe thead th {\n",
       "        text-align: right;\n",
       "    }\n",
       "</style>\n",
       "<table border=\"1\" class=\"dataframe\">\n",
       "  <thead>\n",
       "    <tr style=\"text-align: right;\">\n",
       "      <th></th>\n",
       "      <th>LR #1</th>\n",
       "      <th>LR #2</th>\n",
       "      <th>LR #3</th>\n",
       "      <th>LR #4</th>\n",
       "    </tr>\n",
       "  </thead>\n",
       "  <tbody>\n",
       "    <tr>\n",
       "      <th>Global accuracy</th>\n",
       "      <td>0.716345</td>\n",
       "      <td>0.640462</td>\n",
       "      <td>0.724656</td>\n",
       "      <td>0.767519</td>\n",
       "    </tr>\n",
       "    <tr>\n",
       "      <th>Class 1</th>\n",
       "      <td>0.751474</td>\n",
       "      <td>0.695767</td>\n",
       "      <td>0.745575</td>\n",
       "      <td>0.798387</td>\n",
       "    </tr>\n",
       "    <tr>\n",
       "      <th>Class 2</th>\n",
       "      <td>0.555297</td>\n",
       "      <td>0.545602</td>\n",
       "      <td>0.638912</td>\n",
       "      <td>0.628959</td>\n",
       "    </tr>\n",
       "    <tr>\n",
       "      <th>G-mean</th>\n",
       "      <td>0.645981</td>\n",
       "      <td>0.616126</td>\n",
       "      <td>0.690186</td>\n",
       "      <td>0.708628</td>\n",
       "    </tr>\n",
       "    <tr>\n",
       "      <th>Training time</th>\n",
       "      <td>2.528983</td>\n",
       "      <td>0.264002</td>\n",
       "      <td>0.299012</td>\n",
       "      <td>0.077006</td>\n",
       "    </tr>\n",
       "  </tbody>\n",
       "</table>\n",
       "</div>"
      ],
      "text/plain": [
       "                    LR #1     LR #2     LR #3     LR #4\n",
       "Global accuracy  0.716345  0.640462  0.724656  0.767519\n",
       "Class 1          0.751474  0.695767  0.745575  0.798387\n",
       "Class 2          0.555297  0.545602  0.638912  0.628959\n",
       "G-mean           0.645981  0.616126  0.690186  0.708628\n",
       "Training time    2.528983  0.264002  0.299012  0.077006"
      ]
     },
     "execution_count": 19,
     "metadata": {},
     "output_type": "execute_result"
    }
   ],
   "source": [
    "best_rst = []\n",
    "for i in range(4):\n",
    "  algo = rsts.loc['G-mean'][i*5:i*5+5].idxmax()\n",
    "  best_rst.append(algo)\n",
    "best_rst_cw = rsts[best_rst].copy()\n",
    "best_rst_cw"
   ]
  },
  {
   "cell_type": "markdown",
   "metadata": {
    "id": "MttWSJBG8PFF"
   },
   "source": [
    "# Run 4 binary models with under-sampling\n"
   ]
  },
  {
   "cell_type": "code",
   "execution_count": 20,
   "metadata": {
    "id": "DB-z1fKMAlBy"
   },
   "outputs": [],
   "source": [
    "from imblearn.under_sampling import RandomUnderSampler,CondensedNearestNeighbour,EditedNearestNeighbours\n",
    "from imblearn.under_sampling import AllKNN, InstanceHardnessThreshold, NearMiss, NeighbourhoodCleaningRule\n",
    "from imblearn.under_sampling import     TomekLinks\n",
    "from imblearn.under_sampling import     OneSidedSelection"
   ]
  },
  {
   "cell_type": "code",
   "execution_count": 21,
   "metadata": {
    "id": "j1a97LYLvbJa"
   },
   "outputs": [],
   "source": [
    "import warnings; warnings.simplefilter('ignore')"
   ]
  },
  {
   "cell_type": "code",
   "execution_count": 23,
   "metadata": {
    "colab": {
     "base_uri": "https://localhost:8080/",
     "height": 357
    },
    "id": "eovVRZG1DiIE",
    "outputId": "90cb552c-8387-426f-e483-4774cf301687"
   },
   "outputs": [
    {
     "ename": "TypeError",
     "evalue": "__init__() got an unexpected keyword argument 'random_state'",
     "output_type": "error",
     "traceback": [
      "\u001b[1;31m---------------------------------------------------------------------------\u001b[0m",
      "\u001b[1;31mTypeError\u001b[0m                                 Traceback (most recent call last)",
      "\u001b[1;32m<ipython-input-23-725b2aed6c37>\u001b[0m in \u001b[0;36m<module>\u001b[1;34m\u001b[0m\n\u001b[0;32m      2\u001b[0m \u001b[1;31m#cnn = CondensedNearestNeighbour(random_state=42)\u001b[0m\u001b[1;33m\u001b[0m\u001b[1;33m\u001b[0m\u001b[1;33m\u001b[0m\u001b[0m\n\u001b[0;32m      3\u001b[0m \u001b[0menn\u001b[0m \u001b[1;33m=\u001b[0m \u001b[0mEditedNearestNeighbours\u001b[0m\u001b[1;33m(\u001b[0m\u001b[1;33m)\u001b[0m\u001b[1;33m\u001b[0m\u001b[1;33m\u001b[0m\u001b[0m\n\u001b[1;32m----> 4\u001b[1;33m \u001b[0maknn\u001b[0m \u001b[1;33m=\u001b[0m \u001b[0mAllKNN\u001b[0m\u001b[1;33m(\u001b[0m\u001b[0mrandom_state\u001b[0m\u001b[1;33m=\u001b[0m\u001b[1;36m42\u001b[0m\u001b[1;33m)\u001b[0m\u001b[1;33m\u001b[0m\u001b[1;33m\u001b[0m\u001b[0m\n\u001b[0m\u001b[0;32m      5\u001b[0m \u001b[0miht\u001b[0m \u001b[1;33m=\u001b[0m \u001b[0mInstanceHardnessThreshold\u001b[0m\u001b[1;33m(\u001b[0m\u001b[0mrandom_state\u001b[0m\u001b[1;33m=\u001b[0m\u001b[1;36m42\u001b[0m\u001b[1;33m)\u001b[0m\u001b[1;33m\u001b[0m\u001b[1;33m\u001b[0m\u001b[0m\n\u001b[0;32m      6\u001b[0m \u001b[0mnrms\u001b[0m \u001b[1;33m=\u001b[0m\u001b[0mNearMiss\u001b[0m\u001b[1;33m(\u001b[0m\u001b[0mrandom_state\u001b[0m\u001b[1;33m=\u001b[0m\u001b[1;36m42\u001b[0m\u001b[1;33m)\u001b[0m\u001b[1;33m\u001b[0m\u001b[1;33m\u001b[0m\u001b[0m\n",
      "\u001b[1;32mC:\\Anaconda\\envs\\tf\\lib\\site-packages\\imblearn\\utils\\_validation.py\u001b[0m in \u001b[0;36minner_f\u001b[1;34m(*args, **kwargs)\u001b[0m\n\u001b[0;32m    638\u001b[0m                           FutureWarning)\n\u001b[0;32m    639\u001b[0m         \u001b[0mkwargs\u001b[0m\u001b[1;33m.\u001b[0m\u001b[0mupdate\u001b[0m\u001b[1;33m(\u001b[0m\u001b[1;33m{\u001b[0m\u001b[0mk\u001b[0m\u001b[1;33m:\u001b[0m \u001b[0marg\u001b[0m \u001b[1;32mfor\u001b[0m \u001b[0mk\u001b[0m\u001b[1;33m,\u001b[0m \u001b[0marg\u001b[0m \u001b[1;32min\u001b[0m \u001b[0mzip\u001b[0m\u001b[1;33m(\u001b[0m\u001b[0msig\u001b[0m\u001b[1;33m.\u001b[0m\u001b[0mparameters\u001b[0m\u001b[1;33m,\u001b[0m \u001b[0margs\u001b[0m\u001b[1;33m)\u001b[0m\u001b[1;33m}\u001b[0m\u001b[1;33m)\u001b[0m\u001b[1;33m\u001b[0m\u001b[1;33m\u001b[0m\u001b[0m\n\u001b[1;32m--> 640\u001b[1;33m         \u001b[1;32mreturn\u001b[0m \u001b[0mf\u001b[0m\u001b[1;33m(\u001b[0m\u001b[1;33m**\u001b[0m\u001b[0mkwargs\u001b[0m\u001b[1;33m)\u001b[0m\u001b[1;33m\u001b[0m\u001b[1;33m\u001b[0m\u001b[0m\n\u001b[0m\u001b[0;32m    641\u001b[0m     \u001b[1;32mreturn\u001b[0m \u001b[0minner_f\u001b[0m\u001b[1;33m\u001b[0m\u001b[1;33m\u001b[0m\u001b[0m\n",
      "\u001b[1;31mTypeError\u001b[0m: __init__() got an unexpected keyword argument 'random_state'"
     ]
    }
   ],
   "source": [
    "rus = RandomUnderSampler(random_state=42)\n",
    "#cnn = CondensedNearestNeighbour(random_state=42)\n",
    "enn = EditedNearestNeighbours()\n",
    "aknn = AllKNN()\n",
    "iht = InstanceHardnessThreshold(random_state=42)\n",
    "nrms =NearMiss(random_state=42)\n",
    "ncr = NeighbourhoodCleaningRule(random_state=42)\n",
    "oss = OneSidedSelection(random_state=42)\n",
    "tml = TomekLinks(random_state=42)\n",
    "\n",
    "unders = [rus, enn, aknn, iht, nrms, ncr, oss, tml]\n",
    "under_names = ['RandomUnderSampler',\n",
    "            'EditedNearestNeighbours', 'AllKNN', 'InstanceHardnessThreshold', \n",
    "            'NearMiss', 'NeighbourhoodCleaningRule',\n",
    "            'OneSidedSelection','TomekLinks']\n",
    "URs=dict(zip(under_names,unders))\n",
    "URs"
   ]
  },
  {
   "cell_type": "code",
   "execution_count": null,
   "metadata": {
    "colab": {
     "base_uri": "https://localhost:8080/",
     "height": 136
    },
    "id": "nW2krBG_-kWs",
    "outputId": "5561a77c-0b39-4388-8b16-b6485bfb175c"
   },
   "outputs": [],
   "source": [
    "def under_resampling(data,method):\n",
    "  urs = URs[method]\n",
    "  X_urs, y_urs = urs.fit_resample(data[0], data[1])\n",
    "  return X_urs, y_urs\n",
    "under_resampling(sets[3],under_names[0])"
   ]
  },
  {
   "cell_type": "code",
   "execution_count": null,
   "metadata": {
    "id": "mwRBbw-TBSys"
   },
   "outputs": [],
   "source": [
    "import warnings; warnings.simplefilter('ignore')"
   ]
  },
  {
   "cell_type": "markdown",
   "metadata": {
    "id": "wVBv2EUoLtQY"
   },
   "source": [
    "#### Find the fastest under sampling techniques"
   ]
  },
  {
   "cell_type": "code",
   "execution_count": null,
   "metadata": {
    "colab": {
     "base_uri": "https://localhost:8080/",
     "height": 119
    },
    "id": "u0G4LYbw-AVl",
    "outputId": "eb13112c-6ae4-44fb-f5f5-629c79d889a2"
   },
   "outputs": [],
   "source": [
    "print(Counter(sets[2][1]))\n",
    "perform ={}\n",
    "for key in ['RandomUnderSampler','NearMiss','EditedNearestNeighbours','TomekLinks','OneSidedSelection']:\n",
    "  start = time.time()\n",
    "  under_resampling(sets[1],key)\n",
    "  end = time.time()\n",
    "  perform[key]=end-start\n",
    "\n",
    "sorted(perform.items(), key=lambda x: x[1])"
   ]
  },
  {
   "cell_type": "markdown",
   "metadata": {
    "id": "3mNPna6oK9iS"
   },
   "source": [
    "Best are ROS, NM, ENN"
   ]
  },
  {
   "cell_type": "code",
   "execution_count": null,
   "metadata": {
    "id": "M6KWt51jrZSr"
   },
   "outputs": [],
   "source": []
  },
  {
   "cell_type": "code",
   "execution_count": 24,
   "metadata": {
    "id": "e3eUAFqQPhC6"
   },
   "outputs": [],
   "source": [
    "def prepare_data2(X_dat,label,resampler):\n",
    "  # Split data set \n",
    "  X_train, X_test, y_train, y_test = train_test_split(X_dat,label,test_size=0.2,stratify=label, random_state=48)\n",
    "  #print('Training features shape:', X_train.shape)\n",
    "  #print('Test features shape:', X_test.shape)\n",
    "  \n",
    "  # Standardize the data \n",
    "  scaler = StandardScaler()\n",
    "  X_train = scaler.fit_transform(X_train)\n",
    "  X_test = scaler.transform(X_test)\n",
    "  # Resampling the training set\n",
    "  X_train, y_train = resampler.fit_resample(X_train, y_train)\n",
    "  return X_train, X_test, y_train, y_test"
   ]
  },
  {
   "cell_type": "markdown",
   "metadata": {
    "id": "3yBQUGd9I4PO"
   },
   "source": [
    "### Random under resampling\n"
   ]
  },
  {
   "cell_type": "code",
   "execution_count": 25,
   "metadata": {
    "colab": {
     "base_uri": "https://localhost:8080/",
     "height": 544
    },
    "id": "RsIADmEDFJz2",
    "outputId": "8e580dc2-4483-4337-d6c1-c2e5de064322"
   },
   "outputs": [
    {
     "name": "stdout",
     "output_type": "stream",
     "text": [
      "LR #1\n",
      "DT #1\n",
      "RF #1\n",
      "GNB #1\n",
      "SGD #1\n",
      "LR #2\n",
      "DT #2\n",
      "RF #2\n",
      "GNB #2\n",
      "SGD #2\n",
      "LR #3\n",
      "DT #3\n",
      "RF #3\n",
      "GNB #3\n",
      "SGD #3\n",
      "LR #4\n",
      "DT #4\n",
      "RF #4\n",
      "GNB #4\n",
      "SGD #4\n"
     ]
    },
    {
     "data": {
      "text/html": [
       "<div>\n",
       "<style scoped>\n",
       "    .dataframe tbody tr th:only-of-type {\n",
       "        vertical-align: middle;\n",
       "    }\n",
       "\n",
       "    .dataframe tbody tr th {\n",
       "        vertical-align: top;\n",
       "    }\n",
       "\n",
       "    .dataframe thead th {\n",
       "        text-align: right;\n",
       "    }\n",
       "</style>\n",
       "<table border=\"1\" class=\"dataframe\">\n",
       "  <thead>\n",
       "    <tr style=\"text-align: right;\">\n",
       "      <th></th>\n",
       "      <th>LR #1</th>\n",
       "      <th>LR #2</th>\n",
       "      <th>LR #3</th>\n",
       "      <th>LR #4</th>\n",
       "    </tr>\n",
       "  </thead>\n",
       "  <tbody>\n",
       "    <tr>\n",
       "      <th>Global accuracy</th>\n",
       "      <td>0.717092</td>\n",
       "      <td>0.640522</td>\n",
       "      <td>0.724818</td>\n",
       "      <td>0.751031</td>\n",
       "    </tr>\n",
       "    <tr>\n",
       "      <th>Class 1</th>\n",
       "      <td>0.752423</td>\n",
       "      <td>0.696804</td>\n",
       "      <td>0.745173</td>\n",
       "      <td>0.774194</td>\n",
       "    </tr>\n",
       "    <tr>\n",
       "      <th>Class 2</th>\n",
       "      <td>0.555119</td>\n",
       "      <td>0.543984</td>\n",
       "      <td>0.641385</td>\n",
       "      <td>0.647059</td>\n",
       "    </tr>\n",
       "    <tr>\n",
       "      <th>G-mean</th>\n",
       "      <td>0.646285</td>\n",
       "      <td>0.615671</td>\n",
       "      <td>0.691334</td>\n",
       "      <td>0.707777</td>\n",
       "    </tr>\n",
       "    <tr>\n",
       "      <th>Training time</th>\n",
       "      <td>0.903003</td>\n",
       "      <td>0.166005</td>\n",
       "      <td>0.070000</td>\n",
       "      <td>0.034004</td>\n",
       "    </tr>\n",
       "  </tbody>\n",
       "</table>\n",
       "</div>"
      ],
      "text/plain": [
       "                    LR #1     LR #2     LR #3     LR #4\n",
       "Global accuracy  0.717092  0.640522  0.724818  0.751031\n",
       "Class 1          0.752423  0.696804  0.745173  0.774194\n",
       "Class 2          0.555119  0.543984  0.641385  0.647059\n",
       "G-mean           0.646285  0.615671  0.691334  0.707777\n",
       "Training time    0.903003  0.166005  0.070000  0.034004"
      ]
     },
     "execution_count": 25,
     "metadata": {},
     "output_type": "execute_result"
    }
   ],
   "source": [
    "rsts = pd.DataFrame()\n",
    "for i in range(4):\n",
    "  MLs = create_ML('balanced')\n",
    "  rus = RandomUnderSampler(random_state=42)\n",
    "  X_train, X_test, y_train, y_test = prepare_data2(sets[i][0],sets[i][1],rus)\n",
    "  rus = RandomUnderSampler(random_state=42)\n",
    "  for clf_name, clf in MLs.items():\n",
    "    name = '{0} #{1}'.format(clf_name,i+1)\n",
    "    print(name)\n",
    "    try:\n",
    "      rsts[name] = train_model(X_train, X_test, y_train, y_test, clf)\n",
    "    except Exception as e: print(e)\n",
    "    \n",
    "rsts.index = index\n",
    "best_rst = []\n",
    "for i in range(4):\n",
    "  algo = rsts.loc['G-mean'][i*5:i*5+5].idxmax()\n",
    "  best_rst.append(algo)\n",
    "best_rst_ur = rsts[best_rst].copy()\n",
    "best_rst_ur"
   ]
  },
  {
   "cell_type": "markdown",
   "metadata": {
    "id": "Rgwm9hLzIhUY"
   },
   "source": [
    "## Near Miss"
   ]
  },
  {
   "cell_type": "code",
   "execution_count": null,
   "metadata": {
    "id": "Mb8nw5aQIKWF"
   },
   "outputs": [],
   "source": [
    "rsts = pd.DataFrame()\n",
    "for i in range(4):\n",
    "  MLs = create_ML('balanced')\n",
    "  nrms =NearMiss(random_state=42)\n",
    "  X_train, X_test, y_train, y_test = prepare_data2(sets[i][0],sets[i][1],nrms)\n",
    "  for clf_name, clf in MLs.items():\n",
    "    name = '{0} #{1}'.format(clf_name,i+1)\n",
    "    print(name)\n",
    "    try:\n",
    "      rsts[name] = train_model(X_train, X_test, y_train, y_test, clf)\n",
    "    except Exception as e: print(e)\n",
    "    \n",
    "rsts.index = index\n",
    "best_rst = []\n",
    "for i in range(4):\n",
    "  algo = rsts.loc['G-mean'][i*5:i*5+5].idxmax()\n",
    "  best_rst.append(algo)\n",
    "best_rst_ur = rsts[best_rst].copy()\n",
    "best_rst_ur"
   ]
  },
  {
   "cell_type": "markdown",
   "metadata": {
    "id": "w297VFGDIluk"
   },
   "source": [
    "## Edited Nearest Neighbours"
   ]
  },
  {
   "cell_type": "code",
   "execution_count": null,
   "metadata": {
    "colab": {
     "base_uri": "https://localhost:8080/",
     "height": 612
    },
    "id": "lpyDl6BKIlG7",
    "outputId": "805aaa9c-f817-45d9-f0ab-867515049720"
   },
   "outputs": [],
   "source": [
    "rsts = pd.DataFrame()\n",
    "for i in range(4):\n",
    "  MLs = create_ML('balanced')\n",
    "  enn = EditedNearestNeighbours(random_state=42)\n",
    "  X_train, X_test, y_train, y_test = prepare_data2(sets[i][0],sets[i][1],enn)\n",
    "  for clf_name, clf in MLs.items():\n",
    "    name = '{0} #{1}'.format(clf_name,i+1)\n",
    "    print(name)\n",
    "    try:\n",
    "      rsts[name] = train_model(X_train, X_test, y_train, y_test, clf)\n",
    "    except Exception as e: print(e)\n",
    "    \n",
    "rsts.index = index\n",
    "best_rst = []\n",
    "for i in range(4):\n",
    "  algo = rsts.loc['G-mean'][i*5:i*5+5].idxmax()\n",
    "  best_rst.append(algo)\n",
    "best_rst_ur = rsts[best_rst].copy()\n",
    "best_rst_ur"
   ]
  },
  {
   "cell_type": "markdown",
   "metadata": {
    "id": "cedBq2E2GXkH"
   },
   "source": [
    "# Run 4 binary models with over-sampling\n"
   ]
  },
  {
   "cell_type": "code",
   "execution_count": 26,
   "metadata": {
    "id": "LlPf_4sDGXkM"
   },
   "outputs": [],
   "source": [
    "from imblearn.over_sampling import RandomOverSampler,SMOTE\n",
    "from imblearn.over_sampling import ADASYN, BorderlineSMOTE"
   ]
  },
  {
   "cell_type": "code",
   "execution_count": 27,
   "metadata": {
    "colab": {
     "base_uri": "https://localhost:8080/",
     "height": 170
    },
    "id": "EleiYR9mJf-U",
    "outputId": "a02d00cb-0396-4172-8d8d-2fcb7539ace9"
   },
   "outputs": [
    {
     "data": {
      "text/plain": [
       "{'RandomOverSampler': RandomOverSampler(random_state=42),\n",
       " 'SMOTE': SMOTE(random_state=42),\n",
       " 'BorderlineSMOTE': BorderlineSMOTE(random_state=42),\n",
       " 'ADASYN': ADASYN(random_state=42)}"
      ]
     },
     "execution_count": 27,
     "metadata": {},
     "output_type": "execute_result"
    }
   ],
   "source": [
    "ada = ADASYN(random_state=42)\n",
    "bsm = BorderlineSMOTE(random_state=42)\n",
    "#ksm = KMeansSMOTE(random_state=42)\n",
    "ros = RandomOverSampler(random_state=42)\n",
    "sm = SMOTE(random_state=42)\n",
    "\n",
    "overs = [ros, sm, bsm, ada]\n",
    "over_names = ['RandomOverSampler','SMOTE',\n",
    "            'BorderlineSMOTE', 'ADASYN']\n",
    "ORs=dict(zip(over_names,overs))\n",
    "ORs"
   ]
  },
  {
   "cell_type": "code",
   "execution_count": 28,
   "metadata": {
    "colab": {
     "base_uri": "https://localhost:8080/",
     "height": 34
    },
    "id": "fPZjd89hGXks",
    "outputId": "a52b7782-e612-44a1-b097-7ee6683b5dbb"
   },
   "outputs": [
    {
     "data": {
      "text/plain": [
       "(Counter({0: 4959, 1: 1104}), Counter({0: 4959, 1: 4959}))"
      ]
     },
     "execution_count": 28,
     "metadata": {},
     "output_type": "execute_result"
    }
   ],
   "source": [
    "def over_resampling(data,method):\n",
    "  urs = ORs[method]\n",
    "  X_urs, y_urs = urs.fit_resample(data[0], data[1])\n",
    "  return X_urs, y_urs\n",
    "_,y_or = over_resampling(sets[3],over_names[0])\n",
    "Counter(sets[3][1]), Counter(y_or)"
   ]
  },
  {
   "cell_type": "code",
   "execution_count": 29,
   "metadata": {
    "colab": {
     "base_uri": "https://localhost:8080/",
     "height": 102
    },
    "id": "VasnWl55L13F",
    "outputId": "a57d3b90-1330-438a-e919-9330510521e0"
   },
   "outputs": [
    {
     "name": "stdout",
     "output_type": "stream",
     "text": [
      "Counter({0: 24859, 1: 6063})\n"
     ]
    },
    {
     "data": {
      "text/plain": [
       "[('RandomOverSampler', 0.13199424743652344),\n",
       " ('SMOTE', 0.5749976634979248),\n",
       " ('ADASYN', 2.748000144958496),\n",
       " ('BorderlineSMOTE', 2.992999315261841)]"
      ]
     },
     "execution_count": 29,
     "metadata": {},
     "output_type": "execute_result"
    }
   ],
   "source": [
    "i = 2\n",
    "print(Counter(sets[i][1]))\n",
    "perform ={}\n",
    "for key in over_names:\n",
    "  start = time.time()\n",
    "  over_resampling(sets[i],key)\n",
    "  end = time.time()\n",
    "  perform[key]=end-start\n",
    "\n",
    "sorted(perform.items(), key=lambda x: x[1])"
   ]
  },
  {
   "cell_type": "markdown",
   "metadata": {
    "id": "hM56x9_kIziY"
   },
   "source": [
    "### Random over resampling"
   ]
  },
  {
   "cell_type": "code",
   "execution_count": 30,
   "metadata": {
    "colab": {
     "base_uri": "https://localhost:8080/",
     "height": 544
    },
    "id": "RRdrsV1xGXky",
    "outputId": "ad0bf5ca-8140-4801-e9d1-af8bfcb0ee24"
   },
   "outputs": [
    {
     "name": "stdout",
     "output_type": "stream",
     "text": [
      "LR #1\n",
      "DT #1\n",
      "RF #1\n",
      "GNB #1\n",
      "SGD #1\n",
      "LR #2\n",
      "DT #2\n",
      "RF #2\n",
      "GNB #2\n",
      "SGD #2\n",
      "LR #3\n",
      "DT #3\n",
      "RF #3\n",
      "GNB #3\n",
      "SGD #3\n",
      "LR #4\n",
      "DT #4\n",
      "RF #4\n",
      "GNB #4\n",
      "SGD #4\n"
     ]
    },
    {
     "data": {
      "text/html": [
       "<div>\n",
       "<style scoped>\n",
       "    .dataframe tbody tr th:only-of-type {\n",
       "        vertical-align: middle;\n",
       "    }\n",
       "\n",
       "    .dataframe tbody tr th {\n",
       "        vertical-align: top;\n",
       "    }\n",
       "\n",
       "    .dataframe thead th {\n",
       "        text-align: right;\n",
       "    }\n",
       "</style>\n",
       "<table border=\"1\" class=\"dataframe\">\n",
       "  <thead>\n",
       "    <tr style=\"text-align: right;\">\n",
       "      <th></th>\n",
       "      <th>LR #1</th>\n",
       "      <th>LR #2</th>\n",
       "      <th>LR #3</th>\n",
       "      <th>RF #4</th>\n",
       "    </tr>\n",
       "  </thead>\n",
       "  <tbody>\n",
       "    <tr>\n",
       "      <th>Global accuracy</th>\n",
       "      <td>0.717007</td>\n",
       "      <td>0.639509</td>\n",
       "      <td>0.728052</td>\n",
       "      <td>0.742786</td>\n",
       "    </tr>\n",
       "    <tr>\n",
       "      <th>Class 1</th>\n",
       "      <td>0.752254</td>\n",
       "      <td>0.694636</td>\n",
       "      <td>0.750201</td>\n",
       "      <td>0.760081</td>\n",
       "    </tr>\n",
       "    <tr>\n",
       "      <th>Class 2</th>\n",
       "      <td>0.555417</td>\n",
       "      <td>0.544955</td>\n",
       "      <td>0.637263</td>\n",
       "      <td>0.665158</td>\n",
       "    </tr>\n",
       "    <tr>\n",
       "      <th>G-mean</th>\n",
       "      <td>0.646386</td>\n",
       "      <td>0.615260</td>\n",
       "      <td>0.691430</td>\n",
       "      <td>0.711037</td>\n",
       "    </tr>\n",
       "    <tr>\n",
       "      <th>Training time</th>\n",
       "      <td>3.831997</td>\n",
       "      <td>0.281016</td>\n",
       "      <td>0.152001</td>\n",
       "      <td>0.568995</td>\n",
       "    </tr>\n",
       "  </tbody>\n",
       "</table>\n",
       "</div>"
      ],
      "text/plain": [
       "                    LR #1     LR #2     LR #3     RF #4\n",
       "Global accuracy  0.717007  0.639509  0.728052  0.742786\n",
       "Class 1          0.752254  0.694636  0.750201  0.760081\n",
       "Class 2          0.555417  0.544955  0.637263  0.665158\n",
       "G-mean           0.646386  0.615260  0.691430  0.711037\n",
       "Training time    3.831997  0.281016  0.152001  0.568995"
      ]
     },
     "execution_count": 30,
     "metadata": {},
     "output_type": "execute_result"
    }
   ],
   "source": [
    "rsts = pd.DataFrame()\n",
    "for i in range(4):\n",
    "  MLs = create_ML('balanced')\n",
    "  ros = RandomOverSampler(random_state=42)\n",
    "  X_train, X_test, y_train, y_test = prepare_data2(sets[i][0],sets[i][1],ros)\n",
    "  for clf_name, clf in MLs.items():\n",
    "    name = '{0} #{1}'.format(clf_name,i+1)\n",
    "    print(name)\n",
    "    try:\n",
    "      rsts[name] = train_model(X_train, X_test, y_train, y_test, clf)\n",
    "    except Exception as e: print(e)\n",
    "    \n",
    "rsts.index = index\n",
    "best_rst = []\n",
    "for i in range(4):\n",
    "  algo = rsts.loc['G-mean'][i*5:i*5+5].idxmax()\n",
    "  best_rst.append(algo)\n",
    "best_rst_ur = rsts[best_rst].copy()\n",
    "best_rst_ur"
   ]
  },
  {
   "cell_type": "markdown",
   "metadata": {
    "id": "yA2m3ULWuhHX"
   },
   "source": [
    "### SMOTE\n"
   ]
  },
  {
   "cell_type": "code",
   "execution_count": 31,
   "metadata": {
    "id": "vYI3XOTVIdxi"
   },
   "outputs": [
    {
     "name": "stdout",
     "output_type": "stream",
     "text": [
      "LR #1\n",
      "DT #1\n",
      "RF #1\n",
      "GNB #1\n",
      "SGD #1\n",
      "LR #2\n",
      "DT #2\n",
      "RF #2\n",
      "GNB #2\n",
      "SGD #2\n",
      "LR #3\n",
      "DT #3\n",
      "RF #3\n",
      "GNB #3\n",
      "SGD #3\n",
      "LR #4\n",
      "DT #4\n",
      "RF #4\n",
      "GNB #4\n",
      "SGD #4\n"
     ]
    },
    {
     "data": {
      "text/html": [
       "<div>\n",
       "<style scoped>\n",
       "    .dataframe tbody tr th:only-of-type {\n",
       "        vertical-align: middle;\n",
       "    }\n",
       "\n",
       "    .dataframe tbody tr th {\n",
       "        vertical-align: top;\n",
       "    }\n",
       "\n",
       "    .dataframe thead th {\n",
       "        text-align: right;\n",
       "    }\n",
       "</style>\n",
       "<table border=\"1\" class=\"dataframe\">\n",
       "  <thead>\n",
       "    <tr style=\"text-align: right;\">\n",
       "      <th></th>\n",
       "      <th>LR #1</th>\n",
       "      <th>LR #2</th>\n",
       "      <th>LR #3</th>\n",
       "      <th>LR #4</th>\n",
       "    </tr>\n",
       "  </thead>\n",
       "  <tbody>\n",
       "    <tr>\n",
       "      <th>Global accuracy</th>\n",
       "      <td>0.709861</td>\n",
       "      <td>0.640343</td>\n",
       "      <td>0.717542</td>\n",
       "      <td>0.765045</td>\n",
       "    </tr>\n",
       "    <tr>\n",
       "      <th>Class 1</th>\n",
       "      <td>0.742030</td>\n",
       "      <td>0.693504</td>\n",
       "      <td>0.734714</td>\n",
       "      <td>0.794355</td>\n",
       "    </tr>\n",
       "    <tr>\n",
       "      <th>Class 2</th>\n",
       "      <td>0.562385</td>\n",
       "      <td>0.549159</td>\n",
       "      <td>0.647156</td>\n",
       "      <td>0.633484</td>\n",
       "    </tr>\n",
       "    <tr>\n",
       "      <th>G-mean</th>\n",
       "      <td>0.645993</td>\n",
       "      <td>0.617126</td>\n",
       "      <td>0.689547</td>\n",
       "      <td>0.709374</td>\n",
       "    </tr>\n",
       "    <tr>\n",
       "      <th>Training time</th>\n",
       "      <td>3.210007</td>\n",
       "      <td>0.438003</td>\n",
       "      <td>0.254012</td>\n",
       "      <td>0.097999</td>\n",
       "    </tr>\n",
       "  </tbody>\n",
       "</table>\n",
       "</div>"
      ],
      "text/plain": [
       "                    LR #1     LR #2     LR #3     LR #4\n",
       "Global accuracy  0.709861  0.640343  0.717542  0.765045\n",
       "Class 1          0.742030  0.693504  0.734714  0.794355\n",
       "Class 2          0.562385  0.549159  0.647156  0.633484\n",
       "G-mean           0.645993  0.617126  0.689547  0.709374\n",
       "Training time    3.210007  0.438003  0.254012  0.097999"
      ]
     },
     "execution_count": 31,
     "metadata": {},
     "output_type": "execute_result"
    }
   ],
   "source": [
    "rsts = pd.DataFrame()\n",
    "for i in range(4):\n",
    "  MLs = create_ML('balanced')\n",
    "  sm = SMOTE(random_state=42)\n",
    "  X_train, X_test, y_train, y_test = prepare_data2(sets[i][0],sets[i][1],sm)\n",
    "  for clf_name, clf in MLs.items():\n",
    "    name = '{0} #{1}'.format(clf_name,i+1)\n",
    "    print(name)\n",
    "    try:\n",
    "      rsts[name] = train_model(X_train, X_test, y_train, y_test, clf)\n",
    "    except Exception as e: print(e)\n",
    "    \n",
    "rsts.index = index\n",
    "best_rst = []\n",
    "for i in range(4):\n",
    "  algo = rsts.loc['G-mean'][i*5:i*5+5].idxmax()\n",
    "  best_rst.append(algo)\n",
    "best_rst_ur = rsts[best_rst].copy()\n",
    "best_rst_ur"
   ]
  },
  {
   "cell_type": "markdown",
   "metadata": {
    "id": "AHTKs48tNpop"
   },
   "source": [
    "### BorderlineSMOTE\n"
   ]
  },
  {
   "cell_type": "code",
   "execution_count": 32,
   "metadata": {
    "colab": {
     "base_uri": "https://localhost:8080/",
     "height": 612
    },
    "id": "oDFz_fTvNpos",
    "outputId": "e9900554-ccc8-4dec-f579-8a8270e9edb7"
   },
   "outputs": [
    {
     "name": "stdout",
     "output_type": "stream",
     "text": [
      "LR #1\n",
      "DT #1\n",
      "RF #1\n",
      "GNB #1\n",
      "SGD #1\n",
      "LR #2\n",
      "DT #2\n",
      "RF #2\n",
      "GNB #2\n",
      "SGD #2\n",
      "LR #3\n",
      "DT #3\n",
      "RF #3\n",
      "GNB #3\n",
      "SGD #3\n",
      "LR #4\n",
      "DT #4\n",
      "RF #4\n",
      "GNB #4\n",
      "SGD #4\n"
     ]
    },
    {
     "data": {
      "text/html": [
       "<div>\n",
       "<style scoped>\n",
       "    .dataframe tbody tr th:only-of-type {\n",
       "        vertical-align: middle;\n",
       "    }\n",
       "\n",
       "    .dataframe tbody tr th {\n",
       "        vertical-align: top;\n",
       "    }\n",
       "\n",
       "    .dataframe thead th {\n",
       "        text-align: right;\n",
       "    }\n",
       "</style>\n",
       "<table border=\"1\" class=\"dataframe\">\n",
       "  <thead>\n",
       "    <tr style=\"text-align: right;\">\n",
       "      <th></th>\n",
       "      <th>LR #1</th>\n",
       "      <th>RF #2</th>\n",
       "      <th>LR #3</th>\n",
       "      <th>LR #4</th>\n",
       "    </tr>\n",
       "  </thead>\n",
       "  <tbody>\n",
       "    <tr>\n",
       "      <th>Global accuracy</th>\n",
       "      <td>0.678039</td>\n",
       "      <td>0.627836</td>\n",
       "      <td>0.709620</td>\n",
       "      <td>0.751855</td>\n",
       "    </tr>\n",
       "    <tr>\n",
       "      <th>Class 1</th>\n",
       "      <td>0.693757</td>\n",
       "      <td>0.652117</td>\n",
       "      <td>0.721641</td>\n",
       "      <td>0.773185</td>\n",
       "    </tr>\n",
       "    <tr>\n",
       "      <th>Class 2</th>\n",
       "      <td>0.605979</td>\n",
       "      <td>0.586190</td>\n",
       "      <td>0.660346</td>\n",
       "      <td>0.656109</td>\n",
       "    </tr>\n",
       "    <tr>\n",
       "      <th>G-mean</th>\n",
       "      <td>0.648384</td>\n",
       "      <td>0.618275</td>\n",
       "      <td>0.690314</td>\n",
       "      <td>0.712245</td>\n",
       "    </tr>\n",
       "    <tr>\n",
       "      <th>Training time</th>\n",
       "      <td>3.278012</td>\n",
       "      <td>6.597002</td>\n",
       "      <td>0.313005</td>\n",
       "      <td>0.125004</td>\n",
       "    </tr>\n",
       "  </tbody>\n",
       "</table>\n",
       "</div>"
      ],
      "text/plain": [
       "                    LR #1     RF #2     LR #3     LR #4\n",
       "Global accuracy  0.678039  0.627836  0.709620  0.751855\n",
       "Class 1          0.693757  0.652117  0.721641  0.773185\n",
       "Class 2          0.605979  0.586190  0.660346  0.656109\n",
       "G-mean           0.648384  0.618275  0.690314  0.712245\n",
       "Training time    3.278012  6.597002  0.313005  0.125004"
      ]
     },
     "execution_count": 32,
     "metadata": {},
     "output_type": "execute_result"
    }
   ],
   "source": [
    "rsts = pd.DataFrame()\n",
    "for i in range(4):\n",
    "  MLs = create_ML('balanced')\n",
    "  bsm = BorderlineSMOTE(random_state=42)\n",
    "  X_train, X_test, y_train, y_test = prepare_data2(sets[i][0],sets[i][1],bsm)\n",
    "  for clf_name, clf in MLs.items():\n",
    "    name = '{0} #{1}'.format(clf_name,i+1)\n",
    "    print(name)\n",
    "    try:\n",
    "      rsts[name] = train_model(X_train, X_test, y_train, y_test, clf)\n",
    "    except Exception as e: print(e)\n",
    "    \n",
    "rsts.index = index\n",
    "best_rst = []\n",
    "for i in range(4):\n",
    "  algo = rsts.loc['G-mean'][i*5:i*5+5].idxmax()\n",
    "  best_rst.append(algo)\n",
    "best_rst_ur = rsts[best_rst].copy()\n",
    "best_rst_ur"
   ]
  },
  {
   "cell_type": "markdown",
   "metadata": {
    "id": "KUjvQL9qNqhP"
   },
   "source": [
    "### Adasyn\n"
   ]
  },
  {
   "cell_type": "code",
   "execution_count": 33,
   "metadata": {
    "colab": {
     "base_uri": "https://localhost:8080/",
     "height": 612
    },
    "id": "5SumBeEhNqhQ",
    "outputId": "2c1b2d52-87f9-45d8-bc00-68c83ee2c916"
   },
   "outputs": [
    {
     "name": "stdout",
     "output_type": "stream",
     "text": [
      "LR #1\n",
      "DT #1\n",
      "RF #1\n",
      "GNB #1\n",
      "SGD #1\n",
      "LR #2\n",
      "DT #2\n",
      "RF #2\n",
      "GNB #2\n",
      "SGD #2\n",
      "LR #3\n",
      "DT #3\n",
      "RF #3\n",
      "GNB #3\n",
      "SGD #3\n",
      "LR #4\n",
      "DT #4\n",
      "RF #4\n",
      "GNB #4\n",
      "SGD #4\n"
     ]
    },
    {
     "data": {
      "text/html": [
       "<div>\n",
       "<style scoped>\n",
       "    .dataframe tbody tr th:only-of-type {\n",
       "        vertical-align: middle;\n",
       "    }\n",
       "\n",
       "    .dataframe tbody tr th {\n",
       "        vertical-align: top;\n",
       "    }\n",
       "\n",
       "    .dataframe thead th {\n",
       "        text-align: right;\n",
       "    }\n",
       "</style>\n",
       "<table border=\"1\" class=\"dataframe\">\n",
       "  <thead>\n",
       "    <tr style=\"text-align: right;\">\n",
       "      <th></th>\n",
       "      <th>LR #1</th>\n",
       "      <th>LR #2</th>\n",
       "      <th>LR #3</th>\n",
       "      <th>LR #4</th>\n",
       "    </tr>\n",
       "  </thead>\n",
       "  <tbody>\n",
       "    <tr>\n",
       "      <th>Global accuracy</th>\n",
       "      <td>0.674903</td>\n",
       "      <td>0.630040</td>\n",
       "      <td>0.704931</td>\n",
       "      <td>0.745260</td>\n",
       "    </tr>\n",
       "    <tr>\n",
       "      <th>Class 1</th>\n",
       "      <td>0.688093</td>\n",
       "      <td>0.657962</td>\n",
       "      <td>0.712993</td>\n",
       "      <td>0.761089</td>\n",
       "    </tr>\n",
       "    <tr>\n",
       "      <th>Class 2</th>\n",
       "      <td>0.614436</td>\n",
       "      <td>0.582147</td>\n",
       "      <td>0.671888</td>\n",
       "      <td>0.674208</td>\n",
       "    </tr>\n",
       "    <tr>\n",
       "      <th>G-mean</th>\n",
       "      <td>0.650222</td>\n",
       "      <td>0.618895</td>\n",
       "      <td>0.692135</td>\n",
       "      <td>0.716332</td>\n",
       "    </tr>\n",
       "    <tr>\n",
       "      <th>Training time</th>\n",
       "      <td>2.643999</td>\n",
       "      <td>0.431007</td>\n",
       "      <td>0.219992</td>\n",
       "      <td>0.108007</td>\n",
       "    </tr>\n",
       "  </tbody>\n",
       "</table>\n",
       "</div>"
      ],
      "text/plain": [
       "                    LR #1     LR #2     LR #3     LR #4\n",
       "Global accuracy  0.674903  0.630040  0.704931  0.745260\n",
       "Class 1          0.688093  0.657962  0.712993  0.761089\n",
       "Class 2          0.614436  0.582147  0.671888  0.674208\n",
       "G-mean           0.650222  0.618895  0.692135  0.716332\n",
       "Training time    2.643999  0.431007  0.219992  0.108007"
      ]
     },
     "execution_count": 33,
     "metadata": {},
     "output_type": "execute_result"
    }
   ],
   "source": [
    "rsts = pd.DataFrame()\n",
    "for i in range(4):\n",
    "  MLs = create_ML('balanced')\n",
    "  ada = ADASYN(random_state=42)\n",
    "  X_train, X_test, y_train, y_test = prepare_data2(sets[i][0],sets[i][1],ada)\n",
    "  for clf_name, clf in MLs.items():\n",
    "    name = '{0} #{1}'.format(clf_name,i+1)\n",
    "    print(name)\n",
    "    try:\n",
    "      rsts[name] = train_model(X_train, X_test, y_train, y_test, clf)\n",
    "    except Exception as e: print(e)\n",
    "    \n",
    "rsts.index = index\n",
    "best_rst = []\n",
    "for i in range(4):\n",
    "  algo = rsts.loc['G-mean'][i*5:i*5+5].idxmax()\n",
    "  best_rst.append(algo)\n",
    "best_rst_ur = rsts[best_rst].copy()\n",
    "best_rst_ur"
   ]
  },
  {
   "cell_type": "code",
   "execution_count": null,
   "metadata": {
    "id": "d-H7mGzZZke9"
   },
   "outputs": [],
   "source": []
  },
  {
   "cell_type": "markdown",
   "metadata": {
    "id": "Gtu9Frk5Wg2W"
   },
   "source": [
    "# Variables\n"
   ]
  },
  {
   "cell_type": "code",
   "execution_count": 34,
   "metadata": {
    "id": "PKl1e9RwVCCk"
   },
   "outputs": [
    {
     "name": "stdout",
     "output_type": "stream",
     "text": [
      "Variable                    Type                       Data/Info\n",
      "----------------------------------------------------------------\n",
      "ADASYN                      ABCMeta                    <class 'imblearn.over_sampling._adasyn.ADASYN'>\n",
      "AllKNN                      ABCMeta                    <class 'imblearn.under_sa<...>arest_neighbours.AllKNN'>\n",
      "BorderlineSMOTE             ABCMeta                    <class 'imblearn.over_sam<...>._smote.BorderlineSMOTE'>\n",
      "ComplementNB                ABCMeta                    <class 'sklearn.naive_bayes.ComplementNB'>\n",
      "CondensedNearestNeighbour   ABCMeta                    <class 'imblearn.under_sa<...>ndensedNearestNeighbour'>\n",
      "Counter                     type                       <class 'collections.Counter'>\n",
      "DecisionTreeClassifier      ABCMeta                    <class 'sklearn.tree._cla<...>.DecisionTreeClassifier'>\n",
      "EditedNearestNeighbours     ABCMeta                    <class 'imblearn.under_sa<...>EditedNearestNeighbours'>\n",
      "GaussianNB                  ABCMeta                    <class 'sklearn.naive_bayes.GaussianNB'>\n",
      "InstanceHardnessThreshold   ABCMeta                    <class 'imblearn.under_sa<...>stanceHardnessThreshold'>\n",
      "LogisticRegression          type                       <class 'sklearn.linear_mo<...>stic.LogisticRegression'>\n",
      "MLs                         dict                       n=5\n",
      "NearMiss                    ABCMeta                    <class 'imblearn.under_sa<...>tion._nearmiss.NearMiss'>\n",
      "NeighbourhoodCleaningRule   ABCMeta                    <class 'imblearn.under_sa<...>ighbourhoodCleaningRule'>\n",
      "ORs                         dict                       n=4\n",
      "OneSidedSelection           ABCMeta                    <class 'imblearn.under_sa<...>ction.OneSidedSelection'>\n",
      "RandomForestClassifier      ABCMeta                    <class 'sklearn.ensemble.<...>.RandomForestClassifier'>\n",
      "RandomOverSampler           ABCMeta                    <class 'imblearn.over_sam<...>mpler.RandomOverSampler'>\n",
      "RandomUnderSampler          ABCMeta                    <class 'imblearn.under_sa<...>pler.RandomUnderSampler'>\n",
      "SGDClassifier               ABCMeta                    <class 'sklearn.linear_mo<...>_gradient.SGDClassifier'>\n",
      "SMOTE                       ABCMeta                    <class 'imblearn.over_sampling._smote.SMOTE'>\n",
      "StandardScaler              type                       <class 'sklearn.preproces<...>ng._data.StandardScaler'>\n",
      "TomekLinks                  ABCMeta                    <class 'imblearn.under_sa<...>_tomek_links.TomekLinks'>\n",
      "X                           DataFrame                          Unit_Nbr  Prsn_Ty<...>468844 rows x 40 columns]\n",
      "X_i                         DataFrame                          Unit_Nbr  Prsn_Ty<...>n[6063 rows x 40 columns]\n",
      "X_test                      ndarray                    1213x40: 48520 elems, type `float64`, 388160 bytes (379.0625 kb)\n",
      "X_train                     ndarray                    7957x40: 318280 elems, type `float64`, 2546240 bytes (2.42828369140625 Mb)\n",
      "ada                         ADASYN                     ADASYN(random_state=42)\n",
      "algo                        str                        LR #4\n",
      "auc                         function                   <function auc at 0x000002084B436708>\n",
      "best_rst                    list                       n=4\n",
      "best_rst_cw                 DataFrame                                      LR #1<...>64002  0.299012  0.077006\n",
      "best_rst_ur                 DataFrame                                      LR #1<...>31007  0.219992  0.108007\n",
      "bsm                         BorderlineSMOTE            BorderlineSMOTE(random_state=42)\n",
      "clf                         SGDClassifier              SGDClassifier(class_weigh<...>t='balanced', max_iter=5)\n",
      "clf_name                    str                        SGD\n",
      "confusion_matrix            function                   <function confusion_matrix at 0x000002084B4FBF78>\n",
      "create_ML                   function                   <function create_ML at 0x000002084C28A288>\n",
      "df                          DataFrame                          Unit_Nbr  Prsn_Ty<...>468844 rows x 41 columns]\n",
      "end                         float                      1603741923.524132\n",
      "enn                         EditedNearestNeighbours    EditedNearestNeighbours()\n",
      "geometric_mean_score        function                   <function geometric_mean_<...>re at 0x000002084BEE3798>\n",
      "get_accs                    function                   <function get_accs at 0x000002084B9595E8>\n",
      "i                           int                        3\n",
      "index                       list                       n=5\n",
      "keras                       module                     <module 'tensorflow_core.<...>_v2\\\\keras\\\\__init__.py'>\n",
      "key                         str                        ADASYN\n",
      "name                        str                        SGD #4\n",
      "np                          module                     <module 'numpy' from 'C:\\<...>ges\\\\numpy\\\\__init__.py'>\n",
      "over_names                  list                       n=4\n",
      "over_resampling             function                   <function over_resampling at 0x0000020801CA1318>\n",
      "overs                       list                       n=4\n",
      "pd                          module                     <module 'pandas' from 'C:<...>es\\\\pandas\\\\__init__.py'>\n",
      "perform                     dict                       n=4\n",
      "plt                         module                     <module 'matplotlib.pyplo<...>\\\\matplotlib\\\\pyplot.py'>\n",
      "prepare_data                function                   <function prepare_data at 0x000002084DE58318>\n",
      "prepare_data2               function                   <function prepare_data2 at 0x0000020801CA1F78>\n",
      "ros                         RandomOverSampler          RandomOverSampler(random_state=42)\n",
      "rsts                        DataFrame                                      LR #1<...>e    0.010002  0.011995  \n",
      "rus                         RandomUnderSampler         RandomUnderSampler(random_state=42)\n",
      "sets                        dict                       n=4\n",
      "sm                          SMOTE                      SMOTE(random_state=42)\n",
      "sns                         module                     <module 'seaborn' from 'C<...>s\\\\seaborn\\\\__init__.py'>\n",
      "start                       float                      1603741920.7761319\n",
      "sub_df                      DataFrame                          Unit_Nbr  Prsn_Ty<...>n[6063 rows x 41 columns]\n",
      "tf                          module                     <module 'tensorflow' from<...>tensorflow\\\\__init__.py'>\n",
      "time                        module                     <module 'time' (built-in)>\n",
      "train_model                 function                   <function train_model at 0x000002084DFDD3A8>\n",
      "train_test_split            function                   <function train_test_split at 0x000002084BA845E8>\n",
      "warnings                    module                     <module 'warnings' from '<...>s\\\\tf\\\\lib\\\\warnings.py'>\n",
      "y                           Series                     0         0\\n1         2\\<...>gth: 468844, dtype: int64\n",
      "y_i                         ndarray                    6063: 6063 elems, type `int32`, 24252 bytes\n",
      "y_or                        ndarray                    9918: 9918 elems, type `int32`, 39672 bytes\n",
      "y_test                      ndarray                    1213: 1213 elems, type `int32`, 4852 bytes\n",
      "y_train                     ndarray                    7957: 7957 elems, type `int32`, 31828 bytes\n"
     ]
    }
   ],
   "source": [
    "%whos"
   ]
  }
 ],
 "metadata": {
  "colab": {
   "collapsed_sections": [],
   "include_colab_link": true,
   "name": "VCA_3_0_binary_models_MLs.ipynb",
   "provenance": [],
   "toc_visible": true
  },
  "kernelspec": {
   "display_name": "Python 3",
   "language": "python",
   "name": "python3"
  },
  "language_info": {
   "codemirror_mode": {
    "name": "ipython",
    "version": 3
   },
   "file_extension": ".py",
   "mimetype": "text/x-python",
   "name": "python",
   "nbconvert_exporter": "python",
   "pygments_lexer": "ipython3",
   "version": "3.8.5"
  },
  "toc": {
   "base_numbering": 1,
   "nav_menu": {},
   "number_sections": true,
   "sideBar": true,
   "skip_h1_title": false,
   "title_cell": "Table of Contents",
   "title_sidebar": "Contents",
   "toc_cell": false,
   "toc_position": {},
   "toc_section_display": true,
   "toc_window_display": true
  }
 },
 "nbformat": 4,
 "nbformat_minor": 4
}
