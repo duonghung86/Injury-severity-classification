{
 "cells": [
  {
   "cell_type": "code",
   "execution_count": 7,
   "metadata": {},
   "outputs": [],
   "source": [
    "from imblearn.under_sampling import ClusterCentroids, CondensedNearestNeighbour, EditedNearestNeighbours\n",
    "from imblearn.under_sampling import RepeatedEditedNearestNeighbours, AllKNN, InstanceHardnessThreshold\n",
    "from imblearn.under_sampling import NearMiss, NeighbourhoodCleaningRule, OneSidedSelection\n",
    "from imblearn.under_sampling import RandomUnderSampler,TomekLinks\n",
    "from collections import Counter\n",
    "from sklearn.datasets import make_classification\n",
    "import time"
   ]
  },
  {
   "cell_type": "code",
   "execution_count": 4,
   "metadata": {},
   "outputs": [
    {
     "name": "stdout",
     "output_type": "stream",
     "text": [
      "Original dataset shape Counter({1: 9000, 0: 1000})\n",
      "Resampled dataset shape Counter({0: 1000, 1: 1000})\n"
     ]
    }
   ],
   "source": [
    "X, y = make_classification(n_classes=2, class_sep=2,\n",
    " weights=[0.1, 0.9], n_informative=3, n_redundant=1, flip_y=0,\n",
    "n_features=20, n_clusters_per_class=1, n_samples=10000, random_state=10)\n",
    "print('Original dataset shape %s' % Counter(y))\n",
    "\n",
    "res = RandomUnderSampler(random_state=42)\n",
    "X_res, y_res = res.fit_resample(X, y)\n",
    "print('Resampled dataset shape %s' % Counter(y_res))"
   ]
  },
  {
   "cell_type": "code",
   "execution_count": 5,
   "metadata": {},
   "outputs": [
    {
     "data": {
      "text/plain": [
       "[ClusterCentroids(),\n",
       " CondensedNearestNeighbour(),\n",
       " EditedNearestNeighbours(),\n",
       " RepeatedEditedNearestNeighbours(),\n",
       " AllKNN(),\n",
       " InstanceHardnessThreshold(),\n",
       " NearMiss(),\n",
       " NeighbourhoodCleaningRule(),\n",
       " OneSidedSelection(),\n",
       " RandomUnderSampler(),\n",
       " TomekLinks()]"
      ]
     },
     "execution_count": 5,
     "metadata": {},
     "output_type": "execute_result"
    }
   ],
   "source": [
    "uses = [ClusterCentroids(), CondensedNearestNeighbour(), EditedNearestNeighbours(),\n",
    "        RepeatedEditedNearestNeighbours(), AllKNN(), InstanceHardnessThreshold(),\n",
    "        NearMiss(), NeighbourhoodCleaningRule(), OneSidedSelection(),\n",
    "        RandomUnderSampler(),TomekLinks()]\n",
    "uses"
   ]
  },
  {
   "cell_type": "code",
   "execution_count": 8,
   "metadata": {},
   "outputs": [
    {
     "name": "stdout",
     "output_type": "stream",
     "text": [
      "Resampled dataset shape Counter({0: 1000, 1: 1000})\n",
      "Resampled dataset shape Counter({0: 1000, 1: 525})\n",
      "Resampled dataset shape Counter({1: 8801, 0: 1000})\n",
      "Resampled dataset shape Counter({1: 8761, 0: 1000})\n",
      "Resampled dataset shape Counter({1: 8784, 0: 1000})\n",
      "Resampled dataset shape Counter({1: 6871, 0: 1000})\n",
      "Resampled dataset shape Counter({0: 1000, 1: 1000})\n",
      "Resampled dataset shape Counter({1: 8753, 0: 1000})\n",
      "Resampled dataset shape Counter({1: 7254, 0: 1000})\n",
      "Resampled dataset shape Counter({0: 1000, 1: 1000})\n",
      "Resampled dataset shape Counter({1: 8976, 0: 1000})\n"
     ]
    },
    {
     "data": {
      "text/plain": [
       "<zip at 0x2b0356bce5c8>"
      ]
     },
     "execution_count": 8,
     "metadata": {},
     "output_type": "execute_result"
    }
   ],
   "source": [
    "res_time = []\n",
    "for us in uses:\n",
    "    start = time.time()\n",
    "    X_res, y_res = us.fit_resample(X, y)\n",
    "    end = time.time()\n",
    "    res_time.append(end-start)\n",
    "    print('Resampled dataset shape %s' % Counter(y_res))\n",
    "zip(uses,res_time)"
   ]
  },
  {
   "cell_type": "code",
   "execution_count": 10,
   "metadata": {},
   "outputs": [
    {
     "name": "stdout",
     "output_type": "stream",
     "text": [
      "ClusterCentroids() :  20.445063829421997\n",
      "CondensedNearestNeighbour() :  301.2732388973236\n",
      "EditedNearestNeighbours() :  4.334063291549683\n",
      "RepeatedEditedNearestNeighbours() :  25.137621879577637\n",
      "AllKNN() :  12.519570589065552\n",
      "InstanceHardnessThreshold() :  9.342194318771362\n",
      "NearMiss() :  0.39568614959716797\n",
      "NeighbourhoodCleaningRule() :  4.8457934856414795\n",
      "OneSidedSelection() :  3.6598060131073\n",
      "RandomUnderSampler() :  0.0030295848846435547\n",
      "TomekLinks() :  4.187947750091553\n"
     ]
    }
   ],
   "source": [
    "for us, time in zip(uses,res_time):\n",
    "    print(us,\": \", time)"
   ]
  }
 ],
 "metadata": {
  "kernelspec": {
   "display_name": "Python 3",
   "language": "python",
   "name": "python3"
  },
  "language_info": {
   "codemirror_mode": {
    "name": "ipython",
    "version": 3
   },
   "file_extension": ".py",
   "mimetype": "text/x-python",
   "name": "python",
   "nbconvert_exporter": "python",
   "pygments_lexer": "ipython3",
   "version": "3.8.5"
  }
 },
 "nbformat": 4,
 "nbformat_minor": 4
}
