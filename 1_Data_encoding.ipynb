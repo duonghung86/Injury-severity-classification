{
 "cells": [
  {
   "cell_type": "markdown",
   "metadata": {
    "id": "view-in-github"
   },
   "source": [
    "<a href=\"https://colab.research.google.com/github/duonghung86/Injury-severity-classification/blob/main/VCA_2_1_MLP_earlystopping.ipynb\" target=\"_parent\"><img src=\"https://colab.research.google.com/assets/colab-badge.svg\" alt=\"Open In Colab\"/></a>"
   ]
  },
  {
   "cell_type": "code",
   "execution_count": 3,
   "metadata": {
    "colab": {
     "base_uri": "https://localhost:8080/"
    },
    "id": "Bo-3JT-1cl14",
    "outputId": "4ed85e6f-052a-4490-a39a-f3be02e41e55"
   },
   "outputs": [
    {
     "name": "stdout",
     "output_type": "stream",
     "text": [
      "Your runtime has 8.4 gigabytes of available RAM\n",
      "\n",
      "Current system-wide CPU utilization %:  9.4\n"
     ]
    }
   ],
   "source": [
    "from psutil import virtual_memory,cpu_percent\n",
    "ram_gb = virtual_memory().total / 1e9\n",
    "print('Your runtime has {:.1f} gigabytes of available RAM\\n'.format(ram_gb))\n",
    "print('Current system-wide CPU utilization %: ',cpu_percent())\n",
    "#Remove all warning\n",
    "import warnings\n",
    "warnings.filterwarnings(\"ignore\")"
   ]
  },
  {
   "cell_type": "code",
   "execution_count": 6,
   "metadata": {
    "colab": {
     "base_uri": "https://localhost:8080/"
    },
    "id": "Ond2r97pZvoF",
    "outputId": "1a660050-049e-43b8-a159-919c2a95931e"
   },
   "outputs": [
    {
     "name": "stdout",
     "output_type": "stream",
     "text": [
      "2.3.0\n"
     ]
    }
   ],
   "source": [
    "# Basic packages\n",
    "import matplotlib.pyplot as plt\n",
    "import numpy as np\n",
    "import pandas as pd\n",
    "import time\n",
    "import os\n",
    "from collections import Counter\n",
    "\n",
    "# Loading datasets\n",
    "from io import StringIO, BytesIO\n",
    "from zipfile import ZipFile\n",
    "import urllib.request\n",
    "\n",
    "# Preprocessing\n",
    "from sklearn.preprocessing import StandardScaler # Standardization\n",
    "from sklearn.model_selection import train_test_split\n",
    "from sklearn.metrics import confusion_matrix\n",
    "\n",
    "# Machine learning algos\n",
    "from sklearn.linear_model import LogisticRegression,LogisticRegressionCV\n",
    "from sklearn.tree import DecisionTreeClassifier\n",
    "from sklearn.ensemble import RandomForestClassifier\n",
    "# Imblearn\n",
    "from imblearn.metrics import geometric_mean_score\n",
    "\n",
    "# Grid search\n",
    "from tensorflow.keras.optimizers import Adam\n",
    "# Tensorflow\n",
    "import tensorflow as tf\n",
    "print(tf.__version__)\n",
    "from tensorflow import feature_column  # for data wrangling\n",
    "from tensorflow.keras.layers import Dense,Dropout \n",
    "from tensorflow.keras.models import Sequential\n",
    "from tensorflow.keras.callbacks import EarlyStopping\n",
    "from tensorflow.keras.metrics import SparseCategoricalAccuracy\n",
    "\n"
   ]
  },
  {
   "cell_type": "code",
   "execution_count": 8,
   "metadata": {},
   "outputs": [],
   "source": [
    "def url2pd(link):\n",
    "    with ZipFile(link) as my_zip_file:\n",
    "        for contained_file in my_zip_file.namelist():\n",
    "            fzip=my_zip_file.open(contained_file)\n",
    "            data=fzip.read()\n",
    "    s=str(data,'utf-8')\n",
    "    data = StringIO(s) \n",
    "    print('Done loading a dataset!')\n",
    "    return pd.read_csv(data)"
   ]
  },
  {
   "cell_type": "code",
   "execution_count": 9,
   "metadata": {
    "colab": {
     "base_uri": "https://localhost:8080/"
    },
    "id": "OMFYXIMkFSak",
    "outputId": "678ad30c-3e4a-4fa0-ab10-16bb6e66bf06"
   },
   "outputs": [
    {
     "data": {
      "text/plain": [
       "['Prepared Texas 2019.zip', 'Surveys on papers.xlsx', 'Term.xlsx']"
      ]
     },
     "execution_count": 9,
     "metadata": {},
     "output_type": "execute_result"
    }
   ],
   "source": [
    "filenames = os.listdir('./Data')\n",
    "filenames"
   ]
  },
  {
   "cell_type": "code",
   "execution_count": 10,
   "metadata": {
    "colab": {
     "base_uri": "https://localhost:8080/",
     "height": 315
    },
    "id": "UPLNCpWjZvoG",
    "outputId": "aca7a876-f8af-414f-c729-4c10e9edb699"
   },
   "outputs": [
    {
     "name": "stdout",
     "output_type": "stream",
     "text": [
      "Done loading a dataset!\n",
      "<class 'pandas.core.frame.DataFrame'>\n",
      "RangeIndex: 949856 entries, 0 to 949855\n",
      "Data columns (total 19 columns):\n",
      " #   Column             Non-Null Count   Dtype \n",
      "---  ------             --------------   ----- \n",
      " 0   Prsn_Injry_Sev     949856 non-null  int64 \n",
      " 1   Prsn_Age           949856 non-null  int64 \n",
      " 2   Prsn_Gndr          949856 non-null  object\n",
      " 3   Wthr_Cond          949856 non-null  object\n",
      " 4   Light_Cond         949856 non-null  object\n",
      " 5   Surf_Cond          949856 non-null  object\n",
      " 6   Veh_Body_Styl      949856 non-null  object\n",
      " 7   Prsn_Rest          949856 non-null  object\n",
      " 8   Prsn_Drg_Rslt      949856 non-null  object\n",
      " 9   Harm_Evnt          949856 non-null  object\n",
      " 10  Rural              949856 non-null  int64 \n",
      " 11  Crash_Speed_Limit  949856 non-null  int64 \n",
      " 12  Road_Algn          949856 non-null  object\n",
      " 13  Veh_Mod_Year       949856 non-null  int64 \n",
      " 14  Weekend            949856 non-null  int64 \n",
      " 15  Crash_season       949856 non-null  int64 \n",
      " 16  Part_of_day        949856 non-null  int64 \n",
      " 17  Collsn_type        949856 non-null  object\n",
      " 18  Collsn_name        949856 non-null  object\n",
      "dtypes: int64(8), object(11)\n",
      "memory usage: 137.7+ MB\n"
     ]
    },
    {
     "data": {
      "text/html": [
       "<div>\n",
       "<style scoped>\n",
       "    .dataframe tbody tr th:only-of-type {\n",
       "        vertical-align: middle;\n",
       "    }\n",
       "\n",
       "    .dataframe tbody tr th {\n",
       "        vertical-align: top;\n",
       "    }\n",
       "\n",
       "    .dataframe thead th {\n",
       "        text-align: right;\n",
       "    }\n",
       "</style>\n",
       "<table border=\"1\" class=\"dataframe\">\n",
       "  <thead>\n",
       "    <tr style=\"text-align: right;\">\n",
       "      <th></th>\n",
       "      <th>Prsn_Injry_Sev</th>\n",
       "      <th>Prsn_Age</th>\n",
       "      <th>Prsn_Gndr</th>\n",
       "      <th>Wthr_Cond</th>\n",
       "      <th>Light_Cond</th>\n",
       "      <th>Surf_Cond</th>\n",
       "      <th>Veh_Body_Styl</th>\n",
       "      <th>Prsn_Rest</th>\n",
       "      <th>Prsn_Drg_Rslt</th>\n",
       "      <th>Harm_Evnt</th>\n",
       "      <th>Rural</th>\n",
       "      <th>Crash_Speed_Limit</th>\n",
       "      <th>Road_Algn</th>\n",
       "      <th>Veh_Mod_Year</th>\n",
       "      <th>Weekend</th>\n",
       "      <th>Crash_season</th>\n",
       "      <th>Part_of_day</th>\n",
       "      <th>Collsn_type</th>\n",
       "      <th>Collsn_name</th>\n",
       "    </tr>\n",
       "  </thead>\n",
       "  <tbody>\n",
       "    <tr>\n",
       "      <th>0</th>\n",
       "      <td>0</td>\n",
       "      <td>26</td>\n",
       "      <td>MALE</td>\n",
       "      <td>CLEAR</td>\n",
       "      <td>DAYLIGHT</td>\n",
       "      <td>DRY</td>\n",
       "      <td>PASSENGER CAR, 2-DOOR</td>\n",
       "      <td>SHOULDER &amp; LAP BELT</td>\n",
       "      <td>Not Applicable</td>\n",
       "      <td>MOTOR VEHICLE IN TRANSPORT</td>\n",
       "      <td>0</td>\n",
       "      <td>-1</td>\n",
       "      <td>STRAIGHT, LEVEL</td>\n",
       "      <td>33</td>\n",
       "      <td>1</td>\n",
       "      <td>3</td>\n",
       "      <td>3</td>\n",
       "      <td>SAME DIRECTION</td>\n",
       "      <td>ONE STRAIGHT-ONE LEFT TURN</td>\n",
       "    </tr>\n",
       "    <tr>\n",
       "      <th>1</th>\n",
       "      <td>0</td>\n",
       "      <td>52</td>\n",
       "      <td>MALE</td>\n",
       "      <td>CLEAR</td>\n",
       "      <td>DAYLIGHT</td>\n",
       "      <td>DRY</td>\n",
       "      <td>PASSENGER CAR, 2-DOOR</td>\n",
       "      <td>SHOULDER &amp; LAP BELT</td>\n",
       "      <td>Not Applicable</td>\n",
       "      <td>MOTOR VEHICLE IN TRANSPORT</td>\n",
       "      <td>0</td>\n",
       "      <td>-1</td>\n",
       "      <td>STRAIGHT, LEVEL</td>\n",
       "      <td>19</td>\n",
       "      <td>1</td>\n",
       "      <td>3</td>\n",
       "      <td>3</td>\n",
       "      <td>SAME DIRECTION</td>\n",
       "      <td>ONE STRAIGHT-ONE LEFT TURN</td>\n",
       "    </tr>\n",
       "    <tr>\n",
       "      <th>2</th>\n",
       "      <td>0</td>\n",
       "      <td>27</td>\n",
       "      <td>FEMALE</td>\n",
       "      <td>CLEAR</td>\n",
       "      <td>DAYLIGHT</td>\n",
       "      <td>DRY</td>\n",
       "      <td>PICKUP</td>\n",
       "      <td>SHOULDER &amp; LAP BELT</td>\n",
       "      <td>Not Applicable</td>\n",
       "      <td>MOTOR VEHICLE IN TRANSPORT</td>\n",
       "      <td>1</td>\n",
       "      <td>-1</td>\n",
       "      <td>CURVE, LEVEL</td>\n",
       "      <td>16</td>\n",
       "      <td>1</td>\n",
       "      <td>3</td>\n",
       "      <td>4</td>\n",
       "      <td>SAME DIRECTION</td>\n",
       "      <td>BOTH LEFT TURN</td>\n",
       "    </tr>\n",
       "  </tbody>\n",
       "</table>\n",
       "</div>"
      ],
      "text/plain": [
       "   Prsn_Injry_Sev  Prsn_Age Prsn_Gndr Wthr_Cond Light_Cond Surf_Cond  \\\n",
       "0               0        26      MALE     CLEAR   DAYLIGHT       DRY   \n",
       "1               0        52      MALE     CLEAR   DAYLIGHT       DRY   \n",
       "2               0        27    FEMALE     CLEAR   DAYLIGHT       DRY   \n",
       "\n",
       "           Veh_Body_Styl            Prsn_Rest   Prsn_Drg_Rslt  \\\n",
       "0  PASSENGER CAR, 2-DOOR  SHOULDER & LAP BELT  Not Applicable   \n",
       "1  PASSENGER CAR, 2-DOOR  SHOULDER & LAP BELT  Not Applicable   \n",
       "2                 PICKUP  SHOULDER & LAP BELT  Not Applicable   \n",
       "\n",
       "                    Harm_Evnt  Rural  Crash_Speed_Limit        Road_Algn  \\\n",
       "0  MOTOR VEHICLE IN TRANSPORT      0                 -1  STRAIGHT, LEVEL   \n",
       "1  MOTOR VEHICLE IN TRANSPORT      0                 -1  STRAIGHT, LEVEL   \n",
       "2  MOTOR VEHICLE IN TRANSPORT      1                 -1     CURVE, LEVEL   \n",
       "\n",
       "   Veh_Mod_Year  Weekend  Crash_season  Part_of_day     Collsn_type  \\\n",
       "0            33        1             3            3  SAME DIRECTION   \n",
       "1            19        1             3            3  SAME DIRECTION   \n",
       "2            16        1             3            4  SAME DIRECTION   \n",
       "\n",
       "                  Collsn_name  \n",
       "0  ONE STRAIGHT-ONE LEFT TURN  \n",
       "1  ONE STRAIGHT-ONE LEFT TURN  \n",
       "2              BOTH LEFT TURN  "
      ]
     },
     "execution_count": 10,
     "metadata": {},
     "output_type": "execute_result"
    }
   ],
   "source": [
    "# Load data\n",
    "url_1 = './Data/' + filenames[0]\n",
    "df = url2pd(url_1)\n",
    "df.info()\n",
    "df.head(3)"
   ]
  },
  {
   "cell_type": "code",
   "execution_count": 17,
   "metadata": {
    "colab": {
     "base_uri": "https://localhost:8080/"
    },
    "id": "1CDPbDPYZvoH",
    "outputId": "0364fbde-8770-48a9-df6e-a86a9158a352"
   },
   "outputs": [
    {
     "data": {
      "text/plain": [
       "(474928, 19)"
      ]
     },
     "execution_count": 17,
     "metadata": {},
     "output_type": "execute_result"
    }
   ],
   "source": [
    "# Let's just use 50% of the total dataset\n",
    "df, _ = train_test_split(df, test_size=0.5,stratify = df['Prsn_Injry_Sev'])\n",
    "df.shape"
   ]
  },
  {
   "cell_type": "code",
   "execution_count": 18,
   "metadata": {
    "colab": {
     "base_uri": "https://localhost:8080/"
    },
    "id": "FEKbv3R9ZvoH",
    "outputId": "9ebca716-1945-454a-b071-8daab02f2369"
   },
   "outputs": [
    {
     "name": "stdout",
     "output_type": "stream",
     "text": [
      "All target values:\n",
      "0    396279\n",
      "1     51204\n",
      "2     22621\n",
      "3      3976\n",
      "4       848\n",
      "Name: Prsn_Injry_Sev, dtype: int64\n"
     ]
    }
   ],
   "source": [
    "y = df['Prsn_Injry_Sev']\n",
    "print('All target values:')\n",
    "print(y.value_counts())\n",
    "X = df.drop(columns=['Prsn_Injry_Sev'])"
   ]
  },
  {
   "cell_type": "code",
   "execution_count": 19,
   "metadata": {
    "colab": {
     "base_uri": "https://localhost:8080/"
    },
    "id": "AUDtEBDsZvoI",
    "outputId": "e7ccda34-f05b-4ab5-8b34-89dc1f608a36"
   },
   "outputs": [
    {
     "name": "stdout",
     "output_type": "stream",
     "text": [
      "Numerical variables are  ['Prsn_Age', 'Rural', 'Crash_Speed_Limit', 'Veh_Mod_Year', 'Weekend', 'Crash_season', 'Part_of_day']\n",
      "Categorical variables that have at most 5 categories are  ['Prsn_Gndr', 'Prsn_Drg_Rslt', 'Collsn_type']\n",
      "Categorical variables that have more than 5 categories are  ['Wthr_Cond', 'Light_Cond', 'Surf_Cond', 'Veh_Body_Styl', 'Prsn_Rest', 'Harm_Evnt', 'Road_Algn', 'Collsn_name']\n",
      "New shape of the input data set: (474928, 59)\n"
     ]
    }
   ],
   "source": [
    "# %% Data wrangling -------------\n",
    "# Classify variable type\n",
    "emb_vars, ind_vars, num_vars = [], [], []\n",
    "for var in X.columns:\n",
    "    if X[var].dtypes == 'O':\n",
    "        if len(X[var].unique()) > 5:\n",
    "            emb_vars.append(var)\n",
    "        else:\n",
    "            ind_vars.append(var)\n",
    "    else:\n",
    "        num_vars.append(var)\n",
    "print('Numerical variables are ', num_vars)\n",
    "print('Categorical variables that have at most 5 categories are ', ind_vars)\n",
    "print('Categorical variables that have more than 5 categories are ', emb_vars)\n",
    "\n",
    "# Create feature columns\n",
    "feature_columns = []\n",
    "# numeric cols\n",
    "for header in num_vars:\n",
    "    feature_columns.append(feature_column.numeric_column(header))\n",
    "# bucketized cols\n",
    "# age = feature_column.numeric_column('Prsn_Age')\n",
    "# age_buckets = feature_column.bucketized_column(age, boundaries=[16, 22, 35, 55, 65])\n",
    "# feature_columns.append(age_buckets)\n",
    "# indicator_columns\n",
    "for col_name in ind_vars:\n",
    "    categorical_column = feature_column.categorical_column_with_vocabulary_list(\n",
    "        col_name, X[col_name].unique())\n",
    "    indicator_column = feature_column.indicator_column(categorical_column)\n",
    "    feature_columns.append(indicator_column)\n",
    "# embedding columns\n",
    "for col_name in emb_vars:\n",
    "    emb_column = feature_column.categorical_column_with_vocabulary_list(\n",
    "        col_name, X[col_name].unique())\n",
    "    col_embedding = feature_column.embedding_column(emb_column, dimension=5)\n",
    "    feature_columns.append(col_embedding)\n",
    "\n",
    "# Convert all setup into new dataset\n",
    "feature_layer = tf.keras.layers.DenseFeatures(feature_columns)\n",
    "X = feature_layer(dict(X)).numpy()\n",
    "print('New shape of the input data set:',X.shape)"
   ]
  },
  {
   "cell_type": "code",
   "execution_count": 20,
   "metadata": {
    "colab": {
     "base_uri": "https://localhost:8080/"
    },
    "id": "1EiMyeEfZvoJ",
    "outputId": "a5edb724-5800-4a62-9122-b7399f3203b2"
   },
   "outputs": [
    {
     "name": "stdout",
     "output_type": "stream",
     "text": [
      "Training features shape: (303953, 59)\n",
      "Validation features shape: (75989, 59)\n",
      "Test features shape: (94986, 59)\n"
     ]
    }
   ],
   "source": [
    "# %% Split the dataset\n",
    "X_train, X_test, y_train, y_test = train_test_split(X, y, test_size=0.2, stratify=y, random_state=48)\n",
    "X_train, X_val, y_train, y_val = train_test_split(X_train, y_train, test_size=0.2, stratify=y_train, random_state=48)\n",
    "\n",
    "print('Training features shape:', X_train.shape)\n",
    "print('Validation features shape:', X_val.shape)\n",
    "print('Test features shape:', X_test.shape)\n",
    "\n",
    "# %% standardization\n",
    "scaler = StandardScaler()\n",
    "X_train = scaler.fit_transform(X_train)\n",
    "X_val = scaler.transform(X_val)\n",
    "X_test = scaler.transform(X_test)"
   ]
  },
  {
   "cell_type": "markdown",
   "metadata": {
    "id": "2Ds5G6Pjhes9"
   },
   "source": [
    "# ALL mini functions\n",
    "\n"
   ]
  },
  {
   "cell_type": "code",
   "execution_count": 21,
   "metadata": {
    "id": "-mt_xldIekgx"
   },
   "outputs": [],
   "source": [
    "# Import Metrics\n",
    "from imblearn.metrics import geometric_mean_score\n",
    "from sklearn.metrics import roc_auc_score,confusion_matrix,accuracy_score\n",
    "\n",
    "# %% Function to compare the prediction and true labels\n",
    "def get_accs(label, pred_proba, tr_time=0,index=None):\n",
    "    prediction = pred_proba.argmax(axis=1)\n",
    "    cm = confusion_matrix(label, prediction)\n",
    "    length = cm.shape[0]\n",
    "    num_cases = len(label)\n",
    "    # global accuracy\n",
    "    glb_acc = np.trace(cm) / len(label)\n",
    "    ind_accs = cm / np.sum(cm, axis=1)[:, np.newaxis]\n",
    "    accs = [ind_accs[i, i] for i in range(length)]\n",
    "    cols = ['Class {}'.format(i) for i in range(length)]\n",
    "    # Global accuracy\n",
    "    accs.append(glb_acc)\n",
    "    # AUC\n",
    "    accs.append(roc_auc_score(label, pred_proba,multi_class='ovr'))\n",
    "    # G-mean\n",
    "    accs.append(geometric_mean_score(label, prediction, correction=0.001))\n",
    "    # Average perf\n",
    "    accs.append(np.mean(accs[-3:]))\n",
    "    # Training time\n",
    "    accs.append(np.round(tr_time,3))\n",
    "    cols = cols + ['Accuracy','AUC','G-mean','Avg_Pfm','Training Time']\n",
    "\n",
    "    out = np.array(accs).reshape(1, len(accs))\n",
    "    return pd.DataFrame(out, columns=cols,index=[index])"
   ]
  },
  {
   "cell_type": "markdown",
   "metadata": {
    "id": "eVDPbOU7ekgx"
   },
   "source": [
    "# ML with class weight"
   ]
  },
  {
   "cell_type": "code",
   "execution_count": 22,
   "metadata": {
    "colab": {
     "base_uri": "https://localhost:8080/"
    },
    "id": "UDv2Pn6sZvoL",
    "outputId": "e54badf0-fcda-4ff5-c5f9-24391752e4ff"
   },
   "outputs": [
    {
     "name": "stdout",
     "output_type": "stream",
     "text": [
      "LR\n",
      "DT\n",
      "RF\n",
      "    Accuracy       AUC    G-mean   Avg_Pfm  Training Time\n",
      "LR  0.500421  0.709277  0.359736  0.523145         12.196\n",
      "DT  0.714453  0.532548  0.144966  0.463989          6.041\n",
      "RF  0.552418  0.670414  0.280327  0.501053         18.104\n"
     ]
    }
   ],
   "source": [
    "wgt='balanced'\n",
    "clfs = [LogisticRegression(solver = 'lbfgs',class_weight=wgt),\n",
    "        DecisionTreeClassifier(class_weight=wgt),\n",
    "        RandomForestClassifier(max_depth=4,class_weight=wgt)]\n",
    "clf_names = ['LR','DT','RF']\n",
    "rsts = pd.DataFrame()\n",
    "for model, name in zip(clfs,clf_names):\n",
    "    start = time.time()\n",
    "    print(name)\n",
    "    model.fit(X_train, y_train.values)\n",
    "    end= time.time()\n",
    "    # use the model to make predictions with the test data\n",
    "    Y_pred = model.predict_proba(X_test)\n",
    "\n",
    "    # get the evaluation metrics\n",
    "    rsts = rsts.append(get_accs(y_test.values,Y_pred,end-start,name))    \n",
    "print(rsts.iloc[:,5:])"
   ]
  },
  {
   "cell_type": "markdown",
   "metadata": {
    "id": "ff6Y5pBDhsXm"
   },
   "source": [
    "# MLP functions\n"
   ]
  },
  {
   "cell_type": "code",
   "execution_count": 23,
   "metadata": {
    "colab": {
     "base_uri": "https://localhost:8080/"
    },
    "id": "YmzSlMdDZvoK",
    "outputId": "ff97b059-d881-4f17-afe4-a7596dbf30d4"
   },
   "outputs": [
    {
     "data": {
      "text/plain": [
       "{0: 0.23969355487386543,\n",
       " 1: 1.8550686603600854,\n",
       " 2: 4.198825804669153,\n",
       " 3: 23.886286836935167,\n",
       " 4: 112.15977859778597}"
      ]
     },
     "execution_count": 23,
     "metadata": {},
     "output_type": "execute_result"
    }
   ],
   "source": [
    "# Add weights\n",
    "weights = len(y_train) / (5 * np.bincount(y_train))\n",
    "cls_wgt = dict(zip(np.arange(5), weights))\n",
    "cls_wgt"
   ]
  },
  {
   "cell_type": "code",
   "execution_count": 24,
   "metadata": {
    "id": "w5IRiyFuZvoK"
   },
   "outputs": [],
   "source": [
    "def early_stops(metric_name):\n",
    "    es = EarlyStopping(monitor='val_'+ metric_name,\n",
    "                   verbose=1, patience=10, mode='max',\n",
    "                   restore_best_weights=True)\n",
    "    return es"
   ]
  },
  {
   "cell_type": "code",
   "execution_count": 25,
   "metadata": {
    "id": "uIyiU6z6ekgy"
   },
   "outputs": [],
   "source": [
    "# Constant\n",
    "EPOCH = 50\n",
    "BATCH_SIZE = 2048\n",
    "VERBOSE = 0"
   ]
  },
  {
   "cell_type": "code",
   "execution_count": 26,
   "metadata": {
    "id": "LgNrYKJiekgy"
   },
   "outputs": [],
   "source": [
    "def create_mlp():\n",
    "    MLP = Sequential([Dense(10,\n",
    "                           activation='relu',\n",
    "                           input_dim=X_train.shape[1],\n",
    "                           ),\n",
    "                      Dropout(0.5),\n",
    "                      Dense(5, activation='softmax')])\n",
    "    MLP.compile(optimizer='adam',\n",
    "                loss=SparseCategoricalCrossentropy(from_logits=True),\n",
    "                metrics=[tf.keras.metrics.SparseCategoricalAccuracy(name='accuracy')]\n",
    "               )\n",
    "    return MLP"
   ]
  },
  {
   "cell_type": "code",
   "execution_count": 27,
   "metadata": {
    "colab": {
     "base_uri": "https://localhost:8080/",
     "height": 275
    },
    "id": "kFDKXSidekgy",
    "outputId": "b6bfaf41-fa81-4f09-b6d5-3dd4255df350",
    "scrolled": true
   },
   "outputs": [
    {
     "name": "stdout",
     "output_type": "stream",
     "text": [
      "Restoring model weights from the end of the best epoch.\n",
      "Epoch 00019: early stopping\n",
      "Restoring model weights from the end of the best epoch.\n",
      "Epoch 00013: early stopping\n",
      "Restoring model weights from the end of the best epoch.\n",
      "Epoch 00014: early stopping\n"
     ]
    },
    {
     "data": {
      "text/html": [
       "<div>\n",
       "<style scoped>\n",
       "    .dataframe tbody tr th:only-of-type {\n",
       "        vertical-align: middle;\n",
       "    }\n",
       "\n",
       "    .dataframe tbody tr th {\n",
       "        vertical-align: top;\n",
       "    }\n",
       "\n",
       "    .dataframe thead th {\n",
       "        text-align: right;\n",
       "    }\n",
       "</style>\n",
       "<table border=\"1\" class=\"dataframe\">\n",
       "  <thead>\n",
       "    <tr style=\"text-align: right;\">\n",
       "      <th></th>\n",
       "      <th>Class 0</th>\n",
       "      <th>Class 1</th>\n",
       "      <th>Class 2</th>\n",
       "      <th>Class 3</th>\n",
       "      <th>Class 4</th>\n",
       "      <th>Accuracy</th>\n",
       "      <th>AUC</th>\n",
       "      <th>G-mean</th>\n",
       "      <th>Avg_Pfm</th>\n",
       "      <th>Training Time</th>\n",
       "    </tr>\n",
       "  </thead>\n",
       "  <tbody>\n",
       "    <tr>\n",
       "      <th>LR</th>\n",
       "      <td>0.533903</td>\n",
       "      <td>0.412362</td>\n",
       "      <td>0.140805</td>\n",
       "      <td>0.320755</td>\n",
       "      <td>0.605882</td>\n",
       "      <td>0.500421</td>\n",
       "      <td>0.709277</td>\n",
       "      <td>0.359736</td>\n",
       "      <td>0.523145</td>\n",
       "      <td>12.196</td>\n",
       "    </tr>\n",
       "    <tr>\n",
       "      <th>DT</th>\n",
       "      <td>0.831584</td>\n",
       "      <td>0.146372</td>\n",
       "      <td>0.088196</td>\n",
       "      <td>0.038994</td>\n",
       "      <td>0.152941</td>\n",
       "      <td>0.714453</td>\n",
       "      <td>0.532548</td>\n",
       "      <td>0.144966</td>\n",
       "      <td>0.463989</td>\n",
       "      <td>6.041</td>\n",
       "    </tr>\n",
       "    <tr>\n",
       "      <th>RF</th>\n",
       "      <td>0.612534</td>\n",
       "      <td>0.330144</td>\n",
       "      <td>0.041556</td>\n",
       "      <td>0.301887</td>\n",
       "      <td>0.682353</td>\n",
       "      <td>0.552418</td>\n",
       "      <td>0.670414</td>\n",
       "      <td>0.280327</td>\n",
       "      <td>0.501053</td>\n",
       "      <td>18.104</td>\n",
       "    </tr>\n",
       "    <tr>\n",
       "      <th>MLP-3</th>\n",
       "      <td>0.558507</td>\n",
       "      <td>0.374378</td>\n",
       "      <td>0.052829</td>\n",
       "      <td>0.260377</td>\n",
       "      <td>0.717647</td>\n",
       "      <td>0.512360</td>\n",
       "      <td>0.675292</td>\n",
       "      <td>0.290366</td>\n",
       "      <td>0.492673</td>\n",
       "      <td>3.005</td>\n",
       "    </tr>\n",
       "  </tbody>\n",
       "</table>\n",
       "</div>"
      ],
      "text/plain": [
       "        Class 0   Class 1   Class 2   Class 3   Class 4  Accuracy       AUC  \\\n",
       "LR     0.533903  0.412362  0.140805  0.320755  0.605882  0.500421  0.709277   \n",
       "DT     0.831584  0.146372  0.088196  0.038994  0.152941  0.714453  0.532548   \n",
       "RF     0.612534  0.330144  0.041556  0.301887  0.682353  0.552418  0.670414   \n",
       "MLP-3  0.558507  0.374378  0.052829  0.260377  0.717647  0.512360  0.675292   \n",
       "\n",
       "         G-mean   Avg_Pfm  Training Time  \n",
       "LR     0.359736  0.523145         12.196  \n",
       "DT     0.144966  0.463989          6.041  \n",
       "RF     0.280327  0.501053         18.104  \n",
       "MLP-3  0.290366  0.492673          3.005  "
      ]
     },
     "execution_count": 27,
     "metadata": {},
     "output_type": "execute_result"
    }
   ],
   "source": [
    "Y_pred = 0\n",
    "for i in range(3):\n",
    "    model = create_mlp()\n",
    "    start = time.time()\n",
    "    monitor = model.fit(X_train, y_train.values,\n",
    "                        callbacks=[early_stops('accuracy')],\n",
    "                        class_weight = cls_wgt,\n",
    "                        validation_data=(X_val, y_val.values),\n",
    "                        batch_size=BATCH_SIZE,\n",
    "                        verbose=VERBOSE, epochs=EPOCH\n",
    "                       )\n",
    "    end = time.time()\n",
    "    # use the model to make predictions with the test data\n",
    "    Y_pred+= model.predict(X_test)\n",
    "rsts = rsts.append(get_accs(y_test.values,Y_pred/3,end-start,'MLP-'+str(i+1)))\n",
    "rsts"
   ]
  },
  {
   "cell_type": "markdown",
   "metadata": {
    "id": "DPSteBZV4rEz"
   },
   "source": [
    "# Compare different feature encodings\n",
    "\n",
    "- 1 hot encoding\n",
    "- 1h + embedding3\n",
    "- 1h + e5\n",
    "- 1h + e7 "
   ]
  },
  {
   "cell_type": "markdown",
   "metadata": {
    "id": "x8x1n8bl5b-8"
   },
   "source": [
    "## Prepare data"
   ]
  },
  {
   "cell_type": "code",
   "execution_count": 28,
   "metadata": {
    "id": "Tq9iseu56zR4"
   },
   "outputs": [],
   "source": [
    "X = df.drop(columns=['Prsn_Injry_Sev']).copy()"
   ]
  },
  {
   "cell_type": "code",
   "execution_count": 29,
   "metadata": {
    "colab": {
     "base_uri": "https://localhost:8080/"
    },
    "id": "zyKXNsyP66v_",
    "outputId": "be9d21c8-3943-4643-94cb-c92a2b566b61"
   },
   "outputs": [
    {
     "data": {
      "text/plain": [
       "['Prsn_Age',\n",
       " 'Rural',\n",
       " 'Crash_Speed_Limit',\n",
       " 'Veh_Mod_Year',\n",
       " 'Weekend',\n",
       " 'Crash_season',\n",
       " 'Part_of_day']"
      ]
     },
     "execution_count": 29,
     "metadata": {},
     "output_type": "execute_result"
    }
   ],
   "source": [
    "list(X.dtypes[X.dtypes!='O'].index)"
   ]
  },
  {
   "cell_type": "code",
   "execution_count": 30,
   "metadata": {
    "colab": {
     "base_uri": "https://localhost:8080/"
    },
    "id": "L_DJVrAt5KXg",
    "outputId": "9425b803-612f-438a-ed67-6611a18a6581"
   },
   "outputs": [
    {
     "name": "stdout",
     "output_type": "stream",
     "text": [
      "Numerical variables are  ['Prsn_Age', 'Rural', 'Crash_Speed_Limit', 'Veh_Mod_Year', 'Weekend', 'Crash_season', 'Part_of_day']\n",
      "One-hot encoding variables are  ['Prsn_Gndr', 'Wthr_Cond', 'Light_Cond', 'Surf_Cond', 'Veh_Body_Styl', 'Prsn_Rest', 'Prsn_Drg_Rslt', 'Harm_Evnt', 'Road_Algn', 'Collsn_type', 'Collsn_name']\n",
      "Embedding variables are  []\n",
      "New shape of the input data set: (474928, 116)\n"
     ]
    }
   ],
   "source": [
    "def data_encode(dim=None):\n",
    "    X = df.drop(columns=['Prsn_Injry_Sev']).copy()\n",
    "    num_vars = list(X.dtypes[X.dtypes!='O'].index)\n",
    "    cate_vars = list(X.dtypes[X.dtypes=='O'].index)\n",
    "    emb_vars, ind_vars = [], []\n",
    "    if dim == None:\n",
    "        ind_vars = cate_vars.copy()\n",
    "    else:\n",
    "        for var in cate_vars:\n",
    "            if len(X[var].unique()) > dim:\n",
    "                emb_vars.append(var)\n",
    "            else:\n",
    "                ind_vars.append(var)\n",
    "    print('Numerical variables are ', num_vars)\n",
    "    print('One-hot encoding variables are ', ind_vars)\n",
    "    print('Embedding variables are ', emb_vars)\n",
    "    # Create feature columns\n",
    "    feature_columns = []\n",
    "    # numeric cols\n",
    "    for header in num_vars:\n",
    "        feature_columns.append(feature_column.numeric_column(header))\n",
    "    # indicator_columns\n",
    "    for col_name in ind_vars:\n",
    "        categorical_column = feature_column.categorical_column_with_vocabulary_list(\n",
    "            col_name, X[col_name].unique())\n",
    "        indicator_column = feature_column.indicator_column(categorical_column)\n",
    "        feature_columns.append(indicator_column)\n",
    "    # embedding columns\n",
    "    for col_name in emb_vars:\n",
    "        emb_column = feature_column.categorical_column_with_vocabulary_list(\n",
    "            col_name, X[col_name].unique())\n",
    "        col_embedding = feature_column.embedding_column(emb_column, dimension=dim)\n",
    "        feature_columns.append(col_embedding)\n",
    "\n",
    "    # Convert all setup into new dataset\n",
    "    feature_layer = tf.keras.layers.DenseFeatures(feature_columns)\n",
    "    X = feature_layer(dict(X)).numpy()\n",
    "    print('New shape of the input data set:',X.shape)\n",
    "    return X\n",
    "# Test function\n",
    "data_encode();"
   ]
  },
  {
   "cell_type": "code",
   "execution_count": 31,
   "metadata": {
    "id": "cTVeBN664qf7"
   },
   "outputs": [],
   "source": [
    "embedded_vars = [None, 3, 5, 7]\n",
    "rsts = pd.DataFrame()\n",
    "y = df['Prsn_Injry_Sev'].copy()"
   ]
  },
  {
   "cell_type": "code",
   "execution_count": 32,
   "metadata": {
    "colab": {
     "base_uri": "https://localhost:8080/"
    },
    "id": "VtNJYplg-WA_",
    "outputId": "881da982-b7aa-4b9b-b4a0-3a3c2a81eca5"
   },
   "outputs": [
    {
     "name": "stdout",
     "output_type": "stream",
     "text": [
      "None\n",
      "Numerical variables are  ['Prsn_Age', 'Rural', 'Crash_Speed_Limit', 'Veh_Mod_Year', 'Weekend', 'Crash_season', 'Part_of_day']\n",
      "One-hot encoding variables are  ['Prsn_Gndr', 'Wthr_Cond', 'Light_Cond', 'Surf_Cond', 'Veh_Body_Styl', 'Prsn_Rest', 'Prsn_Drg_Rslt', 'Harm_Evnt', 'Road_Algn', 'Collsn_type', 'Collsn_name']\n",
      "Embedding variables are  []\n",
      "New shape of the input data set: (474928, 116)\n",
      "Training features shape: (303953, 116)\n",
      "Validation features shape: (75989, 116)\n",
      "Test features shape: (94986, 116)\n",
      "LR\n",
      "DT\n",
      "RF\n",
      "MLP#0\n",
      "Restoring model weights from the end of the best epoch.\n",
      "Epoch 00016: early stopping\n",
      "MLP#1\n",
      "Restoring model weights from the end of the best epoch.\n",
      "Epoch 00012: early stopping\n",
      "MLP#2\n",
      "Restoring model weights from the end of the best epoch.\n",
      "Epoch 00011: early stopping\n",
      "          Accuracy       AUC    G-mean   Avg_Pfm  Training Time\n",
      "LR-None   0.495757  0.715482  0.366742  0.525994         13.759\n",
      "DT-None   0.712789  0.531643  0.138978  0.461137          8.597\n",
      "RF-None   0.530299  0.662322  0.209415  0.467345         19.678\n",
      "MLP-None  0.581391  0.679323  0.198914  0.486543          2.690\n",
      "3\n",
      "Numerical variables are  ['Prsn_Age', 'Rural', 'Crash_Speed_Limit', 'Veh_Mod_Year', 'Weekend', 'Crash_season', 'Part_of_day']\n",
      "One-hot encoding variables are  ['Prsn_Gndr']\n",
      "Embedding variables are  ['Wthr_Cond', 'Light_Cond', 'Surf_Cond', 'Veh_Body_Styl', 'Prsn_Rest', 'Prsn_Drg_Rslt', 'Harm_Evnt', 'Road_Algn', 'Collsn_type', 'Collsn_name']\n",
      "New shape of the input data set: (474928, 40)\n",
      "Training features shape: (303953, 40)\n",
      "Validation features shape: (75989, 40)\n",
      "Test features shape: (94986, 40)\n",
      "LR\n",
      "DT\n",
      "RF\n",
      "MLP#0\n",
      "Restoring model weights from the end of the best epoch.\n",
      "Epoch 00033: early stopping\n",
      "MLP#1\n",
      "Restoring model weights from the end of the best epoch.\n",
      "Epoch 00014: early stopping\n",
      "MLP#2\n",
      "Restoring model weights from the end of the best epoch.\n",
      "Epoch 00022: early stopping\n",
      "          Accuracy       AUC    G-mean   Avg_Pfm  Training Time\n",
      "LR-None   0.495757  0.715482  0.366742  0.525994         13.759\n",
      "DT-None   0.712789  0.531643  0.138978  0.461137          8.597\n",
      "RF-None   0.530299  0.662322  0.209415  0.467345         19.678\n",
      "MLP-None  0.581391  0.679323  0.198914  0.486543          2.690\n",
      "LR-3      0.480313  0.696636  0.351160  0.509369         11.292\n",
      "DT-3      0.714642  0.533709  0.142783  0.463711          4.079\n",
      "RF-3      0.564199  0.661281  0.256036  0.493839         16.274\n",
      "MLP-3     0.508854  0.685813  0.300492  0.498386          4.233\n",
      "5\n",
      "Numerical variables are  ['Prsn_Age', 'Rural', 'Crash_Speed_Limit', 'Veh_Mod_Year', 'Weekend', 'Crash_season', 'Part_of_day']\n",
      "One-hot encoding variables are  ['Prsn_Gndr', 'Prsn_Drg_Rslt', 'Collsn_type']\n",
      "Embedding variables are  ['Wthr_Cond', 'Light_Cond', 'Surf_Cond', 'Veh_Body_Styl', 'Prsn_Rest', 'Harm_Evnt', 'Road_Algn', 'Collsn_name']\n",
      "New shape of the input data set: (474928, 59)\n",
      "Training features shape: (303953, 59)\n",
      "Validation features shape: (75989, 59)\n",
      "Test features shape: (94986, 59)\n",
      "LR\n",
      "DT\n",
      "RF\n",
      "MLP#0\n",
      "Restoring model weights from the end of the best epoch.\n",
      "Epoch 00014: early stopping\n",
      "MLP#1\n",
      "Restoring model weights from the end of the best epoch.\n",
      "Epoch 00018: early stopping\n",
      "MLP#2\n",
      "Restoring model weights from the end of the best epoch.\n",
      "Epoch 00017: early stopping\n",
      "          Accuracy       AUC    G-mean   Avg_Pfm  Training Time\n",
      "LR-None   0.495757  0.715482  0.366742  0.525994         13.759\n",
      "DT-None   0.712789  0.531643  0.138978  0.461137          8.597\n",
      "RF-None   0.530299  0.662322  0.209415  0.467345         19.678\n",
      "MLP-None  0.581391  0.679323  0.198914  0.486543          2.690\n",
      "LR-3      0.480313  0.696636  0.351160  0.509369         11.292\n",
      "DT-3      0.714642  0.533709  0.142783  0.463711          4.079\n",
      "RF-3      0.564199  0.661281  0.256036  0.493839         16.274\n",
      "MLP-3     0.508854  0.685813  0.300492  0.498386          4.233\n",
      "LR-5      0.496315  0.705415  0.360544  0.520758         11.721\n",
      "DT-5      0.716106  0.531306  0.144318  0.463910          6.009\n",
      "RF-5      0.547028  0.667352  0.235403  0.483261         18.586\n",
      "MLP-5     0.526393  0.670339  0.224370  0.473701          3.957\n",
      "7\n",
      "Numerical variables are  ['Prsn_Age', 'Rural', 'Crash_Speed_Limit', 'Veh_Mod_Year', 'Weekend', 'Crash_season', 'Part_of_day']\n",
      "One-hot encoding variables are  ['Prsn_Gndr', 'Prsn_Drg_Rslt', 'Collsn_type']\n",
      "Embedding variables are  ['Wthr_Cond', 'Light_Cond', 'Surf_Cond', 'Veh_Body_Styl', 'Prsn_Rest', 'Harm_Evnt', 'Road_Algn', 'Collsn_name']\n",
      "New shape of the input data set: (474928, 75)\n",
      "Training features shape: (303953, 75)\n",
      "Validation features shape: (75989, 75)\n",
      "Test features shape: (94986, 75)\n",
      "LR\n",
      "DT\n",
      "RF\n",
      "MLP#0\n",
      "Restoring model weights from the end of the best epoch.\n",
      "Epoch 00018: early stopping\n",
      "MLP#1\n",
      "Restoring model weights from the end of the best epoch.\n",
      "Epoch 00011: early stopping\n",
      "MLP#2\n",
      "Restoring model weights from the end of the best epoch.\n",
      "Epoch 00019: early stopping\n",
      "          Accuracy       AUC    G-mean   Avg_Pfm  Training Time\n",
      "LR-None   0.495757  0.715482  0.366742  0.525994         13.759\n",
      "DT-None   0.712789  0.531643  0.138978  0.461137          8.597\n",
      "RF-None   0.530299  0.662322  0.209415  0.467345         19.678\n",
      "MLP-None  0.581391  0.679323  0.198914  0.486543          2.690\n",
      "LR-3      0.480313  0.696636  0.351160  0.509369         11.292\n",
      "DT-3      0.714642  0.533709  0.142783  0.463711          4.079\n",
      "RF-3      0.564199  0.661281  0.256036  0.493839         16.274\n",
      "MLP-3     0.508854  0.685813  0.300492  0.498386          4.233\n",
      "LR-5      0.496315  0.705415  0.360544  0.520758         11.721\n",
      "DT-5      0.716106  0.531306  0.144318  0.463910          6.009\n",
      "RF-5      0.547028  0.667352  0.235403  0.483261         18.586\n",
      "MLP-5     0.526393  0.670339  0.224370  0.473701          3.957\n",
      "LR-7      0.491146  0.705145  0.362341  0.519544         12.490\n",
      "DT-7      0.716074  0.533420  0.146117  0.465204          8.392\n",
      "RF-7      0.573832  0.669329  0.264790  0.502650         19.789\n",
      "MLP-7     0.545680  0.688145  0.334929  0.522918          4.223\n"
     ]
    }
   ],
   "source": [
    "for emb in embedded_vars:\n",
    "    print(emb)\n",
    "    X = data_encode(emb)\n",
    "    # %% Split the dataset\n",
    "    X_train, X_test, y_train, y_test = train_test_split(X, y, test_size=0.2, stratify=y, random_state=48)\n",
    "    X_train, X_val, y_train, y_val = train_test_split(X_train, y_train, test_size=0.2, stratify=y_train, random_state=48)\n",
    "\n",
    "    print('Training features shape:', X_train.shape)\n",
    "    print('Validation features shape:', X_val.shape)\n",
    "    print('Test features shape:', X_test.shape)\n",
    "\n",
    "    # %% standardization\n",
    "    scaler = StandardScaler()\n",
    "    X_train = scaler.fit_transform(X_train)\n",
    "    X_val = scaler.transform(X_val)\n",
    "    X_test = scaler.transform(X_test)\n",
    "\n",
    "    clfs = [LogisticRegression(solver = 'lbfgs',class_weight=wgt),\n",
    "            DecisionTreeClassifier(class_weight=wgt),\n",
    "            RandomForestClassifier(max_depth=4,class_weight=wgt)]\n",
    "    clf_names = ['LR','DT','RF']\n",
    "    for model, name in zip(clfs,clf_names):\n",
    "        start = time.time()\n",
    "        print(name)\n",
    "        model.fit(X_train, y_train.values)\n",
    "        end= time.time()\n",
    "        # use the model to make predictions with the test data\n",
    "        Y_pred = model.predict_proba(X_test)\n",
    "\n",
    "        # get the evaluation metrics\n",
    "        rsts = rsts.append(get_accs(y_test.values,Y_pred,end-start,name+'-'+str(emb)))    \n",
    "    Y_pred = 0\n",
    "    for i in range(3):\n",
    "        print('MLP#'+str(i))\n",
    "        model = create_mlp()\n",
    "        start = time.time()\n",
    "        monitor = model.fit(X_train, y_train.values,\n",
    "                            callbacks=[early_stops('accuracy')],\n",
    "                            class_weight = cls_wgt,\n",
    "                            validation_data=(X_val, y_val.values),\n",
    "                            batch_size=BATCH_SIZE,\n",
    "                            verbose=VERBOSE, epochs=EPOCH\n",
    "                        )\n",
    "        end = time.time()\n",
    "        # use the model to make predictions with the test data\n",
    "        Y_pred+= model.predict(X_test)\n",
    "    rsts = rsts.append(get_accs(y_test.values,Y_pred/3,end-start,'MLP-'+str(emb)))\n",
    "    print(rsts.iloc[:,5:])"
   ]
  },
  {
   "cell_type": "code",
   "execution_count": 33,
   "metadata": {
    "id": "4ouE1u-1EMuo"
   },
   "outputs": [],
   "source": [
    "rsts = rsts.reset_index()"
   ]
  },
  {
   "cell_type": "code",
   "execution_count": 34,
   "metadata": {
    "id": "GGYLZjn-EacT"
   },
   "outputs": [],
   "source": [
    "indexing = rsts['index'].str.split('-',expand=True)\n",
    "indexing.columns = ['Model', 'Embedding']\n"
   ]
  },
  {
   "cell_type": "code",
   "execution_count": 35,
   "metadata": {
    "id": "lWjuyZaPFdHB"
   },
   "outputs": [],
   "source": [
    "rsts = pd.concat((rsts, indexing),axis =1)"
   ]
  },
  {
   "cell_type": "code",
   "execution_count": 36,
   "metadata": {
    "colab": {
     "base_uri": "https://localhost:8080/",
     "height": 296
    },
    "id": "6NHYqM0JFpmK",
    "outputId": "26de2584-00d9-4f49-a66f-63cd0c1bd570"
   },
   "outputs": [
    {
     "data": {
      "text/plain": [
       "<AxesSubplot:xlabel='Embedding', ylabel='Avg_Pfm'>"
      ]
     },
     "execution_count": 36,
     "metadata": {},
     "output_type": "execute_result"
    },
    {
     "data": {
      "image/png": "[encoded data removed]",
      "text/plain": [
       "<Figure size 432x288 with 1 Axes>"
      ]
     },
     "metadata": {
      "needs_background": "light"
     },
     "output_type": "display_data"
    }
   ],
   "source": [
    "sns.boxplot(data=rsts, x='Embedding',y='Avg_Pfm')"
   ]
  },
  {
   "cell_type": "code",
   "execution_count": 37,
   "metadata": {
    "colab": {
     "base_uri": "https://localhost:8080/",
     "height": 296
    },
    "id": "mdUn95XrGNCD",
    "outputId": "7af56a67-a8fe-4209-99e4-4e3158d9cb0c"
   },
   "outputs": [
    {
     "data": {
      "text/plain": [
       "<AxesSubplot:xlabel='Embedding', ylabel='Training Time'>"
      ]
     },
     "execution_count": 37,
     "metadata": {},
     "output_type": "execute_result"
    },
    {
     "data": {
      "image/png": "[encoded data removed]",
      "text/plain": [
       "<Figure size 432x288 with 1 Axes>"
      ]
     },
     "metadata": {
      "needs_background": "light"
     },
     "output_type": "display_data"
    }
   ],
   "source": [
    "sns.boxplot(data=rsts, x='Embedding',y='Training Time')"
   ]
  },
  {
   "cell_type": "code",
   "execution_count": 38,
   "metadata": {
    "id": "V1i0sqrJHvVj"
   },
   "outputs": [],
   "source": [
    "rsts.columns =['index', 'Class 0', 'Class 1', 'Class 2', 'Class 3', 'Class 4',\n",
    "       'Accuracy', 'AUC', 'G-mean', 'OP score', 'Training Time', 'Model',\n",
    "       'Embedding']"
   ]
  },
  {
   "cell_type": "code",
   "execution_count": 41,
   "metadata": {
    "colab": {
     "base_uri": "https://localhost:8080/",
     "height": 279
    },
    "id": "tOD7ZrhgG1uY",
    "outputId": "a812d44d-2fb2-4fc6-a81f-f28507870d77"
   },
   "outputs": [
    {
     "data": {
      "image/png": "[encoded data removed]",
      "text/plain": [
       "<Figure size 576x288 with 2 Axes>"
      ]
     },
     "metadata": {
      "needs_background": "light"
     },
     "output_type": "display_data"
    }
   ],
   "source": [
    "plt.figure(figsize=(8,4))\n",
    "plt.subplot(1,2,1)\n",
    "sns.boxplot(data=rsts, x='Embedding',y='OP score')\n",
    "plt.subplot(1,2,2)\n",
    "sns.boxplot(data=rsts, x='Embedding',y='Training Time')\n",
    "plt.savefig('.\\Output\\DataEncode.png',bbox_inches='tight',dpi=200)\n",
    "plt.show()"
   ]
  },
  {
   "cell_type": "code",
   "execution_count": 42,
   "metadata": {
    "id": "euBtlBrGGlxm"
   },
   "outputs": [],
   "source": [
    "rsts.to_csv('.\\Output\\VCA_DataEncode.csv',index=False)"
   ]
  }
 ],
 "metadata": {
  "colab": {
   "collapsed_sections": [],
   "name": "VCA_2_1_Data_encoding.ipynb",
   "provenance": [],
   "toc_visible": true
  },
  "kernelspec": {
   "display_name": "Python 3",
   "language": "python",
   "name": "python3"
  },
  "language_info": {
   "codemirror_mode": {
    "name": "ipython",
    "version": 3
   },
   "file_extension": ".py",
   "mimetype": "text/x-python",
   "name": "python",
   "nbconvert_exporter": "python",
   "pygments_lexer": "ipython3",
   "version": "3.8.5"
  }
 },
 "nbformat": 4,
 "nbformat_minor": 4
}
