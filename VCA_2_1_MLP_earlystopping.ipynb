{
  "nbformat": 4,
  "nbformat_minor": 0,
  "metadata": {
    "kernelspec": {
      "display_name": "Python 3",
      "language": "python",
      "name": "python3"
    },
    "language_info": {
      "codemirror_mode": {
        "name": "ipython",
        "version": 3
      },
      "file_extension": ".py",
      "mimetype": "text/x-python",
      "name": "python",
      "nbconvert_exporter": "python",
      "pygments_lexer": "ipython3",
      "version": "3.7.7"
    },
    "colab": {
      "name": "VCA_2.1_MLP_earlystopping.ipynb",
      "provenance": [],
      "include_colab_link": true
    }
  },
  "cells": [
    {
      "cell_type": "markdown",
      "metadata": {
        "id": "view-in-github",
        "colab_type": "text"
      },
      "source": [
        "<a href=\"https://colab.research.google.com/github/duonghung86/Injury-severity-classification/blob/main/VCA_2_1_MLP_earlystopping.ipynb\" target=\"_parent\"><img src=\"https://colab.research.google.com/assets/colab-badge.svg\" alt=\"Open In Colab\"/></a>"
      ]
    },
    {
      "cell_type": "code",
      "metadata": {
        "id": "Ond2r97pZvoF",
        "colab": {
          "base_uri": "https://localhost:8080/"
        },
        "outputId": "c4c596c5-cc90-418e-8ab0-d391b4551404"
      },
      "source": [
        "# Basic packages\n",
        "import matplotlib.pyplot as plt\n",
        "import numpy as np\n",
        "import pandas as pd\n",
        "import seaborn as sns\n",
        "import time\n",
        "\n",
        "# Preprocessing\n",
        "from sklearn.preprocessing import StandardScaler # Standardization\n",
        "from sklearn.model_selection import train_test_split\n",
        "from sklearn.metrics import confusion_matrix\n",
        "\n",
        "# Machine learning algos\n",
        "from sklearn.linear_model import LogisticRegression\n",
        "from sklearn.tree import DecisionTreeClassifier\n",
        "from sklearn.ensemble import RandomForestClassifier\n",
        "# Metrics\n",
        "from imblearn.metrics import geometric_mean_score\n",
        "# Tensorflow\n",
        "import tensorflow as tf\n",
        "print(tf.__version__)\n",
        "from tensorflow import feature_column  # for data wrangling\n",
        "from tensorboard.plugins.hparams import api as hp"
      ],
      "execution_count": 2,
      "outputs": [
        {
          "output_type": "stream",
          "text": [
            "2.3.0\n"
          ],
          "name": "stdout"
        }
      ]
    },
    {
      "cell_type": "code",
      "metadata": {
        "id": "UPLNCpWjZvoG",
        "colab": {
          "base_uri": "https://localhost:8080/",
          "height": 341
        },
        "outputId": "40693922-7186-4dba-fe3c-0198938312c4"
      },
      "source": [
        "# Load data\n",
        "url = 'https://github.com/duonghung86/Injury-severity-classification/blob/main/Prepared%20Texas%202019.zip?raw=true' \n",
        "tf.keras.utils.get_file(origin=url, fname=url.split('/')[-1], extract=True)\n",
        "data_path = '/root/.keras/datasets/' + url.split('/')[-1].split('?')[0].replace('%20',' ').replace('.zip','.csv')\n",
        "df = pd.read_csv(data_path)\n",
        "print(df.shape)\n",
        "df.head(3)"
      ],
      "execution_count": 3,
      "outputs": [
        {
          "output_type": "stream",
          "text": [
            "Downloading data from https://github.com/duonghung86/Injury-severity-classification/blob/main/Prepared%20Texas%202019.zip?raw=true\n",
            "10592256/10587626 [==============================] - 0s 0us/step\n",
            "(949856, 19)\n"
          ],
          "name": "stdout"
        },
        {
          "output_type": "execute_result",
          "data": {
            "text/html": [
              "<div>\n",
              "<style scoped>\n",
              "    .dataframe tbody tr th:only-of-type {\n",
              "        vertical-align: middle;\n",
              "    }\n",
              "\n",
              "    .dataframe tbody tr th {\n",
              "        vertical-align: top;\n",
              "    }\n",
              "\n",
              "    .dataframe thead th {\n",
              "        text-align: right;\n",
              "    }\n",
              "</style>\n",
              "<table border=\"1\" class=\"dataframe\">\n",
              "  <thead>\n",
              "    <tr style=\"text-align: right;\">\n",
              "      <th></th>\n",
              "      <th>Prsn_Injry_Sev</th>\n",
              "      <th>Prsn_Age</th>\n",
              "      <th>Prsn_Gndr</th>\n",
              "      <th>Wthr_Cond</th>\n",
              "      <th>Light_Cond</th>\n",
              "      <th>Surf_Cond</th>\n",
              "      <th>Veh_Body_Styl</th>\n",
              "      <th>Prsn_Rest</th>\n",
              "      <th>Prsn_Drg_Rslt</th>\n",
              "      <th>Harm_Evnt</th>\n",
              "      <th>Rural</th>\n",
              "      <th>Crash_Speed_Limit</th>\n",
              "      <th>Road_Algn</th>\n",
              "      <th>Veh_Mod_Year</th>\n",
              "      <th>Weekend</th>\n",
              "      <th>Crash_season</th>\n",
              "      <th>Part_of_day</th>\n",
              "      <th>Collsn_type</th>\n",
              "      <th>Collsn_name</th>\n",
              "    </tr>\n",
              "  </thead>\n",
              "  <tbody>\n",
              "    <tr>\n",
              "      <th>0</th>\n",
              "      <td>0</td>\n",
              "      <td>26</td>\n",
              "      <td>MALE</td>\n",
              "      <td>CLEAR</td>\n",
              "      <td>DAYLIGHT</td>\n",
              "      <td>DRY</td>\n",
              "      <td>PASSENGER CAR, 2-DOOR</td>\n",
              "      <td>SHOULDER &amp; LAP BELT</td>\n",
              "      <td>Not Applicable</td>\n",
              "      <td>MOTOR VEHICLE IN TRANSPORT</td>\n",
              "      <td>0</td>\n",
              "      <td>-1</td>\n",
              "      <td>STRAIGHT, LEVEL</td>\n",
              "      <td>33</td>\n",
              "      <td>1</td>\n",
              "      <td>3</td>\n",
              "      <td>3</td>\n",
              "      <td>SAME DIRECTION</td>\n",
              "      <td>ONE STRAIGHT-ONE LEFT TURN</td>\n",
              "    </tr>\n",
              "    <tr>\n",
              "      <th>1</th>\n",
              "      <td>0</td>\n",
              "      <td>52</td>\n",
              "      <td>MALE</td>\n",
              "      <td>CLEAR</td>\n",
              "      <td>DAYLIGHT</td>\n",
              "      <td>DRY</td>\n",
              "      <td>PASSENGER CAR, 2-DOOR</td>\n",
              "      <td>SHOULDER &amp; LAP BELT</td>\n",
              "      <td>Not Applicable</td>\n",
              "      <td>MOTOR VEHICLE IN TRANSPORT</td>\n",
              "      <td>0</td>\n",
              "      <td>-1</td>\n",
              "      <td>STRAIGHT, LEVEL</td>\n",
              "      <td>19</td>\n",
              "      <td>1</td>\n",
              "      <td>3</td>\n",
              "      <td>3</td>\n",
              "      <td>SAME DIRECTION</td>\n",
              "      <td>ONE STRAIGHT-ONE LEFT TURN</td>\n",
              "    </tr>\n",
              "    <tr>\n",
              "      <th>2</th>\n",
              "      <td>0</td>\n",
              "      <td>27</td>\n",
              "      <td>FEMALE</td>\n",
              "      <td>CLEAR</td>\n",
              "      <td>DAYLIGHT</td>\n",
              "      <td>DRY</td>\n",
              "      <td>PICKUP</td>\n",
              "      <td>SHOULDER &amp; LAP BELT</td>\n",
              "      <td>Not Applicable</td>\n",
              "      <td>MOTOR VEHICLE IN TRANSPORT</td>\n",
              "      <td>1</td>\n",
              "      <td>-1</td>\n",
              "      <td>CURVE, LEVEL</td>\n",
              "      <td>16</td>\n",
              "      <td>1</td>\n",
              "      <td>3</td>\n",
              "      <td>4</td>\n",
              "      <td>SAME DIRECTION</td>\n",
              "      <td>BOTH LEFT TURN</td>\n",
              "    </tr>\n",
              "  </tbody>\n",
              "</table>\n",
              "</div>"
            ],
            "text/plain": [
              "   Prsn_Injry_Sev  Prsn_Age  ...     Collsn_type                 Collsn_name\n",
              "0               0        26  ...  SAME DIRECTION  ONE STRAIGHT-ONE LEFT TURN\n",
              "1               0        52  ...  SAME DIRECTION  ONE STRAIGHT-ONE LEFT TURN\n",
              "2               0        27  ...  SAME DIRECTION              BOTH LEFT TURN\n",
              "\n",
              "[3 rows x 19 columns]"
            ]
          },
          "metadata": {
            "tags": []
          },
          "execution_count": 3
        }
      ]
    },
    {
      "cell_type": "code",
      "metadata": {
        "id": "1CDPbDPYZvoH",
        "outputId": "18157e5c-5a2b-4488-f742-aa56229fc5f6"
      },
      "source": [
        "# Let's just use 20% of the total dataset\n",
        "df, _ = train_test_split(df, test_size=0.2,stratify = df['Prsn_Injry_Sev'])\n",
        "df.shape"
      ],
      "execution_count": null,
      "outputs": [
        {
          "output_type": "execute_result",
          "data": {
            "text/plain": [
              "(683896, 19)"
            ]
          },
          "metadata": {
            "tags": []
          },
          "execution_count": 55
        }
      ]
    },
    {
      "cell_type": "code",
      "metadata": {
        "id": "FEKbv3R9ZvoH",
        "colab": {
          "base_uri": "https://localhost:8080/"
        },
        "outputId": "93e0c9e5-64e6-48c7-d0c8-84c856955b9a"
      },
      "source": [
        "y = df['Prsn_Injry_Sev']\n",
        "print('All target values:')\n",
        "print(y.value_counts())\n",
        "X = df.drop(columns=['Prsn_Injry_Sev'])"
      ],
      "execution_count": 4,
      "outputs": [
        {
          "output_type": "stream",
          "text": [
            "All target values:\n",
            "0    792558\n",
            "1    102409\n",
            "2     45242\n",
            "3      7951\n",
            "4      1696\n",
            "Name: Prsn_Injry_Sev, dtype: int64\n"
          ],
          "name": "stdout"
        }
      ]
    },
    {
      "cell_type": "code",
      "metadata": {
        "id": "AUDtEBDsZvoI",
        "colab": {
          "base_uri": "https://localhost:8080/"
        },
        "outputId": "2d72d565-8565-4284-a603-dd363ea6371c"
      },
      "source": [
        "# %% Data wrangling -------------\n",
        "# Classify variable type\n",
        "emb_vars, ind_vars, num_vars = [], [], []\n",
        "for var in X.columns:\n",
        "    if X[var].dtypes == 'O':\n",
        "        if len(X[var].unique()) > 5:\n",
        "            emb_vars.append(var)\n",
        "        else:\n",
        "            ind_vars.append(var)\n",
        "    else:\n",
        "        num_vars.append(var)\n",
        "print('Numerical variables are ', num_vars)\n",
        "print('Categorical variables that have at most 5 categories are ', ind_vars)\n",
        "print('Categorical variables that have more than 5 categories are ', emb_vars)\n",
        "\n",
        "# Create feature columns\n",
        "feature_columns = []\n",
        "# numeric cols\n",
        "for header in num_vars:\n",
        "    feature_columns.append(feature_column.numeric_column(header))\n",
        "# bucketized cols\n",
        "# age = feature_column.numeric_column('Prsn_Age')\n",
        "# age_buckets = feature_column.bucketized_column(age, boundaries=[16, 22, 35, 55, 65])\n",
        "# feature_columns.append(age_buckets)\n",
        "# indicator_columns\n",
        "for col_name in ind_vars:\n",
        "    categorical_column = feature_column.categorical_column_with_vocabulary_list(\n",
        "        col_name, X[col_name].unique())\n",
        "    indicator_column = feature_column.indicator_column(categorical_column)\n",
        "    feature_columns.append(indicator_column)\n",
        "# embedding columns\n",
        "for col_name in emb_vars:\n",
        "    emb_column = feature_column.categorical_column_with_vocabulary_list(\n",
        "        col_name, X[col_name].unique())\n",
        "    col_embedding = feature_column.embedding_column(emb_column, dimension=5)\n",
        "    feature_columns.append(col_embedding)\n",
        "\n",
        "# Convert all setup into new dataset\n",
        "feature_layer = tf.keras.layers.DenseFeatures(feature_columns)\n",
        "X = feature_layer(dict(X)).numpy()\n",
        "print('New shape of the input data set:',X.shape)"
      ],
      "execution_count": 5,
      "outputs": [
        {
          "output_type": "stream",
          "text": [
            "Numerical variables are  ['Prsn_Age', 'Rural', 'Crash_Speed_Limit', 'Veh_Mod_Year', 'Weekend', 'Crash_season', 'Part_of_day']\n",
            "Categorical variables that have at most 5 categories are  ['Prsn_Gndr', 'Prsn_Drg_Rslt', 'Collsn_type']\n",
            "Categorical variables that have more than 5 categories are  ['Wthr_Cond', 'Light_Cond', 'Surf_Cond', 'Veh_Body_Styl', 'Prsn_Rest', 'Harm_Evnt', 'Road_Algn', 'Collsn_name']\n",
            "New shape of the input data set: (949856, 59)\n"
          ],
          "name": "stdout"
        }
      ]
    },
    {
      "cell_type": "code",
      "metadata": {
        "id": "1EiMyeEfZvoJ",
        "colab": {
          "base_uri": "https://localhost:8080/"
        },
        "outputId": "d830d1b7-ebc4-49f3-a205-5922e936b22f"
      },
      "source": [
        "# %% Split the dataset\n",
        "X_train, X_test, y_train, y_test = train_test_split(X, y, test_size=0.2, stratify=y, random_state=48)\n",
        "X_train, X_val, y_train, y_val = train_test_split(X_train, y_train, test_size=0.2, stratify=y_train, random_state=48)\n",
        "\n",
        "print('Training features shape:', X_train.shape)\n",
        "print('Validation features shape:', X_val.shape)\n",
        "print('Test features shape:', X_test.shape)\n",
        "\n",
        "# %% standardization\n",
        "scaler = StandardScaler()\n",
        "X_train = scaler.fit_transform(X_train)\n",
        "X_val = scaler.transform(X_val)\n",
        "X_test = scaler.transform(X_test)"
      ],
      "execution_count": 6,
      "outputs": [
        {
          "output_type": "stream",
          "text": [
            "Training features shape: (607907, 59)\n",
            "Validation features shape: (151977, 59)\n",
            "Test features shape: (189972, 59)\n"
          ],
          "name": "stdout"
        }
      ]
    },
    {
      "cell_type": "code",
      "metadata": {
        "id": "npiMGh2TZvoK"
      },
      "source": [
        "from tensorflow.keras.layers import Dense,Dropout\n",
        "from tensorflow.keras.models import Sequential\n",
        "from tensorflow.keras.callbacks import EarlyStopping"
      ],
      "execution_count": 7,
      "outputs": []
    },
    {
      "cell_type": "code",
      "metadata": {
        "id": "w5IRiyFuZvoK"
      },
      "source": [
        "es = EarlyStopping(monitor='val_cohen_kappa',\n",
        "                   verbose=1,\n",
        "                   patience=10,\n",
        "                   mode='max',\n",
        "                   restore_best_weights=True)"
      ],
      "execution_count": 8,
      "outputs": []
    },
    {
      "cell_type": "code",
      "metadata": {
        "id": "okwfjovXZvoK"
      },
      "source": [
        "import tensorflow_addons as tfa"
      ],
      "execution_count": 9,
      "outputs": []
    },
    {
      "cell_type": "code",
      "metadata": {
        "id": "YmzSlMdDZvoK",
        "colab": {
          "base_uri": "https://localhost:8080/"
        },
        "outputId": "a8bff865-7455-4ae6-e892-4e49001d2910"
      },
      "source": [
        "# Add weights\n",
        "weights = len(y) / (5 * np.bincount(y))\n",
        "cls_wgt = dict(zip(np.arange(5), weights))\n",
        "cls_wgt"
      ],
      "execution_count": 10,
      "outputs": [
        {
          "output_type": "execute_result",
          "data": {
            "text/plain": [
              "{0: 0.23969375111979185,\n",
              " 1: 1.855024460740755,\n",
              " 2: 4.199000928340922,\n",
              " 3: 23.89274305118853,\n",
              " 4: 112.01132075471698}"
            ]
          },
          "metadata": {
            "tags": []
          },
          "execution_count": 10
        }
      ]
    },
    {
      "cell_type": "code",
      "metadata": {
        "id": "0TY-s6q5ZvoK"
      },
      "source": [
        "def create_mlp():\n",
        "    MLP = Sequential([Dense(10,\n",
        "                           activation='relu',\n",
        "                           input_dim=X_train.shape[1]\n",
        "                           ),\n",
        "                      Dropout(0.5),\n",
        "                      Dense(5, activation='softmax')])\n",
        "    MLP.compile(optimizer='adam',\n",
        "                loss=tf.keras.losses.SparseCategoricalCrossentropy(from_logits=True),\n",
        "                metrics=[tfa.metrics.CohenKappa(num_classes=5,sparse_labels=True)])\n",
        "    return MLP"
      ],
      "execution_count": 11,
      "outputs": []
    },
    {
      "cell_type": "code",
      "metadata": {
        "id": "TQtlzU3oZvoK",
        "colab": {
          "base_uri": "https://localhost:8080/"
        },
        "outputId": "98b144ab-71f9-4e4a-b9bd-7cc6676f3f00"
      },
      "source": [
        "model = create_mlp()\n",
        "start = time.time()\n",
        "monitor = model.fit(X_train, y_train.values,\n",
        "                        callbacks=[es],\n",
        "                        class_weight = cls_wgt,\n",
        "                        validation_data=(X_val, y_val),\n",
        "                        verbose=1, epochs=2)\n",
        "end = time.time()\n"
      ],
      "execution_count": 12,
      "outputs": [
        {
          "output_type": "stream",
          "text": [
            "Epoch 1/2\n",
            "18998/18998 [==============================] - 29s 2ms/step - loss: 1.5219 - cohen_kappa: 0.0549 - val_loss: 1.4189 - val_cohen_kappa: 0.0843\n",
            "Epoch 2/2\n",
            "18998/18998 [==============================] - 29s 2ms/step - loss: 1.4899 - cohen_kappa: 0.0649 - val_loss: 1.4187 - val_cohen_kappa: 0.0851\n"
          ],
          "name": "stdout"
        }
      ]
    },
    {
      "cell_type": "code",
      "metadata": {
        "jupyter": {
          "source_hidden": true
        },
        "id": "50hzn9ulZvoL"
      },
      "source": [
        "# %% Function to compare the prediction and true labels\n",
        "def get_accs(label, prediction, show=True):\n",
        "    cm = confusion_matrix(label, prediction)\n",
        "    length = cm.shape[0]\n",
        "    num_cases = len(label)\n",
        "    # global accuracy\n",
        "    glb_acc = np.trace(cm) / len(label)\n",
        "    ind_accs = cm / np.sum(cm, axis=1)[:, np.newaxis]\n",
        "    accs = [ind_accs[i, i] for i in range(length)]\n",
        "    index = ['Class {}'.format(i) for i in range(length)]\n",
        "    # Global accuracy\n",
        "    accs.append(glb_acc)\n",
        "    index.append('Overall Accuracy')\n",
        "    # G-mean\n",
        "    accs.append(geometric_mean_score(label, prediction, correction=0.001))\n",
        "    index.append('G-mean')\n",
        "    # Average perf\n",
        "    accs.append((glb_acc + accs[-1]) / 2)\n",
        "    index.append('Avg_Pfm')\n",
        "    if show:\n",
        "        plt.figure(figsize=(14, 6))\n",
        "        plt.subplot(1, 2, 1)\n",
        "        sns.heatmap(cm, xticklabels=np.arange(length), yticklabels=np.arange(length),\n",
        "                    annot=True, fmt='g', cmap=\"YlGnBu\")\n",
        "        plt.xlabel('Prediction')\n",
        "        plt.ylabel('Label')\n",
        "        plt.title('Confusion matrix')\n",
        "        plt.subplot(1, 2, 2)\n",
        "        sns.heatmap(ind_accs * 100, xticklabels=np.arange(length), yticklabels=np.arange(length),\n",
        "                    annot=True, fmt='.2f', cmap=\"YlGnBu\")\n",
        "        plt.xlabel('Prediction')\n",
        "        plt.ylabel('Label')\n",
        "        plt.title('Normalized confusion matrix (%)')\n",
        "        plt.show()\n",
        "    out = np.array(accs).reshape(1, len(accs))\n",
        "    return pd.DataFrame(out, columns=index)\n"
      ],
      "execution_count": null,
      "outputs": []
    },
    {
      "cell_type": "code",
      "metadata": {
        "id": "GtuGulyVZvoL"
      },
      "source": [
        "# %% Function to compare the prediction and true labels\n",
        "def get_accs(label, prediction, show=True):\n",
        "    cm = confusion_matrix(label, prediction)\n",
        "    length = cm.shape[0]\n",
        "    num_cases = len(label)\n",
        "    # global accuracy\n",
        "    glb_acc = np.trace(cm) / len(label)\n",
        "    ind_accs = cm / np.sum(cm, axis=1)[:, np.newaxis]\n",
        "    accs = [ind_accs[i, i] for i in range(length)]\n",
        "    index = ['Class {}'.format(i) for i in range(length)]\n",
        "    # Global accuracy\n",
        "    accs.append(glb_acc)\n",
        "    index.append('Overall Accuracy')\n",
        "    # G-mean\n",
        "    accs.append(geometric_mean_score(label, prediction, correction=0.001))\n",
        "    index.append('G-mean')\n",
        "    # Average perf\n",
        "    accs.append((glb_acc + accs[-1]) / 2)\n",
        "    index.append('Avg_Pfm')\n",
        "    if show:\n",
        "        plt.figure(figsize=(14, 6))\n",
        "        plt.subplot(1, 2, 1)\n",
        "        sns.heatmap(cm, xticklabels=np.arange(length), yticklabels=np.arange(length),\n",
        "                    annot=True, fmt='g', cmap=\"YlGnBu\")\n",
        "        plt.xlabel('Prediction')\n",
        "        plt.ylabel('Label')\n",
        "        plt.title('Confusion matrix')\n",
        "        plt.subplot(1, 2, 2)\n",
        "        sns.heatmap(ind_accs * 100, xticklabels=np.arange(length), yticklabels=np.arange(length),\n",
        "                    annot=True, fmt='.2f', cmap=\"YlGnBu\")\n",
        "        plt.xlabel('Prediction')\n",
        "        plt.ylabel('Label')\n",
        "        plt.title('Normalized confusion matrix (%)')\n",
        "        plt.show()\n",
        "    out = np.array(accs).reshape(1, len(accs))\n",
        "    return pd.DataFrame(out, columns=index)\n",
        "# %% Produce an evaluation on the MLP model\n",
        "\n",
        "def evaluation(model, monitor, time, name):\n",
        "    # use the model to make predictions with the test data\n",
        "    y_pred = model.predict(X_test)\n",
        "    y_pred = np.argmax(y_pred, axis=1)\n",
        "    # Show evolution of the training process\n",
        "    #show_evolution(monitor)\n",
        "    # get the evaluation metrics\n",
        "    result = get_accs(y_test.values, y_pred, False)\n",
        "    result['Training Time'] = np.round(time, 3)\n",
        "    result.index = [name]\n",
        "    return result"
      ],
      "execution_count": null,
      "outputs": []
    },
    {
      "cell_type": "code",
      "metadata": {
        "id": "aPVcZxEwZvoL",
        "outputId": "f7984790-30ce-4836-a637-6eb2f9a0ef24"
      },
      "source": [
        "\n",
        "evaluation(model, monitor, end - start, 'test')"
      ],
      "execution_count": null,
      "outputs": [
        {
          "output_type": "execute_result",
          "data": {
            "text/html": [
              "<div>\n",
              "<style scoped>\n",
              "    .dataframe tbody tr th:only-of-type {\n",
              "        vertical-align: middle;\n",
              "    }\n",
              "\n",
              "    .dataframe tbody tr th {\n",
              "        vertical-align: top;\n",
              "    }\n",
              "\n",
              "    .dataframe thead th {\n",
              "        text-align: right;\n",
              "    }\n",
              "</style>\n",
              "<table border=\"1\" class=\"dataframe\">\n",
              "  <thead>\n",
              "    <tr style=\"text-align: right;\">\n",
              "      <th></th>\n",
              "      <th>Class 0</th>\n",
              "      <th>Class 1</th>\n",
              "      <th>Class 2</th>\n",
              "      <th>Class 3</th>\n",
              "      <th>Class 4</th>\n",
              "      <th>Overall Accuracy</th>\n",
              "      <th>G-mean</th>\n",
              "      <th>Avg_Pfm</th>\n",
              "      <th>Training Time</th>\n",
              "    </tr>\n",
              "  </thead>\n",
              "  <tbody>\n",
              "    <tr>\n",
              "      <th>test</th>\n",
              "      <td>0.560848</td>\n",
              "      <td>0.365723</td>\n",
              "      <td>0.044199</td>\n",
              "      <td>0.345912</td>\n",
              "      <td>0.470588</td>\n",
              "      <td>0.513239</td>\n",
              "      <td>0.271521</td>\n",
              "      <td>0.39238</td>\n",
              "      <td>12.921</td>\n",
              "    </tr>\n",
              "  </tbody>\n",
              "</table>\n",
              "</div>"
            ],
            "text/plain": [
              "       Class 0   Class 1   Class 2   Class 3   Class 4  Overall Accuracy  \\\n",
              "test  0.560848  0.365723  0.044199  0.345912  0.470588          0.513239   \n",
              "\n",
              "        G-mean  Avg_Pfm  Training Time  \n",
              "test  0.271521  0.39238         12.921  "
            ]
          },
          "metadata": {
            "tags": []
          },
          "execution_count": 39
        }
      ]
    },
    {
      "cell_type": "code",
      "metadata": {
        "id": "UDv2Pn6sZvoL"
      },
      "source": [
        "cls_wgt='balanced'\n",
        "LR = LogisticRegression(solver = 'lbfgs',class_weight=cls_wgt)\n",
        "DT = DecisionTreeClassifier(class_weight=cls_wgt)\n",
        "RF = RandomForestClassifier(max_depth=4,class_weight=cls_wgt)\n",
        "#GNB = GaussianNB()\n",
        "#CNB = ComplementNB()\n",
        "#SGD = SGDClassifier(loss=\"hinge\", penalty=\"l2\", max_iter=5,class_weight=cls_wgt)\n",
        "\n",
        "clfs = [LR,DT,RF]\n",
        "clf_names = ['LR','DT','RF']\n",
        "rsts = pd.DataFrame()\n",
        "for model, name in zip(clfs,clf_names):\n",
        "    start = time.time()\n",
        "    print(name)\n",
        "    model.fit(X_train, y_train.values)\n",
        "    # use the model to make predictions with the test data\n",
        "    y_pred = model.predict(X_test)\n",
        "    end= time.time()\n",
        "    # get the evaluation metrics\n",
        "    result = get_accs(y_test.values,y_pred,True)\n",
        "    result['Training Time'] = np.round(end-start,3)\n",
        "    result.index = [name]\n",
        "    rsts = rsts.append(result)\n",
        "rsts"
      ],
      "execution_count": null,
      "outputs": []
    },
    {
      "cell_type": "code",
      "metadata": {
        "id": "sAyBH8IPZ3RZ"
      },
      "source": [
        ""
      ],
      "execution_count": null,
      "outputs": []
    }
  ]
}