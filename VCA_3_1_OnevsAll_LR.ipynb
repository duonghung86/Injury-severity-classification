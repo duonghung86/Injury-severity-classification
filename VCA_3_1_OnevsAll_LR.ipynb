{
 "cells": [
  {
   "cell_type": "markdown",
   "metadata": {
    "colab_type": "text",
    "id": "view-in-github"
   },
   "source": [
    "<a href=\"https://colab.research.google.com/github/duonghung86/Injury-severity-classification/blob/main/VCA_2_1_Simple_clfs_weights.ipynb\" target=\"_parent\"><img src=\"https://colab.research.google.com/assets/colab-badge.svg\" alt=\"Open In Colab\"/></a>"
   ]
  },
  {
   "cell_type": "code",
   "execution_count": 2,
   "metadata": {
    "ExecuteTime": {
     "end_time": "2020-05-22T16:58:50.479838Z",
     "start_time": "2020-05-22T16:58:42.773756Z"
    },
    "id": "1QxOQkOlJ1S_"
   },
   "outputs": [],
   "source": [
    "# Basic packages\n",
    "import matplotlib.pyplot as plt\n",
    "import numpy as np\n",
    "import pandas as pd\n",
    "import tensorflow as tf\n",
    "from tensorflow import keras\n",
    "import time\n",
    "import seaborn as sns"
   ]
  },
  {
   "cell_type": "markdown",
   "metadata": {
    "id": "Cq34ehtsJ1Th"
   },
   "source": [
    "# Import dataset"
   ]
  },
  {
   "cell_type": "code",
   "execution_count": 3,
   "metadata": {
    "ExecuteTime": {
     "end_time": "2020-05-22T16:58:50.489267Z",
     "start_time": "2020-05-22T16:58:50.483277Z"
    },
    "colab": {
     "base_uri": "https://localhost:8080/",
     "height": 1000
    },
    "id": "zIfnkmMfKLN-",
    "outputId": "1f42e661-d349-448d-d90f-3c470e07de07"
   },
   "outputs": [
    {
     "name": "stdout",
     "output_type": "stream",
     "text": [
      "<class 'pandas.core.frame.DataFrame'>\n",
      "RangeIndex: 949856 entries, 0 to 949855\n",
      "Data columns (total 19 columns):\n",
      " #   Column             Non-Null Count   Dtype \n",
      "---  ------             --------------   ----- \n",
      " 0   Prsn_Injry_Sev     949856 non-null  int64 \n",
      " 1   Prsn_Age           949856 non-null  int64 \n",
      " 2   Prsn_Gndr          949856 non-null  object\n",
      " 3   Wthr_Cond          949856 non-null  object\n",
      " 4   Light_Cond         949856 non-null  object\n",
      " 5   Surf_Cond          949856 non-null  object\n",
      " 6   Veh_Body_Styl      949856 non-null  object\n",
      " 7   Prsn_Rest          949856 non-null  object\n",
      " 8   Prsn_Drg_Rslt      949856 non-null  object\n",
      " 9   Harm_Evnt          949856 non-null  object\n",
      " 10  Rural              949856 non-null  int64 \n",
      " 11  Crash_Speed_Limit  949856 non-null  int64 \n",
      " 12  Road_Algn          949856 non-null  object\n",
      " 13  Veh_Mod_Year       949856 non-null  int64 \n",
      " 14  Weekend            949856 non-null  int64 \n",
      " 15  Crash_season       949856 non-null  int64 \n",
      " 16  Part_of_day        949856 non-null  int64 \n",
      " 17  Collsn_type        949856 non-null  object\n",
      " 18  Collsn_name        949856 non-null  object\n",
      "dtypes: int64(8), object(11)\n",
      "memory usage: 137.7+ MB\n"
     ]
    },
    {
     "data": {
      "text/html": [
       "<div>\n",
       "<style scoped>\n",
       "    .dataframe tbody tr th:only-of-type {\n",
       "        vertical-align: middle;\n",
       "    }\n",
       "\n",
       "    .dataframe tbody tr th {\n",
       "        vertical-align: top;\n",
       "    }\n",
       "\n",
       "    .dataframe thead th {\n",
       "        text-align: right;\n",
       "    }\n",
       "</style>\n",
       "<table border=\"1\" class=\"dataframe\">\n",
       "  <thead>\n",
       "    <tr style=\"text-align: right;\">\n",
       "      <th></th>\n",
       "      <th>Prsn_Injry_Sev</th>\n",
       "      <th>Prsn_Age</th>\n",
       "      <th>Prsn_Gndr</th>\n",
       "      <th>Wthr_Cond</th>\n",
       "      <th>Light_Cond</th>\n",
       "      <th>Surf_Cond</th>\n",
       "      <th>Veh_Body_Styl</th>\n",
       "      <th>Prsn_Rest</th>\n",
       "      <th>Prsn_Drg_Rslt</th>\n",
       "      <th>Harm_Evnt</th>\n",
       "      <th>Rural</th>\n",
       "      <th>Crash_Speed_Limit</th>\n",
       "      <th>Road_Algn</th>\n",
       "      <th>Veh_Mod_Year</th>\n",
       "      <th>Weekend</th>\n",
       "      <th>Crash_season</th>\n",
       "      <th>Part_of_day</th>\n",
       "      <th>Collsn_type</th>\n",
       "      <th>Collsn_name</th>\n",
       "    </tr>\n",
       "  </thead>\n",
       "  <tbody>\n",
       "    <tr>\n",
       "      <th>0</th>\n",
       "      <td>0</td>\n",
       "      <td>26</td>\n",
       "      <td>MALE</td>\n",
       "      <td>CLEAR</td>\n",
       "      <td>DAYLIGHT</td>\n",
       "      <td>DRY</td>\n",
       "      <td>PASSENGER CAR, 2-DOOR</td>\n",
       "      <td>SHOULDER &amp; LAP BELT</td>\n",
       "      <td>Not Applicable</td>\n",
       "      <td>MOTOR VEHICLE IN TRANSPORT</td>\n",
       "      <td>0</td>\n",
       "      <td>-1</td>\n",
       "      <td>STRAIGHT, LEVEL</td>\n",
       "      <td>33</td>\n",
       "      <td>1</td>\n",
       "      <td>3</td>\n",
       "      <td>3</td>\n",
       "      <td>SAME DIRECTION</td>\n",
       "      <td>ONE STRAIGHT-ONE LEFT TURN</td>\n",
       "    </tr>\n",
       "    <tr>\n",
       "      <th>1</th>\n",
       "      <td>0</td>\n",
       "      <td>52</td>\n",
       "      <td>MALE</td>\n",
       "      <td>CLEAR</td>\n",
       "      <td>DAYLIGHT</td>\n",
       "      <td>DRY</td>\n",
       "      <td>PASSENGER CAR, 2-DOOR</td>\n",
       "      <td>SHOULDER &amp; LAP BELT</td>\n",
       "      <td>Not Applicable</td>\n",
       "      <td>MOTOR VEHICLE IN TRANSPORT</td>\n",
       "      <td>0</td>\n",
       "      <td>-1</td>\n",
       "      <td>STRAIGHT, LEVEL</td>\n",
       "      <td>19</td>\n",
       "      <td>1</td>\n",
       "      <td>3</td>\n",
       "      <td>3</td>\n",
       "      <td>SAME DIRECTION</td>\n",
       "      <td>ONE STRAIGHT-ONE LEFT TURN</td>\n",
       "    </tr>\n",
       "    <tr>\n",
       "      <th>2</th>\n",
       "      <td>0</td>\n",
       "      <td>27</td>\n",
       "      <td>FEMALE</td>\n",
       "      <td>CLEAR</td>\n",
       "      <td>DAYLIGHT</td>\n",
       "      <td>DRY</td>\n",
       "      <td>PICKUP</td>\n",
       "      <td>SHOULDER &amp; LAP BELT</td>\n",
       "      <td>Not Applicable</td>\n",
       "      <td>MOTOR VEHICLE IN TRANSPORT</td>\n",
       "      <td>1</td>\n",
       "      <td>-1</td>\n",
       "      <td>CURVE, LEVEL</td>\n",
       "      <td>16</td>\n",
       "      <td>1</td>\n",
       "      <td>3</td>\n",
       "      <td>4</td>\n",
       "      <td>SAME DIRECTION</td>\n",
       "      <td>BOTH LEFT TURN</td>\n",
       "    </tr>\n",
       "    <tr>\n",
       "      <th>3</th>\n",
       "      <td>0</td>\n",
       "      <td>44</td>\n",
       "      <td>MALE</td>\n",
       "      <td>CLEAR</td>\n",
       "      <td>DAYLIGHT</td>\n",
       "      <td>DRY</td>\n",
       "      <td>PICKUP</td>\n",
       "      <td>SHOULDER &amp; LAP BELT</td>\n",
       "      <td>Not Applicable</td>\n",
       "      <td>MOTOR VEHICLE IN TRANSPORT</td>\n",
       "      <td>1</td>\n",
       "      <td>-1</td>\n",
       "      <td>CURVE, LEVEL</td>\n",
       "      <td>4</td>\n",
       "      <td>1</td>\n",
       "      <td>3</td>\n",
       "      <td>4</td>\n",
       "      <td>SAME DIRECTION</td>\n",
       "      <td>BOTH LEFT TURN</td>\n",
       "    </tr>\n",
       "    <tr>\n",
       "      <th>4</th>\n",
       "      <td>0</td>\n",
       "      <td>50</td>\n",
       "      <td>FEMALE</td>\n",
       "      <td>CLEAR</td>\n",
       "      <td>DAYLIGHT</td>\n",
       "      <td>DRY</td>\n",
       "      <td>SPORT UTILITY VEHICLE</td>\n",
       "      <td>SHOULDER &amp; LAP BELT</td>\n",
       "      <td>Not Applicable</td>\n",
       "      <td>MOTOR VEHICLE IN TRANSPORT</td>\n",
       "      <td>0</td>\n",
       "      <td>-1</td>\n",
       "      <td>STRAIGHT, LEVEL</td>\n",
       "      <td>16</td>\n",
       "      <td>1</td>\n",
       "      <td>3</td>\n",
       "      <td>4</td>\n",
       "      <td>ANGLE</td>\n",
       "      <td>BOTH GOING STRAIGHT</td>\n",
       "    </tr>\n",
       "  </tbody>\n",
       "</table>\n",
       "</div>"
      ],
      "text/plain": [
       "   Prsn_Injry_Sev  Prsn_Age Prsn_Gndr Wthr_Cond Light_Cond Surf_Cond  \\\n",
       "0               0        26      MALE     CLEAR   DAYLIGHT       DRY   \n",
       "1               0        52      MALE     CLEAR   DAYLIGHT       DRY   \n",
       "2               0        27    FEMALE     CLEAR   DAYLIGHT       DRY   \n",
       "3               0        44      MALE     CLEAR   DAYLIGHT       DRY   \n",
       "4               0        50    FEMALE     CLEAR   DAYLIGHT       DRY   \n",
       "\n",
       "           Veh_Body_Styl            Prsn_Rest   Prsn_Drg_Rslt  \\\n",
       "0  PASSENGER CAR, 2-DOOR  SHOULDER & LAP BELT  Not Applicable   \n",
       "1  PASSENGER CAR, 2-DOOR  SHOULDER & LAP BELT  Not Applicable   \n",
       "2                 PICKUP  SHOULDER & LAP BELT  Not Applicable   \n",
       "3                 PICKUP  SHOULDER & LAP BELT  Not Applicable   \n",
       "4  SPORT UTILITY VEHICLE  SHOULDER & LAP BELT  Not Applicable   \n",
       "\n",
       "                    Harm_Evnt  Rural  Crash_Speed_Limit        Road_Algn  \\\n",
       "0  MOTOR VEHICLE IN TRANSPORT      0                 -1  STRAIGHT, LEVEL   \n",
       "1  MOTOR VEHICLE IN TRANSPORT      0                 -1  STRAIGHT, LEVEL   \n",
       "2  MOTOR VEHICLE IN TRANSPORT      1                 -1     CURVE, LEVEL   \n",
       "3  MOTOR VEHICLE IN TRANSPORT      1                 -1     CURVE, LEVEL   \n",
       "4  MOTOR VEHICLE IN TRANSPORT      0                 -1  STRAIGHT, LEVEL   \n",
       "\n",
       "   Veh_Mod_Year  Weekend  Crash_season  Part_of_day     Collsn_type  \\\n",
       "0            33        1             3            3  SAME DIRECTION   \n",
       "1            19        1             3            3  SAME DIRECTION   \n",
       "2            16        1             3            4  SAME DIRECTION   \n",
       "3             4        1             3            4  SAME DIRECTION   \n",
       "4            16        1             3            4           ANGLE   \n",
       "\n",
       "                  Collsn_name  \n",
       "0  ONE STRAIGHT-ONE LEFT TURN  \n",
       "1  ONE STRAIGHT-ONE LEFT TURN  \n",
       "2              BOTH LEFT TURN  \n",
       "3              BOTH LEFT TURN  \n",
       "4         BOTH GOING STRAIGHT  "
      ]
     },
     "execution_count": 3,
     "metadata": {},
     "output_type": "execute_result"
    }
   ],
   "source": [
    "df = pd.read_csv('Prepared Texas 2019.csv')\n",
    "df.info()\n",
    "df.head()"
   ]
  },
  {
   "cell_type": "code",
   "execution_count": 4,
   "metadata": {
    "ExecuteTime": {
     "end_time": "2020-05-22T16:59:01.505031Z",
     "start_time": "2020-05-22T16:59:01.492554Z"
    },
    "colab": {
     "base_uri": "https://localhost:8080/",
     "height": 118
    },
    "id": "0yIHRk4sJ1Tx",
    "outputId": "e170279b-63ea-49e2-edba-f9a9981a2755"
   },
   "outputs": [
    {
     "data": {
      "text/plain": [
       "0    792558\n",
       "1    102409\n",
       "2     45242\n",
       "3      7951\n",
       "4      1696\n",
       "Name: Prsn_Injry_Sev, dtype: int64"
      ]
     },
     "execution_count": 4,
     "metadata": {},
     "output_type": "execute_result"
    }
   ],
   "source": [
    "y=df['Prsn_Injry_Sev']\n",
    "y.value_counts()"
   ]
  },
  {
   "cell_type": "code",
   "execution_count": 5,
   "metadata": {
    "colab": {
     "base_uri": "https://localhost:8080/",
     "height": 119
    },
    "id": "Sa4PsAGvsUJy",
    "outputId": "d3709cf5-57d3-48f8-b811-761e0527c588"
   },
   "outputs": [
    {
     "data": {
      "text/plain": [
       "0    0.834398\n",
       "1    0.107815\n",
       "2    0.047630\n",
       "3    0.008371\n",
       "4    0.001786\n",
       "Name: Prsn_Injry_Sev, dtype: float64"
      ]
     },
     "execution_count": 5,
     "metadata": {},
     "output_type": "execute_result"
    }
   ],
   "source": [
    "y.value_counts()/len(y)"
   ]
  },
  {
   "cell_type": "code",
   "execution_count": 6,
   "metadata": {
    "colab": {
     "base_uri": "https://localhost:8080/",
     "height": 34
    },
    "id": "e--sth53sUJ2",
    "outputId": "51eae0b9-0632-4b51-d538-3215c42af9c8"
   },
   "outputs": [
    {
     "data": {
      "text/plain": [
       "(949856, 18)"
      ]
     },
     "execution_count": 6,
     "metadata": {},
     "output_type": "execute_result"
    }
   ],
   "source": [
    "X = df.drop(columns=['Prsn_Injry_Sev'])\n",
    "X.shape"
   ]
  },
  {
   "cell_type": "code",
   "execution_count": 7,
   "metadata": {},
   "outputs": [],
   "source": [
    "feats = X.columns"
   ]
  },
  {
   "cell_type": "code",
   "execution_count": 8,
   "metadata": {},
   "outputs": [
    {
     "data": {
      "text/plain": [
       "array(['Prsn_Gndr', 'Wthr_Cond', 'Light_Cond', 'Surf_Cond',\n",
       "       'Veh_Body_Styl', 'Prsn_Rest', 'Prsn_Drg_Rslt', 'Harm_Evnt',\n",
       "       'Road_Algn', 'Collsn_type', 'Collsn_name'], dtype=object)"
      ]
     },
     "execution_count": 8,
     "metadata": {},
     "output_type": "execute_result"
    }
   ],
   "source": [
    "cate_vars = df.dtypes[df.dtypes=='O'].index.values\n",
    "cate_vars"
   ]
  },
  {
   "cell_type": "code",
   "execution_count": 9,
   "metadata": {},
   "outputs": [],
   "source": [
    "from sklearn.preprocessing import OneHotEncoder"
   ]
  },
  {
   "cell_type": "code",
   "execution_count": 10,
   "metadata": {},
   "outputs": [
    {
     "data": {
      "text/html": [
       "<div>\n",
       "<style scoped>\n",
       "    .dataframe tbody tr th:only-of-type {\n",
       "        vertical-align: middle;\n",
       "    }\n",
       "\n",
       "    .dataframe tbody tr th {\n",
       "        vertical-align: top;\n",
       "    }\n",
       "\n",
       "    .dataframe thead th {\n",
       "        text-align: right;\n",
       "    }\n",
       "</style>\n",
       "<table border=\"1\" class=\"dataframe\">\n",
       "  <thead>\n",
       "    <tr style=\"text-align: right;\">\n",
       "      <th></th>\n",
       "      <th>Prsn_Age</th>\n",
       "      <th>Prsn_Gndr</th>\n",
       "      <th>Wthr_Cond</th>\n",
       "      <th>Light_Cond</th>\n",
       "      <th>Surf_Cond</th>\n",
       "      <th>Veh_Body_Styl</th>\n",
       "      <th>Prsn_Rest</th>\n",
       "      <th>Prsn_Drg_Rslt</th>\n",
       "      <th>Harm_Evnt</th>\n",
       "      <th>Rural</th>\n",
       "      <th>Crash_Speed_Limit</th>\n",
       "      <th>Road_Algn</th>\n",
       "      <th>Veh_Mod_Year</th>\n",
       "      <th>Weekend</th>\n",
       "      <th>Crash_season</th>\n",
       "      <th>Part_of_day</th>\n",
       "      <th>Collsn_type</th>\n",
       "      <th>Collsn_name</th>\n",
       "    </tr>\n",
       "  </thead>\n",
       "  <tbody>\n",
       "    <tr>\n",
       "      <th>0</th>\n",
       "      <td>26</td>\n",
       "      <td>MALE</td>\n",
       "      <td>CLEAR</td>\n",
       "      <td>DAYLIGHT</td>\n",
       "      <td>DRY</td>\n",
       "      <td>PASSENGER CAR, 2-DOOR</td>\n",
       "      <td>SHOULDER &amp; LAP BELT</td>\n",
       "      <td>Not Applicable</td>\n",
       "      <td>MOTOR VEHICLE IN TRANSPORT</td>\n",
       "      <td>0</td>\n",
       "      <td>-1</td>\n",
       "      <td>STRAIGHT, LEVEL</td>\n",
       "      <td>33</td>\n",
       "      <td>1</td>\n",
       "      <td>3</td>\n",
       "      <td>3</td>\n",
       "      <td>SAME DIRECTION</td>\n",
       "      <td>ONE STRAIGHT-ONE LEFT TURN</td>\n",
       "    </tr>\n",
       "    <tr>\n",
       "      <th>1</th>\n",
       "      <td>52</td>\n",
       "      <td>MALE</td>\n",
       "      <td>CLEAR</td>\n",
       "      <td>DAYLIGHT</td>\n",
       "      <td>DRY</td>\n",
       "      <td>PASSENGER CAR, 2-DOOR</td>\n",
       "      <td>SHOULDER &amp; LAP BELT</td>\n",
       "      <td>Not Applicable</td>\n",
       "      <td>MOTOR VEHICLE IN TRANSPORT</td>\n",
       "      <td>0</td>\n",
       "      <td>-1</td>\n",
       "      <td>STRAIGHT, LEVEL</td>\n",
       "      <td>19</td>\n",
       "      <td>1</td>\n",
       "      <td>3</td>\n",
       "      <td>3</td>\n",
       "      <td>SAME DIRECTION</td>\n",
       "      <td>ONE STRAIGHT-ONE LEFT TURN</td>\n",
       "    </tr>\n",
       "    <tr>\n",
       "      <th>2</th>\n",
       "      <td>27</td>\n",
       "      <td>FEMALE</td>\n",
       "      <td>CLEAR</td>\n",
       "      <td>DAYLIGHT</td>\n",
       "      <td>DRY</td>\n",
       "      <td>PICKUP</td>\n",
       "      <td>SHOULDER &amp; LAP BELT</td>\n",
       "      <td>Not Applicable</td>\n",
       "      <td>MOTOR VEHICLE IN TRANSPORT</td>\n",
       "      <td>1</td>\n",
       "      <td>-1</td>\n",
       "      <td>CURVE, LEVEL</td>\n",
       "      <td>16</td>\n",
       "      <td>1</td>\n",
       "      <td>3</td>\n",
       "      <td>4</td>\n",
       "      <td>SAME DIRECTION</td>\n",
       "      <td>BOTH LEFT TURN</td>\n",
       "    </tr>\n",
       "    <tr>\n",
       "      <th>3</th>\n",
       "      <td>44</td>\n",
       "      <td>MALE</td>\n",
       "      <td>CLEAR</td>\n",
       "      <td>DAYLIGHT</td>\n",
       "      <td>DRY</td>\n",
       "      <td>PICKUP</td>\n",
       "      <td>SHOULDER &amp; LAP BELT</td>\n",
       "      <td>Not Applicable</td>\n",
       "      <td>MOTOR VEHICLE IN TRANSPORT</td>\n",
       "      <td>1</td>\n",
       "      <td>-1</td>\n",
       "      <td>CURVE, LEVEL</td>\n",
       "      <td>4</td>\n",
       "      <td>1</td>\n",
       "      <td>3</td>\n",
       "      <td>4</td>\n",
       "      <td>SAME DIRECTION</td>\n",
       "      <td>BOTH LEFT TURN</td>\n",
       "    </tr>\n",
       "    <tr>\n",
       "      <th>4</th>\n",
       "      <td>50</td>\n",
       "      <td>FEMALE</td>\n",
       "      <td>CLEAR</td>\n",
       "      <td>DAYLIGHT</td>\n",
       "      <td>DRY</td>\n",
       "      <td>SPORT UTILITY VEHICLE</td>\n",
       "      <td>SHOULDER &amp; LAP BELT</td>\n",
       "      <td>Not Applicable</td>\n",
       "      <td>MOTOR VEHICLE IN TRANSPORT</td>\n",
       "      <td>0</td>\n",
       "      <td>-1</td>\n",
       "      <td>STRAIGHT, LEVEL</td>\n",
       "      <td>16</td>\n",
       "      <td>1</td>\n",
       "      <td>3</td>\n",
       "      <td>4</td>\n",
       "      <td>ANGLE</td>\n",
       "      <td>BOTH GOING STRAIGHT</td>\n",
       "    </tr>\n",
       "  </tbody>\n",
       "</table>\n",
       "</div>"
      ],
      "text/plain": [
       "   Prsn_Age Prsn_Gndr Wthr_Cond Light_Cond Surf_Cond          Veh_Body_Styl  \\\n",
       "0        26      MALE     CLEAR   DAYLIGHT       DRY  PASSENGER CAR, 2-DOOR   \n",
       "1        52      MALE     CLEAR   DAYLIGHT       DRY  PASSENGER CAR, 2-DOOR   \n",
       "2        27    FEMALE     CLEAR   DAYLIGHT       DRY                 PICKUP   \n",
       "3        44      MALE     CLEAR   DAYLIGHT       DRY                 PICKUP   \n",
       "4        50    FEMALE     CLEAR   DAYLIGHT       DRY  SPORT UTILITY VEHICLE   \n",
       "\n",
       "             Prsn_Rest   Prsn_Drg_Rslt                   Harm_Evnt  Rural  \\\n",
       "0  SHOULDER & LAP BELT  Not Applicable  MOTOR VEHICLE IN TRANSPORT      0   \n",
       "1  SHOULDER & LAP BELT  Not Applicable  MOTOR VEHICLE IN TRANSPORT      0   \n",
       "2  SHOULDER & LAP BELT  Not Applicable  MOTOR VEHICLE IN TRANSPORT      1   \n",
       "3  SHOULDER & LAP BELT  Not Applicable  MOTOR VEHICLE IN TRANSPORT      1   \n",
       "4  SHOULDER & LAP BELT  Not Applicable  MOTOR VEHICLE IN TRANSPORT      0   \n",
       "\n",
       "   Crash_Speed_Limit        Road_Algn  Veh_Mod_Year  Weekend  Crash_season  \\\n",
       "0                 -1  STRAIGHT, LEVEL            33        1             3   \n",
       "1                 -1  STRAIGHT, LEVEL            19        1             3   \n",
       "2                 -1     CURVE, LEVEL            16        1             3   \n",
       "3                 -1     CURVE, LEVEL             4        1             3   \n",
       "4                 -1  STRAIGHT, LEVEL            16        1             3   \n",
       "\n",
       "   Part_of_day     Collsn_type                 Collsn_name  \n",
       "0            3  SAME DIRECTION  ONE STRAIGHT-ONE LEFT TURN  \n",
       "1            3  SAME DIRECTION  ONE STRAIGHT-ONE LEFT TURN  \n",
       "2            4  SAME DIRECTION              BOTH LEFT TURN  \n",
       "3            4  SAME DIRECTION              BOTH LEFT TURN  \n",
       "4            4           ANGLE         BOTH GOING STRAIGHT  "
      ]
     },
     "execution_count": 10,
     "metadata": {},
     "output_type": "execute_result"
    }
   ],
   "source": [
    "X.head()"
   ]
  },
  {
   "cell_type": "code",
   "execution_count": 11,
   "metadata": {},
   "outputs": [
    {
     "name": "stdout",
     "output_type": "stream",
     "text": [
      "(949856, 105)\n"
     ]
    },
    {
     "data": {
      "text/html": [
       "<div>\n",
       "<style scoped>\n",
       "    .dataframe tbody tr th:only-of-type {\n",
       "        vertical-align: middle;\n",
       "    }\n",
       "\n",
       "    .dataframe tbody tr th {\n",
       "        vertical-align: top;\n",
       "    }\n",
       "\n",
       "    .dataframe thead th {\n",
       "        text-align: right;\n",
       "    }\n",
       "</style>\n",
       "<table border=\"1\" class=\"dataframe\">\n",
       "  <thead>\n",
       "    <tr style=\"text-align: right;\">\n",
       "      <th></th>\n",
       "      <th>Prsn_Age</th>\n",
       "      <th>Rural</th>\n",
       "      <th>Crash_Speed_Limit</th>\n",
       "      <th>Veh_Mod_Year</th>\n",
       "      <th>Weekend</th>\n",
       "      <th>Crash_season</th>\n",
       "      <th>Part_of_day</th>\n",
       "      <th>Prsn_Gndr_MALE</th>\n",
       "      <th>Prsn_Gndr_UNKNOWN</th>\n",
       "      <th>Wthr_Cond_CLEAR</th>\n",
       "      <th>...</th>\n",
       "      <th>Collsn_name_ONE RIGHT TURN-ONE LEFT TURN</th>\n",
       "      <th>Collsn_name_ONE RIGHT TURN-ONE STOPPED</th>\n",
       "      <th>Collsn_name_ONE STRAIGHT-ONE BACKING</th>\n",
       "      <th>Collsn_name_ONE STRAIGHT-ONE ENTERING OR LEAVING PARKI</th>\n",
       "      <th>Collsn_name_ONE STRAIGHT-ONE LEFT TURN</th>\n",
       "      <th>Collsn_name_ONE STRAIGHT-ONE RIGHT TURN</th>\n",
       "      <th>Collsn_name_ONE STRAIGHT-ONE STOPPED</th>\n",
       "      <th>Collsn_name_OTHER</th>\n",
       "      <th>Collsn_name_TURNING LEFT</th>\n",
       "      <th>Collsn_name_TURNING RIGHT</th>\n",
       "    </tr>\n",
       "  </thead>\n",
       "  <tbody>\n",
       "    <tr>\n",
       "      <th>0</th>\n",
       "      <td>26</td>\n",
       "      <td>0</td>\n",
       "      <td>-1</td>\n",
       "      <td>33</td>\n",
       "      <td>1</td>\n",
       "      <td>3</td>\n",
       "      <td>3</td>\n",
       "      <td>1</td>\n",
       "      <td>0</td>\n",
       "      <td>1</td>\n",
       "      <td>...</td>\n",
       "      <td>0</td>\n",
       "      <td>0</td>\n",
       "      <td>0</td>\n",
       "      <td>0</td>\n",
       "      <td>1</td>\n",
       "      <td>0</td>\n",
       "      <td>0</td>\n",
       "      <td>0</td>\n",
       "      <td>0</td>\n",
       "      <td>0</td>\n",
       "    </tr>\n",
       "    <tr>\n",
       "      <th>1</th>\n",
       "      <td>52</td>\n",
       "      <td>0</td>\n",
       "      <td>-1</td>\n",
       "      <td>19</td>\n",
       "      <td>1</td>\n",
       "      <td>3</td>\n",
       "      <td>3</td>\n",
       "      <td>1</td>\n",
       "      <td>0</td>\n",
       "      <td>1</td>\n",
       "      <td>...</td>\n",
       "      <td>0</td>\n",
       "      <td>0</td>\n",
       "      <td>0</td>\n",
       "      <td>0</td>\n",
       "      <td>1</td>\n",
       "      <td>0</td>\n",
       "      <td>0</td>\n",
       "      <td>0</td>\n",
       "      <td>0</td>\n",
       "      <td>0</td>\n",
       "    </tr>\n",
       "    <tr>\n",
       "      <th>2</th>\n",
       "      <td>27</td>\n",
       "      <td>1</td>\n",
       "      <td>-1</td>\n",
       "      <td>16</td>\n",
       "      <td>1</td>\n",
       "      <td>3</td>\n",
       "      <td>4</td>\n",
       "      <td>0</td>\n",
       "      <td>0</td>\n",
       "      <td>1</td>\n",
       "      <td>...</td>\n",
       "      <td>0</td>\n",
       "      <td>0</td>\n",
       "      <td>0</td>\n",
       "      <td>0</td>\n",
       "      <td>0</td>\n",
       "      <td>0</td>\n",
       "      <td>0</td>\n",
       "      <td>0</td>\n",
       "      <td>0</td>\n",
       "      <td>0</td>\n",
       "    </tr>\n",
       "    <tr>\n",
       "      <th>3</th>\n",
       "      <td>44</td>\n",
       "      <td>1</td>\n",
       "      <td>-1</td>\n",
       "      <td>4</td>\n",
       "      <td>1</td>\n",
       "      <td>3</td>\n",
       "      <td>4</td>\n",
       "      <td>1</td>\n",
       "      <td>0</td>\n",
       "      <td>1</td>\n",
       "      <td>...</td>\n",
       "      <td>0</td>\n",
       "      <td>0</td>\n",
       "      <td>0</td>\n",
       "      <td>0</td>\n",
       "      <td>0</td>\n",
       "      <td>0</td>\n",
       "      <td>0</td>\n",
       "      <td>0</td>\n",
       "      <td>0</td>\n",
       "      <td>0</td>\n",
       "    </tr>\n",
       "    <tr>\n",
       "      <th>4</th>\n",
       "      <td>50</td>\n",
       "      <td>0</td>\n",
       "      <td>-1</td>\n",
       "      <td>16</td>\n",
       "      <td>1</td>\n",
       "      <td>3</td>\n",
       "      <td>4</td>\n",
       "      <td>0</td>\n",
       "      <td>0</td>\n",
       "      <td>1</td>\n",
       "      <td>...</td>\n",
       "      <td>0</td>\n",
       "      <td>0</td>\n",
       "      <td>0</td>\n",
       "      <td>0</td>\n",
       "      <td>0</td>\n",
       "      <td>0</td>\n",
       "      <td>0</td>\n",
       "      <td>0</td>\n",
       "      <td>0</td>\n",
       "      <td>0</td>\n",
       "    </tr>\n",
       "  </tbody>\n",
       "</table>\n",
       "<p>5 rows × 105 columns</p>\n",
       "</div>"
      ],
      "text/plain": [
       "   Prsn_Age  Rural  Crash_Speed_Limit  Veh_Mod_Year  Weekend  Crash_season  \\\n",
       "0        26      0                 -1            33        1             3   \n",
       "1        52      0                 -1            19        1             3   \n",
       "2        27      1                 -1            16        1             3   \n",
       "3        44      1                 -1             4        1             3   \n",
       "4        50      0                 -1            16        1             3   \n",
       "\n",
       "   Part_of_day  Prsn_Gndr_MALE  Prsn_Gndr_UNKNOWN  Wthr_Cond_CLEAR  ...  \\\n",
       "0            3               1                  0                1  ...   \n",
       "1            3               1                  0                1  ...   \n",
       "2            4               0                  0                1  ...   \n",
       "3            4               1                  0                1  ...   \n",
       "4            4               0                  0                1  ...   \n",
       "\n",
       "   Collsn_name_ONE RIGHT TURN-ONE LEFT TURN  \\\n",
       "0                                         0   \n",
       "1                                         0   \n",
       "2                                         0   \n",
       "3                                         0   \n",
       "4                                         0   \n",
       "\n",
       "   Collsn_name_ONE RIGHT TURN-ONE STOPPED  \\\n",
       "0                                       0   \n",
       "1                                       0   \n",
       "2                                       0   \n",
       "3                                       0   \n",
       "4                                       0   \n",
       "\n",
       "   Collsn_name_ONE STRAIGHT-ONE BACKING  \\\n",
       "0                                     0   \n",
       "1                                     0   \n",
       "2                                     0   \n",
       "3                                     0   \n",
       "4                                     0   \n",
       "\n",
       "   Collsn_name_ONE STRAIGHT-ONE ENTERING OR LEAVING PARKI  \\\n",
       "0                                                  0        \n",
       "1                                                  0        \n",
       "2                                                  0        \n",
       "3                                                  0        \n",
       "4                                                  0        \n",
       "\n",
       "   Collsn_name_ONE STRAIGHT-ONE LEFT TURN  \\\n",
       "0                                       1   \n",
       "1                                       1   \n",
       "2                                       0   \n",
       "3                                       0   \n",
       "4                                       0   \n",
       "\n",
       "   Collsn_name_ONE STRAIGHT-ONE RIGHT TURN  \\\n",
       "0                                        0   \n",
       "1                                        0   \n",
       "2                                        0   \n",
       "3                                        0   \n",
       "4                                        0   \n",
       "\n",
       "   Collsn_name_ONE STRAIGHT-ONE STOPPED  Collsn_name_OTHER  \\\n",
       "0                                     0                  0   \n",
       "1                                     0                  0   \n",
       "2                                     0                  0   \n",
       "3                                     0                  0   \n",
       "4                                     0                  0   \n",
       "\n",
       "   Collsn_name_TURNING LEFT  Collsn_name_TURNING RIGHT  \n",
       "0                         0                          0  \n",
       "1                         0                          0  \n",
       "2                         0                          0  \n",
       "3                         0                          0  \n",
       "4                         0                          0  \n",
       "\n",
       "[5 rows x 105 columns]"
      ]
     },
     "execution_count": 11,
     "metadata": {},
     "output_type": "execute_result"
    }
   ],
   "source": [
    "X = pd.get_dummies(X,columns=cate_vars,drop_first=1).copy()\n",
    "print(X.shape)\n",
    "X.head()"
   ]
  },
  {
   "cell_type": "code",
   "execution_count": 12,
   "metadata": {},
   "outputs": [],
   "source": [
    "# balanced ratio\n",
    "Y = pd.get_dummies(y)"
   ]
  },
  {
   "cell_type": "code",
   "execution_count": 14,
   "metadata": {},
   "outputs": [
    {
     "data": {
      "text/plain": [
       "949856"
      ]
     },
     "execution_count": 14,
     "metadata": {},
     "output_type": "execute_result"
    }
   ],
   "source": [
    "len(y)"
   ]
  },
  {
   "cell_type": "code",
   "execution_count": 17,
   "metadata": {},
   "outputs": [
    {
     "data": {
      "text/html": [
       "<div>\n",
       "<style scoped>\n",
       "    .dataframe tbody tr th:only-of-type {\n",
       "        vertical-align: middle;\n",
       "    }\n",
       "\n",
       "    .dataframe tbody tr th {\n",
       "        vertical-align: top;\n",
       "    }\n",
       "\n",
       "    .dataframe thead th {\n",
       "        text-align: right;\n",
       "    }\n",
       "</style>\n",
       "<table border=\"1\" class=\"dataframe\">\n",
       "  <thead>\n",
       "    <tr style=\"text-align: right;\">\n",
       "      <th></th>\n",
       "      <th>0</th>\n",
       "      <th>1</th>\n",
       "      <th>2</th>\n",
       "      <th>3</th>\n",
       "      <th>4</th>\n",
       "    </tr>\n",
       "  </thead>\n",
       "  <tbody>\n",
       "    <tr>\n",
       "      <th>0</th>\n",
       "      <td>1</td>\n",
       "      <td>0</td>\n",
       "      <td>0</td>\n",
       "      <td>0</td>\n",
       "      <td>0</td>\n",
       "    </tr>\n",
       "    <tr>\n",
       "      <th>1</th>\n",
       "      <td>1</td>\n",
       "      <td>0</td>\n",
       "      <td>0</td>\n",
       "      <td>0</td>\n",
       "      <td>0</td>\n",
       "    </tr>\n",
       "    <tr>\n",
       "      <th>2</th>\n",
       "      <td>1</td>\n",
       "      <td>0</td>\n",
       "      <td>0</td>\n",
       "      <td>0</td>\n",
       "      <td>0</td>\n",
       "    </tr>\n",
       "    <tr>\n",
       "      <th>3</th>\n",
       "      <td>1</td>\n",
       "      <td>0</td>\n",
       "      <td>0</td>\n",
       "      <td>0</td>\n",
       "      <td>0</td>\n",
       "    </tr>\n",
       "    <tr>\n",
       "      <th>4</th>\n",
       "      <td>1</td>\n",
       "      <td>0</td>\n",
       "      <td>0</td>\n",
       "      <td>0</td>\n",
       "      <td>0</td>\n",
       "    </tr>\n",
       "  </tbody>\n",
       "</table>\n",
       "</div>"
      ],
      "text/plain": [
       "   0  1  2  3  4\n",
       "0  1  0  0  0  0\n",
       "1  1  0  0  0  0\n",
       "2  1  0  0  0  0\n",
       "3  1  0  0  0  0\n",
       "4  1  0  0  0  0"
      ]
     },
     "execution_count": 17,
     "metadata": {},
     "output_type": "execute_result"
    }
   ],
   "source": [
    "Y.head()"
   ]
  },
  {
   "cell_type": "code",
   "execution_count": null,
   "metadata": {},
   "outputs": [],
   "source": [
    "np.max(np.bincount(y))/np.min(np.bincount(Y.values[:,i]))"
   ]
  },
  {
   "cell_type": "code",
   "execution_count": 18,
   "metadata": {},
   "outputs": [
    {
     "data": {
      "text/plain": [
       "array([847447, 102409], dtype=int64)"
      ]
     },
     "execution_count": 18,
     "metadata": {},
     "output_type": "execute_result"
    }
   ],
   "source": [
    "np.bincount(Y.values[:,1])"
   ]
  },
  {
   "cell_type": "code",
   "execution_count": 20,
   "metadata": {},
   "outputs": [
    {
     "data": {
      "text/plain": [
       "[5.038576459967705,\n",
       " 8.275122303703776,\n",
       " 19.99500464170461,\n",
       " 118.46371525594265,\n",
       " 559.0566037735849]"
      ]
     },
     "execution_count": 20,
     "metadata": {},
     "output_type": "execute_result"
    }
   ],
   "source": [
    "[np.max(np.bincount(Y.values[:,i]))/np.min(np.bincount(Y.values[:,i])) for i in range(5)]\n",
    "    "
   ]
  },
  {
   "cell_type": "markdown",
   "metadata": {},
   "source": [
    "# Check the Variance Inlfation Factor"
   ]
  },
  {
   "cell_type": "code",
   "execution_count": 15,
   "metadata": {},
   "outputs": [],
   "source": [
    "from statsmodels.stats.outliers_influence import variance_inflation_factor"
   ]
  },
  {
   "cell_type": "code",
   "execution_count": 35,
   "metadata": {},
   "outputs": [
    {
     "data": {
      "text/plain": [
       "array(['Harm_Evnt_FIXED OBJECT', 'Harm_Evnt_MOTOR VEHICLE IN TRANSPORT',\n",
       "       'Harm_Evnt_OTHER NON COLLISION', 'Harm_Evnt_OTHER OBJECT',\n",
       "       'Harm_Evnt_OVERTURNED', 'Harm_Evnt_PARKED CAR',\n",
       "       'Harm_Evnt_PEDALCYCLIST', 'Harm_Evnt_PEDESTRIAN',\n",
       "       'Harm_Evnt_RR TRAIN'], dtype=object)"
      ]
     },
     "execution_count": 35,
     "metadata": {},
     "output_type": "execute_result"
    }
   ],
   "source": [
    "vars =X.columns[[x.find('Harm')!=-1 for x in X.columns]].values\n",
    "vars"
   ]
  },
  {
   "cell_type": "code",
   "execution_count": 36,
   "metadata": {},
   "outputs": [],
   "source": [
    "vif = pd.DataFrame()\n",
    "vif[\"VIF Factor\"] = [variance_inflation_factor(X[vars].values, i) for i in range(X[vars].shape[1])]\n",
    "vif[\"features\"] = X[vars].columns"
   ]
  },
  {
   "cell_type": "code",
   "execution_count": 37,
   "metadata": {},
   "outputs": [
    {
     "data": {
      "text/html": [
       "<div>\n",
       "<style scoped>\n",
       "    .dataframe tbody tr th:only-of-type {\n",
       "        vertical-align: middle;\n",
       "    }\n",
       "\n",
       "    .dataframe tbody tr th {\n",
       "        vertical-align: top;\n",
       "    }\n",
       "\n",
       "    .dataframe thead th {\n",
       "        text-align: right;\n",
       "    }\n",
       "</style>\n",
       "<table border=\"1\" class=\"dataframe\">\n",
       "  <thead>\n",
       "    <tr style=\"text-align: right;\">\n",
       "      <th></th>\n",
       "      <th>VIF Factor</th>\n",
       "      <th>features</th>\n",
       "    </tr>\n",
       "  </thead>\n",
       "  <tbody>\n",
       "    <tr>\n",
       "      <th>0</th>\n",
       "      <td>0.0</td>\n",
       "      <td>Harm_Evnt_FIXED OBJECT</td>\n",
       "    </tr>\n",
       "    <tr>\n",
       "      <th>1</th>\n",
       "      <td>0.0</td>\n",
       "      <td>Harm_Evnt_MOTOR VEHICLE IN TRANSPORT</td>\n",
       "    </tr>\n",
       "    <tr>\n",
       "      <th>2</th>\n",
       "      <td>0.0</td>\n",
       "      <td>Harm_Evnt_OTHER NON COLLISION</td>\n",
       "    </tr>\n",
       "    <tr>\n",
       "      <th>3</th>\n",
       "      <td>0.1</td>\n",
       "      <td>Harm_Evnt_OTHER OBJECT</td>\n",
       "    </tr>\n",
       "    <tr>\n",
       "      <th>4</th>\n",
       "      <td>0.0</td>\n",
       "      <td>Harm_Evnt_OVERTURNED</td>\n",
       "    </tr>\n",
       "    <tr>\n",
       "      <th>5</th>\n",
       "      <td>0.0</td>\n",
       "      <td>Harm_Evnt_PARKED CAR</td>\n",
       "    </tr>\n",
       "    <tr>\n",
       "      <th>6</th>\n",
       "      <td>0.1</td>\n",
       "      <td>Harm_Evnt_PEDALCYCLIST</td>\n",
       "    </tr>\n",
       "    <tr>\n",
       "      <th>7</th>\n",
       "      <td>0.0</td>\n",
       "      <td>Harm_Evnt_PEDESTRIAN</td>\n",
       "    </tr>\n",
       "    <tr>\n",
       "      <th>8</th>\n",
       "      <td>1.0</td>\n",
       "      <td>Harm_Evnt_RR TRAIN</td>\n",
       "    </tr>\n",
       "  </tbody>\n",
       "</table>\n",
       "</div>"
      ],
      "text/plain": [
       "   VIF Factor                              features\n",
       "0         0.0                Harm_Evnt_FIXED OBJECT\n",
       "1         0.0  Harm_Evnt_MOTOR VEHICLE IN TRANSPORT\n",
       "2         0.0         Harm_Evnt_OTHER NON COLLISION\n",
       "3         0.1                Harm_Evnt_OTHER OBJECT\n",
       "4         0.0                  Harm_Evnt_OVERTURNED\n",
       "5         0.0                  Harm_Evnt_PARKED CAR\n",
       "6         0.1                Harm_Evnt_PEDALCYCLIST\n",
       "7         0.0                  Harm_Evnt_PEDESTRIAN\n",
       "8         1.0                    Harm_Evnt_RR TRAIN"
      ]
     },
     "execution_count": 37,
     "metadata": {},
     "output_type": "execute_result"
    }
   ],
   "source": [
    "vif.round(1)"
   ]
  },
  {
   "cell_type": "markdown",
   "metadata": {
    "id": "548Mc3Y4J1Ui"
   },
   "source": [
    "# Split the dataset"
   ]
  },
  {
   "cell_type": "code",
   "execution_count": 38,
   "metadata": {
    "ExecuteTime": {
     "end_time": "2020-05-22T16:59:05.664606Z",
     "start_time": "2020-05-22T16:59:02.721269Z"
    },
    "id": "5ERPlNBhJ1Ul"
   },
   "outputs": [],
   "source": [
    "from sklearn.model_selection import train_test_split"
   ]
  },
  {
   "cell_type": "markdown",
   "metadata": {},
   "source": [
    "`For quick test let use only 50% of the data set`"
   ]
  },
  {
   "cell_type": "code",
   "execution_count": 127,
   "metadata": {},
   "outputs": [],
   "source": [
    "X_new, _, y_new, _ = train_test_split(X.values,y,test_size=0.8,stratify=y, random_state=34)"
   ]
  },
  {
   "cell_type": "code",
   "execution_count": 128,
   "metadata": {
    "ExecuteTime": {
     "end_time": "2020-05-22T16:59:09.611226Z",
     "start_time": "2020-05-22T16:59:05.667561Z"
    },
    "colab": {
     "base_uri": "https://localhost:8080/",
     "height": 67
    },
    "id": "6dDdGqNSJ1Uo",
    "outputId": "6875e3ee-27de-4bbd-d90f-733533ba8b3d"
   },
   "outputs": [
    {
     "name": "stdout",
     "output_type": "stream",
     "text": [
      "Training features shape: (121580, 105)\n",
      "Validation features shape: (30396, 105)\n",
      "Test features shape: (37995, 105)\n"
     ]
    }
   ],
   "source": [
    "X_train, X_test, y_train, y_test = train_test_split(X_new,y_new,test_size=0.2,stratify=y_new, random_state=48)\n",
    "X_train, X_val, y_train, y_val = train_test_split(X_train,y_train,test_size=0.2,stratify=y_train, random_state=48)\n",
    "\n",
    "#X_train=np.array(X_train)\n",
    "#X_test=np.array(X_test)\n",
    "#X_val=np.array(X_val)\n",
    "\n",
    "print('Training features shape:', X_train.shape)\n",
    "print('Validation features shape:', X_val.shape)\n",
    "print('Test features shape:', X_test.shape)"
   ]
  },
  {
   "cell_type": "code",
   "execution_count": 129,
   "metadata": {
    "ExecuteTime": {
     "end_time": "2020-05-22T16:59:09.636676Z",
     "start_time": "2020-05-22T16:59:09.632683Z"
    },
    "id": "Lj2Ka9kMJ1U2"
   },
   "outputs": [],
   "source": [
    "# standardization\n",
    "from sklearn.preprocessing import StandardScaler"
   ]
  },
  {
   "cell_type": "code",
   "execution_count": 130,
   "metadata": {
    "ExecuteTime": {
     "end_time": "2020-05-22T16:59:11.789174Z",
     "start_time": "2020-05-22T16:59:09.640170Z"
    },
    "id": "BiA2g-qsJ1U6"
   },
   "outputs": [],
   "source": [
    "scaler = StandardScaler()\n",
    "\n",
    "X_train = scaler.fit_transform(X_train)\n",
    "X_val = scaler.transform(X_val)\n",
    "X_test = scaler.transform(X_test)"
   ]
  },
  {
   "cell_type": "markdown",
   "metadata": {},
   "source": [
    "# Check PCA"
   ]
  },
  {
   "cell_type": "code",
   "execution_count": 131,
   "metadata": {},
   "outputs": [],
   "source": [
    "from sklearn.decomposition import PCA"
   ]
  },
  {
   "cell_type": "code",
   "execution_count": 132,
   "metadata": {},
   "outputs": [
    {
     "name": "stdout",
     "output_type": "stream",
     "text": [
      "[0.04470007 0.0250638 ]\n",
      "[751.79915805 562.95183484]\n"
     ]
    }
   ],
   "source": [
    "pca = PCA(n_components=2)\n",
    "pca.fit(X_train)\n",
    "\n",
    "print(pca.explained_variance_ratio_)\n",
    "\n",
    "print(pca.singular_values_)"
   ]
  },
  {
   "cell_type": "code",
   "execution_count": 133,
   "metadata": {},
   "outputs": [],
   "source": [
    "X_pca = pca.transform(X_train)"
   ]
  },
  {
   "cell_type": "code",
   "execution_count": 134,
   "metadata": {},
   "outputs": [
    {
     "data": {
      "text/plain": [
       "<matplotlib.collections.PathCollection at 0x1bb875bef08>"
      ]
     },
     "execution_count": 134,
     "metadata": {},
     "output_type": "execute_result"
    },
    {
     "data": {
      "image/png": "[encoded data removed]",
      "text/plain": [
       "<Figure size 432x288 with 1 Axes>"
      ]
     },
     "metadata": {
      "needs_background": "light"
     },
     "output_type": "display_data"
    }
   ],
   "source": [
    "plt.scatter(X_pca[:,0],X_pca[:,1],c = y_train)"
   ]
  },
  {
   "cell_type": "code",
   "execution_count": 135,
   "metadata": {},
   "outputs": [
    {
     "name": "stdout",
     "output_type": "stream",
     "text": [
      "[0.04470007 0.02506624 0.0233805  0.02217317 0.01963672 0.01940705\n",
      " 0.01745024 0.01728264 0.01645799 0.01579719 0.01496927 0.0138584\n",
      " 0.01349937 0.01344123 0.01312755 0.01281707 0.01248232 0.01200948\n",
      " 0.01183558 0.01175247 0.01127424 0.01111899 0.01090612 0.01072356\n",
      " 0.01071212 0.01057567 0.01047408 0.01032301 0.0102581  0.01024714\n",
      " 0.01014607 0.01006945 0.01003375 0.0100164  0.01000307 0.0099492\n",
      " 0.00990207 0.00988816 0.00985859 0.00983392 0.00979454 0.00977891\n",
      " 0.00976464 0.00971942 0.00971509 0.00969156 0.00968297 0.00966592\n",
      " 0.00964826 0.00963058 0.00962653 0.00961224 0.00961033 0.00960633\n",
      " 0.0096043  0.00957514 0.00956379 0.00952624 0.00951178 0.0094801\n",
      " 0.00943441 0.00943131 0.00938587 0.00934867 0.00932773 0.00927446]\n"
     ]
    }
   ],
   "source": [
    "pca = PCA(0.8)\n",
    "X_train_pca = pca.fit_transform(X_train)\n",
    "print(pca.explained_variance_ratio_)"
   ]
  },
  {
   "cell_type": "code",
   "execution_count": 136,
   "metadata": {},
   "outputs": [
    {
     "data": {
      "text/plain": [
       "[<matplotlib.lines.Line2D at 0x1bb6619d8c8>]"
      ]
     },
     "execution_count": 136,
     "metadata": {},
     "output_type": "execute_result"
    },
    {
     "data": {
      "image/png": "[encoded data removed]",
      "text/plain": [
       "<Figure size 432x288 with 1 Axes>"
      ]
     },
     "metadata": {
      "needs_background": "light"
     },
     "output_type": "display_data"
    }
   ],
   "source": [
    "plt.plot(np.cumsum(pca.explained_variance_ratio_))"
   ]
  },
  {
   "cell_type": "code",
   "execution_count": 137,
   "metadata": {},
   "outputs": [
    {
     "data": {
      "text/plain": [
       "(121580, 2)"
      ]
     },
     "execution_count": 137,
     "metadata": {},
     "output_type": "execute_result"
    }
   ],
   "source": [
    "X_pca.shape"
   ]
  },
  {
   "cell_type": "code",
   "execution_count": 138,
   "metadata": {},
   "outputs": [
    {
     "data": {
      "text/plain": [
       "(37995, 66)"
      ]
     },
     "execution_count": 138,
     "metadata": {},
     "output_type": "execute_result"
    }
   ],
   "source": [
    "X_test_pca = pca.transform(X_test)\n",
    "X_test_pca.shape"
   ]
  },
  {
   "cell_type": "markdown",
   "metadata": {
    "id": "T3fWsSaRsUKY"
   },
   "source": [
    "# Mini function"
   ]
  },
  {
   "cell_type": "code",
   "execution_count": 139,
   "metadata": {
    "colab": {
     "base_uri": "https://localhost:8080/",
     "height": 138
    },
    "id": "IFQr2WAdsUKZ",
    "outputId": "92296e40-5d4e-4cea-8ac9-9d21dc4be6f6"
   },
   "outputs": [],
   "source": [
    "from sklearn.metrics import confusion_matrix\n",
    "import seaborn as sns\n",
    "from imblearn.metrics import geometric_mean_score\n",
    "from sklearn.metrics import auc"
   ]
  },
  {
   "cell_type": "code",
   "execution_count": 140,
   "metadata": {
    "colab": {
     "base_uri": "https://localhost:8080/",
     "height": 522
    },
    "id": "HJQtO1insUKd",
    "outputId": "e22e4e2a-fd47-4170-b216-f42bd3a5bf2b"
   },
   "outputs": [
    {
     "data": {
      "image/png": "[encoded data removed]",
      "text/plain": [
       "<Figure size 1008x432 with 4 Axes>"
      ]
     },
     "metadata": {
      "needs_background": "light"
     },
     "output_type": "display_data"
    },
    {
     "data": {
      "text/html": [
       "<div>\n",
       "<style scoped>\n",
       "    .dataframe tbody tr th:only-of-type {\n",
       "        vertical-align: middle;\n",
       "    }\n",
       "\n",
       "    .dataframe tbody tr th {\n",
       "        vertical-align: top;\n",
       "    }\n",
       "\n",
       "    .dataframe thead th {\n",
       "        text-align: right;\n",
       "    }\n",
       "</style>\n",
       "<table border=\"1\" class=\"dataframe\">\n",
       "  <thead>\n",
       "    <tr style=\"text-align: right;\">\n",
       "      <th></th>\n",
       "      <th>Class 0</th>\n",
       "      <th>Class 1</th>\n",
       "      <th>Class 2</th>\n",
       "      <th>Class 3</th>\n",
       "      <th>Class 4</th>\n",
       "      <th>Overall Accuracy</th>\n",
       "      <th>G-mean</th>\n",
       "    </tr>\n",
       "  </thead>\n",
       "  <tbody>\n",
       "    <tr>\n",
       "      <th>0</th>\n",
       "      <td>0.172414</td>\n",
       "      <td>0.142857</td>\n",
       "      <td>0.2</td>\n",
       "      <td>0.076923</td>\n",
       "      <td>0.045455</td>\n",
       "      <td>0.13</td>\n",
       "      <td>0.111488</td>\n",
       "    </tr>\n",
       "  </tbody>\n",
       "</table>\n",
       "</div>"
      ],
      "text/plain": [
       "    Class 0   Class 1  Class 2   Class 3   Class 4  Overall Accuracy    G-mean\n",
       "0  0.172414  0.142857      0.2  0.076923  0.045455              0.13  0.111488"
      ]
     },
     "execution_count": 140,
     "metadata": {},
     "output_type": "execute_result"
    }
   ],
   "source": [
    "def get_accs(label,prediction, show=True):\n",
    "    cm = confusion_matrix(label,prediction)\n",
    "    length = cm.shape[0]\n",
    "    num_cases = len(label)\n",
    "    # global accuracy\n",
    "    glb_acc = np.trace(cm)/len(label)\n",
    "    ind_accs = cm/np.sum(cm,axis=1)[:, np.newaxis]\n",
    "    accs = [ind_accs[i,i] for i in range(length)]\n",
    "    index = ['Class {}'.format(i) for i in range(length)]\n",
    "    #Global accuracy\n",
    "    accs.append(glb_acc)\n",
    "    index.append('Overall Accuracy')\n",
    "    # G-mean\n",
    "    accs.append(geometric_mean_score(label, prediction,correction=0.001))\n",
    "    index.append('G-mean')\n",
    "    if show:\n",
    "        plt.figure(figsize=(14, 6))\n",
    "        plt.subplot(1,2,1)\n",
    "        sns.heatmap(cm, xticklabels=np.arange(length), yticklabels=np.arange(length), \n",
    "                    annot=True, fmt='g',cmap=\"YlGnBu\")\n",
    "        plt.xlabel('Prediction')\n",
    "        plt.ylabel('Label')\n",
    "        plt.title('Confusion matrix')\n",
    "        plt.subplot(1,2,2)\n",
    "        sns.heatmap(ind_accs*100, xticklabels=np.arange(length), yticklabels=np.arange(length), \n",
    "                    annot=True, fmt='.2f',cmap=\"YlGnBu\")\n",
    "        plt.xlabel('Prediction')\n",
    "        plt.ylabel('Label')\n",
    "        plt.title('Normalized confusion matrix (%)')\n",
    "        plt.show()\n",
    "    out = np.array(accs).reshape(1,len(accs))\n",
    "    return pd.DataFrame(out,columns = index)\n",
    "get_accs(np.random.randint(5, size=100),np.random.randint(5, size=100))"
   ]
  },
  {
   "cell_type": "markdown",
   "metadata": {
    "id": "GMTGzb_rsUKj"
   },
   "source": [
    "# Applying traditional machine learning algorithms\n"
   ]
  },
  {
   "cell_type": "code",
   "execution_count": 144,
   "metadata": {
    "id": "UKZeZFOosUKk"
   },
   "outputs": [],
   "source": [
    "from sklearn.linear_model import LogisticRegression\n",
    "from sklearn.tree import DecisionTreeClassifier\n",
    "from sklearn.ensemble import RandomForestClassifier\n",
    "from sklearn.naive_bayes import GaussianNB\n",
    "from sklearn.linear_model import SGDClassifier\n",
    "from sklearn.naive_bayes import ComplementNB"
   ]
  },
  {
   "cell_type": "code",
   "execution_count": null,
   "metadata": {},
   "outputs": [],
   "source": []
  },
  {
   "cell_type": "code",
   "execution_count": 149,
   "metadata": {
    "colab": {
     "base_uri": "https://localhost:8080/",
     "height": 1000
    },
    "id": "AZIKlHjxsUKo",
    "outputId": "90e39237-790a-41fc-f26d-3ad4153c4e84"
   },
   "outputs": [
    {
     "name": "stdout",
     "output_type": "stream",
     "text": [
      "LR\n"
     ]
    },
    {
     "name": "stderr",
     "output_type": "stream",
     "text": [
      "C:\\Anaconda\\envs\\tf\\lib\\site-packages\\sklearn\\linear_model\\_logistic.py:764: ConvergenceWarning: lbfgs failed to converge (status=1):\n",
      "STOP: TOTAL NO. of ITERATIONS REACHED LIMIT.\n",
      "\n",
      "Increase the number of iterations (max_iter) or scale the data as shown in:\n",
      "    https://scikit-learn.org/stable/modules/preprocessing.html\n",
      "Please also refer to the documentation for alternative solver options:\n",
      "    https://scikit-learn.org/stable/modules/linear_model.html#logistic-regression\n",
      "  extra_warning_msg=_LOGISTIC_SOLVER_CONVERGENCE_MSG)\n"
     ]
    },
    {
     "data": {
      "image/png": "[encoded data removed]",
      "text/plain": [
       "<Figure size 1008x432 with 4 Axes>"
      ]
     },
     "metadata": {
      "needs_background": "light"
     },
     "output_type": "display_data"
    },
    {
     "name": "stdout",
     "output_type": "stream",
     "text": [
      "DT\n"
     ]
    },
    {
     "data": {
      "image/png": "[encoded data removed]",
      "text/plain": [
       "<Figure size 1008x432 with 4 Axes>"
      ]
     },
     "metadata": {
      "needs_background": "light"
     },
     "output_type": "display_data"
    },
    {
     "name": "stdout",
     "output_type": "stream",
     "text": [
      "RF\n"
     ]
    },
    {
     "data": {
      "image/png": "[encoded data removed]",
      "text/plain": [
       "<Figure size 1008x432 with 4 Axes>"
      ]
     },
     "metadata": {
      "needs_background": "light"
     },
     "output_type": "display_data"
    },
    {
     "data": {
      "text/html": [
       "<div>\n",
       "<style scoped>\n",
       "    .dataframe tbody tr th:only-of-type {\n",
       "        vertical-align: middle;\n",
       "    }\n",
       "\n",
       "    .dataframe tbody tr th {\n",
       "        vertical-align: top;\n",
       "    }\n",
       "\n",
       "    .dataframe thead th {\n",
       "        text-align: right;\n",
       "    }\n",
       "</style>\n",
       "<table border=\"1\" class=\"dataframe\">\n",
       "  <thead>\n",
       "    <tr style=\"text-align: right;\">\n",
       "      <th></th>\n",
       "      <th>Class 0</th>\n",
       "      <th>Class 1</th>\n",
       "      <th>Class 2</th>\n",
       "      <th>Class 3</th>\n",
       "      <th>Class 4</th>\n",
       "      <th>Overall Accuracy</th>\n",
       "      <th>G-mean</th>\n",
       "      <th>Training Time</th>\n",
       "    </tr>\n",
       "  </thead>\n",
       "  <tbody>\n",
       "    <tr>\n",
       "      <th>LR</th>\n",
       "      <td>0.476895</td>\n",
       "      <td>0.426025</td>\n",
       "      <td>0.152486</td>\n",
       "      <td>0.292453</td>\n",
       "      <td>0.691176</td>\n",
       "      <td>0.454797</td>\n",
       "      <td>0.362532</td>\n",
       "      <td>12.049</td>\n",
       "    </tr>\n",
       "    <tr>\n",
       "      <th>DT</th>\n",
       "      <td>0.833202</td>\n",
       "      <td>0.135254</td>\n",
       "      <td>0.088398</td>\n",
       "      <td>0.040881</td>\n",
       "      <td>0.132353</td>\n",
       "      <td>0.714594</td>\n",
       "      <td>0.140061</td>\n",
       "      <td>38.551</td>\n",
       "    </tr>\n",
       "    <tr>\n",
       "      <th>RF</th>\n",
       "      <td>0.377693</td>\n",
       "      <td>0.539307</td>\n",
       "      <td>0.087293</td>\n",
       "      <td>0.289308</td>\n",
       "      <td>0.735294</td>\n",
       "      <td>0.381182</td>\n",
       "      <td>0.327759</td>\n",
       "      <td>62.603</td>\n",
       "    </tr>\n",
       "  </tbody>\n",
       "</table>\n",
       "</div>"
      ],
      "text/plain": [
       "     Class 0   Class 1   Class 2   Class 3   Class 4  Overall Accuracy  \\\n",
       "LR  0.476895  0.426025  0.152486  0.292453  0.691176          0.454797   \n",
       "DT  0.833202  0.135254  0.088398  0.040881  0.132353          0.714594   \n",
       "RF  0.377693  0.539307  0.087293  0.289308  0.735294          0.381182   \n",
       "\n",
       "      G-mean  Training Time  \n",
       "LR  0.362532         12.049  \n",
       "DT  0.140061         38.551  \n",
       "RF  0.327759         62.603  "
      ]
     },
     "execution_count": 149,
     "metadata": {},
     "output_type": "execute_result"
    }
   ],
   "source": [
    "cls_wgt='balanced'\n",
    "LR = LogisticRegression(solver = 'lbfgs',class_weight=cls_wgt)\n",
    "DT = DecisionTreeClassifier(class_weight=cls_wgt)\n",
    "RF = RandomForestClassifier(max_depth=4,class_weight=cls_wgt)\n",
    "GNB = GaussianNB()\n",
    "#CNB = ComplementNB()\n",
    "SGD = SGDClassifier(loss=\"hinge\", penalty=\"l2\", max_iter=5,class_weight=cls_wgt)\n",
    "\n",
    "clfs = [LR,DT,RF]\n",
    "clf_names = ['LR','DT','RF']\n",
    "rsts = pd.DataFrame()\n",
    "for model, name in zip(clfs,clf_names):\n",
    "    start = time.time()\n",
    "    print(name)\n",
    "    model.fit(X_train_pca, y_train.values)\n",
    "    # use the model to make predictions with the test data\n",
    "    y_pred = model.predict(X_test_pca)\n",
    "    end= time.time()\n",
    "    # get the evaluation metrics\n",
    "    result = get_accs(y_test.values,y_pred,True)\n",
    "    result['Training Time'] = np.round(end-start,3)\n",
    "    result.index = [name]\n",
    "    rsts = rsts.append(result)\n",
    "rsts"
   ]
  },
  {
   "cell_type": "markdown",
   "metadata": {
    "colab": {
     "base_uri": "https://localhost:8080/",
     "height": 284
    },
    "id": "6VMnYifrsUKw",
    "outputId": "5c67a7cb-2045-4d7d-809e-0d2ab0a6732d"
   },
   "source": [
    "# 5 binary OneVsAll models"
   ]
  },
  {
   "cell_type": "code",
   "execution_count": 150,
   "metadata": {},
   "outputs": [
    {
     "data": {
      "text/html": [
       "<div>\n",
       "<style scoped>\n",
       "    .dataframe tbody tr th:only-of-type {\n",
       "        vertical-align: middle;\n",
       "    }\n",
       "\n",
       "    .dataframe tbody tr th {\n",
       "        vertical-align: top;\n",
       "    }\n",
       "\n",
       "    .dataframe thead th {\n",
       "        text-align: right;\n",
       "    }\n",
       "</style>\n",
       "<table border=\"1\" class=\"dataframe\">\n",
       "  <thead>\n",
       "    <tr style=\"text-align: right;\">\n",
       "      <th></th>\n",
       "      <th>0</th>\n",
       "      <th>1</th>\n",
       "      <th>2</th>\n",
       "      <th>3</th>\n",
       "      <th>4</th>\n",
       "    </tr>\n",
       "  </thead>\n",
       "  <tbody>\n",
       "    <tr>\n",
       "      <th>758019</th>\n",
       "      <td>0</td>\n",
       "      <td>1</td>\n",
       "      <td>0</td>\n",
       "      <td>0</td>\n",
       "      <td>0</td>\n",
       "    </tr>\n",
       "    <tr>\n",
       "      <th>567750</th>\n",
       "      <td>1</td>\n",
       "      <td>0</td>\n",
       "      <td>0</td>\n",
       "      <td>0</td>\n",
       "      <td>0</td>\n",
       "    </tr>\n",
       "    <tr>\n",
       "      <th>873022</th>\n",
       "      <td>1</td>\n",
       "      <td>0</td>\n",
       "      <td>0</td>\n",
       "      <td>0</td>\n",
       "      <td>0</td>\n",
       "    </tr>\n",
       "    <tr>\n",
       "      <th>413107</th>\n",
       "      <td>1</td>\n",
       "      <td>0</td>\n",
       "      <td>0</td>\n",
       "      <td>0</td>\n",
       "      <td>0</td>\n",
       "    </tr>\n",
       "    <tr>\n",
       "      <th>929259</th>\n",
       "      <td>0</td>\n",
       "      <td>0</td>\n",
       "      <td>1</td>\n",
       "      <td>0</td>\n",
       "      <td>0</td>\n",
       "    </tr>\n",
       "  </tbody>\n",
       "</table>\n",
       "</div>"
      ],
      "text/plain": [
       "        0  1  2  3  4\n",
       "758019  0  1  0  0  0\n",
       "567750  1  0  0  0  0\n",
       "873022  1  0  0  0  0\n",
       "413107  1  0  0  0  0\n",
       "929259  0  0  1  0  0"
      ]
     },
     "execution_count": 150,
     "metadata": {},
     "output_type": "execute_result"
    }
   ],
   "source": [
    "# Create labels matrix\n",
    "Y_train = pd.get_dummies(y_train)\n",
    "Y_train.head()"
   ]
  },
  {
   "cell_type": "code",
   "execution_count": 152,
   "metadata": {},
   "outputs": [
    {
     "data": {
      "text/html": [
       "<div>\n",
       "<style scoped>\n",
       "    .dataframe tbody tr th:only-of-type {\n",
       "        vertical-align: middle;\n",
       "    }\n",
       "\n",
       "    .dataframe tbody tr th {\n",
       "        vertical-align: top;\n",
       "    }\n",
       "\n",
       "    .dataframe thead th {\n",
       "        text-align: right;\n",
       "    }\n",
       "</style>\n",
       "<table border=\"1\" class=\"dataframe\">\n",
       "  <thead>\n",
       "    <tr style=\"text-align: right;\">\n",
       "      <th></th>\n",
       "      <th>0</th>\n",
       "      <th>1</th>\n",
       "      <th>2</th>\n",
       "      <th>3</th>\n",
       "      <th>4</th>\n",
       "    </tr>\n",
       "  </thead>\n",
       "  <tbody>\n",
       "    <tr>\n",
       "      <th>634996</th>\n",
       "      <td>1</td>\n",
       "      <td>0</td>\n",
       "      <td>0</td>\n",
       "      <td>0</td>\n",
       "      <td>0</td>\n",
       "    </tr>\n",
       "    <tr>\n",
       "      <th>283539</th>\n",
       "      <td>0</td>\n",
       "      <td>0</td>\n",
       "      <td>1</td>\n",
       "      <td>0</td>\n",
       "      <td>0</td>\n",
       "    </tr>\n",
       "    <tr>\n",
       "      <th>831831</th>\n",
       "      <td>0</td>\n",
       "      <td>0</td>\n",
       "      <td>1</td>\n",
       "      <td>0</td>\n",
       "      <td>0</td>\n",
       "    </tr>\n",
       "    <tr>\n",
       "      <th>239029</th>\n",
       "      <td>1</td>\n",
       "      <td>0</td>\n",
       "      <td>0</td>\n",
       "      <td>0</td>\n",
       "      <td>0</td>\n",
       "    </tr>\n",
       "    <tr>\n",
       "      <th>513022</th>\n",
       "      <td>1</td>\n",
       "      <td>0</td>\n",
       "      <td>0</td>\n",
       "      <td>0</td>\n",
       "      <td>0</td>\n",
       "    </tr>\n",
       "  </tbody>\n",
       "</table>\n",
       "</div>"
      ],
      "text/plain": [
       "        0  1  2  3  4\n",
       "634996  1  0  0  0  0\n",
       "283539  0  0  1  0  0\n",
       "831831  0  0  1  0  0\n",
       "239029  1  0  0  0  0\n",
       "513022  1  0  0  0  0"
      ]
     },
     "execution_count": 152,
     "metadata": {},
     "output_type": "execute_result"
    }
   ],
   "source": [
    "Y_test = pd.get_dummies(y_test)\n",
    "Y_test.head()"
   ]
  },
  {
   "cell_type": "code",
   "execution_count": 154,
   "metadata": {},
   "outputs": [
    {
     "data": {
      "text/plain": [
       "'Model 1 scored 0.23 for the train set and 2.34 for the test set.'"
      ]
     },
     "execution_count": 154,
     "metadata": {},
     "output_type": "execute_result"
    }
   ],
   "source": [
    "'Model {0} scored {1:.2f} for the train set and {2:.2f} for the test set.'.format(1,0.23434,2.34324)"
   ]
  },
  {
   "cell_type": "code",
   "execution_count": null,
   "metadata": {},
   "outputs": [],
   "source": []
  },
  {
   "cell_type": "code",
   "execution_count": 160,
   "metadata": {},
   "outputs": [
    {
     "name": "stderr",
     "output_type": "stream",
     "text": [
      "C:\\Anaconda\\envs\\tf\\lib\\site-packages\\sklearn\\linear_model\\_sag.py:330: ConvergenceWarning: The max_iter was reached which means the coef_ did not converge\n",
      "  \"the coef_ did not converge\", ConvergenceWarning)\n"
     ]
    },
    {
     "name": "stdout",
     "output_type": "stream",
     "text": [
      "Model 0 scored 0.60 for the train set and 0.60 for the test set.\n"
     ]
    },
    {
     "name": "stderr",
     "output_type": "stream",
     "text": [
      "C:\\Anaconda\\envs\\tf\\lib\\site-packages\\sklearn\\linear_model\\_sag.py:330: ConvergenceWarning: The max_iter was reached which means the coef_ did not converge\n",
      "  \"the coef_ did not converge\", ConvergenceWarning)\n"
     ]
    },
    {
     "name": "stdout",
     "output_type": "stream",
     "text": [
      "Model 1 scored 0.54 for the train set and 0.54 for the test set.\n"
     ]
    },
    {
     "name": "stderr",
     "output_type": "stream",
     "text": [
      "C:\\Anaconda\\envs\\tf\\lib\\site-packages\\sklearn\\linear_model\\_sag.py:330: ConvergenceWarning: The max_iter was reached which means the coef_ did not converge\n",
      "  \"the coef_ did not converge\", ConvergenceWarning)\n"
     ]
    },
    {
     "name": "stdout",
     "output_type": "stream",
     "text": [
      "Model 2 scored 0.64 for the train set and 0.63 for the test set.\n"
     ]
    },
    {
     "name": "stderr",
     "output_type": "stream",
     "text": [
      "C:\\Anaconda\\envs\\tf\\lib\\site-packages\\sklearn\\linear_model\\_sag.py:330: ConvergenceWarning: The max_iter was reached which means the coef_ did not converge\n",
      "  \"the coef_ did not converge\", ConvergenceWarning)\n"
     ]
    },
    {
     "name": "stdout",
     "output_type": "stream",
     "text": [
      "Model 3 scored 0.76 for the train set and 0.76 for the test set.\n",
      "Model 4 scored 0.91 for the train set and 0.91 for the test set.\n"
     ]
    },
    {
     "name": "stderr",
     "output_type": "stream",
     "text": [
      "C:\\Anaconda\\envs\\tf\\lib\\site-packages\\sklearn\\linear_model\\_sag.py:330: ConvergenceWarning: The max_iter was reached which means the coef_ did not converge\n",
      "  \"the coef_ did not converge\", ConvergenceWarning)\n"
     ]
    },
    {
     "data": {
      "text/plain": [
       "108.34000062942505"
      ]
     },
     "execution_count": 160,
     "metadata": {},
     "output_type": "execute_result"
    }
   ],
   "source": [
    "start = time.time()\n",
    "Y_pred = []\n",
    "for i in range(5):\n",
    "    LR = LogisticRegression(solver = 'saga',class_weight='balanced') \n",
    "    LR.fit(X_train_pca,Y_train.values[:,i])\n",
    "    score_train = LR.score(X_train_pca,Y_train.values[:,i])\n",
    "    score_test = LR.score(X_test_pca,Y_test.values[:,i])\n",
    "    Y_pred.append(LR.predict_proba(X_test_pca))\n",
    "    print('Model {0} scored {1:.2f} for the train set and {2:.2f} for the test set.'.format(i,score_train,score_test))  \n",
    "end = time.time()\n",
    "end-start"
   ]
  },
  {
   "cell_type": "code",
   "execution_count": 165,
   "metadata": {},
   "outputs": [],
   "source": [
    "Y_pred =np.array(Y_pred)"
   ]
  },
  {
   "cell_type": "code",
   "execution_count": 169,
   "metadata": {},
   "outputs": [
    {
     "data": {
      "text/plain": [
       "(5, 37995, 2)"
      ]
     },
     "execution_count": 169,
     "metadata": {},
     "output_type": "execute_result"
    }
   ],
   "source": [
    "Y_pred.shape"
   ]
  },
  {
   "cell_type": "code",
   "execution_count": 168,
   "metadata": {},
   "outputs": [
    {
     "data": {
      "text/plain": [
       "(5, 37995)"
      ]
     },
     "execution_count": 168,
     "metadata": {},
     "output_type": "execute_result"
    }
   ],
   "source": [
    "Y_pred[:,:,0].shape"
   ]
  },
  {
   "cell_type": "code",
   "execution_count": 175,
   "metadata": {},
   "outputs": [
    {
     "data": {
      "text/plain": [
       "array([3, 2, 3, ..., 4, 1, 0], dtype=int64)"
      ]
     },
     "execution_count": 175,
     "metadata": {},
     "output_type": "execute_result"
    }
   ],
   "source": [
    "y_pred = Y_pred[:,:,1].argmax(axis=0)\n",
    "y_pred"
   ]
  },
  {
   "cell_type": "code",
   "execution_count": 176,
   "metadata": {},
   "outputs": [
    {
     "data": {
      "image/png": "[encoded data removed]",
      "text/plain": [
       "<Figure size 1008x432 with 4 Axes>"
      ]
     },
     "metadata": {
      "needs_background": "light"
     },
     "output_type": "display_data"
    },
    {
     "data": {
      "text/html": [
       "<div>\n",
       "<style scoped>\n",
       "    .dataframe tbody tr th:only-of-type {\n",
       "        vertical-align: middle;\n",
       "    }\n",
       "\n",
       "    .dataframe tbody tr th {\n",
       "        vertical-align: top;\n",
       "    }\n",
       "\n",
       "    .dataframe thead th {\n",
       "        text-align: right;\n",
       "    }\n",
       "</style>\n",
       "<table border=\"1\" class=\"dataframe\">\n",
       "  <thead>\n",
       "    <tr style=\"text-align: right;\">\n",
       "      <th></th>\n",
       "      <th>Class 0</th>\n",
       "      <th>Class 1</th>\n",
       "      <th>Class 2</th>\n",
       "      <th>Class 3</th>\n",
       "      <th>Class 4</th>\n",
       "      <th>Overall Accuracy</th>\n",
       "      <th>G-mean</th>\n",
       "    </tr>\n",
       "  </thead>\n",
       "  <tbody>\n",
       "    <tr>\n",
       "      <th>0</th>\n",
       "      <td>0.522064</td>\n",
       "      <td>0.419922</td>\n",
       "      <td>0.139779</td>\n",
       "      <td>0.261006</td>\n",
       "      <td>0.705882</td>\n",
       "      <td>0.490986</td>\n",
       "      <td>0.355094</td>\n",
       "    </tr>\n",
       "  </tbody>\n",
       "</table>\n",
       "</div>"
      ],
      "text/plain": [
       "    Class 0   Class 1   Class 2   Class 3   Class 4  Overall Accuracy  \\\n",
       "0  0.522064  0.419922  0.139779  0.261006  0.705882          0.490986   \n",
       "\n",
       "     G-mean  \n",
       "0  0.355094  "
      ]
     },
     "execution_count": 176,
     "metadata": {},
     "output_type": "execute_result"
    }
   ],
   "source": [
    "get_accs(y_test.values,y_pred,True)"
   ]
  },
  {
   "cell_type": "code",
   "execution_count": null,
   "metadata": {},
   "outputs": [],
   "source": []
  },
  {
   "cell_type": "markdown",
   "metadata": {
    "id": "BcaKVTGuJ1Vm"
   },
   "source": [
    "# A simple MLP\n"
   ]
  },
  {
   "cell_type": "code",
   "execution_count": 59,
   "metadata": {
    "id": "fHiajEn4sUL8"
   },
   "outputs": [],
   "source": [
    "es = tf.keras.callbacks.EarlyStopping(monitor='val_accuracy', \n",
    "    verbose=1,\n",
    "    patience=10,\n",
    "    mode='max',\n",
    "    restore_best_weights=True)"
   ]
  },
  {
   "cell_type": "code",
   "execution_count": 60,
   "metadata": {
    "id": "vNyAJrNJsUMA"
   },
   "outputs": [],
   "source": [
    "MLP = tf.keras.Sequential([\n",
    "    keras.layers.Dense(5, activation='relu',input_dim=X_train.shape[1]),\n",
    "    keras.layers.Dropout(0.5),\n",
    "    keras.layers.Dense(5),\n",
    "])\n",
    "MLP.compile(optimizer='adam',\n",
    "              loss=tf.keras.losses.SparseCategoricalCrossentropy(from_logits=True),\n",
    "              metrics=['accuracy'])"
   ]
  },
  {
   "cell_type": "code",
   "execution_count": 61,
   "metadata": {
    "colab": {
     "base_uri": "https://localhost:8080/",
     "height": 1000
    },
    "id": "_WdVWSsqsUMH",
    "outputId": "e797eac0-c518-41ef-f6e4-4ff1a5072898"
   },
   "outputs": [
    {
     "name": "stdout",
     "output_type": "stream",
     "text": [
      "Train on 607907 samples, validate on 151977 samples\n",
      "Epoch 1/10\n",
      "607907/607907 [==============================] - 56s 93us/sample - loss: 0.6182 - accuracy: 0.8278 - val_loss: 0.5579 - val_accuracy: 0.8344\n",
      "Epoch 2/10\n",
      "607907/607907 [==============================] - 51s 84us/sample - loss: 0.5666 - accuracy: 0.8344 - val_loss: 0.5582 - val_accuracy: 0.8344\n",
      "Epoch 3/10\n",
      "607907/607907 [==============================] - 53s 87us/sample - loss: 0.5662 - accuracy: 0.8344 - val_loss: 0.5579 - val_accuracy: 0.8344\n",
      "Epoch 4/10\n",
      "607907/607907 [==============================] - 50s 81us/sample - loss: 0.5658 - accuracy: 0.8344 - val_loss: 0.5577 - val_accuracy: 0.8344\n",
      "Epoch 5/10\n",
      "607907/607907 [==============================] - 54s 89us/sample - loss: 0.5656 - accuracy: 0.8344 - val_loss: 0.5567 - val_accuracy: 0.8344\n",
      "Epoch 6/10\n",
      "607907/607907 [==============================] - 55s 90us/sample - loss: 0.5649 - accuracy: 0.8344 - val_loss: 0.5532 - val_accuracy: 0.8344\n",
      "Epoch 7/10\n",
      "607907/607907 [==============================] - 54s 89us/sample - loss: 0.5623 - accuracy: 0.8345 - val_loss: 0.5531 - val_accuracy: 0.8344\n",
      "Epoch 8/10\n",
      "607907/607907 [==============================] - 54s 89us/sample - loss: 0.5616 - accuracy: 0.8346 - val_loss: 0.5515 - val_accuracy: 0.8344\n",
      "Epoch 9/10\n",
      "607907/607907 [==============================] - 55s 91us/sample - loss: 0.5616 - accuracy: 0.8345 - val_loss: 0.5516 - val_accuracy: 0.8344\n",
      "Epoch 10/10\n",
      "607907/607907 [==============================] - 51s 84us/sample - loss: 0.5613 - accuracy: 0.8346 - val_loss: 0.5515 - val_accuracy: 0.8344\n"
     ]
    },
    {
     "data": {
      "image/png": "[encoded data removed]",
      "text/plain": [
       "<Figure size 1500x600 with 2 Axes>"
      ]
     },
     "metadata": {
      "needs_background": "light"
     },
     "output_type": "display_data"
    },
    {
     "data": {
      "image/png": "[encoded data removed]",
      "text/plain": [
       "<Figure size 1008x432 with 4 Axes>"
      ]
     },
     "metadata": {
      "needs_background": "light"
     },
     "output_type": "display_data"
    },
    {
     "data": {
      "text/html": [
       "<div>\n",
       "<style scoped>\n",
       "    .dataframe tbody tr th:only-of-type {\n",
       "        vertical-align: middle;\n",
       "    }\n",
       "\n",
       "    .dataframe tbody tr th {\n",
       "        vertical-align: top;\n",
       "    }\n",
       "\n",
       "    .dataframe thead th {\n",
       "        text-align: right;\n",
       "    }\n",
       "</style>\n",
       "<table border=\"1\" class=\"dataframe\">\n",
       "  <thead>\n",
       "    <tr style=\"text-align: right;\">\n",
       "      <th></th>\n",
       "      <th>LR</th>\n",
       "      <th>DT</th>\n",
       "      <th>RF</th>\n",
       "      <th>GNB-no weights</th>\n",
       "      <th>SGD</th>\n",
       "      <th>MLP</th>\n",
       "    </tr>\n",
       "  </thead>\n",
       "  <tbody>\n",
       "    <tr>\n",
       "      <th>Global accuracy</th>\n",
       "      <td>0.494683</td>\n",
       "      <td>0.713016</td>\n",
       "      <td>0.578712</td>\n",
       "      <td>0.057535</td>\n",
       "      <td>0.741193</td>\n",
       "      <td>0.834412</td>\n",
       "    </tr>\n",
       "    <tr>\n",
       "      <th>Class 1</th>\n",
       "      <td>0.523109</td>\n",
       "      <td>0.828770</td>\n",
       "      <td>0.648298</td>\n",
       "      <td>0.066594</td>\n",
       "      <td>0.876098</td>\n",
       "      <td>0.999994</td>\n",
       "    </tr>\n",
       "    <tr>\n",
       "      <th>Class 2</th>\n",
       "      <td>0.434723</td>\n",
       "      <td>0.151548</td>\n",
       "      <td>0.317547</td>\n",
       "      <td>0.000049</td>\n",
       "      <td>0.056440</td>\n",
       "      <td>0.000000</td>\n",
       "    </tr>\n",
       "    <tr>\n",
       "      <th>Class 3</th>\n",
       "      <td>0.147972</td>\n",
       "      <td>0.090507</td>\n",
       "      <td>0.012488</td>\n",
       "      <td>0.001989</td>\n",
       "      <td>0.021328</td>\n",
       "      <td>0.000442</td>\n",
       "    </tr>\n",
       "    <tr>\n",
       "      <th>Class 4</th>\n",
       "      <td>0.364780</td>\n",
       "      <td>0.057233</td>\n",
       "      <td>0.200629</td>\n",
       "      <td>0.013836</td>\n",
       "      <td>0.208176</td>\n",
       "      <td>0.000000</td>\n",
       "    </tr>\n",
       "    <tr>\n",
       "      <th>Class 5</th>\n",
       "      <td>0.690265</td>\n",
       "      <td>0.203540</td>\n",
       "      <td>0.707965</td>\n",
       "      <td>0.982301</td>\n",
       "      <td>0.749263</td>\n",
       "      <td>0.000000</td>\n",
       "    </tr>\n",
       "    <tr>\n",
       "      <th>G-mean</th>\n",
       "      <td>0.385129</td>\n",
       "      <td>0.167646</td>\n",
       "      <td>0.205349</td>\n",
       "      <td>0.009745</td>\n",
       "      <td>0.175078</td>\n",
       "      <td>0.003381</td>\n",
       "    </tr>\n",
       "    <tr>\n",
       "      <th>Training time</th>\n",
       "      <td>62.598436</td>\n",
       "      <td>57.618595</td>\n",
       "      <td>50.624689</td>\n",
       "      <td>3.853003</td>\n",
       "      <td>9.340441</td>\n",
       "      <td>538.243962</td>\n",
       "    </tr>\n",
       "  </tbody>\n",
       "</table>\n",
       "</div>"
      ],
      "text/plain": [
       "                        LR         DT         RF  GNB-no weights       SGD  \\\n",
       "Global accuracy   0.494683   0.713016   0.578712        0.057535  0.741193   \n",
       "Class 1           0.523109   0.828770   0.648298        0.066594  0.876098   \n",
       "Class 2           0.434723   0.151548   0.317547        0.000049  0.056440   \n",
       "Class 3           0.147972   0.090507   0.012488        0.001989  0.021328   \n",
       "Class 4           0.364780   0.057233   0.200629        0.013836  0.208176   \n",
       "Class 5           0.690265   0.203540   0.707965        0.982301  0.749263   \n",
       "G-mean            0.385129   0.167646   0.205349        0.009745  0.175078   \n",
       "Training time    62.598436  57.618595  50.624689        3.853003  9.340441   \n",
       "\n",
       "                        MLP  \n",
       "Global accuracy    0.834412  \n",
       "Class 1            0.999994  \n",
       "Class 2            0.000000  \n",
       "Class 3            0.000442  \n",
       "Class 4            0.000000  \n",
       "Class 5            0.000000  \n",
       "G-mean             0.003381  \n",
       "Training time    538.243962  "
      ]
     },
     "execution_count": 61,
     "metadata": {},
     "output_type": "execute_result"
    }
   ],
   "source": [
    "start = time.time()\n",
    "Monitor_MLP = MLP.fit(X_train, y_train, callbacks=[es],validation_data = (X_val,y_val), \n",
    "                      class_weight = cls_wgt, verbose = 1, epochs = 10)\n",
    "# use the model to make predictions with the test data\n",
    "y_pred = MLP.predict(X_test)\n",
    "y_pred = np.argmax(y_pred,axis=1)\n",
    "end= time.time()\n",
    "\n",
    "# Show evolution of the training process\n",
    "hist = pd.DataFrame(Monitor_MLP.history)\n",
    "fig, axes = plt.subplots(nrows=1, ncols=2,figsize=(10,4),dpi=150)\n",
    "hist[['loss','val_loss']].plot(ax=axes[0])\n",
    "hist[['accuracy','val_accuracy']].plot(ax=axes[1])\n",
    "plt.show()\n",
    "# get the evaluation metrics\n",
    "result = get_accs(y_test,y_pred,True)\n",
    "result.append(end-start)\n",
    "\n",
    "rsts['MLP'] = result\n",
    "rsts"
   ]
  },
  {
   "cell_type": "markdown",
   "metadata": {
    "id": "Gtu9Frk5Wg2W"
   },
   "source": [
    "# Variables\n"
   ]
  },
  {
   "cell_type": "code",
   "execution_count": 62,
   "metadata": {
    "colab": {
     "base_uri": "https://localhost:8080/",
     "height": 991
    },
    "id": "PKl1e9RwVCCk",
    "outputId": "e1821dd5-88e3-4ec2-eeb3-cf3545c9abff"
   },
   "outputs": [
    {
     "name": "stdout",
     "output_type": "stream",
     "text": [
      "Variable                 Type                      Data/Info\n",
      "------------------------------------------------------------\n",
      "ComplementNB             ABCMeta                   <class 'sklearn.naive_bayes.ComplementNB'>\n",
      "DT                       DecisionTreeClassifier    DecisionTreeClassifier(cl<...>alanced', random_state=0)\n",
      "DecisionTreeClassifier   ABCMeta                   <class 'sklearn.tree._cla<...>.DecisionTreeClassifier'>\n",
      "GNB                      GaussianNB                GaussianNB()\n",
      "GaussianNB               ABCMeta                   <class 'sklearn.naive_bayes.GaussianNB'>\n",
      "LR                       LogisticRegression        LogisticRegression(class_weight='balanced')\n",
      "LogisticRegression       type                      <class 'sklearn.linear_mo<...>stic.LogisticRegression'>\n",
      "MLP                      Sequential                <tensorflow.python.keras.<...>ct at 0x0000020A081FCA48>\n",
      "Monitor_MLP              History                   <tensorflow.python.keras.<...>ct at 0x0000020A186A3DC8>\n",
      "OneHotEncoder            type                      <class 'sklearn.preproces<...>_encoders.OneHotEncoder'>\n",
      "RF                       RandomForestClassifier    RandomForestClassifier(cl<...>_depth=2, random_state=0)\n",
      "RandomForestClassifier   ABCMeta                   <class 'sklearn.ensemble.<...>.RandomForestClassifier'>\n",
      "SGD                      SGDClassifier             SGDClassifier(class_weigh<...>t='balanced', max_iter=5)\n",
      "SGDClassifier            ABCMeta                   <class 'sklearn.linear_mo<...>_gradient.SGDClassifier'>\n",
      "StandardScaler           type                      <class 'sklearn.preproces<...>ng._data.StandardScaler'>\n",
      "X                        ndarray                   949856x105: 99734880 elems, type `float64`, 797879040 bytes (760.916748046875 Mb)\n",
      "X_test                   ndarray                   189972x105: 19947060 elems, type `float64`, 159576480 bytes (152.18399047851562 Mb)\n",
      "X_train                  ndarray                   607907x105: 63830235 elems, type `float64`, 510641880 bytes (486.98604583740234 Mb)\n",
      "X_val                    ndarray                   151977x105: 15957585 elems, type `float64`, 127660680 bytes (121.74671173095703 Mb)\n",
      "auc                      function                  <function auc at 0x0000020A072848B8>\n",
      "axes                     ndarray                   2: 2 elems, type `object`, 16 bytes\n",
      "cate_vars                ndarray                   11: 11 elems, type `object`, 88 bytes\n",
      "clf_names                list                      n=5\n",
      "clfs                     list                      n=5\n",
      "cls                      int32                     4\n",
      "cls_wgt                  str                       balanced\n",
      "compute_class_weight     function                  <function compute_class_w<...>ht at 0x0000020A06E02DC8>\n",
      "confusion_matrix         function                  <function confusion_matrix at 0x0000020A07293CA8>\n",
      "df                       DataFrame                         Prsn_Injry_Sev  P<...>949856 rows x 19 columns]\n",
      "drop_enc                 ndarray                   949856x98: 93085888 elems, type `float64`, 744687104 bytes (710.18896484375 Mb)\n",
      "end                      float                     1605152608.0189095\n",
      "es                       EarlyStopping             <tensorflow.python.keras.<...>ct at 0x0000020A1E325588>\n",
      "feats                    Index                     Index(['Prsn_Age', 'Prsn_<...>],\\n      dtype='object')\n",
      "fig                      Figure                    Figure(1500x600)\n",
      "geometric_mean_score     function                  <function geometric_mean_<...>re at 0x0000020A081E9048>\n",
      "get_accs                 function                  <function get_accs at 0x0000020A08214168>\n",
      "hist                     DataFrame                        loss  accuracy  va<...>8  0.551539      0.834416\n",
      "index                    list                      n=8\n",
      "keras                    module                    <module 'tensorflow_core.<...>_v2\\\\keras\\\\__init__.py'>\n",
      "model                    SGDClassifier             SGDClassifier(class_weigh<...>t='balanced', max_iter=5)\n",
      "name                     str                       SGD\n",
      "np                       module                    <module 'numpy' from 'C:\\<...>ges\\\\numpy\\\\__init__.py'>\n",
      "num_vars                 ndarray                   7: 7 elems, type `object`, 56 bytes\n",
      "pd                       module                    <module 'pandas' from 'C:<...>es\\\\pandas\\\\__init__.py'>\n",
      "plt                      module                    <module 'matplotlib.pyplo<...>\\\\matplotlib\\\\pyplot.py'>\n",
      "result                   list                      n=8\n",
      "rsts                     DataFrame                                         L<...>ning time    538.243962  \n",
      "scaler                   StandardScaler            StandardScaler()\n",
      "sns                      module                    <module 'seaborn' from 'C<...>s\\\\seaborn\\\\__init__.py'>\n",
      "start                    float                     1605152069.7749474\n",
      "tf                       module                    <module 'tensorflow' from<...>tensorflow\\\\__init__.py'>\n",
      "time                     module                    <module 'time' (built-in)>\n",
      "train_test_split         function                  <function train_test_split at 0x0000020A0727E9D8>\n",
      "weight                   float64                   112.01132075471698\n",
      "weights                  ndarray                   5: 5 elems, type `float64`, 40 bytes\n",
      "y                        Series                    0         0\\n1         0\\<...>gth: 949856, dtype: int64\n",
      "y_pred                   ndarray                   189972: 189972 elems, type `int64`, 1519776 bytes (1.449371337890625 Mb)\n",
      "y_test                   Series                    491027    3\\n526876    0\\<...>gth: 189972, dtype: int64\n",
      "y_train                  Series                    213874    1\\n574877    0\\<...>gth: 607907, dtype: int64\n",
      "y_val                    Series                    831539    0\\n378740    0\\<...>gth: 151977, dtype: int64\n"
     ]
    }
   ],
   "source": [
    "%whos"
   ]
  }
 ],
 "metadata": {
  "colab": {
   "collapsed_sections": [],
   "include_colab_link": true,
   "name": "VCA_2_1_Simple_clfs_weights.ipynb",
   "provenance": [],
   "toc_visible": true
  },
  "kernelspec": {
   "display_name": "Python 3",
   "language": "python",
   "name": "python3"
  },
  "language_info": {
   "codemirror_mode": {
    "name": "ipython",
    "version": 3
   },
   "file_extension": ".py",
   "mimetype": "text/x-python",
   "name": "python",
   "nbconvert_exporter": "python",
   "pygments_lexer": "ipython3",
   "version": "3.7.7"
  },
  "toc": {
   "base_numbering": 1,
   "nav_menu": {},
   "number_sections": true,
   "sideBar": true,
   "skip_h1_title": false,
   "title_cell": "Table of Contents",
   "title_sidebar": "Contents",
   "toc_cell": false,
   "toc_position": {},
   "toc_section_display": true,
   "toc_window_display": true
  }
 },
 "nbformat": 4,
 "nbformat_minor": 4
}
